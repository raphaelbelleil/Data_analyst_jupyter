{
 "cells": [
  {
   "cell_type": "markdown",
   "id": "d04b69ac",
   "metadata": {},
   "source": [
    "# Projet 10 : Détectez des faux billets avec Python"
   ]
  },
  {
   "cell_type": "markdown",
   "id": "c5867e58",
   "metadata": {},
   "source": [
    "## Sommaire<a id='sommaire'></a>\n",
    "<ol><li><a href=\"#nettoyage\">Nettoyage et Analyse</a></li>\n",
    "        <ol>\n",
    "            <li><a href=\"#reglineaire\">Traitement des valeurs manquantes avec la régression linéaire</a></li>\n",
    "        </ol>\n",
    "    <li><a href=\"#exploration\">Exploration</a></li> \n",
    "        <ol>\n",
    "            <li><a href=\"#univar\">Analyses univariées</a></li>\n",
    "            <li><a href=\"#testhyp\">Test d'hypothèse</a></li>\n",
    "        </ol>\n",
    "    <li><a href=\"#modelisation\">Modélisation</a></li> \n",
    "        <ol>\n",
    "            <li><a href=\"#reglogsklearn\">Régression Logistique avec sklearn</a></li>\n",
    "            <li><a href=\"#reglogstatmodel\">Régression Logistique avec statmodels</a></li>\n",
    "            <li><a href=\"#kmeans\">Kmeans</a></li>\n",
    "        </ol>\n",
    "    <li><a href=\"#evalfinal\">Evaluation finale</a></li> \n",
    "        <ol>\n",
    "            <li><a href=\"#fonctpred\">Fonction de prédiction</a></li>\n",
    "        </ol>\n",
    "</ol>"
   ]
  },
  {
   "cell_type": "markdown",
   "id": "fc8f5cb9",
   "metadata": {},
   "source": [
    "## Import des librairies"
   ]
  },
  {
   "cell_type": "code",
   "execution_count": 250,
   "id": "d13f2a07",
   "metadata": {},
   "outputs": [],
   "source": [
    "import pandas as pd\n",
    "import numpy as np\n",
    "import matplotlib.pyplot as plt\n",
    "import seaborn as sns\n",
    "\n",
    "import warnings\n",
    "warnings.simplefilter('ignore')"
   ]
  },
  {
   "cell_type": "code",
   "execution_count": 251,
   "id": "84638e34",
   "metadata": {},
   "outputs": [],
   "source": [
    "from itertools import chain"
   ]
  },
  {
   "cell_type": "code",
   "execution_count": 252,
   "id": "f9382f92",
   "metadata": {},
   "outputs": [],
   "source": [
    "from functions import backward_selected"
   ]
  },
  {
   "cell_type": "code",
   "execution_count": 253,
   "id": "f9f28341",
   "metadata": {},
   "outputs": [],
   "source": [
    "from scipy.stats import levene, ttest_ind, shapiro, bartlett\n",
    "from scipy.spatial.distance import mahalanobis\n",
    "import scipy.stats as st"
   ]
  },
  {
   "cell_type": "code",
   "execution_count": 254,
   "id": "129963cf",
   "metadata": {},
   "outputs": [],
   "source": [
    "import statsmodels.api as sm\n",
    "from statsmodels.stats.outliers_influence import variance_inflation_factor"
   ]
  },
  {
   "cell_type": "code",
   "execution_count": 255,
   "id": "e9693023",
   "metadata": {},
   "outputs": [],
   "source": [
    "from sklearn.model_selection import train_test_split\n",
    "from sklearn.model_selection import learning_curve\n",
    "from sklearn.metrics import f1_score, confusion_matrix, classification_report, r2_score, roc_curve, roc_auc_score\n",
    "from sklearn.preprocessing import StandardScaler"
   ]
  },
  {
   "cell_type": "code",
   "execution_count": 256,
   "id": "86e655da",
   "metadata": {},
   "outputs": [],
   "source": [
    "from sklearn.linear_model import LinearRegression, LogisticRegression, LogisticRegressionCV\n",
    "from sklearn.cluster import KMeans\n",
    "from sklearn.ensemble import IsolationForest"
   ]
  },
  {
   "cell_type": "code",
   "execution_count": 257,
   "id": "8e8eb618",
   "metadata": {},
   "outputs": [],
   "source": [
    "folder = 'D:/Data_Analyst_Projet/Projet 10/Données/'"
   ]
  },
  {
   "cell_type": "code",
   "execution_count": 258,
   "id": "aad83685",
   "metadata": {},
   "outputs": [
    {
     "data": {
      "text/html": [
       "<div>\n",
       "<style scoped>\n",
       "    .dataframe tbody tr th:only-of-type {\n",
       "        vertical-align: middle;\n",
       "    }\n",
       "\n",
       "    .dataframe tbody tr th {\n",
       "        vertical-align: top;\n",
       "    }\n",
       "\n",
       "    .dataframe thead th {\n",
       "        text-align: right;\n",
       "    }\n",
       "</style>\n",
       "<table border=\"1\" class=\"dataframe\">\n",
       "  <thead>\n",
       "    <tr style=\"text-align: right;\">\n",
       "      <th></th>\n",
       "      <th>is_genuine</th>\n",
       "      <th>diagonal</th>\n",
       "      <th>height_left</th>\n",
       "      <th>height_right</th>\n",
       "      <th>margin_low</th>\n",
       "      <th>margin_up</th>\n",
       "      <th>length</th>\n",
       "    </tr>\n",
       "  </thead>\n",
       "  <tbody>\n",
       "    <tr>\n",
       "      <th>0</th>\n",
       "      <td>True</td>\n",
       "      <td>171.81</td>\n",
       "      <td>104.86</td>\n",
       "      <td>104.95</td>\n",
       "      <td>4.52</td>\n",
       "      <td>2.89</td>\n",
       "      <td>112.83</td>\n",
       "    </tr>\n",
       "    <tr>\n",
       "      <th>1</th>\n",
       "      <td>True</td>\n",
       "      <td>171.46</td>\n",
       "      <td>103.36</td>\n",
       "      <td>103.66</td>\n",
       "      <td>3.77</td>\n",
       "      <td>2.99</td>\n",
       "      <td>113.09</td>\n",
       "    </tr>\n",
       "    <tr>\n",
       "      <th>2</th>\n",
       "      <td>True</td>\n",
       "      <td>172.69</td>\n",
       "      <td>104.48</td>\n",
       "      <td>103.50</td>\n",
       "      <td>4.40</td>\n",
       "      <td>2.94</td>\n",
       "      <td>113.16</td>\n",
       "    </tr>\n",
       "    <tr>\n",
       "      <th>3</th>\n",
       "      <td>True</td>\n",
       "      <td>171.36</td>\n",
       "      <td>103.91</td>\n",
       "      <td>103.94</td>\n",
       "      <td>3.62</td>\n",
       "      <td>3.01</td>\n",
       "      <td>113.51</td>\n",
       "    </tr>\n",
       "    <tr>\n",
       "      <th>4</th>\n",
       "      <td>True</td>\n",
       "      <td>171.73</td>\n",
       "      <td>104.28</td>\n",
       "      <td>103.46</td>\n",
       "      <td>4.04</td>\n",
       "      <td>3.48</td>\n",
       "      <td>112.54</td>\n",
       "    </tr>\n",
       "  </tbody>\n",
       "</table>\n",
       "</div>"
      ],
      "text/plain": [
       "   is_genuine  diagonal  height_left  height_right  margin_low  margin_up  \\\n",
       "0        True    171.81       104.86        104.95        4.52       2.89   \n",
       "1        True    171.46       103.36        103.66        3.77       2.99   \n",
       "2        True    172.69       104.48        103.50        4.40       2.94   \n",
       "3        True    171.36       103.91        103.94        3.62       3.01   \n",
       "4        True    171.73       104.28        103.46        4.04       3.48   \n",
       "\n",
       "   length  \n",
       "0  112.83  \n",
       "1  113.09  \n",
       "2  113.16  \n",
       "3  113.51  \n",
       "4  112.54  "
      ]
     },
     "execution_count": 258,
     "metadata": {},
     "output_type": "execute_result"
    }
   ],
   "source": [
    "# import des données\n",
    "data = pd.read_csv(folder+'billets.csv', delimiter=';')\n",
    "data.head()"
   ]
  },
  {
   "cell_type": "code",
   "execution_count": 259,
   "id": "d6dca17e",
   "metadata": {},
   "outputs": [
    {
     "data": {
      "text/plain": [
       "Index(['is_genuine', 'diagonal', 'height_left', 'height_right', 'margin_low',\n",
       "       'margin_up', 'length'],\n",
       "      dtype='object')"
      ]
     },
     "execution_count": 259,
     "metadata": {},
     "output_type": "execute_result"
    }
   ],
   "source": [
    "data.columns"
   ]
  },
  {
   "cell_type": "markdown",
   "id": "b0977c94",
   "metadata": {},
   "source": [
    "<a id='nettoyage' ></a>\n",
    "# Nettoyage et Analyse<a href=\"#sommaire\" style=\"font-size : 10px ; padding-left:10px\">Retour Sommaire</a>\n",
    "**Traitement des valeurs manquantes.**"
   ]
  },
  {
   "cell_type": "code",
   "execution_count": 260,
   "id": "7d78b556",
   "metadata": {},
   "outputs": [
    {
     "name": "stdout",
     "output_type": "stream",
     "text": [
      "<class 'pandas.core.frame.DataFrame'>\n",
      "RangeIndex: 1500 entries, 0 to 1499\n",
      "Data columns (total 7 columns):\n",
      " #   Column        Non-Null Count  Dtype  \n",
      "---  ------        --------------  -----  \n",
      " 0   is_genuine    1500 non-null   bool   \n",
      " 1   diagonal      1500 non-null   float64\n",
      " 2   height_left   1500 non-null   float64\n",
      " 3   height_right  1500 non-null   float64\n",
      " 4   margin_low    1463 non-null   float64\n",
      " 5   margin_up     1500 non-null   float64\n",
      " 6   length        1500 non-null   float64\n",
      "dtypes: bool(1), float64(6)\n",
      "memory usage: 71.9 KB\n"
     ]
    }
   ],
   "source": [
    "data.info()"
   ]
  },
  {
   "cell_type": "code",
   "execution_count": 261,
   "id": "9d65be1c",
   "metadata": {},
   "outputs": [
    {
     "data": {
      "text/plain": [
       "True     1000\n",
       "False     500\n",
       "Name: is_genuine, dtype: int64"
      ]
     },
     "execution_count": 261,
     "metadata": {},
     "output_type": "execute_result"
    }
   ],
   "source": [
    "data['is_genuine'].value_counts()"
   ]
  },
  {
   "cell_type": "markdown",
   "id": "640d88f3",
   "metadata": {},
   "source": [
    "**1000 vrais billets et 500 faux billets.**"
   ]
  },
  {
   "cell_type": "code",
   "execution_count": 262,
   "id": "c9f73421",
   "metadata": {},
   "outputs": [
    {
     "data": {
      "text/html": [
       "<div>\n",
       "<style scoped>\n",
       "    .dataframe tbody tr th:only-of-type {\n",
       "        vertical-align: middle;\n",
       "    }\n",
       "\n",
       "    .dataframe tbody tr th {\n",
       "        vertical-align: top;\n",
       "    }\n",
       "\n",
       "    .dataframe thead th {\n",
       "        text-align: right;\n",
       "    }\n",
       "</style>\n",
       "<table border=\"1\" class=\"dataframe\">\n",
       "  <thead>\n",
       "    <tr style=\"text-align: right;\">\n",
       "      <th></th>\n",
       "      <th>is_genuine</th>\n",
       "      <th>diagonal</th>\n",
       "      <th>height_left</th>\n",
       "      <th>height_right</th>\n",
       "      <th>margin_low</th>\n",
       "      <th>margin_up</th>\n",
       "      <th>length</th>\n",
       "    </tr>\n",
       "  </thead>\n",
       "  <tbody>\n",
       "    <tr>\n",
       "      <th>72</th>\n",
       "      <td>True</td>\n",
       "      <td>171.94</td>\n",
       "      <td>103.89</td>\n",
       "      <td>103.45</td>\n",
       "      <td>NaN</td>\n",
       "      <td>3.25</td>\n",
       "      <td>112.79</td>\n",
       "    </tr>\n",
       "    <tr>\n",
       "      <th>99</th>\n",
       "      <td>True</td>\n",
       "      <td>171.93</td>\n",
       "      <td>104.07</td>\n",
       "      <td>104.18</td>\n",
       "      <td>NaN</td>\n",
       "      <td>3.14</td>\n",
       "      <td>113.08</td>\n",
       "    </tr>\n",
       "    <tr>\n",
       "      <th>151</th>\n",
       "      <td>True</td>\n",
       "      <td>172.07</td>\n",
       "      <td>103.80</td>\n",
       "      <td>104.38</td>\n",
       "      <td>NaN</td>\n",
       "      <td>3.02</td>\n",
       "      <td>112.93</td>\n",
       "    </tr>\n",
       "    <tr>\n",
       "      <th>197</th>\n",
       "      <td>True</td>\n",
       "      <td>171.45</td>\n",
       "      <td>103.66</td>\n",
       "      <td>103.80</td>\n",
       "      <td>NaN</td>\n",
       "      <td>3.62</td>\n",
       "      <td>113.27</td>\n",
       "    </tr>\n",
       "    <tr>\n",
       "      <th>241</th>\n",
       "      <td>True</td>\n",
       "      <td>171.83</td>\n",
       "      <td>104.14</td>\n",
       "      <td>104.06</td>\n",
       "      <td>NaN</td>\n",
       "      <td>3.02</td>\n",
       "      <td>112.36</td>\n",
       "    </tr>\n",
       "    <tr>\n",
       "      <th>251</th>\n",
       "      <td>True</td>\n",
       "      <td>171.80</td>\n",
       "      <td>103.26</td>\n",
       "      <td>102.82</td>\n",
       "      <td>NaN</td>\n",
       "      <td>2.95</td>\n",
       "      <td>113.22</td>\n",
       "    </tr>\n",
       "    <tr>\n",
       "      <th>284</th>\n",
       "      <td>True</td>\n",
       "      <td>171.92</td>\n",
       "      <td>103.83</td>\n",
       "      <td>103.76</td>\n",
       "      <td>NaN</td>\n",
       "      <td>3.23</td>\n",
       "      <td>113.29</td>\n",
       "    </tr>\n",
       "    <tr>\n",
       "      <th>334</th>\n",
       "      <td>True</td>\n",
       "      <td>171.85</td>\n",
       "      <td>103.70</td>\n",
       "      <td>103.96</td>\n",
       "      <td>NaN</td>\n",
       "      <td>3.00</td>\n",
       "      <td>113.36</td>\n",
       "    </tr>\n",
       "    <tr>\n",
       "      <th>410</th>\n",
       "      <td>True</td>\n",
       "      <td>172.56</td>\n",
       "      <td>103.72</td>\n",
       "      <td>103.51</td>\n",
       "      <td>NaN</td>\n",
       "      <td>3.12</td>\n",
       "      <td>112.95</td>\n",
       "    </tr>\n",
       "    <tr>\n",
       "      <th>413</th>\n",
       "      <td>True</td>\n",
       "      <td>172.30</td>\n",
       "      <td>103.66</td>\n",
       "      <td>103.50</td>\n",
       "      <td>NaN</td>\n",
       "      <td>3.16</td>\n",
       "      <td>112.95</td>\n",
       "    </tr>\n",
       "    <tr>\n",
       "      <th>445</th>\n",
       "      <td>True</td>\n",
       "      <td>172.34</td>\n",
       "      <td>104.42</td>\n",
       "      <td>103.22</td>\n",
       "      <td>NaN</td>\n",
       "      <td>3.01</td>\n",
       "      <td>112.97</td>\n",
       "    </tr>\n",
       "    <tr>\n",
       "      <th>481</th>\n",
       "      <td>True</td>\n",
       "      <td>171.81</td>\n",
       "      <td>103.53</td>\n",
       "      <td>103.96</td>\n",
       "      <td>NaN</td>\n",
       "      <td>2.71</td>\n",
       "      <td>113.99</td>\n",
       "    </tr>\n",
       "    <tr>\n",
       "      <th>505</th>\n",
       "      <td>True</td>\n",
       "      <td>172.01</td>\n",
       "      <td>103.97</td>\n",
       "      <td>104.05</td>\n",
       "      <td>NaN</td>\n",
       "      <td>2.98</td>\n",
       "      <td>113.65</td>\n",
       "    </tr>\n",
       "    <tr>\n",
       "      <th>611</th>\n",
       "      <td>True</td>\n",
       "      <td>171.80</td>\n",
       "      <td>103.68</td>\n",
       "      <td>103.49</td>\n",
       "      <td>NaN</td>\n",
       "      <td>3.30</td>\n",
       "      <td>112.84</td>\n",
       "    </tr>\n",
       "    <tr>\n",
       "      <th>654</th>\n",
       "      <td>True</td>\n",
       "      <td>171.97</td>\n",
       "      <td>103.69</td>\n",
       "      <td>103.54</td>\n",
       "      <td>NaN</td>\n",
       "      <td>2.70</td>\n",
       "      <td>112.79</td>\n",
       "    </tr>\n",
       "    <tr>\n",
       "      <th>675</th>\n",
       "      <td>True</td>\n",
       "      <td>171.60</td>\n",
       "      <td>103.85</td>\n",
       "      <td>103.91</td>\n",
       "      <td>NaN</td>\n",
       "      <td>2.56</td>\n",
       "      <td>113.27</td>\n",
       "    </tr>\n",
       "    <tr>\n",
       "      <th>710</th>\n",
       "      <td>True</td>\n",
       "      <td>172.03</td>\n",
       "      <td>103.97</td>\n",
       "      <td>103.86</td>\n",
       "      <td>NaN</td>\n",
       "      <td>3.07</td>\n",
       "      <td>112.65</td>\n",
       "    </tr>\n",
       "    <tr>\n",
       "      <th>739</th>\n",
       "      <td>True</td>\n",
       "      <td>172.07</td>\n",
       "      <td>103.74</td>\n",
       "      <td>103.76</td>\n",
       "      <td>NaN</td>\n",
       "      <td>3.09</td>\n",
       "      <td>112.41</td>\n",
       "    </tr>\n",
       "    <tr>\n",
       "      <th>742</th>\n",
       "      <td>True</td>\n",
       "      <td>172.14</td>\n",
       "      <td>104.06</td>\n",
       "      <td>103.96</td>\n",
       "      <td>NaN</td>\n",
       "      <td>3.24</td>\n",
       "      <td>113.07</td>\n",
       "    </tr>\n",
       "    <tr>\n",
       "      <th>780</th>\n",
       "      <td>True</td>\n",
       "      <td>172.41</td>\n",
       "      <td>103.95</td>\n",
       "      <td>103.79</td>\n",
       "      <td>NaN</td>\n",
       "      <td>3.13</td>\n",
       "      <td>113.41</td>\n",
       "    </tr>\n",
       "    <tr>\n",
       "      <th>798</th>\n",
       "      <td>True</td>\n",
       "      <td>171.96</td>\n",
       "      <td>103.84</td>\n",
       "      <td>103.62</td>\n",
       "      <td>NaN</td>\n",
       "      <td>3.01</td>\n",
       "      <td>114.44</td>\n",
       "    </tr>\n",
       "    <tr>\n",
       "      <th>844</th>\n",
       "      <td>True</td>\n",
       "      <td>171.62</td>\n",
       "      <td>104.14</td>\n",
       "      <td>104.49</td>\n",
       "      <td>NaN</td>\n",
       "      <td>2.99</td>\n",
       "      <td>113.35</td>\n",
       "    </tr>\n",
       "    <tr>\n",
       "      <th>845</th>\n",
       "      <td>True</td>\n",
       "      <td>172.02</td>\n",
       "      <td>104.21</td>\n",
       "      <td>104.05</td>\n",
       "      <td>NaN</td>\n",
       "      <td>2.90</td>\n",
       "      <td>113.62</td>\n",
       "    </tr>\n",
       "    <tr>\n",
       "      <th>871</th>\n",
       "      <td>True</td>\n",
       "      <td>171.37</td>\n",
       "      <td>104.07</td>\n",
       "      <td>103.75</td>\n",
       "      <td>NaN</td>\n",
       "      <td>3.07</td>\n",
       "      <td>113.27</td>\n",
       "    </tr>\n",
       "    <tr>\n",
       "      <th>895</th>\n",
       "      <td>True</td>\n",
       "      <td>171.81</td>\n",
       "      <td>103.68</td>\n",
       "      <td>103.80</td>\n",
       "      <td>NaN</td>\n",
       "      <td>2.98</td>\n",
       "      <td>113.82</td>\n",
       "    </tr>\n",
       "    <tr>\n",
       "      <th>919</th>\n",
       "      <td>True</td>\n",
       "      <td>171.92</td>\n",
       "      <td>103.68</td>\n",
       "      <td>103.45</td>\n",
       "      <td>NaN</td>\n",
       "      <td>2.58</td>\n",
       "      <td>113.68</td>\n",
       "    </tr>\n",
       "    <tr>\n",
       "      <th>945</th>\n",
       "      <td>True</td>\n",
       "      <td>172.09</td>\n",
       "      <td>103.74</td>\n",
       "      <td>103.52</td>\n",
       "      <td>NaN</td>\n",
       "      <td>3.02</td>\n",
       "      <td>112.78</td>\n",
       "    </tr>\n",
       "    <tr>\n",
       "      <th>946</th>\n",
       "      <td>True</td>\n",
       "      <td>171.63</td>\n",
       "      <td>103.87</td>\n",
       "      <td>104.66</td>\n",
       "      <td>NaN</td>\n",
       "      <td>3.27</td>\n",
       "      <td>112.68</td>\n",
       "    </tr>\n",
       "    <tr>\n",
       "      <th>981</th>\n",
       "      <td>True</td>\n",
       "      <td>172.02</td>\n",
       "      <td>104.23</td>\n",
       "      <td>103.72</td>\n",
       "      <td>NaN</td>\n",
       "      <td>2.99</td>\n",
       "      <td>113.37</td>\n",
       "    </tr>\n",
       "    <tr>\n",
       "      <th>1076</th>\n",
       "      <td>False</td>\n",
       "      <td>171.57</td>\n",
       "      <td>104.27</td>\n",
       "      <td>104.44</td>\n",
       "      <td>NaN</td>\n",
       "      <td>3.21</td>\n",
       "      <td>111.87</td>\n",
       "    </tr>\n",
       "    <tr>\n",
       "      <th>1121</th>\n",
       "      <td>False</td>\n",
       "      <td>171.40</td>\n",
       "      <td>104.38</td>\n",
       "      <td>104.19</td>\n",
       "      <td>NaN</td>\n",
       "      <td>3.17</td>\n",
       "      <td>112.39</td>\n",
       "    </tr>\n",
       "    <tr>\n",
       "      <th>1176</th>\n",
       "      <td>False</td>\n",
       "      <td>171.59</td>\n",
       "      <td>104.05</td>\n",
       "      <td>103.94</td>\n",
       "      <td>NaN</td>\n",
       "      <td>3.02</td>\n",
       "      <td>111.29</td>\n",
       "    </tr>\n",
       "    <tr>\n",
       "      <th>1303</th>\n",
       "      <td>False</td>\n",
       "      <td>172.17</td>\n",
       "      <td>104.49</td>\n",
       "      <td>103.76</td>\n",
       "      <td>NaN</td>\n",
       "      <td>2.93</td>\n",
       "      <td>111.21</td>\n",
       "    </tr>\n",
       "    <tr>\n",
       "      <th>1315</th>\n",
       "      <td>False</td>\n",
       "      <td>172.08</td>\n",
       "      <td>104.15</td>\n",
       "      <td>104.17</td>\n",
       "      <td>NaN</td>\n",
       "      <td>3.40</td>\n",
       "      <td>112.29</td>\n",
       "    </tr>\n",
       "    <tr>\n",
       "      <th>1347</th>\n",
       "      <td>False</td>\n",
       "      <td>171.72</td>\n",
       "      <td>104.46</td>\n",
       "      <td>104.12</td>\n",
       "      <td>NaN</td>\n",
       "      <td>3.61</td>\n",
       "      <td>110.31</td>\n",
       "    </tr>\n",
       "    <tr>\n",
       "      <th>1435</th>\n",
       "      <td>False</td>\n",
       "      <td>172.66</td>\n",
       "      <td>104.33</td>\n",
       "      <td>104.41</td>\n",
       "      <td>NaN</td>\n",
       "      <td>3.56</td>\n",
       "      <td>111.47</td>\n",
       "    </tr>\n",
       "    <tr>\n",
       "      <th>1438</th>\n",
       "      <td>False</td>\n",
       "      <td>171.90</td>\n",
       "      <td>104.28</td>\n",
       "      <td>104.29</td>\n",
       "      <td>NaN</td>\n",
       "      <td>3.24</td>\n",
       "      <td>111.49</td>\n",
       "    </tr>\n",
       "  </tbody>\n",
       "</table>\n",
       "</div>"
      ],
      "text/plain": [
       "      is_genuine  diagonal  height_left  height_right  margin_low  margin_up  \\\n",
       "72          True    171.94       103.89        103.45         NaN       3.25   \n",
       "99          True    171.93       104.07        104.18         NaN       3.14   \n",
       "151         True    172.07       103.80        104.38         NaN       3.02   \n",
       "197         True    171.45       103.66        103.80         NaN       3.62   \n",
       "241         True    171.83       104.14        104.06         NaN       3.02   \n",
       "251         True    171.80       103.26        102.82         NaN       2.95   \n",
       "284         True    171.92       103.83        103.76         NaN       3.23   \n",
       "334         True    171.85       103.70        103.96         NaN       3.00   \n",
       "410         True    172.56       103.72        103.51         NaN       3.12   \n",
       "413         True    172.30       103.66        103.50         NaN       3.16   \n",
       "445         True    172.34       104.42        103.22         NaN       3.01   \n",
       "481         True    171.81       103.53        103.96         NaN       2.71   \n",
       "505         True    172.01       103.97        104.05         NaN       2.98   \n",
       "611         True    171.80       103.68        103.49         NaN       3.30   \n",
       "654         True    171.97       103.69        103.54         NaN       2.70   \n",
       "675         True    171.60       103.85        103.91         NaN       2.56   \n",
       "710         True    172.03       103.97        103.86         NaN       3.07   \n",
       "739         True    172.07       103.74        103.76         NaN       3.09   \n",
       "742         True    172.14       104.06        103.96         NaN       3.24   \n",
       "780         True    172.41       103.95        103.79         NaN       3.13   \n",
       "798         True    171.96       103.84        103.62         NaN       3.01   \n",
       "844         True    171.62       104.14        104.49         NaN       2.99   \n",
       "845         True    172.02       104.21        104.05         NaN       2.90   \n",
       "871         True    171.37       104.07        103.75         NaN       3.07   \n",
       "895         True    171.81       103.68        103.80         NaN       2.98   \n",
       "919         True    171.92       103.68        103.45         NaN       2.58   \n",
       "945         True    172.09       103.74        103.52         NaN       3.02   \n",
       "946         True    171.63       103.87        104.66         NaN       3.27   \n",
       "981         True    172.02       104.23        103.72         NaN       2.99   \n",
       "1076       False    171.57       104.27        104.44         NaN       3.21   \n",
       "1121       False    171.40       104.38        104.19         NaN       3.17   \n",
       "1176       False    171.59       104.05        103.94         NaN       3.02   \n",
       "1303       False    172.17       104.49        103.76         NaN       2.93   \n",
       "1315       False    172.08       104.15        104.17         NaN       3.40   \n",
       "1347       False    171.72       104.46        104.12         NaN       3.61   \n",
       "1435       False    172.66       104.33        104.41         NaN       3.56   \n",
       "1438       False    171.90       104.28        104.29         NaN       3.24   \n",
       "\n",
       "      length  \n",
       "72    112.79  \n",
       "99    113.08  \n",
       "151   112.93  \n",
       "197   113.27  \n",
       "241   112.36  \n",
       "251   113.22  \n",
       "284   113.29  \n",
       "334   113.36  \n",
       "410   112.95  \n",
       "413   112.95  \n",
       "445   112.97  \n",
       "481   113.99  \n",
       "505   113.65  \n",
       "611   112.84  \n",
       "654   112.79  \n",
       "675   113.27  \n",
       "710   112.65  \n",
       "739   112.41  \n",
       "742   113.07  \n",
       "780   113.41  \n",
       "798   114.44  \n",
       "844   113.35  \n",
       "845   113.62  \n",
       "871   113.27  \n",
       "895   113.82  \n",
       "919   113.68  \n",
       "945   112.78  \n",
       "946   112.68  \n",
       "981   113.37  \n",
       "1076  111.87  \n",
       "1121  112.39  \n",
       "1176  111.29  \n",
       "1303  111.21  \n",
       "1315  112.29  \n",
       "1347  110.31  \n",
       "1435  111.47  \n",
       "1438  111.49  "
      ]
     },
     "execution_count": 262,
     "metadata": {},
     "output_type": "execute_result"
    }
   ],
   "source": [
    "# lignes contenant des valeurs nulles\n",
    "data[data.isna().any(axis=1)]"
   ]
  },
  {
   "cell_type": "code",
   "execution_count": 263,
   "id": "42718cdd",
   "metadata": {},
   "outputs": [
    {
     "name": "stdout",
     "output_type": "stream",
     "text": [
      "Il y a 37 valeurs manquantes dans la variable margin_low.\n"
     ]
    }
   ],
   "source": [
    "# nombre de valeurs nulles\n",
    "variable_nulle = data.isna().sum()[data.isna().sum()!=0].index[0]\n",
    "nombre_valeurs_nulles = data.isna().sum()[data.isna().sum()!=0].values[0]\n",
    "\n",
    "print(f\"Il y a {nombre_valeurs_nulles} valeurs manquantes dans la variable {variable_nulle}.\")"
   ]
  },
  {
   "cell_type": "markdown",
   "id": "00134cd3",
   "metadata": {},
   "source": [
    "**Il y 37 valeurs manquantes sur 1500 lignes, uniquement pour la variable margin_low.**\n",
    "\n",
    "**Nous allons les traiter en faisant une régression linéaire multiple en prenant margin_low comme variable cible, et en prédisant les valeurs où elles sont manquantes.**"
   ]
  },
  {
   "cell_type": "markdown",
   "id": "f5cacfb0",
   "metadata": {},
   "source": [
    "<a id='reglineaire' ></a>\n",
    "## Traitement des valeurs manquantes avec la régression linéaire<a href=\"#sommaire\" style=\"font-size : 10px ; padding-left:10px\">Retour Sommaire</a>"
   ]
  },
  {
   "cell_type": "markdown",
   "id": "c2c6269e",
   "metadata": {},
   "source": [
    "### Explication modèle de régression multiple"
   ]
  },
  {
   "attachments": {
    "image-2.png": {
     "image/png": "[encoded data removed]"
    },
    "image-3.png": {
     "image/png": "[encoded data removed]"
    },
    "image-4.png": {
     "image/png": "[encoded data removed]"
    }
   },
   "cell_type": "markdown",
   "id": "ebb6264c",
   "metadata": {},
   "source": [
    "Le principe de la régression multiple, c'est qu'on va essayer d'expliquer une variable cible à partir de plusieurs variables explicatives.\n",
    "\n",
    "**Le modèle de régression linéaire multiple suppose qu'il existe une relation linéaire entre la variable à expliquer et les variables explicatives :**\n",
    "![image-2.png](attachment:image-2.png)\n",
    "\n",
    "On cherche ensuite à **trouver la valeurs de chacun des paramètres B qui minimise la différence entre le modèle et la réalité grâce à la méthode des moindres carrés.** \n",
    "\n",
    "Mathématiquement, cela revient à calculer les estimateurs des moindres carrés ordinaires :\n",
    "\n",
    "![image-3.png](attachment:image-3.png)\n",
    "\n",
    "**Pour quantifier la qualité du modèle**, on utilise le **coefficient de détermination R²**, qui est le **taux de variation expliquée par le modèle.**\n",
    "\n",
    "![image-4.png](attachment:image-4.png)"
   ]
  },
  {
   "cell_type": "markdown",
   "id": "d9e575c0",
   "metadata": {},
   "source": [
    "### Modèle de régression linéaire multiple"
   ]
  },
  {
   "cell_type": "code",
   "execution_count": 264,
   "id": "62fe2943",
   "metadata": {},
   "outputs": [
    {
     "data": {
      "text/html": [
       "<div>\n",
       "<style scoped>\n",
       "    .dataframe tbody tr th:only-of-type {\n",
       "        vertical-align: middle;\n",
       "    }\n",
       "\n",
       "    .dataframe tbody tr th {\n",
       "        vertical-align: top;\n",
       "    }\n",
       "\n",
       "    .dataframe thead th {\n",
       "        text-align: right;\n",
       "    }\n",
       "</style>\n",
       "<table border=\"1\" class=\"dataframe\">\n",
       "  <thead>\n",
       "    <tr style=\"text-align: right;\">\n",
       "      <th></th>\n",
       "      <th>is_genuine</th>\n",
       "      <th>diagonal</th>\n",
       "      <th>height_left</th>\n",
       "      <th>height_right</th>\n",
       "      <th>margin_low</th>\n",
       "      <th>margin_up</th>\n",
       "      <th>length</th>\n",
       "    </tr>\n",
       "  </thead>\n",
       "  <tbody>\n",
       "    <tr>\n",
       "      <th>0</th>\n",
       "      <td>True</td>\n",
       "      <td>171.81</td>\n",
       "      <td>104.86</td>\n",
       "      <td>104.95</td>\n",
       "      <td>4.52</td>\n",
       "      <td>2.89</td>\n",
       "      <td>112.83</td>\n",
       "    </tr>\n",
       "    <tr>\n",
       "      <th>1</th>\n",
       "      <td>True</td>\n",
       "      <td>171.46</td>\n",
       "      <td>103.36</td>\n",
       "      <td>103.66</td>\n",
       "      <td>3.77</td>\n",
       "      <td>2.99</td>\n",
       "      <td>113.09</td>\n",
       "    </tr>\n",
       "    <tr>\n",
       "      <th>2</th>\n",
       "      <td>True</td>\n",
       "      <td>172.69</td>\n",
       "      <td>104.48</td>\n",
       "      <td>103.50</td>\n",
       "      <td>4.40</td>\n",
       "      <td>2.94</td>\n",
       "      <td>113.16</td>\n",
       "    </tr>\n",
       "    <tr>\n",
       "      <th>3</th>\n",
       "      <td>True</td>\n",
       "      <td>171.36</td>\n",
       "      <td>103.91</td>\n",
       "      <td>103.94</td>\n",
       "      <td>3.62</td>\n",
       "      <td>3.01</td>\n",
       "      <td>113.51</td>\n",
       "    </tr>\n",
       "    <tr>\n",
       "      <th>4</th>\n",
       "      <td>True</td>\n",
       "      <td>171.73</td>\n",
       "      <td>104.28</td>\n",
       "      <td>103.46</td>\n",
       "      <td>4.04</td>\n",
       "      <td>3.48</td>\n",
       "      <td>112.54</td>\n",
       "    </tr>\n",
       "  </tbody>\n",
       "</table>\n",
       "</div>"
      ],
      "text/plain": [
       "   is_genuine  diagonal  height_left  height_right  margin_low  margin_up  \\\n",
       "0        True    171.81       104.86        104.95        4.52       2.89   \n",
       "1        True    171.46       103.36        103.66        3.77       2.99   \n",
       "2        True    172.69       104.48        103.50        4.40       2.94   \n",
       "3        True    171.36       103.91        103.94        3.62       3.01   \n",
       "4        True    171.73       104.28        103.46        4.04       3.48   \n",
       "\n",
       "   length  \n",
       "0  112.83  \n",
       "1  113.09  \n",
       "2  113.16  \n",
       "3  113.51  \n",
       "4  112.54  "
      ]
     },
     "execution_count": 264,
     "metadata": {},
     "output_type": "execute_result"
    }
   ],
   "source": [
    "# data sans les valeurs manquantes\n",
    "df = data.dropna()\n",
    "df.head()"
   ]
  },
  {
   "cell_type": "code",
   "execution_count": 265,
   "id": "109bbb9b",
   "metadata": {},
   "outputs": [],
   "source": [
    "# variables cible et explicatives\n",
    "X = df.drop(columns=['is_genuine', 'margin_low'])\n",
    "y = df['margin_low']"
   ]
  },
  {
   "cell_type": "markdown",
   "id": "4803ab4f",
   "metadata": {},
   "source": [
    "**J'enlève la variable 'is_genuine' car c'est la variable cible du modèle final.\n",
    "Or, il ne serait pas rigoureux de l'utiliser en variable explicative dans un premier temps, puis en variable cible dans un second temps, cela créerait un biais et rendrait le modèle dépendant de la variable qu'il essait de prédire.**"
   ]
  },
  {
   "cell_type": "code",
   "execution_count": 266,
   "id": "ad095aa8",
   "metadata": {},
   "outputs": [],
   "source": [
    "# creation des jeux d'entrainement et de test\n",
    "# pas forcément nécessaire pour de l'imputation\n",
    "X_train, X_test, y_train, y_test = train_test_split(X, y, test_size=0.2, random_state=1)"
   ]
  },
  {
   "cell_type": "code",
   "execution_count": 267,
   "id": "b735200b",
   "metadata": {},
   "outputs": [
    {
     "name": "stdout",
     "output_type": "stream",
     "text": [
      "Le coefficient de détermination R² est de 0.4773366973063957.\n"
     ]
    }
   ],
   "source": [
    "# creation du modèle de régression linéaire\n",
    "model = LinearRegression()\n",
    "\n",
    "model.fit(X, y)\n",
    "\n",
    "print(f\"Le coefficient de détermination R² est de {model.score(X, y)}.\")"
   ]
  },
  {
   "cell_type": "code",
   "execution_count": 268,
   "id": "2f01ac9d",
   "metadata": {},
   "outputs": [
    {
     "data": {
      "image/png": "[encoded data removed]",
      "text/plain": [
       "<Figure size 640x480 with 1 Axes>"
      ]
     },
     "metadata": {},
     "output_type": "display_data"
    }
   ],
   "source": [
    "# courbe d'apprentissage du meilleur estimateur\n",
    "N, train_score, val_score = learning_curve(model, X_train, y_train, train_sizes=np.linspace(0.1, 1, 10), cv=5)\n",
    "\n",
    "plt.title(f\"Courbe d'apprentissage\")\n",
    "plt.plot(N, train_score.mean(axis=1), label='train_set')\n",
    "plt.plot(N, val_score.mean(axis=1), label='val_set')\n",
    "plt.xlabel(\"Quantité de données\")\n",
    "plt.ylabel(\"R²\")\n",
    "plt.ylim((0,1.2))\n",
    "plt.legend()\n",
    "plt.show()"
   ]
  },
  {
   "cell_type": "markdown",
   "id": "f2a18aae",
   "metadata": {},
   "source": [
    "**Pas d'écart entre le jeu d'entrainement et le jeu de validation.  \n",
    "Le modèle généralise bien.**"
   ]
  },
  {
   "cell_type": "code",
   "execution_count": 269,
   "id": "661318df",
   "metadata": {},
   "outputs": [
    {
     "data": {
      "text/html": [
       "<div>\n",
       "<style scoped>\n",
       "    .dataframe tbody tr th:only-of-type {\n",
       "        vertical-align: middle;\n",
       "    }\n",
       "\n",
       "    .dataframe tbody tr th {\n",
       "        vertical-align: top;\n",
       "    }\n",
       "\n",
       "    .dataframe thead th {\n",
       "        text-align: right;\n",
       "    }\n",
       "</style>\n",
       "<table border=\"1\" class=\"dataframe\">\n",
       "  <thead>\n",
       "    <tr style=\"text-align: right;\">\n",
       "      <th></th>\n",
       "      <th>diagonal</th>\n",
       "      <th>height_left</th>\n",
       "      <th>height_right</th>\n",
       "      <th>margin_up</th>\n",
       "      <th>length</th>\n",
       "    </tr>\n",
       "  </thead>\n",
       "  <tbody>\n",
       "    <tr>\n",
       "      <th>72</th>\n",
       "      <td>171.94</td>\n",
       "      <td>103.89</td>\n",
       "      <td>103.45</td>\n",
       "      <td>3.25</td>\n",
       "      <td>112.79</td>\n",
       "    </tr>\n",
       "    <tr>\n",
       "      <th>99</th>\n",
       "      <td>171.93</td>\n",
       "      <td>104.07</td>\n",
       "      <td>104.18</td>\n",
       "      <td>3.14</td>\n",
       "      <td>113.08</td>\n",
       "    </tr>\n",
       "    <tr>\n",
       "      <th>151</th>\n",
       "      <td>172.07</td>\n",
       "      <td>103.80</td>\n",
       "      <td>104.38</td>\n",
       "      <td>3.02</td>\n",
       "      <td>112.93</td>\n",
       "    </tr>\n",
       "    <tr>\n",
       "      <th>197</th>\n",
       "      <td>171.45</td>\n",
       "      <td>103.66</td>\n",
       "      <td>103.80</td>\n",
       "      <td>3.62</td>\n",
       "      <td>113.27</td>\n",
       "    </tr>\n",
       "    <tr>\n",
       "      <th>241</th>\n",
       "      <td>171.83</td>\n",
       "      <td>104.14</td>\n",
       "      <td>104.06</td>\n",
       "      <td>3.02</td>\n",
       "      <td>112.36</td>\n",
       "    </tr>\n",
       "  </tbody>\n",
       "</table>\n",
       "</div>"
      ],
      "text/plain": [
       "     diagonal  height_left  height_right  margin_up  length\n",
       "72     171.94       103.89        103.45       3.25  112.79\n",
       "99     171.93       104.07        104.18       3.14  113.08\n",
       "151    172.07       103.80        104.38       3.02  112.93\n",
       "197    171.45       103.66        103.80       3.62  113.27\n",
       "241    171.83       104.14        104.06       3.02  112.36"
      ]
     },
     "execution_count": 269,
     "metadata": {},
     "output_type": "execute_result"
    }
   ],
   "source": [
    "# données à prédire\n",
    "donnees_manquantes = data[data.isna().any(axis=1)].drop(columns=['is_genuine', 'margin_low'])\n",
    "donnees_manquantes.head()"
   ]
  },
  {
   "cell_type": "code",
   "execution_count": 270,
   "id": "e5d82ccb",
   "metadata": {},
   "outputs": [],
   "source": [
    "# imputation des données manquantes par nos prédictions\n",
    "data.loc[data.isna().any(axis=1),'margin_low'] = model.predict(donnees_manquantes)"
   ]
  },
  {
   "cell_type": "code",
   "execution_count": 271,
   "id": "3179243b",
   "metadata": {},
   "outputs": [
    {
     "data": {
      "text/html": [
       "<div>\n",
       "<style scoped>\n",
       "    .dataframe tbody tr th:only-of-type {\n",
       "        vertical-align: middle;\n",
       "    }\n",
       "\n",
       "    .dataframe tbody tr th {\n",
       "        vertical-align: top;\n",
       "    }\n",
       "\n",
       "    .dataframe thead th {\n",
       "        text-align: right;\n",
       "    }\n",
       "</style>\n",
       "<table border=\"1\" class=\"dataframe\">\n",
       "  <thead>\n",
       "    <tr style=\"text-align: right;\">\n",
       "      <th></th>\n",
       "      <th>is_genuine</th>\n",
       "      <th>diagonal</th>\n",
       "      <th>height_left</th>\n",
       "      <th>height_right</th>\n",
       "      <th>margin_low</th>\n",
       "      <th>margin_up</th>\n",
       "      <th>length</th>\n",
       "    </tr>\n",
       "  </thead>\n",
       "  <tbody>\n",
       "    <tr>\n",
       "      <th>72</th>\n",
       "      <td>True</td>\n",
       "      <td>171.94</td>\n",
       "      <td>103.89</td>\n",
       "      <td>103.45</td>\n",
       "      <td>4.318525</td>\n",
       "      <td>3.25</td>\n",
       "      <td>112.79</td>\n",
       "    </tr>\n",
       "    <tr>\n",
       "      <th>99</th>\n",
       "      <td>True</td>\n",
       "      <td>171.93</td>\n",
       "      <td>104.07</td>\n",
       "      <td>104.18</td>\n",
       "      <td>4.393668</td>\n",
       "      <td>3.14</td>\n",
       "      <td>113.08</td>\n",
       "    </tr>\n",
       "    <tr>\n",
       "      <th>151</th>\n",
       "      <td>True</td>\n",
       "      <td>172.07</td>\n",
       "      <td>103.80</td>\n",
       "      <td>104.38</td>\n",
       "      <td>4.410457</td>\n",
       "      <td>3.02</td>\n",
       "      <td>112.93</td>\n",
       "    </tr>\n",
       "    <tr>\n",
       "      <th>197</th>\n",
       "      <td>True</td>\n",
       "      <td>171.45</td>\n",
       "      <td>103.66</td>\n",
       "      <td>103.80</td>\n",
       "      <td>4.319014</td>\n",
       "      <td>3.62</td>\n",
       "      <td>113.27</td>\n",
       "    </tr>\n",
       "    <tr>\n",
       "      <th>241</th>\n",
       "      <td>True</td>\n",
       "      <td>171.83</td>\n",
       "      <td>104.14</td>\n",
       "      <td>104.06</td>\n",
       "      <td>4.650617</td>\n",
       "      <td>3.02</td>\n",
       "      <td>112.36</td>\n",
       "    </tr>\n",
       "  </tbody>\n",
       "</table>\n",
       "</div>"
      ],
      "text/plain": [
       "     is_genuine  diagonal  height_left  height_right  margin_low  margin_up  \\\n",
       "72         True    171.94       103.89        103.45    4.318525       3.25   \n",
       "99         True    171.93       104.07        104.18    4.393668       3.14   \n",
       "151        True    172.07       103.80        104.38    4.410457       3.02   \n",
       "197        True    171.45       103.66        103.80    4.319014       3.62   \n",
       "241        True    171.83       104.14        104.06    4.650617       3.02   \n",
       "\n",
       "     length  \n",
       "72   112.79  \n",
       "99   113.08  \n",
       "151  112.93  \n",
       "197  113.27  \n",
       "241  112.36  "
      ]
     },
     "execution_count": 271,
     "metadata": {},
     "output_type": "execute_result"
    }
   ],
   "source": [
    "# données billets avec les données prédites pour margin_low\n",
    "data.loc[donnees_manquantes.index].head()"
   ]
  },
  {
   "cell_type": "markdown",
   "id": "c029c68e",
   "metadata": {},
   "source": [
    "## Régression multiple statsmodels"
   ]
  },
  {
   "cell_type": "markdown",
   "id": "0d183283",
   "metadata": {},
   "source": [
    "**Je recommence avec statsmdodels, pour comparer les 2 modèles et vérifier que :**\n",
    "- Toutes les variables sont significatives pour la régression linéaire multiple, \n",
    "- Les résidus suivent une loi normale et vérifier,\n",
    "- La colinéarité des variables avec les VIF."
   ]
  },
  {
   "cell_type": "code",
   "execution_count": 205,
   "id": "3039a93c",
   "metadata": {},
   "outputs": [
    {
     "data": {
      "text/html": [
       "<table class=\"simpletable\">\n",
       "<caption>OLS Regression Results</caption>\n",
       "<tr>\n",
       "  <th>Dep. Variable:</th>       <td>margin_low</td>    <th>  R-squared:         </th> <td>   0.477</td> \n",
       "</tr>\n",
       "<tr>\n",
       "  <th>Model:</th>                   <td>OLS</td>       <th>  Adj. R-squared:    </th> <td>   0.476</td> \n",
       "</tr>\n",
       "<tr>\n",
       "  <th>Method:</th>             <td>Least Squares</td>  <th>  F-statistic:       </th> <td>   266.1</td> \n",
       "</tr>\n",
       "<tr>\n",
       "  <th>Date:</th>             <td>Sun, 24 Dec 2023</td> <th>  Prob (F-statistic):</th> <td>2.60e-202</td>\n",
       "</tr>\n",
       "<tr>\n",
       "  <th>Time:</th>                 <td>12:37:59</td>     <th>  Log-Likelihood:    </th> <td> -1001.3</td> \n",
       "</tr>\n",
       "<tr>\n",
       "  <th>No. Observations:</th>      <td>  1463</td>      <th>  AIC:               </th> <td>   2015.</td> \n",
       "</tr>\n",
       "<tr>\n",
       "  <th>Df Residuals:</th>          <td>  1457</td>      <th>  BIC:               </th> <td>   2046.</td> \n",
       "</tr>\n",
       "<tr>\n",
       "  <th>Df Model:</th>              <td>     5</td>      <th>                     </th>     <td> </td>    \n",
       "</tr>\n",
       "<tr>\n",
       "  <th>Covariance Type:</th>      <td>nonrobust</td>    <th>                     </th>     <td> </td>    \n",
       "</tr>\n",
       "</table>\n",
       "<table class=\"simpletable\">\n",
       "<tr>\n",
       "        <td></td>          <th>coef</th>     <th>std err</th>      <th>t</th>      <th>P>|t|</th>  <th>[0.025</th>    <th>0.975]</th>  \n",
       "</tr>\n",
       "<tr>\n",
       "  <th>const</th>        <td>   22.9948</td> <td>    9.656</td> <td>    2.382</td> <td> 0.017</td> <td>    4.055</td> <td>   41.935</td>\n",
       "</tr>\n",
       "<tr>\n",
       "  <th>diagonal</th>     <td>   -0.1111</td> <td>    0.041</td> <td>   -2.680</td> <td> 0.007</td> <td>   -0.192</td> <td>   -0.030</td>\n",
       "</tr>\n",
       "<tr>\n",
       "  <th>height_left</th>  <td>    0.1841</td> <td>    0.045</td> <td>    4.113</td> <td> 0.000</td> <td>    0.096</td> <td>    0.272</td>\n",
       "</tr>\n",
       "<tr>\n",
       "  <th>height_right</th> <td>    0.2571</td> <td>    0.043</td> <td>    5.978</td> <td> 0.000</td> <td>    0.173</td> <td>    0.342</td>\n",
       "</tr>\n",
       "<tr>\n",
       "  <th>margin_up</th>    <td>    0.2562</td> <td>    0.064</td> <td>    3.980</td> <td> 0.000</td> <td>    0.130</td> <td>    0.382</td>\n",
       "</tr>\n",
       "<tr>\n",
       "  <th>length</th>       <td>   -0.4091</td> <td>    0.018</td> <td>  -22.627</td> <td> 0.000</td> <td>   -0.445</td> <td>   -0.374</td>\n",
       "</tr>\n",
       "</table>\n",
       "<table class=\"simpletable\">\n",
       "<tr>\n",
       "  <th>Omnibus:</th>       <td>73.627</td> <th>  Durbin-Watson:     </th> <td>   1.893</td>\n",
       "</tr>\n",
       "<tr>\n",
       "  <th>Prob(Omnibus):</th> <td> 0.000</td> <th>  Jarque-Bera (JB):  </th> <td>  95.862</td>\n",
       "</tr>\n",
       "<tr>\n",
       "  <th>Skew:</th>          <td> 0.482</td> <th>  Prob(JB):          </th> <td>1.53e-21</td>\n",
       "</tr>\n",
       "<tr>\n",
       "  <th>Kurtosis:</th>      <td> 3.801</td> <th>  Cond. No.          </th> <td>1.94e+05</td>\n",
       "</tr>\n",
       "</table><br/><br/>Notes:<br/>[1] Standard Errors assume that the covariance matrix of the errors is correctly specified.<br/>[2] The condition number is large, 1.94e+05. This might indicate that there are<br/>strong multicollinearity or other numerical problems."
      ],
      "text/plain": [
       "<class 'statsmodels.iolib.summary.Summary'>\n",
       "\"\"\"\n",
       "                            OLS Regression Results                            \n",
       "==============================================================================\n",
       "Dep. Variable:             margin_low   R-squared:                       0.477\n",
       "Model:                            OLS   Adj. R-squared:                  0.476\n",
       "Method:                 Least Squares   F-statistic:                     266.1\n",
       "Date:                Sun, 24 Dec 2023   Prob (F-statistic):          2.60e-202\n",
       "Time:                        12:37:59   Log-Likelihood:                -1001.3\n",
       "No. Observations:                1463   AIC:                             2015.\n",
       "Df Residuals:                    1457   BIC:                             2046.\n",
       "Df Model:                           5                                         \n",
       "Covariance Type:            nonrobust                                         \n",
       "================================================================================\n",
       "                   coef    std err          t      P>|t|      [0.025      0.975]\n",
       "--------------------------------------------------------------------------------\n",
       "const           22.9948      9.656      2.382      0.017       4.055      41.935\n",
       "diagonal        -0.1111      0.041     -2.680      0.007      -0.192      -0.030\n",
       "height_left      0.1841      0.045      4.113      0.000       0.096       0.272\n",
       "height_right     0.2571      0.043      5.978      0.000       0.173       0.342\n",
       "margin_up        0.2562      0.064      3.980      0.000       0.130       0.382\n",
       "length          -0.4091      0.018    -22.627      0.000      -0.445      -0.374\n",
       "==============================================================================\n",
       "Omnibus:                       73.627   Durbin-Watson:                   1.893\n",
       "Prob(Omnibus):                  0.000   Jarque-Bera (JB):               95.862\n",
       "Skew:                           0.482   Prob(JB):                     1.53e-21\n",
       "Kurtosis:                       3.801   Cond. No.                     1.94e+05\n",
       "==============================================================================\n",
       "\n",
       "Notes:\n",
       "[1] Standard Errors assume that the covariance matrix of the errors is correctly specified.\n",
       "[2] The condition number is large, 1.94e+05. This might indicate that there are\n",
       "strong multicollinearity or other numerical problems.\n",
       "\"\"\""
      ]
     },
     "execution_count": 205,
     "metadata": {},
     "output_type": "execute_result"
    }
   ],
   "source": [
    "X_sm = sm.add_constant(X)\n",
    "\n",
    "# la creation des jeux d'entrainement et de test n'est pas obligatoire pour de l'imputation\n",
    "# je décide donner le maximum de données au modèle et de ne pas créer de jeux d'entrainement et de test\n",
    "\n",
    "results = sm.OLS(y, X_sm).fit()\n",
    "\n",
    "results.summary()"
   ]
  },
  {
   "cell_type": "markdown",
   "id": "17a6e576",
   "metadata": {},
   "source": [
    "**Les p-value sont toutes supérieurs à 0.05 (seuil de significativé standard) donc les variables sont représentatives.**"
   ]
  },
  {
   "cell_type": "code",
   "execution_count": 206,
   "id": "1c0ad722",
   "metadata": {},
   "outputs": [
    {
     "data": {
      "text/html": [
       "<div>\n",
       "<style scoped>\n",
       "    .dataframe tbody tr th:only-of-type {\n",
       "        vertical-align: middle;\n",
       "    }\n",
       "\n",
       "    .dataframe tbody tr th {\n",
       "        vertical-align: top;\n",
       "    }\n",
       "\n",
       "    .dataframe thead th {\n",
       "        text-align: right;\n",
       "    }\n",
       "</style>\n",
       "<table border=\"1\" class=\"dataframe\">\n",
       "  <thead>\n",
       "    <tr style=\"text-align: right;\">\n",
       "      <th></th>\n",
       "      <th>const</th>\n",
       "      <th>diagonal</th>\n",
       "      <th>height_left</th>\n",
       "      <th>height_right</th>\n",
       "      <th>margin_up</th>\n",
       "      <th>length</th>\n",
       "    </tr>\n",
       "  </thead>\n",
       "  <tbody>\n",
       "    <tr>\n",
       "      <th>72</th>\n",
       "      <td>1.0</td>\n",
       "      <td>171.94</td>\n",
       "      <td>103.89</td>\n",
       "      <td>103.45</td>\n",
       "      <td>3.25</td>\n",
       "      <td>112.79</td>\n",
       "    </tr>\n",
       "    <tr>\n",
       "      <th>99</th>\n",
       "      <td>1.0</td>\n",
       "      <td>171.93</td>\n",
       "      <td>104.07</td>\n",
       "      <td>104.18</td>\n",
       "      <td>3.14</td>\n",
       "      <td>113.08</td>\n",
       "    </tr>\n",
       "    <tr>\n",
       "      <th>151</th>\n",
       "      <td>1.0</td>\n",
       "      <td>172.07</td>\n",
       "      <td>103.80</td>\n",
       "      <td>104.38</td>\n",
       "      <td>3.02</td>\n",
       "      <td>112.93</td>\n",
       "    </tr>\n",
       "    <tr>\n",
       "      <th>197</th>\n",
       "      <td>1.0</td>\n",
       "      <td>171.45</td>\n",
       "      <td>103.66</td>\n",
       "      <td>103.80</td>\n",
       "      <td>3.62</td>\n",
       "      <td>113.27</td>\n",
       "    </tr>\n",
       "    <tr>\n",
       "      <th>241</th>\n",
       "      <td>1.0</td>\n",
       "      <td>171.83</td>\n",
       "      <td>104.14</td>\n",
       "      <td>104.06</td>\n",
       "      <td>3.02</td>\n",
       "      <td>112.36</td>\n",
       "    </tr>\n",
       "  </tbody>\n",
       "</table>\n",
       "</div>"
      ],
      "text/plain": [
       "     const  diagonal  height_left  height_right  margin_up  length\n",
       "72     1.0    171.94       103.89        103.45       3.25  112.79\n",
       "99     1.0    171.93       104.07        104.18       3.14  113.08\n",
       "151    1.0    172.07       103.80        104.38       3.02  112.93\n",
       "197    1.0    171.45       103.66        103.80       3.62  113.27\n",
       "241    1.0    171.83       104.14        104.06       3.02  112.36"
      ]
     },
     "execution_count": 206,
     "metadata": {},
     "output_type": "execute_result"
    }
   ],
   "source": [
    "# nouvelles données manquantes pour faire les prédictions avec statsmodels, ajout de la colonne de biais\n",
    "donnees_manquantes_sm = sm.add_constant(donnees_manquantes)\n",
    "donnees_manquantes_sm.head()"
   ]
  },
  {
   "cell_type": "code",
   "execution_count": 207,
   "id": "55919701",
   "metadata": {},
   "outputs": [
    {
     "data": {
      "text/html": [
       "<div>\n",
       "<style scoped>\n",
       "    .dataframe tbody tr th:only-of-type {\n",
       "        vertical-align: middle;\n",
       "    }\n",
       "\n",
       "    .dataframe tbody tr th {\n",
       "        vertical-align: top;\n",
       "    }\n",
       "\n",
       "    .dataframe thead th {\n",
       "        text-align: right;\n",
       "    }\n",
       "</style>\n",
       "<table border=\"1\" class=\"dataframe\">\n",
       "  <thead>\n",
       "    <tr style=\"text-align: right;\">\n",
       "      <th></th>\n",
       "      <th>pred_sm</th>\n",
       "      <th>pred_sklearn</th>\n",
       "    </tr>\n",
       "  </thead>\n",
       "  <tbody>\n",
       "    <tr>\n",
       "      <th>72</th>\n",
       "      <td>4.318525</td>\n",
       "      <td>4.318525</td>\n",
       "    </tr>\n",
       "    <tr>\n",
       "      <th>99</th>\n",
       "      <td>4.393668</td>\n",
       "      <td>4.393668</td>\n",
       "    </tr>\n",
       "    <tr>\n",
       "      <th>151</th>\n",
       "      <td>4.410457</td>\n",
       "      <td>4.410457</td>\n",
       "    </tr>\n",
       "    <tr>\n",
       "      <th>197</th>\n",
       "      <td>4.319014</td>\n",
       "      <td>4.319014</td>\n",
       "    </tr>\n",
       "    <tr>\n",
       "      <th>241</th>\n",
       "      <td>4.650617</td>\n",
       "      <td>4.650617</td>\n",
       "    </tr>\n",
       "    <tr>\n",
       "      <th>251</th>\n",
       "      <td>3.803308</td>\n",
       "      <td>3.803308</td>\n",
       "    </tr>\n",
       "    <tr>\n",
       "      <th>284</th>\n",
       "      <td>4.179736</td>\n",
       "      <td>4.179736</td>\n",
       "    </tr>\n",
       "    <tr>\n",
       "      <th>334</th>\n",
       "      <td>4.127442</td>\n",
       "      <td>4.127442</td>\n",
       "    </tr>\n",
       "    <tr>\n",
       "      <th>410</th>\n",
       "      <td>4.135034</td>\n",
       "      <td>4.135034</td>\n",
       "    </tr>\n",
       "    <tr>\n",
       "      <th>413</th>\n",
       "      <td>4.160539</td>\n",
       "      <td>4.160539</td>\n",
       "    </tr>\n",
       "    <tr>\n",
       "      <th>445</th>\n",
       "      <td>4.177420</td>\n",
       "      <td>4.177420</td>\n",
       "    </tr>\n",
       "    <tr>\n",
       "      <th>481</th>\n",
       "      <td>3.768554</td>\n",
       "      <td>3.768554</td>\n",
       "    </tr>\n",
       "    <tr>\n",
       "      <th>505</th>\n",
       "      <td>4.058764</td>\n",
       "      <td>4.058764</td>\n",
       "    </tr>\n",
       "    <tr>\n",
       "      <th>611</th>\n",
       "      <td>4.298047</td>\n",
       "      <td>4.298047</td>\n",
       "    </tr>\n",
       "    <tr>\n",
       "      <th>654</th>\n",
       "      <td>4.160607</td>\n",
       "      <td>4.160607</td>\n",
       "    </tr>\n",
       "    <tr>\n",
       "      <th>675</th>\n",
       "      <td>4.094065</td>\n",
       "      <td>4.094065</td>\n",
       "    </tr>\n",
       "    <tr>\n",
       "      <th>710</th>\n",
       "      <td>4.439846</td>\n",
       "      <td>4.439846</td>\n",
       "    </tr>\n",
       "    <tr>\n",
       "      <th>739</th>\n",
       "      <td>4.470650</td>\n",
       "      <td>4.470650</td>\n",
       "    </tr>\n",
       "    <tr>\n",
       "      <th>742</th>\n",
       "      <td>4.341643</td>\n",
       "      <td>4.341643</td>\n",
       "    </tr>\n",
       "    <tr>\n",
       "      <th>780</th>\n",
       "      <td>4.080414</td>\n",
       "      <td>4.080414</td>\n",
       "    </tr>\n",
       "    <tr>\n",
       "      <th>798</th>\n",
       "      <td>3.614306</td>\n",
       "      <td>3.614306</td>\n",
       "    </tr>\n",
       "    <tr>\n",
       "      <th>844</th>\n",
       "      <td>4.371811</td>\n",
       "      <td>4.371811</td>\n",
       "    </tr>\n",
       "    <tr>\n",
       "      <th>845</th>\n",
       "      <td>4.093621</td>\n",
       "      <td>4.093621</td>\n",
       "    </tr>\n",
       "    <tr>\n",
       "      <th>871</th>\n",
       "      <td>4.249629</td>\n",
       "      <td>4.249629</td>\n",
       "    </tr>\n",
       "    <tr>\n",
       "      <th>895</th>\n",
       "      <td>3.893748</td>\n",
       "      <td>3.893748</td>\n",
       "    </tr>\n",
       "    <tr>\n",
       "      <th>919</th>\n",
       "      <td>3.746333</td>\n",
       "      <td>3.746333</td>\n",
       "    </tr>\n",
       "    <tr>\n",
       "      <th>945</th>\n",
       "      <td>4.237415</td>\n",
       "      <td>4.237415</td>\n",
       "    </tr>\n",
       "    <tr>\n",
       "      <th>946</th>\n",
       "      <td>4.710533</td>\n",
       "      <td>4.710533</td>\n",
       "    </tr>\n",
       "    <tr>\n",
       "      <th>981</th>\n",
       "      <td>4.137780</td>\n",
       "      <td>4.137780</td>\n",
       "    </tr>\n",
       "    <tr>\n",
       "      <th>1076</th>\n",
       "      <td>5.050277</td>\n",
       "      <td>5.050277</td>\n",
       "    </tr>\n",
       "    <tr>\n",
       "      <th>1121</th>\n",
       "      <td>4.802145</td>\n",
       "      <td>4.802145</td>\n",
       "    </tr>\n",
       "    <tr>\n",
       "      <th>1176</th>\n",
       "      <td>5.067584</td>\n",
       "      <td>5.067584</td>\n",
       "    </tr>\n",
       "    <tr>\n",
       "      <th>1303</th>\n",
       "      <td>5.047570</td>\n",
       "      <td>5.047570</td>\n",
       "    </tr>\n",
       "    <tr>\n",
       "      <th>1315</th>\n",
       "      <td>4.778967</td>\n",
       "      <td>4.778967</td>\n",
       "    </tr>\n",
       "    <tr>\n",
       "      <th>1347</th>\n",
       "      <td>5.726993</td>\n",
       "      <td>5.726993</td>\n",
       "    </tr>\n",
       "    <tr>\n",
       "      <th>1435</th>\n",
       "      <td>5.185862</td>\n",
       "      <td>5.185862</td>\n",
       "    </tr>\n",
       "    <tr>\n",
       "      <th>1438</th>\n",
       "      <td>5.140043</td>\n",
       "      <td>5.140043</td>\n",
       "    </tr>\n",
       "  </tbody>\n",
       "</table>\n",
       "</div>"
      ],
      "text/plain": [
       "       pred_sm  pred_sklearn\n",
       "72    4.318525      4.318525\n",
       "99    4.393668      4.393668\n",
       "151   4.410457      4.410457\n",
       "197   4.319014      4.319014\n",
       "241   4.650617      4.650617\n",
       "251   3.803308      3.803308\n",
       "284   4.179736      4.179736\n",
       "334   4.127442      4.127442\n",
       "410   4.135034      4.135034\n",
       "413   4.160539      4.160539\n",
       "445   4.177420      4.177420\n",
       "481   3.768554      3.768554\n",
       "505   4.058764      4.058764\n",
       "611   4.298047      4.298047\n",
       "654   4.160607      4.160607\n",
       "675   4.094065      4.094065\n",
       "710   4.439846      4.439846\n",
       "739   4.470650      4.470650\n",
       "742   4.341643      4.341643\n",
       "780   4.080414      4.080414\n",
       "798   3.614306      3.614306\n",
       "844   4.371811      4.371811\n",
       "845   4.093621      4.093621\n",
       "871   4.249629      4.249629\n",
       "895   3.893748      3.893748\n",
       "919   3.746333      3.746333\n",
       "945   4.237415      4.237415\n",
       "946   4.710533      4.710533\n",
       "981   4.137780      4.137780\n",
       "1076  5.050277      5.050277\n",
       "1121  4.802145      4.802145\n",
       "1176  5.067584      5.067584\n",
       "1303  5.047570      5.047570\n",
       "1315  4.778967      4.778967\n",
       "1347  5.726993      5.726993\n",
       "1435  5.185862      5.185862\n",
       "1438  5.140043      5.140043"
      ]
     },
     "execution_count": 207,
     "metadata": {},
     "output_type": "execute_result"
    }
   ],
   "source": [
    "# comparaison predictions des 2 modèles\n",
    "df_compar_model = pd.DataFrame()\n",
    "df_compar_model['pred_sm'] = results.predict(donnees_manquantes_sm)\n",
    "df_compar_model['pred_sklearn'] = model.predict(donnees_manquantes)\n",
    "df_compar_model"
   ]
  },
  {
   "cell_type": "markdown",
   "id": "412ca57f",
   "metadata": {},
   "source": [
    "Les résultats sont identiques."
   ]
  },
  {
   "cell_type": "markdown",
   "id": "72787e47",
   "metadata": {},
   "source": [
    "### Vérification de la normalité des résidus"
   ]
  },
  {
   "cell_type": "code",
   "execution_count": 208,
   "id": "e81e82bd",
   "metadata": {},
   "outputs": [
    {
     "data": {
      "text/plain": [
       "ShapiroResult(statistic=0.9857882857322693, pvalue=8.540482210328548e-11)"
      ]
     },
     "execution_count": 208,
     "metadata": {},
     "output_type": "execute_result"
    }
   ],
   "source": [
    "shapiro(results.resid)"
   ]
  },
  {
   "cell_type": "code",
   "execution_count": 209,
   "id": "290ac312",
   "metadata": {},
   "outputs": [
    {
     "data": {
      "text/plain": [
       "<Axes: ylabel='Count'>"
      ]
     },
     "execution_count": 209,
     "metadata": {},
     "output_type": "execute_result"
    },
    {
     "data": {
      "image/png": "[encoded data removed]",
      "text/plain": [
       "<Figure size 640x480 with 1 Axes>"
      ]
     },
     "metadata": {},
     "output_type": "display_data"
    }
   ],
   "source": [
    "sns.histplot(results.resid)"
   ]
  },
  {
   "cell_type": "markdown",
   "id": "4c7f0a69",
   "metadata": {},
   "source": [
    "**Le test de Shapiro-Wilk ne passe pas l'allure de la distribution est Gaussienne.  \n",
    "On considère la distribution acceptable pour notre régression.**"
   ]
  },
  {
   "cell_type": "markdown",
   "id": "79a65483",
   "metadata": {},
   "source": [
    "### Vérification des VIF"
   ]
  },
  {
   "cell_type": "markdown",
   "id": "b7591869",
   "metadata": {},
   "source": [
    "**On calcul des VIF pour vérifier que les variables ne s'influencent pas entre elles.**"
   ]
  },
  {
   "cell_type": "code",
   "execution_count": 210,
   "id": "a21f1734",
   "metadata": {
    "scrolled": true
   },
   "outputs": [
    {
     "data": {
      "text/html": [
       "<div>\n",
       "<style scoped>\n",
       "    .dataframe tbody tr th:only-of-type {\n",
       "        vertical-align: middle;\n",
       "    }\n",
       "\n",
       "    .dataframe tbody tr th {\n",
       "        vertical-align: top;\n",
       "    }\n",
       "\n",
       "    .dataframe thead th {\n",
       "        text-align: right;\n",
       "    }\n",
       "</style>\n",
       "<table border=\"1\" class=\"dataframe\">\n",
       "  <thead>\n",
       "    <tr style=\"text-align: right;\">\n",
       "      <th></th>\n",
       "      <th>VIF</th>\n",
       "    </tr>\n",
       "  </thead>\n",
       "  <tbody>\n",
       "    <tr>\n",
       "      <th>const</th>\n",
       "      <td>590198.238883</td>\n",
       "    </tr>\n",
       "    <tr>\n",
       "      <th>diagonal</th>\n",
       "      <td>1.013613</td>\n",
       "    </tr>\n",
       "    <tr>\n",
       "      <th>height_left</th>\n",
       "      <td>1.138261</td>\n",
       "    </tr>\n",
       "    <tr>\n",
       "      <th>height_right</th>\n",
       "      <td>1.230115</td>\n",
       "    </tr>\n",
       "    <tr>\n",
       "      <th>margin_up</th>\n",
       "      <td>1.404404</td>\n",
       "    </tr>\n",
       "    <tr>\n",
       "      <th>length</th>\n",
       "      <td>1.576950</td>\n",
       "    </tr>\n",
       "  </tbody>\n",
       "</table>\n",
       "</div>"
      ],
      "text/plain": [
       "                        VIF\n",
       "const         590198.238883\n",
       "diagonal           1.013613\n",
       "height_left        1.138261\n",
       "height_right       1.230115\n",
       "margin_up          1.404404\n",
       "length             1.576950"
      ]
     },
     "execution_count": 210,
     "metadata": {},
     "output_type": "execute_result"
    }
   ],
   "source": [
    "vif = [variance_inflation_factor(X_sm, i) for i in range(X_sm.shape[1])]\n",
    "df_vif = pd.DataFrame(vif, index=X_sm.columns, columns=['VIF'])\n",
    "df_vif"
   ]
  },
  {
   "cell_type": "markdown",
   "id": "5d7a6a16",
   "metadata": {},
   "source": [
    "**Tous les coefficients VIF sont inférieurs à 10, donc les variables ne sont pas colinéaire.  \n",
    "La régression linéaire remplie tous ses paramètres et est validée.**"
   ]
  },
  {
   "cell_type": "markdown",
   "id": "250ae89f",
   "metadata": {},
   "source": [
    "<a id='exploration' ></a>\n",
    "# Exploration<a href=\"#sommaire\" style=\"font-size : 10px ; padding-left:10px\">Retour Sommaire</a>"
   ]
  },
  {
   "cell_type": "markdown",
   "id": "9855a5a8",
   "metadata": {},
   "source": [
    "<a id='univar' ></a>\n",
    "## Analyses univariées<a href=\"#sommaire\" style=\"font-size : 10px ; padding-left:10px\">Retour Sommaire</a>"
   ]
  },
  {
   "cell_type": "markdown",
   "id": "6b31460d",
   "metadata": {},
   "source": [
    "### Répartition des variables explicatives pour les vrais et les faux billets"
   ]
  },
  {
   "cell_type": "code",
   "execution_count": 211,
   "id": "0f3a4ee2",
   "metadata": {},
   "outputs": [
    {
     "data": {
      "image/png": "[encoded data removed]",
      "text/plain": [
       "<Figure size 1500x2000 with 6 Axes>"
      ]
     },
     "metadata": {},
     "output_type": "display_data"
    }
   ],
   "source": [
    "nb_col = data.drop(columns='is_genuine').shape[1]\n",
    "\n",
    "plt.figure(figsize=(15, 20))\n",
    "\n",
    "for col, i in zip(data.drop(columns='is_genuine').columns, range(nb_col)):\n",
    "    plt.xlabel(None)\n",
    "    plt.ylabel(None)\n",
    "    plt.subplot(1+nb_col//2, 2, i+1)\n",
    "    plt.title(col)\n",
    "    sns.histplot(data=data, x=col, hue='is_genuine')"
   ]
  },
  {
   "cell_type": "markdown",
   "id": "2bfa5008",
   "metadata": {},
   "source": [
    "**Il semblerait que les distributions soient normales pour toutes les variables pour les vrais et faux billets.**\n",
    "\n",
    "Il semblerait aussi que les **valeurs des variables soient significativement différentes pour les vrais et faux billets pour toutes les variables à part la variable 'diagonal'.**\n",
    "\n",
    "Les **différences sont particulièrement marquées** pour les variables **margin_low, margin_up et length.**"
   ]
  },
  {
   "cell_type": "code",
   "execution_count": 212,
   "id": "ac61d3f9",
   "metadata": {},
   "outputs": [
    {
     "data": {
      "text/plain": [
       "<Axes: >"
      ]
     },
     "execution_count": 212,
     "metadata": {},
     "output_type": "execute_result"
    },
    {
     "data": {
      "image/png": "[encoded data removed]",
      "text/plain": [
       "<Figure size 640x480 with 2 Axes>"
      ]
     },
     "metadata": {},
     "output_type": "display_data"
    }
   ],
   "source": [
    "# matrice de corrélations\n",
    "sns.heatmap(data.corr(), annot=True)"
   ]
  },
  {
   "cell_type": "markdown",
   "id": "173067c8",
   "metadata": {},
   "source": [
    "Cela confirme l'hypothèse du dessus, se sont surtout les **variables margin_low, margin_up et length qui sont corrélées à la variable cible.**"
   ]
  },
  {
   "cell_type": "markdown",
   "id": "aba6a72a",
   "metadata": {},
   "source": [
    "<a id='testhyp' ></a>\n",
    "## Test d'hypothèse<a href=\"#sommaire\" style=\"font-size : 10px ; padding-left:10px\">Retour Sommaire</a>\n",
    "**Vérifier si les différences entre les vrais et les faux billets sont significatives pour chaque variable.**"
   ]
  },
  {
   "cell_type": "markdown",
   "id": "5711e9c5",
   "metadata": {},
   "source": [
    "On va réaliser un **test de student** qui va comparer la moyenne des 2 populations.\n",
    "\n",
    "Les prérequis du test de student sont :\n",
    "- La normalité de la distribution des 2 groupes.\n",
    "- L'homogénéité des variances des 2 groupes."
   ]
  },
  {
   "cell_type": "code",
   "execution_count": 213,
   "id": "1583146f",
   "metadata": {},
   "outputs": [],
   "source": [
    "data_true = data[data['is_genuine']==True]\n",
    "data_false = data[data['is_genuine']==False]"
   ]
  },
  {
   "cell_type": "markdown",
   "id": "ba0a3a13",
   "metadata": {},
   "source": [
    "### Normalité des distribution"
   ]
  },
  {
   "cell_type": "code",
   "execution_count": 214,
   "id": "b0556392",
   "metadata": {},
   "outputs": [
    {
     "name": "stdout",
     "output_type": "stream",
     "text": [
      "diagonal\n",
      "Vrai billet\n",
      "ShapiroResult(statistic=0.9980633854866028, pvalue=0.3102126121520996)\n",
      "Faux billet\n",
      "ShapiroResult(statistic=0.9974355697631836, pvalue=0.6387675404548645)\n",
      "____________________________________________________________________________________________________\n",
      "height_left\n",
      "Vrai billet\n",
      "ShapiroResult(statistic=0.9965806603431702, pvalue=0.028511906042695045)\n",
      "Faux billet\n",
      "ShapiroResult(statistic=0.9978764057159424, pvalue=0.7906213998794556)\n",
      "____________________________________________________________________________________________________\n",
      "height_right\n",
      "Vrai billet\n",
      "ShapiroResult(statistic=0.9985494613647461, pvalue=0.5872448086738586)\n",
      "Faux billet\n",
      "ShapiroResult(statistic=0.9979901313781738, pvalue=0.826613187789917)\n",
      "____________________________________________________________________________________________________\n",
      "margin_low\n",
      "Vrai billet\n",
      "ShapiroResult(statistic=0.9982866048812866, pvalue=0.4238669276237488)\n",
      "Faux billet\n",
      "ShapiroResult(statistic=0.9970296025276184, pvalue=0.500741720199585)\n",
      "____________________________________________________________________________________________________\n",
      "margin_up\n",
      "Vrai billet\n",
      "ShapiroResult(statistic=0.9981580376625061, pvalue=0.3552444279193878)\n",
      "Faux billet\n",
      "ShapiroResult(statistic=0.9957337379455566, pvalue=0.1925809681415558)\n",
      "____________________________________________________________________________________________________\n",
      "length\n",
      "Vrai billet\n",
      "ShapiroResult(statistic=0.9980486035346985, pvalue=0.30358031392097473)\n",
      "Faux billet\n",
      "ShapiroResult(statistic=0.9971092343330383, pvalue=0.526782214641571)\n",
      "____________________________________________________________________________________________________\n"
     ]
    }
   ],
   "source": [
    "for col in data.drop(columns='is_genuine').columns:\n",
    "    print(col)\n",
    "    print('Vrai billet')\n",
    "    print(shapiro(data_true[col]))\n",
    "    print('Faux billet')\n",
    "    print(shapiro(data_false[col]))\n",
    "    print('_'*100)"
   ]
  },
  {
   "cell_type": "markdown",
   "id": "ddda0b26",
   "metadata": {},
   "source": [
    "**Toutes les distributions sont considérées normales si on prends un alpha=0.01.**"
   ]
  },
  {
   "cell_type": "markdown",
   "id": "283b8c4f",
   "metadata": {},
   "source": [
    "### Homogénéité des variances"
   ]
  },
  {
   "cell_type": "markdown",
   "id": "76fb48bd",
   "metadata": {},
   "source": [
    "**Test de Bartlett** avec :\n",
    "\n",
    "    H0 : Les variances des sous groupes sont égales\n",
    "    H1 : Les variances des sous groupes sont différentes\n",
    "    \n",
    "alpha=1%"
   ]
  },
  {
   "cell_type": "code",
   "execution_count": 215,
   "id": "e8fa4fe8",
   "metadata": {},
   "outputs": [
    {
     "name": "stdout",
     "output_type": "stream",
     "text": [
      "diagonal\n",
      "BartlettResult(statistic=0.2987117108240286, pvalue=0.5846911917435405)\n",
      "____________________________________________________________________________________________________\n",
      "height_left\n",
      "BartlettResult(statistic=53.27625211922919, pvalue=2.8978873571016144e-13)\n",
      "____________________________________________________________________________________________________\n",
      "height_right\n",
      "BartlettResult(statistic=3.542589524124933, pvalue=0.05981201390578732)\n",
      "____________________________________________________________________________________________________\n",
      "margin_low\n",
      "BartlettResult(statistic=216.88739037276582, pvalue=4.31861679806311e-49)\n",
      "____________________________________________________________________________________________________\n",
      "margin_up\n",
      "BartlettResult(statistic=0.6698400851031404, pvalue=0.41310736619306765)\n",
      "____________________________________________________________________________________________________\n",
      "length\n",
      "BartlettResult(statistic=207.23111965352825, pvalue=5.520465521419425e-47)\n",
      "____________________________________________________________________________________________________\n"
     ]
    }
   ],
   "source": [
    "for col in data.drop(columns='is_genuine').columns:\n",
    "    print(col)\n",
    "    print(bartlett(data_true[col], data_false[col]))\n",
    "    print('_'*100)"
   ]
  },
  {
   "cell_type": "markdown",
   "id": "fd870a01",
   "metadata": {},
   "source": [
    "**Le test d'homogénéité des variances est passé pour 'diagonal', 'height_right' et 'margin_up'.**\n",
    "\n",
    "On peut uniquement passer le test de student pour ces variables."
   ]
  },
  {
   "cell_type": "markdown",
   "id": "c045dfb4",
   "metadata": {},
   "source": [
    "### Test de Student"
   ]
  },
  {
   "cell_type": "code",
   "execution_count": 216,
   "id": "07949f2b",
   "metadata": {},
   "outputs": [
    {
     "name": "stdout",
     "output_type": "stream",
     "text": [
      "diagonal\n",
      "Ttest_indResult(statistic=5.184087524514633, pvalue=2.4668667372034535e-07)\n",
      "____________________________________________________________________________________________________\n",
      "height_left\n",
      "Ttest_indResult(statistic=-15.8920858636644, pvalue=1.1269164017693944e-52)\n",
      "____________________________________________________________________________________________________\n",
      "height_right\n",
      "Ttest_indResult(statistic=-21.470310019402618, pvalue=2.2708556903459502e-89)\n",
      "____________________________________________________________________________________________________\n",
      "margin_low\n",
      "Ttest_indResult(statistic=-48.79265591014387, pvalue=8.919896249647e-312)\n",
      "____________________________________________________________________________________________________\n",
      "margin_up\n",
      "Ttest_indResult(statistic=-29.50561631725463, pvalue=3.144530308715909e-151)\n",
      "____________________________________________________________________________________________________\n",
      "length\n",
      "Ttest_indResult(statistic=62.262782927091045, pvalue=0.0)\n",
      "____________________________________________________________________________________________________\n"
     ]
    }
   ],
   "source": [
    "for col in data.drop(columns='is_genuine').columns:\n",
    "    print(col)\n",
    "    print(ttest_ind(data_true[col], data_false[col]))\n",
    "    print('_'*100)"
   ]
  },
  {
   "cell_type": "markdown",
   "id": "6a56c018",
   "metadata": {},
   "source": [
    "**On considère les moyennes des groupes (vrais et faux billets) statistiquement différentes pour toutes les variables.  \n",
    "Mais le test n'est officiellement validé que pour les variables 'diagonal', 'height_right' et 'margin_up'.**"
   ]
  },
  {
   "cell_type": "markdown",
   "id": "fc50e2ca",
   "metadata": {},
   "source": [
    "### Détermination des valeurs aberrantes avec le zscore"
   ]
  },
  {
   "cell_type": "markdown",
   "id": "559fac75",
   "metadata": {},
   "source": [
    "Détermination des valeurs aberrantes avec la méthode du zscore.  \n",
    "Je calcule le zscore indépendamment pour les vrais billets et les faux billets étant donné qu'ils n'ont pas les mêmes caractéristiques."
   ]
  },
  {
   "cell_type": "code",
   "execution_count": 217,
   "id": "96446ed7",
   "metadata": {},
   "outputs": [],
   "source": [
    "data_zscore = data.copy()\n",
    "data_true_zscore = data_true.copy()\n",
    "data_false_zscore = data_false.copy()"
   ]
  },
  {
   "cell_type": "code",
   "execution_count": 218,
   "id": "aedb55fd",
   "metadata": {},
   "outputs": [
    {
     "name": "stdout",
     "output_type": "stream",
     "text": [
      "Variable diagonal\n",
      "3 vrais billets considérés aberrants par le zscore.\n",
      "2 faux billets considérés aberrants par le zscore.\n",
      "Soit 5 billets considérés aberrants au total\n",
      "____________________________________________________________________________________________________\n",
      "Variable height_left\n",
      "1 vrais billets considérés aberrants par le zscore.\n",
      "2 faux billets considérés aberrants par le zscore.\n",
      "Soit 3 billets considérés aberrants au total\n",
      "____________________________________________________________________________________________________\n",
      "Variable height_right\n",
      "4 vrais billets considérés aberrants par le zscore.\n",
      "0 faux billets considérés aberrants par le zscore.\n",
      "Soit 4 billets considérés aberrants au total\n",
      "____________________________________________________________________________________________________\n",
      "Variable margin_low\n",
      "3 vrais billets considérés aberrants par le zscore.\n",
      "1 faux billets considérés aberrants par le zscore.\n",
      "Soit 4 billets considérés aberrants au total\n",
      "____________________________________________________________________________________________________\n",
      "Variable margin_up\n",
      "3 vrais billets considérés aberrants par le zscore.\n",
      "1 faux billets considérés aberrants par le zscore.\n",
      "Soit 4 billets considérés aberrants au total\n",
      "____________________________________________________________________________________________________\n",
      "Variable length\n",
      "3 vrais billets considérés aberrants par le zscore.\n",
      "3 faux billets considérés aberrants par le zscore.\n",
      "Soit 6 billets considérés aberrants au total\n",
      "____________________________________________________________________________________________________\n"
     ]
    }
   ],
   "source": [
    "# création d'une liste où on stocke les index des valeurs qui ne passe pas le test du zscore\n",
    "index_zscore = []\n",
    "\n",
    "for col in data.drop(columns='is_genuine').columns : \n",
    "    \n",
    "    # données rejetées\n",
    "    donnees_rejetee_true = list(data_true_zscore[abs(st.zscore(data_true_zscore[col]))>=3].index.values)\n",
    "    donnees_rejetee_false = list(data_false_zscore[abs(st.zscore(data_false_zscore[col]))>=3].index.values)\n",
    "    index_zscore.append(donnees_rejetee_true)\n",
    "    index_zscore.append(donnees_rejetee_false)\n",
    "    \n",
    "    # données conservées\n",
    "    data_true_zscore_en_cours = data_true_zscore[abs(st.zscore(data_true_zscore[col]))<3]\n",
    "    data_false_zscore_en_cours = data_false_zscore[abs(st.zscore(data_false_zscore[col]))<3]\n",
    "    data_zscore = pd.concat((data_true_zscore_en_cours, data_false_zscore_en_cours), axis=0)\n",
    "    print(f\"Variable {col}\")\n",
    "    print(f\"{data_true.shape[0] - data_true_zscore_en_cours.shape[0]} vrais billets considérés aberrants par le zscore.\")\n",
    "    print(f\"{data_false.shape[0] - data_false_zscore_en_cours.shape[0]} faux billets considérés aberrants par le zscore.\")\n",
    "    print(f\"Soit {data.shape[0] - data_zscore.shape[0]} billets considérés aberrants au total\")\n",
    "    print('_'*100)\n",
    "\n",
    "index_zscore = list(chain(*index_zscore))"
   ]
  },
  {
   "cell_type": "markdown",
   "id": "b3f4b057",
   "metadata": {},
   "source": [
    "**Au total, serait ferait 26 valeurs considérées aberrantes avec la méthodes du zscore.**\n",
    "\n",
    "**Pour la modélisation, on conserve toutes les valeurs car l'algorithme prédictif donne de meilleur résultat avec la totalité des billets.**"
   ]
  },
  {
   "cell_type": "markdown",
   "id": "0a7c7cd8",
   "metadata": {},
   "source": [
    "<a id='modelisation' ></a>\n",
    "# Modélisation<a href=\"#sommaire\" style=\"font-size : 10px ; padding-left:10px\">Retour Sommaire</a>"
   ]
  },
  {
   "cell_type": "markdown",
   "id": "c7a8e516",
   "metadata": {},
   "source": [
    "## Présentation de la régression logistique"
   ]
  },
  {
   "attachments": {
    "image.png": {
     "image/png": "[encoded data removed]"
    }
   },
   "cell_type": "markdown",
   "id": "e628cfb8",
   "metadata": {},
   "source": [
    "**La régression logistique est un modèle statistique utilisé pour modéliser la probabilité d'un événement binaire en fonction d'un ensemble de variables indépendantes.**\n",
    "\n",
    "**Elle permet de prédire en fonction d'un ensemble de donnée, si une valeur appartient à une classe ou à une autre.**\n",
    "\n",
    "**Elle fonctionne de la même manière que la régression linéaire multiple, à la différence que notre équation : \n",
    "![image.png](attachment:image.png)\n",
    "va passer dans la fonction logistique (sigmoid) pour donner une probabilité d'appartenir à une classe ou à une autre.**\n",
    "\n",
    "**Voici donc l'équation finale de notre fonction logistique :**"
   ]
  },
  {
   "attachments": {
    "image.png": {
     "image/png": "[encoded data removed]"
    }
   },
   "cell_type": "markdown",
   "id": "a35ff62f",
   "metadata": {},
   "source": [
    "![image.png](attachment:image.png)"
   ]
  },
  {
   "cell_type": "markdown",
   "id": "91055f44",
   "metadata": {},
   "source": [
    "**En fonction des valeurs des variables explicatives, on applique la probabilité à la variable cible d'être égale à 0 ou 1.**\n",
    "\n",
    "**Dans notre cas Vrai ou Faux.**"
   ]
  },
  {
   "cell_type": "markdown",
   "id": "804db877",
   "metadata": {},
   "source": [
    "<a id='reglogsklearn' ></a>\n",
    "## Régression Logistique avec sklearn<a href=\"#sommaire\" style=\"font-size : 10px ; padding-left:10px\">Retour Sommaire</a>"
   ]
  },
  {
   "cell_type": "code",
   "execution_count": 219,
   "id": "2dd80891",
   "metadata": {},
   "outputs": [],
   "source": [
    "data['is_genuine'] = data['is_genuine'].replace([True, False], [1,0])"
   ]
  },
  {
   "cell_type": "code",
   "execution_count": 220,
   "id": "790d8735",
   "metadata": {},
   "outputs": [],
   "source": [
    "# cible et features\n",
    "# features standardisées pour afficher la courbe d'apprentissage\n",
    "X = StandardScaler().fit_transform(data.drop(columns='is_genuine'))\n",
    "y = data['is_genuine']"
   ]
  },
  {
   "cell_type": "code",
   "execution_count": 221,
   "id": "2b656471",
   "metadata": {},
   "outputs": [],
   "source": [
    "# création des jeux d'entrainement et de test\n",
    "X_train, X_test, y_train, y_test = train_test_split(X, y, test_size=0.2, random_state=1)"
   ]
  },
  {
   "cell_type": "code",
   "execution_count": 222,
   "id": "26b1d552",
   "metadata": {},
   "outputs": [
    {
     "name": "stdout",
     "output_type": "stream",
     "text": [
      "1    798\n",
      "0    402\n",
      "Name: is_genuine, dtype: int64\n",
      "1    202\n",
      "0     98\n",
      "Name: is_genuine, dtype: int64\n"
     ]
    }
   ],
   "source": [
    "print(y_train.value_counts())\n",
    "print(y_test.value_counts())"
   ]
  },
  {
   "cell_type": "code",
   "execution_count": 223,
   "id": "6494c1c3",
   "metadata": {},
   "outputs": [
    {
     "name": "stdout",
     "output_type": "stream",
     "text": [
      "L'accuracy (exactitude) est de 0.9966666666666667\n"
     ]
    }
   ],
   "source": [
    "# creation du modèle de régression logistique\n",
    "model = LogisticRegression()\n",
    "\n",
    "model.fit(X_train, y_train)\n",
    "\n",
    "print(f\"L'accuracy (exactitude) est de {model.score(X_test, y_test)}\")"
   ]
  },
  {
   "cell_type": "markdown",
   "id": "551669a3",
   "metadata": {},
   "source": [
    "### Evaluation"
   ]
  },
  {
   "cell_type": "code",
   "execution_count": 224,
   "id": "88207ee9",
   "metadata": {},
   "outputs": [
    {
     "data": {
      "image/png": "[encoded data removed]",
      "text/plain": [
       "<Figure size 640x480 with 1 Axes>"
      ]
     },
     "metadata": {},
     "output_type": "display_data"
    }
   ],
   "source": [
    "# courbe d'apprentissage du meilleur estimateur, on utilise le score F1\n",
    "N, train_score, val_score = learning_curve(model, X_train, y_train, train_sizes=np.linspace(0.1, 1, 10), cv=5, scoring='f1')\n",
    "\n",
    "plt.title(f\"Courbe d'apprentissage\")\n",
    "plt.plot(N, train_score.mean(axis=1), label='train_set')\n",
    "plt.plot(N, val_score.mean(axis=1), label='val_set')\n",
    "plt.xlabel(\"Quantité de données\")\n",
    "plt.ylabel(\"R²\")\n",
    "plt.ylim((0,1.2))\n",
    "plt.legend()\n",
    "plt.show()"
   ]
  },
  {
   "cell_type": "markdown",
   "id": "ba149255",
   "metadata": {},
   "source": [
    "**Les jeux d'entrainement et de validation ont une accuracy similaire proche de 1.  \n",
    "Le modèle n'est donc pas en sur-apprentissage et est capable de généraliser.**"
   ]
  },
  {
   "cell_type": "markdown",
   "id": "59e6b758",
   "metadata": {},
   "source": [
    "#### Matrice de confusion"
   ]
  },
  {
   "cell_type": "code",
   "execution_count": 225,
   "id": "34d0dba0",
   "metadata": {},
   "outputs": [
    {
     "data": {
      "text/html": [
       "<div>\n",
       "<style scoped>\n",
       "    .dataframe tbody tr th:only-of-type {\n",
       "        vertical-align: middle;\n",
       "    }\n",
       "\n",
       "    .dataframe tbody tr th {\n",
       "        vertical-align: top;\n",
       "    }\n",
       "\n",
       "    .dataframe thead th {\n",
       "        text-align: right;\n",
       "    }\n",
       "</style>\n",
       "<table border=\"1\" class=\"dataframe\">\n",
       "  <thead>\n",
       "    <tr style=\"text-align: right;\">\n",
       "      <th></th>\n",
       "      <th>Prédit Faux</th>\n",
       "      <th>Prédit Vrai</th>\n",
       "    </tr>\n",
       "  </thead>\n",
       "  <tbody>\n",
       "    <tr>\n",
       "      <th>Faux</th>\n",
       "      <td>97</td>\n",
       "      <td>1</td>\n",
       "    </tr>\n",
       "    <tr>\n",
       "      <th>Vrai</th>\n",
       "      <td>0</td>\n",
       "      <td>202</td>\n",
       "    </tr>\n",
       "  </tbody>\n",
       "</table>\n",
       "</div>"
      ],
      "text/plain": [
       "      Prédit Faux  Prédit Vrai\n",
       "Faux           97            1\n",
       "Vrai            0          202"
      ]
     },
     "execution_count": 225,
     "metadata": {},
     "output_type": "execute_result"
    }
   ],
   "source": [
    "y_pred = model.predict(X_test)\n",
    "# matrice de confusion\n",
    "pd.DataFrame(confusion_matrix(y_test, y_pred), columns=['Prédit Faux', 'Prédit Vrai'],\n",
    "             index=['Faux', 'Vrai'])"
   ]
  },
  {
   "cell_type": "code",
   "execution_count": 226,
   "id": "55a7aa33",
   "metadata": {},
   "outputs": [
    {
     "data": {
      "text/html": [
       "<div>\n",
       "<style scoped>\n",
       "    .dataframe tbody tr th:only-of-type {\n",
       "        vertical-align: middle;\n",
       "    }\n",
       "\n",
       "    .dataframe tbody tr th {\n",
       "        vertical-align: top;\n",
       "    }\n",
       "\n",
       "    .dataframe thead th {\n",
       "        text-align: right;\n",
       "    }\n",
       "</style>\n",
       "<table border=\"1\" class=\"dataframe\">\n",
       "  <thead>\n",
       "    <tr style=\"text-align: right;\">\n",
       "      <th></th>\n",
       "      <th>is_genuine</th>\n",
       "      <th>y_pred</th>\n",
       "    </tr>\n",
       "  </thead>\n",
       "  <tbody>\n",
       "    <tr>\n",
       "      <th>1407</th>\n",
       "      <td>0</td>\n",
       "      <td>1</td>\n",
       "    </tr>\n",
       "  </tbody>\n",
       "</table>\n",
       "</div>"
      ],
      "text/plain": [
       "      is_genuine  y_pred\n",
       "1407           0       1"
      ]
     },
     "execution_count": 226,
     "metadata": {},
     "output_type": "execute_result"
    }
   ],
   "source": [
    "# vérification du faux positif\n",
    "test_pred = pd.DataFrame(y_test)\n",
    "\n",
    "test_pred['y_pred'] = y_pred\n",
    "\n",
    "test_pred.loc[(test_pred['is_genuine']==0)&(test_pred['y_pred']==1)]"
   ]
  },
  {
   "cell_type": "markdown",
   "id": "4a8150b0",
   "metadata": {},
   "source": [
    "#### Classification report"
   ]
  },
  {
   "cell_type": "code",
   "execution_count": 227,
   "id": "c68c7e1a",
   "metadata": {},
   "outputs": [
    {
     "name": "stdout",
     "output_type": "stream",
     "text": [
      "              precision    recall  f1-score   support\n",
      "\n",
      "           0       1.00      0.99      0.99        98\n",
      "           1       1.00      1.00      1.00       202\n",
      "\n",
      "    accuracy                           1.00       300\n",
      "   macro avg       1.00      0.99      1.00       300\n",
      "weighted avg       1.00      1.00      1.00       300\n",
      "\n"
     ]
    }
   ],
   "source": [
    "# classification report\n",
    "print(classification_report(y_test, y_pred))"
   ]
  },
  {
   "cell_type": "markdown",
   "id": "0e0492fa",
   "metadata": {},
   "source": [
    "**On retrouve ici toutes les métriques importantes d'un algorithme de classification, nous allons les voir plus en détail avec l'analyse de la courbe ROC.**"
   ]
  },
  {
   "cell_type": "markdown",
   "id": "18e4abb4",
   "metadata": {},
   "source": [
    "#### Courbe ROC"
   ]
  },
  {
   "cell_type": "markdown",
   "id": "ef99cb92",
   "metadata": {},
   "source": [
    "**La courbe ROC, est un outil utilisé pour évaluer les performances d'un modèle de classification binaire, tel qu'un modèle de machine learning qui doit décider entre deux classes, comme \"vrai\" et \"faux\".**\n",
    "\n",
    "**Cet outil permet de visualiser la capacité d'un modèle à discriminer entre ces deux classes en fonction de différents seuils de classification.\n",
    "Le seuil de classification correspond à la probabilité à partir de laquelle on considère qu'une valeurs appartient à une classe ou à une autre. Par défaut ce seuil est de 0.5**"
   ]
  },
  {
   "cell_type": "markdown",
   "id": "f3797b1a",
   "metadata": {},
   "source": [
    "**La courbe ROC représente les vrais positifs (sensibilité) en fonction des faux positifs (anti spécificité) avec différentes valeurs de seuils.**"
   ]
  },
  {
   "cell_type": "code",
   "execution_count": 228,
   "id": "312a6c14",
   "metadata": {},
   "outputs": [
    {
     "data": {
      "image/png": "[encoded data removed]",
      "text/plain": [
       "<Figure size 640x480 with 1 Axes>"
      ]
     },
     "metadata": {},
     "output_type": "display_data"
    }
   ],
   "source": [
    "# probabilité pour chaque observation de X_test d'appartenir à la classe 1\n",
    "y_pred_prob = model.predict_proba(X_test)[:,1]\n",
    "\n",
    "# courbe ROC\n",
    "fpr, tpr, thresholds = roc_curve(y_test, y_pred_prob)\n",
    "\n",
    "plt.title(\"Courbe ROC\")\n",
    "plt.xlabel(\"False positive Rate\")\n",
    "plt.ylabel(\"True positive Rate\")\n",
    "plt.plot(fpr, tpr);"
   ]
  },
  {
   "cell_type": "code",
   "execution_count": 229,
   "id": "d6e08390",
   "metadata": {},
   "outputs": [
    {
     "name": "stdout",
     "output_type": "stream",
     "text": [
      "L'AUC score est de 0.9994, cet indicateur correspond à l'aire, plus l'aire est élevée, plus le modèle est qualitatif.\n"
     ]
    }
   ],
   "source": [
    "# AUC score\n",
    "auc_score = roc_auc_score(y_test, y_pred_prob)\n",
    "print(f\"L'AUC score est de {auc_score.round(4)}, cet indicateur correspond à l'aire, plus l'aire est élevée, plus le modèle est qualitatif.\")"
   ]
  },
  {
   "cell_type": "markdown",
   "id": "f53c5b5e",
   "metadata": {},
   "source": [
    "#### Incidence du seuil sur la sensibilité et la spécificité et détermination du meilleur seuil\n",
    "\n",
    "**On détermine le meilleur seuil en regardant ou la différence entre le taux de sensibilité et l'anti spécificité est maximiser.**"
   ]
  },
  {
   "cell_type": "code",
   "execution_count": 230,
   "id": "01948305",
   "metadata": {},
   "outputs": [],
   "source": [
    "seuils = np.linspace(0, 1, 20)\n",
    "anti_specificitys = []\n",
    "sensitivitys = []\n",
    "\n",
    "for seuil in seuils :\n",
    "    \n",
    "    y_pred = y_pred_prob >= seuil\n",
    "    tn, fp, fn, tp = confusion_matrix(y_test, y_pred).ravel()\n",
    "    confusion_matrice = pd.DataFrame(confusion_matrix(y_test, y_pred),\n",
    "                                    columns = ['Prédit Faux', 'Prédit Vrai'], index = ['Faux', 'Vrai'])\n",
    "    \n",
    "    # metrique de classification des faux billets, taux de faux negatifs\n",
    "    # probabilité lié aux vrais négatifs\n",
    "    specificity = tn/(tn+fp)\n",
    "    # taux de faux billets mal classés, taux de faux positifs\n",
    "    anti_specificity = 1 - specificity\n",
    "\n",
    "    # metrique de classification des vrais billets\n",
    "    # probabilité lié aux vrais positifs\n",
    "    sensitivity = tp/(tp+fn)\n",
    "    \n",
    "    anti_specificitys.append(anti_specificity)\n",
    "    sensitivitys.append(sensitivity)"
   ]
  },
  {
   "cell_type": "code",
   "execution_count": 231,
   "id": "21c3392f",
   "metadata": {},
   "outputs": [
    {
     "data": {
      "text/html": [
       "<div>\n",
       "<style scoped>\n",
       "    .dataframe tbody tr th:only-of-type {\n",
       "        vertical-align: middle;\n",
       "    }\n",
       "\n",
       "    .dataframe tbody tr th {\n",
       "        vertical-align: top;\n",
       "    }\n",
       "\n",
       "    .dataframe thead th {\n",
       "        text-align: right;\n",
       "    }\n",
       "</style>\n",
       "<table border=\"1\" class=\"dataframe\">\n",
       "  <thead>\n",
       "    <tr style=\"text-align: right;\">\n",
       "      <th></th>\n",
       "      <th>Seuil</th>\n",
       "      <th>Taux de vrais positifs</th>\n",
       "      <th>Taux de faux positifs</th>\n",
       "    </tr>\n",
       "  </thead>\n",
       "  <tbody>\n",
       "    <tr>\n",
       "      <th>0</th>\n",
       "      <td>0.000000</td>\n",
       "      <td>1.000000</td>\n",
       "      <td>1.000000</td>\n",
       "    </tr>\n",
       "    <tr>\n",
       "      <th>1</th>\n",
       "      <td>0.052632</td>\n",
       "      <td>1.000000</td>\n",
       "      <td>0.071429</td>\n",
       "    </tr>\n",
       "    <tr>\n",
       "      <th>2</th>\n",
       "      <td>0.105263</td>\n",
       "      <td>1.000000</td>\n",
       "      <td>0.051020</td>\n",
       "    </tr>\n",
       "    <tr>\n",
       "      <th>3</th>\n",
       "      <td>0.157895</td>\n",
       "      <td>1.000000</td>\n",
       "      <td>0.040816</td>\n",
       "    </tr>\n",
       "    <tr>\n",
       "      <th>4</th>\n",
       "      <td>0.210526</td>\n",
       "      <td>1.000000</td>\n",
       "      <td>0.030612</td>\n",
       "    </tr>\n",
       "    <tr>\n",
       "      <th>5</th>\n",
       "      <td>0.263158</td>\n",
       "      <td>1.000000</td>\n",
       "      <td>0.020408</td>\n",
       "    </tr>\n",
       "    <tr>\n",
       "      <th>6</th>\n",
       "      <td>0.315789</td>\n",
       "      <td>1.000000</td>\n",
       "      <td>0.020408</td>\n",
       "    </tr>\n",
       "    <tr>\n",
       "      <th>7</th>\n",
       "      <td>0.368421</td>\n",
       "      <td>1.000000</td>\n",
       "      <td>0.020408</td>\n",
       "    </tr>\n",
       "    <tr>\n",
       "      <th>8</th>\n",
       "      <td>0.421053</td>\n",
       "      <td>1.000000</td>\n",
       "      <td>0.010204</td>\n",
       "    </tr>\n",
       "    <tr>\n",
       "      <th>9</th>\n",
       "      <td>0.473684</td>\n",
       "      <td>1.000000</td>\n",
       "      <td>0.010204</td>\n",
       "    </tr>\n",
       "    <tr>\n",
       "      <th>10</th>\n",
       "      <td>0.526316</td>\n",
       "      <td>1.000000</td>\n",
       "      <td>0.010204</td>\n",
       "    </tr>\n",
       "    <tr>\n",
       "      <th>11</th>\n",
       "      <td>0.578947</td>\n",
       "      <td>1.000000</td>\n",
       "      <td>0.010204</td>\n",
       "    </tr>\n",
       "    <tr>\n",
       "      <th>12</th>\n",
       "      <td>0.631579</td>\n",
       "      <td>1.000000</td>\n",
       "      <td>0.010204</td>\n",
       "    </tr>\n",
       "    <tr>\n",
       "      <th>13</th>\n",
       "      <td>0.684211</td>\n",
       "      <td>0.995050</td>\n",
       "      <td>0.010204</td>\n",
       "    </tr>\n",
       "    <tr>\n",
       "      <th>14</th>\n",
       "      <td>0.736842</td>\n",
       "      <td>0.995050</td>\n",
       "      <td>0.010204</td>\n",
       "    </tr>\n",
       "    <tr>\n",
       "      <th>15</th>\n",
       "      <td>0.789474</td>\n",
       "      <td>0.985149</td>\n",
       "      <td>0.010204</td>\n",
       "    </tr>\n",
       "    <tr>\n",
       "      <th>16</th>\n",
       "      <td>0.842105</td>\n",
       "      <td>0.985149</td>\n",
       "      <td>0.010204</td>\n",
       "    </tr>\n",
       "    <tr>\n",
       "      <th>17</th>\n",
       "      <td>0.894737</td>\n",
       "      <td>0.980198</td>\n",
       "      <td>0.010204</td>\n",
       "    </tr>\n",
       "    <tr>\n",
       "      <th>18</th>\n",
       "      <td>0.947368</td>\n",
       "      <td>0.925743</td>\n",
       "      <td>0.000000</td>\n",
       "    </tr>\n",
       "    <tr>\n",
       "      <th>19</th>\n",
       "      <td>1.000000</td>\n",
       "      <td>0.000000</td>\n",
       "      <td>0.000000</td>\n",
       "    </tr>\n",
       "  </tbody>\n",
       "</table>\n",
       "</div>"
      ],
      "text/plain": [
       "       Seuil  Taux de vrais positifs  Taux de faux positifs\n",
       "0   0.000000                1.000000               1.000000\n",
       "1   0.052632                1.000000               0.071429\n",
       "2   0.105263                1.000000               0.051020\n",
       "3   0.157895                1.000000               0.040816\n",
       "4   0.210526                1.000000               0.030612\n",
       "5   0.263158                1.000000               0.020408\n",
       "6   0.315789                1.000000               0.020408\n",
       "7   0.368421                1.000000               0.020408\n",
       "8   0.421053                1.000000               0.010204\n",
       "9   0.473684                1.000000               0.010204\n",
       "10  0.526316                1.000000               0.010204\n",
       "11  0.578947                1.000000               0.010204\n",
       "12  0.631579                1.000000               0.010204\n",
       "13  0.684211                0.995050               0.010204\n",
       "14  0.736842                0.995050               0.010204\n",
       "15  0.789474                0.985149               0.010204\n",
       "16  0.842105                0.985149               0.010204\n",
       "17  0.894737                0.980198               0.010204\n",
       "18  0.947368                0.925743               0.000000\n",
       "19  1.000000                0.000000               0.000000"
      ]
     },
     "execution_count": 231,
     "metadata": {},
     "output_type": "execute_result"
    }
   ],
   "source": [
    "tableau_seuil = pd.DataFrame([seuils, sensitivitys, anti_specificitys],\n",
    "            index=['Seuil', 'Taux de vrais positifs', 'Taux de faux positifs']).T\n",
    "tableau_seuil"
   ]
  },
  {
   "cell_type": "markdown",
   "id": "672f13df",
   "metadata": {},
   "source": [
    "**Les seuils entre 0.421 et 0.684 offres les meilleurs résultats.  \n",
    "Le taux de vrais positifs (1.0) est maximum tandis que le taux de faux positifs est minimum (0.01).**\n",
    "\n",
    "**La différence entre les 2 est maximisée.**\n",
    "\n",
    "**Le taux initial à 0.5 est donc adapté.**"
   ]
  },
  {
   "cell_type": "markdown",
   "id": "d9e591d0",
   "metadata": {},
   "source": [
    "<a id='reglogstatmodel' ></a>\n",
    "## Régression Logistique avec statmodels<a href=\"#sommaire\" style=\"font-size : 10px ; padding-left:10px\">Retour Sommaire</a>"
   ]
  },
  {
   "cell_type": "code",
   "execution_count": 232,
   "id": "4cab65cd",
   "metadata": {},
   "outputs": [
    {
     "name": "stdout",
     "output_type": "stream",
     "text": [
      "Optimization terminated successfully.\n",
      "         Current function value: 0.030424\n",
      "         Iterations 13\n"
     ]
    },
    {
     "data": {
      "text/html": [
       "<table class=\"simpletable\">\n",
       "<caption>Logit Regression Results</caption>\n",
       "<tr>\n",
       "  <th>Dep. Variable:</th>      <td>is_genuine</td>    <th>  No. Observations:  </th>   <td>  1200</td>  \n",
       "</tr>\n",
       "<tr>\n",
       "  <th>Model:</th>                 <td>Logit</td>      <th>  Df Residuals:      </th>   <td>  1193</td>  \n",
       "</tr>\n",
       "<tr>\n",
       "  <th>Method:</th>                 <td>MLE</td>       <th>  Df Model:          </th>   <td>     6</td>  \n",
       "</tr>\n",
       "<tr>\n",
       "  <th>Date:</th>            <td>Sun, 24 Dec 2023</td> <th>  Pseudo R-squ.:     </th>   <td>0.9523</td>  \n",
       "</tr>\n",
       "<tr>\n",
       "  <th>Time:</th>                <td>12:38:04</td>     <th>  Log-Likelihood:    </th>  <td> -36.509</td> \n",
       "</tr>\n",
       "<tr>\n",
       "  <th>converged:</th>             <td>True</td>       <th>  LL-Null:           </th>  <td> -765.20</td> \n",
       "</tr>\n",
       "<tr>\n",
       "  <th>Covariance Type:</th>     <td>nonrobust</td>    <th>  LLR p-value:       </th> <td>9.132e-312</td>\n",
       "</tr>\n",
       "</table>\n",
       "<table class=\"simpletable\">\n",
       "<tr>\n",
       "        <td></td>          <th>coef</th>     <th>std err</th>      <th>z</th>      <th>P>|z|</th>  <th>[0.025</th>    <th>0.975]</th>  \n",
       "</tr>\n",
       "<tr>\n",
       "  <th>const</th>        <td> -215.0874</td> <td>  261.241</td> <td>   -0.823</td> <td> 0.410</td> <td> -727.111</td> <td>  296.936</td>\n",
       "</tr>\n",
       "<tr>\n",
       "  <th>diagonal</th>     <td>    0.1374</td> <td>    1.174</td> <td>    0.117</td> <td> 0.907</td> <td>   -2.163</td> <td>    2.438</td>\n",
       "</tr>\n",
       "<tr>\n",
       "  <th>height_left</th>  <td>   -1.7707</td> <td>    1.158</td> <td>   -1.529</td> <td> 0.126</td> <td>   -4.040</td> <td>    0.499</td>\n",
       "</tr>\n",
       "<tr>\n",
       "  <th>height_right</th> <td>   -1.9413</td> <td>    1.077</td> <td>   -1.803</td> <td> 0.071</td> <td>   -4.051</td> <td>    0.169</td>\n",
       "</tr>\n",
       "<tr>\n",
       "  <th>margin_low</th>   <td>   -5.7866</td> <td>    1.017</td> <td>   -5.691</td> <td> 0.000</td> <td>   -7.779</td> <td>   -3.794</td>\n",
       "</tr>\n",
       "<tr>\n",
       "  <th>margin_up</th>    <td>  -10.3765</td> <td>    2.326</td> <td>   -4.461</td> <td> 0.000</td> <td>  -14.935</td> <td>   -5.818</td>\n",
       "</tr>\n",
       "<tr>\n",
       "  <th>length</th>       <td>    5.6649</td> <td>    0.887</td> <td>    6.390</td> <td> 0.000</td> <td>    3.927</td> <td>    7.402</td>\n",
       "</tr>\n",
       "</table><br/><br/>Possibly complete quasi-separation: A fraction 0.49 of observations can be<br/>perfectly predicted. This might indicate that there is complete<br/>quasi-separation. In this case some parameters will not be identified."
      ],
      "text/plain": [
       "<class 'statsmodels.iolib.summary.Summary'>\n",
       "\"\"\"\n",
       "                           Logit Regression Results                           \n",
       "==============================================================================\n",
       "Dep. Variable:             is_genuine   No. Observations:                 1200\n",
       "Model:                          Logit   Df Residuals:                     1193\n",
       "Method:                           MLE   Df Model:                            6\n",
       "Date:                Sun, 24 Dec 2023   Pseudo R-squ.:                  0.9523\n",
       "Time:                        12:38:04   Log-Likelihood:                -36.509\n",
       "converged:                       True   LL-Null:                       -765.20\n",
       "Covariance Type:            nonrobust   LLR p-value:                9.132e-312\n",
       "================================================================================\n",
       "                   coef    std err          z      P>|z|      [0.025      0.975]\n",
       "--------------------------------------------------------------------------------\n",
       "const         -215.0874    261.241     -0.823      0.410    -727.111     296.936\n",
       "diagonal         0.1374      1.174      0.117      0.907      -2.163       2.438\n",
       "height_left     -1.7707      1.158     -1.529      0.126      -4.040       0.499\n",
       "height_right    -1.9413      1.077     -1.803      0.071      -4.051       0.169\n",
       "margin_low      -5.7866      1.017     -5.691      0.000      -7.779      -3.794\n",
       "margin_up      -10.3765      2.326     -4.461      0.000     -14.935      -5.818\n",
       "length           5.6649      0.887      6.390      0.000       3.927       7.402\n",
       "================================================================================\n",
       "\n",
       "Possibly complete quasi-separation: A fraction 0.49 of observations can be\n",
       "perfectly predicted. This might indicate that there is complete\n",
       "quasi-separation. In this case some parameters will not be identified.\n",
       "\"\"\""
      ]
     },
     "execution_count": 232,
     "metadata": {},
     "output_type": "execute_result"
    }
   ],
   "source": [
    "# df pour garder le nom des colonnes\n",
    "X_stat = pd.DataFrame(data.drop(columns='is_genuine'), columns=data.drop(columns='is_genuine').columns)\n",
    "\n",
    "# ajout de la constante\n",
    "X_stat = sm.add_constant(X_stat)\n",
    "\n",
    "# creation des jeux d'entrainement et de test\n",
    "X_train, X_test, y_train, y_test = train_test_split(X_stat, y, test_size=0.2, random_state=1)\n",
    "\n",
    "model = sm.Logit(y_train, X_train)\n",
    "\n",
    "results = model.fit()\n",
    "\n",
    "results.summary()"
   ]
  },
  {
   "cell_type": "markdown",
   "id": "6d7cf08b",
   "metadata": {},
   "source": [
    "**Certaines variables ne sont pas significatives pour le modèle, on va enlever la variable qui est la moins significative, ici 'diagonal', avec sa p-value de 0.907, puis relancer le modèle et vérifier la significativité des variable restante jusqu'à qu'elles soient toutes significatives.**"
   ]
  },
  {
   "cell_type": "code",
   "execution_count": 233,
   "id": "ccfb33db",
   "metadata": {},
   "outputs": [
    {
     "name": "stdout",
     "output_type": "stream",
     "text": [
      "Optimization terminated successfully.\n",
      "         Current function value: 0.030430\n",
      "         Iterations 12\n"
     ]
    },
    {
     "data": {
      "text/html": [
       "<table class=\"simpletable\">\n",
       "<caption>Logit Regression Results</caption>\n",
       "<tr>\n",
       "  <th>Dep. Variable:</th>      <td>is_genuine</td>    <th>  No. Observations:  </th>  <td>  1200</td> \n",
       "</tr>\n",
       "<tr>\n",
       "  <th>Model:</th>                 <td>Logit</td>      <th>  Df Residuals:      </th>  <td>  1194</td> \n",
       "</tr>\n",
       "<tr>\n",
       "  <th>Method:</th>                 <td>MLE</td>       <th>  Df Model:          </th>  <td>     5</td> \n",
       "</tr>\n",
       "<tr>\n",
       "  <th>Date:</th>            <td>Sun, 24 Dec 2023</td> <th>  Pseudo R-squ.:     </th>  <td>0.9523</td> \n",
       "</tr>\n",
       "<tr>\n",
       "  <th>Time:</th>                <td>12:38:04</td>     <th>  Log-Likelihood:    </th> <td> -36.516</td>\n",
       "</tr>\n",
       "<tr>\n",
       "  <th>converged:</th>             <td>True</td>       <th>  LL-Null:           </th> <td> -765.20</td>\n",
       "</tr>\n",
       "<tr>\n",
       "  <th>Covariance Type:</th>     <td>nonrobust</td>    <th>  LLR p-value:       </th>  <td> 0.000</td> \n",
       "</tr>\n",
       "</table>\n",
       "<table class=\"simpletable\">\n",
       "<tr>\n",
       "        <td></td>          <th>coef</th>     <th>std err</th>      <th>z</th>      <th>P>|z|</th>  <th>[0.025</th>    <th>0.975]</th>  \n",
       "</tr>\n",
       "<tr>\n",
       "  <th>const</th>        <td> -191.3113</td> <td>  163.815</td> <td>   -1.168</td> <td> 0.243</td> <td> -512.383</td> <td>  129.761</td>\n",
       "</tr>\n",
       "<tr>\n",
       "  <th>height_left</th>  <td>   -1.7684</td> <td>    1.158</td> <td>   -1.527</td> <td> 0.127</td> <td>   -4.038</td> <td>    0.501</td>\n",
       "</tr>\n",
       "<tr>\n",
       "  <th>height_right</th> <td>   -1.9583</td> <td>    1.064</td> <td>   -1.841</td> <td> 0.066</td> <td>   -4.043</td> <td>    0.127</td>\n",
       "</tr>\n",
       "<tr>\n",
       "  <th>margin_low</th>   <td>   -5.8274</td> <td>    0.961</td> <td>   -6.064</td> <td> 0.000</td> <td>   -7.711</td> <td>   -3.944</td>\n",
       "</tr>\n",
       "<tr>\n",
       "  <th>margin_up</th>    <td>  -10.4045</td> <td>    2.318</td> <td>   -4.488</td> <td> 0.000</td> <td>  -14.949</td> <td>   -5.860</td>\n",
       "</tr>\n",
       "<tr>\n",
       "  <th>length</th>       <td>    5.6796</td> <td>    0.881</td> <td>    6.446</td> <td> 0.000</td> <td>    3.953</td> <td>    7.407</td>\n",
       "</tr>\n",
       "</table><br/><br/>Possibly complete quasi-separation: A fraction 0.49 of observations can be<br/>perfectly predicted. This might indicate that there is complete<br/>quasi-separation. In this case some parameters will not be identified."
      ],
      "text/plain": [
       "<class 'statsmodels.iolib.summary.Summary'>\n",
       "\"\"\"\n",
       "                           Logit Regression Results                           \n",
       "==============================================================================\n",
       "Dep. Variable:             is_genuine   No. Observations:                 1200\n",
       "Model:                          Logit   Df Residuals:                     1194\n",
       "Method:                           MLE   Df Model:                            5\n",
       "Date:                Sun, 24 Dec 2023   Pseudo R-squ.:                  0.9523\n",
       "Time:                        12:38:04   Log-Likelihood:                -36.516\n",
       "converged:                       True   LL-Null:                       -765.20\n",
       "Covariance Type:            nonrobust   LLR p-value:                     0.000\n",
       "================================================================================\n",
       "                   coef    std err          z      P>|z|      [0.025      0.975]\n",
       "--------------------------------------------------------------------------------\n",
       "const         -191.3113    163.815     -1.168      0.243    -512.383     129.761\n",
       "height_left     -1.7684      1.158     -1.527      0.127      -4.038       0.501\n",
       "height_right    -1.9583      1.064     -1.841      0.066      -4.043       0.127\n",
       "margin_low      -5.8274      0.961     -6.064      0.000      -7.711      -3.944\n",
       "margin_up      -10.4045      2.318     -4.488      0.000     -14.949      -5.860\n",
       "length           5.6796      0.881      6.446      0.000       3.953       7.407\n",
       "================================================================================\n",
       "\n",
       "Possibly complete quasi-separation: A fraction 0.49 of observations can be\n",
       "perfectly predicted. This might indicate that there is complete\n",
       "quasi-separation. In this case some parameters will not be identified.\n",
       "\"\"\""
      ]
     },
     "execution_count": 233,
     "metadata": {},
     "output_type": "execute_result"
    }
   ],
   "source": [
    "# df pour garder le nom des colonnes\n",
    "X_stat = pd.DataFrame(data.drop(columns=['is_genuine', 'diagonal']), columns=data.drop(columns=['is_genuine', 'diagonal']).columns)\n",
    "\n",
    "# ajout de la constante\n",
    "X_stat = sm.add_constant(X_stat)\n",
    "\n",
    "# creation des jeux d'entrainement et de test\n",
    "X_train, X_test, y_train, y_test = train_test_split(X_stat, y, test_size=0.2, random_state=1)\n",
    "\n",
    "model = sm.Logit(y_train, X_train)\n",
    "\n",
    "results = model.fit()\n",
    "\n",
    "results.summary()"
   ]
  },
  {
   "cell_type": "code",
   "execution_count": 234,
   "id": "9a95534f",
   "metadata": {},
   "outputs": [
    {
     "name": "stdout",
     "output_type": "stream",
     "text": [
      "Optimization terminated successfully.\n",
      "         Current function value: 0.031437\n",
      "         Iterations 12\n"
     ]
    },
    {
     "data": {
      "text/html": [
       "<table class=\"simpletable\">\n",
       "<caption>Logit Regression Results</caption>\n",
       "<tr>\n",
       "  <th>Dep. Variable:</th>      <td>is_genuine</td>    <th>  No. Observations:  </th>  <td>  1200</td> \n",
       "</tr>\n",
       "<tr>\n",
       "  <th>Model:</th>                 <td>Logit</td>      <th>  Df Residuals:      </th>  <td>  1195</td> \n",
       "</tr>\n",
       "<tr>\n",
       "  <th>Method:</th>                 <td>MLE</td>       <th>  Df Model:          </th>  <td>     4</td> \n",
       "</tr>\n",
       "<tr>\n",
       "  <th>Date:</th>            <td>Sun, 24 Dec 2023</td> <th>  Pseudo R-squ.:     </th>  <td>0.9507</td> \n",
       "</tr>\n",
       "<tr>\n",
       "  <th>Time:</th>                <td>12:38:04</td>     <th>  Log-Likelihood:    </th> <td> -37.724</td>\n",
       "</tr>\n",
       "<tr>\n",
       "  <th>converged:</th>             <td>True</td>       <th>  LL-Null:           </th> <td> -765.20</td>\n",
       "</tr>\n",
       "<tr>\n",
       "  <th>Covariance Type:</th>     <td>nonrobust</td>    <th>  LLR p-value:       </th>  <td> 0.000</td> \n",
       "</tr>\n",
       "</table>\n",
       "<table class=\"simpletable\">\n",
       "<tr>\n",
       "        <td></td>          <th>coef</th>     <th>std err</th>      <th>z</th>      <th>P>|z|</th>  <th>[0.025</th>    <th>0.975]</th>  \n",
       "</tr>\n",
       "<tr>\n",
       "  <th>const</th>        <td> -326.1464</td> <td>  144.416</td> <td>   -2.258</td> <td> 0.024</td> <td> -609.197</td> <td>  -43.096</td>\n",
       "</tr>\n",
       "<tr>\n",
       "  <th>height_right</th> <td>   -2.4191</td> <td>    1.076</td> <td>   -2.249</td> <td> 0.025</td> <td>   -4.528</td> <td>   -0.311</td>\n",
       "</tr>\n",
       "<tr>\n",
       "  <th>margin_low</th>   <td>   -6.0344</td> <td>    0.968</td> <td>   -6.236</td> <td> 0.000</td> <td>   -7.931</td> <td>   -4.138</td>\n",
       "</tr>\n",
       "<tr>\n",
       "  <th>margin_up</th>    <td>  -10.4453</td> <td>    2.286</td> <td>   -4.569</td> <td> 0.000</td> <td>  -14.926</td> <td>   -5.965</td>\n",
       "</tr>\n",
       "<tr>\n",
       "  <th>length</th>       <td>    5.6778</td> <td>    0.857</td> <td>    6.621</td> <td> 0.000</td> <td>    3.997</td> <td>    7.358</td>\n",
       "</tr>\n",
       "</table><br/><br/>Possibly complete quasi-separation: A fraction 0.49 of observations can be<br/>perfectly predicted. This might indicate that there is complete<br/>quasi-separation. In this case some parameters will not be identified."
      ],
      "text/plain": [
       "<class 'statsmodels.iolib.summary.Summary'>\n",
       "\"\"\"\n",
       "                           Logit Regression Results                           \n",
       "==============================================================================\n",
       "Dep. Variable:             is_genuine   No. Observations:                 1200\n",
       "Model:                          Logit   Df Residuals:                     1195\n",
       "Method:                           MLE   Df Model:                            4\n",
       "Date:                Sun, 24 Dec 2023   Pseudo R-squ.:                  0.9507\n",
       "Time:                        12:38:04   Log-Likelihood:                -37.724\n",
       "converged:                       True   LL-Null:                       -765.20\n",
       "Covariance Type:            nonrobust   LLR p-value:                     0.000\n",
       "================================================================================\n",
       "                   coef    std err          z      P>|z|      [0.025      0.975]\n",
       "--------------------------------------------------------------------------------\n",
       "const         -326.1464    144.416     -2.258      0.024    -609.197     -43.096\n",
       "height_right    -2.4191      1.076     -2.249      0.025      -4.528      -0.311\n",
       "margin_low      -6.0344      0.968     -6.236      0.000      -7.931      -4.138\n",
       "margin_up      -10.4453      2.286     -4.569      0.000     -14.926      -5.965\n",
       "length           5.6778      0.857      6.621      0.000       3.997       7.358\n",
       "================================================================================\n",
       "\n",
       "Possibly complete quasi-separation: A fraction 0.49 of observations can be\n",
       "perfectly predicted. This might indicate that there is complete\n",
       "quasi-separation. In this case some parameters will not be identified.\n",
       "\"\"\""
      ]
     },
     "execution_count": 234,
     "metadata": {},
     "output_type": "execute_result"
    }
   ],
   "source": [
    "# df pour garder le nom des colonnes\n",
    "X_stat = pd.DataFrame(data.drop(columns=['is_genuine', 'diagonal', 'height_left']), columns=data.drop(columns=['is_genuine', 'diagonal', 'height_left']).columns)\n",
    "\n",
    "# ajout de la constante\n",
    "X_stat = sm.add_constant(X_stat)\n",
    "\n",
    "# creation des jeux d'entrainement et de test\n",
    "X_train, X_test, y_train, y_test = train_test_split(X_stat, y, test_size=0.2, random_state=1)\n",
    "\n",
    "model = sm.Logit(y_train, X_train)\n",
    "\n",
    "results = model.fit()\n",
    "\n",
    "results.summary()"
   ]
  },
  {
   "cell_type": "markdown",
   "id": "2bba3e29",
   "metadata": {},
   "source": [
    "**Après plusieurs itérations, les variables significatives pour le modèle seront height_right, margin_low, margin_up, length.**"
   ]
  },
  {
   "cell_type": "code",
   "execution_count": 235,
   "id": "53099a3c",
   "metadata": {},
   "outputs": [
    {
     "data": {
      "text/html": [
       "<div>\n",
       "<style scoped>\n",
       "    .dataframe tbody tr th:only-of-type {\n",
       "        vertical-align: middle;\n",
       "    }\n",
       "\n",
       "    .dataframe tbody tr th {\n",
       "        vertical-align: top;\n",
       "    }\n",
       "\n",
       "    .dataframe thead th {\n",
       "        text-align: right;\n",
       "    }\n",
       "</style>\n",
       "<table border=\"1\" class=\"dataframe\">\n",
       "  <thead>\n",
       "    <tr style=\"text-align: right;\">\n",
       "      <th></th>\n",
       "      <th>VIF</th>\n",
       "    </tr>\n",
       "  </thead>\n",
       "  <tbody>\n",
       "    <tr>\n",
       "      <th>const</th>\n",
       "      <td>187569.205220</td>\n",
       "    </tr>\n",
       "    <tr>\n",
       "      <th>height_right</th>\n",
       "      <td>1.244908</td>\n",
       "    </tr>\n",
       "    <tr>\n",
       "      <th>margin_low</th>\n",
       "      <td>1.958859</td>\n",
       "    </tr>\n",
       "    <tr>\n",
       "      <th>margin_up</th>\n",
       "      <td>1.372698</td>\n",
       "    </tr>\n",
       "    <tr>\n",
       "      <th>length</th>\n",
       "      <td>2.135762</td>\n",
       "    </tr>\n",
       "  </tbody>\n",
       "</table>\n",
       "</div>"
      ],
      "text/plain": [
       "                        VIF\n",
       "const         187569.205220\n",
       "height_right       1.244908\n",
       "margin_low         1.958859\n",
       "margin_up          1.372698\n",
       "length             2.135762"
      ]
     },
     "execution_count": 235,
     "metadata": {},
     "output_type": "execute_result"
    }
   ],
   "source": [
    "# VIF\n",
    "vif = [variance_inflation_factor(X_train, i) for i in range(X_train.shape[1])]\n",
    "df_vif = pd.DataFrame(vif, index=X_train.columns, columns=['VIF'])\n",
    "df_vif"
   ]
  },
  {
   "cell_type": "code",
   "execution_count": 236,
   "id": "aae7226f",
   "metadata": {},
   "outputs": [
    {
     "data": {
      "text/html": [
       "<div>\n",
       "<style scoped>\n",
       "    .dataframe tbody tr th:only-of-type {\n",
       "        vertical-align: middle;\n",
       "    }\n",
       "\n",
       "    .dataframe tbody tr th {\n",
       "        vertical-align: top;\n",
       "    }\n",
       "\n",
       "    .dataframe thead th {\n",
       "        text-align: right;\n",
       "    }\n",
       "</style>\n",
       "<table border=\"1\" class=\"dataframe\">\n",
       "  <thead>\n",
       "    <tr style=\"text-align: right;\">\n",
       "      <th></th>\n",
       "      <th>Prédit Faux</th>\n",
       "      <th>Prédit Vrai</th>\n",
       "    </tr>\n",
       "  </thead>\n",
       "  <tbody>\n",
       "    <tr>\n",
       "      <th>Faux</th>\n",
       "      <td>97</td>\n",
       "      <td>1</td>\n",
       "    </tr>\n",
       "    <tr>\n",
       "      <th>Vrai</th>\n",
       "      <td>0</td>\n",
       "      <td>202</td>\n",
       "    </tr>\n",
       "  </tbody>\n",
       "</table>\n",
       "</div>"
      ],
      "text/plain": [
       "      Prédit Faux  Prédit Vrai\n",
       "Faux           97            1\n",
       "Vrai            0          202"
      ]
     },
     "execution_count": 236,
     "metadata": {},
     "output_type": "execute_result"
    }
   ],
   "source": [
    "# prédiction\n",
    "y_pred = results.predict(X_test).round().astype('int')\n",
    "\n",
    "test_pred = pd.concat((y_test, y_pred), axis=1)\n",
    "\n",
    "crosstab = pd.crosstab(test_pred['is_genuine'], test_pred[0])\n",
    "\n",
    "crosstab.index = ['Faux', 'Vrai']\n",
    "crosstab.columns = ['Prédit Faux', 'Prédit Vrai']\n",
    "\n",
    "crosstab"
   ]
  },
  {
   "cell_type": "markdown",
   "id": "486b93b2",
   "metadata": {},
   "source": [
    "<a id='kmeans' ></a>\n",
    "## Kmeans<a href=\"#sommaire\" style=\"font-size : 10px ; padding-left:10px\">Retour Sommaire</a>"
   ]
  },
  {
   "cell_type": "markdown",
   "id": "9b639819",
   "metadata": {},
   "source": [
    "**Le kmeans est un algorithme de clustering non supervisé.\n",
    "Cela signifie qu'on entraine l'algorithme sans lui indiquer les vrais des faux billets (les étiquettes), c'est l'algorithme qui va déterminer les 2 groupes en se basant uniquement sur les similitudes entre les valeurs des variables**\n",
    "\n",
    "**Il permet de partitionner un jeu de données en groupe partageant des caractéristiques communes.**\n",
    "\n",
    "**Ici, on va partitioner le jeu de données en 2 groupes et tenter de départager les vrais des faux billets.**"
   ]
  },
  {
   "cell_type": "code",
   "execution_count": 237,
   "id": "8799aa99",
   "metadata": {},
   "outputs": [
    {
     "data": {
      "text/html": [
       "<div>\n",
       "<style scoped>\n",
       "    .dataframe tbody tr th:only-of-type {\n",
       "        vertical-align: middle;\n",
       "    }\n",
       "\n",
       "    .dataframe tbody tr th {\n",
       "        vertical-align: top;\n",
       "    }\n",
       "\n",
       "    .dataframe thead th {\n",
       "        text-align: right;\n",
       "    }\n",
       "</style>\n",
       "<table border=\"1\" class=\"dataframe\">\n",
       "  <thead>\n",
       "    <tr style=\"text-align: right;\">\n",
       "      <th></th>\n",
       "      <th>is_genuine</th>\n",
       "      <th>diagonal</th>\n",
       "      <th>height_left</th>\n",
       "      <th>height_right</th>\n",
       "      <th>margin_low</th>\n",
       "      <th>margin_up</th>\n",
       "      <th>length</th>\n",
       "    </tr>\n",
       "  </thead>\n",
       "  <tbody>\n",
       "    <tr>\n",
       "      <th>0</th>\n",
       "      <td>1</td>\n",
       "      <td>171.81</td>\n",
       "      <td>104.86</td>\n",
       "      <td>104.95</td>\n",
       "      <td>4.52</td>\n",
       "      <td>2.89</td>\n",
       "      <td>112.83</td>\n",
       "    </tr>\n",
       "    <tr>\n",
       "      <th>1</th>\n",
       "      <td>1</td>\n",
       "      <td>171.46</td>\n",
       "      <td>103.36</td>\n",
       "      <td>103.66</td>\n",
       "      <td>3.77</td>\n",
       "      <td>2.99</td>\n",
       "      <td>113.09</td>\n",
       "    </tr>\n",
       "    <tr>\n",
       "      <th>2</th>\n",
       "      <td>1</td>\n",
       "      <td>172.69</td>\n",
       "      <td>104.48</td>\n",
       "      <td>103.50</td>\n",
       "      <td>4.40</td>\n",
       "      <td>2.94</td>\n",
       "      <td>113.16</td>\n",
       "    </tr>\n",
       "    <tr>\n",
       "      <th>3</th>\n",
       "      <td>1</td>\n",
       "      <td>171.36</td>\n",
       "      <td>103.91</td>\n",
       "      <td>103.94</td>\n",
       "      <td>3.62</td>\n",
       "      <td>3.01</td>\n",
       "      <td>113.51</td>\n",
       "    </tr>\n",
       "    <tr>\n",
       "      <th>4</th>\n",
       "      <td>1</td>\n",
       "      <td>171.73</td>\n",
       "      <td>104.28</td>\n",
       "      <td>103.46</td>\n",
       "      <td>4.04</td>\n",
       "      <td>3.48</td>\n",
       "      <td>112.54</td>\n",
       "    </tr>\n",
       "  </tbody>\n",
       "</table>\n",
       "</div>"
      ],
      "text/plain": [
       "   is_genuine  diagonal  height_left  height_right  margin_low  margin_up  \\\n",
       "0           1    171.81       104.86        104.95        4.52       2.89   \n",
       "1           1    171.46       103.36        103.66        3.77       2.99   \n",
       "2           1    172.69       104.48        103.50        4.40       2.94   \n",
       "3           1    171.36       103.91        103.94        3.62       3.01   \n",
       "4           1    171.73       104.28        103.46        4.04       3.48   \n",
       "\n",
       "   length  \n",
       "0  112.83  \n",
       "1  113.09  \n",
       "2  113.16  \n",
       "3  113.51  \n",
       "4  112.54  "
      ]
     },
     "execution_count": 237,
     "metadata": {},
     "output_type": "execute_result"
    }
   ],
   "source": [
    "data2 = data.copy()\n",
    "data2.head()"
   ]
  },
  {
   "cell_type": "code",
   "execution_count": 238,
   "id": "37aec8e9",
   "metadata": {},
   "outputs": [
    {
     "data": {
      "text/html": [
       "<style>#sk-container-id-2 {color: black;background-color: white;}#sk-container-id-2 pre{padding: 0;}#sk-container-id-2 div.sk-toggleable {background-color: white;}#sk-container-id-2 label.sk-toggleable__label {cursor: pointer;display: block;width: 100%;margin-bottom: 0;padding: 0.3em;box-sizing: border-box;text-align: center;}#sk-container-id-2 label.sk-toggleable__label-arrow:before {content: \"▸\";float: left;margin-right: 0.25em;color: #696969;}#sk-container-id-2 label.sk-toggleable__label-arrow:hover:before {color: black;}#sk-container-id-2 div.sk-estimator:hover label.sk-toggleable__label-arrow:before {color: black;}#sk-container-id-2 div.sk-toggleable__content {max-height: 0;max-width: 0;overflow: hidden;text-align: left;background-color: #f0f8ff;}#sk-container-id-2 div.sk-toggleable__content pre {margin: 0.2em;color: black;border-radius: 0.25em;background-color: #f0f8ff;}#sk-container-id-2 input.sk-toggleable__control:checked~div.sk-toggleable__content {max-height: 200px;max-width: 100%;overflow: auto;}#sk-container-id-2 input.sk-toggleable__control:checked~label.sk-toggleable__label-arrow:before {content: \"▾\";}#sk-container-id-2 div.sk-estimator input.sk-toggleable__control:checked~label.sk-toggleable__label {background-color: #d4ebff;}#sk-container-id-2 div.sk-label input.sk-toggleable__control:checked~label.sk-toggleable__label {background-color: #d4ebff;}#sk-container-id-2 input.sk-hidden--visually {border: 0;clip: rect(1px 1px 1px 1px);clip: rect(1px, 1px, 1px, 1px);height: 1px;margin: -1px;overflow: hidden;padding: 0;position: absolute;width: 1px;}#sk-container-id-2 div.sk-estimator {font-family: monospace;background-color: #f0f8ff;border: 1px dotted black;border-radius: 0.25em;box-sizing: border-box;margin-bottom: 0.5em;}#sk-container-id-2 div.sk-estimator:hover {background-color: #d4ebff;}#sk-container-id-2 div.sk-parallel-item::after {content: \"\";width: 100%;border-bottom: 1px solid gray;flex-grow: 1;}#sk-container-id-2 div.sk-label:hover label.sk-toggleable__label {background-color: #d4ebff;}#sk-container-id-2 div.sk-serial::before {content: \"\";position: absolute;border-left: 1px solid gray;box-sizing: border-box;top: 0;bottom: 0;left: 50%;z-index: 0;}#sk-container-id-2 div.sk-serial {display: flex;flex-direction: column;align-items: center;background-color: white;padding-right: 0.2em;padding-left: 0.2em;position: relative;}#sk-container-id-2 div.sk-item {position: relative;z-index: 1;}#sk-container-id-2 div.sk-parallel {display: flex;align-items: stretch;justify-content: center;background-color: white;position: relative;}#sk-container-id-2 div.sk-item::before, #sk-container-id-2 div.sk-parallel-item::before {content: \"\";position: absolute;border-left: 1px solid gray;box-sizing: border-box;top: 0;bottom: 0;left: 50%;z-index: -1;}#sk-container-id-2 div.sk-parallel-item {display: flex;flex-direction: column;z-index: 1;position: relative;background-color: white;}#sk-container-id-2 div.sk-parallel-item:first-child::after {align-self: flex-end;width: 50%;}#sk-container-id-2 div.sk-parallel-item:last-child::after {align-self: flex-start;width: 50%;}#sk-container-id-2 div.sk-parallel-item:only-child::after {width: 0;}#sk-container-id-2 div.sk-dashed-wrapped {border: 1px dashed gray;margin: 0 0.4em 0.5em 0.4em;box-sizing: border-box;padding-bottom: 0.4em;background-color: white;}#sk-container-id-2 div.sk-label label {font-family: monospace;font-weight: bold;display: inline-block;line-height: 1.2em;}#sk-container-id-2 div.sk-label-container {text-align: center;}#sk-container-id-2 div.sk-container {/* jupyter's `normalize.less` sets `[hidden] { display: none; }` but bootstrap.min.css set `[hidden] { display: none !important; }` so we also need the `!important` here to be able to override the default hidden behavior on the sphinx rendered scikit-learn.org. See: https://github.com/scikit-learn/scikit-learn/issues/21755 */display: inline-block !important;position: relative;}#sk-container-id-2 div.sk-text-repr-fallback {display: none;}</style><div id=\"sk-container-id-2\" class=\"sk-top-container\"><div class=\"sk-text-repr-fallback\"><pre>KMeans(n_clusters=2, n_init=&#x27;auto&#x27;, random_state=20)</pre><b>In a Jupyter environment, please rerun this cell to show the HTML representation or trust the notebook. <br />On GitHub, the HTML representation is unable to render, please try loading this page with nbviewer.org.</b></div><div class=\"sk-container\" hidden><div class=\"sk-item\"><div class=\"sk-estimator sk-toggleable\"><input class=\"sk-toggleable__control sk-hidden--visually\" id=\"sk-estimator-id-2\" type=\"checkbox\" checked><label for=\"sk-estimator-id-2\" class=\"sk-toggleable__label sk-toggleable__label-arrow\">KMeans</label><div class=\"sk-toggleable__content\"><pre>KMeans(n_clusters=2, n_init=&#x27;auto&#x27;, random_state=20)</pre></div></div></div></div></div>"
      ],
      "text/plain": [
       "KMeans(n_clusters=2, n_init='auto', random_state=20)"
      ]
     },
     "execution_count": 238,
     "metadata": {},
     "output_type": "execute_result"
    }
   ],
   "source": [
    "# création de l'estimateur\n",
    "kmeans = KMeans(n_clusters=2, n_init='auto', random_state=20)\n",
    "\n",
    "kmeans.fit(X)"
   ]
  },
  {
   "cell_type": "code",
   "execution_count": 239,
   "id": "2fd600cf",
   "metadata": {},
   "outputs": [],
   "source": [
    "# coordonnées des centroides\n",
    "\n",
    "centroides = kmeans.cluster_centers_\n",
    "\n",
    "# clusters de l'echantillon\n",
    "\n",
    "data2['clusters_kmeans'] = kmeans.labels_"
   ]
  },
  {
   "cell_type": "code",
   "execution_count": 240,
   "id": "036138d5",
   "metadata": {},
   "outputs": [],
   "source": [
    "# encodage de la variable binaire\n",
    "data2['is_genuine'] = data2['is_genuine'].replace([True, False], [1,0])"
   ]
  },
  {
   "cell_type": "code",
   "execution_count": 241,
   "id": "6e46c56e",
   "metadata": {},
   "outputs": [
    {
     "data": {
      "text/plain": [
       "1    1000\n",
       "0     500\n",
       "Name: is_genuine, dtype: int64"
      ]
     },
     "execution_count": 241,
     "metadata": {},
     "output_type": "execute_result"
    }
   ],
   "source": [
    "data2['is_genuine'].value_counts()"
   ]
  },
  {
   "cell_type": "code",
   "execution_count": 242,
   "id": "6bbc4778",
   "metadata": {},
   "outputs": [
    {
     "data": {
      "text/html": [
       "<div>\n",
       "<style scoped>\n",
       "    .dataframe tbody tr th:only-of-type {\n",
       "        vertical-align: middle;\n",
       "    }\n",
       "\n",
       "    .dataframe tbody tr th {\n",
       "        vertical-align: top;\n",
       "    }\n",
       "\n",
       "    .dataframe thead th {\n",
       "        text-align: right;\n",
       "    }\n",
       "</style>\n",
       "<table border=\"1\" class=\"dataframe\">\n",
       "  <thead>\n",
       "    <tr style=\"text-align: right;\">\n",
       "      <th></th>\n",
       "      <th>Prédit Faux</th>\n",
       "      <th>Prédit Vrai</th>\n",
       "    </tr>\n",
       "  </thead>\n",
       "  <tbody>\n",
       "    <tr>\n",
       "      <th>Faux</th>\n",
       "      <td>487</td>\n",
       "      <td>13</td>\n",
       "    </tr>\n",
       "    <tr>\n",
       "      <th>Vrai</th>\n",
       "      <td>10</td>\n",
       "      <td>990</td>\n",
       "    </tr>\n",
       "  </tbody>\n",
       "</table>\n",
       "</div>"
      ],
      "text/plain": [
       "      Prédit Faux  Prédit Vrai\n",
       "Faux          487           13\n",
       "Vrai           10          990"
      ]
     },
     "execution_count": 242,
     "metadata": {},
     "output_type": "execute_result"
    }
   ],
   "source": [
    "# creation de la matrice de confusion avec la méthode du kmeans\n",
    "pd.DataFrame(confusion_matrix(data2['is_genuine'], data2['clusters_kmeans']), columns=['Prédit Faux', 'Prédit Vrai'],\n",
    "             index=['Faux', 'Vrai'])"
   ]
  },
  {
   "cell_type": "markdown",
   "id": "ee5a3489",
   "metadata": {},
   "source": [
    "**23 billets sont mals classés.  \n",
    "La Régression Logistique donne de meilleur résultat. C'est ce modèle qu'on conserve.**"
   ]
  },
  {
   "cell_type": "code",
   "execution_count": 243,
   "id": "6cf36408",
   "metadata": {},
   "outputs": [
    {
     "name": "stdout",
     "output_type": "stream",
     "text": [
      "              precision    recall  f1-score   support\n",
      "\n",
      "           0       0.98      0.97      0.98       500\n",
      "           1       0.99      0.99      0.99      1000\n",
      "\n",
      "    accuracy                           0.98      1500\n",
      "   macro avg       0.98      0.98      0.98      1500\n",
      "weighted avg       0.98      0.98      0.98      1500\n",
      "\n"
     ]
    }
   ],
   "source": [
    "print(classification_report(data2['is_genuine'], data2['clusters_kmeans']))"
   ]
  },
  {
   "cell_type": "markdown",
   "id": "a9e68c64",
   "metadata": {},
   "source": [
    "<a id='evalfinal' ></a>\n",
    "## Evaluation finale<a href=\"#sommaire\" style=\"font-size : 10px ; padding-left:10px\">Retour Sommaire</a>"
   ]
  },
  {
   "cell_type": "code",
   "execution_count": 1,
   "id": "c1ca33a2",
   "metadata": {},
   "outputs": [
    {
     "ename": "NameError",
     "evalue": "name 'pd' is not defined",
     "output_type": "error",
     "traceback": [
      "\u001b[1;31m---------------------------------------------------------------------------\u001b[0m",
      "\u001b[1;31mNameError\u001b[0m                                 Traceback (most recent call last)",
      "Cell \u001b[1;32mIn[1], line 1\u001b[0m\n\u001b[1;32m----> 1\u001b[0m data_prod \u001b[38;5;241m=\u001b[39m \u001b[43mpd\u001b[49m\u001b[38;5;241m.\u001b[39mread_csv(folder\u001b[38;5;241m+\u001b[39m\u001b[38;5;124m'\u001b[39m\u001b[38;5;124mbillets_production.csv\u001b[39m\u001b[38;5;124m'\u001b[39m, delimiter\u001b[38;5;241m=\u001b[39m\u001b[38;5;124m'\u001b[39m\u001b[38;5;124m,\u001b[39m\u001b[38;5;124m'\u001b[39m)\n\u001b[0;32m      2\u001b[0m data_prod\u001b[38;5;241m.\u001b[39mhead()\n",
      "\u001b[1;31mNameError\u001b[0m: name 'pd' is not defined"
     ]
    }
   ],
   "source": [
    "data_prod = pd.read_csv(folder+'billets_production.csv', delimiter=',')\n",
    "data_prod.head()"
   ]
  },
  {
   "cell_type": "markdown",
   "id": "c0024a5f",
   "metadata": {},
   "source": [
    "<a id='fonctpred' ></a>\n",
    "### Fonction de prédiction<a href=\"#sommaire\" style=\"font-size : 10px ; padding-left:10px\">Retour Sommaire</a>"
   ]
  },
  {
   "cell_type": "code",
   "execution_count": 245,
   "id": "0be62b5d",
   "metadata": {},
   "outputs": [],
   "source": [
    "def prediction(data_prod):\n",
    "    \n",
    "    # mise au format de mon modèle final\n",
    "    \n",
    "    data_prod_pred = data_prod.copy()\n",
    "\n",
    "    # ajout de la constante\n",
    "    X_eval = sm.add_constant(data_prod_pred)\n",
    "\n",
    "    # mise au format du modèle en gardant les colonnes significatives utilisées pour le modèle final\n",
    "    X_eval = X_eval[results.model.exog_names]\n",
    "    \n",
    "    # prédiction de la nature des billets (vrai ou faux) en fonction de leurs caractéristiques\n",
    "    data_prod_pred['prediction_billet'] = results.predict(X_eval).round().astype('int').replace([0,1], ['Faux', 'Vrai'])\n",
    "    \n",
    "    # message à afficher \n",
    "    \n",
    "    for billet, prediction in zip(data_prod_pred['id'], data_prod_pred['prediction_billet']):\n",
    "        if prediction == 'Vrai':\n",
    "            print(f\"C'est bon, le billet {billet} est un {prediction} !\")\n",
    "        if prediction == 'Faux':\n",
    "            print(f\"Attention, le billet {billet} est un {prediction} !\")    \n",
    "            \n",
    "    return data_prod_pred"
   ]
  },
  {
   "cell_type": "code",
   "execution_count": 246,
   "id": "665ffcce",
   "metadata": {},
   "outputs": [
    {
     "name": "stdout",
     "output_type": "stream",
     "text": [
      "Attention, le billet A_1 est un Faux !\n",
      "Attention, le billet A_2 est un Faux !\n",
      "Attention, le billet A_3 est un Faux !\n",
      "C'est bon, le billet A_4 est un Vrai !\n",
      "C'est bon, le billet A_5 est un Vrai !\n"
     ]
    },
    {
     "data": {
      "text/html": [
       "<div>\n",
       "<style scoped>\n",
       "    .dataframe tbody tr th:only-of-type {\n",
       "        vertical-align: middle;\n",
       "    }\n",
       "\n",
       "    .dataframe tbody tr th {\n",
       "        vertical-align: top;\n",
       "    }\n",
       "\n",
       "    .dataframe thead th {\n",
       "        text-align: right;\n",
       "    }\n",
       "</style>\n",
       "<table border=\"1\" class=\"dataframe\">\n",
       "  <thead>\n",
       "    <tr style=\"text-align: right;\">\n",
       "      <th></th>\n",
       "      <th>diagonal</th>\n",
       "      <th>height_left</th>\n",
       "      <th>height_right</th>\n",
       "      <th>margin_low</th>\n",
       "      <th>margin_up</th>\n",
       "      <th>length</th>\n",
       "      <th>id</th>\n",
       "      <th>prediction_billet</th>\n",
       "    </tr>\n",
       "  </thead>\n",
       "  <tbody>\n",
       "    <tr>\n",
       "      <th>0</th>\n",
       "      <td>171.76</td>\n",
       "      <td>104.01</td>\n",
       "      <td>103.54</td>\n",
       "      <td>5.21</td>\n",
       "      <td>3.30</td>\n",
       "      <td>111.42</td>\n",
       "      <td>A_1</td>\n",
       "      <td>Faux</td>\n",
       "    </tr>\n",
       "    <tr>\n",
       "      <th>1</th>\n",
       "      <td>171.87</td>\n",
       "      <td>104.17</td>\n",
       "      <td>104.13</td>\n",
       "      <td>6.00</td>\n",
       "      <td>3.31</td>\n",
       "      <td>112.09</td>\n",
       "      <td>A_2</td>\n",
       "      <td>Faux</td>\n",
       "    </tr>\n",
       "    <tr>\n",
       "      <th>2</th>\n",
       "      <td>172.00</td>\n",
       "      <td>104.58</td>\n",
       "      <td>104.29</td>\n",
       "      <td>4.99</td>\n",
       "      <td>3.39</td>\n",
       "      <td>111.57</td>\n",
       "      <td>A_3</td>\n",
       "      <td>Faux</td>\n",
       "    </tr>\n",
       "    <tr>\n",
       "      <th>3</th>\n",
       "      <td>172.49</td>\n",
       "      <td>104.55</td>\n",
       "      <td>104.34</td>\n",
       "      <td>4.44</td>\n",
       "      <td>3.03</td>\n",
       "      <td>113.20</td>\n",
       "      <td>A_4</td>\n",
       "      <td>Vrai</td>\n",
       "    </tr>\n",
       "    <tr>\n",
       "      <th>4</th>\n",
       "      <td>171.65</td>\n",
       "      <td>103.63</td>\n",
       "      <td>103.56</td>\n",
       "      <td>3.77</td>\n",
       "      <td>3.16</td>\n",
       "      <td>113.33</td>\n",
       "      <td>A_5</td>\n",
       "      <td>Vrai</td>\n",
       "    </tr>\n",
       "  </tbody>\n",
       "</table>\n",
       "</div>"
      ],
      "text/plain": [
       "   diagonal  height_left  height_right  margin_low  margin_up  length   id  \\\n",
       "0    171.76       104.01        103.54        5.21       3.30  111.42  A_1   \n",
       "1    171.87       104.17        104.13        6.00       3.31  112.09  A_2   \n",
       "2    172.00       104.58        104.29        4.99       3.39  111.57  A_3   \n",
       "3    172.49       104.55        104.34        4.44       3.03  113.20  A_4   \n",
       "4    171.65       103.63        103.56        3.77       3.16  113.33  A_5   \n",
       "\n",
       "  prediction_billet  \n",
       "0              Faux  \n",
       "1              Faux  \n",
       "2              Faux  \n",
       "3              Vrai  \n",
       "4              Vrai  "
      ]
     },
     "execution_count": 246,
     "metadata": {},
     "output_type": "execute_result"
    }
   ],
   "source": [
    "prediction(data_prod)"
   ]
  },
  {
   "cell_type": "code",
   "execution_count": 247,
   "id": "4a96fce6",
   "metadata": {},
   "outputs": [],
   "source": [
    "data_test = pd.read_csv(folder+\"billets_test.csv\")"
   ]
  },
  {
   "cell_type": "code",
   "execution_count": 248,
   "id": "3085c446",
   "metadata": {},
   "outputs": [
    {
     "name": "stdout",
     "output_type": "stream",
     "text": [
      "C'est bon, le billet B_1 est un Vrai !\n",
      "Attention, le billet B_2 est un Faux !\n",
      "C'est bon, le billet B_3 est un Vrai !\n",
      "Attention, le billet B_4 est un Faux !\n",
      "Attention, le billet B_5 est un Faux !\n"
     ]
    },
    {
     "data": {
      "text/html": [
       "<div>\n",
       "<style scoped>\n",
       "    .dataframe tbody tr th:only-of-type {\n",
       "        vertical-align: middle;\n",
       "    }\n",
       "\n",
       "    .dataframe tbody tr th {\n",
       "        vertical-align: top;\n",
       "    }\n",
       "\n",
       "    .dataframe thead th {\n",
       "        text-align: right;\n",
       "    }\n",
       "</style>\n",
       "<table border=\"1\" class=\"dataframe\">\n",
       "  <thead>\n",
       "    <tr style=\"text-align: right;\">\n",
       "      <th></th>\n",
       "      <th>diagonal</th>\n",
       "      <th>height_left</th>\n",
       "      <th>height_right</th>\n",
       "      <th>margin_low</th>\n",
       "      <th>margin_up</th>\n",
       "      <th>length</th>\n",
       "      <th>id</th>\n",
       "      <th>prediction_billet</th>\n",
       "    </tr>\n",
       "  </thead>\n",
       "  <tbody>\n",
       "    <tr>\n",
       "      <th>0</th>\n",
       "      <td>172.09</td>\n",
       "      <td>103.95</td>\n",
       "      <td>103.73</td>\n",
       "      <td>4.39</td>\n",
       "      <td>3.09</td>\n",
       "      <td>113.19</td>\n",
       "      <td>B_1</td>\n",
       "      <td>Vrai</td>\n",
       "    </tr>\n",
       "    <tr>\n",
       "      <th>1</th>\n",
       "      <td>171.52</td>\n",
       "      <td>104.17</td>\n",
       "      <td>104.03</td>\n",
       "      <td>5.27</td>\n",
       "      <td>3.16</td>\n",
       "      <td>111.82</td>\n",
       "      <td>B_2</td>\n",
       "      <td>Faux</td>\n",
       "    </tr>\n",
       "    <tr>\n",
       "      <th>2</th>\n",
       "      <td>171.78</td>\n",
       "      <td>103.80</td>\n",
       "      <td>103.75</td>\n",
       "      <td>3.81</td>\n",
       "      <td>3.24</td>\n",
       "      <td>113.39</td>\n",
       "      <td>B_3</td>\n",
       "      <td>Vrai</td>\n",
       "    </tr>\n",
       "    <tr>\n",
       "      <th>3</th>\n",
       "      <td>172.02</td>\n",
       "      <td>104.08</td>\n",
       "      <td>103.99</td>\n",
       "      <td>5.57</td>\n",
       "      <td>3.30</td>\n",
       "      <td>111.10</td>\n",
       "      <td>B_4</td>\n",
       "      <td>Faux</td>\n",
       "    </tr>\n",
       "    <tr>\n",
       "      <th>4</th>\n",
       "      <td>171.79</td>\n",
       "      <td>104.34</td>\n",
       "      <td>104.37</td>\n",
       "      <td>5.00</td>\n",
       "      <td>3.07</td>\n",
       "      <td>111.87</td>\n",
       "      <td>B_5</td>\n",
       "      <td>Faux</td>\n",
       "    </tr>\n",
       "  </tbody>\n",
       "</table>\n",
       "</div>"
      ],
      "text/plain": [
       "   diagonal  height_left  height_right  margin_low  margin_up  length   id  \\\n",
       "0    172.09       103.95        103.73        4.39       3.09  113.19  B_1   \n",
       "1    171.52       104.17        104.03        5.27       3.16  111.82  B_2   \n",
       "2    171.78       103.80        103.75        3.81       3.24  113.39  B_3   \n",
       "3    172.02       104.08        103.99        5.57       3.30  111.10  B_4   \n",
       "4    171.79       104.34        104.37        5.00       3.07  111.87  B_5   \n",
       "\n",
       "  prediction_billet  \n",
       "0              Vrai  \n",
       "1              Faux  \n",
       "2              Vrai  \n",
       "3              Faux  \n",
       "4              Faux  "
      ]
     },
     "execution_count": 248,
     "metadata": {},
     "output_type": "execute_result"
    }
   ],
   "source": [
    "prediction(data_test)"
   ]
  },
  {
   "cell_type": "markdown",
   "id": "4ff0ec9d",
   "metadata": {},
   "source": [
    "# Conclusion"
   ]
  },
  {
   "cell_type": "markdown",
   "id": "768c6c5f",
   "metadata": {},
   "source": [
    "**C'est le modèle de Régression Logistique qui donne les meilleurs résultats avec une accuracy à plus de 99%.  \n",
    "De plus, c'est un modèle assez simple et interprétable contrairement à d'autres modèles plus complexes qui peuvent être plus difficile à interpréter.**"
   ]
  },
  {
   "cell_type": "markdown",
   "id": "df5bd7ca",
   "metadata": {},
   "source": [
    "# Bonus : test d'autres modèles"
   ]
  },
  {
   "cell_type": "code",
   "execution_count": 101,
   "id": "2e37a23e",
   "metadata": {},
   "outputs": [],
   "source": [
    "from sklearn.ensemble import RandomForestClassifier\n",
    "from sklearn.neighbors import KNeighborsClassifier\n",
    "from sklearn.svm import LinearSVC"
   ]
  },
  {
   "cell_type": "markdown",
   "id": "2f6c2c31",
   "metadata": {},
   "source": [
    "## KNN"
   ]
  },
  {
   "cell_type": "code",
   "execution_count": 102,
   "id": "183ed30d",
   "metadata": {},
   "outputs": [],
   "source": [
    "# cible et features, features standardisées pour afficher la courbe d'apprentissage\n",
    "X = data.drop(columns='is_genuine')\n",
    "y = data['is_genuine']\n",
    "\n",
    "# creation des jeux d'entrainement et de test\n",
    "X_train, X_test, y_train, y_test = train_test_split(X, y, test_size=0.2, random_state=1)"
   ]
  },
  {
   "cell_type": "code",
   "execution_count": 103,
   "id": "cf01cd01",
   "metadata": {},
   "outputs": [],
   "source": [
    "# creation du modèle de régression logistique\n",
    "scores = []\n",
    "\n",
    "for k in [5, 10, 15, 20, 30, 40]:\n",
    "    model = KNeighborsClassifier(n_neighbors=k)\n",
    "\n",
    "    model.fit(X_train, y_train)\n",
    "\n",
    "    score = model.score(X_test, y_test)\n",
    "    \n",
    "    scores.append(score)"
   ]
  },
  {
   "cell_type": "code",
   "execution_count": 104,
   "id": "4a9bc50e",
   "metadata": {},
   "outputs": [
    {
     "data": {
      "text/plain": [
       "[0.9966666666666667,\n",
       " 0.9966666666666667,\n",
       " 0.9966666666666667,\n",
       " 0.9966666666666667,\n",
       " 0.9966666666666667,\n",
       " 0.9933333333333333]"
      ]
     },
     "execution_count": 104,
     "metadata": {},
     "output_type": "execute_result"
    }
   ],
   "source": [
    "scores"
   ]
  },
  {
   "cell_type": "code",
   "execution_count": 105,
   "id": "8d0e5bf7",
   "metadata": {},
   "outputs": [
    {
     "data": {
      "text/html": [
       "<div>\n",
       "<style scoped>\n",
       "    .dataframe tbody tr th:only-of-type {\n",
       "        vertical-align: middle;\n",
       "    }\n",
       "\n",
       "    .dataframe tbody tr th {\n",
       "        vertical-align: top;\n",
       "    }\n",
       "\n",
       "    .dataframe thead th {\n",
       "        text-align: right;\n",
       "    }\n",
       "</style>\n",
       "<table border=\"1\" class=\"dataframe\">\n",
       "  <thead>\n",
       "    <tr style=\"text-align: right;\">\n",
       "      <th></th>\n",
       "      <th>Prédit Faux</th>\n",
       "      <th>Prédit Vrai</th>\n",
       "    </tr>\n",
       "  </thead>\n",
       "  <tbody>\n",
       "    <tr>\n",
       "      <th>Faux</th>\n",
       "      <td>97</td>\n",
       "      <td>1</td>\n",
       "    </tr>\n",
       "    <tr>\n",
       "      <th>Vrai</th>\n",
       "      <td>1</td>\n",
       "      <td>201</td>\n",
       "    </tr>\n",
       "  </tbody>\n",
       "</table>\n",
       "</div>"
      ],
      "text/plain": [
       "      Prédit Faux  Prédit Vrai\n",
       "Faux           97            1\n",
       "Vrai            1          201"
      ]
     },
     "execution_count": 105,
     "metadata": {},
     "output_type": "execute_result"
    }
   ],
   "source": [
    "y_pred = model.predict(X_test)\n",
    "# matrice de confusion\n",
    "pd.DataFrame(confusion_matrix(y_test, y_pred), columns=['Prédit Faux', 'Prédit Vrai'],\n",
    "             index=['Faux', 'Vrai'])"
   ]
  },
  {
   "cell_type": "markdown",
   "id": "b20403e3",
   "metadata": {},
   "source": [
    "## RandomForest"
   ]
  },
  {
   "cell_type": "code",
   "execution_count": 106,
   "id": "a404f0ec",
   "metadata": {},
   "outputs": [
    {
     "data": {
      "text/plain": [
       "0.9933333333333333"
      ]
     },
     "execution_count": 106,
     "metadata": {},
     "output_type": "execute_result"
    }
   ],
   "source": [
    "# creation du modèle de régression logistique\n",
    "model = RandomForestClassifier()\n",
    "\n",
    "model.fit(X_train, y_train)\n",
    "\n",
    "model.score(X_test, y_test)"
   ]
  },
  {
   "cell_type": "code",
   "execution_count": 107,
   "id": "630d4bd5",
   "metadata": {},
   "outputs": [
    {
     "data": {
      "text/html": [
       "<div>\n",
       "<style scoped>\n",
       "    .dataframe tbody tr th:only-of-type {\n",
       "        vertical-align: middle;\n",
       "    }\n",
       "\n",
       "    .dataframe tbody tr th {\n",
       "        vertical-align: top;\n",
       "    }\n",
       "\n",
       "    .dataframe thead th {\n",
       "        text-align: right;\n",
       "    }\n",
       "</style>\n",
       "<table border=\"1\" class=\"dataframe\">\n",
       "  <thead>\n",
       "    <tr style=\"text-align: right;\">\n",
       "      <th></th>\n",
       "      <th>Prédit Faux</th>\n",
       "      <th>Prédit Vrai</th>\n",
       "    </tr>\n",
       "  </thead>\n",
       "  <tbody>\n",
       "    <tr>\n",
       "      <th>Faux</th>\n",
       "      <td>97</td>\n",
       "      <td>1</td>\n",
       "    </tr>\n",
       "    <tr>\n",
       "      <th>Vrai</th>\n",
       "      <td>1</td>\n",
       "      <td>201</td>\n",
       "    </tr>\n",
       "  </tbody>\n",
       "</table>\n",
       "</div>"
      ],
      "text/plain": [
       "      Prédit Faux  Prédit Vrai\n",
       "Faux           97            1\n",
       "Vrai            1          201"
      ]
     },
     "execution_count": 107,
     "metadata": {},
     "output_type": "execute_result"
    }
   ],
   "source": [
    "y_pred = model.predict(X_test)\n",
    "# matrice de confusion\n",
    "pd.DataFrame(confusion_matrix(y_test, y_pred), columns=['Prédit Faux', 'Prédit Vrai'],\n",
    "             index=['Faux', 'Vrai'])"
   ]
  },
  {
   "cell_type": "markdown",
   "id": "07af1627",
   "metadata": {},
   "source": [
    "## SVC"
   ]
  },
  {
   "cell_type": "code",
   "execution_count": 108,
   "id": "7635a8e7",
   "metadata": {},
   "outputs": [
    {
     "data": {
      "text/plain": [
       "0.99"
      ]
     },
     "execution_count": 108,
     "metadata": {},
     "output_type": "execute_result"
    }
   ],
   "source": [
    "# creation du modèle de SVM\n",
    "model = LinearSVC()\n",
    "\n",
    "model.fit(X_train, y_train)\n",
    "\n",
    "model.score(X_test, y_test)"
   ]
  },
  {
   "cell_type": "code",
   "execution_count": 109,
   "id": "f8959734",
   "metadata": {},
   "outputs": [
    {
     "data": {
      "text/html": [
       "<div>\n",
       "<style scoped>\n",
       "    .dataframe tbody tr th:only-of-type {\n",
       "        vertical-align: middle;\n",
       "    }\n",
       "\n",
       "    .dataframe tbody tr th {\n",
       "        vertical-align: top;\n",
       "    }\n",
       "\n",
       "    .dataframe thead th {\n",
       "        text-align: right;\n",
       "    }\n",
       "</style>\n",
       "<table border=\"1\" class=\"dataframe\">\n",
       "  <thead>\n",
       "    <tr style=\"text-align: right;\">\n",
       "      <th></th>\n",
       "      <th>Prédit Faux</th>\n",
       "      <th>Prédit Vrai</th>\n",
       "    </tr>\n",
       "  </thead>\n",
       "  <tbody>\n",
       "    <tr>\n",
       "      <th>Faux</th>\n",
       "      <td>98</td>\n",
       "      <td>0</td>\n",
       "    </tr>\n",
       "    <tr>\n",
       "      <th>Vrai</th>\n",
       "      <td>3</td>\n",
       "      <td>199</td>\n",
       "    </tr>\n",
       "  </tbody>\n",
       "</table>\n",
       "</div>"
      ],
      "text/plain": [
       "      Prédit Faux  Prédit Vrai\n",
       "Faux           98            0\n",
       "Vrai            3          199"
      ]
     },
     "execution_count": 109,
     "metadata": {},
     "output_type": "execute_result"
    }
   ],
   "source": [
    "y_pred = model.predict(X_test)\n",
    "# matrice de confusion\n",
    "pd.DataFrame(confusion_matrix(y_test, y_pred), columns=['Prédit Faux', 'Prédit Vrai'],\n",
    "             index=['Faux', 'Vrai'])"
   ]
  }
 ],
 "metadata": {
  "kernelspec": {
   "display_name": "Python 3 (ipykernel)",
   "language": "python",
   "name": "python3"
  },
  "language_info": {
   "codemirror_mode": {
    "name": "ipython",
    "version": 3
   },
   "file_extension": ".py",
   "mimetype": "text/x-python",
   "name": "python",
   "nbconvert_exporter": "python",
   "pygments_lexer": "ipython3",
   "version": "3.9.16"
  }
 },
 "nbformat": 4,
 "nbformat_minor": 5
}
