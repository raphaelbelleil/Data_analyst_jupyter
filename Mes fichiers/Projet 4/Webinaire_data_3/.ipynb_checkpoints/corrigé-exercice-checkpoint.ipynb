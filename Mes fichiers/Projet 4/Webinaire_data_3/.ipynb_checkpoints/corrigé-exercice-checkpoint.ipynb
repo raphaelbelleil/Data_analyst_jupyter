{
 "cells": [
  {
   "cell_type": "code",
   "execution_count": 2,
   "metadata": {},
   "outputs": [],
   "source": [
    "import pandas as pd\n",
    "import numpy as np"
   ]
  },
  {
   "cell_type": "markdown",
   "metadata": {},
   "source": [
    "## Énoncé\n",
    "En tant que Data Scientist vous venez de décrocher une mission avec une plateforme d'éducation en ligne leader sur le marché européen, vous allez bientôt signer le contrat et vous consacrer au sujet pour les deux prochaines semaines.\n",
    "\n",
    "Ce leader de l'EdTech voit grand, ayant une forte implantation en France et en Europe, les dirigeants souhaitent également se développer sur le territoire américain qui regorge d'opportunités pour la formation en ligne, de par la taille de la population et des besoins liés aux métiers du numérique. L'entreprise souhaite démarrer son implantation aux USA en sélectionnant les territoires géographiques les plus prometteurs afin de lancer des campagnes publicitaires ciblées.\n",
    "\n",
    "## Mission\n",
    "Pour cette mission, on vous demande de déterminer la liste des villes prioritaires en vous basant sur des données récoltées par l'administration et disponibles en open-data. Votre objectif est de **fournir des résultats impactants** afin de guider Lesley en charge du développement pour la région Amérique du Nord.\n",
    "\n",
    "Pour ce travail, votre client a identifié [une source de données](https://data.ed.gov/dataset/college-scorecard-all-data-files-through-6-2020/resources?resource=658b5b83-ac9f-4e41-913e-9ba9411d7967) intéressante et a déjà initié une sélection de variables, à vous de compléter l'étude."
   ]
  },
  {
   "cell_type": "markdown",
   "metadata": {},
   "source": [
    "# Exercice\n",
    "## Partie 1 - Inspection des données (10 minutes)\n",
    "<img src='./oc_logo.png' width=15px /> Chargez le fichier `edtech_market_study_usa.csv` à l'aide de Pandas. Stockez le résultat du chargement dans la variable `df`.\n",
    "\n",
    "Les colonnes du fichier sont uniquement séparées par des virgules."
   ]
  },
  {
   "cell_type": "code",
   "execution_count": 3,
   "metadata": {},
   "outputs": [],
   "source": [
    "df = pd.read_csv('edtech_market_study_usa.csv', sep=',')"
   ]
  },
  {
   "cell_type": "markdown",
   "metadata": {},
   "source": [
    " "
   ]
  },
  {
   "cell_type": "markdown",
   "metadata": {},
   "source": [
    "<img src='./oc_logo.png' width=15px /> Pouvez-vous afficher les 5 premières lignes du dataframe pour vérifier que les données sont bien chargées ?"
   ]
  },
  {
   "cell_type": "code",
   "execution_count": 4,
   "metadata": {},
   "outputs": [
    {
     "data": {
      "text/html": [
       "<div>\n",
       "<style scoped>\n",
       "    .dataframe tbody tr th:only-of-type {\n",
       "        vertical-align: middle;\n",
       "    }\n",
       "\n",
       "    .dataframe tbody tr th {\n",
       "        vertical-align: top;\n",
       "    }\n",
       "\n",
       "    .dataframe thead th {\n",
       "        text-align: right;\n",
       "    }\n",
       "</style>\n",
       "<table border=\"1\" class=\"dataframe\">\n",
       "  <thead>\n",
       "    <tr style=\"text-align: right;\">\n",
       "      <th></th>\n",
       "      <th>ID</th>\n",
       "      <th>NOM</th>\n",
       "      <th>VILLE</th>\n",
       "      <th>ETAT</th>\n",
       "      <th>LATITUDE</th>\n",
       "      <th>LONGITUDE</th>\n",
       "      <th>A_DISTANCE_SEULEMENT</th>\n",
       "      <th>NOMBRE_ETUDIANTS</th>\n",
       "      <th>AGE_ENTREE</th>\n",
       "      <th>COUT_MOYEN_ANNEE_ACADEMIE</th>\n",
       "      <th>TAUX_ADMISSION</th>\n",
       "      <th>DEFAUT_PAIEMENT_2ANNEES</th>\n",
       "      <th>DEFAUT_PAIEMENT_3ANNEES</th>\n",
       "    </tr>\n",
       "  </thead>\n",
       "  <tbody>\n",
       "    <tr>\n",
       "      <th>0</th>\n",
       "      <td>100200</td>\n",
       "      <td>Alabama A &amp; M University</td>\n",
       "      <td>Normal</td>\n",
       "      <td>AL</td>\n",
       "      <td>34.783368</td>\n",
       "      <td>-86.568502</td>\n",
       "      <td>0.0</td>\n",
       "      <td>1368</td>\n",
       "      <td>20.283741368</td>\n",
       "      <td>22489.0</td>\n",
       "      <td>0.8986</td>\n",
       "      <td>0.114</td>\n",
       "      <td>0.182</td>\n",
       "    </tr>\n",
       "    <tr>\n",
       "      <th>1</th>\n",
       "      <td>105200</td>\n",
       "      <td>University of Alabama at Birmingham</td>\n",
       "      <td>Birmingham</td>\n",
       "      <td>AL</td>\n",
       "      <td>33.505697</td>\n",
       "      <td>-86.799345</td>\n",
       "      <td>0.0</td>\n",
       "      <td>2730</td>\n",
       "      <td>23.60797466</td>\n",
       "      <td>24347.0</td>\n",
       "      <td>0.9211</td>\n",
       "      <td>0.060</td>\n",
       "      <td>0.057</td>\n",
       "    </tr>\n",
       "    <tr>\n",
       "      <th>2</th>\n",
       "      <td>2503400</td>\n",
       "      <td>Amridge University</td>\n",
       "      <td>Montgomery</td>\n",
       "      <td>AL</td>\n",
       "      <td>32.362609</td>\n",
       "      <td>-86.174010</td>\n",
       "      <td>1.0</td>\n",
       "      <td>135</td>\n",
       "      <td>33.672297297</td>\n",
       "      <td>17680.0</td>\n",
       "      <td>NaN</td>\n",
       "      <td>0.071</td>\n",
       "      <td>0.110</td>\n",
       "    </tr>\n",
       "    <tr>\n",
       "      <th>3</th>\n",
       "      <td>105500</td>\n",
       "      <td>University of Alabama in Huntsville</td>\n",
       "      <td>Huntsville</td>\n",
       "      <td>AL</td>\n",
       "      <td>34.724557</td>\n",
       "      <td>-86.640449</td>\n",
       "      <td>0.0</td>\n",
       "      <td>1175</td>\n",
       "      <td>22.727919632</td>\n",
       "      <td>23441.0</td>\n",
       "      <td>0.8087</td>\n",
       "      <td>0.077</td>\n",
       "      <td>0.059</td>\n",
       "    </tr>\n",
       "    <tr>\n",
       "      <th>4</th>\n",
       "      <td>100500</td>\n",
       "      <td>Alabama State University</td>\n",
       "      <td>Montgomery</td>\n",
       "      <td>AL</td>\n",
       "      <td>32.364317</td>\n",
       "      <td>-86.295677</td>\n",
       "      <td>0.0</td>\n",
       "      <td>1281</td>\n",
       "      <td>20.130990415</td>\n",
       "      <td>21476.0</td>\n",
       "      <td>0.9774</td>\n",
       "      <td>0.132</td>\n",
       "      <td>0.203</td>\n",
       "    </tr>\n",
       "  </tbody>\n",
       "</table>\n",
       "</div>"
      ],
      "text/plain": [
       "        ID                                  NOM       VILLE ETAT   LATITUDE  \\\n",
       "0   100200             Alabama A & M University      Normal   AL  34.783368   \n",
       "1   105200  University of Alabama at Birmingham  Birmingham   AL  33.505697   \n",
       "2  2503400                   Amridge University  Montgomery   AL  32.362609   \n",
       "3   105500  University of Alabama in Huntsville  Huntsville   AL  34.724557   \n",
       "4   100500             Alabama State University  Montgomery   AL  32.364317   \n",
       "\n",
       "   LONGITUDE  A_DISTANCE_SEULEMENT NOMBRE_ETUDIANTS    AGE_ENTREE  \\\n",
       "0 -86.568502                   0.0             1368  20.283741368   \n",
       "1 -86.799345                   0.0             2730   23.60797466   \n",
       "2 -86.174010                   1.0              135  33.672297297   \n",
       "3 -86.640449                   0.0             1175  22.727919632   \n",
       "4 -86.295677                   0.0             1281  20.130990415   \n",
       "\n",
       "   COUT_MOYEN_ANNEE_ACADEMIE  TAUX_ADMISSION  DEFAUT_PAIEMENT_2ANNEES  \\\n",
       "0                    22489.0          0.8986                    0.114   \n",
       "1                    24347.0          0.9211                    0.060   \n",
       "2                    17680.0             NaN                    0.071   \n",
       "3                    23441.0          0.8087                    0.077   \n",
       "4                    21476.0          0.9774                    0.132   \n",
       "\n",
       "   DEFAUT_PAIEMENT_3ANNEES  \n",
       "0                    0.182  \n",
       "1                    0.057  \n",
       "2                    0.110  \n",
       "3                    0.059  \n",
       "4                    0.203  "
      ]
     },
     "execution_count": 4,
     "metadata": {},
     "output_type": "execute_result"
    }
   ],
   "source": [
    "df.head(5)"
   ]
  },
  {
   "cell_type": "markdown",
   "metadata": {},
   "source": [
    " "
   ]
  },
  {
   "cell_type": "markdown",
   "metadata": {},
   "source": [
    "<img src='./oc_logo.png' width=15px /> Combien de lignes et colonnes sont contenues dans `df` ?"
   ]
  },
  {
   "cell_type": "code",
   "execution_count": 4,
   "metadata": {},
   "outputs": [
    {
     "data": {
      "text/plain": [
       "(6806, 13)"
      ]
     },
     "execution_count": 4,
     "metadata": {},
     "output_type": "execute_result"
    }
   ],
   "source": [
    "df.shape"
   ]
  },
  {
   "cell_type": "markdown",
   "metadata": {},
   "source": [
    " "
   ]
  },
  {
   "cell_type": "markdown",
   "metadata": {},
   "source": [
    "<img src='./oc_logo.png' width=15px /> Affichez le type des colonnes"
   ]
  },
  {
   "cell_type": "code",
   "execution_count": 5,
   "metadata": {},
   "outputs": [
    {
     "data": {
      "text/plain": [
       "ID                             int64\n",
       "NOM                           object\n",
       "VILLE                         object\n",
       "ETAT                          object\n",
       "LATITUDE                     float64\n",
       "LONGITUDE                    float64\n",
       "A_DISTANCE_SEULEMENT         float64\n",
       "NOMBRE_ETUDIANTS              object\n",
       "AGE_ENTREE                    object\n",
       "COUT_MOYEN_ANNEE_ACADEMIE    float64\n",
       "TAUX_ADMISSION               float64\n",
       "DEFAUT_PAIEMENT_2ANNEES      float64\n",
       "DEFAUT_PAIEMENT_3ANNEES      float64\n",
       "dtype: object"
      ]
     },
     "execution_count": 5,
     "metadata": {},
     "output_type": "execute_result"
    }
   ],
   "source": [
    "df.dtypes"
   ]
  },
  {
   "cell_type": "markdown",
   "metadata": {},
   "source": [
    " "
   ]
  },
  {
   "cell_type": "markdown",
   "metadata": {},
   "source": [
    "<img src='./oc_logo.png' width=15px /> Les deux colonnes `NOMBRE_ETUDIANTS` et `AGE_ENTREE` ne sont pas bien typées, corrigez cela."
   ]
  },
  {
   "cell_type": "code",
   "execution_count": 6,
   "metadata": {},
   "outputs": [],
   "source": [
    "# la colonne contient une valeur string ce qui empêche la conversion en entier\n",
    "df.loc[df['NOMBRE_ETUDIANTS'] == 'PrivacySuppressed', 'NOMBRE_ETUDIANTS'] = np.nan\n",
    "# la colonne contient une valeur string ce qui empêche la conversion en entier\n",
    "df.loc[df['AGE_ENTREE'] == 'PrivacySuppressed', 'AGE_ENTREE'] = np.nan\n",
    "df['NOMBRE_ETUDIANTS'] = pd.to_numeric(df['NOMBRE_ETUDIANTS'])\n",
    "df['AGE_ENTREE'] = pd.to_numeric(df['AGE_ENTREE'])"
   ]
  },
  {
   "cell_type": "markdown",
   "metadata": {},
   "source": [
    " "
   ]
  },
  {
   "cell_type": "markdown",
   "metadata": {},
   "source": [
    "<img src='./oc_logo.png' width=15px /> Existe-t-il des valeurs manquantes dans ce jeu de données ?"
   ]
  },
  {
   "cell_type": "code",
   "execution_count": 7,
   "metadata": {},
   "outputs": [
    {
     "data": {
      "text/plain": [
       "ID                           0.000000\n",
       "NOM                          0.000000\n",
       "VILLE                        0.000000\n",
       "ETAT                         0.000000\n",
       "LATITUDE                     0.069791\n",
       "LONGITUDE                    0.069791\n",
       "A_DISTANCE_SEULEMENT         0.069791\n",
       "NOMBRE_ETUDIANTS             0.109756\n",
       "AGE_ENTREE                   0.091978\n",
       "COUT_MOYEN_ANNEE_ACADEMIE    0.495886\n",
       "TAUX_ADMISSION               0.705260\n",
       "DEFAUT_PAIEMENT_2ANNEES      0.190420\n",
       "DEFAUT_PAIEMENT_3ANNEES      0.136203\n",
       "dtype: float64"
      ]
     },
     "execution_count": 7,
     "metadata": {},
     "output_type": "execute_result"
    }
   ],
   "source": [
    "df.isna().any()\n",
    "# ou mieux\n",
    "df.isna().mean()"
   ]
  },
  {
   "cell_type": "markdown",
   "metadata": {},
   "source": [
    " "
   ]
  },
  {
   "cell_type": "markdown",
   "metadata": {},
   "source": [
    "<img src='./oc_logo.png' width=15px /> Vérifions s'il existe des doublons pour la variable ID qui est un identifiant unique"
   ]
  },
  {
   "cell_type": "code",
   "execution_count": 8,
   "metadata": {},
   "outputs": [
    {
     "data": {
      "text/plain": [
       "30"
      ]
     },
     "execution_count": 8,
     "metadata": {},
     "output_type": "execute_result"
    }
   ],
   "source": [
    "df.duplicated('ID').sum()"
   ]
  },
  {
   "cell_type": "markdown",
   "metadata": {},
   "source": [
    " "
   ]
  },
  {
   "cell_type": "markdown",
   "metadata": {},
   "source": [
    "<img src='./oc_logo.png' width=15px /> Nous allons maintenant nous débarrasser des duplicatas en supprimant la version la moins bien renseignée"
   ]
  },
  {
   "cell_type": "code",
   "execution_count": 9,
   "metadata": {},
   "outputs": [],
   "source": [
    "# on compte le nombre de valeurs manquantes pour la ligne et on stocke dans une nouvelle colonne\n",
    "df['NB_NAN'] = df.isna().sum(axis=1)\n",
    "# trie des lignes en fonction du nombre de valeurs manquantes\n",
    "df = df.sort_values('NB_NAN')\n",
    "# suppression des duplicatas en gardant les versions les mieux remplies\n",
    "df = df.drop_duplicates('ID', keep='first')\n",
    "# on supprime la colonne qui n'est plus utile\n",
    "df = df.drop('NB_NAN', axis=1)"
   ]
  },
  {
   "cell_type": "markdown",
   "metadata": {},
   "source": [
    "## Partie 2 - Exploration (2 heures)\n",
    "\n",
    "<img src='./oc_logo.png' width=15px /> Combien d'établissements sont représentés dans ce fichier ?"
   ]
  },
  {
   "cell_type": "code",
   "execution_count": 10,
   "metadata": {},
   "outputs": [
    {
     "data": {
      "text/plain": [
       "6776"
      ]
     },
     "execution_count": 10,
     "metadata": {},
     "output_type": "execute_result"
    }
   ],
   "source": [
    "df['ID'].count()"
   ]
  },
  {
   "cell_type": "markdown",
   "metadata": {},
   "source": [
    " "
   ]
  },
  {
   "cell_type": "markdown",
   "metadata": {},
   "source": [
    "<img src='./oc_logo.png' width=15px /> On souhaite savoir si la couverture des états est représentative, à savoir si le nombre d'établissements est significatif. **Donnez le nombre d'établissements par état**."
   ]
  },
  {
   "cell_type": "code",
   "execution_count": 11,
   "metadata": {},
   "outputs": [
    {
     "data": {
      "text/plain": [
       "ETAT\n",
       "AK      9\n",
       "AL     85\n",
       "AR     92\n",
       "AS      1\n",
       "AZ    117\n",
       "CA    701\n",
       "CO    109\n",
       "CT     80\n",
       "DC     22\n",
       "DE     21\n",
       "FL    383\n",
       "FM      1\n",
       "GA    176\n",
       "GU      3\n",
       "HI     23\n",
       "IA     86\n",
       "ID     38\n",
       "IL    263\n",
       "IN    135\n",
       "KS     80\n",
       "KY     94\n",
       "LA    125\n",
       "MA    161\n",
       "MD     87\n",
       "ME     40\n",
       "MH      1\n",
       "MI    191\n",
       "MN    117\n",
       "MO    162\n",
       "MP      1\n",
       "MS     60\n",
       "MT     33\n",
       "NC    183\n",
       "ND     28\n",
       "NE     46\n",
       "NH     38\n",
       "NJ    167\n",
       "NM     49\n",
       "NV     39\n",
       "NY    449\n",
       "OH    298\n",
       "OK    110\n",
       "OR     77\n",
       "PA    356\n",
       "PR    142\n",
       "PW      1\n",
       "RI     23\n",
       "SC     99\n",
       "SD     29\n",
       "TN    159\n",
       "TX    433\n",
       "UT     72\n",
       "VA    166\n",
       "VI      2\n",
       "VT     25\n",
       "WA    106\n",
       "WI     98\n",
       "WV     74\n",
       "WY     10\n",
       "Name: ID, dtype: int64"
      ]
     },
     "execution_count": 11,
     "metadata": {},
     "output_type": "execute_result"
    }
   ],
   "source": [
    "df.groupby('ETAT')['ID'].count()"
   ]
  },
  {
   "cell_type": "markdown",
   "metadata": {},
   "source": [
    " "
   ]
  },
  {
   "cell_type": "markdown",
   "metadata": {},
   "source": [
    "<img src='./oc_logo.png' width=15px /> Suite aux résultats de la question précédente, pensez-vous qu'il est normal que certains états possèdent si peu d'établissements ? Voici [un lien intéressant](https://www.factmonster.com/us/postal-information/state-abbreviations-and-state-postal-codes). \n",
    "\n",
    "Identifiez les états avec moins de 5 établissements éducatifs."
   ]
  },
  {
   "cell_type": "code",
   "execution_count": 12,
   "metadata": {},
   "outputs": [],
   "source": [
    "nb_etab_par_etat = df.groupby('ETAT')['ID'].count()\n",
    "etats_a_sup = nb_etab_par_etat[nb_etab_par_etat <= 5].index"
   ]
  },
  {
   "cell_type": "markdown",
   "metadata": {},
   "source": [
    " "
   ]
  },
  {
   "cell_type": "markdown",
   "metadata": {},
   "source": [
    "<img src='./oc_logo.png' width=15px /> Supprimez les établissements situés dans ces états, nos résultats risquent de ne pas être assez représentatifs si on les exploite."
   ]
  },
  {
   "cell_type": "code",
   "execution_count": 13,
   "metadata": {},
   "outputs": [],
   "source": [
    "df = df[~df['ETAT'].isin(etats_a_sup)]"
   ]
  },
  {
   "cell_type": "markdown",
   "metadata": {},
   "source": [
    " "
   ]
  },
  {
   "cell_type": "markdown",
   "metadata": {},
   "source": [
    "<img src='./oc_logo.png' width=15px /> Quels sont les 3 états qui hébergent le plus d'établissements fonctionnant en mode à distance ?"
   ]
  },
  {
   "cell_type": "code",
   "execution_count": 14,
   "metadata": {},
   "outputs": [
    {
     "data": {
      "text/plain": [
       "ETAT\n",
       "CA    9.0\n",
       "AZ    4.0\n",
       "WV    3.0\n",
       "Name: A_DISTANCE_SEULEMENT, dtype: float64"
      ]
     },
     "execution_count": 14,
     "metadata": {},
     "output_type": "execute_result"
    }
   ],
   "source": [
    "df.groupby('ETAT')['A_DISTANCE_SEULEMENT'].sum().sort_values(ascending=False).iloc[:3]"
   ]
  },
  {
   "cell_type": "markdown",
   "metadata": {},
   "source": [
    " "
   ]
  },
  {
   "cell_type": "markdown",
   "metadata": {},
   "source": [
    "<img src='./oc_logo.png' width=15px /> Nous allons exploiter le taux de défaut de paiement de l'établissement pour se renseigner sur le potentiel local d'une formation à coût inférieur. \n",
    "\n",
    "Faites une moyenne des variables `DEFAUT_PAIEMENT_2ANNEES` et `DEFAUT_PAIEMENT_3ANNEES`, stockez le résultat dans une nouvelle colonne `DEFAUT_PAIEMENT`."
   ]
  },
  {
   "cell_type": "code",
   "execution_count": 15,
   "metadata": {},
   "outputs": [],
   "source": [
    "df['DEFAUT_PAIEMENT'] = (df['DEFAUT_PAIEMENT_2ANNEES'] + df['DEFAUT_PAIEMENT_3ANNEES']) / 2"
   ]
  },
  {
   "cell_type": "markdown",
   "metadata": {},
   "source": [
    " "
   ]
  },
  {
   "cell_type": "markdown",
   "metadata": {},
   "source": [
    "<img src='./oc_logo.png' width=15px /> Remplacez les valeurs manquantes de la colonne `DEFAUT_PAIEMENT` par zéro."
   ]
  },
  {
   "cell_type": "code",
   "execution_count": 16,
   "metadata": {},
   "outputs": [],
   "source": [
    "df.loc[df['DEFAUT_PAIEMENT'].isna(), 'DEFAUT_PAIEMENT'] = 0"
   ]
  },
  {
   "cell_type": "markdown",
   "metadata": {},
   "source": [
    " "
   ]
  },
  {
   "cell_type": "markdown",
   "metadata": {},
   "source": [
    "<img src='./oc_logo.png' width=15px /> Il serait intéressant de connaître le nombre d'étudiants potentiels par ville dans le but de cibler prioritairement les plus peuplées, une hypothétique opération publicitaire serait alors plus rentable.\n",
    "\n",
    "Pour retrouver le nombre d'étudiants ayant fait une demande d'inscription, nous allons nous baser sur le nombre d'étudiants acceptés et sur le taux d'admission. \n",
    "\n",
    "Dans un premier temps remplacez les taux d'admission manquants par la valeur médiane de la variable."
   ]
  },
  {
   "cell_type": "code",
   "execution_count": 17,
   "metadata": {},
   "outputs": [],
   "source": [
    "df.loc[df['TAUX_ADMISSION'].isna(), 'TAUX_ADMISSION'] = df['TAUX_ADMISSION'].median()"
   ]
  },
  {
   "cell_type": "markdown",
   "metadata": {},
   "source": [
    " "
   ]
  },
  {
   "cell_type": "markdown",
   "metadata": {},
   "source": [
    "<img src='./oc_logo.png' width=15px /> Supprimez les lignes ayant un taux d'admission nul, cela paraît peu probable."
   ]
  },
  {
   "cell_type": "code",
   "execution_count": 18,
   "metadata": {},
   "outputs": [],
   "source": [
    "df = df[df['TAUX_ADMISSION'] > 0]"
   ]
  },
  {
   "cell_type": "markdown",
   "metadata": {},
   "source": [
    " "
   ]
  },
  {
   "cell_type": "markdown",
   "metadata": {},
   "source": [
    "<img src='./oc_logo.png' width=15px /> Remplacez les valeurs manquantes de la colonne `NOMBRE_ETUDIANTS` en remplaçant par la valeur médiane de la variable."
   ]
  },
  {
   "cell_type": "code",
   "execution_count": 19,
   "metadata": {},
   "outputs": [],
   "source": [
    "df.loc[df['NOMBRE_ETUDIANTS'].isna(), 'NOMBRE_ETUDIANTS'] = df['NOMBRE_ETUDIANTS'].median()"
   ]
  },
  {
   "cell_type": "markdown",
   "metadata": {},
   "source": [
    " "
   ]
  },
  {
   "cell_type": "markdown",
   "metadata": {},
   "source": [
    "<img src='./oc_logo.png' width=15px /> À l'aide d'un calcul savant, retrouvez le nombre d'étudiants ayant fait une demande d'inscription."
   ]
  },
  {
   "cell_type": "code",
   "execution_count": 20,
   "metadata": {},
   "outputs": [],
   "source": [
    "df['NOMBRE_ETUDIANTS_DEMANDEURS'] = df['NOMBRE_ETUDIANTS'] / df['TAUX_ADMISSION']"
   ]
  },
  {
   "cell_type": "markdown",
   "metadata": {},
   "source": [
    " "
   ]
  },
  {
   "cell_type": "markdown",
   "metadata": {},
   "source": [
    "<img src='./oc_logo.png' width=15px /> Nous utiliserons plus tard la variable `COUT_MOYEN_ANNEE_ACADEMIE`, afin de quantifier le budget éducation des étudiants. Avant cela, il faut remplacer les valeurs manquantes de la variable par la médiane."
   ]
  },
  {
   "cell_type": "code",
   "execution_count": 21,
   "metadata": {},
   "outputs": [],
   "source": [
    "df.loc[df['COUT_MOYEN_ANNEE_ACADEMIE'].isna(), 'COUT_MOYEN_ANNEE_ACADEMIE'] = df['COUT_MOYEN_ANNEE_ACADEMIE'].median()"
   ]
  },
  {
   "cell_type": "markdown",
   "metadata": {},
   "source": [
    "### Création des scores "
   ]
  },
  {
   "cell_type": "markdown",
   "metadata": {},
   "source": [
    " "
   ]
  },
  {
   "cell_type": "markdown",
   "metadata": {},
   "source": [
    "<img src='./oc_logo.png' width=15px /> Nous allons maintenant créer un score entre 0 et 1 pour noter le critère population étudiante de chaque ville (1 ville pour la plus peuplée, 0 pour la moins peuplée).\n",
    "\n",
    "Créez une colonne `SCORE_POP` contenant le score de la variable `NOMBRE_ETUDIANTS_DEMANDEURS`."
   ]
  },
  {
   "cell_type": "code",
   "execution_count": 22,
   "metadata": {},
   "outputs": [],
   "source": [
    "df['SCORE_POP'] = df['NOMBRE_ETUDIANTS_DEMANDEURS'] / df['NOMBRE_ETUDIANTS_DEMANDEURS'].max()"
   ]
  },
  {
   "cell_type": "markdown",
   "metadata": {},
   "source": [
    " "
   ]
  },
  {
   "cell_type": "markdown",
   "metadata": {},
   "source": [
    "<img src='./oc_logo.png' width=15px /> Créez une colonne `SCORE_COUT` contenant le score issu de la variable `COUT_MOYEN_ANNEE_ACADEMIE`."
   ]
  },
  {
   "cell_type": "code",
   "execution_count": 23,
   "metadata": {},
   "outputs": [],
   "source": [
    "df['SCORE_COUT'] = df['COUT_MOYEN_ANNEE_ACADEMIE'] / df['COUT_MOYEN_ANNEE_ACADEMIE'].max()"
   ]
  },
  {
   "cell_type": "markdown",
   "metadata": {},
   "source": [
    " "
   ]
  },
  {
   "cell_type": "markdown",
   "metadata": {},
   "source": [
    "<img src='./oc_logo.png' width=15px /> Créez une colonne `SCORE_DEFAUT` contenant le score issu de la variable `DEFAUT_PAIEMENT`."
   ]
  },
  {
   "cell_type": "code",
   "execution_count": 24,
   "metadata": {},
   "outputs": [],
   "source": [
    "df['SCORE_DEFAUT'] = df['DEFAUT_PAIEMENT'] / df['DEFAUT_PAIEMENT'].max()"
   ]
  },
  {
   "cell_type": "markdown",
   "metadata": {},
   "source": [
    " "
   ]
  },
  {
   "cell_type": "markdown",
   "metadata": {},
   "source": [
    "<img src='./oc_logo.png' width=15px /> Par curiosité, on se demande si il existe une relation entre les variables `SCORE_DEFAUT` et `SCORE_COUT`. Pour démontrer cela, calculer la corrélation linéaire entre les deux variables."
   ]
  },
  {
   "cell_type": "code",
   "execution_count": 25,
   "metadata": {},
   "outputs": [
    {
     "data": {
      "text/html": [
       "<div>\n",
       "<style scoped>\n",
       "    .dataframe tbody tr th:only-of-type {\n",
       "        vertical-align: middle;\n",
       "    }\n",
       "\n",
       "    .dataframe tbody tr th {\n",
       "        vertical-align: top;\n",
       "    }\n",
       "\n",
       "    .dataframe thead th {\n",
       "        text-align: right;\n",
       "    }\n",
       "</style>\n",
       "<table border=\"1\" class=\"dataframe\">\n",
       "  <thead>\n",
       "    <tr style=\"text-align: right;\">\n",
       "      <th></th>\n",
       "      <th>SCORE_DEFAUT</th>\n",
       "      <th>SCORE_COUT</th>\n",
       "    </tr>\n",
       "  </thead>\n",
       "  <tbody>\n",
       "    <tr>\n",
       "      <th>SCORE_DEFAUT</th>\n",
       "      <td>1.000000</td>\n",
       "      <td>-0.230826</td>\n",
       "    </tr>\n",
       "    <tr>\n",
       "      <th>SCORE_COUT</th>\n",
       "      <td>-0.230826</td>\n",
       "      <td>1.000000</td>\n",
       "    </tr>\n",
       "  </tbody>\n",
       "</table>\n",
       "</div>"
      ],
      "text/plain": [
       "              SCORE_DEFAUT  SCORE_COUT\n",
       "SCORE_DEFAUT      1.000000   -0.230826\n",
       "SCORE_COUT       -0.230826    1.000000"
      ]
     },
     "execution_count": 25,
     "metadata": {},
     "output_type": "execute_result"
    }
   ],
   "source": [
    "df[['SCORE_DEFAUT', 'SCORE_COUT']].corr()"
   ]
  },
  {
   "cell_type": "markdown",
   "metadata": {},
   "source": [
    " "
   ]
  },
  {
   "cell_type": "markdown",
   "metadata": {},
   "source": [
    "<img src='./oc_logo.png' width=15px /> On souhaite identifier les écoles ayant un fort potentiel économique pour notre client, voici la liste des critères que l'on recherche :\n",
    "- Nombre important d'étudiants\n",
    "- Prix élevé de la formation\n",
    "- Taux d'admission faible\n",
    "\n",
    "Utilisez les scores calculés précédemment pour construire un nouvel indicateur (`SCORE_SYNT`) synthétisant ces propriétés."
   ]
  },
  {
   "cell_type": "code",
   "execution_count": 26,
   "metadata": {},
   "outputs": [],
   "source": [
    "df['SCORE_SYNT'] = (df['SCORE_POP'] + df['SCORE_COUT'] + (1 - df['TAUX_ADMISSION'])) / 3"
   ]
  },
  {
   "cell_type": "markdown",
   "metadata": {},
   "source": [
    " "
   ]
  },
  {
   "cell_type": "markdown",
   "metadata": {},
   "source": [
    "<img src='./oc_logo.png' width=15px /> Donnez la liste des 15 établissements les mieux classés par rapport à `SCORE_SYNT`"
   ]
  },
  {
   "cell_type": "code",
   "execution_count": 27,
   "metadata": {},
   "outputs": [
    {
     "data": {
      "text/html": [
       "<div>\n",
       "<style scoped>\n",
       "    .dataframe tbody tr th:only-of-type {\n",
       "        vertical-align: middle;\n",
       "    }\n",
       "\n",
       "    .dataframe tbody tr th {\n",
       "        vertical-align: top;\n",
       "    }\n",
       "\n",
       "    .dataframe thead th {\n",
       "        text-align: right;\n",
       "    }\n",
       "</style>\n",
       "<table border=\"1\" class=\"dataframe\">\n",
       "  <thead>\n",
       "    <tr style=\"text-align: right;\">\n",
       "      <th></th>\n",
       "      <th>NOM</th>\n",
       "      <th>ETAT</th>\n",
       "      <th>SCORE_POP</th>\n",
       "      <th>SCORE_COUT</th>\n",
       "      <th>TAUX_ADMISSION</th>\n",
       "      <th>SCORE_SYNT</th>\n",
       "    </tr>\n",
       "  </thead>\n",
       "  <tbody>\n",
       "    <tr>\n",
       "      <th>2153</th>\n",
       "      <td>Columbia University in the City of New York</td>\n",
       "      <td>NY</td>\n",
       "      <td>0.231570</td>\n",
       "      <td>0.772348</td>\n",
       "      <td>0.0591</td>\n",
       "      <td>0.648272</td>\n",
       "    </tr>\n",
       "    <tr>\n",
       "      <th>476</th>\n",
       "      <td>University of Southern California</td>\n",
       "      <td>CA</td>\n",
       "      <td>0.206357</td>\n",
       "      <td>0.748088</td>\n",
       "      <td>0.1296</td>\n",
       "      <td>0.608282</td>\n",
       "    </tr>\n",
       "    <tr>\n",
       "      <th>1492</th>\n",
       "      <td>Harvard University</td>\n",
       "      <td>MA</td>\n",
       "      <td>0.124172</td>\n",
       "      <td>0.738106</td>\n",
       "      <td>0.0473</td>\n",
       "      <td>0.604993</td>\n",
       "    </tr>\n",
       "    <tr>\n",
       "      <th>2159</th>\n",
       "      <td>Cornell University</td>\n",
       "      <td>NY</td>\n",
       "      <td>0.188994</td>\n",
       "      <td>0.729453</td>\n",
       "      <td>0.1061</td>\n",
       "      <td>0.604116</td>\n",
       "    </tr>\n",
       "    <tr>\n",
       "      <th>3841</th>\n",
       "      <td>Stanford University</td>\n",
       "      <td>CA</td>\n",
       "      <td>0.128025</td>\n",
       "      <td>0.717084</td>\n",
       "      <td>0.0436</td>\n",
       "      <td>0.600503</td>\n",
       "    </tr>\n",
       "    <tr>\n",
       "      <th>983</th>\n",
       "      <td>Northwestern University</td>\n",
       "      <td>IL</td>\n",
       "      <td>0.126246</td>\n",
       "      <td>0.757043</td>\n",
       "      <td>0.0847</td>\n",
       "      <td>0.599530</td>\n",
       "    </tr>\n",
       "    <tr>\n",
       "      <th>2992</th>\n",
       "      <td>University of Pennsylvania</td>\n",
       "      <td>PA</td>\n",
       "      <td>0.126347</td>\n",
       "      <td>0.753141</td>\n",
       "      <td>0.0841</td>\n",
       "      <td>0.598463</td>\n",
       "    </tr>\n",
       "    <tr>\n",
       "      <th>890</th>\n",
       "      <td>University of Chicago</td>\n",
       "      <td>IL</td>\n",
       "      <td>0.079202</td>\n",
       "      <td>0.785837</td>\n",
       "      <td>0.0726</td>\n",
       "      <td>0.597479</td>\n",
       "    </tr>\n",
       "    <tr>\n",
       "      <th>3072</th>\n",
       "      <td>Brown University</td>\n",
       "      <td>RI</td>\n",
       "      <td>0.105803</td>\n",
       "      <td>0.737224</td>\n",
       "      <td>0.0767</td>\n",
       "      <td>0.588776</td>\n",
       "    </tr>\n",
       "    <tr>\n",
       "      <th>5439</th>\n",
       "      <td>Chamberlain University-Virginia</td>\n",
       "      <td>VA</td>\n",
       "      <td>0.520493</td>\n",
       "      <td>0.409598</td>\n",
       "      <td>0.1667</td>\n",
       "      <td>0.587797</td>\n",
       "    </tr>\n",
       "    <tr>\n",
       "      <th>2413</th>\n",
       "      <td>Duke University</td>\n",
       "      <td>NC</td>\n",
       "      <td>0.096739</td>\n",
       "      <td>0.751917</td>\n",
       "      <td>0.0891</td>\n",
       "      <td>0.586519</td>\n",
       "    </tr>\n",
       "    <tr>\n",
       "      <th>605</th>\n",
       "      <td>Yale University</td>\n",
       "      <td>CT</td>\n",
       "      <td>0.070429</td>\n",
       "      <td>0.739715</td>\n",
       "      <td>0.0635</td>\n",
       "      <td>0.582215</td>\n",
       "    </tr>\n",
       "    <tr>\n",
       "      <th>2268</th>\n",
       "      <td>New York University</td>\n",
       "      <td>NY</td>\n",
       "      <td>0.203539</td>\n",
       "      <td>0.724565</td>\n",
       "      <td>0.1999</td>\n",
       "      <td>0.576068</td>\n",
       "    </tr>\n",
       "    <tr>\n",
       "      <th>1959</th>\n",
       "      <td>Dartmouth College</td>\n",
       "      <td>NH</td>\n",
       "      <td>0.060147</td>\n",
       "      <td>0.745287</td>\n",
       "      <td>0.0874</td>\n",
       "      <td>0.572678</td>\n",
       "    </tr>\n",
       "    <tr>\n",
       "      <th>2046</th>\n",
       "      <td>Princeton University</td>\n",
       "      <td>NJ</td>\n",
       "      <td>0.071384</td>\n",
       "      <td>0.694682</td>\n",
       "      <td>0.0548</td>\n",
       "      <td>0.570422</td>\n",
       "    </tr>\n",
       "  </tbody>\n",
       "</table>\n",
       "</div>"
      ],
      "text/plain": [
       "                                              NOM ETAT  SCORE_POP  SCORE_COUT  \\\n",
       "2153  Columbia University in the City of New York   NY   0.231570    0.772348   \n",
       "476             University of Southern California   CA   0.206357    0.748088   \n",
       "1492                           Harvard University   MA   0.124172    0.738106   \n",
       "2159                           Cornell University   NY   0.188994    0.729453   \n",
       "3841                          Stanford University   CA   0.128025    0.717084   \n",
       "983                       Northwestern University   IL   0.126246    0.757043   \n",
       "2992                   University of Pennsylvania   PA   0.126347    0.753141   \n",
       "890                         University of Chicago   IL   0.079202    0.785837   \n",
       "3072                             Brown University   RI   0.105803    0.737224   \n",
       "5439              Chamberlain University-Virginia   VA   0.520493    0.409598   \n",
       "2413                              Duke University   NC   0.096739    0.751917   \n",
       "605                               Yale University   CT   0.070429    0.739715   \n",
       "2268                          New York University   NY   0.203539    0.724565   \n",
       "1959                            Dartmouth College   NH   0.060147    0.745287   \n",
       "2046                         Princeton University   NJ   0.071384    0.694682   \n",
       "\n",
       "      TAUX_ADMISSION  SCORE_SYNT  \n",
       "2153          0.0591    0.648272  \n",
       "476           0.1296    0.608282  \n",
       "1492          0.0473    0.604993  \n",
       "2159          0.1061    0.604116  \n",
       "3841          0.0436    0.600503  \n",
       "983           0.0847    0.599530  \n",
       "2992          0.0841    0.598463  \n",
       "890           0.0726    0.597479  \n",
       "3072          0.0767    0.588776  \n",
       "5439          0.1667    0.587797  \n",
       "2413          0.0891    0.586519  \n",
       "605           0.0635    0.582215  \n",
       "2268          0.1999    0.576068  \n",
       "1959          0.0874    0.572678  \n",
       "2046          0.0548    0.570422  "
      ]
     },
     "execution_count": 27,
     "metadata": {},
     "output_type": "execute_result"
    }
   ],
   "source": [
    "df.sort_values('SCORE_SYNT', ascending=False)[['NOM', 'ETAT', 'SCORE_POP', 'SCORE_COUT', 'TAUX_ADMISSION', 'SCORE_SYNT']].iloc[:15]"
   ]
  },
  {
   "cell_type": "markdown",
   "metadata": {},
   "source": [
    " "
   ]
  },
  {
   "cell_type": "markdown",
   "metadata": {},
   "source": [
    "<img src='./oc_logo.png' width=15px /> Quels sont les 15 villes ayant les plus forts scores totaux ?"
   ]
  },
  {
   "cell_type": "code",
   "execution_count": 28,
   "metadata": {},
   "outputs": [
    {
     "data": {
      "text/plain": [
       "VILLE\n",
       "New York        19.671427\n",
       "Chicago         13.876685\n",
       "Houston         13.473386\n",
       "Los Angeles     11.525051\n",
       "Philadelphia     8.921852\n",
       "                  ...    \n",
       "Epworth          0.069591\n",
       "Celina           0.061313\n",
       "MEADVILLE        0.060391\n",
       "Havre            0.055672\n",
       "Gering           0.045670\n",
       "Name: SCORE_SYNT, Length: 2447, dtype: float64"
      ]
     },
     "execution_count": 28,
     "metadata": {},
     "output_type": "execute_result"
    }
   ],
   "source": [
    "df.groupby('VILLE')['SCORE_SYNT'].sum().sort_values(ascending=False)"
   ]
  },
  {
   "cell_type": "markdown",
   "metadata": {},
   "source": [
    " "
   ]
  },
  {
   "cell_type": "markdown",
   "metadata": {},
   "source": [
    "<img src='./oc_logo.png' width=15px /> Et les états ?"
   ]
  },
  {
   "cell_type": "code",
   "execution_count": 29,
   "metadata": {},
   "outputs": [
    {
     "data": {
      "text/plain": [
       "ETAT\n",
       "CA    138.597452\n",
       "NY     92.356936\n",
       "TX     81.876825\n",
       "FL     75.187339\n",
       "PA     74.549925\n",
       "OH     57.789733\n",
       "IL     50.952180\n",
       "MA     38.759950\n",
       "NC     37.368602\n",
       "MI     36.862312\n",
       "GA     35.299388\n",
       "VA     34.634184\n",
       "NJ     32.235426\n",
       "MO     30.805332\n",
       "TN     30.686800\n",
       "IN     28.505368\n",
       "LA     23.729721\n",
       "MN     23.133028\n",
       "PR     23.080823\n",
       "AZ     22.518678\n",
       "CO     20.785743\n",
       "OK     20.153163\n",
       "SC     20.043690\n",
       "WA     19.375646\n",
       "WI     18.838152\n",
       "MD     18.047529\n",
       "IA     17.653631\n",
       "KY     17.534481\n",
       "CT     16.648674\n",
       "AR     16.175873\n",
       "AL     15.566728\n",
       "KS     14.893030\n",
       "UT     13.607601\n",
       "OR     13.494514\n",
       "WV     13.173343\n",
       "MS     10.249513\n",
       "NE      9.132231\n",
       "NM      9.035832\n",
       "ME      8.595038\n",
       "NH      8.051893\n",
       "NV      7.391162\n",
       "ID      6.439194\n",
       "VT      5.879210\n",
       "RI      5.489774\n",
       "DC      5.357599\n",
       "MT      5.318545\n",
       "SD      4.872587\n",
       "ND      4.577903\n",
       "DE      4.211376\n",
       "HI      4.169070\n",
       "AK      1.528461\n",
       "WY      1.454076\n",
       "Name: SCORE_SYNT, dtype: float64"
      ]
     },
     "execution_count": 29,
     "metadata": {},
     "output_type": "execute_result"
    }
   ],
   "source": [
    "df.groupby('ETAT')['SCORE_SYNT'].sum().sort_values(ascending=False)"
   ]
  },
  {
   "cell_type": "markdown",
   "metadata": {},
   "source": [
    "Coincidence avec le nombre d'établissements à distance ? ;)"
   ]
  },
  {
   "cell_type": "markdown",
   "metadata": {},
   "source": [
    " "
   ]
  },
  {
   "cell_type": "markdown",
   "metadata": {},
   "source": [
    "<img src='./oc_logo.png' width=15px /> Conclusions\n",
    "\n",
    "Vous venez d'identifier un ensemble de villes potentiellement intéressantes pour un développement commercial, il faut maintenant les présenter à votre client pour le convaincre de la pertinence de vos analyses !\n",
    "\n",
    "Dans cet exercice vous avez appris à nettoyer et explorer un jeu de données pour en extraire des données exploitables (ici à travers les scores). Essayez toujours de présenter des résultats simples à comprendre, ici les scores sont directement issus des indicateurs, ils sont bornés entre 0 et 1."
   ]
  },
  {
   "cell_type": "markdown",
   "metadata": {},
   "source": [
    "<img src='./oc_logo.png' width=15px /> Perspectives d'amélioration\n",
    "\n",
    "Nous n'avons pas exploité toutes les données, par exemple pour illustrer nos analyses il est indispensable de créer des visualisations graphiques avec matplotlib et seaborn, et pourquoi pas faire une carte interactive (avec folium) en utilisant lattitude et longitude."
   ]
  },
  {
   "cell_type": "markdown",
   "metadata": {},
   "source": [
    " "
   ]
  }
 ],
 "metadata": {
  "kernelspec": {
   "display_name": "Python 3 (ipykernel)",
   "language": "python",
   "name": "python3"
  },
  "language_info": {
   "codemirror_mode": {
    "name": "ipython",
    "version": 3
   },
   "file_extension": ".py",
   "mimetype": "text/x-python",
   "name": "python",
   "nbconvert_exporter": "python",
   "pygments_lexer": "ipython3",
   "version": "3.9.13"
  }
 },
 "nbformat": 4,
 "nbformat_minor": 4
}
