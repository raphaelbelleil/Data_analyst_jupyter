{
 "cells": [
  {
   "cell_type": "code",
   "execution_count": 1,
   "id": "f9a611aa",
   "metadata": {},
   "outputs": [
    {
     "data": {
      "text/html": [
       "<div>\n",
       "<style scoped>\n",
       "    .dataframe tbody tr th:only-of-type {\n",
       "        vertical-align: middle;\n",
       "    }\n",
       "\n",
       "    .dataframe tbody tr th {\n",
       "        vertical-align: top;\n",
       "    }\n",
       "\n",
       "    .dataframe thead th {\n",
       "        text-align: right;\n",
       "    }\n",
       "</style>\n",
       "<table border=\"1\" class=\"dataframe\">\n",
       "  <thead>\n",
       "    <tr style=\"text-align: right;\">\n",
       "      <th></th>\n",
       "      <th>date_operation</th>\n",
       "      <th>libelle</th>\n",
       "      <th>montant</th>\n",
       "      <th>solde_avt_ope</th>\n",
       "      <th>categ</th>\n",
       "    </tr>\n",
       "  </thead>\n",
       "  <tbody>\n",
       "    <tr>\n",
       "      <th>0</th>\n",
       "      <td>2023-03-31</td>\n",
       "      <td>DON XX XX XX XX XX XX XX</td>\n",
       "      <td>-1.44</td>\n",
       "      <td>1515.25</td>\n",
       "      <td>AUTRE</td>\n",
       "    </tr>\n",
       "    <tr>\n",
       "      <th>1</th>\n",
       "      <td>2023-04-03</td>\n",
       "      <td>CARTE XX XX RAPT XX</td>\n",
       "      <td>-24.00</td>\n",
       "      <td>1513.81</td>\n",
       "      <td>TRANSPORT</td>\n",
       "    </tr>\n",
       "    <tr>\n",
       "      <th>2</th>\n",
       "      <td>2023-04-03</td>\n",
       "      <td>CARTE XX XX RAPT XX</td>\n",
       "      <td>-73.00</td>\n",
       "      <td>1489.81</td>\n",
       "      <td>TRANSPORT</td>\n",
       "    </tr>\n",
       "    <tr>\n",
       "      <th>3</th>\n",
       "      <td>2023-04-03</td>\n",
       "      <td>VIREMENT XX XX XX XX XX XX XX XX XX XX XX XX</td>\n",
       "      <td>676.00</td>\n",
       "      <td>1416.81</td>\n",
       "      <td>AUTRE</td>\n",
       "    </tr>\n",
       "    <tr>\n",
       "      <th>4</th>\n",
       "      <td>2023-04-03</td>\n",
       "      <td>VIREMENT XX XX XX XX XX XX</td>\n",
       "      <td>4.80</td>\n",
       "      <td>2092.81</td>\n",
       "      <td>AUTRE</td>\n",
       "    </tr>\n",
       "  </tbody>\n",
       "</table>\n",
       "</div>"
      ],
      "text/plain": [
       "  date_operation                                       libelle  montant  \\\n",
       "0     2023-03-31                      DON XX XX XX XX XX XX XX    -1.44   \n",
       "1     2023-04-03                           CARTE XX XX RAPT XX   -24.00   \n",
       "2     2023-04-03                           CARTE XX XX RAPT XX   -73.00   \n",
       "3     2023-04-03  VIREMENT XX XX XX XX XX XX XX XX XX XX XX XX   676.00   \n",
       "4     2023-04-03                    VIREMENT XX XX XX XX XX XX     4.80   \n",
       "\n",
       "   solde_avt_ope      categ  \n",
       "0        1515.25      AUTRE  \n",
       "1        1513.81  TRANSPORT  \n",
       "2        1489.81  TRANSPORT  \n",
       "3        1416.81      AUTRE  \n",
       "4        2092.81      AUTRE  "
      ]
     },
     "execution_count": 1,
     "metadata": {},
     "output_type": "execute_result"
    }
   ],
   "source": [
    "# import des librairies dont nous aurons besoin\n",
    "import pandas as pd\n",
    "import numpy as np\n",
    "import re\n",
    "\n",
    "# chargement et affichage des données\n",
    "data = pd.read_csv('D:\\Dev\\Mes fichiers Python\\Fichiers de données\\operation_modifiee.csv')\n",
    "data.drop(columns='Unnamed: 0', inplace=True)\n",
    "data.head()"
   ]
  },
  {
   "cell_type": "code",
   "execution_count": 2,
   "id": "0a9c04a4",
   "metadata": {},
   "outputs": [
    {
     "data": {
      "text/html": [
       "<div>\n",
       "<style scoped>\n",
       "    .dataframe tbody tr th:only-of-type {\n",
       "        vertical-align: middle;\n",
       "    }\n",
       "\n",
       "    .dataframe tbody tr th {\n",
       "        vertical-align: top;\n",
       "    }\n",
       "\n",
       "    .dataframe thead th {\n",
       "        text-align: right;\n",
       "    }\n",
       "</style>\n",
       "<table border=\"1\" class=\"dataframe\">\n",
       "  <thead>\n",
       "    <tr style=\"text-align: right;\">\n",
       "      <th></th>\n",
       "      <th>date_operation</th>\n",
       "      <th>libelle</th>\n",
       "      <th>montant</th>\n",
       "      <th>solde_avt_ope</th>\n",
       "      <th>categ</th>\n",
       "    </tr>\n",
       "  </thead>\n",
       "  <tbody>\n",
       "    <tr>\n",
       "      <th>155</th>\n",
       "      <td>2023-07-06</td>\n",
       "      <td>PRELEVEMENT XX TELEPHONE XX XX</td>\n",
       "      <td>-36.48</td>\n",
       "      <td>3295.68</td>\n",
       "      <td>FACTURE TELEPHONE</td>\n",
       "    </tr>\n",
       "    <tr>\n",
       "      <th>156</th>\n",
       "      <td>2023-07-06</td>\n",
       "      <td>FORFAIT COMPTE SUPERBANK XX XX XX XX</td>\n",
       "      <td>-1.92</td>\n",
       "      <td>3259.20</td>\n",
       "      <td>COTISATION BANCAIRE</td>\n",
       "    </tr>\n",
       "    <tr>\n",
       "      <th>157</th>\n",
       "      <td>2023-07-07</td>\n",
       "      <td>CARTE XX XX XX XX XX</td>\n",
       "      <td>-29.20</td>\n",
       "      <td>3257.28</td>\n",
       "      <td>AUTRE</td>\n",
       "    </tr>\n",
       "    <tr>\n",
       "      <th>158</th>\n",
       "      <td>2023-07-10</td>\n",
       "      <td>CARTE XX XX LA CCNCF XX</td>\n",
       "      <td>-53.10</td>\n",
       "      <td>3228.08</td>\n",
       "      <td>TRANSPORT</td>\n",
       "    </tr>\n",
       "    <tr>\n",
       "      <th>159</th>\n",
       "      <td>2023-07-10</td>\n",
       "      <td>CARTE XX XX XX XX LA CCNCF XX</td>\n",
       "      <td>-1.53</td>\n",
       "      <td>3174.98</td>\n",
       "      <td>TRANSPORT</td>\n",
       "    </tr>\n",
       "    <tr>\n",
       "      <th>160</th>\n",
       "      <td>2023-07-10</td>\n",
       "      <td>CARTE XX XX XX XX XX</td>\n",
       "      <td>-9.52</td>\n",
       "      <td>3173.45</td>\n",
       "      <td>AUTRE</td>\n",
       "    </tr>\n",
       "    <tr>\n",
       "      <th>161</th>\n",
       "      <td>2023-07-10</td>\n",
       "      <td>CARTE XX XX XX XX LA CCNCF XX</td>\n",
       "      <td>-1.08</td>\n",
       "      <td>3163.93</td>\n",
       "      <td>TRANSPORT</td>\n",
       "    </tr>\n",
       "    <tr>\n",
       "      <th>162</th>\n",
       "      <td>2023-07-11</td>\n",
       "      <td>CARTE XX XX CHEZ LUC XX</td>\n",
       "      <td>-14.40</td>\n",
       "      <td>3162.85</td>\n",
       "      <td>RESTAURANT</td>\n",
       "    </tr>\n",
       "    <tr>\n",
       "      <th>163</th>\n",
       "      <td>2023-07-12</td>\n",
       "      <td>CARTE XX XX XX XX</td>\n",
       "      <td>-8.00</td>\n",
       "      <td>3148.45</td>\n",
       "      <td>AUTRE</td>\n",
       "    </tr>\n",
       "    <tr>\n",
       "      <th>164</th>\n",
       "      <td>2023-07-13</td>\n",
       "      <td>CARTE XX XX TOUPTIPRI XX</td>\n",
       "      <td>-9.88</td>\n",
       "      <td>3140.45</td>\n",
       "      <td>COURSES</td>\n",
       "    </tr>\n",
       "  </tbody>\n",
       "</table>\n",
       "</div>"
      ],
      "text/plain": [
       "    date_operation                               libelle  montant  \\\n",
       "155     2023-07-06        PRELEVEMENT XX TELEPHONE XX XX   -36.48   \n",
       "156     2023-07-06  FORFAIT COMPTE SUPERBANK XX XX XX XX    -1.92   \n",
       "157     2023-07-07                  CARTE XX XX XX XX XX   -29.20   \n",
       "158     2023-07-10               CARTE XX XX LA CCNCF XX   -53.10   \n",
       "159     2023-07-10         CARTE XX XX XX XX LA CCNCF XX    -1.53   \n",
       "160     2023-07-10                  CARTE XX XX XX XX XX    -9.52   \n",
       "161     2023-07-10         CARTE XX XX XX XX LA CCNCF XX    -1.08   \n",
       "162     2023-07-11               CARTE XX XX CHEZ LUC XX   -14.40   \n",
       "163     2023-07-12                     CARTE XX XX XX XX    -8.00   \n",
       "164     2023-07-13              CARTE XX XX TOUPTIPRI XX    -9.88   \n",
       "\n",
       "     solde_avt_ope                categ  \n",
       "155        3295.68    FACTURE TELEPHONE  \n",
       "156        3259.20  COTISATION BANCAIRE  \n",
       "157        3257.28                AUTRE  \n",
       "158        3228.08            TRANSPORT  \n",
       "159        3174.98            TRANSPORT  \n",
       "160        3173.45                AUTRE  \n",
       "161        3163.93            TRANSPORT  \n",
       "162        3162.85           RESTAURANT  \n",
       "163        3148.45                AUTRE  \n",
       "164        3140.45              COURSES  "
      ]
     },
     "execution_count": 2,
     "metadata": {},
     "output_type": "execute_result"
    }
   ],
   "source": [
    "data.loc[155, 'categ'] = 'FACTURE TELEPHONE'\n",
    "data.loc[156, 'categ'] = 'COTISATION BANCAIRE'\n",
    "data.iloc[155:165,:]"
   ]
  },
  {
   "cell_type": "code",
   "execution_count": 4,
   "id": "e21391cb",
   "metadata": {},
   "outputs": [
    {
     "data": {
      "text/plain": [
       "date_operation    datetime64[ns]\n",
       "libelle                   object\n",
       "montant                  float64\n",
       "solde_avt_ope            float64\n",
       "categ                     object\n",
       "dtype: object"
      ]
     },
     "execution_count": 4,
     "metadata": {},
     "output_type": "execute_result"
    }
   ],
   "source": [
    "data['date_operation'] = pd.to_datetime(data['date_operation'], errors='coerce')\n",
    "data.dtypes"
   ]
  },
  {
   "cell_type": "code",
   "execution_count": 4,
   "id": "cef0ee81",
   "metadata": {},
   "outputs": [
    {
     "data": {
      "text/html": [
       "<div>\n",
       "<style scoped>\n",
       "    .dataframe tbody tr th:only-of-type {\n",
       "        vertical-align: middle;\n",
       "    }\n",
       "\n",
       "    .dataframe tbody tr th {\n",
       "        vertical-align: top;\n",
       "    }\n",
       "\n",
       "    .dataframe thead th {\n",
       "        text-align: right;\n",
       "    }\n",
       "</style>\n",
       "<table border=\"1\" class=\"dataframe\">\n",
       "  <thead>\n",
       "    <tr style=\"text-align: right;\">\n",
       "      <th></th>\n",
       "      <th>Type de dépenses</th>\n",
       "      <th>Nombre d'opérations</th>\n",
       "      <th>Fréquence</th>\n",
       "    </tr>\n",
       "  </thead>\n",
       "  <tbody>\n",
       "    <tr>\n",
       "      <th>0</th>\n",
       "      <td>AUTRE</td>\n",
       "      <td>212</td>\n",
       "      <td>0.69</td>\n",
       "    </tr>\n",
       "    <tr>\n",
       "      <th>1</th>\n",
       "      <td>COURSES</td>\n",
       "      <td>39</td>\n",
       "      <td>0.13</td>\n",
       "    </tr>\n",
       "    <tr>\n",
       "      <th>2</th>\n",
       "      <td>TRANSPORT</td>\n",
       "      <td>21</td>\n",
       "      <td>0.07</td>\n",
       "    </tr>\n",
       "    <tr>\n",
       "      <th>3</th>\n",
       "      <td>RESTAURANT</td>\n",
       "      <td>16</td>\n",
       "      <td>0.05</td>\n",
       "    </tr>\n",
       "    <tr>\n",
       "      <th>4</th>\n",
       "      <td>FACTURE TELEPHONE</td>\n",
       "      <td>7</td>\n",
       "      <td>0.02</td>\n",
       "    </tr>\n",
       "    <tr>\n",
       "      <th>5</th>\n",
       "      <td>COTISATION BANCAIRE</td>\n",
       "      <td>7</td>\n",
       "      <td>0.02</td>\n",
       "    </tr>\n",
       "    <tr>\n",
       "      <th>6</th>\n",
       "      <td>LOYER</td>\n",
       "      <td>6</td>\n",
       "      <td>0.02</td>\n",
       "    </tr>\n",
       "  </tbody>\n",
       "</table>\n",
       "</div>"
      ],
      "text/plain": [
       "      Type de dépenses  Nombre d'opérations  Fréquence\n",
       "0                AUTRE                  212       0.69\n",
       "1              COURSES                   39       0.13\n",
       "2            TRANSPORT                   21       0.07\n",
       "3           RESTAURANT                   16       0.05\n",
       "4    FACTURE TELEPHONE                    7       0.02\n",
       "5  COTISATION BANCAIRE                    7       0.02\n",
       "6                LOYER                    6       0.02"
      ]
     },
     "execution_count": 4,
     "metadata": {},
     "output_type": "execute_result"
    }
   ],
   "source": [
    "categorie = data.categ.value_counts().reset_index()\n",
    "categorie.rename(columns={'index':'Type de dépenses'}, inplace=True)\n",
    "categorie.rename(columns={'categ':\"Nombre d'opérations\"}, inplace=True)\n",
    "categorie['Fréquence'] = (categorie[\"Nombre d'opérations\"])/((categorie[\"Nombre d'opérations\"]).sum())\n",
    "categorie['Fréquence']=round((categorie['Fréquence']),2)\n",
    "\n",
    "categorie"
   ]
  },
  {
   "cell_type": "code",
   "execution_count": 5,
   "id": "8db93abd",
   "metadata": {},
   "outputs": [],
   "source": [
    "#x = categorie['Type de dépenses']\n",
    "#categorie['Moyenne']=data.loc[data['categ']==x,'montant'].mean().reset_index()\n",
    "#categorie"
   ]
  },
  {
   "cell_type": "code",
   "execution_count": 6,
   "id": "97abe741",
   "metadata": {},
   "outputs": [
    {
     "data": {
      "text/plain": [
       "'69.00%'"
      ]
     },
     "execution_count": 6,
     "metadata": {},
     "output_type": "execute_result"
    }
   ],
   "source": [
    "\"{:.2%}\".format(0.69)"
   ]
  },
  {
   "cell_type": "code",
   "execution_count": 7,
   "id": "828143f4",
   "metadata": {},
   "outputs": [
    {
     "data": {
      "text/plain": [
       "AUTRE                  0.688312\n",
       "COURSES                0.126623\n",
       "TRANSPORT              0.068182\n",
       "RESTAURANT             0.051948\n",
       "FACTURE TELEPHONE      0.022727\n",
       "COTISATION BANCAIRE    0.022727\n",
       "LOYER                  0.019481\n",
       "Name: categ, dtype: float64"
      ]
     },
     "execution_count": 7,
     "metadata": {},
     "output_type": "execute_result"
    }
   ],
   "source": [
    "# normalize=True --> donne la valeur en fréquence\n",
    "data[\"categ\"].value_counts(normalize=True)"
   ]
  },
  {
   "cell_type": "code",
   "execution_count": 5,
   "id": "9f24c567",
   "metadata": {},
   "outputs": [
    {
     "data": {
      "image/png": "[encoded data removed]",
      "text/plain": [
       "<Figure size 432x288 with 1 Axes>"
      ]
     },
     "metadata": {},
     "output_type": "display_data"
    }
   ],
   "source": [
    "import matplotlib.pyplot as plt\n",
    "\n",
    "# Diagramme en secteurs\n",
    "data[\"categ\"].value_counts(normalize=True).plot(kind='pie')\n",
    "# Cette ligne assure que le pie chart est un cercle plutôt qu'une éllipse\n",
    "plt.axis('equal') \n",
    "plt.show() # Affiche le graphique"
   ]
  },
  {
   "cell_type": "code",
   "execution_count": 9,
   "id": "b001447c",
   "metadata": {},
   "outputs": [
    {
     "data": {
      "image/png": "[encoded data removed]",
      "text/plain": [
       "<Figure size 432x288 with 1 Axes>"
      ]
     },
     "metadata": {
      "needs_background": "light"
     },
     "output_type": "display_data"
    }
   ],
   "source": [
    "# Diagramme en tuyaux d'orgues\n",
    "data[\"categ\"].value_counts(normalize=True).plot(kind='bar')\n",
    "plt.show()"
   ]
  },
  {
   "cell_type": "code",
   "execution_count": 6,
   "id": "6bc8e807",
   "metadata": {},
   "outputs": [],
   "source": [
    "data['quart_mois'] = [int((jour-1)*4/31)+1 for jour in data[\"date_operation\"].dt.day]"
   ]
  },
  {
   "cell_type": "code",
   "execution_count": 7,
   "id": "31142afc",
   "metadata": {},
   "outputs": [
    {
     "data": {
      "image/png": "[encoded data removed]",
      "text/plain": [
       "<Figure size 432x288 with 1 Axes>"
      ]
     },
     "metadata": {
      "needs_background": "light"
     },
     "output_type": "display_data"
    }
   ],
   "source": [
    "# Diagramme en bâtons qui montre la proportion des dépenses dans le mois (divisé en 4 parties)\n",
    "data[\"quart_mois\"].value_counts(normalize=True).plot(kind='bar',width=0.1)\n",
    "plt.show()"
   ]
  },
  {
   "cell_type": "code",
   "execution_count": 12,
   "id": "4002431e",
   "metadata": {},
   "outputs": [
    {
     "data": {
      "image/png": "[encoded data removed]",
      "text/plain": [
       "<Figure size 432x288 with 1 Axes>"
      ]
     },
     "metadata": {
      "needs_background": "light"
     },
     "output_type": "display_data"
    },
    {
     "data": {
      "image/png": "[encoded data removed]",
      "text/plain": [
       "<Figure size 432x288 with 1 Axes>"
      ]
     },
     "metadata": {
      "needs_background": "light"
     },
     "output_type": "display_data"
    }
   ],
   "source": [
    "# Histogramme\n",
    "data[\"montant\"].hist(density=True)\n",
    "plt.show()\n",
    "\n",
    "# Histogramme plus beau\n",
    "data[data.montant.abs() < 100][\"montant\"].hist(density=True,bins=20)\n",
    "plt.show()"
   ]
  },
  {
   "cell_type": "code",
   "execution_count": 16,
   "id": "80de79d5",
   "metadata": {},
   "outputs": [],
   "source": [
    "effectifs = data[\"quart_mois\"].value_counts()\n",
    "modalites = effectifs.index # l'index de effectifs contient les modalités\n",
    "\n",
    "tab = pd.DataFrame(modalites, columns = [\"quart_mois\"]) # création du tableau à partir des modalités\n",
    "tab[\"n\"] = effectifs.values\n",
    "tab[\"f\"] = tab[\"n\"] / len(data) # len(data) renvoie la taille de l'échantillon"
   ]
  },
  {
   "cell_type": "code",
   "execution_count": 14,
   "id": "a22dd784",
   "metadata": {},
   "outputs": [],
   "source": [
    "tab = tab.sort_values(\"quart_mois\") # tri des valeurs de la variable X (croissant)\n",
    "tab[\"F\"] = tab[\"f\"].cumsum() # cumsum calcule la somme cumulée"
   ]
  },
  {
   "cell_type": "code",
   "execution_count": 15,
   "id": "4ee9d4ad",
   "metadata": {},
   "outputs": [
    {
     "data": {
      "text/plain": [
       "0   -1.6\n",
       "Name: montant, dtype: float64"
      ]
     },
     "execution_count": 15,
     "metadata": {},
     "output_type": "execute_result"
    }
   ],
   "source": [
    "# Découvrez les mesures de tendance centrale\n",
    "data['montant'].mode()"
   ]
  },
  {
   "cell_type": "code",
   "execution_count": 7,
   "id": "fce4588b",
   "metadata": {},
   "outputs": [
    {
     "data": {
      "text/plain": [
       "2.8725649350649407"
      ]
     },
     "execution_count": 7,
     "metadata": {},
     "output_type": "execute_result"
    }
   ],
   "source": [
    "data['montant'].mean()"
   ]
  },
  {
   "cell_type": "code",
   "execution_count": 8,
   "id": "484f7822",
   "metadata": {},
   "outputs": [
    {
     "data": {
      "text/plain": [
       "-9.6"
      ]
     },
     "execution_count": 8,
     "metadata": {},
     "output_type": "execute_result"
    }
   ],
   "source": [
    "data['montant'].median()"
   ]
  },
  {
   "cell_type": "code",
   "execution_count": 19,
   "id": "f8b3927f",
   "metadata": {},
   "outputs": [
    {
     "data": {
      "text/html": [
       "<div>\n",
       "<style scoped>\n",
       "    .dataframe tbody tr th:only-of-type {\n",
       "        vertical-align: middle;\n",
       "    }\n",
       "\n",
       "    .dataframe tbody tr th {\n",
       "        vertical-align: top;\n",
       "    }\n",
       "\n",
       "    .dataframe thead th {\n",
       "        text-align: right;\n",
       "    }\n",
       "</style>\n",
       "<table border=\"1\" class=\"dataframe\">\n",
       "  <thead>\n",
       "    <tr style=\"text-align: right;\">\n",
       "      <th></th>\n",
       "      <th>date_operation</th>\n",
       "      <th>libelle</th>\n",
       "      <th>montant</th>\n",
       "      <th>solde_avt_ope</th>\n",
       "      <th>categ</th>\n",
       "    </tr>\n",
       "  </thead>\n",
       "  <tbody>\n",
       "    <tr>\n",
       "      <th>0</th>\n",
       "      <td>2023-03-31</td>\n",
       "      <td>DON XX XX XX XX XX XX XX</td>\n",
       "      <td>-1.44</td>\n",
       "      <td>1515.25</td>\n",
       "      <td>AUTRE</td>\n",
       "    </tr>\n",
       "    <tr>\n",
       "      <th>1</th>\n",
       "      <td>2023-04-03</td>\n",
       "      <td>CARTE XX XX RAPT XX</td>\n",
       "      <td>-24.00</td>\n",
       "      <td>1513.81</td>\n",
       "      <td>TRANSPORT</td>\n",
       "    </tr>\n",
       "    <tr>\n",
       "      <th>2</th>\n",
       "      <td>2023-04-03</td>\n",
       "      <td>CARTE XX XX RAPT XX</td>\n",
       "      <td>-73.00</td>\n",
       "      <td>1489.81</td>\n",
       "      <td>TRANSPORT</td>\n",
       "    </tr>\n",
       "    <tr>\n",
       "      <th>3</th>\n",
       "      <td>2023-04-03</td>\n",
       "      <td>VIREMENT XX XX XX XX XX XX XX XX XX XX XX XX</td>\n",
       "      <td>676.00</td>\n",
       "      <td>1416.81</td>\n",
       "      <td>AUTRE</td>\n",
       "    </tr>\n",
       "    <tr>\n",
       "      <th>4</th>\n",
       "      <td>2023-04-03</td>\n",
       "      <td>VIREMENT XX XX XX XX XX XX</td>\n",
       "      <td>4.80</td>\n",
       "      <td>2092.81</td>\n",
       "      <td>AUTRE</td>\n",
       "    </tr>\n",
       "  </tbody>\n",
       "</table>\n",
       "</div>"
      ],
      "text/plain": [
       "  date_operation                                       libelle  montant  \\\n",
       "0     2023-03-31                      DON XX XX XX XX XX XX XX    -1.44   \n",
       "1     2023-04-03                           CARTE XX XX RAPT XX   -24.00   \n",
       "2     2023-04-03                           CARTE XX XX RAPT XX   -73.00   \n",
       "3     2023-04-03  VIREMENT XX XX XX XX XX XX XX XX XX XX XX XX   676.00   \n",
       "4     2023-04-03                    VIREMENT XX XX XX XX XX XX     4.80   \n",
       "\n",
       "   solde_avt_ope      categ  \n",
       "0        1515.25      AUTRE  \n",
       "1        1513.81  TRANSPORT  \n",
       "2        1489.81  TRANSPORT  \n",
       "3        1416.81      AUTRE  \n",
       "4        2092.81      AUTRE  "
      ]
     },
     "execution_count": 19,
     "metadata": {},
     "output_type": "execute_result"
    }
   ],
   "source": [
    "data.head()"
   ]
  },
  {
   "cell_type": "code",
   "execution_count": 17,
   "id": "ae484742",
   "metadata": {},
   "outputs": [
    {
     "data": {
      "text/html": [
       "<div>\n",
       "<style scoped>\n",
       "    .dataframe tbody tr th:only-of-type {\n",
       "        vertical-align: middle;\n",
       "    }\n",
       "\n",
       "    .dataframe tbody tr th {\n",
       "        vertical-align: top;\n",
       "    }\n",
       "\n",
       "    .dataframe thead th {\n",
       "        text-align: right;\n",
       "    }\n",
       "</style>\n",
       "<table border=\"1\" class=\"dataframe\">\n",
       "  <thead>\n",
       "    <tr style=\"text-align: right;\">\n",
       "      <th>categ</th>\n",
       "      <th>AUTRE</th>\n",
       "      <th>COTISATION BANCAIRE</th>\n",
       "      <th>COURSES</th>\n",
       "      <th>FACTURE TELEPHONE</th>\n",
       "      <th>LOYER</th>\n",
       "      <th>RESTAURANT</th>\n",
       "      <th>TRANSPORT</th>\n",
       "    </tr>\n",
       "  </thead>\n",
       "  <tbody>\n",
       "    <tr>\n",
       "      <th>mean</th>\n",
       "      <td>23.433208</td>\n",
       "      <td>-1.885714</td>\n",
       "      <td>-16.341282</td>\n",
       "      <td>-12.045714</td>\n",
       "      <td>-345.0</td>\n",
       "      <td>-10.3325</td>\n",
       "      <td>-52.997143</td>\n",
       "    </tr>\n",
       "    <tr>\n",
       "      <th>median</th>\n",
       "      <td>-8.310000</td>\n",
       "      <td>-1.920000</td>\n",
       "      <td>-12.240000</td>\n",
       "      <td>-7.020000</td>\n",
       "      <td>-345.0</td>\n",
       "      <td>-10.1000</td>\n",
       "      <td>-53.100000</td>\n",
       "    </tr>\n",
       "  </tbody>\n",
       "</table>\n",
       "</div>"
      ],
      "text/plain": [
       "categ       AUTRE  COTISATION BANCAIRE    COURSES  FACTURE TELEPHONE  LOYER  \\\n",
       "mean    23.433208            -1.885714 -16.341282         -12.045714 -345.0   \n",
       "median  -8.310000            -1.920000 -12.240000          -7.020000 -345.0   \n",
       "\n",
       "categ   RESTAURANT  TRANSPORT  \n",
       "mean      -10.3325 -52.997143  \n",
       "median    -10.1000 -53.100000  "
      ]
     },
     "execution_count": 17,
     "metadata": {},
     "output_type": "execute_result"
    }
   ],
   "source": [
    "data.pivot_table(columns = 'categ', values = 'montant', aggfunc = ('median','mean'))"
   ]
  },
  {
   "cell_type": "code",
   "execution_count": 27,
   "id": "0406b74a",
   "metadata": {},
   "outputs": [
    {
     "data": {
      "text/plain": [
       "-13.2"
      ]
     },
     "execution_count": 27,
     "metadata": {},
     "output_type": "execute_result"
    }
   ],
   "source": [
    "data.loc[data['categ']=='COTISATION BANCAIRE','montant'].sum()"
   ]
  },
  {
   "cell_type": "code",
   "execution_count": 67,
   "id": "dd75f1d6",
   "metadata": {},
   "outputs": [
    {
     "name": "stdout",
     "output_type": "stream",
     "text": [
      "--------------------\n",
      "AUTRE\n",
      "moy:\n",
      " 23.433207547169832\n",
      "med:\n",
      " -8.31\n",
      "mod:\n",
      " 0   -1.6\n",
      "Name: montant, dtype: float64\n"
     ]
    },
    {
     "data": {
      "image/png": "[encoded data removed]",
      "text/plain": [
       "<Figure size 432x288 with 1 Axes>"
      ]
     },
     "metadata": {
      "needs_background": "light"
     },
     "output_type": "display_data"
    },
    {
     "name": "stdout",
     "output_type": "stream",
     "text": [
      "--------------------\n",
      "TRANSPORT\n",
      "moy:\n",
      " -52.99714285714286\n",
      "med:\n",
      " -53.1\n",
      "mod:\n",
      " 0   -73.0\n",
      "Name: montant, dtype: float64\n"
     ]
    },
    {
     "data": {
      "image/png": "[encoded data removed]",
      "text/plain": [
       "<Figure size 432x288 with 1 Axes>"
      ]
     },
     "metadata": {
      "needs_background": "light"
     },
     "output_type": "display_data"
    },
    {
     "name": "stdout",
     "output_type": "stream",
     "text": [
      "--------------------\n",
      "FACTURE TELEPHONE\n",
      "moy:\n",
      " -12.045714285714283\n",
      "med:\n",
      " -7.02\n",
      "mod:\n",
      " 0   -7.02\n",
      "1   -6.38\n",
      "Name: montant, dtype: float64\n"
     ]
    },
    {
     "data": {
      "image/png": "[encoded data removed]",
      "text/plain": [
       "<Figure size 432x288 with 1 Axes>"
      ]
     },
     "metadata": {
      "needs_background": "light"
     },
     "output_type": "display_data"
    },
    {
     "name": "stdout",
     "output_type": "stream",
     "text": [
      "--------------------\n",
      "COURSES\n",
      "moy:\n",
      " -16.341282051282054\n",
      "med:\n",
      " -12.24\n",
      "mod:\n",
      " 0    -60.16\n",
      "1    -42.45\n",
      "2    -42.42\n",
      "3    -33.55\n",
      "4    -32.67\n",
      "5    -29.18\n",
      "6    -28.11\n",
      "7    -27.68\n",
      "8    -26.58\n",
      "9    -26.19\n",
      "10   -23.43\n",
      "11   -22.59\n",
      "12   -21.73\n",
      "13   -20.59\n",
      "14   -18.45\n",
      "15   -17.16\n",
      "16   -13.59\n",
      "17   -12.96\n",
      "18   -12.49\n",
      "19   -12.24\n",
      "20   -10.91\n",
      "21   -10.36\n",
      "22    -9.88\n",
      "23    -9.60\n",
      "24    -9.31\n",
      "25    -9.11\n",
      "26    -6.89\n",
      "27    -6.80\n",
      "28    -6.60\n",
      "29    -5.88\n",
      "30    -4.63\n",
      "31    -4.41\n",
      "32    -4.39\n",
      "33    -3.48\n",
      "34    -2.93\n",
      "35    -2.56\n",
      "36    -2.51\n",
      "37    -1.90\n",
      "38    -0.94\n",
      "Name: montant, dtype: float64\n"
     ]
    },
    {
     "data": {
      "image/png": "[encoded data removed]",
      "text/plain": [
       "<Figure size 432x288 with 1 Axes>"
      ]
     },
     "metadata": {
      "needs_background": "light"
     },
     "output_type": "display_data"
    },
    {
     "name": "stdout",
     "output_type": "stream",
     "text": [
      "--------------------\n",
      "COTISATION BANCAIRE\n",
      "moy:\n",
      " -1.8857142857142857\n",
      "med:\n",
      " -1.92\n",
      "mod:\n",
      " 0   -1.92\n",
      "Name: montant, dtype: float64\n"
     ]
    },
    {
     "data": {
      "image/png": "[encoded data removed]",
      "text/plain": [
       "<Figure size 432x288 with 1 Axes>"
      ]
     },
     "metadata": {
      "needs_background": "light"
     },
     "output_type": "display_data"
    },
    {
     "name": "stdout",
     "output_type": "stream",
     "text": [
      "--------------------\n",
      "RESTAURANT\n",
      "moy:\n",
      " -10.332500000000001\n",
      "med:\n",
      " -10.1\n",
      "mod:\n",
      " 0   -9.2\n",
      "Name: montant, dtype: float64\n"
     ]
    },
    {
     "data": {
      "image/png": "[encoded data removed]",
      "text/plain": [
       "<Figure size 432x288 with 1 Axes>"
      ]
     },
     "metadata": {
      "needs_background": "light"
     },
     "output_type": "display_data"
    },
    {
     "name": "stdout",
     "output_type": "stream",
     "text": [
      "--------------------\n",
      "LOYER\n",
      "moy:\n",
      " -345.0\n",
      "med:\n",
      " -345.0\n",
      "mod:\n",
      " 0   -345.0\n",
      "Name: montant, dtype: float64\n"
     ]
    },
    {
     "data": {
      "image/png": "[encoded data removed]",
      "text/plain": [
       "<Figure size 432x288 with 1 Axes>"
      ]
     },
     "metadata": {
      "needs_background": "light"
     },
     "output_type": "display_data"
    }
   ],
   "source": [
    "for cat in data[\"categ\"].unique():\n",
    "    subset = data.loc[data.categ == cat, :] # Création du sous-échantillon\n",
    "    print(\"-\"*20)\n",
    "    print(cat)\n",
    "    print(\"moy:\\n\",subset['montant'].mean())\n",
    "    print(\"med:\\n\",subset['montant'].median())\n",
    "    print(\"mod:\\n\",subset['montant'].mode())\n",
    "    subset[\"montant\"].hist() # Crée l'histogramme\n",
    "    plt.show() # Affiche l'histogramme"
   ]
  },
  {
   "cell_type": "code",
   "execution_count": 6,
   "id": "04202991",
   "metadata": {},
   "outputs": [
    {
     "name": "stdout",
     "output_type": "stream",
     "text": [
      "AUTRE\n",
      "212 transactions\n",
      "moyenne :  23.433207547169832\n",
      "médiane :  -8.31\n",
      "mode :  0   -1.6\n",
      "Name: montant, dtype: float64\n",
      "écart-type :  201.47780984467025\n",
      "variance :  40593.3078598051\n",
      "Skewness empirique :  3.1215325222336423\n",
      "Kurtosis empirique :  12.716537970826295\n"
     ]
    },
    {
     "data": {
      "image/png": "[encoded data removed]",
      "text/plain": [
       "<Figure size 432x288 with 1 Axes>"
      ]
     },
     "metadata": {
      "needs_background": "light"
     },
     "output_type": "display_data"
    },
    {
     "data": {
      "image/png": "[encoded data removed]",
      "text/plain": [
       "<Figure size 432x288 with 1 Axes>"
      ]
     },
     "metadata": {
      "needs_background": "light"
     },
     "output_type": "display_data"
    },
    {
     "name": "stdout",
     "output_type": "stream",
     "text": [
      "TRANSPORT\n",
      "21 transactions\n",
      "moyenne :  -52.99714285714286\n",
      "médiane :  -53.1\n",
      "mode :  0   -73.0\n",
      "Name: montant, dtype: float64\n",
      "écart-type :  48.11722884194987\n",
      "variance :  2315.267711428572\n",
      "Skewness empirique :  -1.248265076217821\n",
      "Kurtosis empirique :  2.1922705326917495\n"
     ]
    },
    {
     "data": {
      "image/png": "[encoded data removed]",
      "text/plain": [
       "<Figure size 432x288 with 1 Axes>"
      ]
     },
     "metadata": {
      "needs_background": "light"
     },
     "output_type": "display_data"
    },
    {
     "data": {
      "image/png": "[encoded data removed]",
      "text/plain": [
       "<Figure size 432x288 with 1 Axes>"
      ]
     },
     "metadata": {
      "needs_background": "light"
     },
     "output_type": "display_data"
    },
    {
     "name": "stdout",
     "output_type": "stream",
     "text": [
      "FACTURE TELEPHONE\n",
      "7 transactions\n",
      "moyenne :  -12.045714285714283\n",
      "médiane :  -7.02\n",
      "mode :  0   -7.02\n",
      "1   -6.38\n",
      "Name: montant, dtype: float64\n",
      "écart-type :  11.068975949537\n",
      "variance :  122.52222857142853\n",
      "Skewness empirique :  -2.3876514564281526\n",
      "Kurtosis empirique :  5.798563367885492\n"
     ]
    },
    {
     "data": {
      "image/png": "[encoded data removed]",
      "text/plain": [
       "<Figure size 432x288 with 1 Axes>"
      ]
     },
     "metadata": {
      "needs_background": "light"
     },
     "output_type": "display_data"
    },
    {
     "data": {
      "image/png": "[encoded data removed]",
      "text/plain": [
       "<Figure size 432x288 with 1 Axes>"
      ]
     },
     "metadata": {
      "needs_background": "light"
     },
     "output_type": "display_data"
    },
    {
     "name": "stdout",
     "output_type": "stream",
     "text": [
      "COURSES\n",
      "39 transactions\n",
      "moyenne :  -16.341282051282054\n",
      "médiane :  -12.24\n",
      "mode :  0    -60.16\n",
      "1    -42.45\n",
      "2    -42.42\n",
      "3    -33.55\n",
      "4    -32.67\n",
      "5    -29.18\n",
      "6    -28.11\n",
      "7    -27.68\n",
      "8    -26.58\n",
      "9    -26.19\n",
      "10   -23.43\n",
      "11   -22.59\n",
      "12   -21.73\n",
      "13   -20.59\n",
      "14   -18.45\n",
      "15   -17.16\n",
      "16   -13.59\n",
      "17   -12.96\n",
      "18   -12.49\n",
      "19   -12.24\n",
      "20   -10.91\n",
      "21   -10.36\n",
      "22    -9.88\n",
      "23    -9.60\n",
      "24    -9.31\n",
      "25    -9.11\n",
      "26    -6.89\n",
      "27    -6.80\n",
      "28    -6.60\n",
      "29    -5.88\n",
      "30    -4.63\n",
      "31    -4.41\n",
      "32    -4.39\n",
      "33    -3.48\n",
      "34    -2.93\n",
      "35    -2.56\n",
      "36    -2.51\n",
      "37    -1.90\n",
      "38    -0.94\n",
      "Name: montant, dtype: float64\n",
      "écart-type :  13.479017647222777\n",
      "variance :  181.68391673414305\n",
      "Skewness empirique :  -1.2467488306456977\n",
      "Kurtosis empirique :  1.604730494087499\n"
     ]
    },
    {
     "data": {
      "image/png": "[encoded data removed]",
      "text/plain": [
       "<Figure size 432x288 with 1 Axes>"
      ]
     },
     "metadata": {
      "needs_background": "light"
     },
     "output_type": "display_data"
    },
    {
     "data": {
      "image/png": "[encoded data removed]",
      "text/plain": [
       "<Figure size 432x288 with 1 Axes>"
      ]
     },
     "metadata": {
      "needs_background": "light"
     },
     "output_type": "display_data"
    },
    {
     "name": "stdout",
     "output_type": "stream",
     "text": [
      "COTISATION BANCAIRE\n",
      "7 transactions\n",
      "moyenne :  -1.8857142857142857\n",
      "médiane :  -1.92\n",
      "mode :  0   -1.92\n",
      "Name: montant, dtype: float64\n",
      "écart-type :  0.04276179870598782\n",
      "variance :  0.0018285714285714218\n",
      "Skewness empirique :  0.37416573867739106\n",
      "Kurtosis empirique :  -2.800000000000003\n"
     ]
    },
    {
     "data": {
      "image/png": "[encoded data removed]",
      "text/plain": [
       "<Figure size 432x288 with 1 Axes>"
      ]
     },
     "metadata": {
      "needs_background": "light"
     },
     "output_type": "display_data"
    },
    {
     "data": {
      "image/png": "[encoded data removed]",
      "text/plain": [
       "<Figure size 432x288 with 1 Axes>"
      ]
     },
     "metadata": {
      "needs_background": "light"
     },
     "output_type": "display_data"
    },
    {
     "name": "stdout",
     "output_type": "stream",
     "text": [
      "RESTAURANT\n",
      "16 transactions\n",
      "moyenne :  -10.332500000000001\n",
      "médiane :  -10.1\n",
      "mode :  0   -9.2\n",
      "Name: montant, dtype: float64\n",
      "écart-type :  1.7445362325462512\n",
      "variance :  3.0434066666666677\n",
      "Skewness empirique :  -0.8883503487158837\n",
      "Kurtosis empirique :  0.5988855591691937\n"
     ]
    },
    {
     "data": {
      "image/png": "[encoded data removed]",
      "text/plain": [
       "<Figure size 432x288 with 1 Axes>"
      ]
     },
     "metadata": {
      "needs_background": "light"
     },
     "output_type": "display_data"
    },
    {
     "data": {
      "image/png": "[encoded data removed]",
      "text/plain": [
       "<Figure size 432x288 with 1 Axes>"
      ]
     },
     "metadata": {
      "needs_background": "light"
     },
     "output_type": "display_data"
    },
    {
     "name": "stdout",
     "output_type": "stream",
     "text": [
      "LOYER\n",
      "6 transactions\n",
      "moyenne :  -345.0\n",
      "médiane :  -345.0\n",
      "mode :  0   -345.0\n",
      "Name: montant, dtype: float64\n",
      "écart-type :  0.0\n",
      "variance :  0.0\n",
      "Skewness empirique :  0\n",
      "Kurtosis empirique :  0\n"
     ]
    },
    {
     "data": {
      "image/png": "[encoded data removed]",
      "text/plain": [
       "<Figure size 432x288 with 1 Axes>"
      ]
     },
     "metadata": {
      "needs_background": "light"
     },
     "output_type": "display_data"
    },
    {
     "data": {
      "image/png": "[encoded data removed]",
      "text/plain": [
       "<Figure size 432x288 with 1 Axes>"
      ]
     },
     "metadata": {
      "needs_background": "light"
     },
     "output_type": "display_data"
    }
   ],
   "source": [
    "# pour la boucle, on créé sa liste : data.categ.unique()\n",
    "for categg in data.categ.unique():\n",
    "    liste_montant = data.loc[data['categ']==categg,:]\n",
    "    print(categg)\n",
    "    print(len(liste_montant['montant']),'transactions')\n",
    "    print('moyenne : ', liste_montant['montant'].mean())\n",
    "    print('médiane : ', liste_montant['montant'].median())\n",
    "    print('mode : ', liste_montant['montant'].mode())\n",
    "    print(\"écart-type : \", liste_montant['montant'].std())\n",
    "    print(\"variance : \", liste_montant['montant'].var())\n",
    "    print(\"Skewness empirique : \", liste_montant['montant'].skew())\n",
    "    print(\"Kurtosis empirique : \", liste_montant['montant'].kurtosis())\n",
    "    liste_montant['montant'].hist() # Crée l'histogramme\n",
    "    plt.show() # Affiche l'histogramme\n",
    "    liste_montant.boxplot(column='montant', vert=False)\n",
    "    plt.show()"
   ]
  },
  {
   "cell_type": "code",
   "execution_count": 85,
   "id": "935c96e2",
   "metadata": {},
   "outputs": [
    {
     "data": {
      "text/plain": [
       "31007.638040630973"
      ]
     },
     "execution_count": 85,
     "metadata": {},
     "output_type": "execute_result"
    }
   ],
   "source": [
    "# variance empirique\n",
    "data['montant'].var()"
   ]
  },
  {
   "cell_type": "code",
   "execution_count": 86,
   "id": "6dc48ff7",
   "metadata": {},
   "outputs": [
    {
     "data": {
      "text/plain": [
       "30906.963891148403"
      ]
     },
     "execution_count": 86,
     "metadata": {},
     "output_type": "execute_result"
    }
   ],
   "source": [
    "# variance empirique sans biais\n",
    "data['montant'].var(ddof=0)"
   ]
  },
  {
   "cell_type": "code",
   "execution_count": 88,
   "id": "370086fe",
   "metadata": {},
   "outputs": [
    {
     "data": {
      "text/plain": [
       "2.8725649350649407"
      ]
     },
     "execution_count": 88,
     "metadata": {},
     "output_type": "execute_result"
    }
   ],
   "source": [
    "data['montant'].mean()"
   ]
  },
  {
   "cell_type": "code",
   "execution_count": 20,
   "id": "217a6768",
   "metadata": {},
   "outputs": [
    {
     "data": {
      "text/plain": [
       "176.08985785851203"
      ]
     },
     "execution_count": 20,
     "metadata": {},
     "output_type": "execute_result"
    }
   ],
   "source": [
    "# écart type\n",
    "data['montant'].std()"
   ]
  },
  {
   "cell_type": "code",
   "execution_count": 93,
   "id": "04391156",
   "metadata": {},
   "outputs": [
    {
     "data": {
      "text/plain": [
       "61.30056651079017"
      ]
     },
     "execution_count": 93,
     "metadata": {},
     "output_type": "execute_result"
    }
   ],
   "source": [
    "(data['montant'].std())/(data['montant'].mean())"
   ]
  },
  {
   "cell_type": "code",
   "execution_count": 94,
   "id": "279ddfe7",
   "metadata": {},
   "outputs": [
    {
     "data": {
      "image/png": "[encoded data removed]",
      "text/plain": [
       "<Figure size 432x288 with 1 Axes>"
      ]
     },
     "metadata": {
      "needs_background": "light"
     },
     "output_type": "display_data"
    }
   ],
   "source": [
    "# boite à moustaches\n",
    "data.boxplot(column=\"montant\", vert=False)\n",
    "plt.show()"
   ]
  },
  {
   "cell_type": "code",
   "execution_count": 19,
   "id": "a3f8c705",
   "metadata": {},
   "outputs": [
    {
     "data": {
      "text/plain": [
       "3.3618450105098843"
      ]
     },
     "execution_count": 19,
     "metadata": {},
     "output_type": "execute_result"
    }
   ],
   "source": [
    "# Le Skewness empirique\n",
    "# γ1=μ3/s3 avec μ3=1n∑ni=1(xi−x¯¯¯)3\n",
    "# Si γ1=0 alors la distribution est symétrique. --> Mode=Med=x¯¯¯ \n",
    "# Si γ1>0 alors la distribution est étalée à droite. --> Mode<Med<x¯¯¯ \n",
    "# Si γ1<0 alors la distribution est étalée à gauche. --> Mode>Med>x¯¯¯\n",
    "data['montant'].skew()"
   ]
  },
  {
   "cell_type": "code",
   "execution_count": 21,
   "id": "7d2e3a19",
   "metadata": {},
   "outputs": [
    {
     "data": {
      "text/plain": [
       "17.2719048282677"
      ]
     },
     "execution_count": 21,
     "metadata": {},
     "output_type": "execute_result"
    }
   ],
   "source": [
    "# Le Kurtosis empirique\n",
    "# on compare l'aplatissement par rapport à la distribution la plus célèbre, appelée distribution normale\n",
    "# γ2=μ4/s4−3\n",
    "#  μ4=1n∑ni=1(xi−x¯¯¯)4\n",
    "# Si γ2=0 , alors la distribution a le même aplatissement que la distribution normale.\n",
    "# Si γ2>0 , alors elle est moins aplatie que la distribution normale : les observations sont plus concentrées\n",
    "# Si γ2<0 , alors les observations sont moins concentrées : la distribution est plus aplatie.\n",
    "data['montant'].kurtosis()"
   ]
  },
  {
   "cell_type": "code",
   "execution_count": 14,
   "id": "5cf35a81",
   "metadata": {},
   "outputs": [
    {
     "data": {
      "image/png": "[encoded data removed]",
      "text/plain": [
       "<Figure size 432x288 with 1 Axes>"
      ]
     },
     "metadata": {
      "needs_background": "light"
     },
     "output_type": "display_data"
    }
   ],
   "source": [
    "# Courbe de Lorenz\n",
    "# Mesure la concentration des valeurs d'un échantillon \n",
    "# Pour notre exemple, donne un indicateur de la disparités des dépenses\n",
    "# si toutes les dépenses ont la même valeurs la courbe sera proche de la bissectrice : droite f(x)=x\n",
    "# si il y a de grosses disparités elle ressemblera plus à une exponentielle\n",
    "\n",
    "depenses = data[data['montant'] < 0]\n",
    "dep = -depenses['montant'].values\n",
    "n = len(dep)\n",
    "lorenz = np.cumsum(np.sort(dep)) / dep.sum()\n",
    "lorenz = np.append([0],lorenz) # La courbe de Lorenz commence à 0, on assigne une valeur de départ à la liste\n",
    "\n",
    "xaxis = np.linspace(0-1/n,1+1/n,n+1) #Il y a un segment de taille n pour chaque individu, plus 1 segment supplémentaire d'ordonnée 0. Le premier segment commence à 0-1/n, et le dernier termine à 1+1/n.\n",
    "plt.plot(xaxis,lorenz,drawstyle='steps-post')\n",
    "plt.show()"
   ]
  },
  {
   "cell_type": "code",
   "execution_count": 29,
   "id": "a26669c3",
   "metadata": {},
   "outputs": [
    {
     "data": {
      "text/plain": [
       "0.7204386813739185"
      ]
     },
     "execution_count": 29,
     "metadata": {},
     "output_type": "execute_result"
    }
   ],
   "source": [
    "AUC = (lorenz.sum() -lorenz[-1]/2 -lorenz[0]/2)/n # Surface sous la courbe de Lorenz. Le premier segment (lorenz[0]) est à moitié en dessous de 0, on le coupe donc en 2, on fait de même pour le dernier segment lorenz[-1] qui est à moitié au dessus de 1.\n",
    "S = 0.5 - AUC # surface entre la première bissectrice et le courbe de Lorenz\n",
    "# gini : 2 x l'air entre la 1ere bissectrice et la courbe de Lorenz\n",
    "gini = 2*S\n",
    "gini\n",
    "# plus gini est élevé (et se rapproche de 1), plus il y a de grosses disparités dans les valeurs "
   ]
  },
  {
   "cell_type": "code",
   "execution_count": 30,
   "id": "a88830c8",
   "metadata": {
    "scrolled": true
   },
   "outputs": [
    {
     "data": {
      "image/png": "[encoded data removed]",
      "text/plain": [
       "<Figure size 432x288 with 1 Axes>"
      ]
     },
     "metadata": {
      "needs_background": "light"
     },
     "output_type": "display_data"
    }
   ],
   "source": [
    "data[\"categ\"].value_counts(normalize=True).plot(kind='bar',width=0.1)\n",
    "\n",
    "plt.show()"
   ]
  },
  {
   "cell_type": "code",
   "execution_count": 9,
   "id": "b2d051c4",
   "metadata": {},
   "outputs": [
    {
     "data": {
      "text/plain": [
       "<matplotlib.legend.Legend at 0x1a390d64250>"
      ]
     },
     "execution_count": 9,
     "metadata": {},
     "output_type": "execute_result"
    },
    {
     "data": {
      "image/png": "[encoded data removed]",
      "text/plain": [
       "<Figure size 432x288 with 1 Axes>"
      ]
     },
     "metadata": {
      "needs_background": "light"
     },
     "output_type": "display_data"
    }
   ],
   "source": [
    "# nuage de point montant en fonction de solde_avt_ope\n",
    "import seaborn as sns\n",
    "#plt.scatter(data['solde_avt_ope'], data['montant'])\n",
    "depenses = data.loc[data['montant']<0,:]\n",
    "sns.scatterplot(data=depenses, x='solde_avt_ope', y='montant', hue='categ')\n",
    "plt.title(\"Dépenses en fonction du solde sur le compte\", fontsize = 11)\n",
    "plt.ylabel(\"Dépenses (€)\")\n",
    "plt.xlabel(\"Solde sur le compte (€)\")\n",
    "plt.legend(bbox_to_anchor=(1, 1.02))"
   ]
  },
  {
   "cell_type": "code",
   "execution_count": 18,
   "id": "3409dea6",
   "metadata": {},
   "outputs": [
    {
     "data": {
      "text/html": [
       "<div>\n",
       "<style scoped>\n",
       "    .dataframe tbody tr th:only-of-type {\n",
       "        vertical-align: middle;\n",
       "    }\n",
       "\n",
       "    .dataframe tbody tr th {\n",
       "        vertical-align: top;\n",
       "    }\n",
       "\n",
       "    .dataframe thead th {\n",
       "        text-align: right;\n",
       "    }\n",
       "</style>\n",
       "<table border=\"1\" class=\"dataframe\">\n",
       "  <thead>\n",
       "    <tr style=\"text-align: right;\">\n",
       "      <th></th>\n",
       "      <th>date_operation</th>\n",
       "      <th>libelle</th>\n",
       "      <th>montant</th>\n",
       "      <th>solde_avt_ope</th>\n",
       "      <th>categ</th>\n",
       "      <th>quart_mois</th>\n",
       "      <th>classe_solde_compte</th>\n",
       "    </tr>\n",
       "  </thead>\n",
       "  <tbody>\n",
       "    <tr>\n",
       "      <th>0</th>\n",
       "      <td>2023-03-31</td>\n",
       "      <td>DON XX XX XX XX XX XX XX</td>\n",
       "      <td>-1.44</td>\n",
       "      <td>1515.25</td>\n",
       "      <td>AUTRE</td>\n",
       "      <td>4</td>\n",
       "      <td>[1500,2000[</td>\n",
       "    </tr>\n",
       "    <tr>\n",
       "      <th>1</th>\n",
       "      <td>2023-04-03</td>\n",
       "      <td>CARTE XX XX RAPT XX</td>\n",
       "      <td>-24.00</td>\n",
       "      <td>1513.81</td>\n",
       "      <td>TRANSPORT</td>\n",
       "      <td>1</td>\n",
       "      <td>[1500,2000[</td>\n",
       "    </tr>\n",
       "    <tr>\n",
       "      <th>2</th>\n",
       "      <td>2023-04-03</td>\n",
       "      <td>CARTE XX XX RAPT XX</td>\n",
       "      <td>-73.00</td>\n",
       "      <td>1489.81</td>\n",
       "      <td>TRANSPORT</td>\n",
       "      <td>1</td>\n",
       "      <td>[0,1500[</td>\n",
       "    </tr>\n",
       "    <tr>\n",
       "      <th>3</th>\n",
       "      <td>2023-04-03</td>\n",
       "      <td>VIREMENT XX XX XX XX XX XX XX XX XX XX XX XX</td>\n",
       "      <td>676.00</td>\n",
       "      <td>1416.81</td>\n",
       "      <td>AUTRE</td>\n",
       "      <td>1</td>\n",
       "      <td>[0,1500[</td>\n",
       "    </tr>\n",
       "    <tr>\n",
       "      <th>4</th>\n",
       "      <td>2023-04-03</td>\n",
       "      <td>VIREMENT XX XX XX XX XX XX</td>\n",
       "      <td>4.80</td>\n",
       "      <td>2092.81</td>\n",
       "      <td>AUTRE</td>\n",
       "      <td>1</td>\n",
       "      <td>[2000,2500[</td>\n",
       "    </tr>\n",
       "  </tbody>\n",
       "</table>\n",
       "</div>"
      ],
      "text/plain": [
       "  date_operation                                       libelle  montant  \\\n",
       "0     2023-03-31                      DON XX XX XX XX XX XX XX    -1.44   \n",
       "1     2023-04-03                           CARTE XX XX RAPT XX   -24.00   \n",
       "2     2023-04-03                           CARTE XX XX RAPT XX   -73.00   \n",
       "3     2023-04-03  VIREMENT XX XX XX XX XX XX XX XX XX XX XX XX   676.00   \n",
       "4     2023-04-03                    VIREMENT XX XX XX XX XX XX     4.80   \n",
       "\n",
       "   solde_avt_ope      categ  quart_mois classe_solde_compte  \n",
       "0        1515.25      AUTRE           4         [1500,2000[  \n",
       "1        1513.81  TRANSPORT           1         [1500,2000[  \n",
       "2        1489.81  TRANSPORT           1            [0,1500[  \n",
       "3        1416.81      AUTRE           1            [0,1500[  \n",
       "4        2092.81      AUTRE           1         [2000,2500[  "
      ]
     },
     "execution_count": 18,
     "metadata": {},
     "output_type": "execute_result"
    }
   ],
   "source": [
    "data.head()"
   ]
  },
  {
   "cell_type": "code",
   "execution_count": 33,
   "id": "398b9865",
   "metadata": {
    "scrolled": true
   },
   "outputs": [
    {
     "data": {
      "text/html": [
       "<div>\n",
       "<style scoped>\n",
       "    .dataframe tbody tr th:only-of-type {\n",
       "        vertical-align: middle;\n",
       "    }\n",
       "\n",
       "    .dataframe tbody tr th {\n",
       "        vertical-align: top;\n",
       "    }\n",
       "\n",
       "    .dataframe thead th {\n",
       "        text-align: right;\n",
       "    }\n",
       "</style>\n",
       "<table border=\"1\" class=\"dataframe\">\n",
       "  <thead>\n",
       "    <tr style=\"text-align: right;\">\n",
       "      <th></th>\n",
       "      <th>date_operation</th>\n",
       "      <th>libelle</th>\n",
       "      <th>montant</th>\n",
       "      <th>solde_avt_ope</th>\n",
       "      <th>categ</th>\n",
       "      <th>classe_solde_compte</th>\n",
       "    </tr>\n",
       "  </thead>\n",
       "  <tbody>\n",
       "    <tr>\n",
       "      <th>0</th>\n",
       "      <td>2023-03-31</td>\n",
       "      <td>DON XX XX XX XX XX XX XX</td>\n",
       "      <td>-1.44</td>\n",
       "      <td>1515.25</td>\n",
       "      <td>AUTRE</td>\n",
       "      <td>[1500,2000[</td>\n",
       "    </tr>\n",
       "    <tr>\n",
       "      <th>1</th>\n",
       "      <td>2023-04-03</td>\n",
       "      <td>CARTE XX XX RAPT XX</td>\n",
       "      <td>-24.00</td>\n",
       "      <td>1513.81</td>\n",
       "      <td>TRANSPORT</td>\n",
       "      <td>[1500,2000[</td>\n",
       "    </tr>\n",
       "    <tr>\n",
       "      <th>2</th>\n",
       "      <td>2023-04-03</td>\n",
       "      <td>CARTE XX XX RAPT XX</td>\n",
       "      <td>-73.00</td>\n",
       "      <td>1489.81</td>\n",
       "      <td>TRANSPORT</td>\n",
       "      <td>[0,1500[</td>\n",
       "    </tr>\n",
       "    <tr>\n",
       "      <th>3</th>\n",
       "      <td>2023-04-03</td>\n",
       "      <td>VIREMENT XX XX XX XX XX XX XX XX XX XX XX XX</td>\n",
       "      <td>676.00</td>\n",
       "      <td>1416.81</td>\n",
       "      <td>AUTRE</td>\n",
       "      <td>[0,1500[</td>\n",
       "    </tr>\n",
       "    <tr>\n",
       "      <th>4</th>\n",
       "      <td>2023-04-03</td>\n",
       "      <td>VIREMENT XX XX XX XX XX XX</td>\n",
       "      <td>4.80</td>\n",
       "      <td>2092.81</td>\n",
       "      <td>AUTRE</td>\n",
       "      <td>[2000,2500[</td>\n",
       "    </tr>\n",
       "  </tbody>\n",
       "</table>\n",
       "</div>"
      ],
      "text/plain": [
       "  date_operation                                       libelle  montant  \\\n",
       "0     2023-03-31                      DON XX XX XX XX XX XX XX    -1.44   \n",
       "1     2023-04-03                           CARTE XX XX RAPT XX   -24.00   \n",
       "2     2023-04-03                           CARTE XX XX RAPT XX   -73.00   \n",
       "3     2023-04-03  VIREMENT XX XX XX XX XX XX XX XX XX XX XX XX   676.00   \n",
       "4     2023-04-03                    VIREMENT XX XX XX XX XX XX     4.80   \n",
       "\n",
       "   solde_avt_ope      categ classe_solde_compte  \n",
       "0        1515.25      AUTRE         [1500,2000[  \n",
       "1        1513.81  TRANSPORT         [1500,2000[  \n",
       "2        1489.81  TRANSPORT            [0,1500[  \n",
       "3        1416.81      AUTRE            [0,1500[  \n",
       "4        2092.81      AUTRE         [2000,2500[  "
      ]
     },
     "execution_count": 33,
     "metadata": {},
     "output_type": "execute_result"
    }
   ],
   "source": [
    "index=0\n",
    "for solde in data['solde_avt_ope']:\n",
    "    if solde<1500:\n",
    "        classe_solde_compte = '[0,1500['\n",
    "    elif 1500<=solde<2000 : \n",
    "        classe_solde_compte = '[1500,2000['\n",
    "    elif 2000<=solde<2500 : \n",
    "        classe_solde_compte = '[2000,2500['\n",
    "    elif 2500<=solde<3000 : \n",
    "        classe_solde_compte = '[2500,3000['\n",
    "    elif 3000<=solde<3500 : \n",
    "        classe_solde_compte = '[3000,3500['\n",
    "    elif 3500<=solde<4000 : \n",
    "        classe_solde_compte = '[3500,4000['\n",
    "    else : \n",
    "        classe_solde_compte = '[4000,4500+['\n",
    "    data.loc[index,'classe_solde_compte']=classe_solde_compte\n",
    "    index = index +1\n",
    "\n",
    "\n",
    "data.head()"
   ]
  },
  {
   "cell_type": "code",
   "execution_count": 33,
   "id": "cb11370f",
   "metadata": {},
   "outputs": [
    {
     "name": "stdout",
     "output_type": "stream",
     "text": [
      "[1500,2000[\n",
      "5\n"
     ]
    },
    {
     "data": {
      "image/png": "[encoded data removed]",
      "text/plain": [
       "<Figure size 432x288 with 1 Axes>"
      ]
     },
     "metadata": {
      "needs_background": "light"
     },
     "output_type": "display_data"
    },
    {
     "name": "stdout",
     "output_type": "stream",
     "text": [
      "[0,1500[\n",
      "1\n"
     ]
    },
    {
     "data": {
      "image/png": "[encoded data removed]",
      "text/plain": [
       "<Figure size 432x288 with 1 Axes>"
      ]
     },
     "metadata": {
      "needs_background": "light"
     },
     "output_type": "display_data"
    },
    {
     "name": "stdout",
     "output_type": "stream",
     "text": [
      "[2000,2500[\n",
      "30\n"
     ]
    },
    {
     "data": {
      "image/png": "[encoded data removed]",
      "text/plain": [
       "<Figure size 432x288 with 1 Axes>"
      ]
     },
     "metadata": {
      "needs_background": "light"
     },
     "output_type": "display_data"
    },
    {
     "name": "stdout",
     "output_type": "stream",
     "text": [
      "[3000,3500[\n",
      "86\n"
     ]
    },
    {
     "data": {
      "image/png": "[encoded data removed]",
      "text/plain": [
       "<Figure size 432x288 with 1 Axes>"
      ]
     },
     "metadata": {
      "needs_background": "light"
     },
     "output_type": "display_data"
    },
    {
     "name": "stdout",
     "output_type": "stream",
     "text": [
      "[2500,3000[\n",
      "30\n"
     ]
    },
    {
     "data": {
      "image/png": "[encoded data removed]",
      "text/plain": [
       "<Figure size 432x288 with 1 Axes>"
      ]
     },
     "metadata": {
      "needs_background": "light"
     },
     "output_type": "display_data"
    },
    {
     "name": "stdout",
     "output_type": "stream",
     "text": [
      "[3500,4000[\n",
      "74\n"
     ]
    },
    {
     "data": {
      "image/png": "[encoded data removed]",
      "text/plain": [
       "<Figure size 432x288 with 1 Axes>"
      ]
     },
     "metadata": {
      "needs_background": "light"
     },
     "output_type": "display_data"
    },
    {
     "name": "stdout",
     "output_type": "stream",
     "text": [
      "[4000,4500[\n",
      "65\n"
     ]
    },
    {
     "data": {
      "image/png": "[encoded data removed]",
      "text/plain": [
       "<Figure size 432x288 with 1 Axes>"
      ]
     },
     "metadata": {
      "needs_background": "light"
     },
     "output_type": "display_data"
    }
   ],
   "source": [
    "depenses = data.loc[data['montant']<0,:]\n",
    "for classe in data.classe_solde_compte.unique():\n",
    "    montant_classe = depenses.loc[depenses['classe_solde_compte']==classe,:]\n",
    "    montant_classe.boxplot(column='montant', vert=True)\n",
    "    print(classe)\n",
    "    print(len(montant_classe))\n",
    "    plt.ylabel(\"Dépenses (€)\")\n",
    "    plt.xlabel(classe)\n",
    "    plt.ylim(0, -74)\n",
    "    plt.show()"
   ]
  },
  {
   "cell_type": "code",
   "execution_count": 37,
   "id": "a83c7f9b",
   "metadata": {},
   "outputs": [
    {
     "data": {
      "text/html": [
       "<div>\n",
       "<style scoped>\n",
       "    .dataframe tbody tr th:only-of-type {\n",
       "        vertical-align: middle;\n",
       "    }\n",
       "\n",
       "    .dataframe tbody tr th {\n",
       "        vertical-align: top;\n",
       "    }\n",
       "\n",
       "    .dataframe thead th {\n",
       "        text-align: right;\n",
       "    }\n",
       "</style>\n",
       "<table border=\"1\" class=\"dataframe\">\n",
       "  <thead>\n",
       "    <tr style=\"text-align: right;\">\n",
       "      <th></th>\n",
       "      <th>date_operation</th>\n",
       "      <th>libelle</th>\n",
       "      <th>montant</th>\n",
       "      <th>solde_avt_ope</th>\n",
       "      <th>categ</th>\n",
       "      <th>classe_solde_compte</th>\n",
       "    </tr>\n",
       "  </thead>\n",
       "  <tbody>\n",
       "    <tr>\n",
       "      <th>0</th>\n",
       "      <td>2023-03-31</td>\n",
       "      <td>DON XX XX XX XX XX XX XX</td>\n",
       "      <td>-1.44</td>\n",
       "      <td>1515.25</td>\n",
       "      <td>AUTRE</td>\n",
       "      <td>[1500,2000[</td>\n",
       "    </tr>\n",
       "    <tr>\n",
       "      <th>1</th>\n",
       "      <td>2023-04-03</td>\n",
       "      <td>CARTE XX XX RAPT XX</td>\n",
       "      <td>-24.00</td>\n",
       "      <td>1513.81</td>\n",
       "      <td>TRANSPORT</td>\n",
       "      <td>[1500,2000[</td>\n",
       "    </tr>\n",
       "    <tr>\n",
       "      <th>2</th>\n",
       "      <td>2023-04-03</td>\n",
       "      <td>CARTE XX XX RAPT XX</td>\n",
       "      <td>-73.00</td>\n",
       "      <td>1489.81</td>\n",
       "      <td>TRANSPORT</td>\n",
       "      <td>[0,1500[</td>\n",
       "    </tr>\n",
       "    <tr>\n",
       "      <th>3</th>\n",
       "      <td>2023-04-03</td>\n",
       "      <td>VIREMENT XX XX XX XX XX XX XX XX XX XX XX XX</td>\n",
       "      <td>676.00</td>\n",
       "      <td>1416.81</td>\n",
       "      <td>AUTRE</td>\n",
       "      <td>[0,1500[</td>\n",
       "    </tr>\n",
       "    <tr>\n",
       "      <th>298</th>\n",
       "      <td>2023-09-26</td>\n",
       "      <td>CARTE XX XX XX XX XX</td>\n",
       "      <td>-1.20</td>\n",
       "      <td>1871.58</td>\n",
       "      <td>AUTRE</td>\n",
       "      <td>[1500,2000[</td>\n",
       "    </tr>\n",
       "    <tr>\n",
       "      <th>299</th>\n",
       "      <td>2023-09-29</td>\n",
       "      <td>DON XX XX XX XX XX XX XX</td>\n",
       "      <td>-1.76</td>\n",
       "      <td>1870.38</td>\n",
       "      <td>AUTRE</td>\n",
       "      <td>[1500,2000[</td>\n",
       "    </tr>\n",
       "    <tr>\n",
       "      <th>300</th>\n",
       "      <td>2023-09-30</td>\n",
       "      <td>XX XX VIREMENT XX XX XX</td>\n",
       "      <td>-36.00</td>\n",
       "      <td>1868.62</td>\n",
       "      <td>AUTRE</td>\n",
       "      <td>[1500,2000[</td>\n",
       "    </tr>\n",
       "    <tr>\n",
       "      <th>301</th>\n",
       "      <td>2023-10-02</td>\n",
       "      <td>VIREMENT XX XX XX XX XX XX XX XX XX XX XX XX</td>\n",
       "      <td>676.00</td>\n",
       "      <td>1832.62</td>\n",
       "      <td>AUTRE</td>\n",
       "      <td>[1500,2000[</td>\n",
       "    </tr>\n",
       "  </tbody>\n",
       "</table>\n",
       "</div>"
      ],
      "text/plain": [
       "    date_operation                                       libelle  montant  \\\n",
       "0       2023-03-31                      DON XX XX XX XX XX XX XX    -1.44   \n",
       "1       2023-04-03                           CARTE XX XX RAPT XX   -24.00   \n",
       "2       2023-04-03                           CARTE XX XX RAPT XX   -73.00   \n",
       "3       2023-04-03  VIREMENT XX XX XX XX XX XX XX XX XX XX XX XX   676.00   \n",
       "298     2023-09-26                          CARTE XX XX XX XX XX    -1.20   \n",
       "299     2023-09-29                      DON XX XX XX XX XX XX XX    -1.76   \n",
       "300     2023-09-30                       XX XX VIREMENT XX XX XX   -36.00   \n",
       "301     2023-10-02  VIREMENT XX XX XX XX XX XX XX XX XX XX XX XX   676.00   \n",
       "\n",
       "     solde_avt_ope      categ classe_solde_compte  \n",
       "0          1515.25      AUTRE         [1500,2000[  \n",
       "1          1513.81  TRANSPORT         [1500,2000[  \n",
       "2          1489.81  TRANSPORT            [0,1500[  \n",
       "3          1416.81      AUTRE            [0,1500[  \n",
       "298        1871.58      AUTRE         [1500,2000[  \n",
       "299        1870.38      AUTRE         [1500,2000[  \n",
       "300        1868.62      AUTRE         [1500,2000[  \n",
       "301        1832.62      AUTRE         [1500,2000[  "
      ]
     },
     "execution_count": 37,
     "metadata": {},
     "output_type": "execute_result"
    }
   ],
   "source": [
    "#data.loc[data['classe_solde_compte']=='[0,1500[',:]\n",
    "data.loc[data['solde_avt_ope']<2000,:]"
   ]
  },
  {
   "cell_type": "code",
   "execution_count": 12,
   "id": "5062fd24",
   "metadata": {},
   "outputs": [
    {
     "ename": "AttributeError",
     "evalue": "'DataFrame' object has no attribute 'classe_solde_compte'",
     "output_type": "error",
     "traceback": [
      "\u001b[1;31m---------------------------------------------------------------------------\u001b[0m",
      "\u001b[1;31mAttributeError\u001b[0m                            Traceback (most recent call last)",
      "Input \u001b[1;32mIn [12]\u001b[0m, in \u001b[0;36m<cell line: 6>\u001b[1;34m()\u001b[0m\n\u001b[0;32m      3\u001b[0m classe_array\u001b[38;5;241m=\u001b[39m[]\n\u001b[0;32m      4\u001b[0m data_solde_croissant\u001b[38;5;241m=\u001b[39mdata\u001b[38;5;241m.\u001b[39msort_values(\u001b[38;5;124m'\u001b[39m\u001b[38;5;124msolde_avt_ope\u001b[39m\u001b[38;5;124m'\u001b[39m)\n\u001b[1;32m----> 6\u001b[0m \u001b[38;5;28;01mfor\u001b[39;00m classe \u001b[38;5;129;01min\u001b[39;00m \u001b[43mdata_solde_croissant\u001b[49m\u001b[38;5;241;43m.\u001b[39;49m\u001b[43mclasse_solde_compte\u001b[49m\u001b[38;5;241m.\u001b[39munique():\n\u001b[0;32m      7\u001b[0m     montant_classe \u001b[38;5;241m=\u001b[39m depenses\u001b[38;5;241m.\u001b[39mloc[depenses[\u001b[38;5;124m'\u001b[39m\u001b[38;5;124mclasse_solde_compte\u001b[39m\u001b[38;5;124m'\u001b[39m]\u001b[38;5;241m==\u001b[39mclasse,\u001b[38;5;124m'\u001b[39m\u001b[38;5;124mmontant\u001b[39m\u001b[38;5;124m'\u001b[39m]\n\u001b[0;32m      8\u001b[0m     \u001b[38;5;28mprint\u001b[39m(classe)\n",
      "File \u001b[1;32mD:\\Dev\\lib\\site-packages\\pandas\\core\\generic.py:5575\u001b[0m, in \u001b[0;36mNDFrame.__getattr__\u001b[1;34m(self, name)\u001b[0m\n\u001b[0;32m   5568\u001b[0m \u001b[38;5;28;01mif\u001b[39;00m (\n\u001b[0;32m   5569\u001b[0m     name \u001b[38;5;129;01mnot\u001b[39;00m \u001b[38;5;129;01min\u001b[39;00m \u001b[38;5;28mself\u001b[39m\u001b[38;5;241m.\u001b[39m_internal_names_set\n\u001b[0;32m   5570\u001b[0m     \u001b[38;5;129;01mand\u001b[39;00m name \u001b[38;5;129;01mnot\u001b[39;00m \u001b[38;5;129;01min\u001b[39;00m \u001b[38;5;28mself\u001b[39m\u001b[38;5;241m.\u001b[39m_metadata\n\u001b[0;32m   5571\u001b[0m     \u001b[38;5;129;01mand\u001b[39;00m name \u001b[38;5;129;01mnot\u001b[39;00m \u001b[38;5;129;01min\u001b[39;00m \u001b[38;5;28mself\u001b[39m\u001b[38;5;241m.\u001b[39m_accessors\n\u001b[0;32m   5572\u001b[0m     \u001b[38;5;129;01mand\u001b[39;00m \u001b[38;5;28mself\u001b[39m\u001b[38;5;241m.\u001b[39m_info_axis\u001b[38;5;241m.\u001b[39m_can_hold_identifiers_and_holds_name(name)\n\u001b[0;32m   5573\u001b[0m ):\n\u001b[0;32m   5574\u001b[0m     \u001b[38;5;28;01mreturn\u001b[39;00m \u001b[38;5;28mself\u001b[39m[name]\n\u001b[1;32m-> 5575\u001b[0m \u001b[38;5;28;01mreturn\u001b[39;00m \u001b[38;5;28;43mobject\u001b[39;49m\u001b[38;5;241;43m.\u001b[39;49m\u001b[38;5;21;43m__getattribute__\u001b[39;49m\u001b[43m(\u001b[49m\u001b[38;5;28;43mself\u001b[39;49m\u001b[43m,\u001b[49m\u001b[43m \u001b[49m\u001b[43mname\u001b[49m\u001b[43m)\u001b[49m\n",
      "\u001b[1;31mAttributeError\u001b[0m: 'DataFrame' object has no attribute 'classe_solde_compte'"
     ]
    }
   ],
   "source": [
    "depenses = data.loc[data['montant']<0,:]\n",
    "classe_solde_compte_array=[]\n",
    "classe_array=[]\n",
    "data_solde_croissant=data.sort_values('solde_avt_ope')\n",
    "\n",
    "for classe in data_solde_croissant.classe_solde_compte.unique():\n",
    "    montant_classe = depenses.loc[depenses['classe_solde_compte']==classe,'montant']\n",
    "    print(classe)\n",
    "    montant_classe_array=montant_classe.to_numpy()\n",
    "    print(montant_classe_array)\n",
    "    classe_solde_compte_array.append(montant_classe_array)\n",
    "    classe_array.append(classe)\n",
    "    \n",
    "print(classe_solde_compte_array)   \n",
    "print(classe_array)\n",
    "\n"
   ]
  },
  {
   "cell_type": "code",
   "execution_count": 68,
   "id": "5c0aeeff",
   "metadata": {},
   "outputs": [
    {
     "data": {
      "image/png": "[encoded data removed]",
      "text/plain": [
       "<Figure size 720x504 with 1 Axes>"
      ]
     },
     "metadata": {
      "needs_background": "light"
     },
     "output_type": "display_data"
    }
   ],
   "source": [
    "fig = plt.figure(figsize =(10, 7))\n",
    " \n",
    "# Creating axes instance\n",
    "ax = fig.add_axes([0, 0, 1, 1])\n",
    " \n",
    "# Creating plot\n",
    "bp = ax.boxplot(classe_solde_compte_array)\n",
    "\n",
    "plt.ylabel(\"Dépenses (€)\")\n",
    "#plt.xlabel(classe_array)\n",
    "plt.ylim(0, -74)\n",
    "\n",
    "plt.xticks(fontsize = 11)\n",
    "# show plot\n",
    "\n",
    "position = [1,2,3,4,5,6,7]\n",
    "texte = len(classe_solde_compte_array)\n",
    "z=0\n",
    "for x in position :\n",
    "    plt.text(x ,0,\"(n={})\".format(len(classe_solde_compte_array[z])),horizontalalignment='center',verticalalignment='bottom') \n",
    "    z=z+1\n",
    "\n",
    "plt.show()"
   ]
  },
  {
   "cell_type": "code",
   "execution_count": 18,
   "id": "fa3d74cf",
   "metadata": {},
   "outputs": [
    {
     "data": {
      "text/plain": [
       "'[0,1500['"
      ]
     },
     "execution_count": 18,
     "metadata": {},
     "output_type": "execute_result"
    }
   ],
   "source": [
    "classe_array[1]"
   ]
  },
  {
   "cell_type": "code",
   "execution_count": 101,
   "id": "092f9081",
   "metadata": {},
   "outputs": [
    {
     "data": {
      "text/plain": [
       "array([1500, 2000, 2500, 3000, 3500, 4000, 4500])"
      ]
     },
     "execution_count": 101,
     "metadata": {},
     "output_type": "execute_result"
    }
   ],
   "source": [
    "np.arange(1500,5000,500)"
   ]
  },
  {
   "cell_type": "code",
   "execution_count": 15,
   "id": "5e587bc4",
   "metadata": {},
   "outputs": [
    {
     "data": {
      "text/html": [
       "<div>\n",
       "<style scoped>\n",
       "    .dataframe tbody tr th:only-of-type {\n",
       "        vertical-align: middle;\n",
       "    }\n",
       "\n",
       "    .dataframe tbody tr th {\n",
       "        vertical-align: top;\n",
       "    }\n",
       "\n",
       "    .dataframe thead th {\n",
       "        text-align: right;\n",
       "    }\n",
       "</style>\n",
       "<table border=\"1\" class=\"dataframe\">\n",
       "  <thead>\n",
       "    <tr style=\"text-align: right;\">\n",
       "      <th></th>\n",
       "      <th>date_operation</th>\n",
       "      <th>libelle</th>\n",
       "      <th>montant</th>\n",
       "      <th>solde_avt_ope</th>\n",
       "      <th>categ</th>\n",
       "      <th>classe_solde_compte</th>\n",
       "    </tr>\n",
       "  </thead>\n",
       "  <tbody>\n",
       "    <tr>\n",
       "      <th>0</th>\n",
       "      <td>2023-03-31</td>\n",
       "      <td>DON XX XX XX XX XX XX XX</td>\n",
       "      <td>-1.44</td>\n",
       "      <td>1515.25</td>\n",
       "      <td>AUTRE</td>\n",
       "      <td>[1500,2000[</td>\n",
       "    </tr>\n",
       "    <tr>\n",
       "      <th>1</th>\n",
       "      <td>2023-04-03</td>\n",
       "      <td>CARTE XX XX RAPT XX</td>\n",
       "      <td>-24.00</td>\n",
       "      <td>1513.81</td>\n",
       "      <td>TRANSPORT</td>\n",
       "      <td>[1500,2000[</td>\n",
       "    </tr>\n",
       "    <tr>\n",
       "      <th>2</th>\n",
       "      <td>2023-04-03</td>\n",
       "      <td>CARTE XX XX RAPT XX</td>\n",
       "      <td>-73.00</td>\n",
       "      <td>1489.81</td>\n",
       "      <td>TRANSPORT</td>\n",
       "      <td>[0,1500[</td>\n",
       "    </tr>\n",
       "    <tr>\n",
       "      <th>3</th>\n",
       "      <td>2023-04-03</td>\n",
       "      <td>VIREMENT XX XX XX XX XX XX XX XX XX XX XX XX</td>\n",
       "      <td>676.00</td>\n",
       "      <td>1416.81</td>\n",
       "      <td>AUTRE</td>\n",
       "      <td>[0,1500[</td>\n",
       "    </tr>\n",
       "    <tr>\n",
       "      <th>4</th>\n",
       "      <td>2023-04-03</td>\n",
       "      <td>VIREMENT XX XX XX XX XX XX</td>\n",
       "      <td>4.80</td>\n",
       "      <td>2092.81</td>\n",
       "      <td>AUTRE</td>\n",
       "      <td>[2000,2500[</td>\n",
       "    </tr>\n",
       "  </tbody>\n",
       "</table>\n",
       "</div>"
      ],
      "text/plain": [
       "  date_operation                                       libelle  montant  \\\n",
       "0     2023-03-31                      DON XX XX XX XX XX XX XX    -1.44   \n",
       "1     2023-04-03                           CARTE XX XX RAPT XX   -24.00   \n",
       "2     2023-04-03                           CARTE XX XX RAPT XX   -73.00   \n",
       "3     2023-04-03  VIREMENT XX XX XX XX XX XX XX XX XX XX XX XX   676.00   \n",
       "4     2023-04-03                    VIREMENT XX XX XX XX XX XX     4.80   \n",
       "\n",
       "   solde_avt_ope      categ classe_solde_compte  \n",
       "0        1515.25      AUTRE         [1500,2000[  \n",
       "1        1513.81  TRANSPORT         [1500,2000[  \n",
       "2        1489.81  TRANSPORT            [0,1500[  \n",
       "3        1416.81      AUTRE            [0,1500[  \n",
       "4        2092.81      AUTRE         [2000,2500[  "
      ]
     },
     "execution_count": 15,
     "metadata": {},
     "output_type": "execute_result"
    }
   ],
   "source": [
    "data.head()"
   ]
  },
  {
   "cell_type": "code",
   "execution_count": 10,
   "id": "60c677af",
   "metadata": {},
   "outputs": [],
   "source": [
    "taille_classe = 500 # taille des classes pour la discrétisation\n",
    "\n",
    "groupes = [] # va recevoir les données agrégées à afficher\n",
    "\n",
    "# on calcule des tranches allant de 0 au solde maximum par paliers de taille taille_classe\n",
    "tranches = np.arange(0, max(depenses[\"solde_avt_ope\"]), taille_classe)\n",
    "tranches += taille_classe/2 # on décale les tranches d'une demi taille de classe\n",
    "indices = np.digitize(depenses[\"solde_avt_ope\"], tranches) # associe chaque solde à son numéro de classe"
   ]
  },
  {
   "cell_type": "code",
   "execution_count": 11,
   "id": "8d6a62a9",
   "metadata": {},
   "outputs": [
    {
     "data": {
      "image/png": "[encoded data removed]",
      "text/plain": [
       "<Figure size 720x504 with 1 Axes>"
      ]
     },
     "metadata": {
      "needs_background": "light"
     },
     "output_type": "display_data"
    }
   ],
   "source": [
    "for ind, tr in enumerate(tranches): # pour chaque tranche, ind reçoit le numéro de tranche et tr la tranche en question\n",
    "    montants = -depenses.loc[indices==ind,\"montant\"] # sélection des individus de la tranche ind\n",
    "    if len(montants) > 0:\n",
    "        g = {\n",
    "            'valeurs': montants,\n",
    "            'centre_classe': tr-(taille_classe/2),\n",
    "            'taille': len(montants),\n",
    "            'quartiles': [np.percentile(montants,p) for p in [25,50,75]]\n",
    "        }\n",
    "        groupes.append(g)\n",
    "\n",
    "plt.figure(figsize=(10,7))\n",
    "        \n",
    "# affichage des boxplots\n",
    "plt.boxplot([g[\"valeurs\"] for g in groupes],\n",
    "            positions= [g[\"centre_classe\"] for g in groupes], # abscisses des boxplots\n",
    "            showfliers= False, # on ne prend pas en compte les outliers\n",
    "            widths= taille_classe*0.7) # largeur graphique des boxplots\n",
    "\n",
    "# affichage des effectifs de chaque classe\n",
    "for g in groupes:\n",
    "    plt.text(g[\"centre_classe\"],0,\"(n={})\".format(g[\"taille\"]),horizontalalignment='center',verticalalignment='top')     \n",
    "plt.show()"
   ]
  },
  {
   "cell_type": "code",
   "execution_count": 12,
   "id": "4e27f68f",
   "metadata": {},
   "outputs": [
    {
     "name": "stdout",
     "output_type": "stream",
     "text": [
      "0.010068819133759194\n",
      "484.95954154532853\n"
     ]
    }
   ],
   "source": [
    "import scipy.stats as st\n",
    "import numpy as np\n",
    "\n",
    "print(st.pearsonr(depenses[\"solde_avt_ope\"],-depenses[\"montant\"])[0])\n",
    "print(np.cov(depenses[\"solde_avt_ope\"],-depenses[\"montant\"],ddof=0)[1,0])"
   ]
  },
  {
   "cell_type": "code",
   "execution_count": 18,
   "id": "7fb6a470",
   "metadata": {},
   "outputs": [],
   "source": [
    "# Analysez deux variables quantitatives par régression linéaire\n",
    "\n",
    "# on créé un droite de tendance de type ax+b en fonction de la dispersion des points, on peut rajouter un epsilon (ax+b+e) pour ajouter un coefficient d'erreur\n",
    "# cette droite permettra ensuite de faire des prédictions\n",
    "\n",
    "import datetime as dt\n",
    "\n",
    "# Selection du sous-échantillon\n",
    "courses = data[data.categ == \"COURSES\"]\n",
    "\n",
    "# On trie les opérations par date\n",
    "courses = courses.sort_values(\"date_operation\")\n",
    "\n",
    "# On ramène les montants en positif\n",
    "courses[\"montant\"] = -courses[\"montant\"]\n",
    "\n",
    "# calcul de la variable attente\n",
    "r = []\n",
    "last_date = dt.datetime.now()\n",
    "for i,row in courses.iterrows():\n",
    "    days = (row[\"date_operation\"]-last_date).days\n",
    "    if days == 0:\n",
    "        r.append(r[-1])\n",
    "    else:\n",
    "        r.append(days)\n",
    "    last_date = row[\"date_operation\"]\n",
    "courses[\"attente\"] = r\n",
    "courses = courses.iloc[1:,]\n",
    "\n",
    "# on regroupe les opérations qui ont été effectués à la même date\n",
    "# (courses réalisées le même jour mais dans 2 magasins différents)\n",
    "a = courses.groupby(\"date_operation\")[\"montant\"].sum()\n",
    "b = courses.groupby(\"date_operation\")[\"attente\"].first()\n",
    "courses = pd.DataFrame({\"montant\":a, \"attente\":b})"
   ]
  },
  {
   "cell_type": "code",
   "execution_count": 71,
   "id": "a77da91c",
   "metadata": {},
   "outputs": [
    {
     "data": {
      "text/html": [
       "<div>\n",
       "<style scoped>\n",
       "    .dataframe tbody tr th:only-of-type {\n",
       "        vertical-align: middle;\n",
       "    }\n",
       "\n",
       "    .dataframe tbody tr th {\n",
       "        vertical-align: top;\n",
       "    }\n",
       "\n",
       "    .dataframe thead th {\n",
       "        text-align: right;\n",
       "    }\n",
       "</style>\n",
       "<table border=\"1\" class=\"dataframe\">\n",
       "  <thead>\n",
       "    <tr style=\"text-align: right;\">\n",
       "      <th></th>\n",
       "      <th>montant</th>\n",
       "      <th>attente</th>\n",
       "    </tr>\n",
       "    <tr>\n",
       "      <th>date_operation</th>\n",
       "      <th></th>\n",
       "      <th></th>\n",
       "    </tr>\n",
       "  </thead>\n",
       "  <tbody>\n",
       "    <tr>\n",
       "      <th>2023-04-10</th>\n",
       "      <td>42.42</td>\n",
       "      <td>5</td>\n",
       "    </tr>\n",
       "    <tr>\n",
       "      <th>2023-04-25</th>\n",
       "      <td>32.67</td>\n",
       "      <td>15</td>\n",
       "    </tr>\n",
       "    <tr>\n",
       "      <th>2023-04-26</th>\n",
       "      <td>1.90</td>\n",
       "      <td>1</td>\n",
       "    </tr>\n",
       "    <tr>\n",
       "      <th>2023-04-28</th>\n",
       "      <td>9.11</td>\n",
       "      <td>2</td>\n",
       "    </tr>\n",
       "    <tr>\n",
       "      <th>2023-05-02</th>\n",
       "      <td>12.24</td>\n",
       "      <td>4</td>\n",
       "    </tr>\n",
       "  </tbody>\n",
       "</table>\n",
       "</div>"
      ],
      "text/plain": [
       "                montant  attente\n",
       "date_operation                  \n",
       "2023-04-10        42.42        5\n",
       "2023-04-25        32.67       15\n",
       "2023-04-26         1.90        1\n",
       "2023-04-28         9.11        2\n",
       "2023-05-02        12.24        4"
      ]
     },
     "execution_count": 71,
     "metadata": {},
     "output_type": "execute_result"
    }
   ],
   "source": [
    "courses.head()"
   ]
  },
  {
   "cell_type": "code",
   "execution_count": 19,
   "id": "896e8c4d",
   "metadata": {},
   "outputs": [],
   "source": [
    "import statsmodels.api as sm\n",
    "Y = courses['montant']\n",
    "X = courses[['attente']]\n",
    "X = X.copy() # On modifiera X, on en crée donc une copie\n",
    "X['intercept'] = 1.\n",
    "result = sm.OLS(Y, X).fit() # OLS = Ordinary Least Square (Moindres Carrés Ordinaire)\n",
    "a,b = result.params['attente'],result.params['intercept']"
   ]
  },
  {
   "cell_type": "code",
   "execution_count": 73,
   "id": "fd5b58d7",
   "metadata": {},
   "outputs": [
    {
     "data": {
      "image/png": "[encoded data removed]",
      "text/plain": [
       "<Figure size 432x288 with 1 Axes>"
      ]
     },
     "metadata": {
      "needs_background": "light"
     },
     "output_type": "display_data"
    }
   ],
   "source": [
    "plt.plot(courses.attente,courses.montant, \"o\")\n",
    "plt.plot(np.arange(15),[a*x+b for x in np.arange(15)])\n",
    "plt.xlabel(\"attente\")\n",
    "plt.ylabel(\"montant\")\n",
    "plt.show()"
   ]
  },
  {
   "cell_type": "code",
   "execution_count": 20,
   "id": "f45040c3",
   "metadata": {},
   "outputs": [],
   "source": [
    "# Analysez une variable quantitative et une qualitative par ANOVA\n",
    "\n",
    "X = \"categ\" # qualitative\n",
    "Y = \"montant\" # quantitative\n",
    "\n",
    "# On ne garde que les dépenses\n",
    "sous_echantillon = data[data[\"montant\"] < 0].copy()\n",
    "# On remet les dépenses en positif\n",
    "sous_echantillon[\"montant\"] = -sous_echantillon[\"montant\"]\n",
    "# On n'étudie pas les loyers car trop gros:\n",
    "sous_echantillon = sous_echantillon[sous_echantillon[\"categ\"] != \"LOYER\"] "
   ]
  },
  {
   "cell_type": "code",
   "execution_count": 57,
   "id": "0f46b87c",
   "metadata": {
    "scrolled": true
   },
   "outputs": [
    {
     "name": "stdout",
     "output_type": "stream",
     "text": [
      "AUTRE : moyenne = 23.48 \n",
      " 196 éléments\n",
      " xi = 0.3964629430719775\n",
      "TRANSPORT : moyenne = 53.0 \n",
      " 21 éléments\n",
      " xi = 29.914932330827078\n",
      "FACTURE TELEPHONE : moyenne = 7.97 \n",
      " 6 éléments\n",
      " xi = -15.108877192982451\n",
      "COURSES : moyenne = 16.34 \n",
      " 39 éléments\n",
      " xi = -6.74092847503373\n",
      "COTISATION BANCAIRE : moyenne = 1.89 \n",
      " 7 éléments\n",
      " xi = -21.196496240601498\n",
      "RESTAURANT : moyenne = 10.33 \n",
      " 16 éléments\n",
      " xi = -12.749710526315782\n",
      "23.082210526315784\n"
     ]
    },
    {
     "data": {
      "image/png": "[encoded data removed]",
      "text/plain": [
       "<Figure size 432x288 with 1 Axes>"
      ]
     },
     "metadata": {
      "needs_background": "light"
     },
     "output_type": "display_data"
    }
   ],
   "source": [
    "modalites = sous_echantillon[X].unique()\n",
    "groupes = []\n",
    "n=0\n",
    "for m in modalites:\n",
    "    groupes.append(sous_echantillon[sous_echantillon[X]==m][Y])\n",
    "    print(m,':','moyenne =',round((groupes[n].mean()),2),\n",
    "            '\\n',len(groupes[n]),'éléments\\n',\n",
    "         'xi =',(groupes[n].mean())-(sous_echantillon['montant'].mean()))\n",
    "    n=n+1\n",
    "print (sous_echantillon['montant'].mean())\n",
    "\n",
    "# Propriétés graphiques (pas très importantes)    \n",
    "medianprops = {'color':\"black\"}\n",
    "meanprops = {'marker':'o', 'markeredgecolor':'black',\n",
    "            'markerfacecolor':'firebrick'}\n",
    "    \n",
    "plt.boxplot(groupes, labels=modalites, showfliers=False, medianprops=medianprops, \n",
    "            vert=False, patch_artist=True, showmeans=True, meanprops=meanprops)\n",
    "plt.show()\n"
   ]
  },
  {
   "cell_type": "code",
   "execution_count": 19,
   "id": "c236b813",
   "metadata": {},
   "outputs": [
    {
     "data": {
      "text/plain": [
       "0.02805598513593744"
      ]
     },
     "execution_count": 19,
     "metadata": {},
     "output_type": "execute_result"
    }
   ],
   "source": [
    "def eta_squared(x,y):\n",
    "    moyenne_y = y.mean()\n",
    "    classes = []\n",
    "    for classe in x.unique():\n",
    "        yi_classe = y[x==classe]\n",
    "        classes.append({'ni': len(yi_classe),\n",
    "                        'moyenne_classe': yi_classe.mean()})\n",
    "    SCT = sum([(yj-moyenne_y)**2 for yj in y])\n",
    "    SCE = sum([c['ni']*(c['moyenne_classe']-moyenne_y)**2 for c in classes])\n",
    "    return SCE/SCT\n",
    "    \n",
    "eta_squared(sous_echantillon[X],sous_echantillon[Y])"
   ]
  },
  {
   "cell_type": "code",
   "execution_count": 22,
   "id": "34f44522",
   "metadata": {},
   "outputs": [
    {
     "data": {
      "text/html": [
       "<div>\n",
       "<style scoped>\n",
       "    .dataframe tbody tr th:only-of-type {\n",
       "        vertical-align: middle;\n",
       "    }\n",
       "\n",
       "    .dataframe tbody tr th {\n",
       "        vertical-align: top;\n",
       "    }\n",
       "\n",
       "    .dataframe thead th {\n",
       "        text-align: right;\n",
       "    }\n",
       "</style>\n",
       "<table border=\"1\" class=\"dataframe\">\n",
       "  <thead>\n",
       "    <tr style=\"text-align: right;\">\n",
       "      <th></th>\n",
       "      <th>date_operation</th>\n",
       "      <th>libelle</th>\n",
       "      <th>montant</th>\n",
       "      <th>solde_avt_ope</th>\n",
       "      <th>categ</th>\n",
       "      <th>quart_mois</th>\n",
       "    </tr>\n",
       "  </thead>\n",
       "  <tbody>\n",
       "    <tr>\n",
       "      <th>0</th>\n",
       "      <td>2023-03-31</td>\n",
       "      <td>DON XX XX XX XX XX XX XX</td>\n",
       "      <td>-1.44</td>\n",
       "      <td>1515.25</td>\n",
       "      <td>AUTRE</td>\n",
       "      <td>4</td>\n",
       "    </tr>\n",
       "    <tr>\n",
       "      <th>1</th>\n",
       "      <td>2023-04-03</td>\n",
       "      <td>CARTE XX XX RAPT XX</td>\n",
       "      <td>-24.00</td>\n",
       "      <td>1513.81</td>\n",
       "      <td>TRANSPORT</td>\n",
       "      <td>1</td>\n",
       "    </tr>\n",
       "    <tr>\n",
       "      <th>2</th>\n",
       "      <td>2023-04-03</td>\n",
       "      <td>CARTE XX XX RAPT XX</td>\n",
       "      <td>-73.00</td>\n",
       "      <td>1489.81</td>\n",
       "      <td>TRANSPORT</td>\n",
       "      <td>1</td>\n",
       "    </tr>\n",
       "    <tr>\n",
       "      <th>3</th>\n",
       "      <td>2023-04-03</td>\n",
       "      <td>VIREMENT XX XX XX XX XX XX XX XX XX XX XX XX</td>\n",
       "      <td>676.00</td>\n",
       "      <td>1416.81</td>\n",
       "      <td>AUTRE</td>\n",
       "      <td>1</td>\n",
       "    </tr>\n",
       "    <tr>\n",
       "      <th>4</th>\n",
       "      <td>2023-04-03</td>\n",
       "      <td>VIREMENT XX XX XX XX XX XX</td>\n",
       "      <td>4.80</td>\n",
       "      <td>2092.81</td>\n",
       "      <td>AUTRE</td>\n",
       "      <td>1</td>\n",
       "    </tr>\n",
       "  </tbody>\n",
       "</table>\n",
       "</div>"
      ],
      "text/plain": [
       "  date_operation                                       libelle  montant  \\\n",
       "0     2023-03-31                      DON XX XX XX XX XX XX XX    -1.44   \n",
       "1     2023-04-03                           CARTE XX XX RAPT XX   -24.00   \n",
       "2     2023-04-03                           CARTE XX XX RAPT XX   -73.00   \n",
       "3     2023-04-03  VIREMENT XX XX XX XX XX XX XX XX XX XX XX XX   676.00   \n",
       "4     2023-04-03                    VIREMENT XX XX XX XX XX XX     4.80   \n",
       "\n",
       "   solde_avt_ope      categ  quart_mois  \n",
       "0        1515.25      AUTRE           4  \n",
       "1        1513.81  TRANSPORT           1  \n",
       "2        1489.81  TRANSPORT           1  \n",
       "3        1416.81      AUTRE           1  \n",
       "4        2092.81      AUTRE           1  "
      ]
     },
     "execution_count": 22,
     "metadata": {},
     "output_type": "execute_result"
    }
   ],
   "source": [
    "data.head()"
   ]
  },
  {
   "cell_type": "code",
   "execution_count": 13,
   "id": "3a5b7c5e",
   "metadata": {},
   "outputs": [
    {
     "data": {
      "text/html": [
       "<div>\n",
       "<style scoped>\n",
       "    .dataframe tbody tr th:only-of-type {\n",
       "        vertical-align: middle;\n",
       "    }\n",
       "\n",
       "    .dataframe tbody tr th {\n",
       "        vertical-align: top;\n",
       "    }\n",
       "\n",
       "    .dataframe thead th {\n",
       "        text-align: right;\n",
       "    }\n",
       "</style>\n",
       "<table border=\"1\" class=\"dataframe\">\n",
       "  <thead>\n",
       "    <tr style=\"text-align: right;\">\n",
       "      <th></th>\n",
       "      <th>date_operation</th>\n",
       "      <th>libelle</th>\n",
       "      <th>montant</th>\n",
       "      <th>solde_avt_ope</th>\n",
       "      <th>categ</th>\n",
       "      <th>quart_mois</th>\n",
       "    </tr>\n",
       "  </thead>\n",
       "  <tbody>\n",
       "    <tr>\n",
       "      <th>0</th>\n",
       "      <td>2023-03-31</td>\n",
       "      <td>DON XX XX XX XX XX XX XX</td>\n",
       "      <td>-1.44</td>\n",
       "      <td>1515.25</td>\n",
       "      <td>AUTRE</td>\n",
       "      <td>4</td>\n",
       "    </tr>\n",
       "    <tr>\n",
       "      <th>1</th>\n",
       "      <td>2023-04-03</td>\n",
       "      <td>CARTE XX XX RAPT XX</td>\n",
       "      <td>-24.00</td>\n",
       "      <td>1513.81</td>\n",
       "      <td>TRANSPORT</td>\n",
       "      <td>1</td>\n",
       "    </tr>\n",
       "    <tr>\n",
       "      <th>2</th>\n",
       "      <td>2023-04-03</td>\n",
       "      <td>CARTE XX XX RAPT XX</td>\n",
       "      <td>-73.00</td>\n",
       "      <td>1489.81</td>\n",
       "      <td>TRANSPORT</td>\n",
       "      <td>1</td>\n",
       "    </tr>\n",
       "    <tr>\n",
       "      <th>5</th>\n",
       "      <td>2023-04-03</td>\n",
       "      <td>CARTE XX XX XX XX</td>\n",
       "      <td>-14.39</td>\n",
       "      <td>2097.61</td>\n",
       "      <td>AUTRE</td>\n",
       "      <td>1</td>\n",
       "    </tr>\n",
       "    <tr>\n",
       "      <th>6</th>\n",
       "      <td>2023-04-05</td>\n",
       "      <td>CARTE XX XX XX XX XX</td>\n",
       "      <td>-15.20</td>\n",
       "      <td>2083.22</td>\n",
       "      <td>AUTRE</td>\n",
       "      <td>1</td>\n",
       "    </tr>\n",
       "  </tbody>\n",
       "</table>\n",
       "</div>"
      ],
      "text/plain": [
       "  date_operation                   libelle  montant  solde_avt_ope      categ  \\\n",
       "0     2023-03-31  DON XX XX XX XX XX XX XX    -1.44        1515.25      AUTRE   \n",
       "1     2023-04-03       CARTE XX XX RAPT XX   -24.00        1513.81  TRANSPORT   \n",
       "2     2023-04-03       CARTE XX XX RAPT XX   -73.00        1489.81  TRANSPORT   \n",
       "5     2023-04-03         CARTE XX XX XX XX   -14.39        2097.61      AUTRE   \n",
       "6     2023-04-05      CARTE XX XX XX XX XX   -15.20        2083.22      AUTRE   \n",
       "\n",
       "   quart_mois  \n",
       "0           4  \n",
       "1           1  \n",
       "2           1  \n",
       "5           1  \n",
       "6           1  "
      ]
     },
     "execution_count": 13,
     "metadata": {},
     "output_type": "execute_result"
    }
   ],
   "source": [
    "# analyser les dépenses en fonction de la période du mois, càd dépenses en fonction de quart_mois\n",
    "depenses.head()"
   ]
  },
  {
   "cell_type": "code",
   "execution_count": 15,
   "id": "4edda30f",
   "metadata": {},
   "outputs": [],
   "source": [
    "X = \"quart_mois\" # qualitative\n",
    "Y = \"montant\" # quantitative\n",
    "\n",
    "# On ne garde que les dépenses\n",
    "sous_echantillon = data[data[\"montant\"] < 0].copy()\n",
    "# On remet les dépenses en positif\n",
    "sous_echantillon[\"montant\"] = -sous_echantillon[\"montant\"]"
   ]
  },
  {
   "cell_type": "code",
   "execution_count": 16,
   "id": "f3cac0fc",
   "metadata": {},
   "outputs": [
    {
     "data": {
      "image/png": "[encoded data removed]",
      "text/plain": [
       "<Figure size 432x288 with 1 Axes>"
      ]
     },
     "metadata": {
      "needs_background": "light"
     },
     "output_type": "display_data"
    }
   ],
   "source": [
    "modalites = sous_echantillon[X].unique()\n",
    "groupes = []\n",
    "for m in modalites:\n",
    "    groupes.append(sous_echantillon[sous_echantillon[X]==m][Y])\n",
    "\n",
    "# Propriétés graphiques (pas très importantes)    \n",
    "medianprops = {'color':\"black\"}\n",
    "meanprops = {'marker':'o', 'markeredgecolor':'black',\n",
    "            'markerfacecolor':'firebrick'}\n",
    "    \n",
    "plt.boxplot(groupes, labels=modalites, showfliers=False, medianprops=medianprops, \n",
    "            vert=False, patch_artist=True, showmeans=True, meanprops=meanprops)\n",
    "\n",
    "plt.show()"
   ]
  },
  {
   "cell_type": "code",
   "execution_count": 17,
   "id": "548b93ea",
   "metadata": {},
   "outputs": [
    {
     "data": {
      "text/plain": [
       "0.020519008455201417"
      ]
     },
     "execution_count": 17,
     "metadata": {},
     "output_type": "execute_result"
    }
   ],
   "source": [
    "X = \"quart_mois\" # qualitative\n",
    "Y = \"montant\" # quantitative\n",
    "\n",
    "sous_echantillon = data[data[\"montant\"] < 0] # On ne garde que les dépenses\n",
    "\n",
    "# cette fonction calcule le rapport de corrélation entre les 2 variables \n",
    "# s'il est proche de 0, peut de corrélation, beaucoup de corrélation à priori s'il est proche de 1\n",
    "# η2Y/X=Vinterclasses/Vtotale\n",
    "# cad rapport de corrélation = Variation interclasse / Variation totale\n",
    "\n",
    "def eta_squared(x,y):\n",
    "    moyenne_y = y.mean()\n",
    "    classes = []\n",
    "    for classe in x.unique():\n",
    "        yi_classe = y[x==classe]\n",
    "        classes.append({'ni': len(yi_classe),\n",
    "                        'moyenne_classe': yi_classe.mean()})\n",
    "    SCT = sum([(yj-moyenne_y)**2 for yj in y])\n",
    "    SCE = sum([c['ni']*(c['moyenne_classe']-moyenne_y)**2 for c in classes])\n",
    "    return SCE/SCT\n",
    "    \n",
    "eta_squared(sous_echantillon[X],sous_echantillon[Y])"
   ]
  },
  {
   "cell_type": "code",
   "execution_count": 59,
   "id": "040fd3be",
   "metadata": {},
   "outputs": [
    {
     "data": {
      "text/html": [
       "<div>\n",
       "<style scoped>\n",
       "    .dataframe tbody tr th:only-of-type {\n",
       "        vertical-align: middle;\n",
       "    }\n",
       "\n",
       "    .dataframe tbody tr th {\n",
       "        vertical-align: top;\n",
       "    }\n",
       "\n",
       "    .dataframe thead th {\n",
       "        text-align: right;\n",
       "    }\n",
       "</style>\n",
       "<table border=\"1\" class=\"dataframe\">\n",
       "  <thead>\n",
       "    <tr style=\"text-align: right;\">\n",
       "      <th>categ</th>\n",
       "      <th>AUTRE</th>\n",
       "      <th>COTISATION BANCAIRE</th>\n",
       "      <th>COURSES</th>\n",
       "      <th>FACTURE TELEPHONE</th>\n",
       "      <th>LOYER</th>\n",
       "      <th>RESTAURANT</th>\n",
       "      <th>TRANSPORT</th>\n",
       "      <th>Total</th>\n",
       "    </tr>\n",
       "    <tr>\n",
       "      <th>quart_mois</th>\n",
       "      <th></th>\n",
       "      <th></th>\n",
       "      <th></th>\n",
       "      <th></th>\n",
       "      <th></th>\n",
       "      <th></th>\n",
       "      <th></th>\n",
       "      <th></th>\n",
       "    </tr>\n",
       "  </thead>\n",
       "  <tbody>\n",
       "    <tr>\n",
       "      <th>1</th>\n",
       "      <td>56.0</td>\n",
       "      <td>7.0</td>\n",
       "      <td>6.0</td>\n",
       "      <td>5.0</td>\n",
       "      <td>NaN</td>\n",
       "      <td>3.0</td>\n",
       "      <td>9.0</td>\n",
       "      <td>86</td>\n",
       "    </tr>\n",
       "    <tr>\n",
       "      <th>2</th>\n",
       "      <td>45.0</td>\n",
       "      <td>NaN</td>\n",
       "      <td>11.0</td>\n",
       "      <td>1.0</td>\n",
       "      <td>6.0</td>\n",
       "      <td>7.0</td>\n",
       "      <td>6.0</td>\n",
       "      <td>76</td>\n",
       "    </tr>\n",
       "    <tr>\n",
       "      <th>3</th>\n",
       "      <td>60.0</td>\n",
       "      <td>NaN</td>\n",
       "      <td>7.0</td>\n",
       "      <td>NaN</td>\n",
       "      <td>NaN</td>\n",
       "      <td>4.0</td>\n",
       "      <td>4.0</td>\n",
       "      <td>75</td>\n",
       "    </tr>\n",
       "    <tr>\n",
       "      <th>4</th>\n",
       "      <td>52.0</td>\n",
       "      <td>NaN</td>\n",
       "      <td>15.0</td>\n",
       "      <td>NaN</td>\n",
       "      <td>NaN</td>\n",
       "      <td>2.0</td>\n",
       "      <td>2.0</td>\n",
       "      <td>71</td>\n",
       "    </tr>\n",
       "    <tr>\n",
       "      <th>Total</th>\n",
       "      <td>213.0</td>\n",
       "      <td>7.0</td>\n",
       "      <td>39.0</td>\n",
       "      <td>6.0</td>\n",
       "      <td>6.0</td>\n",
       "      <td>16.0</td>\n",
       "      <td>21.0</td>\n",
       "      <td>308</td>\n",
       "    </tr>\n",
       "  </tbody>\n",
       "</table>\n",
       "</div>"
      ],
      "text/plain": [
       "categ       AUTRE  COTISATION BANCAIRE  COURSES  FACTURE TELEPHONE  LOYER  \\\n",
       "quart_mois                                                                  \n",
       "1            56.0                  7.0      6.0                5.0    NaN   \n",
       "2            45.0                  NaN     11.0                1.0    6.0   \n",
       "3            60.0                  NaN      7.0                NaN    NaN   \n",
       "4            52.0                  NaN     15.0                NaN    NaN   \n",
       "Total       213.0                  7.0     39.0                6.0    6.0   \n",
       "\n",
       "categ       RESTAURANT  TRANSPORT  Total  \n",
       "quart_mois                                \n",
       "1                  3.0        9.0     86  \n",
       "2                  7.0        6.0     76  \n",
       "3                  4.0        4.0     75  \n",
       "4                  2.0        2.0     71  \n",
       "Total             16.0       21.0    308  "
      ]
     },
     "execution_count": 59,
     "metadata": {},
     "output_type": "execute_result"
    }
   ],
   "source": [
    "# Analysez deux variables qualitatives avec le Chi-2\n",
    "\n",
    "X = \"quart_mois\"\n",
    "Y = \"categ\"\n",
    "\n",
    "cont = data[[X,Y]].pivot_table(index=X,columns=Y,aggfunc=len,margins=True,margins_name=\"Total\")\n",
    "cont"
   ]
  },
  {
   "cell_type": "code",
   "execution_count": 61,
   "id": "38eed9a0",
   "metadata": {},
   "outputs": [
    {
     "data": {
      "image/png": "[encoded data removed]",
      "text/plain": [
       "<Figure size 432x288 with 2 Axes>"
      ]
     },
     "metadata": {
      "needs_background": "light"
     },
     "output_type": "display_data"
    },
    {
     "name": "stdout",
     "output_type": "stream",
     "text": [
      "63.11951286262324\n"
     ]
    }
   ],
   "source": [
    "import seaborn as sns\n",
    "\n",
    "tx = cont.loc[:,[\"Total\"]]\n",
    "ty = cont.loc[[\"Total\"],:]\n",
    "n = len(data)\n",
    "indep = tx.dot(ty) / n\n",
    "\n",
    "c = cont.fillna(0) # On remplace les valeurs nulles par 0\n",
    "measure = (c-indep)**2/indep\n",
    "xi_n = measure.sum().sum()\n",
    "table = measure/xi_n\n",
    "sns.heatmap(table.iloc[:-1,:-1],annot=c.iloc[:-1,:-1])\n",
    "plt.show()\n"
   ]
  },
  {
   "cell_type": "code",
   "execution_count": null,
   "id": "505e249a",
   "metadata": {},
   "outputs": [],
   "source": []
  }
 ],
 "metadata": {
  "kernelspec": {
   "display_name": "Python 3 (ipykernel)",
   "language": "python",
   "name": "python3"
  },
  "language_info": {
   "codemirror_mode": {
    "name": "ipython",
    "version": 3
   },
   "file_extension": ".py",
   "mimetype": "text/x-python",
   "name": "python",
   "nbconvert_exporter": "python",
   "pygments_lexer": "ipython3",
   "version": "3.9.12"
  }
 },
 "nbformat": 4,
 "nbformat_minor": 5
}
