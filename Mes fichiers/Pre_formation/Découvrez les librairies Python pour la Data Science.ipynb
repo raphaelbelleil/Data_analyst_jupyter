{
 "cells": [
  {
   "cell_type": "code",
   "execution_count": 1,
   "id": "9cd20c53",
   "metadata": {},
   "outputs": [
    {
     "name": "stdout",
     "output_type": "stream",
     "text": [
      "Hello world\n"
     ]
    }
   ],
   "source": [
    "print ('Hello world')"
   ]
  },
  {
   "cell_type": "code",
   "execution_count": 12,
   "id": "cb4374d3",
   "metadata": {},
   "outputs": [
    {
     "name": "stdout",
     "output_type": "stream",
     "text": [
      "[33, 33, 22, 40, 47, 55, 37, 17, 38, 33, 15, 18, 54, 31, 55, 52, 33, 39, 34, 31]\n",
      "35.85\n"
     ]
    }
   ],
   "source": [
    "import random\n",
    "liste2 = [12,21,35,52]\n",
    "liste1 = [random.randint(10,60) for i in range(20)]\n",
    "print(liste1)\n",
    "moyenneListe1 = sum(liste1)/len(liste1)\n",
    "print(moyenneListe1)"
   ]
  },
  {
   "cell_type": "code",
   "execution_count": 14,
   "id": "8b2333ea",
   "metadata": {},
   "outputs": [
    {
     "data": {
      "text/plain": [
       "2134.4"
      ]
     },
     "execution_count": 14,
     "metadata": {},
     "output_type": "execute_result"
    }
   ],
   "source": [
    "import numpy as np\n",
    "revenus = [1800, 1500, 2200, 3000, 2172]\n",
    "np.mean(revenus)"
   ]
  },
  {
   "cell_type": "code",
   "execution_count": 15,
   "id": "e3fd33e6",
   "metadata": {},
   "outputs": [
    {
     "name": "stdout",
     "output_type": "stream",
     "text": [
      "La valeur absolue:  [2 1 1 2]\n",
      "Exponentielle:  [0.13533528 0.36787944 2.71828183 7.3890561 ]\n",
      "Logarithme:  [0.69314718 0.         0.         0.69314718]\n"
     ]
    }
   ],
   "source": [
    "x = [-2, -1, 1, 2]\n",
    "print(\"La valeur absolue: \", np.abs(x))\n",
    "print(\"Exponentielle: \", np.exp(x))\n",
    "print(\"Logarithme: \", np.log(np.abs(x)))"
   ]
  },
  {
   "cell_type": "code",
   "execution_count": 16,
   "id": "dcd74995",
   "metadata": {},
   "outputs": [
    {
     "data": {
      "text/plain": [
       "array([1800, 1500, 2200, 3000, 2172])"
      ]
     },
     "execution_count": 16,
     "metadata": {},
     "output_type": "execute_result"
    }
   ],
   "source": [
    "revenus_array = np.array(revenus)\n",
    "revenus_array\n",
    "# array([1800, 1500, 2200, 3000, 2172])"
   ]
  },
  {
   "cell_type": "code",
   "execution_count": 17,
   "id": "a3ee173f",
   "metadata": {},
   "outputs": [
    {
     "data": {
      "text/plain": [
       "array([0., 0., 0., 0., 0.])"
      ]
     },
     "execution_count": 17,
     "metadata": {},
     "output_type": "execute_result"
    }
   ],
   "source": [
    "np.zeros(5)"
   ]
  },
  {
   "cell_type": "code",
   "execution_count": null,
   "id": "684b2380",
   "metadata": {},
   "outputs": [],
   "source": [
    "# tableau représentant hugo, richard, émilie selon leur (age, salaire, nombre d'enfant)\n",
    "hugo = [21, 1400, 0]\n",
    "richard = [54, 2800, 2]\n",
    "emilie = [27, 3700, 3]\n",
    "tableau = [hugo, richard, emilie]"
   ]
  }
 ],
 "metadata": {
  "kernelspec": {
   "display_name": "Python 3 (ipykernel)",
   "language": "python",
   "name": "python3"
  },
  "language_info": {
   "codemirror_mode": {
    "name": "ipython",
    "version": 3
   },
   "file_extension": ".py",
   "mimetype": "text/x-python",
   "name": "python",
   "nbconvert_exporter": "python",
   "pygments_lexer": "ipython3",
   "version": "3.9.12"
  }
 },
 "nbformat": 4,
 "nbformat_minor": 5
}
