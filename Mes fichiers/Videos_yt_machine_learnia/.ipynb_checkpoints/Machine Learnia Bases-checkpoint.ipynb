{
 "cells": [
  {
   "cell_type": "markdown",
   "id": "ea3746fe",
   "metadata": {},
   "source": [
    "# Video 2 variables et fonctions"
   ]
  },
  {
   "cell_type": "code",
   "execution_count": 18,
   "id": "e36f5984",
   "metadata": {},
   "outputs": [
    {
     "name": "stdout",
     "output_type": "stream",
     "text": [
      "125\n"
     ]
    }
   ],
   "source": [
    "# f(x) = x^3\n",
    "f = lambda x: x**3\n",
    "print(f(5))"
   ]
  },
  {
   "cell_type": "code",
   "execution_count": 16,
   "id": "c4fd1da1",
   "metadata": {},
   "outputs": [],
   "source": [
    "def e_potentielle(masse, hauteur, e_limite, g=9.81):\n",
    "    E = masse*hauteur*g\n",
    "    if E<e_limite :\n",
    "        print (\"L'énergie est de\",E,'joules')\n",
    "        return(E)\n",
    "    else :\n",
    "        print (\"L'énergie à atteint sa limite, elle est donc de\",e_limite,'joules')\n",
    "        return(e_limite)"
   ]
  },
  {
   "cell_type": "code",
   "execution_count": 19,
   "id": "0a385f19",
   "metadata": {},
   "outputs": [
    {
     "name": "stdout",
     "output_type": "stream",
     "text": [
      "L'énergie à atteint sa limite, elle est donc de 40000 joules\n"
     ]
    },
    {
     "data": {
      "text/plain": [
       "40000"
      ]
     },
     "execution_count": 19,
     "metadata": {},
     "output_type": "execute_result"
    }
   ],
   "source": [
    "e_potentielle(100, 50, 40000)"
   ]
  },
  {
   "cell_type": "markdown",
   "id": "015ea41b",
   "metadata": {},
   "source": [
    "# Video 3 PYTHON IF/ELSE, WHILE, FOR"
   ]
  },
  {
   "cell_type": "code",
   "execution_count": 46,
   "id": "585d3a8e",
   "metadata": {},
   "outputs": [
    {
     "name": "stdout",
     "output_type": "stream",
     "text": [
      "10\n",
      "12\n",
      "14\n",
      "16\n",
      "18\n",
      "20\n",
      "22\n",
      "24\n",
      "26\n",
      "28\n",
      "30\n",
      "32\n",
      "34\n",
      "36\n",
      "38\n",
      "40\n",
      "42\n",
      "44\n",
      "46\n",
      "48\n",
      "50\n",
      "52\n",
      "54\n",
      "56\n",
      "58\n",
      "60\n",
      "62\n",
      "64\n",
      "66\n",
      "68\n",
      "70\n",
      "72\n",
      "74\n",
      "76\n",
      "78\n",
      "80\n",
      "82\n",
      "84\n",
      "86\n",
      "88\n",
      "90\n",
      "92\n",
      "94\n",
      "96\n",
      "98\n"
     ]
    }
   ],
   "source": [
    "sequence_nombre_pair = [i for i in range(10,100,2)]\n",
    "for nombre_pair in sequence_nombre_pair:\n",
    "    print (nombre_pair)"
   ]
  },
  {
   "cell_type": "code",
   "execution_count": 28,
   "id": "9cbed1ef",
   "metadata": {},
   "outputs": [
    {
     "name": "stdout",
     "output_type": "stream",
     "text": [
      "[10, 12, 14, 16, 18, 20, 22, 24, 26, 28, 30, 32, 34, 36, 38, 40, 42, 44, 46, 48, 50, 52, 54, 56, 58, 60, 62, 64, 66, 68, 70, 72, 74, 76, 78, 80, 82, 84, 86, 88, 90, 92, 94, 96, 98]\n"
     ]
    }
   ],
   "source": [
    "# generer une sequence de nombre dans une liste\n",
    "sequence_nombre = [i for i in range(10,100,2)]\n",
    "print (sequence_nombre)"
   ]
  },
  {
   "cell_type": "code",
   "execution_count": null,
   "id": "a38cca02",
   "metadata": {},
   "outputs": [],
   "source": [
    "1\n",
    "1\n",
    "2\n",
    "3\n",
    "5\n",
    "8\n",
    "13"
   ]
  },
  {
   "cell_type": "code",
   "execution_count": 11,
   "id": "2b22c317",
   "metadata": {},
   "outputs": [],
   "source": [
    "def fibonacci1(n) :  \n",
    "    n1=0\n",
    "    n2=1\n",
    "    for i in range(1000):\n",
    "        suivant = n1 + n2\n",
    "        if suivant < n:\n",
    "            print(suivant)\n",
    "        else : break\n",
    "        n1=n2\n",
    "        n2=suivant\n",
    " "
   ]
  },
  {
   "cell_type": "code",
   "execution_count": 12,
   "id": "6c9b6e84",
   "metadata": {},
   "outputs": [
    {
     "name": "stdout",
     "output_type": "stream",
     "text": [
      "1\n",
      "2\n",
      "3\n",
      "5\n",
      "8\n",
      "13\n",
      "21\n",
      "34\n",
      "55\n",
      "89\n",
      "144\n",
      "233\n",
      "377\n"
     ]
    }
   ],
   "source": [
    "fibonacci1(500)"
   ]
  },
  {
   "cell_type": "code",
   "execution_count": null,
   "id": "b9c3eb5c",
   "metadata": {},
   "outputs": [],
   "source": [
    "def fibonacci(n) :\n",
    "    a=0\n",
    "    b=1\n",
    "    while a<n:\n",
    "        print(a)\n",
    "        a, b = b, a+b"
   ]
  },
  {
   "cell_type": "code",
   "execution_count": 10,
   "id": "60c8d09e",
   "metadata": {},
   "outputs": [
    {
     "name": "stdout",
     "output_type": "stream",
     "text": [
      "0\n",
      "1\n",
      "1\n",
      "2\n",
      "3\n",
      "5\n",
      "8\n"
     ]
    }
   ],
   "source": [
    "fibonacci(10)"
   ]
  },
  {
   "cell_type": "markdown",
   "id": "b5e75218",
   "metadata": {},
   "source": [
    "# Video 4 PYTHON LISTES et TUPLES"
   ]
  },
  {
   "cell_type": "code",
   "execution_count": 11,
   "id": "51061d41",
   "metadata": {},
   "outputs": [],
   "source": [
    "liste = ['Paris','Rome','Londres','Berlin']"
   ]
  },
  {
   "cell_type": "code",
   "execution_count": 12,
   "id": "cec97eca",
   "metadata": {},
   "outputs": [
    {
     "data": {
      "text/plain": [
       "4"
      ]
     },
     "execution_count": 12,
     "metadata": {},
     "output_type": "execute_result"
    }
   ],
   "source": [
    "len(liste)"
   ]
  },
  {
   "cell_type": "code",
   "execution_count": 14,
   "id": "45b796f5",
   "metadata": {},
   "outputs": [
    {
     "data": {
      "text/plain": [
       "['Berlin', 'Londres', 'Paris', 'Rome']"
      ]
     },
     "execution_count": 14,
     "metadata": {},
     "output_type": "execute_result"
    }
   ],
   "source": [
    "liste.sort()\n",
    "liste"
   ]
  },
  {
   "cell_type": "code",
   "execution_count": 15,
   "id": "c3fa2a9a",
   "metadata": {},
   "outputs": [
    {
     "data": {
      "text/plain": [
       "['Rome', 'Paris', 'Londres', 'Berlin']"
      ]
     },
     "execution_count": 15,
     "metadata": {},
     "output_type": "execute_result"
    }
   ],
   "source": [
    "liste.sort(reverse=True)\n",
    "liste"
   ]
  },
  {
   "cell_type": "code",
   "execution_count": 16,
   "id": "55f4979b",
   "metadata": {},
   "outputs": [
    {
     "data": {
      "text/plain": [
       "['Rome', 'Paris', 'Londres', 'Berlin', 'Paris']"
      ]
     },
     "execution_count": 16,
     "metadata": {},
     "output_type": "execute_result"
    }
   ],
   "source": [
    "liste.append('Paris')\n",
    "liste"
   ]
  },
  {
   "cell_type": "code",
   "execution_count": 17,
   "id": "48c9afb2",
   "metadata": {},
   "outputs": [
    {
     "data": {
      "text/plain": [
       "2"
      ]
     },
     "execution_count": 17,
     "metadata": {},
     "output_type": "execute_result"
    }
   ],
   "source": [
    "liste.count('Paris')"
   ]
  },
  {
   "cell_type": "code",
   "execution_count": 20,
   "id": "aec6ca54",
   "metadata": {},
   "outputs": [],
   "source": [
    "liste.remove('Paris')"
   ]
  },
  {
   "cell_type": "code",
   "execution_count": 22,
   "id": "bb73abfc",
   "metadata": {},
   "outputs": [
    {
     "data": {
      "text/plain": [
       "['Rome', 'Londres', 'Berlin', 'Paris']"
      ]
     },
     "execution_count": 22,
     "metadata": {},
     "output_type": "execute_result"
    }
   ],
   "source": [
    "liste"
   ]
  },
  {
   "cell_type": "code",
   "execution_count": 23,
   "id": "b1c2818d",
   "metadata": {},
   "outputs": [
    {
     "name": "stdout",
     "output_type": "stream",
     "text": [
      "0 Rome\n",
      "1 Londres\n",
      "2 Berlin\n",
      "3 Paris\n"
     ]
    }
   ],
   "source": [
    "for index, valeur in enumerate(liste):\n",
    "    print (index, valeur)"
   ]
  },
  {
   "cell_type": "code",
   "execution_count": 26,
   "id": "dc7992e7",
   "metadata": {},
   "outputs": [
    {
     "data": {
      "text/plain": [
       "[5, 6, 7, 8, 9]"
      ]
     },
     "execution_count": 26,
     "metadata": {},
     "output_type": "execute_result"
    }
   ],
   "source": [
    "liste2 = [i for i in range(5,10)]\n",
    "liste2"
   ]
  },
  {
   "cell_type": "code",
   "execution_count": 27,
   "id": "28e3a619",
   "metadata": {},
   "outputs": [
    {
     "name": "stdout",
     "output_type": "stream",
     "text": [
      "5 Rome\n",
      "6 Londres\n",
      "7 Berlin\n",
      "8 Paris\n"
     ]
    }
   ],
   "source": [
    "for a,b in zip(liste2, liste):\n",
    "    print (a,b)"
   ]
  },
  {
   "cell_type": "code",
   "execution_count": 50,
   "id": "fb6155ed",
   "metadata": {},
   "outputs": [],
   "source": [
    "def fibonacci(n) :\n",
    "    fibonacci_liste = []\n",
    "    a=0\n",
    "    b=1\n",
    "    while a<n:\n",
    "        fibonacci_liste.append(a)\n",
    "        a, b = b, a+b\n",
    "    return(fibonacci_liste)"
   ]
  },
  {
   "cell_type": "code",
   "execution_count": 51,
   "id": "58482604",
   "metadata": {},
   "outputs": [
    {
     "data": {
      "text/plain": [
       "[0, 1, 1, 2, 3, 5, 8, 13, 21, 34, 55, 89]"
      ]
     },
     "execution_count": 51,
     "metadata": {},
     "output_type": "execute_result"
    }
   ],
   "source": [
    "fibonacci(100)"
   ]
  },
  {
   "cell_type": "markdown",
   "id": "d1b3210b",
   "metadata": {},
   "source": [
    "# Video 5 PYTHON DICTIONNAIRES"
   ]
  },
  {
   "cell_type": "code",
   "execution_count": 14,
   "id": "22286fa2",
   "metadata": {},
   "outputs": [
    {
     "data": {
      "text/plain": [
       "{'bananes': 5000, 'pommes': 2000, 'cerises': 3000, 'melon': 1000}"
      ]
     },
     "execution_count": 14,
     "metadata": {},
     "output_type": "execute_result"
    }
   ],
   "source": [
    "inventaire = {\n",
    "    'bananes' : 5000,\n",
    "    'pommes' : 2000,\n",
    "    'cerises' : 3000,\n",
    "    'melon' : 1000\n",
    "}\n",
    "inventaire"
   ]
  },
  {
   "cell_type": "code",
   "execution_count": 8,
   "id": "ee430674",
   "metadata": {},
   "outputs": [
    {
     "data": {
      "text/plain": [
       "dict_values([5000, 2000, 3000, 1000])"
      ]
     },
     "execution_count": 8,
     "metadata": {},
     "output_type": "execute_result"
    }
   ],
   "source": [
    "inventaire.values()"
   ]
  },
  {
   "cell_type": "code",
   "execution_count": 35,
   "id": "fa980830",
   "metadata": {},
   "outputs": [
    {
     "data": {
      "text/plain": [
       "dict_keys(['bananes', 'pommes', 'cerises', 'melon'])"
      ]
     },
     "execution_count": 35,
     "metadata": {},
     "output_type": "execute_result"
    }
   ],
   "source": [
    "inventaire.keys()"
   ]
  },
  {
   "cell_type": "code",
   "execution_count": 37,
   "id": "9acdb032",
   "metadata": {},
   "outputs": [
    {
     "data": {
      "text/plain": [
       "4"
      ]
     },
     "execution_count": 37,
     "metadata": {},
     "output_type": "execute_result"
    }
   ],
   "source": [
    "len(inventaire)"
   ]
  },
  {
   "cell_type": "code",
   "execution_count": 15,
   "id": "56b2c9f4",
   "metadata": {},
   "outputs": [
    {
     "data": {
      "text/plain": [
       "{'bananes': 5000,\n",
       " 'pommes': 2000,\n",
       " 'cerises': 3000,\n",
       " 'melon': 1000,\n",
       " 'pasteques': 500}"
      ]
     },
     "execution_count": 15,
     "metadata": {},
     "output_type": "execute_result"
    }
   ],
   "source": [
    "inventaire['pasteques']=500\n",
    "inventaire"
   ]
  },
  {
   "cell_type": "code",
   "execution_count": 13,
   "id": "58b4cb3d",
   "metadata": {},
   "outputs": [
    {
     "data": {
      "text/plain": [
       "{'concombre': 1200, 'tomate': 1000, 'poivron': 2000}"
      ]
     },
     "execution_count": 13,
     "metadata": {},
     "output_type": "execute_result"
    }
   ],
   "source": [
    "# créer un dictionnaire à partir de 2 listes \n",
    "legume = ['concombre','tomate','poivron']\n",
    "quantite= [1200,1000,2000]\n",
    "\n",
    "quantite_legume={legume : quantite for legume, quantite in zip(legume, quantite)}\n",
    "quantite_legume"
   ]
  },
  {
   "cell_type": "code",
   "execution_count": 43,
   "id": "2258ca81",
   "metadata": {},
   "outputs": [
    {
     "data": {
      "text/plain": [
       "{'Rome': 'pas renseigné',\n",
       " 'Londres': 'pas renseigné',\n",
       " 'Berlin': 'pas renseigné',\n",
       " 'Paris': 'pas renseigné'}"
      ]
     },
     "execution_count": 43,
     "metadata": {},
     "output_type": "execute_result"
    }
   ],
   "source": [
    "ville = {}\n",
    "ville.fromkeys(liste,'pas renseigné')"
   ]
  },
  {
   "cell_type": "code",
   "execution_count": 16,
   "id": "c572bbbb",
   "metadata": {},
   "outputs": [
    {
     "name": "stdout",
     "output_type": "stream",
     "text": [
      "500\n"
     ]
    },
    {
     "data": {
      "text/plain": [
       "{'bananes': 5000, 'pommes': 2000, 'cerises': 3000, 'melon': 1000}"
      ]
     },
     "execution_count": 16,
     "metadata": {},
     "output_type": "execute_result"
    }
   ],
   "source": [
    "# retire l'association pasteque : 500 du dictionnaire mais enregistre 500 (la valeur) dans fruit\n",
    "fruit = inventaire.pop('pasteques')\n",
    "print (fruit)\n",
    "inventaire"
   ]
  },
  {
   "cell_type": "code",
   "execution_count": 18,
   "id": "4e40c661",
   "metadata": {},
   "outputs": [
    {
     "name": "stdout",
     "output_type": "stream",
     "text": [
      "bananes\n",
      "pommes\n",
      "cerises\n",
      "melon\n"
     ]
    }
   ],
   "source": [
    "for i in inventaire.keys():\n",
    "    print (i)"
   ]
  },
  {
   "cell_type": "code",
   "execution_count": 48,
   "id": "441aff30",
   "metadata": {},
   "outputs": [
    {
     "name": "stdout",
     "output_type": "stream",
     "text": [
      "5000\n",
      "2000\n",
      "3000\n",
      "1000\n"
     ]
    }
   ],
   "source": [
    "for i in inventaire.values() :\n",
    "    print (i)"
   ]
  },
  {
   "cell_type": "code",
   "execution_count": 49,
   "id": "09543e54",
   "metadata": {},
   "outputs": [
    {
     "name": "stdout",
     "output_type": "stream",
     "text": [
      "bananes 5000\n",
      "pommes 2000\n",
      "cerises 3000\n",
      "melon 1000\n"
     ]
    }
   ],
   "source": [
    "for i,j in inventaire.items() :\n",
    "    print (i,j)"
   ]
  },
  {
   "cell_type": "code",
   "execution_count": 38,
   "id": "bd5fb0e4",
   "metadata": {},
   "outputs": [],
   "source": [
    "# Correction\n",
    "classeur = {\n",
    "        \"positif\" : [],\n",
    "        \"negatif\" : []\n",
    "    }\n",
    "def trier(classeur, nombre):    \n",
    "    if nombre > 0 :\n",
    "        classeur[\"positif\"].append(nombre)\n",
    "    elif nombre == 0 : \n",
    "        print (\"Le nombre est nul, pas d'intégration au classeur\")\n",
    "    else : \n",
    "        classeur[\"negatif\"].append(nombre)\n",
    "    return classeur"
   ]
  },
  {
   "cell_type": "code",
   "execution_count": 42,
   "id": "1e15bb36",
   "metadata": {},
   "outputs": [
    {
     "data": {
      "text/plain": [
       "{'positif': [8, 7, 9], 'negatif': [-100]}"
      ]
     },
     "execution_count": 42,
     "metadata": {},
     "output_type": "execute_result"
    }
   ],
   "source": [
    "trier(classeur,-100)"
   ]
  },
  {
   "cell_type": "markdown",
   "id": "0fa7a87d",
   "metadata": {},
   "source": [
    "# Video 6 PYTHON LIST DICT COMPREHENSION"
   ]
  },
  {
   "cell_type": "code",
   "execution_count": 27,
   "id": "24f37b27",
   "metadata": {},
   "outputs": [
    {
     "data": {
      "text/plain": [
       "[0, 1, 2, 3]"
      ]
     },
     "execution_count": 27,
     "metadata": {},
     "output_type": "execute_result"
    }
   ],
   "source": [
    "liste1 = [i for i in range(4)]\n",
    "liste1"
   ]
  },
  {
   "cell_type": "code",
   "execution_count": 4,
   "id": "4eb6c6d0",
   "metadata": {},
   "outputs": [
    {
     "data": {
      "text/plain": [
       "[0, 1, 4, 9, 16, 25, 36, 49, 64, 81]"
      ]
     },
     "execution_count": 4,
     "metadata": {},
     "output_type": "execute_result"
    }
   ],
   "source": [
    "list3=[i**2 for i in range(10)]\n",
    "list3"
   ]
  },
  {
   "cell_type": "code",
   "execution_count": 28,
   "id": "3ae1a13f",
   "metadata": {},
   "outputs": [
    {
     "data": {
      "text/plain": [
       "[[0, 0, 0, 0], [0, 1, 2, 3], [0, 2, 4, 6]]"
      ]
     },
     "execution_count": 28,
     "metadata": {},
     "output_type": "execute_result"
    }
   ],
   "source": [
    "liste2 = [[i*j for i in range(4)] for j in range(3)]\n",
    "liste2"
   ]
  },
  {
   "cell_type": "code",
   "execution_count": 45,
   "id": "b54a261c",
   "metadata": {},
   "outputs": [],
   "source": [
    "prenoms = ['Florian','Marie','Jean','Judith','Raphael']"
   ]
  },
  {
   "cell_type": "code",
   "execution_count": 46,
   "id": "e5fc9df2",
   "metadata": {},
   "outputs": [
    {
     "data": {
      "text/plain": [
       "{0: 'Florian', 1: 'Marie', 2: 'Jean', 3: 'Judith', 4: 'Raphael'}"
      ]
     },
     "execution_count": 46,
     "metadata": {},
     "output_type": "execute_result"
    }
   ],
   "source": [
    "dico_famille_1={k:v for k,v in enumerate(prenoms)}\n",
    "dico_famille_1"
   ]
  },
  {
   "cell_type": "code",
   "execution_count": 30,
   "id": "f8e57db0",
   "metadata": {},
   "outputs": [
    {
     "data": {
      "text/plain": [
       "{0: 'Florian', 1: 'Marie', 2: 'Jean', 3: 'Judith', 4: 'Raphael'}"
      ]
     },
     "execution_count": 30,
     "metadata": {},
     "output_type": "execute_result"
    }
   ],
   "source": [
    "dico = {k:v for k,v in enumerate(prenoms)}\n",
    "dico"
   ]
  },
  {
   "cell_type": "code",
   "execution_count": 47,
   "id": "a70b180a",
   "metadata": {
    "scrolled": true
   },
   "outputs": [
    {
     "data": {
      "text/plain": [
       "{'Florian': 46, 'Marie': 42, 'Jean': 34, 'Judith': 31}"
      ]
     },
     "execution_count": 47,
     "metadata": {},
     "output_type": "execute_result"
    }
   ],
   "source": [
    "ages=[46,42,34,31,27]\n",
    "dico2={ prenom:age for prenom,age in zip(prenoms,ages) if age>30}\n",
    "dico2"
   ]
  },
  {
   "cell_type": "code",
   "execution_count": 48,
   "id": "58817c19",
   "metadata": {},
   "outputs": [
    {
     "data": {
      "text/plain": [
       "{'Florian': 46, 'Marie': 42, 'Jean': 34, 'Judith': 31, 'Raphael': 27}"
      ]
     },
     "execution_count": 48,
     "metadata": {},
     "output_type": "execute_result"
    }
   ],
   "source": [
    "# permet de creer un dictionnaire avec 2 listes\n",
    "dico_famille_2={prenom:age for prenom,age in zip(prenoms,ages)}\n",
    "dico_famille_2"
   ]
  },
  {
   "cell_type": "code",
   "execution_count": 32,
   "id": "4143e28b",
   "metadata": {},
   "outputs": [
    {
     "data": {
      "text/plain": [
       "(0, 1, 4, 9, 16, 25, 36, 49, 64, 81)"
      ]
     },
     "execution_count": 32,
     "metadata": {},
     "output_type": "execute_result"
    }
   ],
   "source": [
    "tuple_1=tuple(i**2 for i in range (10))\n",
    "tuple_1"
   ]
  },
  {
   "cell_type": "code",
   "execution_count": 50,
   "id": "5464df15",
   "metadata": {},
   "outputs": [
    {
     "data": {
      "text/plain": [
       "[0, 1, 2, 3, 4, 5, 6, 7, 8, 9, 10, 11, 12, 13, 14, 15, 16, 17, 18, 19]"
      ]
     },
     "execution_count": 50,
     "metadata": {},
     "output_type": "execute_result"
    }
   ],
   "source": [
    "liste1=[k for k in range (20)]\n",
    "liste1"
   ]
  },
  {
   "cell_type": "code",
   "execution_count": 49,
   "id": "a914f14f",
   "metadata": {},
   "outputs": [
    {
     "data": {
      "text/plain": [
       "[0,\n",
       " 1,\n",
       " 4,\n",
       " 9,\n",
       " 16,\n",
       " 25,\n",
       " 36,\n",
       " 49,\n",
       " 64,\n",
       " 81,\n",
       " 100,\n",
       " 121,\n",
       " 144,\n",
       " 169,\n",
       " 196,\n",
       " 225,\n",
       " 256,\n",
       " 289,\n",
       " 324,\n",
       " 361]"
      ]
     },
     "execution_count": 49,
     "metadata": {},
     "output_type": "execute_result"
    }
   ],
   "source": [
    "liste2=[k**2 for k in range(20)]\n",
    "liste2"
   ]
  },
  {
   "cell_type": "code",
   "execution_count": 56,
   "id": "19c00b66",
   "metadata": {},
   "outputs": [
    {
     "data": {
      "text/plain": [
       "{0: 0,\n",
       " 1: 1,\n",
       " 2: 4,\n",
       " 3: 9,\n",
       " 4: 16,\n",
       " 5: 25,\n",
       " 6: 36,\n",
       " 7: 49,\n",
       " 8: 64,\n",
       " 9: 81,\n",
       " 10: 100,\n",
       " 11: 121,\n",
       " 12: 144,\n",
       " 13: 169,\n",
       " 14: 196,\n",
       " 15: 225,\n",
       " 16: 256,\n",
       " 17: 289,\n",
       " 18: 324,\n",
       " 19: 361}"
      ]
     },
     "execution_count": 56,
     "metadata": {},
     "output_type": "execute_result"
    }
   ],
   "source": [
    "dico = {k : v for k,v in enumerate(v**2 for v in range(20)) }\n",
    "dico"
   ]
  },
  {
   "cell_type": "markdown",
   "id": "4f1ad4df",
   "metadata": {},
   "source": [
    "# Video 7 PYTHON BUILT-IN FUNCTIONS"
   ]
  },
  {
   "cell_type": "code",
   "execution_count": 64,
   "id": "b74f82b6",
   "metadata": {},
   "outputs": [],
   "source": [
    "list(dico)"
   ]
  },
  {
   "cell_type": "code",
   "execution_count": 61,
   "id": "e16456a3",
   "metadata": {},
   "outputs": [
    {
     "data": {
      "text/plain": [
       "True"
      ]
     },
     "execution_count": 61,
     "metadata": {},
     "output_type": "execute_result"
    }
   ],
   "source": [
    "# all renvoie False si un des élements = 0\n",
    "# any renvoie True si au moins un des éléments n'est pas égale à 0\n",
    "all(list3)\n",
    "any(list3)"
   ]
  },
  {
   "cell_type": "code",
   "execution_count": 69,
   "id": "baf5bf09",
   "metadata": {},
   "outputs": [
    {
     "name": "stdout",
     "output_type": "stream",
     "text": [
      "Entrez votre prénomjojo\n"
     ]
    }
   ],
   "source": [
    "prenom = input('Entrez votre prénom',)"
   ]
  },
  {
   "cell_type": "code",
   "execution_count": 76,
   "id": "aa80fc25",
   "metadata": {},
   "outputs": [
    {
     "data": {
      "text/plain": [
       "'il est 14h et nous sommes le 2022-04-12 00:00:00'"
      ]
     },
     "execution_count": 76,
     "metadata": {},
     "output_type": "execute_result"
    }
   ],
   "source": [
    "heure = 14\n",
    "date = '04/12/2022'\n",
    "date=pd.to_datetime(date)\n",
    "message = 'il est {}h et nous sommes le {}'.format(heure,date)\n",
    "message"
   ]
  },
  {
   "cell_type": "code",
   "execution_count": 75,
   "id": "47c67d18",
   "metadata": {},
   "outputs": [
    {
     "name": "stdout",
     "output_type": "stream",
     "text": [
      "<built-in method date of Timestamp object at 0x000001DBC5165970>\n"
     ]
    }
   ],
   "source": []
  },
  {
   "cell_type": "code",
   "execution_count": 81,
   "id": "d2e33628",
   "metadata": {},
   "outputs": [
    {
     "ename": "TypeError",
     "evalue": "an integer is required (got type str)",
     "output_type": "error",
     "traceback": [
      "\u001b[1;31m---------------------------------------------------------------------------\u001b[0m",
      "\u001b[1;31mTypeError\u001b[0m                                 Traceback (most recent call last)",
      "\u001b[1;32m~\\AppData\\Local\\Temp\\ipykernel_16392\\917117502.py\u001b[0m in \u001b[0;36m<module>\u001b[1;34m\u001b[0m\n\u001b[0;32m      2\u001b[0m \u001b[0mheure\u001b[0m \u001b[1;33m=\u001b[0m \u001b[1;36m14\u001b[0m\u001b[1;33m\u001b[0m\u001b[1;33m\u001b[0m\u001b[0m\n\u001b[0;32m      3\u001b[0m \u001b[0mdate\u001b[0m \u001b[1;33m=\u001b[0m \u001b[1;34m'04/12/2022'\u001b[0m\u001b[1;33m\u001b[0m\u001b[1;33m\u001b[0m\u001b[0m\n\u001b[1;32m----> 4\u001b[1;33m \u001b[0mdt\u001b[0m\u001b[1;33m.\u001b[0m\u001b[0mdate\u001b[0m\u001b[1;33m(\u001b[0m\u001b[0mdate\u001b[0m\u001b[1;33m)\u001b[0m\u001b[1;33m\u001b[0m\u001b[1;33m\u001b[0m\u001b[0m\n\u001b[0m\u001b[0;32m      5\u001b[0m \u001b[0mmessage\u001b[0m \u001b[1;33m=\u001b[0m \u001b[1;34mf'il est {heure}h et nous sommes le {date}'\u001b[0m\u001b[1;33m\u001b[0m\u001b[1;33m\u001b[0m\u001b[0m\n\u001b[0;32m      6\u001b[0m \u001b[0mmessage\u001b[0m\u001b[1;33m\u001b[0m\u001b[1;33m\u001b[0m\u001b[0m\n",
      "\u001b[1;31mTypeError\u001b[0m: an integer is required (got type str)"
     ]
    }
   ],
   "source": [
    "import datetime as dt\n",
    "heure = 14\n",
    "date = '04/12/2022'\n",
    "dt.date(date)\n",
    "message = f'il est {heure}h et nous sommes le {date}'\n",
    "message"
   ]
  },
  {
   "cell_type": "code",
   "execution_count": 67,
   "id": "3ba746e6",
   "metadata": {},
   "outputs": [
    {
     "data": {
      "text/plain": [
       "set"
      ]
     },
     "execution_count": 67,
     "metadata": {},
     "output_type": "execute_result"
    }
   ],
   "source": [
    "# type set --> collection non ordonnée\n",
    "set_list3=set(list3)\n",
    "type(set_list3)"
   ]
  },
  {
   "cell_type": "code",
   "execution_count": 76,
   "id": "58d944f1",
   "metadata": {
    "scrolled": true
   },
   "outputs": [
    {
     "data": {
      "text/plain": [
       "datetime.time(19, 51, 41, 544639)"
      ]
     },
     "execution_count": 76,
     "metadata": {},
     "output_type": "execute_result"
    }
   ],
   "source": [
    "from datetime import datetime\n",
    "datetime.now().time()"
   ]
  },
  {
   "cell_type": "markdown",
   "id": "adf4f88c",
   "metadata": {},
   "source": [
    "## # Open"
   ]
  },
  {
   "cell_type": "code",
   "execution_count": 82,
   "id": "8a6fdefc",
   "metadata": {},
   "outputs": [],
   "source": [
    "f = open('fichier.txt', 'w')"
   ]
  },
  {
   "cell_type": "code",
   "execution_count": 83,
   "id": "8cf4b155",
   "metadata": {},
   "outputs": [],
   "source": [
    "f.write('bonjour')\n",
    "f.close()"
   ]
  },
  {
   "cell_type": "code",
   "execution_count": 84,
   "id": "5067dee7",
   "metadata": {},
   "outputs": [
    {
     "name": "stdout",
     "output_type": "stream",
     "text": [
      "bonjour\n"
     ]
    }
   ],
   "source": [
    "f=open('fichier.txt', 'r')\n",
    "print(f.read())\n",
    "f.close()"
   ]
  },
  {
   "cell_type": "code",
   "execution_count": 97,
   "id": "50ad7847",
   "metadata": {},
   "outputs": [],
   "source": [
    "with open('fichier.txt', 'w') as f:\n",
    "    for i in range(10):\n",
    "        f.write(\"{}^2 = {} \\n\".format(i,i**2))"
   ]
  },
  {
   "cell_type": "code",
   "execution_count": 98,
   "id": "11d62901",
   "metadata": {},
   "outputs": [
    {
     "data": {
      "text/plain": [
       "[['0^2 = 0 ',\n",
       "  '1^2 = 1 ',\n",
       "  '2^2 = 4 ',\n",
       "  '3^2 = 9 ',\n",
       "  '4^2 = 16 ',\n",
       "  '5^2 = 25 ',\n",
       "  '6^2 = 36 ',\n",
       "  '7^2 = 49 ',\n",
       "  '8^2 = 64 ',\n",
       "  '9^2 = 81 ']]"
      ]
     },
     "execution_count": 98,
     "metadata": {},
     "output_type": "execute_result"
    }
   ],
   "source": [
    "liste=[]\n",
    "with open('fichier.txt', 'r') as f:\n",
    "    liste.append(f.read().splitlines())\n",
    "liste"
   ]
  },
  {
   "cell_type": "markdown",
   "id": "b6a609c1",
   "metadata": {},
   "source": [
    "# Video 8 PYTHON MODULES ET PACKAGES"
   ]
  },
  {
   "cell_type": "code",
   "execution_count": 5,
   "id": "d0f65b73",
   "metadata": {},
   "outputs": [],
   "source": [
    "import numpy\n",
    "import pandas"
   ]
  },
  {
   "cell_type": "code",
   "execution_count": 6,
   "id": "ef5679f7",
   "metadata": {},
   "outputs": [],
   "source": [
    "# package : paquet de modules"
   ]
  },
  {
   "cell_type": "code",
   "execution_count": 2,
   "id": "585be50c",
   "metadata": {},
   "outputs": [],
   "source": [
    "import math\n",
    "import random\n",
    "import statistics as st\n",
    "import os\n",
    "import glob"
   ]
  },
  {
   "cell_type": "code",
   "execution_count": 101,
   "id": "7dd2446f",
   "metadata": {},
   "outputs": [
    {
     "data": {
      "text/plain": [
       "3.141592653589793"
      ]
     },
     "execution_count": 101,
     "metadata": {},
     "output_type": "execute_result"
    }
   ],
   "source": [
    "math.pi"
   ]
  },
  {
   "cell_type": "code",
   "execution_count": 103,
   "id": "53fd554c",
   "metadata": {},
   "outputs": [
    {
     "data": {
      "text/plain": [
       "1"
      ]
     },
     "execution_count": 103,
     "metadata": {},
     "output_type": "execute_result"
    }
   ],
   "source": [
    "# choici un element aleatoire dans la liste\n",
    "random.choice(list3)"
   ]
  },
  {
   "cell_type": "code",
   "execution_count": 7,
   "id": "ae4d9ac5",
   "metadata": {},
   "outputs": [
    {
     "data": {
      "text/plain": [
       "[64, 49, 16]"
      ]
     },
     "execution_count": 7,
     "metadata": {},
     "output_type": "execute_result"
    }
   ],
   "source": [
    "# l'aléatoire qui suit va toujours être le même\n",
    "random.seed(0)\n",
    "# choisi k elements dans la liste et les replace\n",
    "random.choices(list3, k=3)"
   ]
  },
  {
   "cell_type": "code",
   "execution_count": 9,
   "id": "eed63654",
   "metadata": {},
   "outputs": [
    {
     "data": {
      "text/plain": [
       "[64, 49, 36]"
      ]
     },
     "execution_count": 9,
     "metadata": {},
     "output_type": "execute_result"
    }
   ],
   "source": [
    "random.sample(list3, k=3)"
   ]
  },
  {
   "cell_type": "code",
   "execution_count": 135,
   "id": "ff50d590",
   "metadata": {},
   "outputs": [
    {
     "data": {
      "text/plain": [
       "[81, 1, 36, 64, 25, 16, 0, 4, 49, 9]"
      ]
     },
     "execution_count": 135,
     "metadata": {},
     "output_type": "execute_result"
    }
   ],
   "source": [
    "# melange la liste\n",
    "random.shuffle(list3)\n",
    "list3"
   ]
  },
  {
   "cell_type": "code",
   "execution_count": 158,
   "id": "753f9129",
   "metadata": {},
   "outputs": [
    {
     "data": {
      "text/plain": [
       "[42, 69, 26, 77, 70, 75, 36, 56, 11, 76, 49, 40, 73, 30, 37, 23, 24, 4, 78, 84]"
      ]
     },
     "execution_count": 158,
     "metadata": {},
     "output_type": "execute_result"
    }
   ],
   "source": [
    "random.sample(range(100), 20)"
   ]
  },
  {
   "cell_type": "code",
   "execution_count": 156,
   "id": "b46d710a",
   "metadata": {},
   "outputs": [
    {
     "name": "stdout",
     "output_type": "stream",
     "text": [
      "[11, 10, 40, 65, 62, 13, 38, 70, 37, 90]\n"
     ]
    }
   ],
   "source": [
    "# affiche une liste de 10 nombres aléatoires entre 0 et 100\n",
    "print (random.sample(range(100),10))"
   ]
  },
  {
   "cell_type": "code",
   "execution_count": 147,
   "id": "7045996d",
   "metadata": {},
   "outputs": [
    {
     "name": "stdout",
     "output_type": "stream",
     "text": [
      "[36, 17]\n"
     ]
    }
   ],
   "source": [
    "# affiche une liste de 0 à 10 nombres aléatoires entre 0 et 100\n",
    "print (random.sample(range(100), random.randrange(10)))"
   ]
  },
  {
   "cell_type": "code",
   "execution_count": 160,
   "id": "02fcb992",
   "metadata": {},
   "outputs": [
    {
     "data": {
      "text/plain": [
       "[0, 1, 2, 3, 4, 5, 6, 7, 8, 9, 10, 11, 12, 13, 14, 15, 16, 17, 18, 19]"
      ]
     },
     "execution_count": 160,
     "metadata": {},
     "output_type": "execute_result"
    }
   ],
   "source": [
    "liste=[i for i in range (20)]\n",
    "liste"
   ]
  },
  {
   "cell_type": "code",
   "execution_count": 163,
   "id": "5b87acae",
   "metadata": {},
   "outputs": [
    {
     "data": {
      "text/plain": [
       "[13, 1, 17, 4, 10, 12, 11, 6, 3, 16, 7, 14, 5, 18, 19, 0, 9, 15, 2, 8]"
      ]
     },
     "execution_count": 163,
     "metadata": {},
     "output_type": "execute_result"
    }
   ],
   "source": [
    "random.shuffle(liste)\n",
    "liste"
   ]
  },
  {
   "cell_type": "code",
   "execution_count": 18,
   "id": "1f509bdb",
   "metadata": {},
   "outputs": [
    {
     "name": "stdout",
     "output_type": "stream",
     "text": [
      "[0, 1, 2, 3, 4, 5, 6, 7, 8, 9, 10, 11, 12, 13, 14, 15, 16, 17, 18, 19]\n"
     ]
    }
   ],
   "source": [
    "print (list(i for i in range(20)))"
   ]
  },
  {
   "cell_type": "code",
   "execution_count": 166,
   "id": "b475d8dd",
   "metadata": {},
   "outputs": [
    {
     "data": {
      "text/plain": [
       "'C:\\\\Users\\\\Raphaël\\\\Fichiers Jupyter\\\\Videos_yt_machine_learnia'"
      ]
     },
     "execution_count": 166,
     "metadata": {},
     "output_type": "execute_result"
    }
   ],
   "source": [
    "os.getcwd()"
   ]
  },
  {
   "cell_type": "code",
   "execution_count": 167,
   "id": "7c49198a",
   "metadata": {},
   "outputs": [
    {
     "name": "stdout",
     "output_type": "stream",
     "text": [
      "['fichier.txt', 'Machine Learnia Bases.ipynb']\n"
     ]
    }
   ],
   "source": [
    "print (glob.glob(\"*\"))"
   ]
  },
  {
   "cell_type": "code",
   "execution_count": 165,
   "id": "d168c4d4",
   "metadata": {},
   "outputs": [
    {
     "data": {
      "text/plain": [
       "{'fichier.txt': ['0^2 = 0 ',\n",
       "  '1^2 = 1 ',\n",
       "  '2^2 = 4 ',\n",
       "  '3^2 = 9 ',\n",
       "  '4^2 = 16 ',\n",
       "  '5^2 = 25 ',\n",
       "  '6^2 = 36 ',\n",
       "  '7^2 = 49 ',\n",
       "  '8^2 = 64 ',\n",
       "  '9^2 = 81 ']}"
      ]
     },
     "execution_count": 165,
     "metadata": {},
     "output_type": "execute_result"
    }
   ],
   "source": [
    "filesnames = glob.glob(\"*.txt\")\n",
    "d={}\n",
    "for file in filesnames:\n",
    "    with open(file, 'r') as f:\n",
    "        d[file]=f.read().splitlines()\n",
    "d  "
   ]
  },
  {
   "cell_type": "markdown",
   "id": "d265ae86",
   "metadata": {},
   "source": [
    "# Video 10 PYTHON NUMPY machine learning"
   ]
  },
  {
   "cell_type": "code",
   "execution_count": 1,
   "id": "8998c337",
   "metadata": {},
   "outputs": [],
   "source": [
    "import numpy as np"
   ]
  },
  {
   "cell_type": "code",
   "execution_count": 34,
   "id": "efe646e5",
   "metadata": {},
   "outputs": [
    {
     "data": {
      "text/plain": [
       "array([0, 1, 2, 3, 4, 5, 6, 7, 8, 9])"
      ]
     },
     "execution_count": 34,
     "metadata": {},
     "output_type": "execute_result"
    }
   ],
   "source": [
    "array1 = np.arange(10)\n",
    "array1"
   ]
  },
  {
   "cell_type": "code",
   "execution_count": 35,
   "id": "67b22389",
   "metadata": {},
   "outputs": [
    {
     "data": {
      "text/plain": [
       "numpy.ndarray"
      ]
     },
     "execution_count": 35,
     "metadata": {},
     "output_type": "execute_result"
    }
   ],
   "source": [
    "type(array1)"
   ]
  },
  {
   "cell_type": "code",
   "execution_count": 45,
   "id": "5c826c51",
   "metadata": {},
   "outputs": [
    {
     "data": {
      "text/plain": [
       "array([1, 1, 2])"
      ]
     },
     "execution_count": 45,
     "metadata": {},
     "output_type": "execute_result"
    }
   ],
   "source": [
    "np.random.randint((2,3,4))"
   ]
  },
  {
   "cell_type": "code",
   "execution_count": 46,
   "id": "25227658",
   "metadata": {},
   "outputs": [
    {
     "ename": "AttributeError",
     "evalue": "'numpy.ndarray' object has no attribute 'count'",
     "output_type": "error",
     "traceback": [
      "\u001b[1;31m---------------------------------------------------------------------------\u001b[0m",
      "\u001b[1;31mAttributeError\u001b[0m                            Traceback (most recent call last)",
      "\u001b[1;32m~\\AppData\\Local\\Temp\\ipykernel_5492\\2172181029.py\u001b[0m in \u001b[0;36m<module>\u001b[1;34m\u001b[0m\n\u001b[1;32m----> 1\u001b[1;33m \u001b[0marray1\u001b[0m\u001b[1;33m.\u001b[0m\u001b[0mcount\u001b[0m\u001b[1;33m(\u001b[0m\u001b[1;36m4\u001b[0m\u001b[1;33m)\u001b[0m\u001b[1;33m\u001b[0m\u001b[1;33m\u001b[0m\u001b[0m\n\u001b[0m",
      "\u001b[1;31mAttributeError\u001b[0m: 'numpy.ndarray' object has no attribute 'count'"
     ]
    }
   ],
   "source": [
    "array1.count(4)"
   ]
  },
  {
   "cell_type": "code",
   "execution_count": 70,
   "id": "2ef7471e",
   "metadata": {},
   "outputs": [
    {
     "data": {
      "text/plain": [
       "array([[-1804644368,         550],\n",
       "       [          0,           0],\n",
       "       [          1,          46]])"
      ]
     },
     "execution_count": 70,
     "metadata": {},
     "output_type": "execute_result"
    }
   ],
   "source": [
    "np.ndarray((3,2), dtype=int)"
   ]
  },
  {
   "cell_type": "code",
   "execution_count": 74,
   "id": "a3313d2c",
   "metadata": {},
   "outputs": [
    {
     "data": {
      "text/plain": [
       "array([[-1804644368,         550],\n",
       "       [          0,           0],\n",
       "       [          1,     7667811]])"
      ]
     },
     "execution_count": 74,
     "metadata": {},
     "output_type": "execute_result"
    }
   ],
   "source": [
    "array3 = np.ndarray((3,2), dtype=int)\n",
    "array3"
   ]
  },
  {
   "cell_type": "code",
   "execution_count": 76,
   "id": "61d5f165",
   "metadata": {},
   "outputs": [
    {
     "data": {
      "text/plain": [
       "5"
      ]
     },
     "execution_count": 76,
     "metadata": {},
     "output_type": "execute_result"
    }
   ],
   "source": [
    "array3.argmax()"
   ]
  },
  {
   "cell_type": "code",
   "execution_count": 80,
   "id": "e0edf6a8",
   "metadata": {},
   "outputs": [
    {
     "data": {
      "text/plain": [
       "array([[-1804644368,         550],\n",
       "       [-1804644368,         550],\n",
       "       [-1804644367,     7668361]], dtype=int32)"
      ]
     },
     "execution_count": 80,
     "metadata": {},
     "output_type": "execute_result"
    }
   ],
   "source": [
    "array3.cumsum(axis=0)"
   ]
  },
  {
   "cell_type": "code",
   "execution_count": 87,
   "id": "61640d4f",
   "metadata": {},
   "outputs": [
    {
     "data": {
      "text/plain": [
       "6"
      ]
     },
     "execution_count": 87,
     "metadata": {},
     "output_type": "execute_result"
    }
   ],
   "source": [
    "array3.size"
   ]
  },
  {
   "cell_type": "code",
   "execution_count": 90,
   "id": "a5e9597b",
   "metadata": {},
   "outputs": [
    {
     "data": {
      "text/plain": [
       "(3,)"
      ]
     },
     "execution_count": 90,
     "metadata": {},
     "output_type": "execute_result"
    }
   ],
   "source": [
    "A = np.array([1,2,3])\n",
    "A.shape"
   ]
  },
  {
   "cell_type": "code",
   "execution_count": 94,
   "id": "ecf8eda2",
   "metadata": {},
   "outputs": [
    {
     "data": {
      "text/plain": [
       "array([[ 1.62434536, -0.61175641, -0.52817175, -1.07296862],\n",
       "       [ 0.86540763, -2.3015387 ,  1.74481176, -0.7612069 ],\n",
       "       [ 0.3190391 , -0.24937038,  1.46210794, -2.06014071]])"
      ]
     },
     "execution_count": 94,
     "metadata": {},
     "output_type": "execute_result"
    }
   ],
   "source": [
    "np.random.seed(1)\n",
    "np.random.randn(3,4)"
   ]
  },
  {
   "cell_type": "code",
   "execution_count": 101,
   "id": "8c2dbfcc",
   "metadata": {},
   "outputs": [
    {
     "data": {
      "text/plain": [
       "array([ 0.,  1.,  2.,  3.,  4.,  5.,  6.,  7.,  8.,  9., 10., 11., 12.,\n",
       "       13., 14., 15., 16., 17., 18., 19., 20.])"
      ]
     },
     "execution_count": 101,
     "metadata": {},
     "output_type": "execute_result"
    }
   ],
   "source": [
    "np.linspace(0,20,21)"
   ]
  },
  {
   "cell_type": "code",
   "execution_count": 102,
   "id": "10aa9099",
   "metadata": {},
   "outputs": [
    {
     "data": {
      "text/plain": [
       "array([ 0, 10, 20, 30, 40, 50, 60, 70, 80, 90])"
      ]
     },
     "execution_count": 102,
     "metadata": {},
     "output_type": "execute_result"
    }
   ],
   "source": [
    "np.arange(0,100,10)"
   ]
  },
  {
   "cell_type": "code",
   "execution_count": 3,
   "id": "49ec6d0e",
   "metadata": {},
   "outputs": [],
   "source": [
    "array1=np.random.randn(3,3)"
   ]
  },
  {
   "cell_type": "code",
   "execution_count": 4,
   "id": "19a16df6",
   "metadata": {},
   "outputs": [
    {
     "data": {
      "text/plain": [
       "(3, 3)"
      ]
     },
     "execution_count": 4,
     "metadata": {},
     "output_type": "execute_result"
    }
   ],
   "source": [
    "array1.shape"
   ]
  },
  {
   "cell_type": "code",
   "execution_count": 8,
   "id": "3f276eba",
   "metadata": {},
   "outputs": [
    {
     "data": {
      "text/plain": [
       "array([0., 0., 0.])"
      ]
     },
     "execution_count": 8,
     "metadata": {},
     "output_type": "execute_result"
    }
   ],
   "source": [
    "A = np.zeros(3)\n",
    "A"
   ]
  },
  {
   "cell_type": "code",
   "execution_count": 9,
   "id": "ecc8ec91",
   "metadata": {},
   "outputs": [
    {
     "data": {
      "text/plain": [
       "(3,)"
      ]
     },
     "execution_count": 9,
     "metadata": {},
     "output_type": "execute_result"
    }
   ],
   "source": [
    "A.shape"
   ]
  },
  {
   "cell_type": "code",
   "execution_count": 10,
   "id": "202f591a",
   "metadata": {},
   "outputs": [
    {
     "data": {
      "text/plain": [
       "3"
      ]
     },
     "execution_count": 10,
     "metadata": {},
     "output_type": "execute_result"
    }
   ],
   "source": [
    "A.size"
   ]
  },
  {
   "cell_type": "code",
   "execution_count": 15,
   "id": "fef134a0",
   "metadata": {},
   "outputs": [],
   "source": [
    "B = np.zeros((3,2,2,3))"
   ]
  },
  {
   "cell_type": "code",
   "execution_count": 16,
   "id": "e81ad780",
   "metadata": {},
   "outputs": [
    {
     "data": {
      "text/plain": [
       "4"
      ]
     },
     "execution_count": 16,
     "metadata": {},
     "output_type": "execute_result"
    }
   ],
   "source": [
    "B.ndim"
   ]
  },
  {
   "cell_type": "code",
   "execution_count": 17,
   "id": "c9a7f608",
   "metadata": {},
   "outputs": [
    {
     "data": {
      "text/plain": [
       "(3, 2, 2, 3)"
      ]
     },
     "execution_count": 17,
     "metadata": {},
     "output_type": "execute_result"
    }
   ],
   "source": [
    "B.shape"
   ]
  },
  {
   "cell_type": "code",
   "execution_count": 18,
   "id": "add54d3d",
   "metadata": {},
   "outputs": [
    {
     "data": {
      "text/plain": [
       "36"
      ]
     },
     "execution_count": 18,
     "metadata": {},
     "output_type": "execute_result"
    }
   ],
   "source": [
    "B.size"
   ]
  },
  {
   "cell_type": "code",
   "execution_count": 24,
   "id": "bc61792b",
   "metadata": {},
   "outputs": [
    {
     "data": {
      "text/plain": [
       "array([[ 1.76405235,  0.40015721,  0.97873798],\n",
       "       [ 2.2408932 ,  1.86755799, -0.97727788],\n",
       "       [ 0.95008842, -0.15135721, -0.10321885]])"
      ]
     },
     "execution_count": 24,
     "metadata": {},
     "output_type": "execute_result"
    }
   ],
   "source": [
    "np.random.seed(0)\n",
    "np.random.randn(3,3)"
   ]
  },
  {
   "cell_type": "code",
   "execution_count": 26,
   "id": "2a778069",
   "metadata": {},
   "outputs": [
    {
     "data": {
      "text/plain": [
       "array([[0.87001215, 0.97861834, 0.79915856],\n",
       "       [0.46147936, 0.78052918, 0.11827443],\n",
       "       [0.63992102, 0.14335329, 0.94466892]])"
      ]
     },
     "execution_count": 26,
     "metadata": {},
     "output_type": "execute_result"
    }
   ],
   "source": [
    "np.random.rand(3,3)"
   ]
  },
  {
   "cell_type": "code",
   "execution_count": null,
   "id": "96aff33a",
   "metadata": {},
   "outputs": [],
   "source": []
  }
 ],
 "metadata": {
  "kernelspec": {
   "display_name": "Python 3 (ipykernel)",
   "language": "python",
   "name": "python3"
  },
  "language_info": {
   "codemirror_mode": {
    "name": "ipython",
    "version": 3
   },
   "file_extension": ".py",
   "mimetype": "text/x-python",
   "name": "python",
   "nbconvert_exporter": "python",
   "pygments_lexer": "ipython3",
   "version": "3.9.13"
  }
 },
 "nbformat": 4,
 "nbformat_minor": 5
}
