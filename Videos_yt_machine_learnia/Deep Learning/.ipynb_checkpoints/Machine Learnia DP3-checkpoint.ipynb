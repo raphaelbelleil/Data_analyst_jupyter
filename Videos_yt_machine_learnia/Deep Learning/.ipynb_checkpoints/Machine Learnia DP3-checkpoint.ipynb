{
 "cells": [
  {
   "cell_type": "code",
   "execution_count": 245,
   "id": "5b55112c",
   "metadata": {},
   "outputs": [],
   "source": [
    "import pandas as pd\n",
    "import numpy as np\n",
    "import matplotlib.pyplot as plt\n",
    "import seaborn as sns\n",
    "from sklearn.datasets import make_regression, make_classification, make_blobs, make_circles\n",
    "from sklearn.metrics import accuracy_score, confusion_matrix, ConfusionMatrixDisplay, classification_report, log_loss\n",
    "from sklearn.model_selection import train_test_split"
   ]
  },
  {
   "cell_type": "code",
   "execution_count": 246,
   "id": "e64c0d70",
   "metadata": {},
   "outputs": [],
   "source": [
    "from tqdm import tqdm"
   ]
  },
  {
   "cell_type": "markdown",
   "id": "4d9517c9",
   "metadata": {},
   "source": [
    "# RÉSEAU DE NEURONES (2 COUCHES)"
   ]
  },
  {
   "cell_type": "code",
   "execution_count": 247,
   "id": "ffc0be7d",
   "metadata": {},
   "outputs": [
    {
     "ename": "TypeError",
     "evalue": "'tuple' object does not support item assignment",
     "output_type": "error",
     "traceback": [
      "\u001b[1;31m---------------------------------------------------------------------------\u001b[0m",
      "\u001b[1;31mTypeError\u001b[0m                                 Traceback (most recent call last)",
      "Cell \u001b[1;32mIn[247], line 7\u001b[0m\n\u001b[0;32m      5\u001b[0m C\u001b[38;5;241m=\u001b[39m(c,n)\n\u001b[0;32m      6\u001b[0m \u001b[38;5;28;01mfor\u001b[39;00m couche \u001b[38;5;129;01min\u001b[39;00m \u001b[38;5;28mrange\u001b[39m(C[\u001b[38;5;241m0\u001b[39m]):\n\u001b[1;32m----> 7\u001b[0m     parametres[\u001b[38;5;124mf\u001b[39m\u001b[38;5;124m'\u001b[39m\u001b[38;5;124mW\u001b[39m\u001b[38;5;132;01m{\u001b[39;00mcouche\u001b[38;5;241m+\u001b[39m\u001b[38;5;241m2\u001b[39m\u001b[38;5;132;01m}\u001b[39;00m\u001b[38;5;124m'\u001b[39m] \u001b[38;5;241m=\u001b[39m couche\u001b[38;5;241m+\u001b[39m\u001b[38;5;241m1\u001b[39m\n",
      "\u001b[1;31mTypeError\u001b[0m: 'tuple' object does not support item assignment"
     ]
    }
   ],
   "source": [
    "# nb de couches et neuronnes par couche\n",
    "# 3 couches et 4 neuronnes par couche\n",
    "c=3\n",
    "n=3\n",
    "C=(c,n)\n",
    "for couche in range(C[0]):\n",
    "    parametres[f'W{couche+2}'] = couche+1"
   ]
  },
  {
   "cell_type": "code",
   "execution_count": 248,
   "id": "b60acf5c",
   "metadata": {},
   "outputs": [],
   "source": [
    "X, y = make_circles(n_samples=1000, noise=0.1, factor=0.3, random_state=0)\n",
    "\n",
    "X = X.T\n",
    "y = y.reshape((1, y.shape[0]))"
   ]
  },
  {
   "cell_type": "code",
   "execution_count": 249,
   "id": "7c8cb490",
   "metadata": {},
   "outputs": [
    {
     "data": {
      "text/plain": [
       "(2, 1000)"
      ]
     },
     "execution_count": 249,
     "metadata": {},
     "output_type": "execute_result"
    }
   ],
   "source": [
    "X.shape"
   ]
  },
  {
   "cell_type": "code",
   "execution_count": 250,
   "id": "b1ab6c4a",
   "metadata": {},
   "outputs": [],
   "source": [
    "def initialisation(X, y, C=(c,n)):\n",
    "    \n",
    "    parametres = {}\n",
    "    \n",
    "    # initialisation 1ere couche\n",
    "    parametres['W1'] = np.random.randn(C[1], X.shape[0])\n",
    "    parametres['b1'] = np.random.randn(C[1], 1)\n",
    "    \n",
    "    # creation des couches intermédiaires\n",
    "    for couche in range(2, C[0]):\n",
    "        parametres[f'W{couche}'] = np.random.randn(C[1], C[1])\n",
    "        parametres[f'b{couche}'] = np.random.randn(C[1], 1)\n",
    "    \n",
    "    # creation couche de sortie\n",
    "    parametres[f'W{C[0]}'] = np.random.randn(y.shape[0], C[1])\n",
    "    parametres[f'b{C[0]}'] = np.random.randn(y.shape[0], 1)\n",
    "    \n",
    "    \n",
    "    return parametres, C"
   ]
  },
  {
   "cell_type": "code",
   "execution_count": 257,
   "id": "466f0e65",
   "metadata": {},
   "outputs": [
    {
     "name": "stdout",
     "output_type": "stream",
     "text": [
      "(2, 2)\n",
      "(2, 1)\n",
      "(2, 2)\n",
      "(2, 1)\n",
      "(1, 2)\n",
      "(1, 1)\n"
     ]
    }
   ],
   "source": [
    "parametres = initialisation(X, y, C=(3,2))\n",
    "\n",
    "for e in parametres[0].values():\n",
    "    print(e.shape)"
   ]
  },
  {
   "cell_type": "code",
   "execution_count": 258,
   "id": "b3ba6098",
   "metadata": {},
   "outputs": [],
   "source": [
    "def forward_propagation(X, parametres):\n",
    "    \n",
    "    # declaration dictionnaire activations\n",
    "    activations = {}\n",
    "    \n",
    "    # activation 1 egale à X\n",
    "    A = X\n",
    "    \n",
    "    \n",
    "    for couche in range(1, 1+parametres[1][0]):\n",
    "        Z = parametres[0][f\"W{couche}\"].dot(A) + parametres[0][f\"b{couche}\"]\n",
    "        A = 1 / (1 + np.exp(-Z))\n",
    "        \n",
    "        activations[f'A{couche}'] = A\n",
    "    \n",
    "    return activations"
   ]
  },
  {
   "cell_type": "code",
   "execution_count": 259,
   "id": "48bab5c5",
   "metadata": {},
   "outputs": [
    {
     "name": "stdout",
     "output_type": "stream",
     "text": [
      "(2, 1000)\n",
      "(2, 1000)\n",
      "(1, 1000)\n"
     ]
    }
   ],
   "source": [
    "activations = forward_propagation(X, parametres)\n",
    "for e in activations.values():\n",
    "    print(e.shape)"
   ]
  },
  {
   "cell_type": "code",
   "execution_count": 228,
   "id": "a1f74c7a",
   "metadata": {},
   "outputs": [],
   "source": [
    "#def log_loss(A2, y):\n",
    "    #return 1 / len(y) * np.sum(-y * np.log(A2) - (1 - y) * np.log(1 - A2))"
   ]
  },
  {
   "cell_type": "code",
   "execution_count": 260,
   "id": "9ef905a9",
   "metadata": {},
   "outputs": [],
   "source": [
    "def back_propagation(parametres, activations, X, y):\n",
    "    \n",
    "    m = y.shape[1]\n",
    "    \n",
    "    gradients = {}\n",
    "    \n",
    "    # dZ = A - y ou A est la derniere activation dans ce cas \n",
    "    A = activations[f'A{parametres[1][0]}']\n",
    "    dZ = A - y\n",
    "    \n",
    "    for couche in range(parametres[1][0], 0, -1):\n",
    "        # activation couche inférieur\n",
    "        if couche == 1 : \n",
    "            A=X\n",
    "        else : \n",
    "            A = activations[f'A{couche-1}']\n",
    "        # paramètre couche en cours\n",
    "        W = parametres[0][f\"W{couche}\"]\n",
    "        \n",
    "        # gradient couche en cours\n",
    "        dW = (1/m) * dZ.dot(A.T)\n",
    "        db = (1/m) * np.sum(dZ, axis=1, keepdims=True)\n",
    "        \n",
    "        gradients[f'dW{couche}'] = dW\n",
    "        gradients[f'db{couche}'] = db\n",
    "        \n",
    "        # dZ couche inférieur\n",
    "        dZ = W.T.dot(dZ) * A * (1-A)\n",
    "\n",
    "    \n",
    "    return gradients"
   ]
  },
  {
   "cell_type": "code",
   "execution_count": 261,
   "id": "5964ecef",
   "metadata": {},
   "outputs": [
    {
     "data": {
      "text/plain": [
       "{'dW3': array([[-0.16991891, -0.07541622]]),\n",
       " 'db3': array([[-0.22339631]]),\n",
       " 'dW2': array([[ 0.00862585,  0.0261488 ],\n",
       "        [-0.0103019 , -0.0302965 ]]),\n",
       " 'db2': array([[ 0.03957944],\n",
       "        [-0.04663238]]),\n",
       " 'dW1': array([[-2.51052458e-04, -7.39588111e-05],\n",
       "        [-2.07064744e-05, -6.21970919e-05]]),\n",
       " 'db1': array([[-0.00137543],\n",
       "        [-0.01499056]])}"
      ]
     },
     "execution_count": 261,
     "metadata": {},
     "output_type": "execute_result"
    }
   ],
   "source": [
    "gradients"
   ]
  },
  {
   "cell_type": "code",
   "execution_count": 262,
   "id": "ca84b4d1",
   "metadata": {},
   "outputs": [
    {
     "name": "stdout",
     "output_type": "stream",
     "text": [
      "(1, 2)\n",
      "(2, 2)\n",
      "____________________________________________________________________________________________________\n",
      "(1, 1)\n",
      "(2, 1)\n",
      "____________________________________________________________________________________________________\n",
      "(2, 2)\n",
      "(2, 2)\n",
      "____________________________________________________________________________________________________\n",
      "(2, 1)\n",
      "(2, 1)\n",
      "____________________________________________________________________________________________________\n",
      "(2, 2)\n",
      "(1, 2)\n",
      "____________________________________________________________________________________________________\n",
      "(2, 1)\n",
      "(1, 1)\n",
      "____________________________________________________________________________________________________\n"
     ]
    }
   ],
   "source": [
    "gradients = back_propagation(parametres, activations, X, y)\n",
    "for e, i in zip(gradients.values(), parametres[0].values()):\n",
    "    print(e.shape)\n",
    "    print(i.shape)\n",
    "    print('_'*100)"
   ]
  },
  {
   "cell_type": "code",
   "execution_count": 271,
   "id": "c99e321e",
   "metadata": {},
   "outputs": [],
   "source": [
    "def update(gradients, parametres, learning_rate):\n",
    "    \n",
    "    for couche in range(1, 1+parametres[1][0]):\n",
    "        parametres[0][f\"W{couche}\"] = parametres[0][f\"W{couche}\"] - learning_rate * gradients[f'dW{couche}']\n",
    "        parametres[0][f\"b{couche}\"] = parametres[0][f\"b{couche}\"] - learning_rate * gradients[f'db{couche}']\n",
    "    \n",
    "    return parametres"
   ]
  },
  {
   "cell_type": "code",
   "execution_count": 272,
   "id": "cea4d439",
   "metadata": {},
   "outputs": [],
   "source": [
    "def predict(X, parametres):\n",
    "    \n",
    "    activations = forward_propagation(X, parametres)\n",
    "    A = activations[f'A{parametres[1][0]}']\n",
    "    \n",
    "    return A >= 0.5"
   ]
  },
  {
   "cell_type": "code",
   "execution_count": 273,
   "id": "047df20c",
   "metadata": {},
   "outputs": [],
   "source": [
    "def neural_network(X, y, C=(c,n), learning_rate = 0.1, n_iter = 1000):\n",
    "\n",
    "    \n",
    "    parametres = initialisation(X, y, C=(c,n))\n",
    "    \n",
    "\n",
    "    train_loss = []\n",
    "    train_acc = []\n",
    "\n",
    "    for i in tqdm(range(n_iter)):\n",
    "        \n",
    "        activations = forward_propagation(X, parametres)\n",
    "        gradients = back_propagation(parametres, activations, X, y)\n",
    "        parametres = update(gradients, parametres, learning_rate)\n",
    "    \n",
    "        A_fin = activations[f\"A{c}\"]\n",
    "        \n",
    "        if i %10 == 0:\n",
    "            # Train\n",
    "            train_loss.append(log_loss(y, A_fin))\n",
    "            y_pred = predict(X, parametres)\n",
    "            train_acc.append(accuracy_score(y.flatten(), y_pred.flatten()))\n",
    "\n",
    "\n",
    "\n",
    "    plt.figure(figsize=(12, 4))\n",
    "    plt.subplot(1, 2, 1)\n",
    "    plt.plot(train_loss, label='train loss')\n",
    "    plt.legend()\n",
    "    plt.subplot(1, 2, 2)\n",
    "    plt.plot(train_acc, label='train acc')\n",
    "    plt.legend()\n",
    "    plt.show()\n",
    "    \n",
    "\n",
    "    return parametres"
   ]
  },
  {
   "cell_type": "code",
   "execution_count": 274,
   "id": "e9e71cc0",
   "metadata": {},
   "outputs": [],
   "source": [
    "def evaluation(X_test, y_test, parametres):\n",
    "    # y_pred du jeu de test avec les paramètres finaux\n",
    "    y_pred = predict(X_test, parametres)\n",
    "    \n",
    "    # accuracy score et matrice de confusion\n",
    "    accuracy_test = accuracy_score(y_test.T, y_pred.T)\n",
    "    \n",
    "    # crosstab\n",
    "    crosstab = pd.crosstab(y_test, y_pred.astype('int'))\n",
    "    crosstab.index = ['test 0', 'test 1']\n",
    "    crosstab.columns = ['pred 0', 'pred 1']\n",
    "    crosstab = crosstab.T\n",
    "    \n",
    "    print(f\"L'accuracy sur le jeu de test est de {accuracy_test}\")\n",
    "    return crosstab"
   ]
  },
  {
   "cell_type": "markdown",
   "id": "3b087f94",
   "metadata": {},
   "source": [
    "## Test avec un cercle"
   ]
  },
  {
   "cell_type": "code",
   "execution_count": 275,
   "id": "3b3f74d4",
   "metadata": {},
   "outputs": [],
   "source": [
    "X, y = make_circles(n_samples=1000, noise=0.1, factor=0.3, random_state=0)"
   ]
  },
  {
   "cell_type": "code",
   "execution_count": 276,
   "id": "aee58744",
   "metadata": {},
   "outputs": [],
   "source": [
    "X_train, X_test, y_train, y_test = train_test_split(X, y, test_size=0.2, random_state=1)"
   ]
  },
  {
   "cell_type": "code",
   "execution_count": 277,
   "id": "30d2691a",
   "metadata": {},
   "outputs": [],
   "source": [
    "X_train = X_train.T\n",
    "X_test = X_test.T\n",
    "y_train = y_train.reshape((1, y_train.shape[0]))\n",
    "y_test = y_test.reshape((1, y_test.shape[0]))"
   ]
  },
  {
   "cell_type": "code",
   "execution_count": 294,
   "id": "d6165d30",
   "metadata": {},
   "outputs": [
    {
     "name": "stderr",
     "output_type": "stream",
     "text": [
      "100%|████████████████████████████████████████████████████████████████████████| 100000/100000 [00:45<00:00, 2196.08it/s]\n"
     ]
    },
    {
     "data": {
      "image/png": "[encoded data removed]",
      "text/plain": [
       "<Figure size 1200x400 with 2 Axes>"
      ]
     },
     "metadata": {},
     "output_type": "display_data"
    },
    {
     "data": {
      "text/plain": [
       "({'W1': array([[ 2.05427328, -5.95074872],\n",
       "         [ 3.61877603,  4.3072438 ],\n",
       "         [-5.60256753,  1.10455748]]),\n",
       "  'b1': array([[-3.10000714],\n",
       "         [-2.88983149],\n",
       "         [-2.96246055]]),\n",
       "  'W2': array([[-3.05580041e+00, -3.07664934e+00, -2.65685479e+00],\n",
       "         [-1.34556110e+00, -4.56507251e-04, -2.59294194e+00],\n",
       "         [ 5.10166801e+00,  5.59605346e+00,  5.01122072e+00]]),\n",
       "  'b2': array([[ 1.72905001],\n",
       "         [ 1.28170442],\n",
       "         [-3.24210675]]),\n",
       "  'W3': array([[  5.87795712,   2.836059  , -10.1376601 ]]),\n",
       "  'b3': array([[0.48174524]])},\n",
       " (3, 3))"
      ]
     },
     "execution_count": 294,
     "metadata": {},
     "output_type": "execute_result"
    }
   ],
   "source": [
    "neural_network(X=X_train, y=y_train, C=(6,10), learning_rate = 0.01, n_iter = 100000)"
   ]
  },
  {
   "cell_type": "code",
   "execution_count": 295,
   "id": "e0c9b342",
   "metadata": {},
   "outputs": [
    {
     "data": {
      "text/plain": [
       "array([[ True,  True,  True,  True,  True,  True,  True,  True,  True,\n",
       "         True,  True,  True,  True,  True,  True,  True,  True,  True,\n",
       "         True,  True,  True,  True,  True,  True,  True,  True,  True,\n",
       "         True,  True,  True,  True,  True,  True,  True,  True,  True,\n",
       "         True,  True,  True,  True,  True,  True,  True,  True,  True,\n",
       "         True,  True,  True,  True,  True,  True,  True,  True,  True,\n",
       "         True,  True,  True,  True,  True,  True,  True,  True,  True,\n",
       "         True,  True,  True,  True,  True,  True,  True,  True,  True,\n",
       "         True,  True,  True,  True,  True,  True,  True,  True,  True,\n",
       "         True,  True,  True,  True,  True,  True,  True,  True,  True,\n",
       "         True,  True,  True,  True,  True,  True,  True,  True,  True,\n",
       "         True,  True,  True,  True,  True,  True,  True,  True,  True,\n",
       "         True,  True,  True,  True,  True,  True,  True,  True,  True,\n",
       "         True,  True,  True,  True,  True,  True,  True,  True,  True,\n",
       "         True,  True,  True,  True,  True,  True,  True,  True,  True,\n",
       "         True,  True,  True,  True,  True,  True,  True,  True,  True,\n",
       "         True,  True,  True,  True,  True,  True,  True,  True,  True,\n",
       "         True,  True,  True,  True,  True,  True,  True,  True,  True,\n",
       "         True,  True,  True,  True,  True,  True,  True,  True,  True,\n",
       "         True,  True,  True,  True,  True,  True,  True,  True,  True,\n",
       "         True,  True,  True,  True,  True,  True,  True,  True,  True,\n",
       "         True,  True,  True,  True,  True,  True,  True,  True,  True,\n",
       "         True,  True]])"
      ]
     },
     "execution_count": 295,
     "metadata": {},
     "output_type": "execute_result"
    }
   ],
   "source": [
    "predict(X_test, parametres)"
   ]
  },
  {
   "cell_type": "code",
   "execution_count": 298,
   "id": "d2234325",
   "metadata": {},
   "outputs": [
    {
     "ename": "ValueError",
     "evalue": "Length mismatch: Expected axis has 1 elements, new values have 2 elements",
     "output_type": "error",
     "traceback": [
      "\u001b[1;31m---------------------------------------------------------------------------\u001b[0m",
      "\u001b[1;31mValueError\u001b[0m                                Traceback (most recent call last)",
      "Cell \u001b[1;32mIn[298], line 1\u001b[0m\n\u001b[1;32m----> 1\u001b[0m \u001b[43mevaluation\u001b[49m\u001b[43m(\u001b[49m\u001b[43mX_test\u001b[49m\u001b[43m,\u001b[49m\u001b[43m \u001b[49m\u001b[43my_test\u001b[49m\u001b[43m,\u001b[49m\u001b[43m \u001b[49m\u001b[43mparametres\u001b[49m\u001b[43m)\u001b[49m\n",
      "Cell \u001b[1;32mIn[274], line 11\u001b[0m, in \u001b[0;36mevaluation\u001b[1;34m(X_test, y_test, parametres)\u001b[0m\n\u001b[0;32m      9\u001b[0m crosstab \u001b[38;5;241m=\u001b[39m pd\u001b[38;5;241m.\u001b[39mcrosstab(y_test, y_pred\u001b[38;5;241m.\u001b[39mastype(\u001b[38;5;124m'\u001b[39m\u001b[38;5;124mint\u001b[39m\u001b[38;5;124m'\u001b[39m))\n\u001b[0;32m     10\u001b[0m crosstab\u001b[38;5;241m.\u001b[39mindex \u001b[38;5;241m=\u001b[39m [\u001b[38;5;124m'\u001b[39m\u001b[38;5;124mtest 0\u001b[39m\u001b[38;5;124m'\u001b[39m, \u001b[38;5;124m'\u001b[39m\u001b[38;5;124mtest 1\u001b[39m\u001b[38;5;124m'\u001b[39m]\n\u001b[1;32m---> 11\u001b[0m crosstab\u001b[38;5;241m.\u001b[39mcolumns \u001b[38;5;241m=\u001b[39m [\u001b[38;5;124m'\u001b[39m\u001b[38;5;124mpred 0\u001b[39m\u001b[38;5;124m'\u001b[39m, \u001b[38;5;124m'\u001b[39m\u001b[38;5;124mpred 1\u001b[39m\u001b[38;5;124m'\u001b[39m]\n\u001b[0;32m     12\u001b[0m crosstab \u001b[38;5;241m=\u001b[39m crosstab\u001b[38;5;241m.\u001b[39mT\n\u001b[0;32m     14\u001b[0m \u001b[38;5;28mprint\u001b[39m(\u001b[38;5;124mf\u001b[39m\u001b[38;5;124m\"\u001b[39m\u001b[38;5;124mL\u001b[39m\u001b[38;5;124m'\u001b[39m\u001b[38;5;124maccuracy sur le jeu de test est de \u001b[39m\u001b[38;5;132;01m{\u001b[39;00maccuracy_test\u001b[38;5;132;01m}\u001b[39;00m\u001b[38;5;124m\"\u001b[39m)\n",
      "File \u001b[1;32mC:\\ProgramData\\Anaconda3\\lib\\site-packages\\pandas\\core\\generic.py:5915\u001b[0m, in \u001b[0;36mNDFrame.__setattr__\u001b[1;34m(self, name, value)\u001b[0m\n\u001b[0;32m   5913\u001b[0m \u001b[38;5;28;01mtry\u001b[39;00m:\n\u001b[0;32m   5914\u001b[0m     \u001b[38;5;28mobject\u001b[39m\u001b[38;5;241m.\u001b[39m\u001b[38;5;21m__getattribute__\u001b[39m(\u001b[38;5;28mself\u001b[39m, name)\n\u001b[1;32m-> 5915\u001b[0m     \u001b[38;5;28;01mreturn\u001b[39;00m \u001b[38;5;28;43mobject\u001b[39;49m\u001b[38;5;241;43m.\u001b[39;49m\u001b[38;5;21;43m__setattr__\u001b[39;49m\u001b[43m(\u001b[49m\u001b[38;5;28;43mself\u001b[39;49m\u001b[43m,\u001b[49m\u001b[43m \u001b[49m\u001b[43mname\u001b[49m\u001b[43m,\u001b[49m\u001b[43m \u001b[49m\u001b[43mvalue\u001b[49m\u001b[43m)\u001b[49m\n\u001b[0;32m   5916\u001b[0m \u001b[38;5;28;01mexcept\u001b[39;00m \u001b[38;5;167;01mAttributeError\u001b[39;00m:\n\u001b[0;32m   5917\u001b[0m     \u001b[38;5;28;01mpass\u001b[39;00m\n",
      "File \u001b[1;32mC:\\ProgramData\\Anaconda3\\lib\\site-packages\\pandas\\_libs\\properties.pyx:69\u001b[0m, in \u001b[0;36mpandas._libs.properties.AxisProperty.__set__\u001b[1;34m()\u001b[0m\n",
      "File \u001b[1;32mC:\\ProgramData\\Anaconda3\\lib\\site-packages\\pandas\\core\\generic.py:823\u001b[0m, in \u001b[0;36mNDFrame._set_axis\u001b[1;34m(self, axis, labels)\u001b[0m\n\u001b[0;32m    821\u001b[0m \u001b[38;5;28;01mdef\u001b[39;00m \u001b[38;5;21m_set_axis\u001b[39m(\u001b[38;5;28mself\u001b[39m, axis: \u001b[38;5;28mint\u001b[39m, labels: AnyArrayLike \u001b[38;5;241m|\u001b[39m \u001b[38;5;28mlist\u001b[39m) \u001b[38;5;241m-\u001b[39m\u001b[38;5;241m>\u001b[39m \u001b[38;5;28;01mNone\u001b[39;00m:\n\u001b[0;32m    822\u001b[0m     labels \u001b[38;5;241m=\u001b[39m ensure_index(labels)\n\u001b[1;32m--> 823\u001b[0m     \u001b[38;5;28;43mself\u001b[39;49m\u001b[38;5;241;43m.\u001b[39;49m\u001b[43m_mgr\u001b[49m\u001b[38;5;241;43m.\u001b[39;49m\u001b[43mset_axis\u001b[49m\u001b[43m(\u001b[49m\u001b[43maxis\u001b[49m\u001b[43m,\u001b[49m\u001b[43m \u001b[49m\u001b[43mlabels\u001b[49m\u001b[43m)\u001b[49m\n\u001b[0;32m    824\u001b[0m     \u001b[38;5;28mself\u001b[39m\u001b[38;5;241m.\u001b[39m_clear_item_cache()\n",
      "File \u001b[1;32mC:\\ProgramData\\Anaconda3\\lib\\site-packages\\pandas\\core\\internals\\managers.py:230\u001b[0m, in \u001b[0;36mBaseBlockManager.set_axis\u001b[1;34m(self, axis, new_labels)\u001b[0m\n\u001b[0;32m    228\u001b[0m \u001b[38;5;28;01mdef\u001b[39;00m \u001b[38;5;21mset_axis\u001b[39m(\u001b[38;5;28mself\u001b[39m, axis: \u001b[38;5;28mint\u001b[39m, new_labels: Index) \u001b[38;5;241m-\u001b[39m\u001b[38;5;241m>\u001b[39m \u001b[38;5;28;01mNone\u001b[39;00m:\n\u001b[0;32m    229\u001b[0m     \u001b[38;5;66;03m# Caller is responsible for ensuring we have an Index object.\u001b[39;00m\n\u001b[1;32m--> 230\u001b[0m     \u001b[38;5;28;43mself\u001b[39;49m\u001b[38;5;241;43m.\u001b[39;49m\u001b[43m_validate_set_axis\u001b[49m\u001b[43m(\u001b[49m\u001b[43maxis\u001b[49m\u001b[43m,\u001b[49m\u001b[43m \u001b[49m\u001b[43mnew_labels\u001b[49m\u001b[43m)\u001b[49m\n\u001b[0;32m    231\u001b[0m     \u001b[38;5;28mself\u001b[39m\u001b[38;5;241m.\u001b[39maxes[axis] \u001b[38;5;241m=\u001b[39m new_labels\n",
      "File \u001b[1;32mC:\\ProgramData\\Anaconda3\\lib\\site-packages\\pandas\\core\\internals\\base.py:70\u001b[0m, in \u001b[0;36mDataManager._validate_set_axis\u001b[1;34m(self, axis, new_labels)\u001b[0m\n\u001b[0;32m     67\u001b[0m     \u001b[38;5;28;01mpass\u001b[39;00m\n\u001b[0;32m     69\u001b[0m \u001b[38;5;28;01melif\u001b[39;00m new_len \u001b[38;5;241m!=\u001b[39m old_len:\n\u001b[1;32m---> 70\u001b[0m     \u001b[38;5;28;01mraise\u001b[39;00m \u001b[38;5;167;01mValueError\u001b[39;00m(\n\u001b[0;32m     71\u001b[0m         \u001b[38;5;124mf\u001b[39m\u001b[38;5;124m\"\u001b[39m\u001b[38;5;124mLength mismatch: Expected axis has \u001b[39m\u001b[38;5;132;01m{\u001b[39;00mold_len\u001b[38;5;132;01m}\u001b[39;00m\u001b[38;5;124m elements, new \u001b[39m\u001b[38;5;124m\"\u001b[39m\n\u001b[0;32m     72\u001b[0m         \u001b[38;5;124mf\u001b[39m\u001b[38;5;124m\"\u001b[39m\u001b[38;5;124mvalues have \u001b[39m\u001b[38;5;132;01m{\u001b[39;00mnew_len\u001b[38;5;132;01m}\u001b[39;00m\u001b[38;5;124m elements\u001b[39m\u001b[38;5;124m\"\u001b[39m\n\u001b[0;32m     73\u001b[0m     )\n",
      "\u001b[1;31mValueError\u001b[0m: Length mismatch: Expected axis has 1 elements, new values have 2 elements"
     ]
    }
   ],
   "source": [
    "evaluation(X_test, y_test, parametres)"
   ]
  },
  {
   "cell_type": "markdown",
   "id": "b2486b40",
   "metadata": {},
   "source": [
    "## Test sur les photos de chiens et chats"
   ]
  },
  {
   "cell_type": "code",
   "execution_count": 159,
   "id": "4265678f",
   "metadata": {},
   "outputs": [],
   "source": [
    "import h5py\n",
    "import utilities"
   ]
  },
  {
   "cell_type": "code",
   "execution_count": 160,
   "id": "a12a7362",
   "metadata": {},
   "outputs": [],
   "source": [
    "X_train, y_train, X_test, y_test = utilities.load_data()"
   ]
  },
  {
   "cell_type": "code",
   "execution_count": 161,
   "id": "90724177",
   "metadata": {},
   "outputs": [
    {
     "name": "stdout",
     "output_type": "stream",
     "text": [
      "(1000, 64, 64)\n",
      "(1000, 1)\n",
      "(200, 64, 64)\n",
      "(200, 1)\n"
     ]
    }
   ],
   "source": [
    "print(X_train.shape)\n",
    "print(y_train.shape)\n",
    "print(X_test.shape)\n",
    "print(y_test.shape)"
   ]
  },
  {
   "cell_type": "code",
   "execution_count": 162,
   "id": "a45ba707",
   "metadata": {},
   "outputs": [],
   "source": [
    "# standardisation entre 0 et 1\n",
    "X_train_scaler = X_train/255\n",
    "X_test_scaler = X_test/255\n",
    "\n",
    "# vectorisation des images\n",
    "X_train_scaler = X_train_scaler.reshape(X_train_scaler.shape[0], X_train_scaler.shape[1]*X_train_scaler.shape[2])\n",
    "X_test_scaler = X_test_scaler.reshape(X_test_scaler.shape[0], X_test_scaler.shape[1]*X_test_scaler.shape[2])\n",
    "\n",
    "# transposition des matrices\n",
    "X_train_scaler = X_train_scaler.T\n",
    "X_test_scaler = X_test_scaler.T\n",
    "y_train = y_train.reshape((1, y_train.shape[0]))\n",
    "y_test = y_test.reshape((1, y_test.shape[0]))"
   ]
  },
  {
   "cell_type": "code",
   "execution_count": 163,
   "id": "ccd194d6",
   "metadata": {},
   "outputs": [
    {
     "name": "stdout",
     "output_type": "stream",
     "text": [
      "(4096, 1000)\n",
      "(1, 1000)\n",
      "(4096, 200)\n",
      "(1, 200)\n"
     ]
    }
   ],
   "source": [
    "print(X_train_scaler.shape)\n",
    "print(y_train.shape)\n",
    "print(X_test_scaler.shape)\n",
    "print(y_test.shape)"
   ]
  },
  {
   "cell_type": "code",
   "execution_count": 166,
   "id": "1f0cbdd2",
   "metadata": {},
   "outputs": [
    {
     "name": "stderr",
     "output_type": "stream",
     "text": [
      "100%|████████████████████████████████████████████████████████████████████████████| 20000/20000 [08:04<00:00, 41.27it/s]\n"
     ]
    },
    {
     "data": {
      "image/png": "[encoded data removed]",
      "text/plain": [
       "<Figure size 1200x400 with 2 Axes>"
      ]
     },
     "metadata": {},
     "output_type": "display_data"
    }
   ],
   "source": [
    "parametres = neural_network(\n",
    "    X_train=X_train_scaler, y_train=y_train, n1=32,\n",
    "    learning_rate = 0.01, n_iter = 20000)"
   ]
  },
  {
   "cell_type": "code",
   "execution_count": 167,
   "id": "256702a8",
   "metadata": {},
   "outputs": [
    {
     "name": "stdout",
     "output_type": "stream",
     "text": [
      "L'accuracy sur le jeu de test est de 0.515\n"
     ]
    },
    {
     "data": {
      "text/html": [
       "<div>\n",
       "<style scoped>\n",
       "    .dataframe tbody tr th:only-of-type {\n",
       "        vertical-align: middle;\n",
       "    }\n",
       "\n",
       "    .dataframe tbody tr th {\n",
       "        vertical-align: top;\n",
       "    }\n",
       "\n",
       "    .dataframe thead th {\n",
       "        text-align: right;\n",
       "    }\n",
       "</style>\n",
       "<table border=\"1\" class=\"dataframe\">\n",
       "  <thead>\n",
       "    <tr style=\"text-align: right;\">\n",
       "      <th></th>\n",
       "      <th>test 0</th>\n",
       "      <th>test 1</th>\n",
       "    </tr>\n",
       "  </thead>\n",
       "  <tbody>\n",
       "    <tr>\n",
       "      <th>pred 0</th>\n",
       "      <td>47</td>\n",
       "      <td>44</td>\n",
       "    </tr>\n",
       "    <tr>\n",
       "      <th>pred 1</th>\n",
       "      <td>53</td>\n",
       "      <td>56</td>\n",
       "    </tr>\n",
       "  </tbody>\n",
       "</table>\n",
       "</div>"
      ],
      "text/plain": [
       "        test 0  test 1\n",
       "pred 0      47      44\n",
       "pred 1      53      56"
      ]
     },
     "execution_count": 167,
     "metadata": {},
     "output_type": "execute_result"
    }
   ],
   "source": [
    "evaluation(X_test_scaler, y_test, parametres)"
   ]
  },
  {
   "cell_type": "code",
   "execution_count": null,
   "id": "639f296b",
   "metadata": {},
   "outputs": [],
   "source": []
  }
 ],
 "metadata": {
  "kernelspec": {
   "display_name": "Python 3 (ipykernel)",
   "language": "python",
   "name": "python3"
  },
  "language_info": {
   "codemirror_mode": {
    "name": "ipython",
    "version": 3
   },
   "file_extension": ".py",
   "mimetype": "text/x-python",
   "name": "python",
   "nbconvert_exporter": "python",
   "pygments_lexer": "ipython3",
   "version": "3.9.16"
  }
 },
 "nbformat": 4,
 "nbformat_minor": 5
}
