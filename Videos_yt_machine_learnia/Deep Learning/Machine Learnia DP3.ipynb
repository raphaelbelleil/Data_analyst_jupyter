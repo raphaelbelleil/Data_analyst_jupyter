{
 "cells": [
  {
   "cell_type": "code",
   "execution_count": 1,
   "id": "5b55112c",
   "metadata": {},
   "outputs": [],
   "source": [
    "import pandas as pd\n",
    "import numpy as np\n",
    "import matplotlib.pyplot as plt\n",
    "import seaborn as sns\n",
    "from sklearn.datasets import make_regression, make_classification, make_blobs, make_circles\n",
    "from sklearn.metrics import accuracy_score, confusion_matrix, ConfusionMatrixDisplay, classification_report, log_loss\n",
    "from sklearn.model_selection import train_test_split"
   ]
  },
  {
   "cell_type": "code",
   "execution_count": 2,
   "id": "e64c0d70",
   "metadata": {},
   "outputs": [],
   "source": [
    "from tqdm import tqdm"
   ]
  },
  {
   "cell_type": "markdown",
   "id": "4d9517c9",
   "metadata": {},
   "source": [
    "# RÉSEAU DE NEURONES (2 COUCHES)"
   ]
  },
  {
   "cell_type": "code",
   "execution_count": 26,
   "id": "b60acf5c",
   "metadata": {},
   "outputs": [],
   "source": [
    "X, y = make_circles(n_samples=1000, noise=0.1, factor=0.3, random_state=0)\n",
    "\n",
    "X = X.T\n",
    "y = y.reshape((1, y.shape[0]))"
   ]
  },
  {
   "cell_type": "code",
   "execution_count": 27,
   "id": "7c8cb490",
   "metadata": {},
   "outputs": [
    {
     "data": {
      "text/plain": [
       "(2, 1000)"
      ]
     },
     "execution_count": 27,
     "metadata": {},
     "output_type": "execute_result"
    }
   ],
   "source": [
    "X.shape"
   ]
  },
  {
   "cell_type": "code",
   "execution_count": 28,
   "id": "b1ab6c4a",
   "metadata": {},
   "outputs": [],
   "source": [
    "def initialisation(X, y, C=(c,n)):\n",
    "    \n",
    "    parametres = {}\n",
    "    \n",
    "    # initialisation 1ere couche\n",
    "    parametres['W1'] = np.random.randn(C[1], X.shape[0])\n",
    "    parametres['b1'] = np.random.randn(C[1], 1)\n",
    "    \n",
    "    # creation des couches intermédiaires\n",
    "    for couche in range(2, C[0]):\n",
    "        parametres[f'W{couche}'] = np.random.randn(C[1], C[1])\n",
    "        parametres[f'b{couche}'] = np.random.randn(C[1], 1)\n",
    "    \n",
    "    # creation couche de sortie\n",
    "    parametres[f'W{C[0]}'] = np.random.randn(y.shape[0], C[1])\n",
    "    parametres[f'b{C[0]}'] = np.random.randn(y.shape[0], 1)\n",
    "    \n",
    "    \n",
    "    return parametres, C"
   ]
  },
  {
   "cell_type": "code",
   "execution_count": 29,
   "id": "466f0e65",
   "metadata": {},
   "outputs": [
    {
     "name": "stdout",
     "output_type": "stream",
     "text": [
      "(2, 2)\n",
      "(2, 1)\n",
      "(2, 2)\n",
      "(2, 1)\n",
      "(1, 2)\n",
      "(1, 1)\n"
     ]
    }
   ],
   "source": [
    "parametres = initialisation(X, y, C=(3,2))\n",
    "\n",
    "for e in parametres[0].values():\n",
    "    print(e.shape)"
   ]
  },
  {
   "cell_type": "code",
   "execution_count": 36,
   "id": "376d07f9",
   "metadata": {},
   "outputs": [
    {
     "data": {
      "text/plain": [
       "({'W1': array([[ 0.07889052,  0.89355267],\n",
       "         [-0.09005881,  0.68167262]]),\n",
       "  'b1': array([[-0.52032572],\n",
       "         [-3.08305443]]),\n",
       "  'W2': array([[ 0.78826331,  0.10228832],\n",
       "         [-0.81425056, -0.47374569]]),\n",
       "  'b2': array([[ 1.53367052],\n",
       "         [-0.3541375 ]]),\n",
       "  'W3': array([[ 1.78626791, -1.20983173]]),\n",
       "  'b3': array([[-0.43725475]])},\n",
       " (3, 2))"
      ]
     },
     "execution_count": 36,
     "metadata": {},
     "output_type": "execute_result"
    }
   ],
   "source": [
    "parametres"
   ]
  },
  {
   "cell_type": "code",
   "execution_count": 39,
   "id": "b3ba6098",
   "metadata": {},
   "outputs": [],
   "source": [
    "def forward_propagation(X, parametres):\n",
    "    \n",
    "    # declaration dictionnaire activations\n",
    "    activations = {}\n",
    "    \n",
    "    # activation 1 egale à X\n",
    "    A = X\n",
    "    \n",
    "    \n",
    "    for couche in range(1, 1+parametres[1][0]):\n",
    "        Z = parametres[0][f\"W{couche}\"].dot(A) + parametres[0][f\"b{couche}\"]\n",
    "        A = 1 / (1 + np.exp(-Z))\n",
    "        \n",
    "        activations[f'A{couche}'] = A\n",
    "    \n",
    "    return activations"
   ]
  },
  {
   "cell_type": "code",
   "execution_count": 40,
   "id": "48bab5c5",
   "metadata": {},
   "outputs": [
    {
     "name": "stdout",
     "output_type": "stream",
     "text": [
      "(2, 1000)\n",
      "(2, 1000)\n",
      "(1, 1000)\n"
     ]
    }
   ],
   "source": [
    "activations = forward_propagation(X, parametres)\n",
    "for e in activations.values():\n",
    "    print(e.shape)"
   ]
  },
  {
   "cell_type": "code",
   "execution_count": 41,
   "id": "18a1f765",
   "metadata": {},
   "outputs": [
    {
     "data": {
      "text/plain": [
       "{'A1': array([[0.38534234, 0.34150383, 0.22114947, ..., 0.39290805, 0.41323821,\n",
       "         0.40246276],\n",
       "        [0.04336597, 0.03951815, 0.02851623, ..., 0.0465434 , 0.04762333,\n",
       "         0.049801  ]]),\n",
       " 'A2': array([[0.86316825, 0.85898773, 0.84695446, ..., 0.86390932, 0.86579531,\n",
       "         0.86483134],\n",
       "        [0.3343786 , 0.34278028, 0.36639401, ..., 0.33267463, 0.32889694,\n",
       "         0.33060809]]),\n",
       " 'A3': array([[0.66819956, 0.66427882, 0.65302388, 0.67094861, 0.67129082,\n",
       "         0.66682137, 0.67806462, 0.66980593, 0.65252708, 0.66779406,\n",
       "         0.66858602, 0.67283287, 0.66351455, 0.66528941, 0.67143059,\n",
       "         0.6804003 , 0.66406228, 0.67915322, 0.67479622, 0.68401545,\n",
       "         0.67750049, 0.66498928, 0.65147545, 0.65448197, 0.66083228,\n",
       "         0.66627783, 0.6766602 , 0.68662876, 0.66758857, 0.6701052 ,\n",
       "         0.6630682 , 0.67147394, 0.67254467, 0.66147286, 0.65204972,\n",
       "         0.66719884, 0.66597946, 0.64974009, 0.66441415, 0.66159138,\n",
       "         0.67319045, 0.66845442, 0.67371739, 0.67350092, 0.66871555,\n",
       "         0.6667576 , 0.66081475, 0.68523494, 0.65329818, 0.66955164,\n",
       "         0.65093808, 0.65702287, 0.66051125, 0.65363333, 0.66237406,\n",
       "         0.67078848, 0.66161915, 0.66120359, 0.66709532, 0.65236365,\n",
       "         0.67379479, 0.67523261, 0.6870861 , 0.67586065, 0.6524756 ,\n",
       "         0.67802877, 0.66343567, 0.67180729, 0.66340901, 0.67288431,\n",
       "         0.66542357, 0.65779158, 0.67066159, 0.66740316, 0.66436138,\n",
       "         0.65275063, 0.64941496, 0.66388648, 0.67244737, 0.66840546,\n",
       "         0.66310332, 0.66059347, 0.65168005, 0.66555094, 0.66266594,\n",
       "         0.67066222, 0.67094861, 0.66643134, 0.66775472, 0.66051442,\n",
       "         0.65904515, 0.66758462, 0.663997  , 0.65940029, 0.67114945,\n",
       "         0.66645425, 0.66944697, 0.68453907, 0.65123304, 0.67253951,\n",
       "         0.66458777, 0.66013063, 0.68188425, 0.66138732, 0.65501429,\n",
       "         0.6761661 , 0.66989668, 0.66687662, 0.66451155, 0.67716179,\n",
       "         0.68640147, 0.67162239, 0.66202973, 0.67006883, 0.66365783,\n",
       "         0.65049347, 0.67169437, 0.65055179, 0.66472715, 0.67017693,\n",
       "         0.66221566, 0.65920197, 0.68594718, 0.66519583, 0.68054568,\n",
       "         0.66159023, 0.65263444, 0.65789808, 0.6608845 , 0.67362792,\n",
       "         0.66868391, 0.67297167, 0.67373394, 0.67011907, 0.66576257,\n",
       "         0.67123222, 0.6530422 , 0.66739706, 0.66923281, 0.66151153,\n",
       "         0.68460707, 0.67159346, 0.66709944, 0.66327047, 0.65732825,\n",
       "         0.65500961, 0.65338522, 0.6496716 , 0.67982551, 0.6801976 ,\n",
       "         0.66146915, 0.67838496, 0.65104035, 0.66730078, 0.66337501,\n",
       "         0.66660324, 0.66059213, 0.65071362, 0.66076207, 0.66335798,\n",
       "         0.67296175, 0.66486809, 0.67158534, 0.66241417, 0.66709627,\n",
       "         0.65052752, 0.65112811, 0.66557824, 0.64974935, 0.65410235,\n",
       "         0.66321365, 0.66113183, 0.68719888, 0.66163607, 0.6684782 ,\n",
       "         0.66503641, 0.66556979, 0.67541223, 0.66061062, 0.6840614 ,\n",
       "         0.66384003, 0.66982568, 0.65935328, 0.65333145, 0.66504195,\n",
       "         0.66254559, 0.66871842, 0.66095882, 0.66208372, 0.67446616,\n",
       "         0.66410764, 0.66339459, 0.65643978, 0.67152291, 0.66623516,\n",
       "         0.67248046, 0.67033384, 0.67187986, 0.67369732, 0.68814528,\n",
       "         0.67159591, 0.66620467, 0.64967334, 0.66755937, 0.66222776,\n",
       "         0.67535694, 0.66260548, 0.66825384, 0.67007554, 0.66356319,\n",
       "         0.68608304, 0.66965813, 0.67614003, 0.66466643, 0.66112028,\n",
       "         0.66819611, 0.68792567, 0.68750714, 0.67549407, 0.67082739,\n",
       "         0.6632573 , 0.67420475, 0.66430316, 0.66247027, 0.65280275,\n",
       "         0.65472003, 0.67320311, 0.66794095, 0.67342041, 0.65110783,\n",
       "         0.66797219, 0.65407752, 0.6731022 , 0.66134977, 0.68002152,\n",
       "         0.68105269, 0.67281808, 0.67674074, 0.66810476, 0.68078658,\n",
       "         0.6722251 , 0.66378385, 0.68111796, 0.64932388, 0.66585956,\n",
       "         0.66258304, 0.65102145, 0.66975229, 0.66206678, 0.67087552,\n",
       "         0.66392492, 0.67180026, 0.68162926, 0.66551029, 0.68324849,\n",
       "         0.65964766, 0.67634201, 0.66193371, 0.65992475, 0.67705814,\n",
       "         0.66410699, 0.66946425, 0.65653705, 0.68667084, 0.66249187,\n",
       "         0.6736341 , 0.66710468, 0.65848639, 0.65429987, 0.65578342,\n",
       "         0.67071061, 0.67120229, 0.68114673, 0.68502911, 0.66756814,\n",
       "         0.6599858 , 0.65821685, 0.66912142, 0.65586412, 0.68043461,\n",
       "         0.66748501, 0.65412969, 0.6502449 , 0.66189538, 0.66805786,\n",
       "         0.67872212, 0.66188005, 0.6599264 , 0.68540701, 0.67457437,\n",
       "         0.67060656, 0.67501057, 0.66727015, 0.66789947, 0.66992433,\n",
       "         0.68292577, 0.66682887, 0.66512941, 0.66823397, 0.67117244,\n",
       "         0.68734768, 0.68470765, 0.66403812, 0.65074593, 0.65477449,\n",
       "         0.66349198, 0.65997359, 0.66131074, 0.65422741, 0.66711331,\n",
       "         0.66388701, 0.66547667, 0.66998135, 0.67569832, 0.65993136,\n",
       "         0.65241636, 0.65392184, 0.65888307, 0.67954696, 0.6809557 ,\n",
       "         0.67950671, 0.66681189, 0.66463895, 0.68571073, 0.65750222,\n",
       "         0.68477836, 0.68132117, 0.66919213, 0.6600303 , 0.664919  ,\n",
       "         0.65988631, 0.66693654, 0.68094351, 0.66210501, 0.67925521,\n",
       "         0.65542299, 0.68662156, 0.67000504, 0.65211693, 0.66253547,\n",
       "         0.66294531, 0.66382616, 0.68875677, 0.66851929, 0.68101186,\n",
       "         0.65258833, 0.68512317, 0.67681755, 0.66821381, 0.66729478,\n",
       "         0.66650979, 0.67070692, 0.65152707, 0.66298176, 0.66132865,\n",
       "         0.66151549, 0.65295338, 0.66516472, 0.66273911, 0.65208207,\n",
       "         0.64884525, 0.66960921, 0.68128357, 0.65324382, 0.65238568,\n",
       "         0.67710289, 0.66501311, 0.64876091, 0.65304468, 0.66920671,\n",
       "         0.66259838, 0.68226474, 0.68075595, 0.66519269, 0.68583783,\n",
       "         0.65683339, 0.66755698, 0.67097829, 0.65401009, 0.6842907 ,\n",
       "         0.66730215, 0.65273704, 0.67805231, 0.66247589, 0.67064873,\n",
       "         0.6625635 , 0.66868032, 0.65471542, 0.67243943, 0.66716108,\n",
       "         0.66793457, 0.66496265, 0.66550073, 0.67229239, 0.67767172,\n",
       "         0.68467416, 0.68372707, 0.65310363, 0.66476042, 0.66082869,\n",
       "         0.67408358, 0.68800005, 0.66974271, 0.65064884, 0.67306117,\n",
       "         0.67051128, 0.68389976, 0.65653022, 0.67239505, 0.66286743,\n",
       "         0.66187947, 0.64989185, 0.67086493, 0.66942558, 0.65760082,\n",
       "         0.67053752, 0.6819584 , 0.68314763, 0.66615669, 0.67756892,\n",
       "         0.67340406, 0.66216499, 0.64947814, 0.6636476 , 0.65962004,\n",
       "         0.67453811, 0.66347358, 0.68707089, 0.66784062, 0.67269135,\n",
       "         0.66719219, 0.6837476 , 0.68089998, 0.6632161 , 0.67206036,\n",
       "         0.67259579, 0.6608335 , 0.6823607 , 0.66203718, 0.6717045 ,\n",
       "         0.66967899, 0.68345681, 0.66363981, 0.65400065, 0.68587948,\n",
       "         0.66474061, 0.67101411, 0.66864284, 0.65238838, 0.67140398,\n",
       "         0.67064848, 0.66169687, 0.66473773, 0.6654926 , 0.67091761,\n",
       "         0.65132092, 0.66185702, 0.6518529 , 0.6560395 , 0.66508187,\n",
       "         0.66168335, 0.66851129, 0.66412491, 0.66793569, 0.66386184,\n",
       "         0.66924056, 0.67220317, 0.66909711, 0.64956138, 0.66993544,\n",
       "         0.66257411, 0.66873272, 0.68435821, 0.65403238, 0.67265226,\n",
       "         0.66965366, 0.6756794 , 0.65564163, 0.67898318, 0.68463493,\n",
       "         0.65275904, 0.67490854, 0.6607379 , 0.67604518, 0.64988886,\n",
       "         0.670358  , 0.65362525, 0.67488019, 0.66720657, 0.66698249,\n",
       "         0.67392803, 0.6631751 , 0.66344725, 0.67154178, 0.67627154,\n",
       "         0.67489335, 0.68037216, 0.65157744, 0.67495595, 0.65131799,\n",
       "         0.6747245 , 0.68164412, 0.67063698, 0.65113442, 0.67834651,\n",
       "         0.67590871, 0.6553273 , 0.6680947 , 0.67164737, 0.65587087,\n",
       "         0.68744025, 0.6708898 , 0.68138431, 0.65312969, 0.66840308,\n",
       "         0.66377624, 0.66425908, 0.67327161, 0.68418246, 0.66274592,\n",
       "         0.6677445 , 0.68454514, 0.68331369, 0.67524665, 0.66366752,\n",
       "         0.65283523, 0.66482847, 0.66511452, 0.66779971, 0.68689327,\n",
       "         0.66959355, 0.67475089, 0.67228179, 0.65278914, 0.68572555,\n",
       "         0.66891966, 0.66040749, 0.67326723, 0.68479462, 0.66683651,\n",
       "         0.66611895, 0.66146938, 0.67269219, 0.66198729, 0.65195663,\n",
       "         0.65922026, 0.67546276, 0.67472351, 0.65586407, 0.66112542,\n",
       "         0.66177711, 0.66657486, 0.68787676, 0.65132187, 0.6617136 ,\n",
       "         0.66720616, 0.66498604, 0.67076777, 0.65991648, 0.67503748,\n",
       "         0.66397371, 0.65240517, 0.67074034, 0.65113681, 0.65307859,\n",
       "         0.66346308, 0.66449129, 0.65892205, 0.67970172, 0.66674715,\n",
       "         0.64785568, 0.66563409, 0.68821121, 0.669719  , 0.6696835 ,\n",
       "         0.68462668, 0.66122105, 0.66785392, 0.66678609, 0.68843208,\n",
       "         0.66838804, 0.66570426, 0.66394399, 0.66717054, 0.65736171,\n",
       "         0.64961991, 0.66992824, 0.6503555 , 0.68719005, 0.67338108,\n",
       "         0.6698133 , 0.64960917, 0.66223018, 0.67024623, 0.66360188,\n",
       "         0.68460807, 0.65151862, 0.66907291, 0.65969372, 0.66237892,\n",
       "         0.67279138, 0.67120974, 0.66467752, 0.65870204, 0.67306009,\n",
       "         0.66114364, 0.65493518, 0.67142061, 0.67411322, 0.67379804,\n",
       "         0.67933232, 0.65252661, 0.6767076 , 0.6659786 , 0.66416702,\n",
       "         0.66641347, 0.66390091, 0.65743168, 0.67104263, 0.65849838,\n",
       "         0.67337363, 0.67101221, 0.66066722, 0.67342974, 0.67480628,\n",
       "         0.67116619, 0.65990483, 0.64850453, 0.67190264, 0.67113455,\n",
       "         0.66477354, 0.65933339, 0.663719  , 0.66975323, 0.65991795,\n",
       "         0.66915875, 0.67287533, 0.66563891, 0.66103207, 0.6700213 ,\n",
       "         0.6603204 , 0.65978622, 0.65908156, 0.65734148, 0.65385927,\n",
       "         0.66051142, 0.68278392, 0.67208466, 0.66507099, 0.66923677,\n",
       "         0.67306234, 0.66095572, 0.67145141, 0.66665173, 0.68691736,\n",
       "         0.6656731 , 0.66597794, 0.67075811, 0.66782184, 0.68037819,\n",
       "         0.67895563, 0.6759673 , 0.66996595, 0.65889631, 0.68145264,\n",
       "         0.68350359, 0.67429313, 0.67354765, 0.65940368, 0.67389002,\n",
       "         0.66933463, 0.65142442, 0.66441476, 0.66780543, 0.66490923,\n",
       "         0.6519927 , 0.66727495, 0.6838976 , 0.65469206, 0.68520778,\n",
       "         0.66254769, 0.66213677, 0.67218434, 0.65246325, 0.66860254,\n",
       "         0.66728624, 0.66358987, 0.668524  , 0.66161305, 0.66407745,\n",
       "         0.65253979, 0.67209674, 0.6523722 , 0.68537419, 0.66928827,\n",
       "         0.66989038, 0.65154737, 0.67081809, 0.66205152, 0.68427322,\n",
       "         0.65611265, 0.67998595, 0.68420928, 0.66734391, 0.66068077,\n",
       "         0.66573177, 0.68120896, 0.6847218 , 0.65176069, 0.64964075,\n",
       "         0.6632318 , 0.66111039, 0.66330592, 0.66418475, 0.67950233,\n",
       "         0.68609221, 0.65761643, 0.66032383, 0.66144553, 0.66016782,\n",
       "         0.6550456 , 0.66428358, 0.6687249 , 0.67316517, 0.67465632,\n",
       "         0.67857452, 0.68971531, 0.6768018 , 0.65454859, 0.67833306,\n",
       "         0.66316432, 0.67955405, 0.65638966, 0.66673442, 0.65143785,\n",
       "         0.66878617, 0.65755662, 0.68426312, 0.64916104, 0.66790285,\n",
       "         0.67035807, 0.66997297, 0.66183278, 0.65830681, 0.6593672 ,\n",
       "         0.66795381, 0.6763341 , 0.66822244, 0.66137089, 0.67078866,\n",
       "         0.67347565, 0.6618026 , 0.65220099, 0.67135734, 0.68601715,\n",
       "         0.67564873, 0.67316151, 0.66025495, 0.66105371, 0.65953122,\n",
       "         0.66823814, 0.66707938, 0.66949128, 0.66776662, 0.6604031 ,\n",
       "         0.67015991, 0.67003047, 0.68215347, 0.67585184, 0.65147002,\n",
       "         0.67399393, 0.66686787, 0.68673437, 0.65222213, 0.68547608,\n",
       "         0.68579362, 0.67296448, 0.65217405, 0.66924358, 0.66168444,\n",
       "         0.66503137, 0.67269594, 0.66359597, 0.66215443, 0.67340701,\n",
       "         0.6550935 , 0.66083624, 0.65179157, 0.68715789, 0.66929528,\n",
       "         0.66816778, 0.66901751, 0.66832506, 0.67428162, 0.65675533,\n",
       "         0.68488805, 0.65973392, 0.67614389, 0.68672032, 0.68292747,\n",
       "         0.68521833, 0.67067239, 0.67178857, 0.67105454, 0.65992604,\n",
       "         0.67081067, 0.68479034, 0.66539446, 0.6661185 , 0.66517314,\n",
       "         0.65427598, 0.66017955, 0.66784052, 0.65714102, 0.65105512,\n",
       "         0.67332142, 0.67192612, 0.65258591, 0.65346643, 0.65696958,\n",
       "         0.67352043, 0.684888  , 0.67125735, 0.6616035 , 0.67217725,\n",
       "         0.66044619, 0.66170808, 0.66765093, 0.6650142 , 0.65697558,\n",
       "         0.68194911, 0.64907731, 0.66279946, 0.66807777, 0.66087351,\n",
       "         0.66409359, 0.66414592, 0.68369152, 0.67495367, 0.68615067,\n",
       "         0.65730722, 0.66537151, 0.67074269, 0.67460397, 0.68548679,\n",
       "         0.66459797, 0.67829347, 0.66701954, 0.67758774, 0.67800441,\n",
       "         0.66391052, 0.65389164, 0.67132547, 0.67611874, 0.68313764,\n",
       "         0.66568234, 0.67114401, 0.68562512, 0.66851282, 0.66912765,\n",
       "         0.68377665, 0.64935544, 0.68497794, 0.67242026, 0.67624965,\n",
       "         0.66360212, 0.67259906, 0.65172498, 0.6712931 , 0.65309244,\n",
       "         0.67498743, 0.64837787, 0.66796174, 0.67301858, 0.64948479,\n",
       "         0.66015055, 0.66397349, 0.65788677, 0.67156149, 0.66939628,\n",
       "         0.6748845 , 0.67876977, 0.68600418, 0.66092955, 0.66414117,\n",
       "         0.6805558 , 0.67300913, 0.65735324, 0.67387159, 0.66352286,\n",
       "         0.6489305 , 0.66879985, 0.66182893, 0.67036684, 0.67114542,\n",
       "         0.68521401, 0.66607413, 0.6831316 , 0.66191594, 0.68651761,\n",
       "         0.66607759, 0.6784406 , 0.66566493, 0.65500238, 0.67289423,\n",
       "         0.68366546, 0.67039916, 0.66745646, 0.67334262, 0.64903505,\n",
       "         0.6607169 , 0.68326006, 0.68839757, 0.65526929, 0.66401205,\n",
       "         0.68860798, 0.66340156, 0.65878319, 0.68096714, 0.65330727,\n",
       "         0.66386404, 0.65977292, 0.66315934, 0.65385852, 0.6790691 ,\n",
       "         0.67598538, 0.65170246, 0.65141886, 0.65961251, 0.66612638,\n",
       "         0.66642691, 0.66902898, 0.66314666, 0.6837786 , 0.66540127,\n",
       "         0.66011564, 0.68280784, 0.66405675, 0.67445654, 0.68104686,\n",
       "         0.65959532, 0.65813564, 0.66842097, 0.66802637, 0.68291697,\n",
       "         0.66662767, 0.67094307, 0.66724254, 0.67112088, 0.67053435,\n",
       "         0.66837226, 0.66104021, 0.65601093, 0.65472252, 0.66290272,\n",
       "         0.68086482, 0.67148723, 0.66354734, 0.66653196, 0.67955884,\n",
       "         0.68990705, 0.66090168, 0.65893834, 0.65612592, 0.66100878,\n",
       "         0.67120299, 0.66613825, 0.68787879, 0.66105158, 0.66428137,\n",
       "         0.67958359, 0.6586131 , 0.66966816, 0.6762911 , 0.6610706 ,\n",
       "         0.66404516, 0.68195498, 0.68470266, 0.67293156, 0.66124254,\n",
       "         0.67028849, 0.65502803, 0.65108582, 0.67033532, 0.65907089,\n",
       "         0.68362436, 0.67466331, 0.66274487, 0.66803328, 0.65741651,\n",
       "         0.66679303, 0.66925617, 0.65061364, 0.66697897, 0.66860424,\n",
       "         0.66621983, 0.6792928 , 0.66894967, 0.6707055 , 0.66986744]])}"
      ]
     },
     "execution_count": 41,
     "metadata": {},
     "output_type": "execute_result"
    }
   ],
   "source": [
    "activations"
   ]
  },
  {
   "cell_type": "code",
   "execution_count": 42,
   "id": "a1f74c7a",
   "metadata": {},
   "outputs": [],
   "source": [
    "#def log_loss(A2, y):\n",
    "    #return 1 / len(y) * np.sum(-y * np.log(A2) - (1 - y) * np.log(1 - A2))"
   ]
  },
  {
   "cell_type": "code",
   "execution_count": 43,
   "id": "9ef905a9",
   "metadata": {},
   "outputs": [],
   "source": [
    "def back_propagation(parametres, activations, X, y):\n",
    "    \n",
    "    m = y.shape[1]\n",
    "    \n",
    "    gradients = {}\n",
    "    \n",
    "    # dZ = A - y ou A est la derniere activation dans ce cas \n",
    "    A = activations[f'A{parametres[1][0]}']\n",
    "    dZ = A - y\n",
    "    \n",
    "    for couche in range(parametres[1][0], 0, -1):\n",
    "        # activation couche inférieur\n",
    "        if couche == 1 : \n",
    "            A=X\n",
    "        else : \n",
    "            A = activations[f'A{couche-1}']\n",
    "        # paramètre couche en cours\n",
    "        W = parametres[0][f\"W{couche}\"]\n",
    "        \n",
    "        # gradient couche en cours\n",
    "        dW = (1/m) * dZ.dot(A.T)\n",
    "        db = (1/m) * np.sum(dZ, axis=1, keepdims=True)\n",
    "        \n",
    "        gradients[f'dW{couche}'] = dW\n",
    "        gradients[f'db{couche}'] = db\n",
    "        \n",
    "        # dZ couche inférieur\n",
    "        dZ = W.T.dot(dZ) * A * (1-A)\n",
    "\n",
    "    \n",
    "    return gradients"
   ]
  },
  {
   "cell_type": "code",
   "execution_count": 44,
   "id": "5964ecef",
   "metadata": {},
   "outputs": [],
   "source": [
    "gradients = back_propagation(parametres, activations, X, y)"
   ]
  },
  {
   "cell_type": "code",
   "execution_count": 45,
   "id": "ca84b4d1",
   "metadata": {},
   "outputs": [
    {
     "name": "stdout",
     "output_type": "stream",
     "text": [
      "(1, 2)\n",
      "(2, 2)\n",
      "____________________________________________________________________________________________________\n",
      "(1, 1)\n",
      "(2, 1)\n",
      "____________________________________________________________________________________________________\n",
      "(2, 2)\n",
      "(2, 2)\n",
      "____________________________________________________________________________________________________\n",
      "(2, 1)\n",
      "(2, 1)\n",
      "____________________________________________________________________________________________________\n",
      "(2, 2)\n",
      "(1, 2)\n",
      "____________________________________________________________________________________________________\n",
      "(2, 1)\n",
      "(1, 1)\n",
      "____________________________________________________________________________________________________\n"
     ]
    }
   ],
   "source": [
    "gradients = back_propagation(parametres, activations, X, y)\n",
    "for e, i in zip(gradients.values(), parametres[0].values()):\n",
    "    print(e.shape)\n",
    "    print(i.shape)\n",
    "    print('_'*100)"
   ]
  },
  {
   "cell_type": "code",
   "execution_count": 46,
   "id": "c99e321e",
   "metadata": {},
   "outputs": [],
   "source": [
    "def update(gradients, parametres, learning_rate):\n",
    "    \n",
    "    for couche in range(1, 1+parametres[1][0]):\n",
    "        parametres[0][f\"W{couche}\"] = parametres[0][f\"W{couche}\"] - learning_rate * gradients[f'dW{couche}']\n",
    "        parametres[0][f\"b{couche}\"] = parametres[0][f\"b{couche}\"] - learning_rate * gradients[f'db{couche}']\n",
    "    \n",
    "    return parametres"
   ]
  },
  {
   "cell_type": "code",
   "execution_count": 47,
   "id": "cea4d439",
   "metadata": {},
   "outputs": [],
   "source": [
    "def predict(X, parametres):\n",
    "    \n",
    "    activations = forward_propagation(X, parametres)\n",
    "    A = activations[f'A{parametres[1][0]}']\n",
    "    \n",
    "    return A >= 0.5"
   ]
  },
  {
   "cell_type": "code",
   "execution_count": 48,
   "id": "047df20c",
   "metadata": {},
   "outputs": [],
   "source": [
    "def neural_network(X, y, C=(c,n), learning_rate = 0.1, n_iter = 1000):\n",
    "\n",
    "    \n",
    "    parametres = initialisation(X, y, C=(c,n))\n",
    "    \n",
    "\n",
    "    train_loss = []\n",
    "    train_acc = []\n",
    "\n",
    "    for i in tqdm(range(n_iter)):\n",
    "        \n",
    "        activations = forward_propagation(X, parametres)\n",
    "        gradients = back_propagation(parametres, activations, X, y)\n",
    "        parametres = update(gradients, parametres, learning_rate)\n",
    "    \n",
    "        A_fin = activations[f\"A{c}\"]\n",
    "        \n",
    "        if i %10 == 0:\n",
    "            # Train\n",
    "            train_loss.append(log_loss(y, A_fin))\n",
    "            y_pred = predict(X, parametres)\n",
    "            train_acc.append(accuracy_score(y.flatten(), y_pred.flatten()))\n",
    "\n",
    "\n",
    "\n",
    "    plt.figure(figsize=(12, 4))\n",
    "    plt.subplot(1, 2, 1)\n",
    "    plt.plot(train_loss, label='train loss')\n",
    "    plt.legend()\n",
    "    plt.subplot(1, 2, 2)\n",
    "    plt.plot(train_acc, label='train acc')\n",
    "    plt.legend()\n",
    "    plt.show()\n",
    "    \n",
    "\n",
    "    return parametres"
   ]
  },
  {
   "cell_type": "code",
   "execution_count": 49,
   "id": "e9e71cc0",
   "metadata": {},
   "outputs": [],
   "source": [
    "def evaluation(X_test, y_test, parametres):\n",
    "    # y_pred du jeu de test avec les paramètres finaux\n",
    "    y_pred = predict(X_test, parametres)\n",
    "    \n",
    "    # accuracy score et matrice de confusion\n",
    "    accuracy_test = accuracy_score(y_test.T, y_pred.T)\n",
    "    \n",
    "    # crosstab\n",
    "    crosstab = pd.crosstab(y_test, y_pred.astype('int'))\n",
    "    crosstab.index = ['test 0', 'test 1']\n",
    "    crosstab.columns = ['pred 0', 'pred 1']\n",
    "    crosstab = crosstab.T\n",
    "    \n",
    "    print(f\"L'accuracy sur le jeu de test est de {accuracy_test}\")\n",
    "    return crosstab"
   ]
  },
  {
   "cell_type": "markdown",
   "id": "3b087f94",
   "metadata": {},
   "source": [
    "## Test avec un cercle"
   ]
  },
  {
   "cell_type": "code",
   "execution_count": 19,
   "id": "3b3f74d4",
   "metadata": {},
   "outputs": [],
   "source": [
    "X, y = make_circles(n_samples=1000, noise=0.1, factor=0.3, random_state=0)"
   ]
  },
  {
   "cell_type": "code",
   "execution_count": 20,
   "id": "aee58744",
   "metadata": {},
   "outputs": [],
   "source": [
    "X_train, X_test, y_train, y_test = train_test_split(X, y, test_size=0.2, random_state=1)"
   ]
  },
  {
   "cell_type": "code",
   "execution_count": 21,
   "id": "30d2691a",
   "metadata": {},
   "outputs": [],
   "source": [
    "X_train = X_train.T\n",
    "X_test = X_test.T\n",
    "y_train = y_train.reshape((1, y_train.shape[0]))\n",
    "y_test = y_test.reshape((1, y_test.shape[0]))"
   ]
  },
  {
   "cell_type": "code",
   "execution_count": 22,
   "id": "d6165d30",
   "metadata": {},
   "outputs": [
    {
     "name": "stderr",
     "output_type": "stream",
     "text": [
      "100%|████████████████████████████████████████████████████████████████████████| 100000/100000 [00:46<00:00, 2136.28it/s]\n"
     ]
    },
    {
     "data": {
      "image/png": "[encoded data removed]",
      "text/plain": [
       "<Figure size 1200x400 with 2 Axes>"
      ]
     },
     "metadata": {},
     "output_type": "display_data"
    },
    {
     "data": {
      "text/plain": [
       "({'W1': array([[-3.86921503,  5.45536639],\n",
       "         [ 6.28092959,  1.08467218],\n",
       "         [ 1.89667172,  4.75027664]]),\n",
       "  'b1': array([[ 3.08967226],\n",
       "         [ 3.07254627],\n",
       "         [-2.5765048 ]]),\n",
       "  'W2': array([[ 0.76786357,  1.08078283, -1.81929568],\n",
       "         [-5.32814188, -5.22749753,  6.08194242],\n",
       "         [-2.17293725,  0.3632459 , -0.97539164]]),\n",
       "  'b2': array([[ 0.13910062],\n",
       "         [ 6.71281621],\n",
       "         [-0.83016352]]),\n",
       "  'W3': array([[  3.45524933, -12.09307508,   0.17970346]]),\n",
       "  'b3': array([[2.88203323]])},\n",
       " (3, 3))"
      ]
     },
     "execution_count": 22,
     "metadata": {},
     "output_type": "execute_result"
    }
   ],
   "source": [
    "neural_network(X=X_train, y=y_train, C=(6,10), learning_rate = 0.01, n_iter = 100000)"
   ]
  },
  {
   "cell_type": "code",
   "execution_count": 23,
   "id": "9f97508e",
   "metadata": {},
   "outputs": [
    {
     "data": {
      "text/plain": [
       "array([[0.52514627, 0.53660171, 0.5644781 , 0.52893243, 0.53588026,\n",
       "        0.52868622, 0.50406015, 0.55444877, 0.56757055, 0.54087777,\n",
       "        0.51158326, 0.52345876, 0.53941261, 0.55694815, 0.52715147,\n",
       "        0.50681845, 0.53543051, 0.53669589, 0.50304468, 0.50916705,\n",
       "        0.50714987, 0.51193644, 0.56768392, 0.56174494, 0.54009398,\n",
       "        0.53712036, 0.50293186, 0.50768215, 0.54149712, 0.51029738,\n",
       "        0.53907208, 0.53470773, 0.53187415, 0.54561362, 0.54005199,\n",
       "        0.54243008, 0.53103561, 0.55543336, 0.53379019, 0.55981383,\n",
       "        0.54976323, 0.52864213, 0.52887324, 0.53257433, 0.5592098 ,\n",
       "        0.53734067, 0.54170984, 0.52544321, 0.56253856, 0.52646522,\n",
       "        0.55932075, 0.56337897, 0.5628853 , 0.53248423, 0.5420269 ,\n",
       "        0.52426834, 0.55840175, 0.56128674, 0.52333005, 0.56275661,\n",
       "        0.52244849, 0.52331433, 0.5216878 , 0.54198029, 0.53864809,\n",
       "        0.54538212, 0.56138831, 0.51993224, 0.55938002, 0.52869835,\n",
       "        0.54175571, 0.56193555, 0.53665593, 0.55708382, 0.53438162,\n",
       "        0.54450926, 0.54777511, 0.54292548, 0.52848436, 0.53589784,\n",
       "        0.55798967, 0.52213656, 0.54682419, 0.53301652, 0.53896087,\n",
       "        0.53641693, 0.55041849, 0.52661753, 0.51190695, 0.53758017,\n",
       "        0.52683274, 0.51001013, 0.53316902, 0.5625113 , 0.53133898,\n",
       "        0.51354137, 0.52584363, 0.51124151, 0.55008054, 0.53100235,\n",
       "        0.54061125, 0.54436304, 0.51110334, 0.53462924, 0.56234019,\n",
       "        0.52860705, 0.5339478 , 0.53955508, 0.53322868, 0.54642832,\n",
       "        0.50956598, 0.52710502, 0.51804748, 0.52488838, 0.55676294,\n",
       "        0.55102971, 0.52295747, 0.55063806, 0.51186319, 0.52044386,\n",
       "        0.5425968 , 0.54439418, 0.51814965, 0.53316475, 0.50011708,\n",
       "        0.54108609, 0.54532208, 0.56325652, 0.53491708, 0.52627713,\n",
       "        0.51066531, 0.525484  , 0.52699439, 0.53618999, 0.54384554,\n",
       "        0.53362871, 0.56280424, 0.51104406, 0.52464131, 0.53742509,\n",
       "        0.51200751, 0.53412952, 0.53002258, 0.55945699, 0.56544188,\n",
       "        0.53363703, 0.5473039 , 0.54767628, 0.50538023, 0.50132728,\n",
       "        0.55794952, 0.50015985, 0.5403135 , 0.53745223, 0.53210555,\n",
       "        0.53171573, 0.52073401, 0.55540638, 0.54100113, 0.51515818,\n",
       "        0.52071082, 0.53268628, 0.53653075, 0.53926099, 0.5332569 ,\n",
       "        0.54904549, 0.56461485, 0.52721112, 0.56093278, 0.53865568,\n",
       "        0.53002825, 0.54792577, 0.52100497, 0.54645118, 0.50895279,\n",
       "        0.5453377 , 0.56130294, 0.52909601, 0.54220893, 0.52650713,\n",
       "        0.54277082, 0.52623344, 0.51899208, 0.56149549, 0.52868446,\n",
       "        0.53561673, 0.53920754, 0.52056757, 0.54605013, 0.54639067,\n",
       "        0.53875602, 0.54129446, 0.52519499, 0.50885599, 0.54092723,\n",
       "        0.53515873, 0.53690713, 0.5481693 , 0.5284638 , 0.52157563,\n",
       "        0.53658518, 0.52552901, 0.56101878, 0.53064797, 0.53937052,\n",
       "        0.52499702, 0.54450023, 0.52583566, 0.52458122, 0.53263511,\n",
       "        0.51423644, 0.53181423, 0.50688951, 0.53292086, 0.53881147,\n",
       "        0.53113383, 0.52745884, 0.52231779, 0.50756552, 0.52945542,\n",
       "        0.54289429, 0.52729561, 0.53147299, 0.55968327, 0.5401756 ,\n",
       "        0.56538753, 0.52887211, 0.52853119, 0.50807074, 0.5334539 ,\n",
       "        0.52856498, 0.56192659, 0.53123017, 0.54919099, 0.51173898,\n",
       "        0.51199146, 0.53288671, 0.54176518, 0.54253302, 0.54159255,\n",
       "        0.51995526, 0.51383631, 0.53906887, 0.5580035 , 0.52733792,\n",
       "        0.51675274, 0.56051828, 0.50882407, 0.51170695, 0.54026615,\n",
       "        0.55684944, 0.53740485, 0.50992732, 0.52736384, 0.50977598,\n",
       "        0.54671207, 0.53012143, 0.51427746, 0.53448126, 0.50100587,\n",
       "        0.52939325, 0.53818988, 0.52708132, 0.51791249, 0.54030542,\n",
       "        0.52502475, 0.53954691, 0.52487465, 0.56028376, 0.53341826,\n",
       "        0.53270301, 0.52697646, 0.50466193, 0.52891791, 0.54272245,\n",
       "        0.54214502, 0.54586437, 0.52848652, 0.53051253, 0.53847752,\n",
       "        0.52754218, 0.55990915, 0.55779999, 0.54375648, 0.53706041,\n",
       "        0.50375406, 0.53946185, 0.54346556, 0.52803686, 0.55061336,\n",
       "        0.53434683, 0.55071739, 0.54210324, 0.52218193, 0.53820982,\n",
       "        0.53439318, 0.52864002, 0.53143424, 0.51114336, 0.50660928,\n",
       "        0.50937409, 0.50748326, 0.51679914, 0.5453484 , 0.53160505,\n",
       "        0.56146914, 0.54464942, 0.53513067, 0.56641208, 0.54024341,\n",
       "        0.53273869, 0.53371622, 0.52613876, 0.5062831 , 0.5399575 ,\n",
       "        0.54851224, 0.5352707 , 0.55920787, 0.50961617, 0.50133179,\n",
       "        0.53839123, 0.52837833, 0.5305059 , 0.5173968 , 0.56135217,\n",
       "        0.50414017, 0.50381792, 0.52538592, 0.56168658, 0.54492069,\n",
       "        0.54288881, 0.53804622, 0.50556607, 0.5440294 , 0.50306106,\n",
       "        0.53281986, 0.51936801, 0.53521612, 0.54162405, 0.55161589,\n",
       "        0.53691873, 0.51417422, 0.51332398, 0.51264803, 0.53075308,\n",
       "        0.55747968, 0.51582106, 0.50960784, 0.55371175, 0.52577499,\n",
       "        0.55305807, 0.52903121, 0.55043807, 0.53442602, 0.54260562,\n",
       "        0.54585919, 0.56113136, 0.53003373, 0.54362878, 0.55511802,\n",
       "        0.55733299, 0.51250189, 0.54077215, 0.54046011, 0.56049112,\n",
       "        0.54387513, 0.53111031, 0.55957845, 0.56281612, 0.55886018,\n",
       "        0.53395868, 0.53627078, 0.53920423, 0.53005397, 0.51987984,\n",
       "        0.55906114, 0.5407712 , 0.53325037, 0.56154901, 0.50514993,\n",
       "        0.52735644, 0.55558463, 0.54219052, 0.53695295, 0.51887401,\n",
       "        0.53686057, 0.53282377, 0.52764102, 0.50259464, 0.54064079,\n",
       "        0.53717422, 0.55898111, 0.5575431 , 0.52868254, 0.50023363,\n",
       "        0.50616437, 0.52843618, 0.56030374, 0.54361664, 0.5182313 ,\n",
       "        0.53189732, 0.51532306, 0.53452155, 0.54947098, 0.52917862,\n",
       "        0.53021923, 0.51478325, 0.52993285, 0.53341021, 0.54540988,\n",
       "        0.54122349, 0.54663603, 0.52623615, 0.53024412, 0.52397005,\n",
       "        0.55184905, 0.53004916, 0.53737695, 0.55574059, 0.53997468,\n",
       "        0.5320689 , 0.54108087, 0.56251897, 0.5478644 , 0.52701104,\n",
       "        0.52875087, 0.54226048, 0.52484711, 0.50863653, 0.52554234,\n",
       "        0.52654987, 0.51814897, 0.50164802, 0.53185482, 0.51776052,\n",
       "        0.55366631, 0.55679638, 0.53354823, 0.54785922, 0.53167821,\n",
       "        0.5363135 , 0.53537405, 0.5306136 , 0.53672603, 0.51194245,\n",
       "        0.54605095, 0.53318187, 0.55514299, 0.55500542, 0.52964005,\n",
       "        0.53766086, 0.53886131, 0.51490481, 0.53211029, 0.55181684,\n",
       "        0.54769708, 0.53798085, 0.53698281, 0.5596478 , 0.54257981,\n",
       "        0.53685468, 0.5115273 , 0.50970243, 0.5547284 , 0.53421967,\n",
       "        0.50885134, 0.53033974, 0.52763569, 0.54725103, 0.53687375,\n",
       "        0.53858445, 0.54065239, 0.51559717, 0.56375132, 0.52488957,\n",
       "        0.53736361, 0.54679916, 0.56094349, 0.50631923, 0.50741165,\n",
       "        0.55544087, 0.52506504, 0.51512269, 0.50090505, 0.55243601,\n",
       "        0.52871704, 0.52904664, 0.54796587, 0.54654937, 0.52819008,\n",
       "        0.52753453, 0.54251728, 0.52611869, 0.53578399, 0.5478324 ,\n",
       "        0.52388697, 0.54469883, 0.55537449, 0.53151374, 0.54980225,\n",
       "        0.52679554, 0.5361696 , 0.53958986, 0.54198438, 0.54071894,\n",
       "        0.52090503, 0.53590419, 0.52581376, 0.53212795, 0.52872953,\n",
       "        0.5233566 , 0.5532328 , 0.53417332, 0.53575648, 0.52553263,\n",
       "        0.53466417, 0.53709982, 0.5287751 , 0.50971398, 0.54278013,\n",
       "        0.51143158, 0.50258213, 0.50610433, 0.52139531, 0.51541034,\n",
       "        0.54371374, 0.50672034, 0.54075638, 0.52509572, 0.51495817,\n",
       "        0.5420392 , 0.5306968 , 0.54911506, 0.56173583, 0.51031426,\n",
       "        0.54106572, 0.51752894, 0.55204112, 0.5197965 , 0.55685304,\n",
       "        0.52957369, 0.53893281, 0.52880816, 0.54640931, 0.55293472,\n",
       "        0.5461188 , 0.50573331, 0.52853554, 0.53071761, 0.53902905,\n",
       "        0.54096695, 0.50985968, 0.51860334, 0.55567044, 0.53965568,\n",
       "        0.54528135, 0.5406072 , 0.52847266, 0.53685051, 0.54208117,\n",
       "        0.54494088, 0.54929816, 0.53734008, 0.56054109, 0.53491069,\n",
       "        0.53777777, 0.52789945, 0.52250689, 0.50747554, 0.54151524,\n",
       "        0.55911418, 0.55806093, 0.50898395, 0.53687014, 0.52427993,\n",
       "        0.51735559, 0.56115835, 0.54350971, 0.53787661, 0.5167261 ,\n",
       "        0.50868118, 0.52827197, 0.54042886, 0.5407777 , 0.55017722,\n",
       "        0.54634969, 0.53739076, 0.55806485, 0.52554339, 0.52502609,\n",
       "        0.52296042, 0.55970981, 0.5346505 , 0.52327801, 0.53826904,\n",
       "        0.49944207, 0.54248908, 0.52895455, 0.51481458, 0.51933265,\n",
       "        0.52968299, 0.53543108, 0.52855762, 0.54561923, 0.52964022,\n",
       "        0.53694784, 0.56493561, 0.53385257, 0.53296215, 0.52280829,\n",
       "        0.53895483, 0.55724799, 0.51000835, 0.53740285, 0.53086213,\n",
       "        0.50994445, 0.5444743 , 0.52391914, 0.53844397, 0.526473  ,\n",
       "        0.52205893, 0.54184859, 0.53780028, 0.54869942, 0.53286043,\n",
       "        0.5297401 , 0.56005874, 0.56247915, 0.5348394 , 0.5096374 ,\n",
       "        0.53143467, 0.52373626, 0.54675982, 0.5347009 , 0.53938002,\n",
       "        0.52806897, 0.52340712, 0.54425276, 0.53908647, 0.52491567,\n",
       "        0.53846271, 0.56240322, 0.55970023, 0.51797544, 0.5343824 ,\n",
       "        0.55754368, 0.51919248, 0.52794981, 0.52819258, 0.51112496,\n",
       "        0.53127099, 0.52052541, 0.52895754, 0.52514457, 0.52660257,\n",
       "        0.52495308, 0.53077678, 0.53579798, 0.54040826, 0.54163282,\n",
       "        0.54020784, 0.52721368, 0.52616983, 0.54258055, 0.53307889,\n",
       "        0.51323145, 0.50454694, 0.52759493, 0.5379791 , 0.53111936,\n",
       "        0.52761891, 0.55949127, 0.51654475, 0.50915126, 0.52732603,\n",
       "        0.5419925 , 0.53900238, 0.51170867, 0.5341667 , 0.51035173,\n",
       "        0.54013767, 0.53613493, 0.53196104, 0.53584706, 0.53690024,\n",
       "        0.52603872, 0.54632051, 0.53832326, 0.53600019, 0.54110536,\n",
       "        0.56101416, 0.52398651, 0.55696971, 0.50231469, 0.52650374,\n",
       "        0.5232275 , 0.56248815, 0.55213764, 0.53396355, 0.52783537,\n",
       "        0.56230933, 0.50368636, 0.51584741, 0.52684554, 0.54614379,\n",
       "        0.52687065, 0.53843576, 0.53544409, 0.5582703 , 0.5549993 ,\n",
       "        0.54332662, 0.53678925, 0.5402041 , 0.54158866, 0.54291493,\n",
       "        0.52371905, 0.52354885, 0.54401301, 0.56129838, 0.54286904,\n",
       "        0.56471136, 0.53284502, 0.52821171, 0.55328312, 0.53129937,\n",
       "        0.49913653, 0.50823027, 0.5046514 , 0.5539591 , 0.509447  ,\n",
       "        0.52765229, 0.54434571, 0.53413989, 0.54377291, 0.54355883,\n",
       "        0.5400759 , 0.56232499, 0.5054215 , 0.55091337, 0.52681852,\n",
       "        0.52580447, 0.52847215, 0.54147994, 0.54907371, 0.54086303,\n",
       "        0.53756288, 0.54771383, 0.52493915, 0.54534616, 0.53382923,\n",
       "        0.53024312, 0.54323067, 0.53941039, 0.53437717, 0.52035575,\n",
       "        0.54536025, 0.52567936, 0.5446117 , 0.5452563 , 0.54318717,\n",
       "        0.5382077 , 0.527716  , 0.53731142, 0.54067773, 0.53429282,\n",
       "        0.54284764, 0.5536736 , 0.50075261, 0.50031222, 0.54873873,\n",
       "        0.55107952, 0.54188879, 0.51842625, 0.5569277 , 0.5181896 ,\n",
       "        0.53281632, 0.55128032, 0.53643058, 0.5255026 , 0.55897212,\n",
       "        0.53248842, 0.52680007, 0.5420031 , 0.53110747, 0.5189906 ,\n",
       "        0.55848165, 0.52068977, 0.56095297, 0.51635796, 0.52813491,\n",
       "        0.52534257, 0.55367731, 0.53617792, 0.52437163, 0.52924582,\n",
       "        0.51724083, 0.51739846, 0.4968504 , 0.51010988, 0.52989719,\n",
       "        0.52846152, 0.52767301, 0.53642434, 0.53002556, 0.51999658,\n",
       "        0.52847037, 0.52233384, 0.5445247 , 0.55446766, 0.52860138,\n",
       "        0.55953504, 0.54018894, 0.55852195, 0.52353732, 0.54482463,\n",
       "        0.52526919, 0.50787246, 0.56186771, 0.56412398, 0.56280785,\n",
       "        0.55053867, 0.50929639, 0.52536192, 0.54598396, 0.53119359,\n",
       "        0.56290909, 0.5576028 , 0.5298423 , 0.52956153, 0.52703008,\n",
       "        0.53674865, 0.55260864, 0.54059662, 0.52669503, 0.56011314,\n",
       "        0.54754162, 0.53167962, 0.53551176, 0.50554548, 0.50539593,\n",
       "        0.56035356, 0.54423881, 0.50611057, 0.50839781, 0.50411766,\n",
       "        0.54377497, 0.50265014, 0.52901532, 0.51335996, 0.50260842,\n",
       "        0.54304294, 0.54051231, 0.52819799, 0.54931618, 0.52488999,\n",
       "        0.544206  , 0.52753702, 0.51656391, 0.54327739, 0.52752931,\n",
       "        0.51059652, 0.55323578, 0.51863485, 0.53684882, 0.50248693,\n",
       "        0.53746554, 0.52422639, 0.55212958, 0.52374363, 0.54810766,\n",
       "        0.5429079 , 0.55514872, 0.52640934, 0.5294469 , 0.54931206,\n",
       "        0.54559578, 0.54417995, 0.56228239, 0.53801109, 0.55419346,\n",
       "        0.53042123, 0.54302837, 0.50882138, 0.53578911, 0.53230449,\n",
       "        0.53461643, 0.52527468, 0.55738164, 0.52037348, 0.54027841,\n",
       "        0.55632632, 0.53858139, 0.54103583, 0.55211227, 0.53126365,\n",
       "        0.52398756, 0.53729472, 0.53664675, 0.54226112, 0.52045835,\n",
       "        0.53155312, 0.50502853, 0.54130328, 0.55868484, 0.54652005,\n",
       "        0.5075443 , 0.52986814, 0.52643837, 0.5219971 , 0.55115614,\n",
       "        0.53637379, 0.51131665, 0.50511325, 0.53381925, 0.54019983,\n",
       "        0.51512846, 0.53871043, 0.55875073, 0.50236112, 0.56341137,\n",
       "        0.56001508, 0.53840294, 0.53090018, 0.5289077 , 0.5026933 ,\n",
       "        0.52434453, 0.54835497, 0.55913942, 0.5635793 , 0.54272411,\n",
       "        0.51335765, 0.53304128, 0.53479772, 0.50544066, 0.53192677,\n",
       "        0.53659972, 0.51902617, 0.53524366, 0.507244  , 0.5406676 ,\n",
       "        0.5413864 , 0.5176402 , 0.52272045, 0.54025632, 0.52812924,\n",
       "        0.5568424 , 0.53456695, 0.52739717, 0.52036253, 0.53635998,\n",
       "        0.53924617, 0.56267855, 0.56434806, 0.53227397, 0.53563237,\n",
       "        0.52935013, 0.53522353, 0.54264617, 0.52708619, 0.53862228,\n",
       "        0.50453306, 0.5417062 , 0.52447931, 0.52980633, 0.53964802,\n",
       "        0.5380696 , 0.53770198, 0.5159231 , 0.53741296, 0.54527438,\n",
       "        0.50590912, 0.5474188 , 0.52512946, 0.53314243, 0.54611789,\n",
       "        0.53257543, 0.53520355, 0.50597255, 0.51760029, 0.51729624,\n",
       "        0.53377295, 0.56032133, 0.54277076, 0.53080471, 0.52118313,\n",
       "        0.50675848, 0.52493797, 0.54643554, 0.54421033, 0.56274842,\n",
       "        0.54216419, 0.50730947, 0.55746219, 0.54093433, 0.54370286,\n",
       "        0.53788776, 0.54218812, 0.53248674, 0.52435987, 0.53808047]])"
      ]
     },
     "execution_count": 23,
     "metadata": {},
     "output_type": "execute_result"
    }
   ],
   "source": [
    "activations[f'A{parametres[1][0]}']"
   ]
  },
  {
   "cell_type": "code",
   "execution_count": 295,
   "id": "e0c9b342",
   "metadata": {},
   "outputs": [
    {
     "data": {
      "text/plain": [
       "array([[ True,  True,  True,  True,  True,  True,  True,  True,  True,\n",
       "         True,  True,  True,  True,  True,  True,  True,  True,  True,\n",
       "         True,  True,  True,  True,  True,  True,  True,  True,  True,\n",
       "         True,  True,  True,  True,  True,  True,  True,  True,  True,\n",
       "         True,  True,  True,  True,  True,  True,  True,  True,  True,\n",
       "         True,  True,  True,  True,  True,  True,  True,  True,  True,\n",
       "         True,  True,  True,  True,  True,  True,  True,  True,  True,\n",
       "         True,  True,  True,  True,  True,  True,  True,  True,  True,\n",
       "         True,  True,  True,  True,  True,  True,  True,  True,  True,\n",
       "         True,  True,  True,  True,  True,  True,  True,  True,  True,\n",
       "         True,  True,  True,  True,  True,  True,  True,  True,  True,\n",
       "         True,  True,  True,  True,  True,  True,  True,  True,  True,\n",
       "         True,  True,  True,  True,  True,  True,  True,  True,  True,\n",
       "         True,  True,  True,  True,  True,  True,  True,  True,  True,\n",
       "         True,  True,  True,  True,  True,  True,  True,  True,  True,\n",
       "         True,  True,  True,  True,  True,  True,  True,  True,  True,\n",
       "         True,  True,  True,  True,  True,  True,  True,  True,  True,\n",
       "         True,  True,  True,  True,  True,  True,  True,  True,  True,\n",
       "         True,  True,  True,  True,  True,  True,  True,  True,  True,\n",
       "         True,  True,  True,  True,  True,  True,  True,  True,  True,\n",
       "         True,  True,  True,  True,  True,  True,  True,  True,  True,\n",
       "         True,  True,  True,  True,  True,  True,  True,  True,  True,\n",
       "         True,  True]])"
      ]
     },
     "execution_count": 295,
     "metadata": {},
     "output_type": "execute_result"
    }
   ],
   "source": [
    "predict(X_test, parametres)"
   ]
  },
  {
   "cell_type": "code",
   "execution_count": 298,
   "id": "d2234325",
   "metadata": {},
   "outputs": [
    {
     "ename": "ValueError",
     "evalue": "Length mismatch: Expected axis has 1 elements, new values have 2 elements",
     "output_type": "error",
     "traceback": [
      "\u001b[1;31m---------------------------------------------------------------------------\u001b[0m",
      "\u001b[1;31mValueError\u001b[0m                                Traceback (most recent call last)",
      "Cell \u001b[1;32mIn[298], line 1\u001b[0m\n\u001b[1;32m----> 1\u001b[0m \u001b[43mevaluation\u001b[49m\u001b[43m(\u001b[49m\u001b[43mX_test\u001b[49m\u001b[43m,\u001b[49m\u001b[43m \u001b[49m\u001b[43my_test\u001b[49m\u001b[43m,\u001b[49m\u001b[43m \u001b[49m\u001b[43mparametres\u001b[49m\u001b[43m)\u001b[49m\n",
      "Cell \u001b[1;32mIn[274], line 11\u001b[0m, in \u001b[0;36mevaluation\u001b[1;34m(X_test, y_test, parametres)\u001b[0m\n\u001b[0;32m      9\u001b[0m crosstab \u001b[38;5;241m=\u001b[39m pd\u001b[38;5;241m.\u001b[39mcrosstab(y_test, y_pred\u001b[38;5;241m.\u001b[39mastype(\u001b[38;5;124m'\u001b[39m\u001b[38;5;124mint\u001b[39m\u001b[38;5;124m'\u001b[39m))\n\u001b[0;32m     10\u001b[0m crosstab\u001b[38;5;241m.\u001b[39mindex \u001b[38;5;241m=\u001b[39m [\u001b[38;5;124m'\u001b[39m\u001b[38;5;124mtest 0\u001b[39m\u001b[38;5;124m'\u001b[39m, \u001b[38;5;124m'\u001b[39m\u001b[38;5;124mtest 1\u001b[39m\u001b[38;5;124m'\u001b[39m]\n\u001b[1;32m---> 11\u001b[0m crosstab\u001b[38;5;241m.\u001b[39mcolumns \u001b[38;5;241m=\u001b[39m [\u001b[38;5;124m'\u001b[39m\u001b[38;5;124mpred 0\u001b[39m\u001b[38;5;124m'\u001b[39m, \u001b[38;5;124m'\u001b[39m\u001b[38;5;124mpred 1\u001b[39m\u001b[38;5;124m'\u001b[39m]\n\u001b[0;32m     12\u001b[0m crosstab \u001b[38;5;241m=\u001b[39m crosstab\u001b[38;5;241m.\u001b[39mT\n\u001b[0;32m     14\u001b[0m \u001b[38;5;28mprint\u001b[39m(\u001b[38;5;124mf\u001b[39m\u001b[38;5;124m\"\u001b[39m\u001b[38;5;124mL\u001b[39m\u001b[38;5;124m'\u001b[39m\u001b[38;5;124maccuracy sur le jeu de test est de \u001b[39m\u001b[38;5;132;01m{\u001b[39;00maccuracy_test\u001b[38;5;132;01m}\u001b[39;00m\u001b[38;5;124m\"\u001b[39m)\n",
      "File \u001b[1;32mC:\\ProgramData\\Anaconda3\\lib\\site-packages\\pandas\\core\\generic.py:5915\u001b[0m, in \u001b[0;36mNDFrame.__setattr__\u001b[1;34m(self, name, value)\u001b[0m\n\u001b[0;32m   5913\u001b[0m \u001b[38;5;28;01mtry\u001b[39;00m:\n\u001b[0;32m   5914\u001b[0m     \u001b[38;5;28mobject\u001b[39m\u001b[38;5;241m.\u001b[39m\u001b[38;5;21m__getattribute__\u001b[39m(\u001b[38;5;28mself\u001b[39m, name)\n\u001b[1;32m-> 5915\u001b[0m     \u001b[38;5;28;01mreturn\u001b[39;00m \u001b[38;5;28;43mobject\u001b[39;49m\u001b[38;5;241;43m.\u001b[39;49m\u001b[38;5;21;43m__setattr__\u001b[39;49m\u001b[43m(\u001b[49m\u001b[38;5;28;43mself\u001b[39;49m\u001b[43m,\u001b[49m\u001b[43m \u001b[49m\u001b[43mname\u001b[49m\u001b[43m,\u001b[49m\u001b[43m \u001b[49m\u001b[43mvalue\u001b[49m\u001b[43m)\u001b[49m\n\u001b[0;32m   5916\u001b[0m \u001b[38;5;28;01mexcept\u001b[39;00m \u001b[38;5;167;01mAttributeError\u001b[39;00m:\n\u001b[0;32m   5917\u001b[0m     \u001b[38;5;28;01mpass\u001b[39;00m\n",
      "File \u001b[1;32mC:\\ProgramData\\Anaconda3\\lib\\site-packages\\pandas\\_libs\\properties.pyx:69\u001b[0m, in \u001b[0;36mpandas._libs.properties.AxisProperty.__set__\u001b[1;34m()\u001b[0m\n",
      "File \u001b[1;32mC:\\ProgramData\\Anaconda3\\lib\\site-packages\\pandas\\core\\generic.py:823\u001b[0m, in \u001b[0;36mNDFrame._set_axis\u001b[1;34m(self, axis, labels)\u001b[0m\n\u001b[0;32m    821\u001b[0m \u001b[38;5;28;01mdef\u001b[39;00m \u001b[38;5;21m_set_axis\u001b[39m(\u001b[38;5;28mself\u001b[39m, axis: \u001b[38;5;28mint\u001b[39m, labels: AnyArrayLike \u001b[38;5;241m|\u001b[39m \u001b[38;5;28mlist\u001b[39m) \u001b[38;5;241m-\u001b[39m\u001b[38;5;241m>\u001b[39m \u001b[38;5;28;01mNone\u001b[39;00m:\n\u001b[0;32m    822\u001b[0m     labels \u001b[38;5;241m=\u001b[39m ensure_index(labels)\n\u001b[1;32m--> 823\u001b[0m     \u001b[38;5;28;43mself\u001b[39;49m\u001b[38;5;241;43m.\u001b[39;49m\u001b[43m_mgr\u001b[49m\u001b[38;5;241;43m.\u001b[39;49m\u001b[43mset_axis\u001b[49m\u001b[43m(\u001b[49m\u001b[43maxis\u001b[49m\u001b[43m,\u001b[49m\u001b[43m \u001b[49m\u001b[43mlabels\u001b[49m\u001b[43m)\u001b[49m\n\u001b[0;32m    824\u001b[0m     \u001b[38;5;28mself\u001b[39m\u001b[38;5;241m.\u001b[39m_clear_item_cache()\n",
      "File \u001b[1;32mC:\\ProgramData\\Anaconda3\\lib\\site-packages\\pandas\\core\\internals\\managers.py:230\u001b[0m, in \u001b[0;36mBaseBlockManager.set_axis\u001b[1;34m(self, axis, new_labels)\u001b[0m\n\u001b[0;32m    228\u001b[0m \u001b[38;5;28;01mdef\u001b[39;00m \u001b[38;5;21mset_axis\u001b[39m(\u001b[38;5;28mself\u001b[39m, axis: \u001b[38;5;28mint\u001b[39m, new_labels: Index) \u001b[38;5;241m-\u001b[39m\u001b[38;5;241m>\u001b[39m \u001b[38;5;28;01mNone\u001b[39;00m:\n\u001b[0;32m    229\u001b[0m     \u001b[38;5;66;03m# Caller is responsible for ensuring we have an Index object.\u001b[39;00m\n\u001b[1;32m--> 230\u001b[0m     \u001b[38;5;28;43mself\u001b[39;49m\u001b[38;5;241;43m.\u001b[39;49m\u001b[43m_validate_set_axis\u001b[49m\u001b[43m(\u001b[49m\u001b[43maxis\u001b[49m\u001b[43m,\u001b[49m\u001b[43m \u001b[49m\u001b[43mnew_labels\u001b[49m\u001b[43m)\u001b[49m\n\u001b[0;32m    231\u001b[0m     \u001b[38;5;28mself\u001b[39m\u001b[38;5;241m.\u001b[39maxes[axis] \u001b[38;5;241m=\u001b[39m new_labels\n",
      "File \u001b[1;32mC:\\ProgramData\\Anaconda3\\lib\\site-packages\\pandas\\core\\internals\\base.py:70\u001b[0m, in \u001b[0;36mDataManager._validate_set_axis\u001b[1;34m(self, axis, new_labels)\u001b[0m\n\u001b[0;32m     67\u001b[0m     \u001b[38;5;28;01mpass\u001b[39;00m\n\u001b[0;32m     69\u001b[0m \u001b[38;5;28;01melif\u001b[39;00m new_len \u001b[38;5;241m!=\u001b[39m old_len:\n\u001b[1;32m---> 70\u001b[0m     \u001b[38;5;28;01mraise\u001b[39;00m \u001b[38;5;167;01mValueError\u001b[39;00m(\n\u001b[0;32m     71\u001b[0m         \u001b[38;5;124mf\u001b[39m\u001b[38;5;124m\"\u001b[39m\u001b[38;5;124mLength mismatch: Expected axis has \u001b[39m\u001b[38;5;132;01m{\u001b[39;00mold_len\u001b[38;5;132;01m}\u001b[39;00m\u001b[38;5;124m elements, new \u001b[39m\u001b[38;5;124m\"\u001b[39m\n\u001b[0;32m     72\u001b[0m         \u001b[38;5;124mf\u001b[39m\u001b[38;5;124m\"\u001b[39m\u001b[38;5;124mvalues have \u001b[39m\u001b[38;5;132;01m{\u001b[39;00mnew_len\u001b[38;5;132;01m}\u001b[39;00m\u001b[38;5;124m elements\u001b[39m\u001b[38;5;124m\"\u001b[39m\n\u001b[0;32m     73\u001b[0m     )\n",
      "\u001b[1;31mValueError\u001b[0m: Length mismatch: Expected axis has 1 elements, new values have 2 elements"
     ]
    }
   ],
   "source": [
    "evaluation(X_test, y_test, parametres)"
   ]
  },
  {
   "cell_type": "markdown",
   "id": "b2486b40",
   "metadata": {},
   "source": [
    "## Test sur les photos de chiens et chats"
   ]
  },
  {
   "cell_type": "code",
   "execution_count": 159,
   "id": "4265678f",
   "metadata": {},
   "outputs": [],
   "source": [
    "import h5py\n",
    "import utilities"
   ]
  },
  {
   "cell_type": "code",
   "execution_count": 160,
   "id": "a12a7362",
   "metadata": {},
   "outputs": [],
   "source": [
    "X_train, y_train, X_test, y_test = utilities.load_data()"
   ]
  },
  {
   "cell_type": "code",
   "execution_count": 161,
   "id": "90724177",
   "metadata": {},
   "outputs": [
    {
     "name": "stdout",
     "output_type": "stream",
     "text": [
      "(1000, 64, 64)\n",
      "(1000, 1)\n",
      "(200, 64, 64)\n",
      "(200, 1)\n"
     ]
    }
   ],
   "source": [
    "print(X_train.shape)\n",
    "print(y_train.shape)\n",
    "print(X_test.shape)\n",
    "print(y_test.shape)"
   ]
  },
  {
   "cell_type": "code",
   "execution_count": 162,
   "id": "a45ba707",
   "metadata": {},
   "outputs": [],
   "source": [
    "# standardisation entre 0 et 1\n",
    "X_train_scaler = X_train/255\n",
    "X_test_scaler = X_test/255\n",
    "\n",
    "# vectorisation des images\n",
    "X_train_scaler = X_train_scaler.reshape(X_train_scaler.shape[0], X_train_scaler.shape[1]*X_train_scaler.shape[2])\n",
    "X_test_scaler = X_test_scaler.reshape(X_test_scaler.shape[0], X_test_scaler.shape[1]*X_test_scaler.shape[2])\n",
    "\n",
    "# transposition des matrices\n",
    "X_train_scaler = X_train_scaler.T\n",
    "X_test_scaler = X_test_scaler.T\n",
    "y_train = y_train.reshape((1, y_train.shape[0]))\n",
    "y_test = y_test.reshape((1, y_test.shape[0]))"
   ]
  },
  {
   "cell_type": "code",
   "execution_count": 163,
   "id": "ccd194d6",
   "metadata": {},
   "outputs": [
    {
     "name": "stdout",
     "output_type": "stream",
     "text": [
      "(4096, 1000)\n",
      "(1, 1000)\n",
      "(4096, 200)\n",
      "(1, 200)\n"
     ]
    }
   ],
   "source": [
    "print(X_train_scaler.shape)\n",
    "print(y_train.shape)\n",
    "print(X_test_scaler.shape)\n",
    "print(y_test.shape)"
   ]
  },
  {
   "cell_type": "code",
   "execution_count": 166,
   "id": "1f0cbdd2",
   "metadata": {},
   "outputs": [
    {
     "name": "stderr",
     "output_type": "stream",
     "text": [
      "100%|████████████████████████████████████████████████████████████████████████████| 20000/20000 [08:04<00:00, 41.27it/s]\n"
     ]
    },
    {
     "data": {
      "image/png": "[encoded data removed]",
      "text/plain": [
       "<Figure size 1200x400 with 2 Axes>"
      ]
     },
     "metadata": {},
     "output_type": "display_data"
    }
   ],
   "source": [
    "parametres = neural_network(\n",
    "    X_train=X_train_scaler, y_train=y_train, n1=32,\n",
    "    learning_rate = 0.01, n_iter = 20000)"
   ]
  },
  {
   "cell_type": "code",
   "execution_count": 167,
   "id": "256702a8",
   "metadata": {},
   "outputs": [
    {
     "name": "stdout",
     "output_type": "stream",
     "text": [
      "L'accuracy sur le jeu de test est de 0.515\n"
     ]
    },
    {
     "data": {
      "text/html": [
       "<div>\n",
       "<style scoped>\n",
       "    .dataframe tbody tr th:only-of-type {\n",
       "        vertical-align: middle;\n",
       "    }\n",
       "\n",
       "    .dataframe tbody tr th {\n",
       "        vertical-align: top;\n",
       "    }\n",
       "\n",
       "    .dataframe thead th {\n",
       "        text-align: right;\n",
       "    }\n",
       "</style>\n",
       "<table border=\"1\" class=\"dataframe\">\n",
       "  <thead>\n",
       "    <tr style=\"text-align: right;\">\n",
       "      <th></th>\n",
       "      <th>test 0</th>\n",
       "      <th>test 1</th>\n",
       "    </tr>\n",
       "  </thead>\n",
       "  <tbody>\n",
       "    <tr>\n",
       "      <th>pred 0</th>\n",
       "      <td>47</td>\n",
       "      <td>44</td>\n",
       "    </tr>\n",
       "    <tr>\n",
       "      <th>pred 1</th>\n",
       "      <td>53</td>\n",
       "      <td>56</td>\n",
       "    </tr>\n",
       "  </tbody>\n",
       "</table>\n",
       "</div>"
      ],
      "text/plain": [
       "        test 0  test 1\n",
       "pred 0      47      44\n",
       "pred 1      53      56"
      ]
     },
     "execution_count": 167,
     "metadata": {},
     "output_type": "execute_result"
    }
   ],
   "source": [
    "evaluation(X_test_scaler, y_test, parametres)"
   ]
  },
  {
   "cell_type": "code",
   "execution_count": null,
   "id": "639f296b",
   "metadata": {},
   "outputs": [],
   "source": []
  }
 ],
 "metadata": {
  "kernelspec": {
   "display_name": "Python 3 (ipykernel)",
   "language": "python",
   "name": "python3"
  },
  "language_info": {
   "codemirror_mode": {
    "name": "ipython",
    "version": 3
   },
   "file_extension": ".py",
   "mimetype": "text/x-python",
   "name": "python",
   "nbconvert_exporter": "python",
   "pygments_lexer": "ipython3",
   "version": "3.9.16"
  }
 },
 "nbformat": 4,
 "nbformat_minor": 5
}
