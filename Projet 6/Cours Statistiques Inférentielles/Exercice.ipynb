{
 "cells": [
  {
   "cell_type": "code",
   "execution_count": 1,
   "id": "d1770d1f",
   "metadata": {},
   "outputs": [],
   "source": [
    "import numpy as np\n",
    "import pandas as pd\n",
    "import matplotlib.pyplot as plt\n",
    "import seaborn as sns\n",
    "import scipy.stats as st\n",
    "from scipy.stats import norm\n",
    "import statsmodels as stm"
   ]
  },
  {
   "cell_type": "code",
   "execution_count": 4,
   "id": "524c4927",
   "metadata": {},
   "outputs": [
    {
     "data": {
      "text/html": [
       "<div>\n",
       "<style scoped>\n",
       "    .dataframe tbody tr th:only-of-type {\n",
       "        vertical-align: middle;\n",
       "    }\n",
       "\n",
       "    .dataframe tbody tr th {\n",
       "        vertical-align: top;\n",
       "    }\n",
       "\n",
       "    .dataframe thead th {\n",
       "        text-align: right;\n",
       "    }\n",
       "</style>\n",
       "<table border=\"1\" class=\"dataframe\">\n",
       "  <thead>\n",
       "    <tr style=\"text-align: right;\">\n",
       "      <th></th>\n",
       "      <th>Nombre de naissance</th>\n",
       "    </tr>\n",
       "  </thead>\n",
       "  <tbody>\n",
       "    <tr>\n",
       "      <th>Homme</th>\n",
       "      <td>399284</td>\n",
       "    </tr>\n",
       "    <tr>\n",
       "      <th>Femme</th>\n",
       "      <td>381883</td>\n",
       "    </tr>\n",
       "  </tbody>\n",
       "</table>\n",
       "</div>"
      ],
      "text/plain": [
       "       Nombre de naissance\n",
       "Homme               399284\n",
       "Femme               381883"
      ]
     },
     "execution_count": 4,
     "metadata": {},
     "output_type": "execute_result"
    }
   ],
   "source": [
    "df=pd.DataFrame(data=[[399284], [381883]], index=['Homme', 'Femme'], columns=['Nombre de naissance'])\n",
    "df"
   ]
  },
  {
   "cell_type": "markdown",
   "id": "f2f91cb0",
   "metadata": {},
   "source": [
    "Question 1\n",
    "\n",
    "Réaliser ce test d’équiprobabilité, et donnez la P-valeur."
   ]
  },
  {
   "cell_type": "code",
   "execution_count": 20,
   "id": "dd362aff",
   "metadata": {},
   "outputs": [
    {
     "data": {
      "text/plain": [
       "0.5111378232823455"
      ]
     },
     "execution_count": 20,
     "metadata": {},
     "output_type": "execute_result"
    }
   ],
   "source": [
    "homme=df['Nombre de naissance'][0]\n",
    "total=df['Nombre de naissance'].sum()\n",
    "pe=homme/total\n",
    "pe\n",
    "# on trouve 51% de manière emprique, nous allons voir avec le test statistique"
   ]
  },
  {
   "cell_type": "code",
   "execution_count": 27,
   "id": "da53c662",
   "metadata": {},
   "outputs": [
    {
     "data": {
      "text/plain": [
       "2.7483322698911545e-86"
      ]
     },
     "execution_count": 27,
     "metadata": {},
     "output_type": "execute_result"
    }
   ],
   "source": [
    "# test statistique sur une proportion ici --> test binomial\n",
    "st.binom_test(homme, total, p = 0.5, alternative = 'two-sided')"
   ]
  },
  {
   "cell_type": "markdown",
   "id": "ef3fac29",
   "metadata": {},
   "source": [
    "Question 2\n",
    "\n",
    "Accepte-t-on l'hypothèse d’équiprobabilité des naissances femmes-hommes au niveau de test 5% ?"
   ]
  },
  {
   "cell_type": "markdown",
   "id": "e6af88d3",
   "metadata": {},
   "source": [
    "pvalue= 2.7483322698911545e-86, largement inférieur au seuil usuels (0.01, 0.05), donc on rejette H0, on accepte donc pas l'hypothèse d'équiprobabilité au seuil de 5%."
   ]
  },
  {
   "cell_type": "markdown",
   "id": "57a47a68",
   "metadata": {},
   "source": [
    "Question 3\n",
    "\n",
    "Supposons maintenant que la taille de l'échantillon soit différente, mais que les fréquences femmes-hommes soient les mêmes.\n",
    "\n",
    "Calculez le nombre de femmes et d'hommes dans chacun de ces 3 cas :\n",
    "\n",
    "échantillon de taille n = 100\n",
    "\n",
    "échantillon de taille n = 1000\n",
    "\n",
    "échantillon de taille n = 10000"
   ]
  },
  {
   "cell_type": "code",
   "execution_count": 37,
   "id": "1b64dcdf",
   "metadata": {},
   "outputs": [
    {
     "name": "stdout",
     "output_type": "stream",
     "text": [
      "n = 100\n",
      "Nombre homme : 51\n",
      "Nombre femme : 49\n",
      "0.9204107626128211\n",
      "n = 1000\n",
      "Nombre homme : 511\n",
      "Nombre femme : 489\n",
      "0.5066600426244531\n",
      "n = 10000\n",
      "Nombre homme : 5111\n",
      "Nombre femme : 4889\n",
      "0.02710019745317972\n"
     ]
    }
   ],
   "source": [
    "for n in [100, 1000, 10000]:\n",
    "    nb_homme=int(pe*n)\n",
    "    nb_femme=n-nb_homme\n",
    "    print('n =', n)\n",
    "    print('Nombre homme :', nb_homme)\n",
    "    print('Nombre femme :', nb_femme)\n",
    "    print(st.binom_test(nb_homme, n, p = 0.5, alternative = 'two-sided'))"
   ]
  },
  {
   "cell_type": "markdown",
   "id": "f923d12a",
   "metadata": {},
   "source": [
    "Pour n=100 et n=1000, pvalue>>0.05, donc on ne peut pas rejeter H0, donc on accepte l'hypothèse d'équiprobabilité au seuil de 5%\n",
    "\n",
    "Pour n = 10000, pvalue<0.05, on rejette H0, on accepte pas l'hypothèse d'équiprobabilité au seuil de 5%, mais on l'accepterait au seuil de 1%"
   ]
  }
 ],
 "metadata": {
  "kernelspec": {
   "display_name": "Python 3 (ipykernel)",
   "language": "python",
   "name": "python3"
  },
  "language_info": {
   "codemirror_mode": {
    "name": "ipython",
    "version": 3
   },
   "file_extension": ".py",
   "mimetype": "text/x-python",
   "name": "python",
   "nbconvert_exporter": "python",
   "pygments_lexer": "ipython3",
   "version": "3.9.13"
  }
 },
 "nbformat": 4,
 "nbformat_minor": 5
}
