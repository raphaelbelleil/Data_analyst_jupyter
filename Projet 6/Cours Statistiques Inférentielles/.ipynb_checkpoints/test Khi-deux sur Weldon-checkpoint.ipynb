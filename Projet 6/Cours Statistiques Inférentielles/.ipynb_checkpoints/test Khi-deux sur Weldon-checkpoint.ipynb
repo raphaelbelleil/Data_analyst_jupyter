{
 "cells": [
  {
   "cell_type": "code",
   "execution_count": 2,
   "id": "696f7ea5",
   "metadata": {},
   "outputs": [],
   "source": [
    "import numpy as np\n",
    "import pandas as pd\n",
    "import matplotlib.pyplot as plt\n",
    "import seaborn as sns\n",
    "import scipy.stats as st\n",
    "from scipy.stats import norm\n",
    "import statsmodels as stm"
   ]
  },
  {
   "cell_type": "markdown",
   "id": "33e9d6b7",
   "metadata": {},
   "source": [
    "Weldon a réalisé n=26306 lancers de 12 dés à 6 faces et a obtenu les résultats suivants :"
   ]
  },
  {
   "cell_type": "code",
   "execution_count": 49,
   "id": "fbe1462b",
   "metadata": {},
   "outputs": [],
   "source": [
    "C=list(np.array(B)/np.array(B).sum())"
   ]
  },
  {
   "cell_type": "code",
   "execution_count": 53,
   "id": "11f01fb1",
   "metadata": {},
   "outputs": [
    {
     "data": {
      "text/html": [
       "<div>\n",
       "<style scoped>\n",
       "    .dataframe tbody tr th:only-of-type {\n",
       "        vertical-align: middle;\n",
       "    }\n",
       "\n",
       "    .dataframe tbody tr th {\n",
       "        vertical-align: top;\n",
       "    }\n",
       "\n",
       "    .dataframe thead th {\n",
       "        text-align: right;\n",
       "    }\n",
       "</style>\n",
       "<table border=\"1\" class=\"dataframe\">\n",
       "  <thead>\n",
       "    <tr style=\"text-align: right;\">\n",
       "      <th></th>\n",
       "      <th>0</th>\n",
       "      <th>1</th>\n",
       "      <th>2</th>\n",
       "      <th>3</th>\n",
       "      <th>4</th>\n",
       "      <th>5</th>\n",
       "      <th>6</th>\n",
       "      <th>7</th>\n",
       "      <th>8</th>\n",
       "      <th>9</th>\n",
       "      <th>10</th>\n",
       "      <th>11</th>\n",
       "      <th>12</th>\n",
       "    </tr>\n",
       "  </thead>\n",
       "  <tbody>\n",
       "    <tr>\n",
       "      <th>Nombre de 5 ou 6</th>\n",
       "      <td>0.000000</td>\n",
       "      <td>1.000000</td>\n",
       "      <td>2.000000</td>\n",
       "      <td>3.000000</td>\n",
       "      <td>4.000000</td>\n",
       "      <td>5.000000</td>\n",
       "      <td>6.000000</td>\n",
       "      <td>7.000000</td>\n",
       "      <td>8.00000</td>\n",
       "      <td>9.000000</td>\n",
       "      <td>10.000000</td>\n",
       "      <td>11.000000</td>\n",
       "      <td>12.0</td>\n",
       "    </tr>\n",
       "    <tr>\n",
       "      <th>Effectif</th>\n",
       "      <td>185.000000</td>\n",
       "      <td>1149.000000</td>\n",
       "      <td>3265.000000</td>\n",
       "      <td>5475.000000</td>\n",
       "      <td>6114.000000</td>\n",
       "      <td>5194.000000</td>\n",
       "      <td>3067.000000</td>\n",
       "      <td>1331.000000</td>\n",
       "      <td>403.00000</td>\n",
       "      <td>105.000000</td>\n",
       "      <td>14.000000</td>\n",
       "      <td>4.000000</td>\n",
       "      <td>0.0</td>\n",
       "    </tr>\n",
       "    <tr>\n",
       "      <th>Fréquence</th>\n",
       "      <td>0.007033</td>\n",
       "      <td>0.043678</td>\n",
       "      <td>0.124116</td>\n",
       "      <td>0.208127</td>\n",
       "      <td>0.232418</td>\n",
       "      <td>0.197445</td>\n",
       "      <td>0.116589</td>\n",
       "      <td>0.050597</td>\n",
       "      <td>0.01532</td>\n",
       "      <td>0.003991</td>\n",
       "      <td>0.000532</td>\n",
       "      <td>0.000152</td>\n",
       "      <td>0.0</td>\n",
       "    </tr>\n",
       "  </tbody>\n",
       "</table>\n",
       "</div>"
      ],
      "text/plain": [
       "                          0            1            2            3   \\\n",
       "Nombre de 5 ou 6    0.000000     1.000000     2.000000     3.000000   \n",
       "Effectif          185.000000  1149.000000  3265.000000  5475.000000   \n",
       "Fréquence           0.007033     0.043678     0.124116     0.208127   \n",
       "\n",
       "                           4            5            6            7   \\\n",
       "Nombre de 5 ou 6     4.000000     5.000000     6.000000     7.000000   \n",
       "Effectif          6114.000000  5194.000000  3067.000000  1331.000000   \n",
       "Fréquence            0.232418     0.197445     0.116589     0.050597   \n",
       "\n",
       "                         8           9          10         11    12  \n",
       "Nombre de 5 ou 6    8.00000    9.000000  10.000000  11.000000  12.0  \n",
       "Effectif          403.00000  105.000000  14.000000   4.000000   0.0  \n",
       "Fréquence           0.01532    0.003991   0.000532   0.000152   0.0  "
      ]
     },
     "execution_count": 53,
     "metadata": {},
     "output_type": "execute_result"
    }
   ],
   "source": [
    "B = [185,1149,3265,5475,6114,5194,3067,1331,403,105,14,4,0]\n",
    "df=pd.DataFrame([[0,1,2,3,4,5,6,7,8,9,10,11,12],[185,1149,3265,5475,6114,5194,3067,1331,403,105,14,4,0], C])\n",
    "df.index=[\"Nombre de 5 ou 6\",\"Effectif\", \"Fréquence\"]\n",
    "df"
   ]
  },
  {
   "attachments": {
    "image.png": {
     "image/png": "[encoded data removed]"
    }
   },
   "cell_type": "markdown",
   "id": "67d0e635",
   "metadata": {},
   "source": [
    "![image.png](attachment:image.png)"
   ]
  },
  {
   "cell_type": "code",
   "execution_count": 52,
   "id": "d4fcd15a",
   "metadata": {},
   "outputs": [
    {
     "data": {
      "text/plain": [
       "array([7.70734663e-03, 4.62440798e-02, 1.27171219e-01, 2.11952032e-01,\n",
       "       2.38446036e-01, 1.90756829e-01, 1.11274817e-01, 4.76892073e-02,\n",
       "       1.49028773e-02, 3.31175050e-03, 4.96762576e-04, 4.51602342e-05,\n",
       "       1.88167642e-06])"
      ]
     },
     "execution_count": 52,
     "metadata": {},
     "output_type": "execute_result"
    }
   ],
   "source": [
    "n =[185,1149,3265,5475,6114,5194,3067,1331,403,105,14,4,0]\n",
    "# fonction de densité, somme des valeurs = 1, détermine la fréquence d'apparition de chaque valeur\n",
    "p0 = st.binom.pmf(range(13), 12, 1/3.0)\n",
    "p0"
   ]
  },
  {
   "cell_type": "code",
   "execution_count": 37,
   "id": "cae21502",
   "metadata": {},
   "outputs": [
    {
     "data": {
      "text/plain": [
       "<matplotlib.collections.PathCollection at 0x18912d145e0>"
      ]
     },
     "execution_count": 37,
     "metadata": {},
     "output_type": "execute_result"
    },
    {
     "data": {
      "image/png": "[encoded data removed]",
      "text/plain": [
       "<Figure size 640x480 with 1 Axes>"
      ]
     },
     "metadata": {},
     "output_type": "display_data"
    }
   ],
   "source": [
    "plt.scatter(range(13), p0)"
   ]
  },
  {
   "cell_type": "code",
   "execution_count": 54,
   "id": "c3cbe80d",
   "metadata": {},
   "outputs": [
    {
     "data": {
      "text/plain": [
       "(40.742379820747395,\n",
       " 5.410516619906697e-05,\n",
       " 12,\n",
       " array([[2.02573723e+04, 1.21582848e+05, 3.34457039e+05, 5.57461402e+05,\n",
       "         6.27099152e+05, 5.01979123e+05, 2.92857954e+05, 1.25526959e+05,\n",
       "         3.92143653e+04, 8.72959493e+03, 1.30770657e+03, 1.21582685e+02,\n",
       "         4.90092871e+00],\n",
       "        [2.02573723e+02, 1.21582848e+03, 3.34457039e+03, 5.57461402e+03,\n",
       "         6.27099152e+03, 5.01979123e+03, 2.92857954e+03, 1.25526959e+03,\n",
       "         3.92143653e+02, 8.72959493e+01, 1.30770657e+01, 1.21582685e+00,\n",
       "         4.90092871e-02]]))"
      ]
     },
     "execution_count": 54,
     "metadata": {},
     "output_type": "execute_result"
    }
   ],
   "source": [
    "from scipy.stats import chi2_contingency\n",
    "chi2_contingency([p0*float(sum(n))*100,n])"
   ]
  },
  {
   "cell_type": "markdown",
   "id": "d420ad20",
   "metadata": {},
   "source": [
    "Le test n’est pas valide car les effectifs ne sont pas suffisants pour les valeurs 10, 11 et 12. On agrège ces modalités et on relance les calculs :"
   ]
  },
  {
   "cell_type": "code",
   "execution_count": 57,
   "id": "9c6b7d87",
   "metadata": {},
   "outputs": [],
   "source": [
    "n= [185,1149,3265,5475,6114,5194,3067,1331,403,105,18]\n",
    "p0 =np.array(list(st.binom.pmf(range(10), 12, 1/3.0))+[sum(st.binom.pmf(range(10,13), 12, 1/3.0))])"
   ]
  },
  {
   "cell_type": "code",
   "execution_count": 58,
   "id": "e0265392",
   "metadata": {},
   "outputs": [
    {
     "data": {
      "text/plain": [
       "[185, 1149, 3265, 5475, 6114, 5194, 3067, 1331, 403, 105, 18]"
      ]
     },
     "execution_count": 58,
     "metadata": {},
     "output_type": "execute_result"
    }
   ],
   "source": [
    "n"
   ]
  },
  {
   "cell_type": "code",
   "execution_count": 59,
   "id": "f92116d4",
   "metadata": {},
   "outputs": [
    {
     "data": {
      "text/plain": [
       "array([0.00770735, 0.04624408, 0.12717122, 0.21195203, 0.23844604,\n",
       "       0.19075683, 0.11127482, 0.04768921, 0.01490288, 0.00331175,\n",
       "       0.0005438 ])"
      ]
     },
     "execution_count": 59,
     "metadata": {},
     "output_type": "execute_result"
    }
   ],
   "source": [
    "p0"
   ]
  },
  {
   "cell_type": "code",
   "execution_count": 60,
   "id": "cc163509",
   "metadata": {},
   "outputs": [
    {
     "data": {
      "text/plain": [
       "(35.13011859908386,\n",
       " 0.00011863880683773594,\n",
       " 10,\n",
       " array([[2.02573723e+04, 1.21582848e+05, 3.34457039e+05, 5.57461402e+05,\n",
       "         6.27099152e+05, 5.01979123e+05, 2.92857954e+05, 1.25526959e+05,\n",
       "         3.92143653e+04, 8.72959493e+03, 1.43419018e+03],\n",
       "        [2.02573723e+02, 1.21582848e+03, 3.34457039e+03, 5.57461402e+03,\n",
       "         6.27099152e+03, 5.01979123e+03, 2.92857954e+03, 1.25526959e+03,\n",
       "         3.92143653e+02, 8.72959493e+01, 1.43419018e+01]]))"
      ]
     },
     "execution_count": 60,
     "metadata": {},
     "output_type": "execute_result"
    }
   ],
   "source": [
    "chi2_contingency([p0*float(sum(n))*100,n])"
   ]
  },
  {
   "cell_type": "markdown",
   "id": "e37c497f",
   "metadata": {},
   "source": [
    "On rejette très largement l’hypothèse de dés équilibrés au niveau de test 5%."
   ]
  }
 ],
 "metadata": {
  "kernelspec": {
   "display_name": "Python 3 (ipykernel)",
   "language": "python",
   "name": "python3"
  },
  "language_info": {
   "codemirror_mode": {
    "name": "ipython",
    "version": 3
   },
   "file_extension": ".py",
   "mimetype": "text/x-python",
   "name": "python",
   "nbconvert_exporter": "python",
   "pygments_lexer": "ipython3",
   "version": "3.9.13"
  }
 },
 "nbformat": 4,
 "nbformat_minor": 5
}
