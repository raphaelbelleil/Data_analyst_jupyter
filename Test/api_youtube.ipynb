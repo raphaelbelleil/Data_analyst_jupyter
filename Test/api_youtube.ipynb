{
 "cells": [
  {
   "cell_type": "code",
   "execution_count": 1,
   "id": "bcf9d778",
   "metadata": {},
   "outputs": [],
   "source": [
    "import numpy as np\n",
    "import pandas as pd\n",
    "import config"
   ]
  },
  {
   "cell_type": "code",
   "execution_count": 2,
   "id": "358cb317",
   "metadata": {},
   "outputs": [],
   "source": [
    "from googleapiclient.discovery import build"
   ]
  },
  {
   "cell_type": "code",
   "execution_count": 3,
   "id": "abe9acd7",
   "metadata": {},
   "outputs": [],
   "source": [
    "api_key = config.api_key\n",
    "youtube = build('youtube', 'v3', developerKey=api_key)"
   ]
  },
  {
   "cell_type": "code",
   "execution_count": 106,
   "id": "05c9072f",
   "metadata": {},
   "outputs": [],
   "source": [
    "def creation_df(idChaines):\n",
    "    \n",
    "    part_param = 'snippet,contentDetails,statistics,brandingSettings'\n",
    "\n",
    "    data = []\n",
    "\n",
    "    for chaine in idChaines :\n",
    "        # pour rechercher une chaine\n",
    "        response = youtube.channels().list(part=part_param, id=chaine).execute()\n",
    "\n",
    "        nom_chaine = response['items'][0]['snippet']['title']\n",
    "        pays = response['items'][0]['snippet']['country']\n",
    "        nombre_vue_total = response['items'][0]['statistics']['viewCount']\n",
    "        nombre_abonnes = response['items'][0]['statistics']['subscriberCount']\n",
    "        nombre_videos = response['items'][0]['statistics']['videoCount']\n",
    "        description = response['items'][0]['snippet']['description']\n",
    "        keywords = response['items'][0]['brandingSettings']['channel']['keywords']\n",
    "\n",
    "        data.append([nom_chaine, pays, nombre_vue_total, nombre_abonnes, nombre_videos, description, keywords])\n",
    "\n",
    "        columns = ['nom_chaine', 'pays', 'nombre_vue_total', 'nombre_abonnes', 'nombre_videos', 'description', 'keywords']\n",
    "        df = pd.DataFrame(data=data, columns=columns)\n",
    "\n",
    "    return df"
   ]
  },
  {
   "cell_type": "code",
   "execution_count": 107,
   "id": "7a9f882b",
   "metadata": {},
   "outputs": [
    {
     "data": {
      "text/html": [
       "<div>\n",
       "<style scoped>\n",
       "    .dataframe tbody tr th:only-of-type {\n",
       "        vertical-align: middle;\n",
       "    }\n",
       "\n",
       "    .dataframe tbody tr th {\n",
       "        vertical-align: top;\n",
       "    }\n",
       "\n",
       "    .dataframe thead th {\n",
       "        text-align: right;\n",
       "    }\n",
       "</style>\n",
       "<table border=\"1\" class=\"dataframe\">\n",
       "  <thead>\n",
       "    <tr style=\"text-align: right;\">\n",
       "      <th></th>\n",
       "      <th>nom_chaine</th>\n",
       "      <th>pays</th>\n",
       "      <th>nombre_vue_total</th>\n",
       "      <th>nombre_abonnes</th>\n",
       "      <th>nombre_videos</th>\n",
       "      <th>description</th>\n",
       "      <th>keywords</th>\n",
       "    </tr>\n",
       "  </thead>\n",
       "  <tbody>\n",
       "    <tr>\n",
       "      <th>0</th>\n",
       "      <td>SQUEEZIE</td>\n",
       "      <td>FR</td>\n",
       "      <td>10417991606</td>\n",
       "      <td>18700000</td>\n",
       "      <td>1611</td>\n",
       "      <td>clique sur une vidéo nan??</td>\n",
       "      <td>Squeezie aMOODIEsqueezie SqueeZie amoodiesquee...</td>\n",
       "    </tr>\n",
       "    <tr>\n",
       "      <th>1</th>\n",
       "      <td>techTFQ</td>\n",
       "      <td>MY</td>\n",
       "      <td>14193039</td>\n",
       "      <td>266000</td>\n",
       "      <td>102</td>\n",
       "      <td>Hi, I am Thoufiq! On this channel, I teach SQL...</td>\n",
       "      <td>SQL Python \"Python Tutorial\" \"SQL Tutorial\" RD...</td>\n",
       "    </tr>\n",
       "  </tbody>\n",
       "</table>\n",
       "</div>"
      ],
      "text/plain": [
       "  nom_chaine pays nombre_vue_total nombre_abonnes nombre_videos  \\\n",
       "0   SQUEEZIE   FR      10417991606       18700000          1611   \n",
       "1    techTFQ   MY         14193039         266000           102   \n",
       "\n",
       "                                         description  \\\n",
       "0                         clique sur une vidéo nan??   \n",
       "1  Hi, I am Thoufiq! On this channel, I teach SQL...   \n",
       "\n",
       "                                            keywords  \n",
       "0  Squeezie aMOODIEsqueezie SqueeZie amoodiesquee...  \n",
       "1  SQL Python \"Python Tutorial\" \"SQL Tutorial\" RD...  "
      ]
     },
     "execution_count": 107,
     "metadata": {},
     "output_type": "execute_result"
    }
   ],
   "source": [
    "idChaines = ['UCWeg2Pkate69NFdBeuRFTAw', 'UCnz-ZXXER4jOvuED5trXfEA']\n",
    "\n",
    "creation_df(idChaines)"
   ]
  },
  {
   "cell_type": "code",
   "execution_count": null,
   "id": "c0f4da1a",
   "metadata": {},
   "outputs": [],
   "source": []
  }
 ],
 "metadata": {
  "kernelspec": {
   "display_name": "Python 3 (ipykernel)",
   "language": "python",
   "name": "python3"
  },
  "language_info": {
   "codemirror_mode": {
    "name": "ipython",
    "version": 3
   },
   "file_extension": ".py",
   "mimetype": "text/x-python",
   "name": "python",
   "nbconvert_exporter": "python",
   "pygments_lexer": "ipython3",
   "version": "3.9.16"
  }
 },
 "nbformat": 4,
 "nbformat_minor": 5
}
