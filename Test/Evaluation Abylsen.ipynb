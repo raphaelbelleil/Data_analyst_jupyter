{
 "cells": [
  {
   "cell_type": "code",
   "execution_count": 6,
   "id": "628ebdd6",
   "metadata": {},
   "outputs": [],
   "source": [
    "import numpy as np\n",
    "import pandas as pd\n",
    "from scipy.spatial.distance import cosine"
   ]
  },
  {
   "cell_type": "markdown",
   "id": "f79c2750",
   "metadata": {},
   "source": [
    "# Evaluation Abylsen"
   ]
  },
  {
   "cell_type": "markdown",
   "id": "fdded7ca",
   "metadata": {},
   "source": [
    "## Tutoriel"
   ]
  },
  {
   "cell_type": "code",
   "execution_count": 18,
   "id": "b75bc116",
   "metadata": {},
   "outputs": [],
   "source": [
    "import numpy as np\n",
    "\n",
    "\n",
    "def cosine(vector1, vector2):\n",
    "    return (np.linalg.norm(vector1) * np.linalg.norm(vector2)) / np.dot(vector1, vector2)\n",
    "\n",
    "def euclidean(vector1, vector2):\n",
    "    return np.sqrt(np.linalg.norm(vector1 - vector2))"
   ]
  },
  {
   "cell_type": "code",
   "execution_count": 20,
   "id": "45f96b57",
   "metadata": {},
   "outputs": [],
   "source": [
    "import numpy as np\n",
    "\n",
    "\n",
    "def cosine2(vector1, vector2):\n",
    "    return (1 - ((np.linalg.norm(vector1) * np.linalg.norm(vector2)) / np.dot(vector1, vector2)))\n",
    "\n",
    "def euclidean2(vector1, vector2):\n",
    "    return np.sqrt(np.linalg.norm(vector1 - vector2)**2)"
   ]
  },
  {
   "cell_type": "code",
   "execution_count": 4,
   "id": "29336a7a",
   "metadata": {},
   "outputs": [],
   "source": [
    "vector1 = np.array([15, 5, 7, 1, 1, 0, 0, 1])\n",
    "vector2 = np.array([1, 5, 7, 8, 8, 0, 0, 20])"
   ]
  },
  {
   "cell_type": "code",
   "execution_count": 19,
   "id": "44b0f157",
   "metadata": {},
   "outputs": [
    {
     "name": "stdout",
     "output_type": "stream",
     "text": [
      "cosine:  3.4139103678919276\n",
      "euclidean:  5.058949276691698\n"
     ]
    }
   ],
   "source": [
    "vector1 = np.array([15, 5, 7, 1, 1, 0, 0, 1])\n",
    "vector2 = np.array([1, 5, 7, 8, 8, 0, 0, 20])\n",
    "\n",
    "print(\"cosine: \", cosine(vector1, vector2)) # 0.292919231098\n",
    "print(\"euclidean: \", euclidean(vector1, vector2)) # 25.5929677841"
   ]
  },
  {
   "cell_type": "code",
   "execution_count": 21,
   "id": "1d4bfa41",
   "metadata": {},
   "outputs": [
    {
     "data": {
      "text/plain": [
       "25.592967784139454"
      ]
     },
     "execution_count": 21,
     "metadata": {},
     "output_type": "execute_result"
    }
   ],
   "source": [
    "euclidean2(vector1, vector2)"
   ]
  },
  {
   "cell_type": "code",
   "execution_count": 17,
   "id": "3e51aea9",
   "metadata": {},
   "outputs": [
    {
     "data": {
      "text/plain": [
       "0.29291923109788465"
      ]
     },
     "execution_count": 17,
     "metadata": {},
     "output_type": "execute_result"
    }
   ],
   "source": [
    "from numpy import dot\n",
    "from numpy.linalg import norm\n",
    "\n",
    "cos_sim = dot(vector1, vector2)/(norm(vector1)*norm(vector2))\n",
    "cos_sim"
   ]
  },
  {
   "cell_type": "markdown",
   "id": "bbcf694d",
   "metadata": {},
   "source": [
    "# Test"
   ]
  },
  {
   "cell_type": "code",
   "execution_count": 24,
   "id": "acd41a53",
   "metadata": {},
   "outputs": [],
   "source": [
    "folder = 'D:/Data_Analyst_Projet/Projet 8/Donnée debut projet/DAN-P8-donnees/'\n",
    "pop = pd.read_csv(folder + 'Population.csv')"
   ]
  },
  {
   "cell_type": "code",
   "execution_count": 30,
   "id": "ce6b22de",
   "metadata": {},
   "outputs": [
    {
     "data": {
      "text/html": [
       "<div>\n",
       "<style scoped>\n",
       "    .dataframe tbody tr th:only-of-type {\n",
       "        vertical-align: middle;\n",
       "    }\n",
       "\n",
       "    .dataframe tbody tr th {\n",
       "        vertical-align: top;\n",
       "    }\n",
       "\n",
       "    .dataframe thead th {\n",
       "        text-align: right;\n",
       "    }\n",
       "</style>\n",
       "<table border=\"1\" class=\"dataframe\">\n",
       "  <thead>\n",
       "    <tr style=\"text-align: right;\">\n",
       "      <th></th>\n",
       "      <th>Country</th>\n",
       "      <th>Granularity</th>\n",
       "      <th>Year</th>\n",
       "      <th>Population</th>\n",
       "    </tr>\n",
       "  </thead>\n",
       "  <tbody>\n",
       "    <tr>\n",
       "      <th>0</th>\n",
       "      <td>Afghanistan</td>\n",
       "      <td>Total</td>\n",
       "      <td>2000</td>\n",
       "      <td>20779.953</td>\n",
       "    </tr>\n",
       "    <tr>\n",
       "      <th>1</th>\n",
       "      <td>Afghanistan</td>\n",
       "      <td>Male</td>\n",
       "      <td>2000</td>\n",
       "      <td>10689.508</td>\n",
       "    </tr>\n",
       "    <tr>\n",
       "      <th>2</th>\n",
       "      <td>Afghanistan</td>\n",
       "      <td>Female</td>\n",
       "      <td>2000</td>\n",
       "      <td>10090.449</td>\n",
       "    </tr>\n",
       "    <tr>\n",
       "      <th>3</th>\n",
       "      <td>Afghanistan</td>\n",
       "      <td>Rural</td>\n",
       "      <td>2000</td>\n",
       "      <td>15657.474</td>\n",
       "    </tr>\n",
       "    <tr>\n",
       "      <th>4</th>\n",
       "      <td>Afghanistan</td>\n",
       "      <td>Urban</td>\n",
       "      <td>2000</td>\n",
       "      <td>4436.282</td>\n",
       "    </tr>\n",
       "    <tr>\n",
       "      <th>...</th>\n",
       "      <td>...</td>\n",
       "      <td>...</td>\n",
       "      <td>...</td>\n",
       "      <td>...</td>\n",
       "    </tr>\n",
       "    <tr>\n",
       "      <th>20909</th>\n",
       "      <td>Zimbabwe</td>\n",
       "      <td>Total</td>\n",
       "      <td>2018</td>\n",
       "      <td>14438.802</td>\n",
       "    </tr>\n",
       "    <tr>\n",
       "      <th>20910</th>\n",
       "      <td>Zimbabwe</td>\n",
       "      <td>Male</td>\n",
       "      <td>2018</td>\n",
       "      <td>6879.119</td>\n",
       "    </tr>\n",
       "    <tr>\n",
       "      <th>20911</th>\n",
       "      <td>Zimbabwe</td>\n",
       "      <td>Female</td>\n",
       "      <td>2018</td>\n",
       "      <td>7559.693</td>\n",
       "    </tr>\n",
       "    <tr>\n",
       "      <th>20912</th>\n",
       "      <td>Zimbabwe</td>\n",
       "      <td>Rural</td>\n",
       "      <td>2018</td>\n",
       "      <td>11465.748</td>\n",
       "    </tr>\n",
       "    <tr>\n",
       "      <th>20913</th>\n",
       "      <td>Zimbabwe</td>\n",
       "      <td>Urban</td>\n",
       "      <td>2018</td>\n",
       "      <td>5447.513</td>\n",
       "    </tr>\n",
       "  </tbody>\n",
       "</table>\n",
       "<p>20914 rows × 4 columns</p>\n",
       "</div>"
      ],
      "text/plain": [
       "           Country Granularity  Year  Population\n",
       "0      Afghanistan       Total  2000   20779.953\n",
       "1      Afghanistan        Male  2000   10689.508\n",
       "2      Afghanistan      Female  2000   10090.449\n",
       "3      Afghanistan       Rural  2000   15657.474\n",
       "4      Afghanistan       Urban  2000    4436.282\n",
       "...            ...         ...   ...         ...\n",
       "20909     Zimbabwe       Total  2018   14438.802\n",
       "20910     Zimbabwe        Male  2018    6879.119\n",
       "20911     Zimbabwe      Female  2018    7559.693\n",
       "20912     Zimbabwe       Rural  2018   11465.748\n",
       "20913     Zimbabwe       Urban  2018    5447.513\n",
       "\n",
       "[20914 rows x 4 columns]"
      ]
     },
     "execution_count": 30,
     "metadata": {},
     "output_type": "execute_result"
    }
   ],
   "source": [
    "pop"
   ]
  },
  {
   "cell_type": "code",
   "execution_count": 35,
   "id": "e77ec2a3",
   "metadata": {},
   "outputs": [
    {
     "data": {
      "text/html": [
       "<div>\n",
       "<style scoped>\n",
       "    .dataframe tbody tr th:only-of-type {\n",
       "        vertical-align: middle;\n",
       "    }\n",
       "\n",
       "    .dataframe tbody tr th {\n",
       "        vertical-align: top;\n",
       "    }\n",
       "\n",
       "    .dataframe thead th {\n",
       "        text-align: right;\n",
       "    }\n",
       "</style>\n",
       "<table border=\"1\" class=\"dataframe\">\n",
       "  <thead>\n",
       "    <tr style=\"text-align: right;\">\n",
       "      <th></th>\n",
       "      <th>Year</th>\n",
       "      <th>Population</th>\n",
       "    </tr>\n",
       "  </thead>\n",
       "  <tbody>\n",
       "    <tr>\n",
       "      <th>0</th>\n",
       "      <td>2000</td>\n",
       "      <td>20779.953</td>\n",
       "    </tr>\n",
       "    <tr>\n",
       "      <th>1</th>\n",
       "      <td>2000</td>\n",
       "      <td>10689.508</td>\n",
       "    </tr>\n",
       "    <tr>\n",
       "      <th>2</th>\n",
       "      <td>2000</td>\n",
       "      <td>10090.449</td>\n",
       "    </tr>\n",
       "    <tr>\n",
       "      <th>3</th>\n",
       "      <td>2000</td>\n",
       "      <td>15657.474</td>\n",
       "    </tr>\n",
       "    <tr>\n",
       "      <th>4</th>\n",
       "      <td>2000</td>\n",
       "      <td>4436.282</td>\n",
       "    </tr>\n",
       "    <tr>\n",
       "      <th>...</th>\n",
       "      <td>...</td>\n",
       "      <td>...</td>\n",
       "    </tr>\n",
       "    <tr>\n",
       "      <th>20909</th>\n",
       "      <td>2018</td>\n",
       "      <td>14438.802</td>\n",
       "    </tr>\n",
       "    <tr>\n",
       "      <th>20910</th>\n",
       "      <td>2018</td>\n",
       "      <td>6879.119</td>\n",
       "    </tr>\n",
       "    <tr>\n",
       "      <th>20911</th>\n",
       "      <td>2018</td>\n",
       "      <td>7559.693</td>\n",
       "    </tr>\n",
       "    <tr>\n",
       "      <th>20912</th>\n",
       "      <td>2018</td>\n",
       "      <td>11465.748</td>\n",
       "    </tr>\n",
       "    <tr>\n",
       "      <th>20913</th>\n",
       "      <td>2018</td>\n",
       "      <td>5447.513</td>\n",
       "    </tr>\n",
       "  </tbody>\n",
       "</table>\n",
       "<p>20914 rows × 2 columns</p>\n",
       "</div>"
      ],
      "text/plain": [
       "       Year  Population\n",
       "0      2000   20779.953\n",
       "1      2000   10689.508\n",
       "2      2000   10090.449\n",
       "3      2000   15657.474\n",
       "4      2000    4436.282\n",
       "...     ...         ...\n",
       "20909  2018   14438.802\n",
       "20910  2018    6879.119\n",
       "20911  2018    7559.693\n",
       "20912  2018   11465.748\n",
       "20913  2018    5447.513\n",
       "\n",
       "[20914 rows x 2 columns]"
      ]
     },
     "execution_count": 35,
     "metadata": {},
     "output_type": "execute_result"
    }
   ],
   "source": [
    "df = pop[['Year', 'Population']]\n",
    "df"
   ]
  },
  {
   "cell_type": "code",
   "execution_count": 38,
   "id": "9f93a284",
   "metadata": {},
   "outputs": [
    {
     "data": {
      "text/plain": [
       "10802.079749999999"
      ]
     },
     "execution_count": 38,
     "metadata": {},
     "output_type": "execute_result"
    }
   ],
   "source": [
    "Q1 = df['Population'].quantile(0.25)\n",
    "Q3 = df['Population'].quantile(0.75)\n",
    "IQR = Q3 - Q1\n",
    "IQR"
   ]
  },
  {
   "cell_type": "code",
   "execution_count": 39,
   "id": "a6208ce0",
   "metadata": {},
   "outputs": [],
   "source": [
    "lower_limit = Q1 - 1.5 * IQR\n",
    "upper_limit = Q3 + 1.5 * IQR"
   ]
  },
  {
   "cell_type": "code",
   "execution_count": 42,
   "id": "41627df8",
   "metadata": {},
   "outputs": [],
   "source": [
    "def handle_outliers(df):\n",
    "    for col in df :\n",
    "        print(col)\n",
    "        Q1 = df[col].quantile(0.25)\n",
    "        Q3 = df[col].quantile(0.75)\n",
    "        IQR = Q3 - Q1\n",
    "\n",
    "        # Étape 2: Déterminer les limites pour les outliers\n",
    "        lower_limit = Q1 - 1.5 * IQR\n",
    "        upper_limit = Q3 + 1.5 * IQR\n",
    "\n",
    "        # Étape 3: Remplacer les valeurs inférieures par la plus petite valeur non-outlier\n",
    "        min_non_outlier = df[df[col] >= lower_limit][col].min()\n",
    "        df.loc[df[col] < lower_limit, col] = min_non_outlier\n",
    "\n",
    "        # Étape 4: Remplacer les valeurs supérieures par la plus grande valeur non-outlier\n",
    "        max_non_outlier = df[df[col] <= upper_limit][col].max()\n",
    "        df.loc[df[col] > upper_limit, col] = max_non_outlier\n",
    "\n",
    "        # Afficher le DataFrame après le remplacement\n",
    "    return df"
   ]
  },
  {
   "cell_type": "code",
   "execution_count": 43,
   "id": "759841c9",
   "metadata": {},
   "outputs": [
    {
     "name": "stdout",
     "output_type": "stream",
     "text": [
      "Year\n",
      "Population\n"
     ]
    },
    {
     "data": {
      "text/html": [
       "<div>\n",
       "<style scoped>\n",
       "    .dataframe tbody tr th:only-of-type {\n",
       "        vertical-align: middle;\n",
       "    }\n",
       "\n",
       "    .dataframe tbody tr th {\n",
       "        vertical-align: top;\n",
       "    }\n",
       "\n",
       "    .dataframe thead th {\n",
       "        text-align: right;\n",
       "    }\n",
       "</style>\n",
       "<table border=\"1\" class=\"dataframe\">\n",
       "  <thead>\n",
       "    <tr style=\"text-align: right;\">\n",
       "      <th></th>\n",
       "      <th>Year</th>\n",
       "      <th>Population</th>\n",
       "    </tr>\n",
       "  </thead>\n",
       "  <tbody>\n",
       "    <tr>\n",
       "      <th>0</th>\n",
       "      <td>2000</td>\n",
       "      <td>20779.953</td>\n",
       "    </tr>\n",
       "    <tr>\n",
       "      <th>1</th>\n",
       "      <td>2000</td>\n",
       "      <td>10689.508</td>\n",
       "    </tr>\n",
       "    <tr>\n",
       "      <th>2</th>\n",
       "      <td>2000</td>\n",
       "      <td>10090.449</td>\n",
       "    </tr>\n",
       "    <tr>\n",
       "      <th>3</th>\n",
       "      <td>2000</td>\n",
       "      <td>15657.474</td>\n",
       "    </tr>\n",
       "    <tr>\n",
       "      <th>4</th>\n",
       "      <td>2000</td>\n",
       "      <td>4436.282</td>\n",
       "    </tr>\n",
       "    <tr>\n",
       "      <th>...</th>\n",
       "      <td>...</td>\n",
       "      <td>...</td>\n",
       "    </tr>\n",
       "    <tr>\n",
       "      <th>20909</th>\n",
       "      <td>2018</td>\n",
       "      <td>14438.802</td>\n",
       "    </tr>\n",
       "    <tr>\n",
       "      <th>20910</th>\n",
       "      <td>2018</td>\n",
       "      <td>6879.119</td>\n",
       "    </tr>\n",
       "    <tr>\n",
       "      <th>20911</th>\n",
       "      <td>2018</td>\n",
       "      <td>7559.693</td>\n",
       "    </tr>\n",
       "    <tr>\n",
       "      <th>20912</th>\n",
       "      <td>2018</td>\n",
       "      <td>11465.748</td>\n",
       "    </tr>\n",
       "    <tr>\n",
       "      <th>20913</th>\n",
       "      <td>2018</td>\n",
       "      <td>5447.513</td>\n",
       "    </tr>\n",
       "  </tbody>\n",
       "</table>\n",
       "<p>20914 rows × 2 columns</p>\n",
       "</div>"
      ],
      "text/plain": [
       "       Year  Population\n",
       "0      2000   20779.953\n",
       "1      2000   10689.508\n",
       "2      2000   10090.449\n",
       "3      2000   15657.474\n",
       "4      2000    4436.282\n",
       "...     ...         ...\n",
       "20909  2018   14438.802\n",
       "20910  2018    6879.119\n",
       "20911  2018    7559.693\n",
       "20912  2018   11465.748\n",
       "20913  2018    5447.513\n",
       "\n",
       "[20914 rows x 2 columns]"
      ]
     },
     "execution_count": 43,
     "metadata": {},
     "output_type": "execute_result"
    }
   ],
   "source": [
    "handle_outliers(df)"
   ]
  },
  {
   "cell_type": "code",
   "execution_count": null,
   "id": "57756b9d",
   "metadata": {},
   "outputs": [],
   "source": [
    "def impute_data(df):\n",
    "    n_rows, n_cols = df.shape\n",
    "\n",
    "    def ui(i):\n",
    "        non_null_row_values = df[i, ~np.isnan(df[i, :])]\n",
    "        return np.mean(non_null_row_values) if non_null_row_values.size > 0 else np.nan\n",
    "\n",
    "    def uj(j):\n",
    "        non_null_col_values = df[:, j][~np.isnan(df[:, j])]\n",
    "        return np.mean(non_null_col_values) if non_null_col_values.size > 0 else np.nan\n",
    "\n",
    "    def Mi(i):\n",
    "        non_null_row_values = df[i, ~np.isnan(df[i, :])]\n",
    "        return np.median(non_null_row_values) if non_null_row_values.size > 0 else np.nan\n",
    "\n",
    "    def Mj(j):\n",
    "        non_null_col_values = df[:, j][~np.isnan(df[:, j])]\n",
    "        return np.median(non_null_col_values) if non_null_col_values.size > 0 else np.nan\n",
    "\n",
    "    def should_impute(i, j):\n",
    "        condition1 = ui(i) >= Mi(i) and ui(i) >= uj(j)\n",
    "        condition2 = uj(j) >= ui(i)\n",
    "        condition3 = Mj(j) >= Mi(i)\n",
    "\n",
    "        return condition1 or condition2 or condition3\n",
    "\n",
    "    result_df = np.copy(df)\n",
    "\n",
    "    for i in range(n_rows):\n",
    "        for j in range(n_cols):\n",
    "            if np.isnan(df[i, j]):\n",
    "                continue\n",
    "\n",
    "            if should_impute(i, j):\n",
    "                result_df[i, j] = ui(i) if ui(i) >= uj(j) else uj(j)\n",
    "\n",
    "    return result_df"
   ]
  },
  {
   "cell_type": "code",
   "execution_count": 44,
   "id": "35250819",
   "metadata": {},
   "outputs": [
    {
     "ename": "IndexError",
     "evalue": "string index out of range",
     "output_type": "error",
     "traceback": [
      "\u001b[1;31m---------------------------------------------------------------------------\u001b[0m",
      "\u001b[1;31mIndexError\u001b[0m                                Traceback (most recent call last)",
      "Cell \u001b[1;32mIn[44], line 18\u001b[0m\n\u001b[0;32m     15\u001b[0m     \u001b[38;5;28;01mreturn\u001b[39;00m word_to_integer\n\u001b[0;32m     17\u001b[0m sentence \u001b[38;5;241m=\u001b[39m \u001b[38;5;124m'\u001b[39m\u001b[38;5;124mthey know her , jill . but she does not know them .\u001b[39m\u001b[38;5;124m'\u001b[39m\n\u001b[1;32m---> 18\u001b[0m result \u001b[38;5;241m=\u001b[39m \u001b[43massign_integers\u001b[49m\u001b[43m(\u001b[49m\u001b[43msentence\u001b[49m\u001b[43m)\u001b[49m\n\u001b[0;32m     19\u001b[0m \u001b[38;5;28mprint\u001b[39m(result)\n",
      "Cell \u001b[1;32mIn[44], line 7\u001b[0m, in \u001b[0;36massign_integers\u001b[1;34m(sentence)\u001b[0m\n\u001b[0;32m      4\u001b[0m words \u001b[38;5;241m=\u001b[39m sentence\u001b[38;5;241m.\u001b[39msplit()\n\u001b[0;32m      5\u001b[0m words_without_punctuation \u001b[38;5;241m=\u001b[39m [\u001b[38;5;124m'\u001b[39m\u001b[38;5;124m'\u001b[39m\u001b[38;5;241m.\u001b[39mjoin(char \u001b[38;5;28;01mfor\u001b[39;00m char \u001b[38;5;129;01min\u001b[39;00m word \u001b[38;5;28;01mif\u001b[39;00m char\u001b[38;5;241m.\u001b[39misalnum()) \u001b[38;5;28;01mfor\u001b[39;00m word \u001b[38;5;129;01min\u001b[39;00m words]\n\u001b[1;32m----> 7\u001b[0m unique_first_letters \u001b[38;5;241m=\u001b[39m \u001b[38;5;28msorted\u001b[39m(\u001b[38;5;28;43mset\u001b[39;49m\u001b[43m(\u001b[49m\u001b[43mword\u001b[49m\u001b[43m[\u001b[49m\u001b[38;5;241;43m0\u001b[39;49m\u001b[43m]\u001b[49m\u001b[38;5;241;43m.\u001b[39;49m\u001b[43mlower\u001b[49m\u001b[43m(\u001b[49m\u001b[43m)\u001b[49m\u001b[43m \u001b[49m\u001b[38;5;28;43;01mfor\u001b[39;49;00m\u001b[43m \u001b[49m\u001b[43mword\u001b[49m\u001b[43m \u001b[49m\u001b[38;5;129;43;01min\u001b[39;49;00m\u001b[43m \u001b[49m\u001b[43mwords_without_punctuation\u001b[49m\u001b[43m)\u001b[49m)\n\u001b[0;32m      8\u001b[0m letter_to_integer \u001b[38;5;241m=\u001b[39m {letter: i \u001b[38;5;28;01mfor\u001b[39;00m i, letter \u001b[38;5;129;01min\u001b[39;00m \u001b[38;5;28menumerate\u001b[39m(unique_first_letters)}\n\u001b[0;32m     10\u001b[0m word_to_integer \u001b[38;5;241m=\u001b[39m {}\n",
      "Cell \u001b[1;32mIn[44], line 7\u001b[0m, in \u001b[0;36m<genexpr>\u001b[1;34m(.0)\u001b[0m\n\u001b[0;32m      4\u001b[0m words \u001b[38;5;241m=\u001b[39m sentence\u001b[38;5;241m.\u001b[39msplit()\n\u001b[0;32m      5\u001b[0m words_without_punctuation \u001b[38;5;241m=\u001b[39m [\u001b[38;5;124m'\u001b[39m\u001b[38;5;124m'\u001b[39m\u001b[38;5;241m.\u001b[39mjoin(char \u001b[38;5;28;01mfor\u001b[39;00m char \u001b[38;5;129;01min\u001b[39;00m word \u001b[38;5;28;01mif\u001b[39;00m char\u001b[38;5;241m.\u001b[39misalnum()) \u001b[38;5;28;01mfor\u001b[39;00m word \u001b[38;5;129;01min\u001b[39;00m words]\n\u001b[1;32m----> 7\u001b[0m unique_first_letters \u001b[38;5;241m=\u001b[39m \u001b[38;5;28msorted\u001b[39m(\u001b[38;5;28mset\u001b[39m(\u001b[43mword\u001b[49m\u001b[43m[\u001b[49m\u001b[38;5;241;43m0\u001b[39;49m\u001b[43m]\u001b[49m\u001b[38;5;241m.\u001b[39mlower() \u001b[38;5;28;01mfor\u001b[39;00m word \u001b[38;5;129;01min\u001b[39;00m words_without_punctuation))\n\u001b[0;32m      8\u001b[0m letter_to_integer \u001b[38;5;241m=\u001b[39m {letter: i \u001b[38;5;28;01mfor\u001b[39;00m i, letter \u001b[38;5;129;01min\u001b[39;00m \u001b[38;5;28menumerate\u001b[39m(unique_first_letters)}\n\u001b[0;32m     10\u001b[0m word_to_integer \u001b[38;5;241m=\u001b[39m {}\n",
      "\u001b[1;31mIndexError\u001b[0m: string index out of range"
     ]
    }
   ],
   "source": [
    "import string\n",
    "\n",
    "def assign_integers(sentence):\n",
    "    words = sentence.split()\n",
    "    words_without_punctuation = [''.join(char for char in word if char.isalnum()) for word in words]\n",
    "\n",
    "    unique_first_letters = sorted(set(word[0].lower() for word in words_without_punctuation))\n",
    "    letter_to_integer = {letter: i for i, letter in enumerate(unique_first_letters)}\n",
    "\n",
    "    word_to_integer = {}\n",
    "    for word in words_without_punctuation:\n",
    "        first_letter = word[0].lower()\n",
    "        word_to_integer[word] = letter_to_integer[first_letter]\n",
    "\n",
    "    return word_to_integer\n",
    "\n",
    "sentence = 'they know her , jill . but she does not know them .'\n",
    "result = assign_integers(sentence)\n",
    "print(result)"
   ]
  },
  {
   "cell_type": "code",
   "execution_count": 45,
   "id": "e58b211a",
   "metadata": {},
   "outputs": [
    {
     "ename": "IndexError",
     "evalue": "string index out of range",
     "output_type": "error",
     "traceback": [
      "\u001b[1;31m---------------------------------------------------------------------------\u001b[0m",
      "\u001b[1;31mIndexError\u001b[0m                                Traceback (most recent call last)",
      "Cell \u001b[1;32mIn[45], line 19\u001b[0m\n\u001b[0;32m     16\u001b[0m     \u001b[38;5;28;01mreturn\u001b[39;00m word_to_integer\n\u001b[0;32m     18\u001b[0m sentence \u001b[38;5;241m=\u001b[39m \u001b[38;5;124m'\u001b[39m\u001b[38;5;124mthey know her , jill . but she does not know them .\u001b[39m\u001b[38;5;124m'\u001b[39m\n\u001b[1;32m---> 19\u001b[0m result \u001b[38;5;241m=\u001b[39m \u001b[43massign_integers\u001b[49m\u001b[43m(\u001b[49m\u001b[43msentence\u001b[49m\u001b[43m)\u001b[49m\n\u001b[0;32m     20\u001b[0m \u001b[38;5;28mprint\u001b[39m(result)\n",
      "Cell \u001b[1;32mIn[45], line 7\u001b[0m, in \u001b[0;36massign_integers\u001b[1;34m(sentence)\u001b[0m\n\u001b[0;32m      4\u001b[0m words \u001b[38;5;241m=\u001b[39m sentence\u001b[38;5;241m.\u001b[39msplit()\n\u001b[0;32m      5\u001b[0m words_without_punctuation \u001b[38;5;241m=\u001b[39m [\u001b[38;5;124m'\u001b[39m\u001b[38;5;124m'\u001b[39m\u001b[38;5;241m.\u001b[39mjoin(char \u001b[38;5;28;01mfor\u001b[39;00m char \u001b[38;5;129;01min\u001b[39;00m word \u001b[38;5;28;01mif\u001b[39;00m char\u001b[38;5;241m.\u001b[39misalnum()) \u001b[38;5;28;01mfor\u001b[39;00m word \u001b[38;5;129;01min\u001b[39;00m words]\n\u001b[1;32m----> 7\u001b[0m unique_first_letters \u001b[38;5;241m=\u001b[39m \u001b[38;5;28msorted\u001b[39m(\u001b[38;5;28;43mset\u001b[39;49m\u001b[43m(\u001b[49m\u001b[43mword\u001b[49m\u001b[43m[\u001b[49m\u001b[38;5;241;43m0\u001b[39;49m\u001b[43m]\u001b[49m\u001b[38;5;241;43m.\u001b[39;49m\u001b[43mlower\u001b[49m\u001b[43m(\u001b[49m\u001b[43m)\u001b[49m\u001b[43m \u001b[49m\u001b[38;5;28;43;01mfor\u001b[39;49;00m\u001b[43m \u001b[49m\u001b[43mword\u001b[49m\u001b[43m \u001b[49m\u001b[38;5;129;43;01min\u001b[39;49;00m\u001b[43m \u001b[49m\u001b[43mwords_without_punctuation\u001b[49m\u001b[43m)\u001b[49m)\n\u001b[0;32m      8\u001b[0m letter_to_integer \u001b[38;5;241m=\u001b[39m {letter: i \u001b[38;5;28;01mfor\u001b[39;00m i, letter \u001b[38;5;129;01min\u001b[39;00m \u001b[38;5;28menumerate\u001b[39m(unique_first_letters)}\n\u001b[0;32m     10\u001b[0m word_to_integer \u001b[38;5;241m=\u001b[39m {}\n",
      "Cell \u001b[1;32mIn[45], line 7\u001b[0m, in \u001b[0;36m<genexpr>\u001b[1;34m(.0)\u001b[0m\n\u001b[0;32m      4\u001b[0m words \u001b[38;5;241m=\u001b[39m sentence\u001b[38;5;241m.\u001b[39msplit()\n\u001b[0;32m      5\u001b[0m words_without_punctuation \u001b[38;5;241m=\u001b[39m [\u001b[38;5;124m'\u001b[39m\u001b[38;5;124m'\u001b[39m\u001b[38;5;241m.\u001b[39mjoin(char \u001b[38;5;28;01mfor\u001b[39;00m char \u001b[38;5;129;01min\u001b[39;00m word \u001b[38;5;28;01mif\u001b[39;00m char\u001b[38;5;241m.\u001b[39misalnum()) \u001b[38;5;28;01mfor\u001b[39;00m word \u001b[38;5;129;01min\u001b[39;00m words]\n\u001b[1;32m----> 7\u001b[0m unique_first_letters \u001b[38;5;241m=\u001b[39m \u001b[38;5;28msorted\u001b[39m(\u001b[38;5;28mset\u001b[39m(\u001b[43mword\u001b[49m\u001b[43m[\u001b[49m\u001b[38;5;241;43m0\u001b[39;49m\u001b[43m]\u001b[49m\u001b[38;5;241m.\u001b[39mlower() \u001b[38;5;28;01mfor\u001b[39;00m word \u001b[38;5;129;01min\u001b[39;00m words_without_punctuation))\n\u001b[0;32m      8\u001b[0m letter_to_integer \u001b[38;5;241m=\u001b[39m {letter: i \u001b[38;5;28;01mfor\u001b[39;00m i, letter \u001b[38;5;129;01min\u001b[39;00m \u001b[38;5;28menumerate\u001b[39m(unique_first_letters)}\n\u001b[0;32m     10\u001b[0m word_to_integer \u001b[38;5;241m=\u001b[39m {}\n",
      "\u001b[1;31mIndexError\u001b[0m: string index out of range"
     ]
    }
   ],
   "source": [
    "import string\n",
    "\n",
    "def assign_integers(sentence):\n",
    "    words = sentence.split()\n",
    "    words_without_punctuation = [''.join(char for char in word if char.isalnum()) for word in words]\n",
    "\n",
    "    unique_first_letters = sorted(set(word[0].lower() for word in words_without_punctuation))\n",
    "    letter_to_integer = {letter: i for i, letter in enumerate(unique_first_letters)}\n",
    "\n",
    "    word_to_integer = {}\n",
    "    for word in words_without_punctuation:\n",
    "        if word:  # Vérifie si le mot n'est pas vide\n",
    "            first_letter = word[0].lower()\n",
    "            word_to_integer[word] = letter_to_integer[first_letter]\n",
    "\n",
    "    return word_to_integer\n",
    "\n",
    "sentence = 'they know her , jill . but she does not know them .'\n",
    "result = assign_integers(sentence)\n",
    "print(result)"
   ]
  },
  {
   "cell_type": "code",
   "execution_count": 46,
   "id": "3f396955",
   "metadata": {},
   "outputs": [
    {
     "data": {
      "text/plain": [
       "(2, 3)"
      ]
     },
     "execution_count": 46,
     "metadata": {},
     "output_type": "execute_result"
    }
   ],
   "source": [
    "arr = np.array([\n",
    "    [1.2, -0.3, 1.3],\n",
    "    [1.2, 2., 0.3]\n",
    "]).astype(np.float64)\n",
    "\n",
    "arr.shape"
   ]
  },
  {
   "cell_type": "code",
   "execution_count": 47,
   "id": "c0698a11",
   "metadata": {},
   "outputs": [
    {
     "name": "stdout",
     "output_type": "stream",
     "text": [
      "[ 1.2 -0.3  1.3]\n",
      "[1.2 2.  0.3]\n"
     ]
    }
   ],
   "source": [
    "for a in arr:\n",
    "    print(a)"
   ]
  },
  {
   "cell_type": "code",
   "execution_count": null,
   "id": "40a78cde",
   "metadata": {},
   "outputs": [],
   "source": []
  }
 ],
 "metadata": {
  "kernelspec": {
   "display_name": "Python 3 (ipykernel)",
   "language": "python",
   "name": "python3"
  },
  "language_info": {
   "codemirror_mode": {
    "name": "ipython",
    "version": 3
   },
   "file_extension": ".py",
   "mimetype": "text/x-python",
   "name": "python",
   "nbconvert_exporter": "python",
   "pygments_lexer": "ipython3",
   "version": "3.9.16"
  }
 },
 "nbformat": 4,
 "nbformat_minor": 5
}
