{
 "cells": [
  {
   "cell_type": "code",
   "execution_count": 3,
   "id": "d6db4a8e",
   "metadata": {},
   "outputs": [],
   "source": [
    "import numpy as np\n",
    "import pandas as pd"
   ]
  },
  {
   "cell_type": "code",
   "execution_count": 4,
   "id": "3c995969",
   "metadata": {},
   "outputs": [],
   "source": [
    "folder = \"D:/Formation Talend/Projet/ICOMMERCE/20240117/\""
   ]
  },
  {
   "cell_type": "code",
   "execution_count": 5,
   "id": "45c98cdd",
   "metadata": {},
   "outputs": [],
   "source": [
    "client = pd.read_csv(folder+\"ICOM_20240117_VENTE.csv\", delimiter='|')"
   ]
  },
  {
   "cell_type": "code",
   "execution_count": 6,
   "id": "0b3099be",
   "metadata": {},
   "outputs": [
    {
     "data": {
      "text/html": [
       "<div>\n",
       "<style scoped>\n",
       "    .dataframe tbody tr th:only-of-type {\n",
       "        vertical-align: middle;\n",
       "    }\n",
       "\n",
       "    .dataframe tbody tr th {\n",
       "        vertical-align: top;\n",
       "    }\n",
       "\n",
       "    .dataframe thead th {\n",
       "        text-align: right;\n",
       "    }\n",
       "</style>\n",
       "<table border=\"1\" class=\"dataframe\">\n",
       "  <thead>\n",
       "    <tr style=\"text-align: right;\">\n",
       "      <th></th>\n",
       "      <th>ID_VENTE</th>\n",
       "      <th>CD_PRODUIT</th>\n",
       "      <th>DT_VENTE</th>\n",
       "      <th>ID_CLIENT</th>\n",
       "      <th>QTE_VENTE</th>\n",
       "      <th>PRIX_ACHAT</th>\n",
       "      <th>PRIX_VENTE</th>\n",
       "    </tr>\n",
       "  </thead>\n",
       "  <tbody>\n",
       "    <tr>\n",
       "      <th>0</th>\n",
       "      <td>CA-2014-AB10015140-41954</td>\n",
       "      <td>TEC-PH-5816</td>\n",
       "      <td>01/03/2023</td>\n",
       "      <td>AB-100151402</td>\n",
       "      <td>2</td>\n",
       "      <td>53.2752</td>\n",
       "      <td>66.594</td>\n",
       "    </tr>\n",
       "    <tr>\n",
       "      <th>1</th>\n",
       "      <td>IN-2014-JR162107-41675</td>\n",
       "      <td>FUR-CH-5379</td>\n",
       "      <td>01/03/2023</td>\n",
       "      <td>JR-162107</td>\n",
       "      <td>9</td>\n",
       "      <td>219.8160</td>\n",
       "      <td>274.770</td>\n",
       "    </tr>\n",
       "    <tr>\n",
       "      <th>2</th>\n",
       "      <td>IN-2014-CR127307-41929</td>\n",
       "      <td>TEC-PH-5356</td>\n",
       "      <td>01/03/2023</td>\n",
       "      <td>CR-127307</td>\n",
       "      <td>9</td>\n",
       "      <td>204.4512</td>\n",
       "      <td>255.564</td>\n",
       "    </tr>\n",
       "    <tr>\n",
       "      <th>3</th>\n",
       "      <td>ES-2014-KM1637548-41667</td>\n",
       "      <td>TEC-PH-5267</td>\n",
       "      <td>01/03/2023</td>\n",
       "      <td>KM-1637548</td>\n",
       "      <td>5</td>\n",
       "      <td>437.0904</td>\n",
       "      <td>546.363</td>\n",
       "    </tr>\n",
       "    <tr>\n",
       "      <th>4</th>\n",
       "      <td>SG-2014-RH9495111-41948</td>\n",
       "      <td>TEC-CO-6011</td>\n",
       "      <td>01/03/2023</td>\n",
       "      <td>RH-9495111</td>\n",
       "      <td>8</td>\n",
       "      <td>184.1424</td>\n",
       "      <td>230.178</td>\n",
       "    </tr>\n",
       "  </tbody>\n",
       "</table>\n",
       "</div>"
      ],
      "text/plain": [
       "                   ID_VENTE   CD_PRODUIT    DT_VENTE     ID_CLIENT  QTE_VENTE  \\\n",
       "0  CA-2014-AB10015140-41954  TEC-PH-5816  01/03/2023  AB-100151402          2   \n",
       "1    IN-2014-JR162107-41675  FUR-CH-5379  01/03/2023     JR-162107          9   \n",
       "2    IN-2014-CR127307-41929  TEC-PH-5356  01/03/2023     CR-127307          9   \n",
       "3   ES-2014-KM1637548-41667  TEC-PH-5267  01/03/2023    KM-1637548          5   \n",
       "4   SG-2014-RH9495111-41948  TEC-CO-6011  01/03/2023    RH-9495111          8   \n",
       "\n",
       "   PRIX_ACHAT  PRIX_VENTE  \n",
       "0     53.2752      66.594  \n",
       "1    219.8160     274.770  \n",
       "2    204.4512     255.564  \n",
       "3    437.0904     546.363  \n",
       "4    184.1424     230.178  "
      ]
     },
     "execution_count": 6,
     "metadata": {},
     "output_type": "execute_result"
    }
   ],
   "source": [
    "client.head()"
   ]
  },
  {
   "cell_type": "code",
   "execution_count": 11,
   "id": "ecb2b8ea",
   "metadata": {},
   "outputs": [
    {
     "data": {
      "text/plain": [
       "01/03/2023    500\n",
       "Name: DT_VENTE, dtype: int64"
      ]
     },
     "execution_count": 11,
     "metadata": {},
     "output_type": "execute_result"
    }
   ],
   "source": [
    "client['DT_VENTE'].value_counts()"
   ]
  },
  {
   "cell_type": "code",
   "execution_count": 57,
   "id": "447d2eed",
   "metadata": {},
   "outputs": [
    {
     "data": {
      "text/plain": [
       "ID_VENTE      0\n",
       "CD_PRODUIT    0\n",
       "DT_VENTE      0\n",
       "ID_CLIENT     0\n",
       "QTE_VENTE     0\n",
       "PRIX_ACHAT    0\n",
       "PRIX_VENTE    0\n",
       "dtype: int64"
      ]
     },
     "execution_count": 57,
     "metadata": {},
     "output_type": "execute_result"
    }
   ],
   "source": [
    "client.isna().sum()"
   ]
  },
  {
   "cell_type": "code",
   "execution_count": 58,
   "id": "533855ce",
   "metadata": {},
   "outputs": [
    {
     "data": {
      "text/plain": [
       "Index(['ID_VENTE', 'CD_PRODUIT', 'DT_VENTE', 'ID_CLIENT', 'QTE_VENTE',\n",
       "       'PRIX_ACHAT', 'PRIX_VENTE'],\n",
       "      dtype='object')"
      ]
     },
     "execution_count": 58,
     "metadata": {},
     "output_type": "execute_result"
    }
   ],
   "source": [
    "client.columns"
   ]
  },
  {
   "cell_type": "code",
   "execution_count": 59,
   "id": "7b1eb4a1",
   "metadata": {},
   "outputs": [
    {
     "data": {
      "text/plain": [
       "'row5.ID_VENTE +\"|\"+ row5.CD_PRODUIT +\"|\"+ row5.DT_VENTE +\"|\"+ row5.ID_CLIENT +\"|\"+ row5.QTE_VENTE +\"|\"+ row5.PRIX_ACHAT +\"|\"+ row5.PRIX_VENTE'"
      ]
     },
     "execution_count": 59,
     "metadata": {},
     "output_type": "execute_result"
    }
   ],
   "source": [
    "a = ['row5.'+ champs + ' +\"|\"+ ' for champs in client.columns[:-1]]\n",
    "a.append('row5.' + client.columns[-1])\n",
    "''.join(a)"
   ]
  },
  {
   "cell_type": "code",
   "execution_count": 60,
   "id": "67efbdb4",
   "metadata": {},
   "outputs": [
    {
     "data": {
      "text/plain": [
       "'row6.ID_VENTE +\"|\"+ row6.CD_PRODUIT +\"|\"+ row6.DT_VENTE +\"|\"+ row6.ID_CLIENT +\"|\"+ row6.QTE_VENTE +\"|\"+ row6.PRIX_ACHAT +\"|\"+ row6.PRIX_VENTE'"
      ]
     },
     "execution_count": 60,
     "metadata": {},
     "output_type": "execute_result"
    }
   ],
   "source": [
    "a = ['row6.'+ champs + ' +\"|\"+ ' for champs in client.columns[:-1]]\n",
    "a.append('row6.' + client.columns[-1])\n",
    "''.join(a)"
   ]
  },
  {
   "cell_type": "code",
   "execution_count": 61,
   "id": "ce207f4c",
   "metadata": {},
   "outputs": [
    {
     "data": {
      "text/plain": [
       "'row3.ID_VENTE +\"|\"+ row3.CD_PRODUIT +\"|\"+ row3.DT_VENTE +\"|\"+ row3.ID_CLIENT +\"|\"+ row3.QTE_VENTE +\"|\"+ row3.PRIX_ACHAT +\"|\"+ row3.PRIX_VENTE'"
      ]
     },
     "execution_count": 61,
     "metadata": {},
     "output_type": "execute_result"
    }
   ],
   "source": [
    "a = ['row3.'+ champs + ' +\"|\"+ ' for champs in client.columns[:-1]]\n",
    "a.append('row3.' + client.columns[-1])\n",
    "''.join(a)"
   ]
  },
  {
   "cell_type": "code",
   "execution_count": 65,
   "id": "670bc1d4",
   "metadata": {},
   "outputs": [
    {
     "data": {
      "text/plain": [
       "'Vente3.ID_VENTE +\"|\"+ Vente3.CD_PRODUIT +\"|\"+ Vente3.DT_VENTE +\"|\"+ Vente3.ID_CLIENT +\"|\"+ Vente3.QTE_VENTE +\"|\"+ Vente3.PRIX_ACHAT +\"|\"+ Vente3.PRIX_VENTE'"
      ]
     },
     "execution_count": 65,
     "metadata": {},
     "output_type": "execute_result"
    }
   ],
   "source": [
    "a = ['Vente3.'+ champs + ' +\"|\"+ ' for champs in client.columns[:-1]]\n",
    "a.append('Vente3.' + client.columns[-1])\n",
    "''.join(a)"
   ]
  },
  {
   "cell_type": "code",
   "execution_count": 63,
   "id": "dd202ccc",
   "metadata": {},
   "outputs": [],
   "source": [
    "def phrase_dependance(champs, table):\n",
    "    a = '\"Dépendance ==> La catégorie : \"'\n",
    "    b = f'+ row3.{champs} +'\n",
    "    c = f'\"n\\'existe pas dans la table {table}\"'\n",
    "    print(a+b+c)"
   ]
  },
  {
   "cell_type": "code",
   "execution_count": 64,
   "id": "60b37fd3",
   "metadata": {},
   "outputs": [
    {
     "name": "stdout",
     "output_type": "stream",
     "text": [
      "\"Dépendance ==> La catégorie : \"+ row3.CD_TYPE_CLIENT +\"n'existe pas dans la table ODS_TYPE_CLIENT\"\n"
     ]
    }
   ],
   "source": [
    "phrase_dependance(champs='CD_TYPE_CLIENT', table='ODS_TYPE_CLIENT')"
   ]
  },
  {
   "cell_type": "code",
   "execution_count": null,
   "id": "fa61fc31",
   "metadata": {},
   "outputs": [],
   "source": []
  },
  {
   "cell_type": "code",
   "execution_count": null,
   "id": "95b90ed8",
   "metadata": {},
   "outputs": [],
   "source": []
  },
  {
   "cell_type": "code",
   "execution_count": null,
   "id": "4b51b788",
   "metadata": {},
   "outputs": [],
   "source": []
  },
  {
   "cell_type": "code",
   "execution_count": null,
   "id": "616621cd",
   "metadata": {},
   "outputs": [],
   "source": []
  },
  {
   "cell_type": "code",
   "execution_count": null,
   "id": "12cf041a",
   "metadata": {},
   "outputs": [],
   "source": []
  },
  {
   "cell_type": "code",
   "execution_count": null,
   "id": "6dd9505f",
   "metadata": {},
   "outputs": [],
   "source": []
  },
  {
   "cell_type": "code",
   "execution_count": null,
   "id": "34422346",
   "metadata": {},
   "outputs": [],
   "source": []
  },
  {
   "cell_type": "code",
   "execution_count": null,
   "id": "efc4f6ac",
   "metadata": {},
   "outputs": [],
   "source": []
  },
  {
   "cell_type": "code",
   "execution_count": null,
   "id": "1c4769de",
   "metadata": {},
   "outputs": [],
   "source": []
  }
 ],
 "metadata": {
  "kernelspec": {
   "display_name": "Python 3 (ipykernel)",
   "language": "python",
   "name": "python3"
  },
  "language_info": {
   "codemirror_mode": {
    "name": "ipython",
    "version": 3
   },
   "file_extension": ".py",
   "mimetype": "text/x-python",
   "name": "python",
   "nbconvert_exporter": "python",
   "pygments_lexer": "ipython3",
   "version": "3.9.16"
  }
 },
 "nbformat": 4,
 "nbformat_minor": 5
}
