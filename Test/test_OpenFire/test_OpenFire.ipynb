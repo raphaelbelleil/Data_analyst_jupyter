{
 "cells": [
  {
   "cell_type": "markdown",
   "id": "2ebd9d37",
   "metadata": {},
   "source": [
    "# Import librairie"
   ]
  },
  {
   "cell_type": "code",
   "execution_count": 25,
   "id": "dc72fcb1",
   "metadata": {},
   "outputs": [],
   "source": [
    "import pandas as pd\n",
    "import numpy as np\n",
    "import matplotlib.pyplot as plt\n",
    "import seaborn as sns\n",
    "import datetime"
   ]
  },
  {
   "cell_type": "markdown",
   "id": "3c3c9e32",
   "metadata": {},
   "source": [
    "# Tutoriel"
   ]
  },
  {
   "cell_type": "code",
   "execution_count": 1,
   "id": "2e7b6365",
   "metadata": {},
   "outputs": [
    {
     "name": "stdout",
     "output_type": "stream",
     "text": [
      "19\n"
     ]
    }
   ],
   "source": [
    "ts = [7, 17, 13, 19, 5, -1, 2]\n",
    "print(max(numbers))"
   ]
  },
  {
   "cell_type": "code",
   "execution_count": 9,
   "id": "5e361983",
   "metadata": {},
   "outputs": [
    {
     "data": {
      "text/plain": [
       "0"
      ]
     },
     "execution_count": 9,
     "metadata": {},
     "output_type": "execute_result"
    }
   ],
   "source": [
    "temperatures = [0]\n",
    "\n",
    "abs_temp = [abs(temp) for temp in temperatures]\n",
    "\n",
    "index = abs_temp.index(min(abs_temp))\n",
    "\n",
    "temperatures[index]"
   ]
  },
  {
   "cell_type": "code",
   "execution_count": 17,
   "id": "29679e87",
   "metadata": {},
   "outputs": [],
   "source": [
    "def compute_closest_to_zero(ts):\n",
    "    # Write your code here\n",
    "    # To debug: print(\"Debug messages...\", file=sys.stderr, flush=True)\n",
    "    if len(ts)>0:\n",
    "        abs_temp = [abs(temp) for temp in ts]\n",
    "        index_min = abs_temp.index(min(abs_temp))\n",
    "        temp_min = ts[index_min]\n",
    "        return temp_min\n",
    "    else :\n",
    "        print(\"Pas de température\")"
   ]
  },
  {
   "cell_type": "code",
   "execution_count": 18,
   "id": "97029988",
   "metadata": {},
   "outputs": [
    {
     "data": {
      "text/plain": [
       "0"
      ]
     },
     "execution_count": 18,
     "metadata": {},
     "output_type": "execute_result"
    }
   ],
   "source": [
    "ts = []\n",
    "len(ts)"
   ]
  },
  {
   "cell_type": "code",
   "execution_count": 22,
   "id": "a24651b1",
   "metadata": {},
   "outputs": [
    {
     "data": {
      "text/plain": [
       "-100"
      ]
     },
     "execution_count": 22,
     "metadata": {},
     "output_type": "execute_result"
    }
   ],
   "source": [
    "ts = []\n",
    "compute_closest_to_zero(ts)"
   ]
  },
  {
   "cell_type": "code",
   "execution_count": null,
   "id": "db93bd25",
   "metadata": {},
   "outputs": [],
   "source": [
    "w = [85, 100, 90]\n",
    "\n",
    "def solve(weight_0, weight_1, weight_2):\n",
    "    "
   ]
  },
  {
   "cell_type": "code",
   "execution_count": 23,
   "id": "9f5268b3",
   "metadata": {},
   "outputs": [
    {
     "ename": "KeyboardInterrupt",
     "evalue": "",
     "output_type": "error",
     "traceback": [
      "\u001b[1;31m---------------------------------------------------------------------------\u001b[0m",
      "\u001b[1;31mKeyboardInterrupt\u001b[0m                         Traceback (most recent call last)",
      "Cell \u001b[1;32mIn[23], line 6\u001b[0m\n\u001b[0;32m      4\u001b[0m \u001b[38;5;28;01mwhile\u001b[39;00m w0\u001b[38;5;241m>\u001b[39m\u001b[38;5;241m0\u001b[39m \u001b[38;5;129;01mor\u001b[39;00m w1\u001b[38;5;241m>\u001b[39m\u001b[38;5;241m0\u001b[39m \u001b[38;5;129;01mor\u001b[39;00m w2\u001b[38;5;241m>\u001b[39m\u001b[38;5;241m0\u001b[39m:\n\u001b[0;32m      5\u001b[0m     w \u001b[38;5;241m=\u001b[39m [w0, w1, w2]\n\u001b[1;32m----> 6\u001b[0m     max_w \u001b[38;5;241m=\u001b[39m \u001b[43mw\u001b[49m\u001b[38;5;241m.\u001b[39mindex(\u001b[38;5;28mmax\u001b[39m(w))\n\u001b[0;32m      7\u001b[0m     max_w\n",
      "\u001b[1;31mKeyboardInterrupt\u001b[0m: "
     ]
    }
   ],
   "source": [
    "w0 = 85\n",
    "w1 = 100\n",
    "w2 = 90\n",
    "while w0>0 or w1>0 or w2>0:\n",
    "    w = [w0, w1, w2]\n",
    "    max_w = w.index(max(w))\n",
    "    max_w"
   ]
  },
  {
   "cell_type": "markdown",
   "id": "5e37a864",
   "metadata": {},
   "source": [
    "# Q1"
   ]
  },
  {
   "cell_type": "code",
   "execution_count": 3,
   "id": "e6b410f2",
   "metadata": {},
   "outputs": [],
   "source": [
    "prices = [10]\n",
    "for x in prices :\n",
    "    if x < 100000 : continue\n",
    "    else : break\n",
    "    print('ok')"
   ]
  },
  {
   "cell_type": "markdown",
   "id": "60396811",
   "metadata": {},
   "source": [
    "# Q2"
   ]
  },
  {
   "cell_type": "code",
   "execution_count": null,
   "id": "f2a49e99",
   "metadata": {},
   "outputs": [],
   "source": []
  },
  {
   "cell_type": "markdown",
   "id": "73044375",
   "metadata": {},
   "source": [
    "# Q3"
   ]
  },
  {
   "cell_type": "code",
   "execution_count": null,
   "id": "cf91dd7c",
   "metadata": {},
   "outputs": [],
   "source": []
  },
  {
   "cell_type": "markdown",
   "id": "7a758744",
   "metadata": {},
   "source": [
    "# Q4"
   ]
  },
  {
   "cell_type": "code",
   "execution_count": null,
   "id": "f9bc502e",
   "metadata": {},
   "outputs": [],
   "source": []
  },
  {
   "cell_type": "markdown",
   "id": "126afd23",
   "metadata": {},
   "source": [
    "# Q5"
   ]
  },
  {
   "cell_type": "code",
   "execution_count": null,
   "id": "41224cb0",
   "metadata": {},
   "outputs": [],
   "source": []
  },
  {
   "cell_type": "markdown",
   "id": "48b510b1",
   "metadata": {},
   "source": [
    "# Q6"
   ]
  },
  {
   "cell_type": "markdown",
   "id": "38792368",
   "metadata": {},
   "source": [
    "# Q7"
   ]
  },
  {
   "cell_type": "code",
   "execution_count": null,
   "id": "9266d5f3",
   "metadata": {},
   "outputs": [],
   "source": []
  },
  {
   "cell_type": "markdown",
   "id": "00ccf03b",
   "metadata": {},
   "source": [
    "# Q8"
   ]
  },
  {
   "cell_type": "markdown",
   "id": "15814eae",
   "metadata": {},
   "source": [
    "# Q9"
   ]
  },
  {
   "cell_type": "markdown",
   "id": "3025b610",
   "metadata": {},
   "source": [
    "# Q10"
   ]
  },
  {
   "cell_type": "markdown",
   "id": "8a5158c6",
   "metadata": {},
   "source": [
    "# Q11"
   ]
  },
  {
   "cell_type": "markdown",
   "id": "16676b50",
   "metadata": {},
   "source": [
    "# Q12"
   ]
  },
  {
   "cell_type": "markdown",
   "id": "56fce316",
   "metadata": {},
   "source": [
    "# Q13"
   ]
  },
  {
   "cell_type": "code",
   "execution_count": null,
   "id": "56de8e4e",
   "metadata": {},
   "outputs": [],
   "source": []
  },
  {
   "cell_type": "markdown",
   "id": "c85ef207",
   "metadata": {},
   "source": [
    "# Q14"
   ]
  },
  {
   "cell_type": "markdown",
   "id": "c82b82c0",
   "metadata": {},
   "source": [
    "# Q15"
   ]
  },
  {
   "cell_type": "code",
   "execution_count": 29,
   "id": "e59023c0",
   "metadata": {},
   "outputs": [
    {
     "data": {
      "text/plain": [
       "1551.0"
      ]
     },
     "execution_count": 29,
     "metadata": {},
     "output_type": "execute_result"
    }
   ],
   "source": [
    "x = 15511\n",
    "reste_modulo10 = x%10\n",
    "nb_billet10 = (x-reste_modulo10)/10\n",
    "nb_billet10"
   ]
  },
  {
   "cell_type": "code",
   "execution_count": 30,
   "id": "0698abb8",
   "metadata": {},
   "outputs": [
    {
     "data": {
      "text/plain": [
       "1"
      ]
     },
     "execution_count": 30,
     "metadata": {},
     "output_type": "execute_result"
    }
   ],
   "source": [
    "reste_modulo10"
   ]
  },
  {
   "cell_type": "code",
   "execution_count": 31,
   "id": "23085b77",
   "metadata": {},
   "outputs": [
    {
     "data": {
      "text/plain": [
       "0.0"
      ]
     },
     "execution_count": 31,
     "metadata": {},
     "output_type": "execute_result"
    }
   ],
   "source": [
    "reste_modulo5 = reste_modulo10%5\n",
    "nb_billet5 = (reste_modulo10-reste_modulo5)/5\n",
    "nb_billet5"
   ]
  },
  {
   "cell_type": "code",
   "execution_count": 32,
   "id": "06875368",
   "metadata": {},
   "outputs": [
    {
     "data": {
      "text/plain": [
       "0.0"
      ]
     },
     "execution_count": 32,
     "metadata": {},
     "output_type": "execute_result"
    }
   ],
   "source": [
    "reste_modulo2 = reste_modulo5%2\n",
    "nb_billet2 = (reste_modulo5-reste_modulo2)/2\n",
    "nb_billet2"
   ]
  },
  {
   "cell_type": "code",
   "execution_count": 33,
   "id": "c16d99dc",
   "metadata": {},
   "outputs": [
    {
     "data": {
      "text/plain": [
       "1"
      ]
     },
     "execution_count": 33,
     "metadata": {},
     "output_type": "execute_result"
    }
   ],
   "source": [
    "reste_modulo2"
   ]
  },
  {
   "cell_type": "markdown",
   "id": "257aa76b",
   "metadata": {},
   "source": [
    "# Q16"
   ]
  },
  {
   "cell_type": "markdown",
   "id": "bdbbee2d",
   "metadata": {},
   "source": [
    "# Q17"
   ]
  },
  {
   "cell_type": "markdown",
   "id": "eca6f7d9",
   "metadata": {},
   "source": [
    "# Q18"
   ]
  },
  {
   "cell_type": "markdown",
   "id": "7f298d9d",
   "metadata": {},
   "source": [
    "# Q19"
   ]
  },
  {
   "cell_type": "markdown",
   "id": "f02d80b3",
   "metadata": {},
   "source": [
    "# Q20"
   ]
  },
  {
   "cell_type": "markdown",
   "id": "21acb27b",
   "metadata": {},
   "source": [
    "# Q21"
   ]
  },
  {
   "cell_type": "code",
   "execution_count": null,
   "id": "d8b04df8",
   "metadata": {},
   "outputs": [],
   "source": []
  },
  {
   "cell_type": "code",
   "execution_count": 26,
   "id": "59c2d38d",
   "metadata": {},
   "outputs": [],
   "source": [
    "# Q2"
   ]
  },
  {
   "cell_type": "code",
   "execution_count": null,
   "id": "bcb16a44",
   "metadata": {},
   "outputs": [],
   "source": []
  }
 ],
 "metadata": {
  "kernelspec": {
   "display_name": "Python 3 (ipykernel)",
   "language": "python",
   "name": "python3"
  },
  "language_info": {
   "codemirror_mode": {
    "name": "ipython",
    "version": 3
   },
   "file_extension": ".py",
   "mimetype": "text/x-python",
   "name": "python",
   "nbconvert_exporter": "python",
   "pygments_lexer": "ipython3",
   "version": "3.9.16"
  }
 },
 "nbformat": 4,
 "nbformat_minor": 5
}
