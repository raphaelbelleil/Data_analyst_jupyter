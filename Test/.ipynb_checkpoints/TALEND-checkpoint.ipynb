{
 "cells": [
  {
   "cell_type": "code",
   "execution_count": 1,
   "id": "e312b347",
   "metadata": {},
   "outputs": [],
   "source": [
    "import numpy as np\n",
    "import pandas as pd"
   ]
  },
  {
   "cell_type": "code",
   "execution_count": 2,
   "id": "e50aa132",
   "metadata": {},
   "outputs": [],
   "source": [
    "folder = \"D:/Formation Talend/Projet/ICOMMERCE/20240117/\""
   ]
  },
  {
   "cell_type": "code",
   "execution_count": 3,
   "id": "2aa082ed",
   "metadata": {},
   "outputs": [],
   "source": [
    "client = pd.read_csv(folder+\"ICOM_20240117_CUSTOMER.csv\", delimiter='|')"
   ]
  },
  {
   "cell_type": "code",
   "execution_count": 4,
   "id": "0c201b55",
   "metadata": {},
   "outputs": [
    {
     "data": {
      "text/html": [
       "<div>\n",
       "<style scoped>\n",
       "    .dataframe tbody tr th:only-of-type {\n",
       "        vertical-align: middle;\n",
       "    }\n",
       "\n",
       "    .dataframe tbody tr th {\n",
       "        vertical-align: top;\n",
       "    }\n",
       "\n",
       "    .dataframe thead th {\n",
       "        text-align: right;\n",
       "    }\n",
       "</style>\n",
       "<table border=\"1\" class=\"dataframe\">\n",
       "  <thead>\n",
       "    <tr style=\"text-align: right;\">\n",
       "      <th></th>\n",
       "      <th>ID_CLIENT</th>\n",
       "      <th>NOM_CLIENT</th>\n",
       "      <th>PREN_CLIENT</th>\n",
       "      <th>CD_POSTAL_CLIENT</th>\n",
       "      <th>VILLE_CLIENT</th>\n",
       "      <th>PAYS_CLIENT</th>\n",
       "      <th>REGION_CLIENT</th>\n",
       "      <th>CD_TYPE_CLIENT</th>\n",
       "    </tr>\n",
       "  </thead>\n",
       "  <tbody>\n",
       "    <tr>\n",
       "      <th>0</th>\n",
       "      <td>AB-100151402</td>\n",
       "      <td>Aaron</td>\n",
       "      <td>Cynthicia</td>\n",
       "      <td>76017.0</td>\n",
       "      <td>Arlington</td>\n",
       "      <td>États-Unis</td>\n",
       "      <td>Centre des États-Unis</td>\n",
       "      <td>T001</td>\n",
       "    </tr>\n",
       "    <tr>\n",
       "      <th>1</th>\n",
       "      <td>JR-162107</td>\n",
       "      <td>Justin</td>\n",
       "      <td>Ennis</td>\n",
       "      <td>NaN</td>\n",
       "      <td>Caloundra</td>\n",
       "      <td>Australie</td>\n",
       "      <td>Océanie</td>\n",
       "      <td>T002</td>\n",
       "    </tr>\n",
       "    <tr>\n",
       "      <th>2</th>\n",
       "      <td>CR-127307</td>\n",
       "      <td>Craig</td>\n",
       "      <td>Ouatig</td>\n",
       "      <td>NaN</td>\n",
       "      <td>Brisbane</td>\n",
       "      <td>Australie</td>\n",
       "      <td>Océanie</td>\n",
       "      <td>T001</td>\n",
       "    </tr>\n",
       "    <tr>\n",
       "      <th>3</th>\n",
       "      <td>KM-1637548</td>\n",
       "      <td>Katherine</td>\n",
       "      <td>Benjamn</td>\n",
       "      <td>NaN</td>\n",
       "      <td>Mainz</td>\n",
       "      <td>Allemagne</td>\n",
       "      <td>Europe de l'Ouest</td>\n",
       "      <td>T003</td>\n",
       "    </tr>\n",
       "    <tr>\n",
       "      <th>4</th>\n",
       "      <td>RH-9495111</td>\n",
       "      <td>Rick</td>\n",
       "      <td>Iskandr</td>\n",
       "      <td>NaN</td>\n",
       "      <td>Dakar</td>\n",
       "      <td>Sénégal</td>\n",
       "      <td>Afrique de l'Ouest</td>\n",
       "      <td>T001</td>\n",
       "    </tr>\n",
       "  </tbody>\n",
       "</table>\n",
       "</div>"
      ],
      "text/plain": [
       "      ID_CLIENT NOM_CLIENT PREN_CLIENT  CD_POSTAL_CLIENT VILLE_CLIENT  \\\n",
       "0  AB-100151402      Aaron   Cynthicia           76017.0    Arlington   \n",
       "1     JR-162107     Justin       Ennis               NaN    Caloundra   \n",
       "2     CR-127307      Craig      Ouatig               NaN     Brisbane   \n",
       "3    KM-1637548  Katherine     Benjamn               NaN        Mainz   \n",
       "4    RH-9495111       Rick     Iskandr               NaN        Dakar   \n",
       "\n",
       "  PAYS_CLIENT          REGION_CLIENT CD_TYPE_CLIENT  \n",
       "0  États-Unis  Centre des États-Unis           T001  \n",
       "1   Australie                Océanie           T002  \n",
       "2   Australie                Océanie           T001  \n",
       "3   Allemagne      Europe de l'Ouest           T003  \n",
       "4     Sénégal     Afrique de l'Ouest           T001  "
      ]
     },
     "execution_count": 4,
     "metadata": {},
     "output_type": "execute_result"
    }
   ],
   "source": [
    "client.head()"
   ]
  },
  {
   "cell_type": "code",
   "execution_count": 5,
   "id": "42e5fa1a",
   "metadata": {},
   "outputs": [
    {
     "data": {
      "text/plain": [
       "ID_CLIENT               0\n",
       "NOM_CLIENT              0\n",
       "PREN_CLIENT             0\n",
       "CD_POSTAL_CLIENT    14914\n",
       "VILLE_CLIENT            0\n",
       "PAYS_CLIENT             0\n",
       "REGION_CLIENT           0\n",
       "CD_TYPE_CLIENT          0\n",
       "dtype: int64"
      ]
     },
     "execution_count": 5,
     "metadata": {},
     "output_type": "execute_result"
    }
   ],
   "source": [
    "client.isna().sum()"
   ]
  },
  {
   "cell_type": "code",
   "execution_count": 11,
   "id": "5dca2537",
   "metadata": {},
   "outputs": [
    {
     "data": {
      "text/plain": [
       "Index(['ID_CLIENT', 'NOM_CLIENT', 'PREN_CLIENT', 'CD_POSTAL_CLIENT',\n",
       "       'VILLE_CLIENT', 'PAYS_CLIENT', 'REGION_CLIENT', 'CD_TYPE_CLIENT'],\n",
       "      dtype='object')"
      ]
     },
     "execution_count": 11,
     "metadata": {},
     "output_type": "execute_result"
    }
   ],
   "source": [
    "client.columns"
   ]
  },
  {
   "cell_type": "code",
   "execution_count": 22,
   "id": "30a6c435",
   "metadata": {},
   "outputs": [
    {
     "data": {
      "text/plain": [
       "'row5.ID_CLIENT +\"|\"+ row5.NOM_CLIENT +\"|\"+ row5.PREN_CLIENT +\"|\"+ row5.CD_POSTAL_CLIENT +\"|\"+ row5.VILLE_CLIENT +\"|\"+ row5.PAYS_CLIENT +\"|\"+ row5.REGION_CLIENT +\"|\"+ row5.CD_TYPE_CLIENT'"
      ]
     },
     "execution_count": 22,
     "metadata": {},
     "output_type": "execute_result"
    }
   ],
   "source": [
    "a = ['row5.'+ champs + ' +\"|\"+ ' for champs in client.columns[:-1]]\n",
    "a.append('row5.' + client.columns[-1])\n",
    "''.join(a)"
   ]
  },
  {
   "cell_type": "code",
   "execution_count": 23,
   "id": "78ac883a",
   "metadata": {},
   "outputs": [
    {
     "data": {
      "text/plain": [
       "'row6.ID_CLIENT +\"|\"+ row6.NOM_CLIENT +\"|\"+ row6.PREN_CLIENT +\"|\"+ row6.CD_POSTAL_CLIENT +\"|\"+ row6.VILLE_CLIENT +\"|\"+ row6.PAYS_CLIENT +\"|\"+ row6.REGION_CLIENT +\"|\"+ row5.CD_TYPE_CLIENT'"
      ]
     },
     "execution_count": 23,
     "metadata": {},
     "output_type": "execute_result"
    }
   ],
   "source": [
    "a = ['row6.'+ champs + ' +\"|\"+ ' for champs in client.columns[:-1]]\n",
    "a.append('row5.' + client.columns[-1])\n",
    "''.join(a)"
   ]
  },
  {
   "cell_type": "code",
   "execution_count": 24,
   "id": "e8040397",
   "metadata": {},
   "outputs": [
    {
     "data": {
      "text/plain": [
       "'row3.ID_CLIENT +\"|\"+ row3.NOM_CLIENT +\"|\"+ row3.PREN_CLIENT +\"|\"+ row3.CD_POSTAL_CLIENT +\"|\"+ row3.VILLE_CLIENT +\"|\"+ row3.PAYS_CLIENT +\"|\"+ row3.REGION_CLIENT +\"|\"+ row5.CD_TYPE_CLIENT'"
      ]
     },
     "execution_count": 24,
     "metadata": {},
     "output_type": "execute_result"
    }
   ],
   "source": [
    "a = ['row3.'+ champs + ' +\"|\"+ ' for champs in client.columns[:-1]]\n",
    "a.append('row5.' + client.columns[-1])\n",
    "''.join(a)"
   ]
  },
  {
   "cell_type": "code",
   "execution_count": null,
   "id": "f668018a",
   "metadata": {},
   "outputs": [],
   "source": [
    "def phrase_dependance"
   ]
  }
 ],
 "metadata": {
  "kernelspec": {
   "display_name": "Python 3 (ipykernel)",
   "language": "python",
   "name": "python3"
  },
  "language_info": {
   "codemirror_mode": {
    "name": "ipython",
    "version": 3
   },
   "file_extension": ".py",
   "mimetype": "text/x-python",
   "name": "python",
   "nbconvert_exporter": "python",
   "pygments_lexer": "ipython3",
   "version": "3.9.16"
  }
 },
 "nbformat": 4,
 "nbformat_minor": 5
}
