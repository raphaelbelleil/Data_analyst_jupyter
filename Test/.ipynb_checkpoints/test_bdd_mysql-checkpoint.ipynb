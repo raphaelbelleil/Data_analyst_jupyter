{
 "cells": [
  {
   "cell_type": "code",
   "execution_count": 7,
   "id": "2f613199",
   "metadata": {},
   "outputs": [],
   "source": [
    "import pandas as pd\n",
    "import numpy as np"
   ]
  },
  {
   "cell_type": "code",
   "execution_count": 145,
   "id": "9699ca94",
   "metadata": {},
   "outputs": [],
   "source": [
    "import psycopg2"
   ]
  },
  {
   "cell_type": "code",
   "execution_count": 146,
   "id": "e9397730",
   "metadata": {},
   "outputs": [],
   "source": [
    "folder2 = 'D:/Data_Analyst_Projet/Test/'"
   ]
  },
  {
   "cell_type": "code",
   "execution_count": 162,
   "id": "6ece5c7a",
   "metadata": {},
   "outputs": [],
   "source": [
    "continent = pd.read_csv(folder2+\"continent.csv\")\n",
    "pays_annee = pd.read_csv(folder2+\"pays_annee.csv\")\n",
    "pays_genre = pd.read_csv(folder2+\"pays_genre.csv\")\n",
    "pays_zone = pd.read_csv(folder2+\"pays_zone.csv\")"
   ]
  },
  {
   "cell_type": "code",
   "execution_count": 172,
   "id": "d9708deb",
   "metadata": {},
   "outputs": [],
   "source": [
    "# création de la connexion \n",
    "conn = psycopg2.connect(\n",
    "    host=\"localhost\",\n",
    "    database=\"test\",\n",
    "    user=\"postgres\",\n",
    "    password=\"radrio06\"\n",
    "    )"
   ]
  },
  {
   "cell_type": "code",
   "execution_count": 173,
   "id": "292f2ba1",
   "metadata": {},
   "outputs": [],
   "source": [
    "# déclaration d'un curseur\n",
    "cur = conn.cursor()"
   ]
  },
  {
   "cell_type": "code",
   "execution_count": 174,
   "id": "e766b92b",
   "metadata": {},
   "outputs": [
    {
     "data": {
      "text/html": [
       "<div>\n",
       "<style scoped>\n",
       "    .dataframe tbody tr th:only-of-type {\n",
       "        vertical-align: middle;\n",
       "    }\n",
       "\n",
       "    .dataframe tbody tr th {\n",
       "        vertical-align: top;\n",
       "    }\n",
       "\n",
       "    .dataframe thead th {\n",
       "        text-align: right;\n",
       "    }\n",
       "</style>\n",
       "<table border=\"1\" class=\"dataframe\">\n",
       "  <thead>\n",
       "    <tr style=\"text-align: right;\">\n",
       "      <th></th>\n",
       "      <th>id_continent</th>\n",
       "      <th>continent</th>\n",
       "    </tr>\n",
       "  </thead>\n",
       "  <tbody>\n",
       "    <tr>\n",
       "      <th>0</th>\n",
       "      <td>3</td>\n",
       "      <td>Europe</td>\n",
       "    </tr>\n",
       "    <tr>\n",
       "      <th>1</th>\n",
       "      <td>5</td>\n",
       "      <td>Western Pacific</td>\n",
       "    </tr>\n",
       "    <tr>\n",
       "      <th>2</th>\n",
       "      <td>2</td>\n",
       "      <td>Eastern Mediterranean</td>\n",
       "    </tr>\n",
       "    <tr>\n",
       "      <th>3</th>\n",
       "      <td>4</td>\n",
       "      <td>South-East Asia</td>\n",
       "    </tr>\n",
       "    <tr>\n",
       "      <th>4</th>\n",
       "      <td>0</td>\n",
       "      <td>Africa</td>\n",
       "    </tr>\n",
       "    <tr>\n",
       "      <th>5</th>\n",
       "      <td>1</td>\n",
       "      <td>Americas</td>\n",
       "    </tr>\n",
       "    <tr>\n",
       "      <th>6</th>\n",
       "      <td>6</td>\n",
       "      <td>unknown</td>\n",
       "    </tr>\n",
       "  </tbody>\n",
       "</table>\n",
       "</div>"
      ],
      "text/plain": [
       "   id_continent              continent\n",
       "0             3                 Europe\n",
       "1             5        Western Pacific\n",
       "2             2  Eastern Mediterranean\n",
       "3             4        South-East Asia\n",
       "4             0                 Africa\n",
       "5             1               Americas\n",
       "6             6                unknown"
      ]
     },
     "execution_count": 174,
     "metadata": {},
     "output_type": "execute_result"
    }
   ],
   "source": [
    "continent"
   ]
  },
  {
   "cell_type": "code",
   "execution_count": 175,
   "id": "04f2b064",
   "metadata": {},
   "outputs": [
    {
     "data": {
      "text/plain": [
       "[(3, 'Europe'),\n",
       " (5, 'Western Pacific'),\n",
       " (2, 'Eastern Mediterranean'),\n",
       " (4, 'South-East Asia'),\n",
       " (0, 'Africa'),\n",
       " (1, 'Americas'),\n",
       " (6, 'unknown')]"
      ]
     },
     "execution_count": 175,
     "metadata": {},
     "output_type": "execute_result"
    }
   ],
   "source": [
    "values = [(int(continent['id_continent'][i]), str(continent['continent'][i])) for i in range(continent.shape[0])]\n",
    "values"
   ]
  },
  {
   "cell_type": "code",
   "execution_count": 176,
   "id": "ef56645b",
   "metadata": {},
   "outputs": [],
   "source": [
    "query = \"INSERT INTO continent (id_continent, continent) VALUES (%s, %s)\"\n",
    "values = values"
   ]
  },
  {
   "cell_type": "code",
   "execution_count": 178,
   "id": "bfafe15b",
   "metadata": {},
   "outputs": [],
   "source": [
    "for element in values : \n",
    "    cur.execute(query, element)"
   ]
  },
  {
   "cell_type": "code",
   "execution_count": 181,
   "id": "4d435ff0",
   "metadata": {},
   "outputs": [
    {
     "ename": "InterfaceError",
     "evalue": "connection already closed",
     "output_type": "error",
     "traceback": [
      "\u001b[1;31m---------------------------------------------------------------------------\u001b[0m",
      "\u001b[1;31mInterfaceError\u001b[0m                            Traceback (most recent call last)",
      "\u001b[1;32m~\\AppData\\Local\\Temp\\ipykernel_6500\\192355949.py\u001b[0m in \u001b[0;36m<module>\u001b[1;34m\u001b[0m\n\u001b[1;32m----> 1\u001b[1;33m \u001b[0mconn\u001b[0m\u001b[1;33m.\u001b[0m\u001b[0mcommit\u001b[0m\u001b[1;33m(\u001b[0m\u001b[1;33m)\u001b[0m\u001b[1;33m\u001b[0m\u001b[1;33m\u001b[0m\u001b[0m\n\u001b[0m",
      "\u001b[1;31mInterfaceError\u001b[0m: connection already closed"
     ]
    }
   ],
   "source": [
    "conn.commit()"
   ]
  },
  {
   "cell_type": "code",
   "execution_count": 180,
   "id": "f223c6bd",
   "metadata": {},
   "outputs": [],
   "source": [
    "cur.close()\n",
    "conn.close()"
   ]
  },
  {
   "cell_type": "code",
   "execution_count": null,
   "id": "0a4f92fd",
   "metadata": {},
   "outputs": [],
   "source": []
  }
 ],
 "metadata": {
  "kernelspec": {
   "display_name": "Python 3 (ipykernel)",
   "language": "python",
   "name": "python3"
  },
  "language_info": {
   "codemirror_mode": {
    "name": "ipython",
    "version": 3
   },
   "file_extension": ".py",
   "mimetype": "text/x-python",
   "name": "python",
   "nbconvert_exporter": "python",
   "pygments_lexer": "ipython3",
   "version": "3.9.13"
  }
 },
 "nbformat": 4,
 "nbformat_minor": 5
}
