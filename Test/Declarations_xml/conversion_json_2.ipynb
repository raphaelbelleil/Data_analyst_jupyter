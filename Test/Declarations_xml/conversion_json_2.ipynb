{
 "cells": [
  {
   "cell_type": "code",
   "execution_count": 1,
   "id": "9e4ec931",
   "metadata": {},
   "outputs": [],
   "source": [
    "# Import des librairies\n",
    "import numpy as np\n",
    "import pandas as pd\n",
    "import matplotlib.pyplot as plt\n",
    "import seaborn as sns\n",
    "import xml.etree.ElementTree as ET\n",
    "import json\n",
    "import xml"
   ]
  },
  {
   "cell_type": "code",
   "execution_count": 2,
   "id": "3df8a38a",
   "metadata": {},
   "outputs": [],
   "source": [
    "import pymongo"
   ]
  },
  {
   "cell_type": "code",
   "execution_count": 3,
   "id": "a75446e6",
   "metadata": {},
   "outputs": [],
   "source": [
    "import xmltodict"
   ]
  },
  {
   "cell_type": "code",
   "execution_count": 4,
   "id": "662a8f65",
   "metadata": {},
   "outputs": [],
   "source": [
    "folder = 'D:/Fichiers_dev/test_xml/'"
   ]
  },
  {
   "cell_type": "code",
   "execution_count": 5,
   "id": "9652d5a5",
   "metadata": {},
   "outputs": [],
   "source": [
    "tree = ET.parse(folder + 'extrait_declaration2.xml')"
   ]
  },
  {
   "cell_type": "code",
   "execution_count": 6,
   "id": "d8b5f2d7",
   "metadata": {},
   "outputs": [],
   "source": [
    "root = tree.getroot()"
   ]
  },
  {
   "cell_type": "code",
   "execution_count": 34,
   "id": "86733962",
   "metadata": {},
   "outputs": [],
   "source": [
    "declarations_json = []\n",
    "\n",
    "for declaration in root :\n",
    "    # pour chaque declaration (1er niveau du parsage), on reconvertie en xml string decodé en utf-8\n",
    "    declaration_parse = ET.tostring(declaration).decode('utf-8')\n",
    "    # on convertie en json chaque declaration\n",
    "    declaration_json = xmltodict.parse(declaration_parse)\n",
    "    # on enregistre chaque json dans une liste\n",
    "    declarations_json.append((declaration_json['declaration']))"
   ]
  },
  {
   "cell_type": "code",
   "execution_count": 35,
   "id": "59617e75",
   "metadata": {},
   "outputs": [],
   "source": [
    "def remplacer_espace_insecable(dictionnaire, cle, valeur):\n",
    "    \n",
    "    # si la valeur est une chaine, faire le remplacement\n",
    "    dictionnaire[cle] = valeur.replace('\\xa0', '')"
   ]
  },
  {
   "cell_type": "code",
   "execution_count": 36,
   "id": "6d71647e",
   "metadata": {},
   "outputs": [],
   "source": [
    "def conversion_numerique(dictionnaire, cle, valeur):\n",
    "    \n",
    "    # conversion en numerique\n",
    "    if (cle=='annee' or cle=='montant'): \n",
    "        dictionnaire[cle] = int(valeur)"
   ]
  },
  {
   "cell_type": "code",
   "execution_count": 37,
   "id": "60662cb6",
   "metadata": {},
   "outputs": [],
   "source": [
    "def transformation_dictionnaire_recursive_fonction(dictionnaire, fonction):\n",
    "    for cle, valeur in dictionnaire.items():\n",
    "\n",
    "        # si la valeur est un dictionnaire, appel récursif\n",
    "        if isinstance(valeur, dict):\n",
    "                valeur_dict = valeur\n",
    "                transformation_dictionnaire_recursive_fonction(dictionnaire=valeur_dict, fonction=fonction)\n",
    "\n",
    "        # si la valeur est une liste, on boucle sur la liste, puis appel récusrsif\n",
    "        if isinstance(valeur, list):\n",
    "                for dictionnaire_in in valeur :\n",
    "                    transformation_dictionnaire_recursive_fonction(dictionnaire=dictionnaire_in, fonction=fonction)\n",
    "\n",
    "        if isinstance(valeur, str) :\n",
    "            fonction(dictionnaire, cle, valeur)\n",
    "\n",
    "        else : \n",
    "            dictionnaire[cle] = valeur"
   ]
  },
  {
   "cell_type": "code",
   "execution_count": 38,
   "id": "ce49d574",
   "metadata": {},
   "outputs": [],
   "source": [
    "transformation_dictionnaire_recursive_fonction(dictionnaire=declarations_json[0], fonction=remplacer_espace_insecable)"
   ]
  },
  {
   "cell_type": "code",
   "execution_count": 40,
   "id": "ad079744",
   "metadata": {},
   "outputs": [],
   "source": [
    "# on applique les fonctions de transformation à toutes les déclarations\n",
    "\n",
    "for declaration in declarations_json:\n",
    "    # remplacer les espaces insécables\n",
    "    transformation_dictionnaire_recursive_fonction(dictionnaire=declarations_json[0], fonction=remplacer_espace_insecable)\n",
    "    # faire les conversions numériques\n",
    "    transformation_dictionnaire_recursive_fonction(dictionnaire=declarations_json[0], fonction=conversion_numerique)"
   ]
  },
  {
   "cell_type": "markdown",
   "id": "23c98e20",
   "metadata": {},
   "source": [
    "### Connection à MongoDB"
   ]
  },
  {
   "cell_type": "code",
   "execution_count": 41,
   "id": "266b2a3a",
   "metadata": {},
   "outputs": [],
   "source": [
    "client = pymongo.MongoClient('mongodb://localhost:27017')"
   ]
  },
  {
   "cell_type": "code",
   "execution_count": 42,
   "id": "1ea3f74d",
   "metadata": {},
   "outputs": [],
   "source": [
    "db = client['declarations']\n",
    "\n",
    "collection = db['declaration_extrait']"
   ]
  },
  {
   "cell_type": "markdown",
   "id": "af26cd03",
   "metadata": {},
   "source": [
    "### Conversion en json et transfert dans MongoDB"
   ]
  },
  {
   "cell_type": "code",
   "execution_count": 45,
   "id": "b56804ff",
   "metadata": {},
   "outputs": [],
   "source": [
    "for declaration in declarations_json:\n",
    "    collection.insert_one(declaration)"
   ]
  },
  {
   "cell_type": "code",
   "execution_count": null,
   "id": "b042618a",
   "metadata": {},
   "outputs": [],
   "source": []
  }
 ],
 "metadata": {
  "kernelspec": {
   "display_name": "Python 3 (ipykernel)",
   "language": "python",
   "name": "python3"
  },
  "language_info": {
   "codemirror_mode": {
    "name": "ipython",
    "version": 3
   },
   "file_extension": ".py",
   "mimetype": "text/x-python",
   "name": "python",
   "nbconvert_exporter": "python",
   "pygments_lexer": "ipython3",
   "version": "3.9.16"
  }
 },
 "nbformat": 4,
 "nbformat_minor": 5
}
