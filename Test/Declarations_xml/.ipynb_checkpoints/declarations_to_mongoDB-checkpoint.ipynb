{
 "cells": [
  {
   "cell_type": "code",
   "execution_count": 1,
   "id": "9e4ec931",
   "metadata": {},
   "outputs": [],
   "source": [
    "# Import des librairies\n",
    "import numpy as np\n",
    "import pandas as pd\n",
    "import matplotlib.pyplot as plt\n",
    "import seaborn as sns\n",
    "import xml.etree.ElementTree as ET\n",
    "import json\n",
    "import xml"
   ]
  },
  {
   "cell_type": "code",
   "execution_count": 2,
   "id": "3df8a38a",
   "metadata": {},
   "outputs": [],
   "source": [
    "import pymongo"
   ]
  },
  {
   "cell_type": "code",
   "execution_count": 3,
   "id": "a75446e6",
   "metadata": {},
   "outputs": [],
   "source": [
    "import xmltodict\n",
    "from tqdm import tqdm"
   ]
  },
  {
   "cell_type": "code",
   "execution_count": 4,
   "id": "efcf3c34",
   "metadata": {},
   "outputs": [],
   "source": [
    "from datetime import datetime, date"
   ]
  },
  {
   "cell_type": "code",
   "execution_count": 5,
   "id": "662a8f65",
   "metadata": {},
   "outputs": [],
   "source": [
    "folder = 'D:/Fichiers_dev/test_xml/'"
   ]
  },
  {
   "cell_type": "code",
   "execution_count": 6,
   "id": "9652d5a5",
   "metadata": {},
   "outputs": [],
   "source": [
    "tree = ET.parse(folder + 'declarations.xml')"
   ]
  },
  {
   "cell_type": "code",
   "execution_count": 7,
   "id": "d8b5f2d7",
   "metadata": {},
   "outputs": [],
   "source": [
    "root = tree.getroot()"
   ]
  },
  {
   "cell_type": "code",
   "execution_count": 17,
   "id": "86733962",
   "metadata": {},
   "outputs": [
    {
     "name": "stderr",
     "output_type": "stream",
     "text": [
      "100%|███████████████████████████████████████████████████████████████████████████| 10893/10893 [00:32<00:00, 330.13it/s]\n"
     ]
    }
   ],
   "source": [
    "declarations_json = []\n",
    "\n",
    "for declaration in tqdm(root) :\n",
    "    # pour chaque declaration (1er niveau du parsage), on reconvertie en xml string decodé en utf-8\n",
    "    declaration_parse = ET.tostring(declaration).decode('utf-8')\n",
    "    # on convertie en json chaque declaration\n",
    "    declaration_json = xmltodict.parse(declaration_parse)\n",
    "    # on enregistre chaque json dans une liste\n",
    "    declarations_json.append((declaration_json['declaration']))"
   ]
  },
  {
   "cell_type": "code",
   "execution_count": 18,
   "id": "59617e75",
   "metadata": {},
   "outputs": [],
   "source": [
    "def remplacer_espace_insecable(dictionnaire, cle, valeur):\n",
    "    \n",
    "    # si la valeur est une chaine, faire le remplacement\n",
    "    dictionnaire[cle] = valeur.replace('\\xa0', '')"
   ]
  },
  {
   "cell_type": "code",
   "execution_count": 19,
   "id": "6d71647e",
   "metadata": {},
   "outputs": [],
   "source": [
    "def conversion(dictionnaire, cle, valeur):\n",
    "    \n",
    "    # conversion en numerique\n",
    "    if (cle=='annee' or cle=='montant'): \n",
    "        dictionnaire[cle] = int(valeur)\n",
    "    \n",
    "    # conversion en datetime\n",
    "    if cle=='dateDepot':\n",
    "        format_date = '%d/%m/%Y %H:%M:%S'\n",
    "        dictionnaire[cle] = datetime.strptime(valeur, format_date)\n",
    "    \n",
    "    # conversion en date\n",
    "    if cle=='dateNaissance':\n",
    "        format_date = '%d/%m/%Y'\n",
    "        # on recupere seulement la date de l'objet datetime\n",
    "        dictionnaire[cle] = datetime.strptime(valeur, format_date)"
   ]
  },
  {
   "cell_type": "code",
   "execution_count": 20,
   "id": "4c836f1e",
   "metadata": {},
   "outputs": [],
   "source": [
    "def transformation_dictionnaire_recursive_fonction(dictionnaire, fonction):\n",
    "    for cle, valeur in dictionnaire.items():\n",
    "\n",
    "        # si la valeur est un dictionnaire, appel récursif\n",
    "        if isinstance(valeur, dict):\n",
    "                valeur_dict = valeur\n",
    "                transformation_dictionnaire_recursive_fonction(dictionnaire=valeur_dict, fonction=fonction)\n",
    "\n",
    "        # si la valeur est une liste, on boucle sur la liste, puis appel récusrsif\n",
    "        if isinstance(valeur, list):\n",
    "                for dictionnaire_in in valeur :\n",
    "                    transformation_dictionnaire_recursive_fonction(dictionnaire=dictionnaire_in, fonction=fonction)\n",
    "\n",
    "        if isinstance(valeur, str) :\n",
    "            fonction(dictionnaire, cle, valeur)\n",
    "\n",
    "        else : \n",
    "            dictionnaire[cle] = valeur"
   ]
  },
  {
   "cell_type": "code",
   "execution_count": 21,
   "id": "ad079744",
   "metadata": {},
   "outputs": [
    {
     "name": "stderr",
     "output_type": "stream",
     "text": [
      "100%|██████████████████████████████████████████████████████████████████████████| 10893/10893 [00:03<00:00, 3002.20it/s]\n"
     ]
    }
   ],
   "source": [
    "# on applique les fonctions de transformation à toutes les déclarations\n",
    "\n",
    "for declaration in tqdm(declarations_json):\n",
    "    # remplacer les espaces insécables\n",
    "    transformation_dictionnaire_recursive_fonction(dictionnaire=declarations_json[0], fonction=remplacer_espace_insecable)\n",
    "    # faire les conversions numériques\n",
    "    transformation_dictionnaire_recursive_fonction(dictionnaire=declarations_json[0], fonction=conversion)"
   ]
  },
  {
   "cell_type": "code",
   "execution_count": 22,
   "id": "be990a30",
   "metadata": {},
   "outputs": [
    {
     "data": {
      "text/plain": [
       "{'dateDepot': datetime.datetime(2022, 7, 11, 15, 40, 13),\n",
       " 'uuid': '4344aaa1-874d-4e6d-9b1a-45f7725b710c',\n",
       " 'origine': 'ADEL',\n",
       " 'complete': 'true',\n",
       " 'attachedFiles': {'attachedFiles': {'fileName': 'VUE_PDF_DU_RECEPISSE_DU_DEPOT_XML',\n",
       "   'serverFileName': None,\n",
       "   'base64EncodedContent': None}},\n",
       " 'declarationVersion': '20171221',\n",
       " 'activConsultantDto': {'neant': 'true'},\n",
       " 'activProfCinqDerniereDto': {'neant': 'true'},\n",
       " 'activProfConjointDto': {'items': {'items': {'motif': {'id': 'CREATION',\n",
       "     'label': None},\n",
       "    'commentaire': None,\n",
       "    'nomConjoint': '[Données non publiées]',\n",
       "    'employeurConjoint': 'CENTRE HOSPITALIER DU HAUT-BUGEY',\n",
       "    'activiteProf': 'Infirmière'}},\n",
       "  'neant': 'false'},\n",
       " 'fonctionBenevoleDto': {'neant': 'true'},\n",
       " 'mandatElectifDto': {'items': {'items': [{'motif': {'id': 'CREATION',\n",
       "      'label': None},\n",
       "     'commentaire': 'REVENUS NETS IMPOSABLES\\n        [Données non publiées]',\n",
       "     'descriptionMandat': 'DEPUTE',\n",
       "     'remuneration': {'brutNet': 'Net',\n",
       "      'montant': {'montant': [{'annee': 2017, 'montant': 67047},\n",
       "        {'annee': 2018, 'montant': 71042},\n",
       "        {'annee': 2019, 'montant': 71105},\n",
       "        {'annee': 2020, 'montant': 70773},\n",
       "        {'annee': 2021, 'montant': 70676},\n",
       "        {'annee': 2022, 'montant': 27289}]}},\n",
       "     'dateDebut': '01/2017',\n",
       "     'dateFin': None},\n",
       "    {'motif': {'id': 'CREATION', 'label': None},\n",
       "     'commentaire': 'REVENUS NETS IMPOSABLES\\n        [Données non publiées]',\n",
       "     'descriptionMandat': 'PRESIDENT DU DEPARTEMENT 01',\n",
       "     'remuneration': {'brutNet': 'Net',\n",
       "      'montant': {'montant': [{'annee': 2015, 'montant': 16865},\n",
       "        {'annee': 2016, 'montant': 23035},\n",
       "        {'annee': 2017, 'montant': 20120}]}},\n",
       "     'dateDebut': '04/2015',\n",
       "     'dateFin': '07/2017'},\n",
       "    {'motif': {'id': 'CREATION', 'label': None},\n",
       "     'commentaire': \"J'ai été élu président de groupe LR le 6 Novembre 2019. Cette fonction n'octroie aucune rémunération supplémentaire\",\n",
       "     'descriptionMandat': \"Président du Groupe Les Républicains à l'Assemblée nationale\",\n",
       "     'remuneration': {'brutNet': 'Net',\n",
       "      'montant': {'montant': [{'annee': 2019, 'montant': 0},\n",
       "        {'annee': 2020, 'montant': 0},\n",
       "        {'annee': 2021, 'montant': 0},\n",
       "        {'annee': 2022, 'montant': 0}]}},\n",
       "     'dateDebut': '11/2019',\n",
       "     'dateFin': '05/2022'},\n",
       "    {'motif': {'id': 'CREATION', 'label': None},\n",
       "     'commentaire': '[Données non publiées]',\n",
       "     'descriptionMandat': 'CONSEILLER DEPARTEMENTAL',\n",
       "     'remuneration': {'brutNet': 'Net',\n",
       "      'montant': {'montant': [{'annee': 2017, 'montant': 28007},\n",
       "        {'annee': 2018, 'montant': 24201},\n",
       "        {'annee': 2019, 'montant': 16386},\n",
       "        {'annee': 2020, 'montant': 16386},\n",
       "        {'annee': 2021, 'montant': 16384},\n",
       "        {'annee': 2022, 'montant': 6827}]}},\n",
       "     'dateDebut': '07/2017',\n",
       "     'dateFin': None},\n",
       "    {'motif': {'id': 'CREATION', 'label': None},\n",
       "     'commentaire': None,\n",
       "     'descriptionMandat': \"Département de l'Ain - Président du Groupe majoritaire l'Ain de toute nos forces\",\n",
       "     'remuneration': {'brutNet': 'Net',\n",
       "      'montant': {'montant': [{'annee': 2017, 'montant': 0},\n",
       "        {'annee': 2018, 'montant': 0},\n",
       "        {'annee': 2019, 'montant': 0},\n",
       "        {'annee': 2020, 'montant': 0},\n",
       "        {'annee': 2021, 'montant': 0},\n",
       "        {'annee': 2022, 'montant': 0}]}},\n",
       "     'dateDebut': '07/2017',\n",
       "     'dateFin': None}]},\n",
       "  'neant': 'false'},\n",
       " 'participationDirigeantDto': {'items': {'items': [{'motif': {'id': 'CREATION',\n",
       "      'label': None},\n",
       "     'commentaire': 'Président du SDIS 01. Activité arrêtée depuis ma démission de la présidence du département en juillet 2017',\n",
       "     'nomSociete': 'SDIS 01',\n",
       "     'activite': \"Service départemental d'incendie et de secours\",\n",
       "     'remuneration': {'brutNet': 'Brut',\n",
       "      'montant': {'montant': [{'annee': 2015, 'montant': 0},\n",
       "        {'annee': 2016, 'montant': 0},\n",
       "        {'annee': 2017, 'montant': 0}]}},\n",
       "     'dateDebut': '04/2015',\n",
       "     'dateFin': '07/2017'},\n",
       "    {'motif': {'id': 'CREATION', 'label': None},\n",
       "     'commentaire': \"Président de l'association AINTOURISME qui développe et promeut la politique touristique du Département de l'Ain.\",\n",
       "     'nomSociete': 'ASSOCIATION AINTOURISME',\n",
       "     'activite': \"Président d'Aintourisme qui a pour objet la politique touristique du Département\",\n",
       "     'remuneration': {'brutNet': 'Net',\n",
       "      'montant': {'montant': [{'annee': 2017, 'montant': 0},\n",
       "        {'annee': 2018, 'montant': 0},\n",
       "        {'annee': 2019, 'montant': 0},\n",
       "        {'annee': 2020, 'montant': 0},\n",
       "        {'annee': 2021, 'montant': 0},\n",
       "        {'annee': 2022, 'montant': 0}]}},\n",
       "     'dateDebut': '07/2017',\n",
       "     'dateFin': None},\n",
       "    {'motif': {'id': 'CREATION', 'label': None},\n",
       "     'commentaire': \"Mon élection comme président du groupe LR à l'assemblée nationale date du 6 Novembre 2019. Ce titre n'octroie pas une rémunération supplémentaire.\",\n",
       "     'nomSociete': 'Assemblée nationale - Groupe Les Républicains -',\n",
       "     'activite': \"Président du Groupe Les Républicains à l'Assemblée nationale\",\n",
       "     'remuneration': {'brutNet': 'Net',\n",
       "      'montant': {'montant': [{'annee': 2019, 'montant': 0},\n",
       "        {'annee': 2020, 'montant': 0},\n",
       "        {'annee': 2021, 'montant': 0},\n",
       "        {'annee': 2022, 'montant': 0}]}},\n",
       "     'dateDebut': '11/2019',\n",
       "     'dateFin': '05/2022'},\n",
       "    {'motif': {'id': 'CREATION', 'label': None},\n",
       "     'commentaire': \"Promotion du patrimoine culinaire et gastronomique du Département de l'Ain\",\n",
       "     'nomSociete': \"ASSOCIATION SAVEURS DE L'AIN\",\n",
       "     'activite': \"Président de l'association Saveurs de l'Ain qui a pour objet de promouvoir la gastronomie de notre Département\",\n",
       "     'remuneration': {'brutNet': 'Net',\n",
       "      'montant': {'montant': [{'annee': 2019, 'montant': 0},\n",
       "        {'annee': 2020, 'montant': 0},\n",
       "        {'annee': 2021, 'montant': 0},\n",
       "        {'annee': 2022, 'montant': 0}]}},\n",
       "     'dateDebut': '05/2019',\n",
       "     'dateFin': None},\n",
       "    {'motif': {'id': 'CREATION', 'label': None},\n",
       "     'commentaire': \"Association - parti politique Création Décembre 2018 Nous avons changé de noms à plusieurs reprises : d'abord la France des territoires, puis Dans l'Action puis Les Amis de Damien Abad, nouveau nom depuis Septembre 2020.\",\n",
       "     'nomSociete': 'Association Les Amis de Damien Abad',\n",
       "     'activite': \"Président de l'association Les Amis de Damien Abad\",\n",
       "     'remuneration': {'brutNet': 'Net',\n",
       "      'montant': {'montant': [{'annee': 2018, 'montant': 0},\n",
       "        {'annee': 2019, 'montant': 0},\n",
       "        {'annee': 2020, 'montant': 0},\n",
       "        {'annee': 2021, 'montant': 0},\n",
       "        {'annee': 2022, 'montant': 0}]}},\n",
       "     'dateDebut': '12/2018',\n",
       "     'dateFin': None}]},\n",
       "  'neant': 'false'},\n",
       " 'participationFinanciereDto': {'items': {'items': [{'motif': {'id': 'CREATION',\n",
       "      'label': None},\n",
       "     'commentaire': '[Données non publiées]',\n",
       "     'nomSociete': 'ORANGE',\n",
       "     'evaluation': '877',\n",
       "     'remuneration': 'néant',\n",
       "     'capitalDetenu': None,\n",
       "     'nombreParts': '83',\n",
       "     'actiConseil': 'Non'},\n",
       "    {'motif': {'id': 'CREATION', 'label': None},\n",
       "     'commentaire': '[Données non publiées]',\n",
       "     'nomSociete': 'CREDIT AGRICOLE SA',\n",
       "     'evaluation': '2910',\n",
       "     'remuneration': 'néant',\n",
       "     'capitalDetenu': None,\n",
       "     'nombreParts': '341',\n",
       "     'actiConseil': 'Non'},\n",
       "    {'motif': {'id': 'CREATION', 'label': None},\n",
       "     'commentaire': '[Données non publiées]',\n",
       "     'nomSociete': 'AIRBUS',\n",
       "     'evaluation': '1929',\n",
       "     'remuneration': 'NEANT',\n",
       "     'capitalDetenu': None,\n",
       "     'nombreParts': '20',\n",
       "     'actiConseil': 'Non'},\n",
       "    {'motif': {'id': 'CREATION', 'label': None},\n",
       "     'commentaire': '[Données non publiées]',\n",
       "     'nomSociete': \"L'OREAL\",\n",
       "     'evaluation': '6552',\n",
       "     'remuneration': 'NEANT',\n",
       "     'capitalDetenu': None,\n",
       "     'nombreParts': '20',\n",
       "     'actiConseil': 'Non'}]},\n",
       "  'neant': 'false'},\n",
       " 'activCollaborateursDto': {'items': {'items': [{'motif': {'id': 'CREATION',\n",
       "      'label': None},\n",
       "     'commentaire': None,\n",
       "     'nom': 'LOPES MAGNUSON',\n",
       "     'employeur': 'Néant',\n",
       "     'descriptionActivite': 'Assistant fonctionnel'},\n",
       "    {'motif': {'id': 'CREATION', 'label': None},\n",
       "     'commentaire': None,\n",
       "     'nom': 'FOUGNIES REBECCA',\n",
       "     'employeur': 'Néant',\n",
       "     'descriptionActivite': 'Assistante parlementaire locale'}]},\n",
       "  'neant': 'false'},\n",
       " 'observationInteretDto': {'items': {'items': {'motif': {'id': 'CREATION',\n",
       "     'label': None},\n",
       "    'commentaire': None,\n",
       "    'contenu': 'mon équipe de collaborateurs parlementaires sera complétée dans les prochaines semaines'}},\n",
       "  'neant': 'false'},\n",
       " 'general': {'typeDeclaration': {'id': 'DIA',\n",
       "   'label': \"Déclaration d'intérêts et d'activités\"},\n",
       "  'mandat': {'label': 'Député ou sénateur'},\n",
       "  'qualiteMandat': {'typeMandat': 'Député',\n",
       "   'codCategorieMandat': 'PAR',\n",
       "   'nomCategorieMandat': 'Député ou sénateur',\n",
       "   'codTypeMandatFichier': 'depute',\n",
       "   'labelTypeMandat': 'Député',\n",
       "   'labelOrgane': \"Département d'élection\",\n",
       "   'codeListeOrgane': 'ZEP'},\n",
       "  'organe': {'codeOrgane': '01',\n",
       "   'codeListeOrgane': 'ZEP',\n",
       "   'nomListeOrgane': \"Zones d'élection des parlementaires\",\n",
       "   'labelOrgane': 'Ain(01)',\n",
       "   'labelDeclaration': None,\n",
       "   'organeParent': None},\n",
       "  'qualiteDeclarant': None,\n",
       "  'qualiteDeclarantForPDF': 'Député/Ain(01)',\n",
       "  'dateDebutMandat': '19/06/2022',\n",
       "  'dateFinMandat': None,\n",
       "  'dateDernDeclar': None,\n",
       "  'regimeMatrimonial': None,\n",
       "  'regimeMatrimonialComments': None,\n",
       "  'nomSociete': None,\n",
       "  'nomSocieteMere': None,\n",
       "  'chiffreAffaire': None,\n",
       "  'nbLogements': None,\n",
       "  'declarationModificative': 'false',\n",
       "  'etablissement': None,\n",
       "  'declarant': {'civilite': 'M.',\n",
       "   'nom': 'ABAD',\n",
       "   'prenom': 'DAMIEN',\n",
       "   'email': '[Données non publiées]',\n",
       "   'dateNaissance': datetime.datetime(1980, 4, 5, 0, 0),\n",
       "   'pieceIdentite': None,\n",
       "   'telephoneDec': '[Données non publiées]',\n",
       "   'adresseDec': {'voie': '[Données non publiées]',\n",
       "    'complement': '[Données non publiées]',\n",
       "    'codePostal': '[Données non publiées]',\n",
       "    'ville': '[Données non publiées]',\n",
       "    'pays': '[Données non publiées]'}}}}"
      ]
     },
     "execution_count": 22,
     "metadata": {},
     "output_type": "execute_result"
    }
   ],
   "source": [
    "declarations_json[0]"
   ]
  },
  {
   "cell_type": "markdown",
   "id": "23c98e20",
   "metadata": {},
   "source": [
    "### Connection à MongoDB"
   ]
  },
  {
   "cell_type": "code",
   "execution_count": 23,
   "id": "266b2a3a",
   "metadata": {},
   "outputs": [],
   "source": [
    "client = pymongo.MongoClient('mongodb://localhost:27017')"
   ]
  },
  {
   "cell_type": "code",
   "execution_count": 24,
   "id": "1ea3f74d",
   "metadata": {},
   "outputs": [],
   "source": [
    "db = client['declarations']\n",
    "\n",
    "collection = db['declarations_all']"
   ]
  },
  {
   "cell_type": "markdown",
   "id": "af26cd03",
   "metadata": {},
   "source": [
    "### Conversion en json et transfert dans MongoDB"
   ]
  },
  {
   "cell_type": "code",
   "execution_count": 25,
   "id": "b56804ff",
   "metadata": {},
   "outputs": [
    {
     "name": "stderr",
     "output_type": "stream",
     "text": [
      "100%|██████████████████████████████████████████████████████████████████████████| 10893/10893 [00:05<00:00, 1851.49it/s]\n"
     ]
    }
   ],
   "source": [
    "collection.drop()\n",
    "\n",
    "for declaration in tqdm(declarations_json):\n",
    "    collection.insert_one(declaration)"
   ]
  },
  {
   "cell_type": "code",
   "execution_count": null,
   "id": "d921442c",
   "metadata": {},
   "outputs": [],
   "source": []
  }
 ],
 "metadata": {
  "kernelspec": {
   "display_name": "Python 3 (ipykernel)",
   "language": "python",
   "name": "python3"
  },
  "language_info": {
   "codemirror_mode": {
    "name": "ipython",
    "version": 3
   },
   "file_extension": ".py",
   "mimetype": "text/x-python",
   "name": "python",
   "nbconvert_exporter": "python",
   "pygments_lexer": "ipython3",
   "version": "3.9.16"
  }
 },
 "nbformat": 4,
 "nbformat_minor": 5
}
