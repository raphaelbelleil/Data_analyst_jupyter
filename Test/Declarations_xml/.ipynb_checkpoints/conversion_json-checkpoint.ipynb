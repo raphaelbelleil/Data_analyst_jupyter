{
 "cells": [
  {
   "cell_type": "code",
   "execution_count": 1,
   "id": "9e4ec931",
   "metadata": {},
   "outputs": [],
   "source": [
    "# Import des librairies\n",
    "import numpy as np\n",
    "import pandas as pd\n",
    "import matplotlib.pyplot as plt\n",
    "import seaborn as sns\n",
    "import xml.etree.ElementTree as ET\n",
    "import json\n",
    "import xml"
   ]
  },
  {
   "cell_type": "code",
   "execution_count": 2,
   "id": "3df8a38a",
   "metadata": {},
   "outputs": [],
   "source": [
    "import pymongo"
   ]
  },
  {
   "cell_type": "code",
   "execution_count": 3,
   "id": "a75446e6",
   "metadata": {},
   "outputs": [],
   "source": [
    "import xmltodict"
   ]
  },
  {
   "cell_type": "code",
   "execution_count": 4,
   "id": "662a8f65",
   "metadata": {},
   "outputs": [],
   "source": [
    "folder = 'D:/Fichiers_dev/test_xml/'"
   ]
  },
  {
   "cell_type": "code",
   "execution_count": 5,
   "id": "9652d5a5",
   "metadata": {},
   "outputs": [],
   "source": [
    "tree = ET.parse(folder + 'extrait_declaration2.xml')"
   ]
  },
  {
   "cell_type": "code",
   "execution_count": 6,
   "id": "d8b5f2d7",
   "metadata": {},
   "outputs": [],
   "source": [
    "root = tree.getroot()"
   ]
  },
  {
   "cell_type": "code",
   "execution_count": 33,
   "id": "86733962",
   "metadata": {},
   "outputs": [],
   "source": [
    "declarations_json = []\n",
    "\n",
    "for declaration in root :\n",
    "    # pour chaque declaration (1er niveau du parsage), on reconvertie en xml string decodé en utf-8\n",
    "    declaration_parse = ET.tostring(declaration).decode('utf-8')\n",
    "    # on convertie en json chaque declaration\n",
    "    declaration_json = xmltodict.parse(declaration_parse)\n",
    "    # on enregistre chaque json dans une liste\n",
    "    declarations_json.append((declaration_json['declaration']))"
   ]
  },
  {
   "cell_type": "code",
   "execution_count": 26,
   "id": "59617e75",
   "metadata": {},
   "outputs": [],
   "source": [
    "def remplacer_espace_insecable(declaration):\n",
    "    for cle, valeur in declaration.items():\n",
    "\n",
    "        # si la valeur est un dictionnaire, appel récursif\n",
    "        if isinstance(valeur, dict):\n",
    "            valeur_dict = valeur\n",
    "            remplacer_espace_insecable(declaration=valeur_dict)\n",
    "\n",
    "        # si la valeur est une liste, on boucle sur la liste, puis appel récusrsif\n",
    "        if isinstance(valeur, list):\n",
    "            for dictionnaire in valeur :\n",
    "                remplacer_espace_insecable(declaration=dictionnaire)\n",
    "                \n",
    "        # si la valeur est une chaine, faire le remplacement\n",
    "        if isinstance(valeur, str):\n",
    "            declaration[cle] = valeur.replace('\\xa0', '')\n",
    "             \n",
    "        else : \n",
    "            declaration[cle] = valeur"
   ]
  },
  {
   "cell_type": "code",
   "execution_count": 30,
   "id": "6d71647e",
   "metadata": {},
   "outputs": [],
   "source": [
    "def conversion_numerique(declaration):\n",
    "    for cle, valeur in declaration.items():\n",
    "\n",
    "        # si la valeur est un dictionnaire, appel récursif\n",
    "        if isinstance(valeur, dict):\n",
    "            valeur_dict = valeur\n",
    "            conversion_numerique(declaration=valeur_dict)\n",
    "\n",
    "        # si la valeur est une liste, on boucle sur la liste, puis appel récusrsif\n",
    "        if isinstance(valeur, list):\n",
    "            for dictionnaire in valeur :\n",
    "                conversion_numerique(declaration=dictionnaire)\n",
    "        \n",
    "        # conversion en numerique\n",
    "        if isinstance(valeur, str) and (cle=='annee' or cle=='montant'): \n",
    "            declaration[cle] = int(valeur)\n",
    "             \n",
    "        else : \n",
    "            declaration[cle] = valeur"
   ]
  },
  {
   "cell_type": "code",
   "execution_count": 34,
   "id": "b7517c43",
   "metadata": {},
   "outputs": [],
   "source": [
    "# on applique les fonctions de transformation à toutes les déclarations\n",
    "\n",
    "for declaration in declarations_json:\n",
    "    remplacer_espace_insecable(declaration)\n",
    "    conversion_numerique(declaration)"
   ]
  },
  {
   "cell_type": "markdown",
   "id": "23c98e20",
   "metadata": {},
   "source": [
    "### Connection à MongoDB"
   ]
  },
  {
   "cell_type": "code",
   "execution_count": 37,
   "id": "266b2a3a",
   "metadata": {},
   "outputs": [],
   "source": [
    "client = pymongo.MongoClient('mongodb://localhost:27017')"
   ]
  },
  {
   "cell_type": "code",
   "execution_count": 38,
   "id": "1ea3f74d",
   "metadata": {},
   "outputs": [],
   "source": [
    "db = client['declarations']\n",
    "\n",
    "collection = db['declaration_extrait']"
   ]
  },
  {
   "cell_type": "markdown",
   "id": "afe09159",
   "metadata": {},
   "source": [
    "### Conversion en json et transfert dans MongoDB"
   ]
  },
  {
   "cell_type": "code",
   "execution_count": 45,
   "id": "b56804ff",
   "metadata": {},
   "outputs": [],
   "source": [
    "for declaration in declarations_json:\n",
    "    collection.insert_one(declaration)"
   ]
  },
  {
   "cell_type": "code",
   "execution_count": null,
   "id": "202ba0f3",
   "metadata": {},
   "outputs": [],
   "source": []
  }
 ],
 "metadata": {
  "kernelspec": {
   "display_name": "Python 3 (ipykernel)",
   "language": "python",
   "name": "python3"
  },
  "language_info": {
   "codemirror_mode": {
    "name": "ipython",
    "version": 3
   },
   "file_extension": ".py",
   "mimetype": "text/x-python",
   "name": "python",
   "nbconvert_exporter": "python",
   "pygments_lexer": "ipython3",
   "version": "3.9.16"
  }
 },
 "nbformat": 4,
 "nbformat_minor": 5
}
