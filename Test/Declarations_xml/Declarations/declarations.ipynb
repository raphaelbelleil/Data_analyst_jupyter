{
 "cells": [
  {
   "cell_type": "code",
   "execution_count": 11,
   "metadata": {},
   "outputs": [],
   "source": [
    "# Import des librairies\n",
    "import numpy as np\n",
    "import pandas as pd\n",
    "import matplotlib.pyplot as plt\n",
    "import seaborn as sns\n",
    "\n",
    "import re\n",
    "import time\n",
    "from sklearn.preprocessing import LabelEncoder\n",
    "\n",
    "from tqdm import tqdm\n",
    "\n",
    "import fonctions\n",
    "from fonctions import scan_xml, modif_chemins_declaration\n",
    "\n",
    "# options\n",
    "pd.set_option('display.max_row', 200)\n",
    "pd.set_option('display.max_columns', 50)\n",
    "\n",
    "# dossier\n",
    "folder = 'D:/Fichiers_dev/test_xml/tables/'\n",
    "folder2 = 'D:/Fichiers_dev/test_xml/'\n",
    "\n",
    "data3 = pd.read_csv(folder + 'data_nettoyees.csv')"
   ]
  },
  {
   "cell_type": "code",
   "execution_count": 12,
   "metadata": {},
   "outputs": [
    {
     "data": {
      "text/html": [
       "<div>\n",
       "<style scoped>\n",
       "    .dataframe tbody tr th:only-of-type {\n",
       "        vertical-align: middle;\n",
       "    }\n",
       "\n",
       "    .dataframe tbody tr th {\n",
       "        vertical-align: top;\n",
       "    }\n",
       "\n",
       "    .dataframe thead th {\n",
       "        text-align: right;\n",
       "    }\n",
       "</style>\n",
       "<table border=\"1\" class=\"dataframe\">\n",
       "  <thead>\n",
       "    <tr style=\"text-align: right;\">\n",
       "      <th></th>\n",
       "      <th>id_declaration</th>\n",
       "      <th>chemins</th>\n",
       "      <th>champs</th>\n",
       "      <th>valeurs</th>\n",
       "    </tr>\n",
       "  </thead>\n",
       "  <tbody>\n",
       "    <tr>\n",
       "      <th>0</th>\n",
       "      <td>4344aaa1-874d-4e6d-9b1a-45f7725b710c</td>\n",
       "      <td>dateDepot</td>\n",
       "      <td>dateDepot</td>\n",
       "      <td>11/07/2022 15:40:13</td>\n",
       "    </tr>\n",
       "    <tr>\n",
       "      <th>1</th>\n",
       "      <td>4344aaa1-874d-4e6d-9b1a-45f7725b710c</td>\n",
       "      <td>uuid</td>\n",
       "      <td>uuid</td>\n",
       "      <td>4344aaa1-874d-4e6d-9b1a-45f7725b710c</td>\n",
       "    </tr>\n",
       "    <tr>\n",
       "      <th>2</th>\n",
       "      <td>4344aaa1-874d-4e6d-9b1a-45f7725b710c</td>\n",
       "      <td>origine</td>\n",
       "      <td>origine</td>\n",
       "      <td>ADEL</td>\n",
       "    </tr>\n",
       "    <tr>\n",
       "      <th>3</th>\n",
       "      <td>4344aaa1-874d-4e6d-9b1a-45f7725b710c</td>\n",
       "      <td>complete</td>\n",
       "      <td>complete</td>\n",
       "      <td>true</td>\n",
       "    </tr>\n",
       "    <tr>\n",
       "      <th>4</th>\n",
       "      <td>4344aaa1-874d-4e6d-9b1a-45f7725b710c</td>\n",
       "      <td>attachedFiles/attachedFiles/fileName</td>\n",
       "      <td>fileName</td>\n",
       "      <td>VUE_PDF_DU_RECEPISSE_DU_DEPOT_XML</td>\n",
       "    </tr>\n",
       "  </tbody>\n",
       "</table>\n",
       "</div>"
      ],
      "text/plain": [
       "                         id_declaration                               chemins  \\\n",
       "0  4344aaa1-874d-4e6d-9b1a-45f7725b710c                             dateDepot   \n",
       "1  4344aaa1-874d-4e6d-9b1a-45f7725b710c                                  uuid   \n",
       "2  4344aaa1-874d-4e6d-9b1a-45f7725b710c                               origine   \n",
       "3  4344aaa1-874d-4e6d-9b1a-45f7725b710c                              complete   \n",
       "4  4344aaa1-874d-4e6d-9b1a-45f7725b710c  attachedFiles/attachedFiles/fileName   \n",
       "\n",
       "      champs                               valeurs  \n",
       "0  dateDepot                   11/07/2022 15:40:13  \n",
       "1       uuid  4344aaa1-874d-4e6d-9b1a-45f7725b710c  \n",
       "2    origine                                  ADEL  \n",
       "3   complete                                  true  \n",
       "4   fileName     VUE_PDF_DU_RECEPISSE_DU_DEPOT_XML  "
      ]
     },
     "execution_count": 12,
     "metadata": {},
     "output_type": "execute_result"
    }
   ],
   "source": [
    "data3.head()"
   ]
  },
  {
   "cell_type": "code",
   "execution_count": 13,
   "metadata": {},
   "outputs": [
    {
     "data": {
      "text/plain": [
       "array(['complete', 'dateDepot', 'declarationVersion',\n",
       "       'evenementMajeurDto/neant', 'general/chiffreAffaire',\n",
       "       'general/dateDebutMandat', 'general/declarationModificative',\n",
       "       'general/mandat/label', 'general/nomSociete',\n",
       "       'general/nomSocieteMere', 'general/organe/codeListeOrgane',\n",
       "       'general/organe/codeOrgane', 'general/organe/labelDeclaration',\n",
       "       'general/organe/labelOrgane', 'general/organe/nomListeOrgane',\n",
       "       'general/organe/organeParent', 'general/qualiteDeclarant',\n",
       "       'general/qualiteDeclarantForPDF',\n",
       "       'general/qualiteMandat/codCategorieMandat',\n",
       "       'general/qualiteMandat/codeListeOrgane',\n",
       "       'general/qualiteMandat/codTypeMandatFichier',\n",
       "       'general/qualiteMandat/labelOrgane',\n",
       "       'general/qualiteMandat/labelTypeMandat',\n",
       "       'general/qualiteMandat/nomCategorieMandat',\n",
       "       'general/qualiteMandat/typeMandat', 'general/regimeMatrimonial',\n",
       "       'general/regimeMatrimonialComments', 'general/typeDeclaration/id',\n",
       "       'general/typeDeclaration/label', 'origine',\n",
       "       'revenuMandatDto/neant', 'uuid', 'general/declarant/dateNaissance',\n",
       "       'general/declarant/nom', 'general/declarant/prenom',\n",
       "       'activCollaborateursDto/neant', 'activConsultantDto/neant',\n",
       "       'activProfCinqDerniereDto/neant', 'activProfConjointDto/neant',\n",
       "       'assuranceVieDto/neant', 'autreBienDto/neant',\n",
       "       'bienDiverDto/neant', 'bienEtrangerDto/neant',\n",
       "       'comptesBancaireDto/neant', 'fonctionBenevoleDto/neant',\n",
       "       'fondDto/neant', 'immeubleDto/neant', 'mandatElectifDto/neant',\n",
       "       'observationInteretDto/neant', 'observationPatrimoineDto/neant',\n",
       "       'participationDirigeantDto/neant',\n",
       "       'participationFinanciereDto/neant', 'passifDto/neant',\n",
       "       'sciDto/neant', 'valeursEnBourseDto/neant',\n",
       "       'valeursNonEnBourseDto/neant', 'vehiculeDto/neant'], dtype=object)"
      ]
     },
     "execution_count": 13,
     "metadata": {},
     "output_type": "execute_result"
    }
   ],
   "source": [
    "# champs de la table en cours\n",
    "champs_declaration = pd.read_excel(folder2 + 'chemins_uniques_2.xlsx', sheet_name='declarations')\n",
    "champs_declaration = champs_declaration['champs'].str.replace('declaration/',\"\").values\n",
    "champs_declaration"
   ]
  },
  {
   "cell_type": "code",
   "execution_count": 14,
   "metadata": {},
   "outputs": [],
   "source": [
    "declarations = data3.copy()\n",
    "\n",
    "# mask de la table déclaration, mapping entre les champs de la table et le chemin xml\n",
    "mask_declaration = declarations['chemins'].isin(champs_declaration)\n",
    "\n",
    "declarations = declarations[mask_declaration][['id_declaration', 'chemins', 'valeurs']]"
   ]
  },
  {
   "cell_type": "code",
   "execution_count": 15,
   "metadata": {},
   "outputs": [],
   "source": [
    "# modification du chemin avec la fonction modif_chemins_declaration\n",
    "declarations['chemins'] = declarations['chemins'].apply(modif_chemins_declaration)"
   ]
  },
  {
   "cell_type": "code",
   "execution_count": 16,
   "metadata": {},
   "outputs": [],
   "source": [
    "# suppression des doublons\n",
    "declarations = declarations.drop(declarations[declarations.duplicated(subset=['id_declaration', 'chemins'],\n",
    "                                                                      keep='last')].index)"
   ]
  },
  {
   "cell_type": "code",
   "execution_count": 17,
   "metadata": {},
   "outputs": [],
   "source": [
    "# pivot des champs\n",
    "declarations = declarations.pivot(index='id_declaration', columns='chemins', values='valeurs').reset_index()"
   ]
  },
  {
   "cell_type": "code",
   "execution_count": null,
   "metadata": {},
   "outputs": [],
   "source": [
    "# creation de la clé étrangère id_individu\n",
    "declarations['id_individu'] = (declarations['declarant_nom']+declarations['declarant_prenom']+\n",
    "                               declarations['declarant_date_naissance'])\n",
    "\n",
    "\n",
    "# suppression des colonnes liées à la personne\n",
    "declarations = declarations.drop(columns=['declarant_nom', 'declarant_prenom', 'declarant_date_naissance'])\n",
    "\n",
    "\n",
    "# encodage id_declaration pour avoir un id en auto increment\n",
    "encoder_id_declaration = LabelEncoder()\n",
    "declarations['id_declaration'] = encoder_id_declaration.fit_transform(declarations['id_declaration'])\n",
    "\n",
    "\n",
    "# encodage id_individus\n",
    "declarations['id_individu'] = encoder_id_individu.transform(declarations['id_individu'])\n",
    "\n",
    "# export en csv\n",
    "declarations.to_csv(folder + 'declarations.csv', index=False)"
   ]
  }
 ],
 "metadata": {
  "kernelspec": {
   "display_name": "base",
   "language": "python",
   "name": "python3"
  },
  "language_info": {
   "codemirror_mode": {
    "name": "ipython",
    "version": 3
   },
   "file_extension": ".py",
   "mimetype": "text/x-python",
   "name": "python",
   "nbconvert_exporter": "python",
   "pygments_lexer": "ipython3",
   "version": "3.9.16"
  }
 },
 "nbformat": 4,
 "nbformat_minor": 2
}
