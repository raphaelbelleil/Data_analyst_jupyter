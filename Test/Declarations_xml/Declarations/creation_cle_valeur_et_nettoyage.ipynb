{
 "cells": [
  {
   "cell_type": "markdown",
   "metadata": {},
   "source": [
    "### Création du Tableau clé valeur"
   ]
  },
  {
   "cell_type": "code",
   "execution_count": 31,
   "metadata": {},
   "outputs": [],
   "source": [
    "# Import des librairies\n",
    "import numpy as np\n",
    "import pandas as pd\n",
    "import matplotlib.pyplot as plt\n",
    "import seaborn as sns\n",
    "\n",
    "import re\n",
    "import time\n",
    "\n",
    "import psycopg2\n",
    "\n",
    "from sqlalchemy import create_engine, inspect\n",
    "from sqlalchemy import DATE, DATETIME, FLOAT, VARCHAR, INTEGER, DateTime\n",
    "\n",
    "import xml.etree.ElementTree as ET\n",
    "from inspect import getmembers, isclass, isfunction\n",
    "\n",
    "from sklearn.preprocessing import LabelEncoder"
   ]
  },
  {
   "cell_type": "code",
   "execution_count": 25,
   "metadata": {},
   "outputs": [],
   "source": [
    "from fonctions import *"
   ]
  },
  {
   "cell_type": "code",
   "execution_count": 28,
   "metadata": {},
   "outputs": [],
   "source": [
    "pd.set_option('display.max_row', 200)\n",
    "pd.set_option('display.max_columns', 50)\n",
    "\n",
    "folder = 'D:/Fichiers_dev/test_xml/'\n",
    "folder_export = 'D:/Fichiers_dev/test_xml/tables/'"
   ]
  },
  {
   "cell_type": "code",
   "execution_count": 7,
   "metadata": {},
   "outputs": [],
   "source": [
    "# xml en tant qu'objet arborescence\n",
    "# représente la structure hiérarchique complète de l'arbre XML\n",
    "tree = ET.parse(folder + 'declarations.xml')\n",
    "\n",
    "# element racine de l'arbre xml, objet Element\n",
    "# c'est à partir de cet objet qu'on manipule le xml\n",
    "root = tree.getroot()"
   ]
  },
  {
   "cell_type": "code",
   "execution_count": 8,
   "metadata": {},
   "outputs": [
    {
     "name": "stdout",
     "output_type": "stream",
     "text": [
      "L'arbre contient 10893 déclarations.\n"
     ]
    }
   ],
   "source": [
    "print(f\"L'arbre contient {len(root)} déclarations.\")"
   ]
  },
  {
   "cell_type": "code",
   "execution_count": 34,
   "metadata": {},
   "outputs": [
    {
     "name": "stdout",
     "output_type": "stream",
     "text": [
      "Le temps d'execution est de 6.245836973190308\n",
      "3010356 lignes, 5 colonnes.\n"
     ]
    }
   ],
   "source": [
    "# creation des listes de stockage\n",
    "uuids = []\n",
    "chemins = []\n",
    "champss = []\n",
    "valeurs = []\n",
    "niveaux = []\n",
    "\n",
    "start_time = time.time()\n",
    "\n",
    "scan_xml(root)\n",
    "\n",
    "dictionnaire = {\n",
    "    'id_declaration' : uuids,\n",
    "    'chemins' : chemins,\n",
    "    'champs' : champss,\n",
    "    'valeurs' : valeurs,\n",
    "    'niveaux' : niveaux\n",
    "}\n",
    "\n",
    "data = pd.DataFrame(dictionnaire)\n",
    "\n",
    "end_time = time.time()\n",
    "\n",
    "temps_execution1 = end_time - start_time\n",
    "\n",
    "print(f\"Le temps d'execution est de {temps_execution1}\")\n",
    "\n",
    "print(f\"{data.shape[0]} lignes, {data.shape[1]} colonnes.\")"
   ]
  },
  {
   "cell_type": "code",
   "execution_count": 35,
   "metadata": {},
   "outputs": [
    {
     "data": {
      "text/html": [
       "<div>\n",
       "<style scoped>\n",
       "    .dataframe tbody tr th:only-of-type {\n",
       "        vertical-align: middle;\n",
       "    }\n",
       "\n",
       "    .dataframe tbody tr th {\n",
       "        vertical-align: top;\n",
       "    }\n",
       "\n",
       "    .dataframe thead th {\n",
       "        text-align: right;\n",
       "    }\n",
       "</style>\n",
       "<table border=\"1\" class=\"dataframe\">\n",
       "  <thead>\n",
       "    <tr style=\"text-align: right;\">\n",
       "      <th></th>\n",
       "      <th>id_declaration</th>\n",
       "      <th>chemins</th>\n",
       "      <th>champs</th>\n",
       "      <th>valeurs</th>\n",
       "      <th>niveaux</th>\n",
       "    </tr>\n",
       "  </thead>\n",
       "  <tbody>\n",
       "    <tr>\n",
       "      <th>0</th>\n",
       "      <td>4344aaa1-874d-4e6d-9b1a-45f7725b710c</td>\n",
       "      <td>declaration/dateDepot</td>\n",
       "      <td>dateDepot</td>\n",
       "      <td>11/07/2022 15:40:13</td>\n",
       "      <td>1</td>\n",
       "    </tr>\n",
       "    <tr>\n",
       "      <th>1</th>\n",
       "      <td>4344aaa1-874d-4e6d-9b1a-45f7725b710c</td>\n",
       "      <td>declaration/uuid</td>\n",
       "      <td>uuid</td>\n",
       "      <td>4344aaa1-874d-4e6d-9b1a-45f7725b710c</td>\n",
       "      <td>1</td>\n",
       "    </tr>\n",
       "    <tr>\n",
       "      <th>2</th>\n",
       "      <td>4344aaa1-874d-4e6d-9b1a-45f7725b710c</td>\n",
       "      <td>declaration/origine</td>\n",
       "      <td>origine</td>\n",
       "      <td>ADEL</td>\n",
       "      <td>1</td>\n",
       "    </tr>\n",
       "    <tr>\n",
       "      <th>3</th>\n",
       "      <td>4344aaa1-874d-4e6d-9b1a-45f7725b710c</td>\n",
       "      <td>declaration/complete</td>\n",
       "      <td>complete</td>\n",
       "      <td>true</td>\n",
       "      <td>1</td>\n",
       "    </tr>\n",
       "    <tr>\n",
       "      <th>6</th>\n",
       "      <td>4344aaa1-874d-4e6d-9b1a-45f7725b710c</td>\n",
       "      <td>declaration/attachedFiles/attachedFiles/fileName</td>\n",
       "      <td>fileName</td>\n",
       "      <td>VUE_PDF_DU_RECEPISSE_DU_DEPOT_XML</td>\n",
       "      <td>3</td>\n",
       "    </tr>\n",
       "  </tbody>\n",
       "</table>\n",
       "</div>"
      ],
      "text/plain": [
       "                         id_declaration  \\\n",
       "0  4344aaa1-874d-4e6d-9b1a-45f7725b710c   \n",
       "1  4344aaa1-874d-4e6d-9b1a-45f7725b710c   \n",
       "2  4344aaa1-874d-4e6d-9b1a-45f7725b710c   \n",
       "3  4344aaa1-874d-4e6d-9b1a-45f7725b710c   \n",
       "6  4344aaa1-874d-4e6d-9b1a-45f7725b710c   \n",
       "\n",
       "                                            chemins     champs  \\\n",
       "0                             declaration/dateDepot  dateDepot   \n",
       "1                                  declaration/uuid       uuid   \n",
       "2                               declaration/origine    origine   \n",
       "3                              declaration/complete   complete   \n",
       "6  declaration/attachedFiles/attachedFiles/fileName   fileName   \n",
       "\n",
       "                                valeurs  niveaux  \n",
       "0                   11/07/2022 15:40:13        1  \n",
       "1  4344aaa1-874d-4e6d-9b1a-45f7725b710c        1  \n",
       "2                                  ADEL        1  \n",
       "3                                  true        1  \n",
       "6     VUE_PDF_DU_RECEPISSE_DU_DEPOT_XML        3  "
      ]
     },
     "execution_count": 35,
     "metadata": {},
     "output_type": "execute_result"
    }
   ],
   "source": [
    "# nettoyage des valeurs tabulation \"\\t\"\n",
    "data = data.drop(data[data['valeurs'].str.contains('\\t')].index)\n",
    "data.head()"
   ]
  },
  {
   "cell_type": "code",
   "execution_count": 36,
   "metadata": {},
   "outputs": [
    {
     "data": {
      "text/plain": [
       "(1944263, 5)"
      ]
     },
     "execution_count": 36,
     "metadata": {},
     "output_type": "execute_result"
    }
   ],
   "source": [
    "data.shape"
   ]
  },
  {
   "cell_type": "code",
   "execution_count": 37,
   "metadata": {},
   "outputs": [],
   "source": [
    "# pour toutes les valeurs qui contiennent '\\n', efface les '\\n' puis supprime les espaces au début et à la fin de la chaine\n",
    "data.loc[data['valeurs'].str.contains('\\n'), 'valeurs'] = data.loc[data['valeurs'].str.contains('\\n'),\n",
    "                                                                   'valeurs'].str.replace('\\n', '').str.strip()"
   ]
  },
  {
   "cell_type": "code",
   "execution_count": 38,
   "metadata": {},
   "outputs": [],
   "source": [
    "# suppression des champs en base 64, chemins ou il y a 'b64'\n",
    "data = data.drop(data[data['chemins'].str.contains('b64')].index)\n",
    "data = data.drop(data[data['chemins'].str.contains('base64')].index)"
   ]
  },
  {
   "cell_type": "code",
   "execution_count": 39,
   "metadata": {},
   "outputs": [
    {
     "data": {
      "text/plain": [
       "(1944208, 5)"
      ]
     },
     "execution_count": 39,
     "metadata": {},
     "output_type": "execute_result"
    }
   ],
   "source": [
    "data.shape"
   ]
  },
  {
   "cell_type": "code",
   "execution_count": 40,
   "metadata": {},
   "outputs": [],
   "source": [
    "# modification chemin\n",
    "data['chemins'] = data['chemins'].str.replace('declaration/', '')"
   ]
  },
  {
   "cell_type": "code",
   "execution_count": 45,
   "metadata": {},
   "outputs": [],
   "source": [
    "# suppression niveau et reset index\n",
    "data = data.drop(columns='niveaux').reset_index(drop=True)"
   ]
  },
  {
   "cell_type": "code",
   "execution_count": 46,
   "metadata": {},
   "outputs": [],
   "source": [
    "# export\n",
    "data.to_csv(folder_export + 'data_nettoyees.csv', index=False)"
   ]
  },
  {
   "cell_type": "code",
   "execution_count": null,
   "metadata": {},
   "outputs": [],
   "source": []
  }
 ],
 "metadata": {
  "kernelspec": {
   "display_name": "base",
   "language": "python",
   "name": "python3"
  },
  "language_info": {
   "codemirror_mode": {
    "name": "ipython",
    "version": 3
   },
   "file_extension": ".py",
   "mimetype": "text/x-python",
   "name": "python",
   "nbconvert_exporter": "python",
   "pygments_lexer": "ipython3",
   "version": "3.9.16"
  }
 },
 "nbformat": 4,
 "nbformat_minor": 2
}
