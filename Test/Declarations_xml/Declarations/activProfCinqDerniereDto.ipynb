{
 "cells": [
  {
   "cell_type": "code",
   "execution_count": 67,
   "metadata": {},
   "outputs": [],
   "source": [
    "# Import des librairies\n",
    "import numpy as np\n",
    "import pandas as pd\n",
    "import matplotlib.pyplot as plt\n",
    "import seaborn as sns\n",
    "\n",
    "import re\n",
    "import time\n",
    "from sklearn.preprocessing import LabelEncoder\n",
    "\n",
    "from tqdm import tqdm\n",
    "\n",
    "\n",
    "from fonctions import scan_xml, modif_chemins_declaration, id_table, creation_table_avec_ressources\n",
    "from fonctions import *\n",
    "\n",
    "# options\n",
    "pd.set_option('display.max_row', 200)\n",
    "pd.set_option('display.max_columns', 50)\n",
    "\n",
    "# dossier\n",
    "folder = 'D:/Fichiers_dev/test_xml/tables/'\n",
    "folder2 = 'D:/Fichiers_dev/test_xml/'\n",
    "\n",
    "data3 = pd.read_csv(folder + 'data_nettoyees.csv')"
   ]
  },
  {
   "cell_type": "code",
   "execution_count": 79,
   "metadata": {},
   "outputs": [],
   "source": [
    "id_declarations = pd.read_csv(folder + 'data_nettoyees.csv')['id_declaration'].unique()\n",
    "\n",
    "encoder_id_declaration = LabelEncoder()\n",
    "\n",
    "encoder_id_declaration.fit(id_declarations)\n",
    "\n",
    "encoder = encoder_id_declaration"
   ]
  },
  {
   "cell_type": "code",
   "execution_count": 82,
   "metadata": {},
   "outputs": [
    {
     "name": "stdout",
     "output_type": "stream",
     "text": [
      "['activConsultantDto/items/items/motif/id'\n",
      " 'activConsultantDto/items/items/nomEmployeur'\n",
      " 'activConsultantDto/items/items/description'\n",
      " 'activConsultantDto/items/items/dateDebut'\n",
      " 'activConsultantDto/items/items/dateFin'\n",
      " 'activConsultantDto/items/items/remuneration/brutNet'\n",
      " 'activConsultantDto/items/items/commentaire'\n",
      " 'activConsultantDto/items/items/conservee'\n",
      " 'activConsultantDto/items/items/motif/label']\n",
      "Table activConsultantDto créée\n",
      "Index(['id_declaration', 'champs', 'valeurs'], dtype='object')\n"
     ]
    }
   ],
   "source": [
    "activConsultantDto = creation_table_avec_ressources(chemins='activConsultantDto/items/', champs_levier='id', encoder_id_declaration=encoder)\n",
    "activConsultantDto.head()"
   ]
  }
 ],
 "metadata": {
  "kernelspec": {
   "display_name": "base",
   "language": "python",
   "name": "python3"
  },
  "language_info": {
   "codemirror_mode": {
    "name": "ipython",
    "version": 3
   },
   "file_extension": ".py",
   "mimetype": "text/x-python",
   "name": "python",
   "nbconvert_exporter": "python",
   "pygments_lexer": "ipython3",
   "version": "3.9.16"
  }
 },
 "nbformat": 4,
 "nbformat_minor": 2
}
