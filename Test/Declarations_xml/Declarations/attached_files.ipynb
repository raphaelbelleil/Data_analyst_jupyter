{
 "cells": [
  {
   "cell_type": "code",
   "execution_count": 1,
   "metadata": {},
   "outputs": [],
   "source": [
    "# Import des librairies\n",
    "import numpy as np\n",
    "import pandas as pd\n",
    "import matplotlib.pyplot as plt\n",
    "import seaborn as sns\n",
    "\n",
    "import re\n",
    "import time\n",
    "from sklearn.preprocessing import LabelEncoder\n",
    "\n",
    "from tqdm import tqdm\n",
    "\n",
    "import fonctions\n",
    "from fonctions import scan_xml, modif_chemins_declaration\n",
    "\n",
    "# options\n",
    "pd.set_option('display.max_row', 200)\n",
    "pd.set_option('display.max_columns', 50)\n",
    "\n",
    "# dossier\n",
    "folder = 'D:/Fichiers_dev/test_xml/tables/'\n",
    "folder2 = 'D:/Fichiers_dev/test_xml/'\n",
    "\n",
    "data3 = pd.read_csv(folder + 'data_nettoyees.csv')"
   ]
  },
  {
   "cell_type": "code",
   "execution_count": null,
   "metadata": {},
   "outputs": [],
   "source": [
    "# chemins des champs de la table\n",
    "attached_files = data3[data3['chemins'].str.contains('attachedFiles')][['id_declaration',\n",
    "                                                                        'champs', 'valeurs']].reset_index(drop=True)\n",
    "\n",
    "# creation de l'id de la table\n",
    "attached_files = attached_files.reset_index()\n",
    "\n",
    "# renommage de l'id pour la table\n",
    "attached_files = attached_files.rename(columns={'index':'id_file'})\n",
    "\n",
    "# encodage id_declaration\n",
    "attached_files['id_declaration'] = encoder_id_declaration.transform(attached_files['id_declaration'])\n",
    "\n",
    "# pivot des champs de la table\n",
    "attached_files = attached_files.pivot(index=['id_file', 'id_declaration'], columns='champs',\n",
    "                                      values='valeurs').reset_index()\n",
    "\n",
    "# export en csv\n",
    "attached_files.to_csv(folder + 'attached_files.csv', index=False)"
   ]
  }
 ],
 "metadata": {
  "kernelspec": {
   "display_name": "base",
   "language": "python",
   "name": "python3"
  },
  "language_info": {
   "codemirror_mode": {
    "name": "ipython",
    "version": 3
   },
   "file_extension": ".py",
   "mimetype": "text/x-python",
   "name": "python",
   "nbconvert_exporter": "python",
   "pygments_lexer": "ipython3",
   "version": "3.9.16"
  }
 },
 "nbformat": 4,
 "nbformat_minor": 2
}
