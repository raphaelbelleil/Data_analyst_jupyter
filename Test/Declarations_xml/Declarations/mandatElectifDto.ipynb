{
 "cells": [
  {
   "cell_type": "code",
   "execution_count": 1,
   "metadata": {},
   "outputs": [],
   "source": [
    "# Import des librairies\n",
    "import numpy as np\n",
    "import pandas as pd\n",
    "import matplotlib.pyplot as plt\n",
    "import seaborn as sns\n",
    "\n",
    "import re\n",
    "import time\n",
    "from sklearn.preprocessing import LabelEncoder\n",
    "\n",
    "from tqdm import tqdm\n",
    "\n",
    "import fonctions\n",
    "from fonctions import scan_xml, modif_chemins_declaration, id_table\n",
    "\n",
    "# options\n",
    "pd.set_option('display.max_row', 200)\n",
    "pd.set_option('display.max_columns', 50)\n",
    "\n",
    "# dossier\n",
    "folder = 'D:/Fichiers_dev/test_xml/tables/'\n",
    "folder2 = 'D:/Fichiers_dev/test_xml/'\n",
    "\n",
    "data3 = pd.read_csv(folder + 'data_nettoyees.csv')"
   ]
  },
  {
   "cell_type": "code",
   "execution_count": null,
   "metadata": {},
   "outputs": [],
   "source": [
    "# les chemins qui vont déterminer les champs de la table mandat électif sont les chemins contenant mandat électif\n",
    "# mais pas montant, cela sera pour la table des ressources\n",
    "# concretement voici le code\n",
    "mask_champs_mandatElectifDto = (data3['chemins'].str.contains('mandatElectifDto/items/', na=False)) & ~(data3['chemins'].str.contains('montant/', na=False))\n",
    "\n",
    "champs_mandatElectifDto = data3[mask_champs_mandatElectifDto]['chemins'].unique()\n",
    "champs_mandatElectifDto\n",
    "\n",
    "# creation de la table\n",
    "mandatElectifDto = data3[data3['chemins'].isin(champs_mandatElectifDto)][['id_declaration', 'champs', 'valeurs']]\n",
    "\n",
    "# encodage id_declaration\n",
    "mandatElectifDto['id_declaration'] = encoder_id_declaration.transform(mandatElectifDto['id_declaration'])\n",
    "\n",
    "# ajout de l'id_mandat\n",
    "ids_mandat1 = []\n",
    "champs_mandat1 = []\n",
    "\n",
    "# creation de l'id_mandat, qui s'incrémente à chaque nouveau mandat, chaque nouveau id dans le tableau\n",
    "for element in mandatElectifDto['champs'].values:\n",
    "    champs_mandat1.append(element)\n",
    "    i = f'm{champs_mandat1.count(\"id\") - 1}'\n",
    "    ids_mandat1.append(i)\n",
    "\n",
    "mandatElectifDto['id_mandat'] = ids_mandat1\n",
    "\n",
    "# supression des doublons\n",
    "mandatElectifDto = mandatElectifDto.drop(mandatElectifDto[mandatElectifDto.duplicated(subset=['id_declaration','champs', 'id_mandat'],\n",
    "                                                                                                      keep='last')].index)\n",
    "\n",
    "mandatElectifDto = mandatElectifDto.pivot(index=['id_declaration', 'id_mandat'],\n",
    "                                          columns='champs', values='valeurs').reset_index()\n",
    "\n",
    "\n",
    "# export en csv\n",
    "mandatElectifDto.to_csv(folder_export + 'mandatElectifDto.csv', index=False)"
   ]
  }
 ],
 "metadata": {
  "kernelspec": {
   "display_name": "base",
   "language": "python",
   "name": "python3"
  },
  "language_info": {
   "codemirror_mode": {
    "name": "ipython",
    "version": 3
   },
   "file_extension": ".py",
   "mimetype": "text/x-python",
   "name": "python",
   "nbconvert_exporter": "python",
   "pygments_lexer": "ipython3",
   "version": "3.9.16"
  }
 },
 "nbformat": 4,
 "nbformat_minor": 2
}
