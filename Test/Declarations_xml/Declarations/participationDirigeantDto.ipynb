{
 "cells": [
  {
   "cell_type": "code",
   "execution_count": 2,
   "metadata": {},
   "outputs": [],
   "source": [
    "# Import des librairies\n",
    "import numpy as np\n",
    "import pandas as pd\n",
    "import matplotlib.pyplot as plt\n",
    "import seaborn as sns\n",
    "\n",
    "import re\n",
    "import time\n",
    "from sklearn.preprocessing import LabelEncoder\n",
    "\n",
    "from tqdm import tqdm\n",
    "\n",
    "import fonctions\n",
    "from fonctions import scan_xml, modif_chemins_declaration, id_table\n",
    "\n",
    "# options\n",
    "pd.set_option('display.max_row', 200)\n",
    "pd.set_option('display.max_columns', 50)\n",
    "\n",
    "# dossier\n",
    "folder = 'D:/Fichiers_dev/test_xml/tables/'\n",
    "folder2 = 'D:/Fichiers_dev/test_xml/'\n",
    "\n",
    "data3 = pd.read_csv(folder + 'data_nettoyees.csv')"
   ]
  },
  {
   "cell_type": "code",
   "execution_count": null,
   "metadata": {},
   "outputs": [],
   "source": [
    "# conditions de mapping entre le chemin xml et les champs de la table en cours\n",
    "mask_participationDirigeantDto = (data3['chemins'].str.contains('participationDirigeantDto/items/', na=False)) & ~(data3['chemins'].str.contains('montant/', na=False))\n",
    "\n",
    "champs_participationDirigeantDto = data3[mask_participationDirigeantDto]['chemins'].unique()\n",
    "\n",
    "\n",
    "# creation de la table\n",
    "participationDirigeantDto = data3[data3['chemins'].isin(champs_participationDirigeantDto)][['id_declaration', 'champs', 'valeurs']]\n",
    "\n",
    "\n",
    "# ajout de l'id_dirigeant\n",
    "ids_part_dir1 = []\n",
    "champs_part_dir1 = []\n",
    "\n",
    "# creation de l'id_dirigeant, qui s'incrémente à chaque nouvelle activité, chaque nouveau id dans le tableau\n",
    "for element in tqdm(participationDirigeantDto['champs'].values):\n",
    "    champs_part_dir1.append(element)\n",
    "    i = f'd{champs_part_dir1.count(\"id\") - 1}'\n",
    "    ids_part_dir1.append(i)\n",
    "\n",
    "participationDirigeantDto['id_dirigeant'] = ids_part_dir1\n",
    "\n",
    "# suppression des doublons pour le pivot\n",
    "participationDirigeantDto = participationDirigeantDto.drop(participationDirigeantDto[participationDirigeantDto.duplicated(subset=['id_declaration',\n",
    "                                                                                                                                  'champs', 'id_dirigeant'], keep='last')].index)\n",
    "\n",
    "# pivot de la table\n",
    "participationDirigeantDto = participationDirigeantDto.pivot(index=['id_declaration', 'id_dirigeant'],\n",
    "                                          columns='champs', values='valeurs').reset_index()\n",
    "\n",
    "# encodage id_declaration\n",
    "participationDirigeantDto['id_declaration'] = encoder_id_declaration.transform(participationDirigeantDto['id_declaration'])\n",
    "\n",
    "# export en csv\n",
    "participationDirigeantDto.to_csv(folder + 'participationDirigeantDto.csv', index=False)\n",
    "\n",
    "participationDirigeantDto.shape"
   ]
  }
 ],
 "metadata": {
  "kernelspec": {
   "display_name": "base",
   "language": "python",
   "name": "python3"
  },
  "language_info": {
   "codemirror_mode": {
    "name": "ipython",
    "version": 3
   },
   "file_extension": ".py",
   "mimetype": "text/x-python",
   "name": "python",
   "nbconvert_exporter": "python",
   "pygments_lexer": "ipython3",
   "version": "3.9.16"
  }
 },
 "nbformat": 4,
 "nbformat_minor": 2
}
