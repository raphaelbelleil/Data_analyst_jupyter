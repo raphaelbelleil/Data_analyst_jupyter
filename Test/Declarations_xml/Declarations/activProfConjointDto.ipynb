{
 "cells": [
  {
   "cell_type": "code",
   "execution_count": 2,
   "metadata": {},
   "outputs": [],
   "source": [
    "# Import des librairies\n",
    "import numpy as np\n",
    "import pandas as pd\n",
    "import matplotlib.pyplot as plt\n",
    "import seaborn as sns\n",
    "\n",
    "import re\n",
    "import time\n",
    "from sklearn.preprocessing import LabelEncoder\n",
    "\n",
    "from tqdm import tqdm\n",
    "\n",
    "import fonctions\n",
    "from fonctions import scan_xml, modif_chemins_declaration, id_table\n",
    "\n",
    "# options\n",
    "pd.set_option('display.max_row', 200)\n",
    "pd.set_option('display.max_columns', 50)\n",
    "\n",
    "# dossier\n",
    "folder = 'D:/Fichiers_dev/test_xml/tables/'\n",
    "folder2 = 'D:/Fichiers_dev/test_xml/'\n",
    "\n",
    "data3 = pd.read_csv(folder + 'data_nettoyees.csv')"
   ]
  },
  {
   "cell_type": "code",
   "execution_count": null,
   "metadata": {},
   "outputs": [],
   "source": [
    "# conditions de mapping entre le chemin xml et les champs de la table en cours\n",
    "mask_activProfConjointDto = (data3['chemins'].str.contains('activProfConjointDto/items/', na=False))\n",
    "\n",
    "champs_activProfConjointDto = data3[mask_activProfConjointDto]['chemins'].unique()\n",
    "\n",
    "# table activProfConjointDto\n",
    "activProfConjointDto = data3[data3['chemins'].isin(champs_activProfConjointDto)][['id_declaration', 'champs', 'valeurs']]\n",
    "\n",
    "# creation de l'id\n",
    "activProfConjointDto = id_table(nom_table=activProfConjointDto, champs_levier='id')\n",
    "activProfConjointDto.head(100)\n",
    "\n",
    "# creation de l'index pour le pivot\n",
    "activProfConjointDto = activProfConjointDto.reset_index(drop=True).rename(columns={'id_table':'id_activProfConjointDto'})\n",
    "\n",
    "# encodage id_declaration\n",
    "activProfConjointDto['id_declaration'] = encoder_id_declaration.transform(activProfConjointDto['id_declaration'])\n",
    "activProfConjointDto.head()\n",
    "\n",
    "# supression des doublons\n",
    "activProfConjointDto = activProfConjointDto.drop(activProfConjointDto[activProfConjointDto.duplicated(subset=['id_declaration','champs', 'id_activProfConjointDto'],\n",
    "                                                                                                      keep='last')].index)\n",
    "\n",
    "activProfConjointDto = activProfConjointDto.pivot(index=['id_declaration', 'id_activProfConjointDto'], columns='champs',\n",
    "                                                  values='valeurs').reset_index()\n",
    "\n",
    "\n",
    "activProfConjointDto['id_declaration'].unique().shape\n",
    "\n",
    "# export en csv\n",
    "activProfConjointDto.to_csv(folder + 'activProfConjointDto.csv', index=False)"
   ]
  }
 ],
 "metadata": {
  "kernelspec": {
   "display_name": "base",
   "language": "python",
   "name": "python3"
  },
  "language_info": {
   "codemirror_mode": {
    "name": "ipython",
    "version": 3
   },
   "file_extension": ".py",
   "mimetype": "text/x-python",
   "name": "python",
   "nbconvert_exporter": "python",
   "pygments_lexer": "ipython3",
   "version": "3.9.16"
  }
 },
 "nbformat": 4,
 "nbformat_minor": 2
}
