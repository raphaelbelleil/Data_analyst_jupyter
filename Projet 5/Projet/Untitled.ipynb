{
 "cells": [
  {
   "cell_type": "code",
   "execution_count": 1,
   "id": "d6b1d502",
   "metadata": {},
   "outputs": [],
   "source": [
    "import numpy as np\n",
    "import pandas as pd\n",
    "import matplotlib.pyplot as plt\n",
    "import seaborn as sns\n",
    "import scipy.stats as st"
   ]
  },
  {
   "cell_type": "code",
   "execution_count": 2,
   "id": "593044f8",
   "metadata": {},
   "outputs": [],
   "source": [
    "dico = {}"
   ]
  },
  {
   "cell_type": "code",
   "execution_count": 3,
   "id": "8e02a679",
   "metadata": {},
   "outputs": [],
   "source": [
    "def f(cle, valeur):\n",
    "    return"
   ]
  },
  {
   "cell_type": "code",
   "execution_count": 4,
   "id": "66d4121c",
   "metadata": {},
   "outputs": [],
   "source": [
    "dico['Raphael']=27"
   ]
  },
  {
   "cell_type": "code",
   "execution_count": 5,
   "id": "7239dfad",
   "metadata": {},
   "outputs": [
    {
     "data": {
      "text/plain": [
       "{'Raphael': 27}"
      ]
     },
     "execution_count": 5,
     "metadata": {},
     "output_type": "execute_result"
    }
   ],
   "source": [
    "dico"
   ]
  },
  {
   "cell_type": "code",
   "execution_count": 6,
   "id": "2a2aa2c0",
   "metadata": {},
   "outputs": [],
   "source": [
    "dico['Raphael']=27"
   ]
  },
  {
   "cell_type": "code",
   "execution_count": 9,
   "id": "631d880b",
   "metadata": {},
   "outputs": [
    {
     "data": {
      "text/plain": [
       "{'Raphael': 27, 'Jean': 34}"
      ]
     },
     "execution_count": 9,
     "metadata": {},
     "output_type": "execute_result"
    }
   ],
   "source": [
    "dico"
   ]
  },
  {
   "cell_type": "code",
   "execution_count": 8,
   "id": "c55e84a3",
   "metadata": {},
   "outputs": [],
   "source": [
    "dico['Jean']=34"
   ]
  },
  {
   "cell_type": "code",
   "execution_count": 20,
   "id": "fdb0acae",
   "metadata": {},
   "outputs": [
    {
     "name": "stdout",
     "output_type": "stream",
     "text": [
      "True\n"
     ]
    }
   ],
   "source": [
    "if ('Jean', 34) in dico.items() :\n",
    "    print(True)"
   ]
  },
  {
   "cell_type": "code",
   "execution_count": 18,
   "id": "2f35f1e9",
   "metadata": {},
   "outputs": [
    {
     "data": {
      "text/plain": [
       "dict_items([('Raphael', 27), ('Jean', 34)])"
      ]
     },
     "execution_count": 18,
     "metadata": {},
     "output_type": "execute_result"
    }
   ],
   "source": [
    "dico.items()"
   ]
  },
  {
   "cell_type": "code",
   "execution_count": 23,
   "id": "dc0e028c",
   "metadata": {},
   "outputs": [],
   "source": [
    "liste=[]"
   ]
  },
  {
   "cell_type": "code",
   "execution_count": 24,
   "id": "940b83a3",
   "metadata": {},
   "outputs": [],
   "source": [
    "liste.append(3)"
   ]
  },
  {
   "cell_type": "code",
   "execution_count": 25,
   "id": "e4afc26c",
   "metadata": {},
   "outputs": [
    {
     "data": {
      "text/plain": [
       "[3]"
      ]
     },
     "execution_count": 25,
     "metadata": {},
     "output_type": "execute_result"
    }
   ],
   "source": [
    "liste"
   ]
  }
 ],
 "metadata": {
  "kernelspec": {
   "display_name": "Python 3 (ipykernel)",
   "language": "python",
   "name": "python3"
  },
  "language_info": {
   "codemirror_mode": {
    "name": "ipython",
    "version": 3
   },
   "file_extension": ".py",
   "mimetype": "text/x-python",
   "name": "python",
   "nbconvert_exporter": "python",
   "pygments_lexer": "ipython3",
   "version": "3.9.13"
  }
 },
 "nbformat": 4,
 "nbformat_minor": 5
}
