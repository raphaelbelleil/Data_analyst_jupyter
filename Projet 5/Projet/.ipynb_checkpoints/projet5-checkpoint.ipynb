{
 "cells": [
  {
   "cell_type": "code",
   "execution_count": 7,
   "id": "8029e574-dbbc-4e7e-86af-3f9e04625c15",
   "metadata": {},
   "outputs": [
    {
     "name": "stderr",
     "output_type": "stream",
     "text": [
      "C:\\Users\\Raskolnikov\\anaconda3\\lib\\site-packages\\openpyxl\\worksheet\\_read_only.py:79: UserWarning: Unknown extension is not supported and will be removed\n",
      "  for idx, row in parser.parse():\n"
     ]
    },
    {
     "data": {
      "text/html": [
       "<div>\n",
       "<style scoped>\n",
       "    .dataframe tbody tr th:only-of-type {\n",
       "        vertical-align: middle;\n",
       "    }\n",
       "\n",
       "    .dataframe tbody tr th {\n",
       "        vertical-align: top;\n",
       "    }\n",
       "\n",
       "    .dataframe thead th {\n",
       "        text-align: right;\n",
       "    }\n",
       "</style>\n",
       "<table border=\"1\" class=\"dataframe\">\n",
       "  <thead>\n",
       "    <tr style=\"text-align: right;\">\n",
       "      <th></th>\n",
       "      <th>product_id</th>\n",
       "      <th>onsale_web</th>\n",
       "      <th>price</th>\n",
       "      <th>stock_quantity</th>\n",
       "      <th>stock_status</th>\n",
       "    </tr>\n",
       "  </thead>\n",
       "  <tbody>\n",
       "    <tr>\n",
       "      <th>0</th>\n",
       "      <td>3847</td>\n",
       "      <td>1</td>\n",
       "      <td>24.2</td>\n",
       "      <td>0</td>\n",
       "      <td>outofstock</td>\n",
       "    </tr>\n",
       "    <tr>\n",
       "      <th>1</th>\n",
       "      <td>3849</td>\n",
       "      <td>1</td>\n",
       "      <td>34.3</td>\n",
       "      <td>0</td>\n",
       "      <td>outofstock</td>\n",
       "    </tr>\n",
       "    <tr>\n",
       "      <th>2</th>\n",
       "      <td>3850</td>\n",
       "      <td>1</td>\n",
       "      <td>20.8</td>\n",
       "      <td>0</td>\n",
       "      <td>outofstock</td>\n",
       "    </tr>\n",
       "    <tr>\n",
       "      <th>3</th>\n",
       "      <td>4032</td>\n",
       "      <td>1</td>\n",
       "      <td>14.1</td>\n",
       "      <td>0</td>\n",
       "      <td>outofstock</td>\n",
       "    </tr>\n",
       "    <tr>\n",
       "      <th>4</th>\n",
       "      <td>4039</td>\n",
       "      <td>1</td>\n",
       "      <td>46.0</td>\n",
       "      <td>0</td>\n",
       "      <td>outofstock</td>\n",
       "    </tr>\n",
       "  </tbody>\n",
       "</table>\n",
       "</div>"
      ],
      "text/plain": [
       "   product_id  onsale_web  price  stock_quantity stock_status\n",
       "0        3847           1   24.2               0   outofstock\n",
       "1        3849           1   34.3               0   outofstock\n",
       "2        3850           1   20.8               0   outofstock\n",
       "3        4032           1   14.1               0   outofstock\n",
       "4        4039           1   46.0               0   outofstock"
      ]
     },
     "execution_count": 7,
     "metadata": {},
     "output_type": "execute_result"
    }
   ],
   "source": [
    "import pandas as pd\n",
    "import numpy as np\n",
    "erp = pd.read_excel('C:/Users/Raskolnikov/Downloads/erp.xlsx')\n",
    "erp.head()"
   ]
  },
  {
   "cell_type": "code",
   "execution_count": 6,
   "id": "2af735dd-38fe-4edd-8ccb-9f6110e00451",
   "metadata": {},
   "outputs": [
    {
     "name": "stdout",
     "output_type": "stream",
     "text": [
      "<class 'pandas.core.frame.DataFrame'>\n",
      "RangeIndex: 825 entries, 0 to 824\n",
      "Data columns (total 5 columns):\n",
      " #   Column          Non-Null Count  Dtype  \n",
      "---  ------          --------------  -----  \n",
      " 0   product_id      825 non-null    int64  \n",
      " 1   onsale_web      825 non-null    int64  \n",
      " 2   price           825 non-null    float64\n",
      " 3   stock_quantity  825 non-null    int64  \n",
      " 4   stock_status    825 non-null    object \n",
      "dtypes: float64(1), int64(3), object(1)\n",
      "memory usage: 32.4+ KB\n"
     ]
    }
   ],
   "source": [
    "erp.info()"
   ]
  },
  {
   "cell_type": "code",
   "execution_count": 109,
   "id": "21e48659-dbf6-435e-a317-bc199da094e5",
   "metadata": {},
   "outputs": [
    {
     "data": {
      "image/png": "[encoded data removed]",
      "text/plain": [
       "<Figure size 800x500 with 1 Axes>"
      ]
     },
     "metadata": {},
     "output_type": "display_data"
    }
   ],
   "source": [
    "ax = erp.price.plot(kind='hist', figsize=(8, 5), title='prices')"
   ]
  },
  {
   "cell_type": "code",
   "execution_count": 223,
   "id": "4fac7f6c-bfdd-44a5-b70a-6cfe82472f49",
   "metadata": {},
   "outputs": [
    {
     "data": {
      "image/png": "[encoded data removed]",
      "text/plain": [
       "<Figure size 640x480 with 1 Axes>"
      ]
     },
     "metadata": {},
     "output_type": "display_data"
    }
   ],
   "source": [
    "ax = erp.price.plot(kind='box')"
   ]
  },
  {
   "cell_type": "code",
   "execution_count": 55,
   "id": "5a172d97-808f-4593-825b-b7c604c79528",
   "metadata": {},
   "outputs": [
    {
     "data": {
      "text/plain": [
       "32.41563636363638"
      ]
     },
     "execution_count": 55,
     "metadata": {},
     "output_type": "execute_result"
    }
   ],
   "source": [
    "mean=np.mean(erp.price)\n",
    "mean"
   ]
  },
  {
   "cell_type": "code",
   "execution_count": 91,
   "id": "ed6f80f9-6cf4-4040-84a8-e4ff8524d9f3",
   "metadata": {},
   "outputs": [
    {
     "data": {
      "text/plain": [
       "35.657200000000024"
      ]
     },
     "execution_count": 91,
     "metadata": {},
     "output_type": "execute_result"
    }
   ],
   "source": [
    "mean_max=mean*1.1\n",
    "mean_max"
   ]
  },
  {
   "cell_type": "code",
   "execution_count": 92,
   "id": "b00a1b48-7a3b-4f6f-abc3-9580c9f209e1",
   "metadata": {},
   "outputs": [
    {
     "data": {
      "text/plain": [
       "29.174072727272744"
      ]
     },
     "execution_count": 92,
     "metadata": {},
     "output_type": "execute_result"
    }
   ],
   "source": [
    "mean_min=mean*0.9\n",
    "mean_min"
   ]
  },
  {
   "cell_type": "code",
   "execution_count": 56,
   "id": "63042463-0b84-4cfb-87d6-a40fe03bd3f5",
   "metadata": {},
   "outputs": [
    {
     "data": {
      "text/plain": [
       "24.4"
      ]
     },
     "execution_count": 56,
     "metadata": {},
     "output_type": "execute_result"
    }
   ],
   "source": [
    "median=np.median(erp.price)\n",
    "median"
   ]
  },
  {
   "cell_type": "code",
   "execution_count": 57,
   "id": "b030d479-9b6d-44a0-ba08-65afa2d4ce1c",
   "metadata": {},
   "outputs": [
    {
     "data": {
      "text/plain": [
       "29.14158815612382"
      ]
     },
     "execution_count": 57,
     "metadata": {},
     "output_type": "execute_result"
    }
   ],
   "source": [
    "from scipy import stats\n",
    "trim_mean=stats.trim_mean(erp.price, 0.05)\n",
    "trim_mean"
   ]
  },
  {
   "cell_type": "code",
   "execution_count": 59,
   "id": "5770deb6-a0d7-47d2-90ec-c194ed8fa77d",
   "metadata": {},
   "outputs": [
    {
     "data": {
      "text/plain": [
       "8.594075403453784e-75"
      ]
     },
     "execution_count": 59,
     "metadata": {},
     "output_type": "execute_result"
    }
   ],
   "source": [
    "skew_pvalue=stats.skewtest(erp.price)[1]\n",
    "skew_pvalue"
   ]
  },
  {
   "cell_type": "code",
   "execution_count": 60,
   "id": "9e89de07-ea6d-4357-ad1c-460f7fa45fe3",
   "metadata": {},
   "outputs": [
    {
     "data": {
      "text/plain": [
       "8.306000464519405e-37"
      ]
     },
     "execution_count": 60,
     "metadata": {},
     "output_type": "execute_result"
    }
   ],
   "source": [
    "kurt_pvalue=stats.kurtosistest(erp.price)[1]\n",
    "kurt_pvalue"
   ]
  },
  {
   "cell_type": "code",
   "execution_count": 62,
   "id": "b151704e-f19e-4400-9e0e-29ebd0b9d0bd",
   "metadata": {},
   "outputs": [
    {
     "data": {
      "text/plain": [
       "26.779604366935427"
      ]
     },
     "execution_count": 62,
     "metadata": {},
     "output_type": "execute_result"
    }
   ],
   "source": [
    "stddev=np.std(erp.price)\n",
    "stddev"
   ]
  },
  {
   "cell_type": "code",
   "execution_count": 61,
   "id": "38781537-d3d9-484d-9475-f81382ee9bfb",
   "metadata": {},
   "outputs": [
    {
     "data": {
      "text/plain": [
       "0.8261323043769268"
      ]
     },
     "execution_count": 61,
     "metadata": {},
     "output_type": "execute_result"
    }
   ],
   "source": [
    "cv=stddev/mean\n",
    "cv"
   ]
  },
  {
   "cell_type": "code",
   "execution_count": 66,
   "id": "898d2f0a-3245-4b97-a72c-8c1c57ac5377",
   "metadata": {},
   "outputs": [
    {
     "data": {
      "text/plain": [
       "27.4"
      ]
     },
     "execution_count": 66,
     "metadata": {},
     "output_type": "execute_result"
    }
   ],
   "source": [
    "iqr=stats.iqr(erp.price)\n",
    "iqr"
   ]
  },
  {
   "cell_type": "code",
   "execution_count": 68,
   "id": "911f823c-3086-4486-9a95-8fc9055ad663",
   "metadata": {},
   "outputs": [
    {
     "data": {
      "text/plain": [
       "83.1"
      ]
     },
     "execution_count": 68,
     "metadata": {},
     "output_type": "execute_result"
    }
   ],
   "source": [
    "outlier_max_iqr=erp.price.quantile(.75)+1.5*iqr\n",
    "outlier_max_iqr"
   ]
  },
  {
   "cell_type": "code",
   "execution_count": 70,
   "id": "64fcb048-a501-44b3-9177-8ad00a5595eb",
   "metadata": {},
   "outputs": [
    {
     "data": {
      "text/plain": [
       "0"
      ]
     },
     "execution_count": 70,
     "metadata": {},
     "output_type": "execute_result"
    }
   ],
   "source": [
    "outlier_min_iqr=max(erp.price.quantile(.25)-1.5*iqr,0)\n",
    "outlier_min_iqr"
   ]
  },
  {
   "cell_type": "code",
   "execution_count": 71,
   "id": "a49bb1bb-f6ac-4c5c-9d15-250285cb148f",
   "metadata": {},
   "outputs": [
    {
     "data": {
      "text/plain": [
       "112.75444946444266"
      ]
     },
     "execution_count": 71,
     "metadata": {},
     "output_type": "execute_result"
    }
   ],
   "source": [
    "outlier_max_zscore=mean+3*stddev\n",
    "outlier_max_zscore"
   ]
  },
  {
   "cell_type": "code",
   "execution_count": 73,
   "id": "27e07a4d-da17-4f98-9a24-2ed7038ccd59",
   "metadata": {},
   "outputs": [
    {
     "data": {
      "text/plain": [
       "0"
      ]
     },
     "execution_count": 73,
     "metadata": {},
     "output_type": "execute_result"
    }
   ],
   "source": [
    "outlier_min_zscore=max(mean-3*stddev,0)\n",
    "outlier_min_zscore"
   ]
  },
  {
   "cell_type": "code",
   "execution_count": 74,
   "id": "bda976de-4fb7-4c7c-a862-5b3ba2d9325d",
   "metadata": {},
   "outputs": [],
   "source": [
    "mask_iqr=(erp.price<outlier_max_iqr)&(erp.price>=outlier_min_iqr)\n",
    "mask_zscore=(erp.price<outlier_max_zscore)&(erp.price>=outlier_min_zscore)"
   ]
  },
  {
   "cell_type": "code",
   "execution_count": 112,
   "id": "ab106c9a-77db-46c4-a458-a19a60e3f050",
   "metadata": {},
   "outputs": [
    {
     "data": {
      "text/plain": [
       "37"
      ]
     },
     "execution_count": 112,
     "metadata": {},
     "output_type": "execute_result"
    }
   ],
   "source": [
    "num_outliers_iqr=erp[~mask_iqr].shape[0]\n",
    "num_outliers_iqr"
   ]
  },
  {
   "cell_type": "code",
   "execution_count": 113,
   "id": "909d66b9-2c13-4d4c-a859-b539274bf872",
   "metadata": {},
   "outputs": [
    {
     "data": {
      "text/plain": [
       "18"
      ]
     },
     "execution_count": 113,
     "metadata": {},
     "output_type": "execute_result"
    }
   ],
   "source": [
    "num_outliers_zscore=erp[~mask_zscore].shape[0]\n",
    "num_outliers_zscore"
   ]
  },
  {
   "cell_type": "code",
   "execution_count": 207,
   "id": "c980f27c-8d92-4f5d-b0e5-910f6fba060f",
   "metadata": {},
   "outputs": [],
   "source": [
    "st=[\"mean\",\"mean_max\",\"mean_min\",\"median\",\"trim_mean\",\"skew_pvalue\",\"kurt_pvalue\",\"stddev\",\n",
    "    \"cv\",\"iqr\",\"outlier_max_iqr\",\"outlier_min_iqr\",\"outlier_max_zscore\",\"outlier_min_zscore\",\"shapiro\"]\n",
    "def stat(lst):\n",
    "    st=[]\n",
    "    st.append(np.mean(lst))\n",
    "    st.append(np.mean(lst)*1.1)\n",
    "    st.append(np.mean(lst)*0.9)\n",
    "    st.append(np.median(lst))\n",
    "    st.append(stats.trim_mean(lst, 0.05))\n",
    "    st.append(stats.skewtest(lst)[1])\n",
    "    st.append(stats.kurtosistest(lst)[1])\n",
    "    st.append(np.std(lst))\n",
    "    st.append(np.std(lst)/np.mean(lst))\n",
    "    st.append(stats.iqr(lst))\n",
    "    st.append(lst.quantile(.75)+1.5*stats.iqr(lst))\n",
    "    st.append(max(lst.quantile(.25)-1.5*stats.iqr(lst),0))\n",
    "    st.append(np.mean(lst)+3*np.std(lst))\n",
    "    st.append(max(np.mean(lst)-3*np.std(lst),0))\n",
    "    st.append(stats.shapiro(lst)[1])\n",
    "\n",
    "    return st\n"
   ]
  },
  {
   "cell_type": "code",
   "execution_count": 208,
   "id": "0399a3ed-176e-43e1-96ca-c3be191eca33",
   "metadata": {},
   "outputs": [
    {
     "data": {
      "text/html": [
       "<div>\n",
       "<style scoped>\n",
       "    .dataframe tbody tr th:only-of-type {\n",
       "        vertical-align: middle;\n",
       "    }\n",
       "\n",
       "    .dataframe tbody tr th {\n",
       "        vertical-align: top;\n",
       "    }\n",
       "\n",
       "    .dataframe thead th {\n",
       "        text-align: right;\n",
       "    }\n",
       "</style>\n",
       "<table border=\"1\" class=\"dataframe\">\n",
       "  <thead>\n",
       "    <tr style=\"text-align: right;\">\n",
       "      <th></th>\n",
       "      <th>price</th>\n",
       "    </tr>\n",
       "    <tr>\n",
       "      <th>index</th>\n",
       "      <th></th>\n",
       "    </tr>\n",
       "  </thead>\n",
       "  <tbody>\n",
       "    <tr>\n",
       "      <th>mean</th>\n",
       "      <td>32.4156</td>\n",
       "    </tr>\n",
       "    <tr>\n",
       "      <th>mean_max</th>\n",
       "      <td>35.6572</td>\n",
       "    </tr>\n",
       "    <tr>\n",
       "      <th>mean_min</th>\n",
       "      <td>29.1741</td>\n",
       "    </tr>\n",
       "    <tr>\n",
       "      <th>median</th>\n",
       "      <td>24.4000</td>\n",
       "    </tr>\n",
       "    <tr>\n",
       "      <th>trim_mean</th>\n",
       "      <td>29.1416</td>\n",
       "    </tr>\n",
       "    <tr>\n",
       "      <th>skew_pvalue</th>\n",
       "      <td>0.0000</td>\n",
       "    </tr>\n",
       "    <tr>\n",
       "      <th>kurt_pvalue</th>\n",
       "      <td>0.0000</td>\n",
       "    </tr>\n",
       "    <tr>\n",
       "      <th>stddev</th>\n",
       "      <td>26.7796</td>\n",
       "    </tr>\n",
       "    <tr>\n",
       "      <th>cv</th>\n",
       "      <td>0.8261</td>\n",
       "    </tr>\n",
       "    <tr>\n",
       "      <th>iqr</th>\n",
       "      <td>27.4000</td>\n",
       "    </tr>\n",
       "    <tr>\n",
       "      <th>outlier_max_iqr</th>\n",
       "      <td>83.1000</td>\n",
       "    </tr>\n",
       "    <tr>\n",
       "      <th>outlier_min_iqr</th>\n",
       "      <td>0.0000</td>\n",
       "    </tr>\n",
       "    <tr>\n",
       "      <th>outlier_max_zscore</th>\n",
       "      <td>112.7544</td>\n",
       "    </tr>\n",
       "    <tr>\n",
       "      <th>outlier_min_zscore</th>\n",
       "      <td>0.0000</td>\n",
       "    </tr>\n",
       "    <tr>\n",
       "      <th>shapiro</th>\n",
       "      <td>0.0000</td>\n",
       "    </tr>\n",
       "  </tbody>\n",
       "</table>\n",
       "</div>"
      ],
      "text/plain": [
       "                       price\n",
       "index                       \n",
       "mean                 32.4156\n",
       "mean_max             35.6572\n",
       "mean_min             29.1741\n",
       "median               24.4000\n",
       "trim_mean            29.1416\n",
       "skew_pvalue           0.0000\n",
       "kurt_pvalue           0.0000\n",
       "stddev               26.7796\n",
       "cv                    0.8261\n",
       "iqr                  27.4000\n",
       "outlier_max_iqr      83.1000\n",
       "outlier_min_iqr       0.0000\n",
       "outlier_max_zscore  112.7544\n",
       "outlier_min_zscore    0.0000\n",
       "shapiro               0.0000"
      ]
     },
     "execution_count": 208,
     "metadata": {},
     "output_type": "execute_result"
    }
   ],
   "source": [
    "df_stat=pd.DataFrame({'index':st,'price':stat(erp.price)})\n",
    "df_stat.price=df_stat.price.apply(lambda x:float('{:.4f}'.format(x)))\n",
    "df_stat.set_index('index',inplace=True)\n",
    "df_stat"
   ]
  },
  {
   "cell_type": "code",
   "execution_count": 209,
   "id": "35867679-ad47-42dc-993b-f8a8c6f1a67f",
   "metadata": {},
   "outputs": [
    {
     "data": {
      "text/plain": [
       "37"
      ]
     },
     "execution_count": 209,
     "metadata": {},
     "output_type": "execute_result"
    }
   ],
   "source": [
    "mask_iqr=(erp.price<df_stat.loc['outlier_max_iqr','price'])&(erp.price>=df_stat.loc['outlier_min_iqr','price'])\n",
    "mask_zscore=(erp.price<df_stat.loc['outlier_max_zscore','price'])&(erp.price>=df_stat.loc['outlier_min_zscore','price'])\n",
    "num_outliers_iqr=erp[~mask_iqr].shape[0]\n",
    "num_outliers_zscore=erp[~mask_zscore].shape[0]\n",
    "num_outliers_iqr"
   ]
  },
  {
   "cell_type": "code",
   "execution_count": 210,
   "id": "1bef8880-61db-4de8-a7ae-52e15da40f85",
   "metadata": {},
   "outputs": [
    {
     "data": {
      "text/plain": [
       "18"
      ]
     },
     "execution_count": 210,
     "metadata": {},
     "output_type": "execute_result"
    }
   ],
   "source": [
    "num_outliers_zscore"
   ]
  },
  {
   "cell_type": "code",
   "execution_count": 211,
   "id": "2169ab53-863b-494a-8f31-a7325d63cf1f",
   "metadata": {},
   "outputs": [
    {
     "data": {
      "text/html": [
       "<div>\n",
       "<style scoped>\n",
       "    .dataframe tbody tr th:only-of-type {\n",
       "        vertical-align: middle;\n",
       "    }\n",
       "\n",
       "    .dataframe tbody tr th {\n",
       "        vertical-align: top;\n",
       "    }\n",
       "\n",
       "    .dataframe thead th {\n",
       "        text-align: right;\n",
       "    }\n",
       "</style>\n",
       "<table border=\"1\" class=\"dataframe\">\n",
       "  <thead>\n",
       "    <tr style=\"text-align: right;\">\n",
       "      <th></th>\n",
       "      <th>price</th>\n",
       "      <th>price_iqr</th>\n",
       "      <th>price_zscore</th>\n",
       "    </tr>\n",
       "    <tr>\n",
       "      <th>index</th>\n",
       "      <th></th>\n",
       "      <th></th>\n",
       "      <th></th>\n",
       "    </tr>\n",
       "  </thead>\n",
       "  <tbody>\n",
       "    <tr>\n",
       "      <th>mean</th>\n",
       "      <td>32.4156</td>\n",
       "      <td>28.2565</td>\n",
       "      <td>29.8753</td>\n",
       "    </tr>\n",
       "    <tr>\n",
       "      <th>mean_max</th>\n",
       "      <td>35.6572</td>\n",
       "      <td>31.0821</td>\n",
       "      <td>32.8629</td>\n",
       "    </tr>\n",
       "    <tr>\n",
       "      <th>mean_min</th>\n",
       "      <td>29.1741</td>\n",
       "      <td>25.4308</td>\n",
       "      <td>26.8878</td>\n",
       "    </tr>\n",
       "    <tr>\n",
       "      <th>median</th>\n",
       "      <td>24.4000</td>\n",
       "      <td>23.4000</td>\n",
       "      <td>24.0000</td>\n",
       "    </tr>\n",
       "    <tr>\n",
       "      <th>trim_mean</th>\n",
       "      <td>29.1416</td>\n",
       "      <td>26.9785</td>\n",
       "      <td>28.0186</td>\n",
       "    </tr>\n",
       "    <tr>\n",
       "      <th>skew_pvalue</th>\n",
       "      <td>0.0000</td>\n",
       "      <td>0.0000</td>\n",
       "      <td>0.0000</td>\n",
       "    </tr>\n",
       "    <tr>\n",
       "      <th>kurt_pvalue</th>\n",
       "      <td>0.0000</td>\n",
       "      <td>0.1227</td>\n",
       "      <td>0.0000</td>\n",
       "    </tr>\n",
       "    <tr>\n",
       "      <th>stddev</th>\n",
       "      <td>26.7796</td>\n",
       "      <td>17.5125</td>\n",
       "      <td>20.2528</td>\n",
       "    </tr>\n",
       "    <tr>\n",
       "      <th>cv</th>\n",
       "      <td>0.8261</td>\n",
       "      <td>0.6198</td>\n",
       "      <td>0.6779</td>\n",
       "    </tr>\n",
       "    <tr>\n",
       "      <th>iqr</th>\n",
       "      <td>27.4000</td>\n",
       "      <td>24.7250</td>\n",
       "      <td>25.8000</td>\n",
       "    </tr>\n",
       "    <tr>\n",
       "      <th>outlier_max_iqr</th>\n",
       "      <td>83.1000</td>\n",
       "      <td>76.0875</td>\n",
       "      <td>78.9000</td>\n",
       "    </tr>\n",
       "    <tr>\n",
       "      <th>outlier_min_iqr</th>\n",
       "      <td>0.0000</td>\n",
       "      <td>0.0000</td>\n",
       "      <td>0.0000</td>\n",
       "    </tr>\n",
       "    <tr>\n",
       "      <th>outlier_max_zscore</th>\n",
       "      <td>112.7544</td>\n",
       "      <td>80.7940</td>\n",
       "      <td>90.6338</td>\n",
       "    </tr>\n",
       "    <tr>\n",
       "      <th>outlier_min_zscore</th>\n",
       "      <td>0.0000</td>\n",
       "      <td>0.0000</td>\n",
       "      <td>0.0000</td>\n",
       "    </tr>\n",
       "    <tr>\n",
       "      <th>shapiro</th>\n",
       "      <td>0.0000</td>\n",
       "      <td>0.0000</td>\n",
       "      <td>0.0000</td>\n",
       "    </tr>\n",
       "  </tbody>\n",
       "</table>\n",
       "</div>"
      ],
      "text/plain": [
       "                       price  price_iqr  price_zscore\n",
       "index                                                \n",
       "mean                 32.4156    28.2565       29.8753\n",
       "mean_max             35.6572    31.0821       32.8629\n",
       "mean_min             29.1741    25.4308       26.8878\n",
       "median               24.4000    23.4000       24.0000\n",
       "trim_mean            29.1416    26.9785       28.0186\n",
       "skew_pvalue           0.0000     0.0000        0.0000\n",
       "kurt_pvalue           0.0000     0.1227        0.0000\n",
       "stddev               26.7796    17.5125       20.2528\n",
       "cv                    0.8261     0.6198        0.6779\n",
       "iqr                  27.4000    24.7250       25.8000\n",
       "outlier_max_iqr      83.1000    76.0875       78.9000\n",
       "outlier_min_iqr       0.0000     0.0000        0.0000\n",
       "outlier_max_zscore  112.7544    80.7940       90.6338\n",
       "outlier_min_zscore    0.0000     0.0000        0.0000\n",
       "shapiro               0.0000     0.0000        0.0000"
      ]
     },
     "execution_count": 211,
     "metadata": {},
     "output_type": "execute_result"
    }
   ],
   "source": [
    "df_stat['price_iqr']=stat(erp.price[mask_iqr])\n",
    "df_stat['price_iqr']=df_stat['price_iqr'].apply(lambda x:float('{:.4f}'.format(x)))\n",
    "df_stat['price_zscore']=stat(erp.price[mask_zscore])\n",
    "df_stat['price_zscore']=df_stat['price_zscore'].apply(lambda x:float('{:.4f}'.format(x)))\n",
    "df_stat"
   ]
  },
  {
   "cell_type": "code",
   "execution_count": 212,
   "id": "adfa9a32-5572-4ed2-84d5-8f1ee64ab9a6",
   "metadata": {},
   "outputs": [
    {
     "data": {
      "text/html": [
       "<div>\n",
       "<style scoped>\n",
       "    .dataframe tbody tr th:only-of-type {\n",
       "        vertical-align: middle;\n",
       "    }\n",
       "\n",
       "    .dataframe tbody tr th {\n",
       "        vertical-align: top;\n",
       "    }\n",
       "\n",
       "    .dataframe thead th {\n",
       "        text-align: right;\n",
       "    }\n",
       "</style>\n",
       "<table border=\"1\" class=\"dataframe\">\n",
       "  <thead>\n",
       "    <tr style=\"text-align: right;\">\n",
       "      <th></th>\n",
       "      <th>product_id</th>\n",
       "      <th>onsale_web</th>\n",
       "      <th>price</th>\n",
       "      <th>stock_quantity</th>\n",
       "      <th>stock_status</th>\n",
       "      <th>log_price</th>\n",
       "    </tr>\n",
       "  </thead>\n",
       "  <tbody>\n",
       "    <tr>\n",
       "      <th>0</th>\n",
       "      <td>3847</td>\n",
       "      <td>1</td>\n",
       "      <td>24.2</td>\n",
       "      <td>0</td>\n",
       "      <td>outofstock</td>\n",
       "      <td>3.186353</td>\n",
       "    </tr>\n",
       "    <tr>\n",
       "      <th>1</th>\n",
       "      <td>3849</td>\n",
       "      <td>1</td>\n",
       "      <td>34.3</td>\n",
       "      <td>0</td>\n",
       "      <td>outofstock</td>\n",
       "      <td>3.535145</td>\n",
       "    </tr>\n",
       "    <tr>\n",
       "      <th>2</th>\n",
       "      <td>3850</td>\n",
       "      <td>1</td>\n",
       "      <td>20.8</td>\n",
       "      <td>0</td>\n",
       "      <td>outofstock</td>\n",
       "      <td>3.034953</td>\n",
       "    </tr>\n",
       "    <tr>\n",
       "      <th>3</th>\n",
       "      <td>4032</td>\n",
       "      <td>1</td>\n",
       "      <td>14.1</td>\n",
       "      <td>0</td>\n",
       "      <td>outofstock</td>\n",
       "      <td>2.646175</td>\n",
       "    </tr>\n",
       "    <tr>\n",
       "      <th>4</th>\n",
       "      <td>4039</td>\n",
       "      <td>1</td>\n",
       "      <td>46.0</td>\n",
       "      <td>0</td>\n",
       "      <td>outofstock</td>\n",
       "      <td>3.828641</td>\n",
       "    </tr>\n",
       "  </tbody>\n",
       "</table>\n",
       "</div>"
      ],
      "text/plain": [
       "   product_id  onsale_web  price  stock_quantity stock_status  log_price\n",
       "0        3847           1   24.2               0   outofstock   3.186353\n",
       "1        3849           1   34.3               0   outofstock   3.535145\n",
       "2        3850           1   20.8               0   outofstock   3.034953\n",
       "3        4032           1   14.1               0   outofstock   2.646175\n",
       "4        4039           1   46.0               0   outofstock   3.828641"
      ]
     },
     "execution_count": 212,
     "metadata": {},
     "output_type": "execute_result"
    }
   ],
   "source": [
    "import math\n",
    "erp.log_price=erp.price.apply(math.log)\n",
    "erp.head()"
   ]
  },
  {
   "cell_type": "code",
   "execution_count": 213,
   "id": "275331f4-658a-427f-8f8d-fd77a0166308",
   "metadata": {},
   "outputs": [
    {
     "data": {
      "image/png": "[encoded data removed]",
      "text/plain": [
       "<Figure size 800x500 with 1 Axes>"
      ]
     },
     "metadata": {},
     "output_type": "display_data"
    }
   ],
   "source": [
    "ax = erp.log_price.plot(kind='hist', figsize=(8, 5), title='log_prices')"
   ]
  },
  {
   "cell_type": "code",
   "execution_count": 221,
   "id": "b1bea864-8ff1-4b8c-97cc-eab26d58fa29",
   "metadata": {},
   "outputs": [
    {
     "data": {
      "image/png": "[encoded data removed]",
      "text/plain": [
       "<Figure size 640x480 with 1 Axes>"
      ]
     },
     "metadata": {},
     "output_type": "display_data"
    }
   ],
   "source": [
    "ax = erp.log_price.plot(kind='box')"
   ]
  },
  {
   "cell_type": "code",
   "execution_count": 215,
   "id": "ba590f5b-e35d-4b64-ac67-fb7795319a21",
   "metadata": {},
   "outputs": [
    {
     "data": {
      "text/html": [
       "<div>\n",
       "<style scoped>\n",
       "    .dataframe tbody tr th:only-of-type {\n",
       "        vertical-align: middle;\n",
       "    }\n",
       "\n",
       "    .dataframe tbody tr th {\n",
       "        vertical-align: top;\n",
       "    }\n",
       "\n",
       "    .dataframe thead th {\n",
       "        text-align: right;\n",
       "    }\n",
       "</style>\n",
       "<table border=\"1\" class=\"dataframe\">\n",
       "  <thead>\n",
       "    <tr style=\"text-align: right;\">\n",
       "      <th></th>\n",
       "      <th>price</th>\n",
       "      <th>price_iqr</th>\n",
       "      <th>price_zscore</th>\n",
       "      <th>log_price</th>\n",
       "    </tr>\n",
       "    <tr>\n",
       "      <th>index</th>\n",
       "      <th></th>\n",
       "      <th></th>\n",
       "      <th></th>\n",
       "      <th></th>\n",
       "    </tr>\n",
       "  </thead>\n",
       "  <tbody>\n",
       "    <tr>\n",
       "      <th>mean</th>\n",
       "      <td>32.4156</td>\n",
       "      <td>28.2565</td>\n",
       "      <td>29.8753</td>\n",
       "      <td>3.2231</td>\n",
       "    </tr>\n",
       "    <tr>\n",
       "      <th>mean_max</th>\n",
       "      <td>35.6572</td>\n",
       "      <td>31.0821</td>\n",
       "      <td>32.8629</td>\n",
       "      <td>3.5454</td>\n",
       "    </tr>\n",
       "    <tr>\n",
       "      <th>mean_min</th>\n",
       "      <td>29.1741</td>\n",
       "      <td>25.4308</td>\n",
       "      <td>26.8878</td>\n",
       "      <td>2.9008</td>\n",
       "    </tr>\n",
       "    <tr>\n",
       "      <th>median</th>\n",
       "      <td>24.4000</td>\n",
       "      <td>23.4000</td>\n",
       "      <td>24.0000</td>\n",
       "      <td>3.1946</td>\n",
       "    </tr>\n",
       "    <tr>\n",
       "      <th>trim_mean</th>\n",
       "      <td>29.1416</td>\n",
       "      <td>26.9785</td>\n",
       "      <td>28.0186</td>\n",
       "      <td>3.2104</td>\n",
       "    </tr>\n",
       "    <tr>\n",
       "      <th>skew_pvalue</th>\n",
       "      <td>0.0000</td>\n",
       "      <td>0.0000</td>\n",
       "      <td>0.0000</td>\n",
       "      <td>0.0044</td>\n",
       "    </tr>\n",
       "    <tr>\n",
       "      <th>kurt_pvalue</th>\n",
       "      <td>0.0000</td>\n",
       "      <td>0.1227</td>\n",
       "      <td>0.0000</td>\n",
       "      <td>0.0181</td>\n",
       "    </tr>\n",
       "    <tr>\n",
       "      <th>stddev</th>\n",
       "      <td>26.7796</td>\n",
       "      <td>17.5125</td>\n",
       "      <td>20.2528</td>\n",
       "      <td>0.7005</td>\n",
       "    </tr>\n",
       "    <tr>\n",
       "      <th>cv</th>\n",
       "      <td>0.8261</td>\n",
       "      <td>0.6198</td>\n",
       "      <td>0.6779</td>\n",
       "      <td>0.2173</td>\n",
       "    </tr>\n",
       "    <tr>\n",
       "      <th>iqr</th>\n",
       "      <td>27.4000</td>\n",
       "      <td>24.7250</td>\n",
       "      <td>25.8000</td>\n",
       "      <td>1.0566</td>\n",
       "    </tr>\n",
       "    <tr>\n",
       "      <th>outlier_max_iqr</th>\n",
       "      <td>83.1000</td>\n",
       "      <td>76.0875</td>\n",
       "      <td>78.9000</td>\n",
       "      <td>5.3226</td>\n",
       "    </tr>\n",
       "    <tr>\n",
       "      <th>outlier_min_iqr</th>\n",
       "      <td>0.0000</td>\n",
       "      <td>0.0000</td>\n",
       "      <td>0.0000</td>\n",
       "      <td>1.0960</td>\n",
       "    </tr>\n",
       "    <tr>\n",
       "      <th>outlier_max_zscore</th>\n",
       "      <td>112.7544</td>\n",
       "      <td>80.7940</td>\n",
       "      <td>90.6338</td>\n",
       "      <td>5.3247</td>\n",
       "    </tr>\n",
       "    <tr>\n",
       "      <th>outlier_min_zscore</th>\n",
       "      <td>0.0000</td>\n",
       "      <td>0.0000</td>\n",
       "      <td>0.0000</td>\n",
       "      <td>1.1215</td>\n",
       "    </tr>\n",
       "    <tr>\n",
       "      <th>shapiro</th>\n",
       "      <td>0.0000</td>\n",
       "      <td>0.0000</td>\n",
       "      <td>0.0000</td>\n",
       "      <td>0.0001</td>\n",
       "    </tr>\n",
       "  </tbody>\n",
       "</table>\n",
       "</div>"
      ],
      "text/plain": [
       "                       price  price_iqr  price_zscore  log_price\n",
       "index                                                           \n",
       "mean                 32.4156    28.2565       29.8753     3.2231\n",
       "mean_max             35.6572    31.0821       32.8629     3.5454\n",
       "mean_min             29.1741    25.4308       26.8878     2.9008\n",
       "median               24.4000    23.4000       24.0000     3.1946\n",
       "trim_mean            29.1416    26.9785       28.0186     3.2104\n",
       "skew_pvalue           0.0000     0.0000        0.0000     0.0044\n",
       "kurt_pvalue           0.0000     0.1227        0.0000     0.0181\n",
       "stddev               26.7796    17.5125       20.2528     0.7005\n",
       "cv                    0.8261     0.6198        0.6779     0.2173\n",
       "iqr                  27.4000    24.7250       25.8000     1.0566\n",
       "outlier_max_iqr      83.1000    76.0875       78.9000     5.3226\n",
       "outlier_min_iqr       0.0000     0.0000        0.0000     1.0960\n",
       "outlier_max_zscore  112.7544    80.7940       90.6338     5.3247\n",
       "outlier_min_zscore    0.0000     0.0000        0.0000     1.1215\n",
       "shapiro               0.0000     0.0000        0.0000     0.0001"
      ]
     },
     "execution_count": 215,
     "metadata": {},
     "output_type": "execute_result"
    }
   ],
   "source": [
    "df_stat['log_price']=stat(erp.log_price)\n",
    "df_stat['log_price']=df_stat['log_price'].apply(lambda x:float('{:.4f}'.format(x)))\n",
    "df_stat"
   ]
  },
  {
   "cell_type": "code",
   "execution_count": 216,
   "id": "105ff915-6afc-49d0-97a4-9f7df6bd6568",
   "metadata": {},
   "outputs": [
    {
     "data": {
      "text/plain": [
       "2"
      ]
     },
     "execution_count": 216,
     "metadata": {},
     "output_type": "execute_result"
    }
   ],
   "source": [
    "mask_iqr=(erp.log_price<df_stat.loc['outlier_max_iqr','log_price'])&(erp.log_price>=df_stat.loc['outlier_min_iqr','log_price'])\n",
    "mask_zscore=(erp.log_price<df_stat.loc['outlier_max_zscore','log_price'])&(erp.log_price>=df_stat.loc['outlier_min_zscore','log_price'])\n",
    "num_outliers_iqr=erp[~mask_iqr].shape[0]\n",
    "num_outliers_zscore=erp[~mask_zscore].shape[0]\n",
    "num_outliers_iqr"
   ]
  },
  {
   "cell_type": "code",
   "execution_count": 217,
   "id": "ee96ead4-2925-4545-92fa-c0a18d9bbac7",
   "metadata": {},
   "outputs": [
    {
     "data": {
      "text/plain": [
       "2"
      ]
     },
     "execution_count": 217,
     "metadata": {},
     "output_type": "execute_result"
    }
   ],
   "source": [
    "num_outliers_zscore"
   ]
  },
  {
   "cell_type": "code",
   "execution_count": 1,
   "id": "a56d816c-313a-4322-93cc-e73808be881a",
   "metadata": {},
   "outputs": [
    {
     "ename": "NameError",
     "evalue": "name 'stat' is not defined",
     "output_type": "error",
     "traceback": [
      "\u001b[1;31m---------------------------------------------------------------------------\u001b[0m",
      "\u001b[1;31mNameError\u001b[0m                                 Traceback (most recent call last)",
      "\u001b[1;32m~\\AppData\\Local\\Temp\\ipykernel_4212\\2300028392.py\u001b[0m in \u001b[0;36m<module>\u001b[1;34m\u001b[0m\n\u001b[1;32m----> 1\u001b[1;33m \u001b[0mdf_stat\u001b[0m\u001b[1;33m[\u001b[0m\u001b[1;34m'log_price_iqr'\u001b[0m\u001b[1;33m]\u001b[0m\u001b[1;33m=\u001b[0m\u001b[0mstat\u001b[0m\u001b[1;33m(\u001b[0m\u001b[0merp\u001b[0m\u001b[1;33m.\u001b[0m\u001b[0mlog_price\u001b[0m\u001b[1;33m[\u001b[0m\u001b[0mmask_iqr\u001b[0m\u001b[1;33m]\u001b[0m\u001b[1;33m)\u001b[0m\u001b[1;33m\u001b[0m\u001b[1;33m\u001b[0m\u001b[0m\n\u001b[0m\u001b[0;32m      2\u001b[0m \u001b[0mdf_stat\u001b[0m\u001b[1;33m[\u001b[0m\u001b[1;34m'log_price_iqr'\u001b[0m\u001b[1;33m]\u001b[0m\u001b[1;33m=\u001b[0m\u001b[0mdf_stat\u001b[0m\u001b[1;33m[\u001b[0m\u001b[1;34m'log_price_iqr'\u001b[0m\u001b[1;33m]\u001b[0m\u001b[1;33m.\u001b[0m\u001b[0mapply\u001b[0m\u001b[1;33m(\u001b[0m\u001b[1;32mlambda\u001b[0m \u001b[0mx\u001b[0m\u001b[1;33m:\u001b[0m\u001b[0mfloat\u001b[0m\u001b[1;33m(\u001b[0m\u001b[1;34m'{:.4f}'\u001b[0m\u001b[1;33m.\u001b[0m\u001b[0mformat\u001b[0m\u001b[1;33m(\u001b[0m\u001b[0mx\u001b[0m\u001b[1;33m)\u001b[0m\u001b[1;33m)\u001b[0m\u001b[1;33m)\u001b[0m\u001b[1;33m\u001b[0m\u001b[1;33m\u001b[0m\u001b[0m\n\u001b[0;32m      3\u001b[0m \u001b[0mdf_stat\u001b[0m\u001b[1;33m[\u001b[0m\u001b[1;34m'log_price_zscore'\u001b[0m\u001b[1;33m]\u001b[0m\u001b[1;33m=\u001b[0m\u001b[0mstat\u001b[0m\u001b[1;33m(\u001b[0m\u001b[0merp\u001b[0m\u001b[1;33m.\u001b[0m\u001b[0mlog_price\u001b[0m\u001b[1;33m[\u001b[0m\u001b[0mmask_zscore\u001b[0m\u001b[1;33m]\u001b[0m\u001b[1;33m)\u001b[0m\u001b[1;33m\u001b[0m\u001b[1;33m\u001b[0m\u001b[0m\n\u001b[0;32m      4\u001b[0m \u001b[0mdf_stat\u001b[0m\u001b[1;33m[\u001b[0m\u001b[1;34m'log_price_zscore'\u001b[0m\u001b[1;33m]\u001b[0m\u001b[1;33m=\u001b[0m\u001b[0mdf_stat\u001b[0m\u001b[1;33m[\u001b[0m\u001b[1;34m'log_price_zscore'\u001b[0m\u001b[1;33m]\u001b[0m\u001b[1;33m.\u001b[0m\u001b[0mapply\u001b[0m\u001b[1;33m(\u001b[0m\u001b[1;32mlambda\u001b[0m \u001b[0mx\u001b[0m\u001b[1;33m:\u001b[0m\u001b[0mfloat\u001b[0m\u001b[1;33m(\u001b[0m\u001b[1;34m'{:.4f}'\u001b[0m\u001b[1;33m.\u001b[0m\u001b[0mformat\u001b[0m\u001b[1;33m(\u001b[0m\u001b[0mx\u001b[0m\u001b[1;33m)\u001b[0m\u001b[1;33m)\u001b[0m\u001b[1;33m)\u001b[0m\u001b[1;33m\u001b[0m\u001b[1;33m\u001b[0m\u001b[0m\n\u001b[0;32m      5\u001b[0m \u001b[0mdf_stat\u001b[0m\u001b[1;33m\u001b[0m\u001b[1;33m\u001b[0m\u001b[0m\n",
      "\u001b[1;31mNameError\u001b[0m: name 'stat' is not defined"
     ]
    }
   ],
   "source": [
    "df_stat['log_price_iqr']=stat(erp.log_price[mask_iqr])\n",
    "df_stat['log_price_iqr']=df_stat['log_price_iqr'].apply(lambda x:float('{:.4f}'.format(x)))\n",
    "df_stat['log_price_zscore']=stat(erp.log_price[mask_zscore])\n",
    "df_stat['log_price_zscore']=df_stat['log_price_zscore'].apply(lambda x:float('{:.4f}'.format(x)))\n",
    "df_stat"
   ]
  },
  {
   "cell_type": "code",
   "execution_count": null,
   "id": "1b8d5937-88d9-4bef-bd90-1aa3d7aa8eab",
   "metadata": {},
   "outputs": [],
   "source": []
  },
  {
   "cell_type": "code",
   "execution_count": null,
   "id": "c69fcd6d-23aa-48bd-9930-78e48c4cabb0",
   "metadata": {},
   "outputs": [],
   "source": []
  },
  {
   "cell_type": "code",
   "execution_count": null,
   "id": "8a1964f4-0407-408d-aee1-80bd918164e0",
   "metadata": {},
   "outputs": [],
   "source": []
  },
  {
   "cell_type": "code",
   "execution_count": null,
   "id": "30fc89e6-07c1-4dd1-9f64-084476ea231e",
   "metadata": {},
   "outputs": [],
   "source": []
  },
  {
   "cell_type": "code",
   "execution_count": null,
   "id": "4928f4f0-3ba9-41af-85fc-7fa459135741",
   "metadata": {},
   "outputs": [],
   "source": []
  }
 ],
 "metadata": {
  "kernelspec": {
   "display_name": "Python 3 (ipykernel)",
   "language": "python",
   "name": "python3"
  },
  "language_info": {
   "codemirror_mode": {
    "name": "ipython",
    "version": 3
   },
   "file_extension": ".py",
   "mimetype": "text/x-python",
   "name": "python",
   "nbconvert_exporter": "python",
   "pygments_lexer": "ipython3",
   "version": "3.9.13"
  }
 },
 "nbformat": 4,
 "nbformat_minor": 5
}
