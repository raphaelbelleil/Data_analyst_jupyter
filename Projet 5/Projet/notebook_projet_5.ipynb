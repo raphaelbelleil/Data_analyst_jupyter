{
 "cells": [
  {
   "cell_type": "markdown",
   "id": "4867ce40",
   "metadata": {},
   "source": [
    "# Projet 5 :\n",
    "# Optimisez la gestion des données d'une boutique avec R ou Python\n",
    "\n",
    "## Sommaire <a id='sommaire'></a>\n",
    "\n",
    "<ol>\n",
    "    <li><a href=\"#erp\">Préparation données fichier erp</a></li> \n",
    "    <li><a href=\"#liaison\">Préparation données fichier liaison</a></li> \n",
    "    <li><a href=\"#web\">Préparation données fichier web</a></li> \n",
    "    <li><a href=\"#jointure\">Jointure des 3 fichiers</a></li> \n",
    "    <li><a href=\"#ca\">Chiffre d'affaires global</a></li> \n",
    "    <li><a href=\"#analyse_univariee\">Analyse univariée de la variable prix</a></li> \n",
    "\n",
    "</ol>"
   ]
  },
  {
   "cell_type": "markdown",
   "id": "4e8a34f7",
   "metadata": {},
   "source": [
    "## Import des librairies"
   ]
  },
  {
   "cell_type": "code",
   "execution_count": 2,
   "id": "9aa94641",
   "metadata": {},
   "outputs": [],
   "source": [
    "import numpy as np\n",
    "import pandas as pd\n",
    "import matplotlib.pyplot as plt\n",
    "import seaborn as sns\n",
    "\n",
    "import warnings\n",
    "\n",
    "folder='D:/Data_Analyst_Projet/Projet 5/Donnees/Donnees analyse python/'"
   ]
  },
  {
   "cell_type": "markdown",
   "id": "3e116bdf",
   "metadata": {},
   "source": [
    "## Import des fichiers"
   ]
  },
  {
   "cell_type": "code",
   "execution_count": 3,
   "id": "094481a0",
   "metadata": {},
   "outputs": [
    {
     "data": {
      "text/html": [
       "<div>\n",
       "<style scoped>\n",
       "    .dataframe tbody tr th:only-of-type {\n",
       "        vertical-align: middle;\n",
       "    }\n",
       "\n",
       "    .dataframe tbody tr th {\n",
       "        vertical-align: top;\n",
       "    }\n",
       "\n",
       "    .dataframe thead th {\n",
       "        text-align: right;\n",
       "    }\n",
       "</style>\n",
       "<table border=\"1\" class=\"dataframe\">\n",
       "  <thead>\n",
       "    <tr style=\"text-align: right;\">\n",
       "      <th></th>\n",
       "      <th>product_id</th>\n",
       "      <th>onsale_web</th>\n",
       "      <th>price</th>\n",
       "      <th>stock_quantity</th>\n",
       "      <th>stock_status</th>\n",
       "    </tr>\n",
       "  </thead>\n",
       "  <tbody>\n",
       "    <tr>\n",
       "      <th>0</th>\n",
       "      <td>3847</td>\n",
       "      <td>1</td>\n",
       "      <td>24.2</td>\n",
       "      <td>0</td>\n",
       "      <td>outofstock</td>\n",
       "    </tr>\n",
       "    <tr>\n",
       "      <th>1</th>\n",
       "      <td>3849</td>\n",
       "      <td>1</td>\n",
       "      <td>34.3</td>\n",
       "      <td>0</td>\n",
       "      <td>outofstock</td>\n",
       "    </tr>\n",
       "    <tr>\n",
       "      <th>2</th>\n",
       "      <td>3850</td>\n",
       "      <td>1</td>\n",
       "      <td>20.8</td>\n",
       "      <td>0</td>\n",
       "      <td>outofstock</td>\n",
       "    </tr>\n",
       "    <tr>\n",
       "      <th>3</th>\n",
       "      <td>4032</td>\n",
       "      <td>1</td>\n",
       "      <td>14.1</td>\n",
       "      <td>0</td>\n",
       "      <td>outofstock</td>\n",
       "    </tr>\n",
       "    <tr>\n",
       "      <th>4</th>\n",
       "      <td>4039</td>\n",
       "      <td>1</td>\n",
       "      <td>46.0</td>\n",
       "      <td>0</td>\n",
       "      <td>outofstock</td>\n",
       "    </tr>\n",
       "  </tbody>\n",
       "</table>\n",
       "</div>"
      ],
      "text/plain": [
       "   product_id  onsale_web  price  stock_quantity stock_status\n",
       "0        3847           1   24.2               0   outofstock\n",
       "1        3849           1   34.3               0   outofstock\n",
       "2        3850           1   20.8               0   outofstock\n",
       "3        4032           1   14.1               0   outofstock\n",
       "4        4039           1   46.0               0   outofstock"
      ]
     },
     "execution_count": 3,
     "metadata": {},
     "output_type": "execute_result"
    }
   ],
   "source": [
    "warnings.simplefilter(\"ignore\")\n",
    "erp=pd.read_excel(folder+'erp.xlsx')\n",
    "erp.head()"
   ]
  },
  {
   "cell_type": "code",
   "execution_count": 4,
   "id": "54f4c1c3",
   "metadata": {},
   "outputs": [
    {
     "data": {
      "text/html": [
       "<div>\n",
       "<style scoped>\n",
       "    .dataframe tbody tr th:only-of-type {\n",
       "        vertical-align: middle;\n",
       "    }\n",
       "\n",
       "    .dataframe tbody tr th {\n",
       "        vertical-align: top;\n",
       "    }\n",
       "\n",
       "    .dataframe thead th {\n",
       "        text-align: right;\n",
       "    }\n",
       "</style>\n",
       "<table border=\"1\" class=\"dataframe\">\n",
       "  <thead>\n",
       "    <tr style=\"text-align: right;\">\n",
       "      <th></th>\n",
       "      <th>sku</th>\n",
       "      <th>virtual</th>\n",
       "      <th>downloadable</th>\n",
       "      <th>rating_count</th>\n",
       "      <th>average_rating</th>\n",
       "      <th>total_sales</th>\n",
       "      <th>tax_status</th>\n",
       "      <th>tax_class</th>\n",
       "      <th>post_author</th>\n",
       "      <th>post_date</th>\n",
       "      <th>...</th>\n",
       "      <th>post_name</th>\n",
       "      <th>post_modified</th>\n",
       "      <th>post_modified_gmt</th>\n",
       "      <th>post_content_filtered</th>\n",
       "      <th>post_parent</th>\n",
       "      <th>guid</th>\n",
       "      <th>menu_order</th>\n",
       "      <th>post_type</th>\n",
       "      <th>post_mime_type</th>\n",
       "      <th>comment_count</th>\n",
       "    </tr>\n",
       "  </thead>\n",
       "  <tbody>\n",
       "    <tr>\n",
       "      <th>0</th>\n",
       "      <td>bon-cadeau-25-euros</td>\n",
       "      <td>0</td>\n",
       "      <td>0</td>\n",
       "      <td>0</td>\n",
       "      <td>0.0</td>\n",
       "      <td>10.0</td>\n",
       "      <td>taxable</td>\n",
       "      <td>NaN</td>\n",
       "      <td>1.0</td>\n",
       "      <td>2018-06-01 13:53:46</td>\n",
       "      <td>...</td>\n",
       "      <td>bon-cadeau-de-25-euros</td>\n",
       "      <td>2018-06-01 14:13:57</td>\n",
       "      <td>2018-06-01 12:13:57</td>\n",
       "      <td>NaN</td>\n",
       "      <td>0.0</td>\n",
       "      <td>https://www.bottle-neck.fr/?post_type=product&amp;...</td>\n",
       "      <td>0.0</td>\n",
       "      <td>product</td>\n",
       "      <td>NaN</td>\n",
       "      <td>0.0</td>\n",
       "    </tr>\n",
       "    <tr>\n",
       "      <th>1</th>\n",
       "      <td>15298</td>\n",
       "      <td>0</td>\n",
       "      <td>0</td>\n",
       "      <td>0</td>\n",
       "      <td>0.0</td>\n",
       "      <td>6.0</td>\n",
       "      <td>taxable</td>\n",
       "      <td>NaN</td>\n",
       "      <td>2.0</td>\n",
       "      <td>2018-02-08 12:58:52</td>\n",
       "      <td>...</td>\n",
       "      <td>pierre-jean-villa-saint-joseph-preface-2018</td>\n",
       "      <td>2019-12-30 09:30:29</td>\n",
       "      <td>2019-12-30 08:30:29</td>\n",
       "      <td>NaN</td>\n",
       "      <td>0.0</td>\n",
       "      <td>https://www.bottle-neck.fr/?post_type=product&amp;...</td>\n",
       "      <td>0.0</td>\n",
       "      <td>product</td>\n",
       "      <td>NaN</td>\n",
       "      <td>0.0</td>\n",
       "    </tr>\n",
       "    <tr>\n",
       "      <th>2</th>\n",
       "      <td>15296</td>\n",
       "      <td>0</td>\n",
       "      <td>0</td>\n",
       "      <td>0</td>\n",
       "      <td>0.0</td>\n",
       "      <td>0.0</td>\n",
       "      <td>taxable</td>\n",
       "      <td>NaN</td>\n",
       "      <td>2.0</td>\n",
       "      <td>2018-02-08 13:49:41</td>\n",
       "      <td>...</td>\n",
       "      <td>pierre-jean-villa-saint-joseph-tilde-2017</td>\n",
       "      <td>2019-12-21 09:00:17</td>\n",
       "      <td>2019-12-21 08:00:17</td>\n",
       "      <td>NaN</td>\n",
       "      <td>0.0</td>\n",
       "      <td>https://www.bottle-neck.fr/?post_type=product&amp;...</td>\n",
       "      <td>0.0</td>\n",
       "      <td>product</td>\n",
       "      <td>NaN</td>\n",
       "      <td>0.0</td>\n",
       "    </tr>\n",
       "    <tr>\n",
       "      <th>3</th>\n",
       "      <td>15300</td>\n",
       "      <td>0</td>\n",
       "      <td>0</td>\n",
       "      <td>0</td>\n",
       "      <td>0.0</td>\n",
       "      <td>0.0</td>\n",
       "      <td>taxable</td>\n",
       "      <td>NaN</td>\n",
       "      <td>2.0</td>\n",
       "      <td>2018-02-08 14:08:36</td>\n",
       "      <td>...</td>\n",
       "      <td>pierre-jean-villa-croze-hermitage-accroche-coe...</td>\n",
       "      <td>2020-06-26 18:15:03</td>\n",
       "      <td>2020-06-26 16:15:03</td>\n",
       "      <td>NaN</td>\n",
       "      <td>0.0</td>\n",
       "      <td>https://www.bottle-neck.fr/?post_type=product&amp;...</td>\n",
       "      <td>0.0</td>\n",
       "      <td>product</td>\n",
       "      <td>NaN</td>\n",
       "      <td>0.0</td>\n",
       "    </tr>\n",
       "    <tr>\n",
       "      <th>4</th>\n",
       "      <td>19814</td>\n",
       "      <td>0</td>\n",
       "      <td>0</td>\n",
       "      <td>0</td>\n",
       "      <td>0.0</td>\n",
       "      <td>3.0</td>\n",
       "      <td>taxable</td>\n",
       "      <td>NaN</td>\n",
       "      <td>2.0</td>\n",
       "      <td>2018-02-09 14:01:05</td>\n",
       "      <td>...</td>\n",
       "      <td>pierre-jean-villa-igp-gamine-2018</td>\n",
       "      <td>2020-01-04 16:36:01</td>\n",
       "      <td>2020-01-04 15:36:01</td>\n",
       "      <td>NaN</td>\n",
       "      <td>0.0</td>\n",
       "      <td>https://www.bottle-neck.fr/?post_type=product&amp;...</td>\n",
       "      <td>0.0</td>\n",
       "      <td>product</td>\n",
       "      <td>NaN</td>\n",
       "      <td>0.0</td>\n",
       "    </tr>\n",
       "  </tbody>\n",
       "</table>\n",
       "<p>5 rows × 28 columns</p>\n",
       "</div>"
      ],
      "text/plain": [
       "                   sku  virtual  downloadable  rating_count  average_rating  \\\n",
       "0  bon-cadeau-25-euros        0             0             0             0.0   \n",
       "1                15298        0             0             0             0.0   \n",
       "2                15296        0             0             0             0.0   \n",
       "3                15300        0             0             0             0.0   \n",
       "4                19814        0             0             0             0.0   \n",
       "\n",
       "   total_sales tax_status  tax_class  post_author           post_date  ...  \\\n",
       "0         10.0    taxable        NaN          1.0 2018-06-01 13:53:46  ...   \n",
       "1          6.0    taxable        NaN          2.0 2018-02-08 12:58:52  ...   \n",
       "2          0.0    taxable        NaN          2.0 2018-02-08 13:49:41  ...   \n",
       "3          0.0    taxable        NaN          2.0 2018-02-08 14:08:36  ...   \n",
       "4          3.0    taxable        NaN          2.0 2018-02-09 14:01:05  ...   \n",
       "\n",
       "                                           post_name       post_modified  \\\n",
       "0                             bon-cadeau-de-25-euros 2018-06-01 14:13:57   \n",
       "1        pierre-jean-villa-saint-joseph-preface-2018 2019-12-30 09:30:29   \n",
       "2          pierre-jean-villa-saint-joseph-tilde-2017 2019-12-21 09:00:17   \n",
       "3  pierre-jean-villa-croze-hermitage-accroche-coe... 2020-06-26 18:15:03   \n",
       "4                  pierre-jean-villa-igp-gamine-2018 2020-01-04 16:36:01   \n",
       "\n",
       "    post_modified_gmt post_content_filtered post_parent  \\\n",
       "0 2018-06-01 12:13:57                   NaN         0.0   \n",
       "1 2019-12-30 08:30:29                   NaN         0.0   \n",
       "2 2019-12-21 08:00:17                   NaN         0.0   \n",
       "3 2020-06-26 16:15:03                   NaN         0.0   \n",
       "4 2020-01-04 15:36:01                   NaN         0.0   \n",
       "\n",
       "                                                guid menu_order  post_type  \\\n",
       "0  https://www.bottle-neck.fr/?post_type=product&...        0.0    product   \n",
       "1  https://www.bottle-neck.fr/?post_type=product&...        0.0    product   \n",
       "2  https://www.bottle-neck.fr/?post_type=product&...        0.0    product   \n",
       "3  https://www.bottle-neck.fr/?post_type=product&...        0.0    product   \n",
       "4  https://www.bottle-neck.fr/?post_type=product&...        0.0    product   \n",
       "\n",
       "  post_mime_type comment_count  \n",
       "0            NaN           0.0  \n",
       "1            NaN           0.0  \n",
       "2            NaN           0.0  \n",
       "3            NaN           0.0  \n",
       "4            NaN           0.0  \n",
       "\n",
       "[5 rows x 28 columns]"
      ]
     },
     "execution_count": 4,
     "metadata": {},
     "output_type": "execute_result"
    }
   ],
   "source": [
    "web=pd.read_excel(folder+'web.xlsx')\n",
    "web.head()"
   ]
  },
  {
   "cell_type": "code",
   "execution_count": 5,
   "id": "d7af1a1c",
   "metadata": {},
   "outputs": [
    {
     "data": {
      "text/html": [
       "<div>\n",
       "<style scoped>\n",
       "    .dataframe tbody tr th:only-of-type {\n",
       "        vertical-align: middle;\n",
       "    }\n",
       "\n",
       "    .dataframe tbody tr th {\n",
       "        vertical-align: top;\n",
       "    }\n",
       "\n",
       "    .dataframe thead th {\n",
       "        text-align: right;\n",
       "    }\n",
       "</style>\n",
       "<table border=\"1\" class=\"dataframe\">\n",
       "  <thead>\n",
       "    <tr style=\"text-align: right;\">\n",
       "      <th></th>\n",
       "      <th>product_id</th>\n",
       "      <th>id_web</th>\n",
       "    </tr>\n",
       "  </thead>\n",
       "  <tbody>\n",
       "    <tr>\n",
       "      <th>0</th>\n",
       "      <td>3847</td>\n",
       "      <td>15298</td>\n",
       "    </tr>\n",
       "    <tr>\n",
       "      <th>1</th>\n",
       "      <td>3849</td>\n",
       "      <td>15296</td>\n",
       "    </tr>\n",
       "    <tr>\n",
       "      <th>2</th>\n",
       "      <td>3850</td>\n",
       "      <td>15300</td>\n",
       "    </tr>\n",
       "    <tr>\n",
       "      <th>3</th>\n",
       "      <td>4032</td>\n",
       "      <td>19814</td>\n",
       "    </tr>\n",
       "    <tr>\n",
       "      <th>4</th>\n",
       "      <td>4039</td>\n",
       "      <td>19815</td>\n",
       "    </tr>\n",
       "  </tbody>\n",
       "</table>\n",
       "</div>"
      ],
      "text/plain": [
       "   product_id id_web\n",
       "0        3847  15298\n",
       "1        3849  15296\n",
       "2        3850  15300\n",
       "3        4032  19814\n",
       "4        4039  19815"
      ]
     },
     "execution_count": 5,
     "metadata": {},
     "output_type": "execute_result"
    }
   ],
   "source": [
    "liaison=pd.read_excel(folder+'liaison.xlsx')\n",
    "liaison.head()"
   ]
  },
  {
   "cell_type": "markdown",
   "id": "3fd8a31f",
   "metadata": {},
   "source": [
    "<a id='erp' ></a>\n",
    "## Fichier erp <a href=\"#sommaire\" style=\"font-size : 10px ; padding-left:10px\">Retour Sommaire</a>"
   ]
  },
  {
   "cell_type": "code",
   "execution_count": 6,
   "id": "ef2a997c",
   "metadata": {},
   "outputs": [
    {
     "data": {
      "text/html": [
       "<div>\n",
       "<style scoped>\n",
       "    .dataframe tbody tr th:only-of-type {\n",
       "        vertical-align: middle;\n",
       "    }\n",
       "\n",
       "    .dataframe tbody tr th {\n",
       "        vertical-align: top;\n",
       "    }\n",
       "\n",
       "    .dataframe thead th {\n",
       "        text-align: right;\n",
       "    }\n",
       "</style>\n",
       "<table border=\"1\" class=\"dataframe\">\n",
       "  <thead>\n",
       "    <tr style=\"text-align: right;\">\n",
       "      <th></th>\n",
       "      <th>product_id</th>\n",
       "      <th>onsale_web</th>\n",
       "      <th>price</th>\n",
       "      <th>stock_quantity</th>\n",
       "      <th>stock_status</th>\n",
       "    </tr>\n",
       "  </thead>\n",
       "  <tbody>\n",
       "    <tr>\n",
       "      <th>0</th>\n",
       "      <td>3847</td>\n",
       "      <td>1</td>\n",
       "      <td>24.2</td>\n",
       "      <td>0</td>\n",
       "      <td>outofstock</td>\n",
       "    </tr>\n",
       "    <tr>\n",
       "      <th>1</th>\n",
       "      <td>3849</td>\n",
       "      <td>1</td>\n",
       "      <td>34.3</td>\n",
       "      <td>0</td>\n",
       "      <td>outofstock</td>\n",
       "    </tr>\n",
       "    <tr>\n",
       "      <th>2</th>\n",
       "      <td>3850</td>\n",
       "      <td>1</td>\n",
       "      <td>20.8</td>\n",
       "      <td>0</td>\n",
       "      <td>outofstock</td>\n",
       "    </tr>\n",
       "    <tr>\n",
       "      <th>3</th>\n",
       "      <td>4032</td>\n",
       "      <td>1</td>\n",
       "      <td>14.1</td>\n",
       "      <td>0</td>\n",
       "      <td>outofstock</td>\n",
       "    </tr>\n",
       "    <tr>\n",
       "      <th>4</th>\n",
       "      <td>4039</td>\n",
       "      <td>1</td>\n",
       "      <td>46.0</td>\n",
       "      <td>0</td>\n",
       "      <td>outofstock</td>\n",
       "    </tr>\n",
       "  </tbody>\n",
       "</table>\n",
       "</div>"
      ],
      "text/plain": [
       "   product_id  onsale_web  price  stock_quantity stock_status\n",
       "0        3847           1   24.2               0   outofstock\n",
       "1        3849           1   34.3               0   outofstock\n",
       "2        3850           1   20.8               0   outofstock\n",
       "3        4032           1   14.1               0   outofstock\n",
       "4        4039           1   46.0               0   outofstock"
      ]
     },
     "execution_count": 6,
     "metadata": {},
     "output_type": "execute_result"
    }
   ],
   "source": [
    "erp.head()"
   ]
  },
  {
   "cell_type": "markdown",
   "id": "8e5b2ad2",
   "metadata": {},
   "source": [
    "### Renommage des colonnes"
   ]
  },
  {
   "cell_type": "code",
   "execution_count": 7,
   "id": "d30934da",
   "metadata": {},
   "outputs": [],
   "source": [
    "erp.rename(columns={'product_id' : 'id_produit',\n",
    "                    'onsale_web' : 'vente_web',\n",
    "                    'price' : 'prix',\n",
    "                    'stock_quantity' : 'quantite_stock',\n",
    "                    'stock_status' : 'status_stock'}, inplace=True)"
   ]
  },
  {
   "cell_type": "code",
   "execution_count": 8,
   "id": "759d4aad",
   "metadata": {},
   "outputs": [
    {
     "data": {
      "text/html": [
       "<div>\n",
       "<style scoped>\n",
       "    .dataframe tbody tr th:only-of-type {\n",
       "        vertical-align: middle;\n",
       "    }\n",
       "\n",
       "    .dataframe tbody tr th {\n",
       "        vertical-align: top;\n",
       "    }\n",
       "\n",
       "    .dataframe thead th {\n",
       "        text-align: right;\n",
       "    }\n",
       "</style>\n",
       "<table border=\"1\" class=\"dataframe\">\n",
       "  <thead>\n",
       "    <tr style=\"text-align: right;\">\n",
       "      <th></th>\n",
       "      <th>id_produit</th>\n",
       "      <th>vente_web</th>\n",
       "      <th>prix</th>\n",
       "      <th>quantite_stock</th>\n",
       "      <th>status_stock</th>\n",
       "    </tr>\n",
       "  </thead>\n",
       "  <tbody>\n",
       "    <tr>\n",
       "      <th>0</th>\n",
       "      <td>3847</td>\n",
       "      <td>1</td>\n",
       "      <td>24.2</td>\n",
       "      <td>0</td>\n",
       "      <td>outofstock</td>\n",
       "    </tr>\n",
       "    <tr>\n",
       "      <th>1</th>\n",
       "      <td>3849</td>\n",
       "      <td>1</td>\n",
       "      <td>34.3</td>\n",
       "      <td>0</td>\n",
       "      <td>outofstock</td>\n",
       "    </tr>\n",
       "    <tr>\n",
       "      <th>2</th>\n",
       "      <td>3850</td>\n",
       "      <td>1</td>\n",
       "      <td>20.8</td>\n",
       "      <td>0</td>\n",
       "      <td>outofstock</td>\n",
       "    </tr>\n",
       "    <tr>\n",
       "      <th>3</th>\n",
       "      <td>4032</td>\n",
       "      <td>1</td>\n",
       "      <td>14.1</td>\n",
       "      <td>0</td>\n",
       "      <td>outofstock</td>\n",
       "    </tr>\n",
       "    <tr>\n",
       "      <th>4</th>\n",
       "      <td>4039</td>\n",
       "      <td>1</td>\n",
       "      <td>46.0</td>\n",
       "      <td>0</td>\n",
       "      <td>outofstock</td>\n",
       "    </tr>\n",
       "  </tbody>\n",
       "</table>\n",
       "</div>"
      ],
      "text/plain": [
       "   id_produit  vente_web  prix  quantite_stock status_stock\n",
       "0        3847          1  24.2               0   outofstock\n",
       "1        3849          1  34.3               0   outofstock\n",
       "2        3850          1  20.8               0   outofstock\n",
       "3        4032          1  14.1               0   outofstock\n",
       "4        4039          1  46.0               0   outofstock"
      ]
     },
     "execution_count": 8,
     "metadata": {},
     "output_type": "execute_result"
    }
   ],
   "source": [
    "erp.head()"
   ]
  },
  {
   "cell_type": "markdown",
   "id": "77791651",
   "metadata": {},
   "source": [
    "### Description du fichier"
   ]
  },
  {
   "cell_type": "code",
   "execution_count": 9,
   "id": "c960ad65",
   "metadata": {},
   "outputs": [
    {
     "data": {
      "text/plain": [
       "(825, 5)"
      ]
     },
     "execution_count": 9,
     "metadata": {},
     "output_type": "execute_result"
    }
   ],
   "source": [
    "erp.shape"
   ]
  },
  {
   "cell_type": "code",
   "execution_count": 10,
   "id": "1601b0da",
   "metadata": {},
   "outputs": [
    {
     "name": "stdout",
     "output_type": "stream",
     "text": [
      "<class 'pandas.core.frame.DataFrame'>\n",
      "RangeIndex: 825 entries, 0 to 824\n",
      "Data columns (total 5 columns):\n",
      " #   Column          Non-Null Count  Dtype  \n",
      "---  ------          --------------  -----  \n",
      " 0   id_produit      825 non-null    int64  \n",
      " 1   vente_web       825 non-null    int64  \n",
      " 2   prix            825 non-null    float64\n",
      " 3   quantite_stock  825 non-null    int64  \n",
      " 4   status_stock    825 non-null    object \n",
      "dtypes: float64(1), int64(3), object(1)\n",
      "memory usage: 32.4+ KB\n"
     ]
    }
   ],
   "source": [
    "erp.info()"
   ]
  },
  {
   "cell_type": "code",
   "execution_count": 11,
   "id": "ef208fb3",
   "metadata": {},
   "outputs": [
    {
     "data": {
      "text/html": [
       "<div>\n",
       "<style scoped>\n",
       "    .dataframe tbody tr th:only-of-type {\n",
       "        vertical-align: middle;\n",
       "    }\n",
       "\n",
       "    .dataframe tbody tr th {\n",
       "        vertical-align: top;\n",
       "    }\n",
       "\n",
       "    .dataframe thead th {\n",
       "        text-align: right;\n",
       "    }\n",
       "</style>\n",
       "<table border=\"1\" class=\"dataframe\">\n",
       "  <thead>\n",
       "    <tr style=\"text-align: right;\">\n",
       "      <th></th>\n",
       "      <th>id_produit</th>\n",
       "      <th>vente_web</th>\n",
       "      <th>prix</th>\n",
       "      <th>quantite_stock</th>\n",
       "      <th>status_stock</th>\n",
       "    </tr>\n",
       "  </thead>\n",
       "  <tbody>\n",
       "    <tr>\n",
       "      <th>count</th>\n",
       "      <td>825.000000</td>\n",
       "      <td>825.000000</td>\n",
       "      <td>825.000000</td>\n",
       "      <td>825.000000</td>\n",
       "      <td>825</td>\n",
       "    </tr>\n",
       "    <tr>\n",
       "      <th>unique</th>\n",
       "      <td>NaN</td>\n",
       "      <td>NaN</td>\n",
       "      <td>NaN</td>\n",
       "      <td>NaN</td>\n",
       "      <td>2</td>\n",
       "    </tr>\n",
       "    <tr>\n",
       "      <th>top</th>\n",
       "      <td>NaN</td>\n",
       "      <td>NaN</td>\n",
       "      <td>NaN</td>\n",
       "      <td>NaN</td>\n",
       "      <td>instock</td>\n",
       "    </tr>\n",
       "    <tr>\n",
       "      <th>freq</th>\n",
       "      <td>NaN</td>\n",
       "      <td>NaN</td>\n",
       "      <td>NaN</td>\n",
       "      <td>NaN</td>\n",
       "      <td>638</td>\n",
       "    </tr>\n",
       "    <tr>\n",
       "      <th>mean</th>\n",
       "      <td>5162.597576</td>\n",
       "      <td>0.869091</td>\n",
       "      <td>32.415636</td>\n",
       "      <td>26.496970</td>\n",
       "      <td>NaN</td>\n",
       "    </tr>\n",
       "    <tr>\n",
       "      <th>std</th>\n",
       "      <td>902.644635</td>\n",
       "      <td>0.337506</td>\n",
       "      <td>26.795849</td>\n",
       "      <td>45.892422</td>\n",
       "      <td>NaN</td>\n",
       "    </tr>\n",
       "    <tr>\n",
       "      <th>min</th>\n",
       "      <td>3847.000000</td>\n",
       "      <td>0.000000</td>\n",
       "      <td>5.200000</td>\n",
       "      <td>0.000000</td>\n",
       "      <td>NaN</td>\n",
       "    </tr>\n",
       "    <tr>\n",
       "      <th>25%</th>\n",
       "      <td>4348.000000</td>\n",
       "      <td>1.000000</td>\n",
       "      <td>14.600000</td>\n",
       "      <td>1.000000</td>\n",
       "      <td>NaN</td>\n",
       "    </tr>\n",
       "    <tr>\n",
       "      <th>50%</th>\n",
       "      <td>4907.000000</td>\n",
       "      <td>1.000000</td>\n",
       "      <td>24.400000</td>\n",
       "      <td>11.000000</td>\n",
       "      <td>NaN</td>\n",
       "    </tr>\n",
       "    <tr>\n",
       "      <th>75%</th>\n",
       "      <td>5805.000000</td>\n",
       "      <td>1.000000</td>\n",
       "      <td>42.000000</td>\n",
       "      <td>34.000000</td>\n",
       "      <td>NaN</td>\n",
       "    </tr>\n",
       "    <tr>\n",
       "      <th>max</th>\n",
       "      <td>7338.000000</td>\n",
       "      <td>1.000000</td>\n",
       "      <td>225.000000</td>\n",
       "      <td>578.000000</td>\n",
       "      <td>NaN</td>\n",
       "    </tr>\n",
       "  </tbody>\n",
       "</table>\n",
       "</div>"
      ],
      "text/plain": [
       "         id_produit   vente_web        prix  quantite_stock status_stock\n",
       "count    825.000000  825.000000  825.000000      825.000000          825\n",
       "unique          NaN         NaN         NaN             NaN            2\n",
       "top             NaN         NaN         NaN             NaN      instock\n",
       "freq            NaN         NaN         NaN             NaN          638\n",
       "mean    5162.597576    0.869091   32.415636       26.496970          NaN\n",
       "std      902.644635    0.337506   26.795849       45.892422          NaN\n",
       "min     3847.000000    0.000000    5.200000        0.000000          NaN\n",
       "25%     4348.000000    1.000000   14.600000        1.000000          NaN\n",
       "50%     4907.000000    1.000000   24.400000       11.000000          NaN\n",
       "75%     5805.000000    1.000000   42.000000       34.000000          NaN\n",
       "max     7338.000000    1.000000  225.000000      578.000000          NaN"
      ]
     },
     "execution_count": 11,
     "metadata": {},
     "output_type": "execute_result"
    }
   ],
   "source": [
    "erp.describe(include='all')"
   ]
  },
  {
   "cell_type": "markdown",
   "id": "f3ea4bdf",
   "metadata": {},
   "source": [
    "### Modification des types de variable"
   ]
  },
  {
   "cell_type": "code",
   "execution_count": 12,
   "id": "bc9e2fdb",
   "metadata": {},
   "outputs": [],
   "source": [
    "erp['vente_web']=erp['vente_web'].astype('category')\n",
    "erp['status_stock']=erp['status_stock'].astype('category')"
   ]
  },
  {
   "cell_type": "code",
   "execution_count": 13,
   "id": "9d476039",
   "metadata": {},
   "outputs": [
    {
     "name": "stdout",
     "output_type": "stream",
     "text": [
      "<class 'pandas.core.frame.DataFrame'>\n",
      "RangeIndex: 825 entries, 0 to 824\n",
      "Data columns (total 5 columns):\n",
      " #   Column          Non-Null Count  Dtype   \n",
      "---  ------          --------------  -----   \n",
      " 0   id_produit      825 non-null    int64   \n",
      " 1   vente_web       825 non-null    category\n",
      " 2   prix            825 non-null    float64 \n",
      " 3   quantite_stock  825 non-null    int64   \n",
      " 4   status_stock    825 non-null    category\n",
      "dtypes: category(2), float64(1), int64(2)\n",
      "memory usage: 21.3 KB\n"
     ]
    }
   ],
   "source": [
    "erp.info()"
   ]
  },
  {
   "cell_type": "markdown",
   "id": "63f4bec9",
   "metadata": {},
   "source": [
    "### Traitements des valeurs nulles"
   ]
  },
  {
   "cell_type": "code",
   "execution_count": 14,
   "id": "61ea7b91",
   "metadata": {},
   "outputs": [
    {
     "data": {
      "text/html": [
       "<div>\n",
       "<style scoped>\n",
       "    .dataframe tbody tr th:only-of-type {\n",
       "        vertical-align: middle;\n",
       "    }\n",
       "\n",
       "    .dataframe tbody tr th {\n",
       "        vertical-align: top;\n",
       "    }\n",
       "\n",
       "    .dataframe thead th {\n",
       "        text-align: right;\n",
       "    }\n",
       "</style>\n",
       "<table border=\"1\" class=\"dataframe\">\n",
       "  <thead>\n",
       "    <tr style=\"text-align: right;\">\n",
       "      <th></th>\n",
       "      <th>id_produit</th>\n",
       "      <th>vente_web</th>\n",
       "      <th>prix</th>\n",
       "      <th>quantite_stock</th>\n",
       "      <th>status_stock</th>\n",
       "    </tr>\n",
       "  </thead>\n",
       "  <tbody>\n",
       "  </tbody>\n",
       "</table>\n",
       "</div>"
      ],
      "text/plain": [
       "Empty DataFrame\n",
       "Columns: [id_produit, vente_web, prix, quantite_stock, status_stock]\n",
       "Index: []"
      ]
     },
     "execution_count": 14,
     "metadata": {},
     "output_type": "execute_result"
    }
   ],
   "source": [
    "erp[erp.isnull().any(axis=1)]"
   ]
  },
  {
   "cell_type": "code",
   "execution_count": 15,
   "id": "0ef28157",
   "metadata": {},
   "outputs": [
    {
     "data": {
      "text/plain": [
       "id_produit        0\n",
       "vente_web         0\n",
       "prix              0\n",
       "quantite_stock    0\n",
       "status_stock      0\n",
       "dtype: int64"
      ]
     },
     "execution_count": 15,
     "metadata": {},
     "output_type": "execute_result"
    }
   ],
   "source": [
    "erp.isnull().sum()"
   ]
  },
  {
   "cell_type": "markdown",
   "id": "19b9155c",
   "metadata": {},
   "source": [
    "Pas de valeurs nulles, cela vient confirmer ce qu'on avait vu avec la méthode info()"
   ]
  },
  {
   "cell_type": "markdown",
   "id": "039d7b59",
   "metadata": {},
   "source": [
    "### Traitements des doublons"
   ]
  },
  {
   "cell_type": "code",
   "execution_count": 16,
   "id": "a769a696",
   "metadata": {},
   "outputs": [
    {
     "data": {
      "text/html": [
       "<div>\n",
       "<style scoped>\n",
       "    .dataframe tbody tr th:only-of-type {\n",
       "        vertical-align: middle;\n",
       "    }\n",
       "\n",
       "    .dataframe tbody tr th {\n",
       "        vertical-align: top;\n",
       "    }\n",
       "\n",
       "    .dataframe thead th {\n",
       "        text-align: right;\n",
       "    }\n",
       "</style>\n",
       "<table border=\"1\" class=\"dataframe\">\n",
       "  <thead>\n",
       "    <tr style=\"text-align: right;\">\n",
       "      <th></th>\n",
       "      <th>id_produit</th>\n",
       "      <th>vente_web</th>\n",
       "      <th>prix</th>\n",
       "      <th>quantite_stock</th>\n",
       "      <th>status_stock</th>\n",
       "    </tr>\n",
       "  </thead>\n",
       "  <tbody>\n",
       "  </tbody>\n",
       "</table>\n",
       "</div>"
      ],
      "text/plain": [
       "Empty DataFrame\n",
       "Columns: [id_produit, vente_web, prix, quantite_stock, status_stock]\n",
       "Index: []"
      ]
     },
     "execution_count": 16,
     "metadata": {},
     "output_type": "execute_result"
    }
   ],
   "source": [
    "erp[erp.duplicated(subset='id_produit')]"
   ]
  },
  {
   "cell_type": "markdown",
   "id": "e20ea018",
   "metadata": {},
   "source": [
    "### Part des ventes web apparentes"
   ]
  },
  {
   "cell_type": "code",
   "execution_count": 17,
   "id": "72cb7597",
   "metadata": {
    "scrolled": true
   },
   "outputs": [
    {
     "data": {
      "text/plain": [
       "1    717\n",
       "0    108\n",
       "Name: vente_web, dtype: int64"
      ]
     },
     "execution_count": 17,
     "metadata": {},
     "output_type": "execute_result"
    }
   ],
   "source": [
    "erp['vente_web'].value_counts()"
   ]
  },
  {
   "cell_type": "markdown",
   "id": "cbfafc75",
   "metadata": {},
   "source": [
    "Nous vérifierons si cela est vrai avec le fichier de liaison et web, si les produits affichés vendus sur le web sont bien vendus sur le web, et si ceux affichés non vendus sont bien non vendus sur le web."
   ]
  },
  {
   "cell_type": "markdown",
   "id": "efc742f5",
   "metadata": {},
   "source": [
    "### Vérification de la cohérence entre quantite_stock et status_stock"
   ]
  },
  {
   "cell_type": "code",
   "execution_count": 18,
   "id": "1dd8afec",
   "metadata": {},
   "outputs": [
    {
     "data": {
      "text/plain": [
       "instock       638\n",
       "outofstock    187\n",
       "Name: status_stock, dtype: int64"
      ]
     },
     "execution_count": 18,
     "metadata": {},
     "output_type": "execute_result"
    }
   ],
   "source": [
    "erp['status_stock'].value_counts()"
   ]
  },
  {
   "cell_type": "code",
   "execution_count": 19,
   "id": "9345d7ac",
   "metadata": {},
   "outputs": [
    {
     "data": {
      "text/plain": [
       "id_produit        188\n",
       "vente_web         188\n",
       "prix              188\n",
       "quantite_stock    188\n",
       "status_stock      188\n",
       "dtype: int64"
      ]
     },
     "execution_count": 19,
     "metadata": {},
     "output_type": "execute_result"
    }
   ],
   "source": [
    "erp[erp['quantite_stock']==0].count()"
   ]
  },
  {
   "cell_type": "markdown",
   "id": "bcc8509b",
   "metadata": {},
   "source": [
    "1 erreur : 1 produit est considéré en stock alors que sa quantité en stock est nulle.\n",
    "\n",
    "Nous allons modifier cela."
   ]
  },
  {
   "cell_type": "code",
   "execution_count": 20,
   "id": "a8715e4a",
   "metadata": {},
   "outputs": [
    {
     "data": {
      "text/html": [
       "<div>\n",
       "<style scoped>\n",
       "    .dataframe tbody tr th:only-of-type {\n",
       "        vertical-align: middle;\n",
       "    }\n",
       "\n",
       "    .dataframe tbody tr th {\n",
       "        vertical-align: top;\n",
       "    }\n",
       "\n",
       "    .dataframe thead th {\n",
       "        text-align: right;\n",
       "    }\n",
       "</style>\n",
       "<table border=\"1\" class=\"dataframe\">\n",
       "  <thead>\n",
       "    <tr style=\"text-align: right;\">\n",
       "      <th></th>\n",
       "      <th>id_produit</th>\n",
       "      <th>vente_web</th>\n",
       "      <th>prix</th>\n",
       "      <th>quantite_stock</th>\n",
       "      <th>status_stock</th>\n",
       "    </tr>\n",
       "  </thead>\n",
       "  <tbody>\n",
       "    <tr>\n",
       "      <th>443</th>\n",
       "      <td>4954</td>\n",
       "      <td>1</td>\n",
       "      <td>25.0</td>\n",
       "      <td>0</td>\n",
       "      <td>instock</td>\n",
       "    </tr>\n",
       "  </tbody>\n",
       "</table>\n",
       "</div>"
      ],
      "text/plain": [
       "     id_produit vente_web  prix  quantite_stock status_stock\n",
       "443        4954         1  25.0               0      instock"
      ]
     },
     "execution_count": 20,
     "metadata": {},
     "output_type": "execute_result"
    }
   ],
   "source": [
    "erp.loc[(erp['quantite_stock']==0) & (erp['status_stock']=='instock'), :]"
   ]
  },
  {
   "cell_type": "code",
   "execution_count": 21,
   "id": "ef7ac06f",
   "metadata": {},
   "outputs": [],
   "source": [
    "erp.loc[(erp['quantite_stock']==0) & (erp['status_stock']=='instock'), 'status_stock'] = 'outofstock'"
   ]
  },
  {
   "cell_type": "code",
   "execution_count": 22,
   "id": "8d46095b",
   "metadata": {},
   "outputs": [
    {
     "data": {
      "text/plain": [
       "id_produit        0\n",
       "vente_web         0\n",
       "prix              0\n",
       "quantite_stock    0\n",
       "status_stock      0\n",
       "dtype: int64"
      ]
     },
     "execution_count": 22,
     "metadata": {},
     "output_type": "execute_result"
    }
   ],
   "source": [
    "erp.loc[(erp['quantite_stock']==0) & (erp['status_stock']=='instock'), :].count()"
   ]
  },
  {
   "cell_type": "markdown",
   "id": "71f465c5",
   "metadata": {},
   "source": [
    "<a id='liaison' ></a>\n",
    "## Fichier liaison <a href=\"#sommaire\" style=\"font-size : 10px ; padding-left:10px\">Retour Sommaire</a>"
   ]
  },
  {
   "cell_type": "code",
   "execution_count": 23,
   "id": "3760986a",
   "metadata": {},
   "outputs": [
    {
     "data": {
      "text/html": [
       "<div>\n",
       "<style scoped>\n",
       "    .dataframe tbody tr th:only-of-type {\n",
       "        vertical-align: middle;\n",
       "    }\n",
       "\n",
       "    .dataframe tbody tr th {\n",
       "        vertical-align: top;\n",
       "    }\n",
       "\n",
       "    .dataframe thead th {\n",
       "        text-align: right;\n",
       "    }\n",
       "</style>\n",
       "<table border=\"1\" class=\"dataframe\">\n",
       "  <thead>\n",
       "    <tr style=\"text-align: right;\">\n",
       "      <th></th>\n",
       "      <th>product_id</th>\n",
       "      <th>id_web</th>\n",
       "    </tr>\n",
       "  </thead>\n",
       "  <tbody>\n",
       "    <tr>\n",
       "      <th>0</th>\n",
       "      <td>3847</td>\n",
       "      <td>15298</td>\n",
       "    </tr>\n",
       "    <tr>\n",
       "      <th>1</th>\n",
       "      <td>3849</td>\n",
       "      <td>15296</td>\n",
       "    </tr>\n",
       "    <tr>\n",
       "      <th>2</th>\n",
       "      <td>3850</td>\n",
       "      <td>15300</td>\n",
       "    </tr>\n",
       "    <tr>\n",
       "      <th>3</th>\n",
       "      <td>4032</td>\n",
       "      <td>19814</td>\n",
       "    </tr>\n",
       "    <tr>\n",
       "      <th>4</th>\n",
       "      <td>4039</td>\n",
       "      <td>19815</td>\n",
       "    </tr>\n",
       "  </tbody>\n",
       "</table>\n",
       "</div>"
      ],
      "text/plain": [
       "   product_id id_web\n",
       "0        3847  15298\n",
       "1        3849  15296\n",
       "2        3850  15300\n",
       "3        4032  19814\n",
       "4        4039  19815"
      ]
     },
     "execution_count": 23,
     "metadata": {},
     "output_type": "execute_result"
    }
   ],
   "source": [
    "liaison.head()"
   ]
  },
  {
   "cell_type": "markdown",
   "id": "003e81d1",
   "metadata": {},
   "source": [
    "### Renommage colonne"
   ]
  },
  {
   "cell_type": "code",
   "execution_count": 24,
   "id": "edad00fd",
   "metadata": {},
   "outputs": [],
   "source": [
    "liaison.rename(columns={'product_id' : 'id_produit'}, inplace=True)"
   ]
  },
  {
   "cell_type": "markdown",
   "id": "d921db2c",
   "metadata": {},
   "source": [
    "### Description fichier"
   ]
  },
  {
   "cell_type": "code",
   "execution_count": 25,
   "id": "9becfe71",
   "metadata": {},
   "outputs": [
    {
     "data": {
      "text/plain": [
       "(825, 2)"
      ]
     },
     "execution_count": 25,
     "metadata": {},
     "output_type": "execute_result"
    }
   ],
   "source": [
    "liaison.shape"
   ]
  },
  {
   "cell_type": "code",
   "execution_count": 26,
   "id": "e0b8681f",
   "metadata": {},
   "outputs": [
    {
     "name": "stdout",
     "output_type": "stream",
     "text": [
      "<class 'pandas.core.frame.DataFrame'>\n",
      "RangeIndex: 825 entries, 0 to 824\n",
      "Data columns (total 2 columns):\n",
      " #   Column      Non-Null Count  Dtype \n",
      "---  ------      --------------  ----- \n",
      " 0   id_produit  825 non-null    int64 \n",
      " 1   id_web      734 non-null    object\n",
      "dtypes: int64(1), object(1)\n",
      "memory usage: 13.0+ KB\n"
     ]
    }
   ],
   "source": [
    "liaison.info()"
   ]
  },
  {
   "cell_type": "code",
   "execution_count": 27,
   "id": "5efff929",
   "metadata": {},
   "outputs": [
    {
     "data": {
      "text/html": [
       "<div>\n",
       "<style scoped>\n",
       "    .dataframe tbody tr th:only-of-type {\n",
       "        vertical-align: middle;\n",
       "    }\n",
       "\n",
       "    .dataframe tbody tr th {\n",
       "        vertical-align: top;\n",
       "    }\n",
       "\n",
       "    .dataframe thead th {\n",
       "        text-align: right;\n",
       "    }\n",
       "</style>\n",
       "<table border=\"1\" class=\"dataframe\">\n",
       "  <thead>\n",
       "    <tr style=\"text-align: right;\">\n",
       "      <th></th>\n",
       "      <th>id_produit</th>\n",
       "      <th>id_web</th>\n",
       "    </tr>\n",
       "  </thead>\n",
       "  <tbody>\n",
       "    <tr>\n",
       "      <th>count</th>\n",
       "      <td>825.000000</td>\n",
       "      <td>734.0</td>\n",
       "    </tr>\n",
       "    <tr>\n",
       "      <th>unique</th>\n",
       "      <td>NaN</td>\n",
       "      <td>734.0</td>\n",
       "    </tr>\n",
       "    <tr>\n",
       "      <th>top</th>\n",
       "      <td>NaN</td>\n",
       "      <td>15298.0</td>\n",
       "    </tr>\n",
       "    <tr>\n",
       "      <th>freq</th>\n",
       "      <td>NaN</td>\n",
       "      <td>1.0</td>\n",
       "    </tr>\n",
       "    <tr>\n",
       "      <th>mean</th>\n",
       "      <td>5162.597576</td>\n",
       "      <td>NaN</td>\n",
       "    </tr>\n",
       "    <tr>\n",
       "      <th>std</th>\n",
       "      <td>902.644635</td>\n",
       "      <td>NaN</td>\n",
       "    </tr>\n",
       "    <tr>\n",
       "      <th>min</th>\n",
       "      <td>3847.000000</td>\n",
       "      <td>NaN</td>\n",
       "    </tr>\n",
       "    <tr>\n",
       "      <th>25%</th>\n",
       "      <td>4348.000000</td>\n",
       "      <td>NaN</td>\n",
       "    </tr>\n",
       "    <tr>\n",
       "      <th>50%</th>\n",
       "      <td>4907.000000</td>\n",
       "      <td>NaN</td>\n",
       "    </tr>\n",
       "    <tr>\n",
       "      <th>75%</th>\n",
       "      <td>5805.000000</td>\n",
       "      <td>NaN</td>\n",
       "    </tr>\n",
       "    <tr>\n",
       "      <th>max</th>\n",
       "      <td>7338.000000</td>\n",
       "      <td>NaN</td>\n",
       "    </tr>\n",
       "  </tbody>\n",
       "</table>\n",
       "</div>"
      ],
      "text/plain": [
       "         id_produit   id_web\n",
       "count    825.000000    734.0\n",
       "unique          NaN    734.0\n",
       "top             NaN  15298.0\n",
       "freq            NaN      1.0\n",
       "mean    5162.597576      NaN\n",
       "std      902.644635      NaN\n",
       "min     3847.000000      NaN\n",
       "25%     4348.000000      NaN\n",
       "50%     4907.000000      NaN\n",
       "75%     5805.000000      NaN\n",
       "max     7338.000000      NaN"
      ]
     },
     "execution_count": 27,
     "metadata": {},
     "output_type": "execute_result"
    }
   ],
   "source": [
    "liaison.describe(include='all')"
   ]
  },
  {
   "cell_type": "markdown",
   "id": "5bc3b771",
   "metadata": {},
   "source": [
    "On a les 825 références de l'ERP représentées avec 734 correspondances dans web, soit 91 valeurs nulles pour id_web"
   ]
  },
  {
   "cell_type": "code",
   "execution_count": 28,
   "id": "455af77b",
   "metadata": {
    "scrolled": true
   },
   "outputs": [
    {
     "data": {
      "text/plain": [
       "id_produit     0\n",
       "id_web        91\n",
       "dtype: int64"
      ]
     },
     "execution_count": 28,
     "metadata": {},
     "output_type": "execute_result"
    }
   ],
   "source": [
    "liaison.isnull().sum()"
   ]
  },
  {
   "cell_type": "code",
   "execution_count": 29,
   "id": "b5d35cd7",
   "metadata": {},
   "outputs": [
    {
     "data": {
      "text/html": [
       "<div>\n",
       "<style scoped>\n",
       "    .dataframe tbody tr th:only-of-type {\n",
       "        vertical-align: middle;\n",
       "    }\n",
       "\n",
       "    .dataframe tbody tr th {\n",
       "        vertical-align: top;\n",
       "    }\n",
       "\n",
       "    .dataframe thead th {\n",
       "        text-align: right;\n",
       "    }\n",
       "</style>\n",
       "<table border=\"1\" class=\"dataframe\">\n",
       "  <thead>\n",
       "    <tr style=\"text-align: right;\">\n",
       "      <th></th>\n",
       "      <th>id_produit</th>\n",
       "      <th>id_web</th>\n",
       "    </tr>\n",
       "  </thead>\n",
       "  <tbody>\n",
       "    <tr>\n",
       "      <th>19</th>\n",
       "      <td>4055</td>\n",
       "      <td>NaN</td>\n",
       "    </tr>\n",
       "    <tr>\n",
       "      <th>49</th>\n",
       "      <td>4090</td>\n",
       "      <td>NaN</td>\n",
       "    </tr>\n",
       "    <tr>\n",
       "      <th>50</th>\n",
       "      <td>4092</td>\n",
       "      <td>NaN</td>\n",
       "    </tr>\n",
       "    <tr>\n",
       "      <th>119</th>\n",
       "      <td>4195</td>\n",
       "      <td>NaN</td>\n",
       "    </tr>\n",
       "    <tr>\n",
       "      <th>131</th>\n",
       "      <td>4209</td>\n",
       "      <td>NaN</td>\n",
       "    </tr>\n",
       "    <tr>\n",
       "      <th>...</th>\n",
       "      <td>...</td>\n",
       "      <td>...</td>\n",
       "    </tr>\n",
       "    <tr>\n",
       "      <th>817</th>\n",
       "      <td>7196</td>\n",
       "      <td>NaN</td>\n",
       "    </tr>\n",
       "    <tr>\n",
       "      <th>818</th>\n",
       "      <td>7200</td>\n",
       "      <td>NaN</td>\n",
       "    </tr>\n",
       "    <tr>\n",
       "      <th>819</th>\n",
       "      <td>7201</td>\n",
       "      <td>NaN</td>\n",
       "    </tr>\n",
       "    <tr>\n",
       "      <th>820</th>\n",
       "      <td>7203</td>\n",
       "      <td>NaN</td>\n",
       "    </tr>\n",
       "    <tr>\n",
       "      <th>821</th>\n",
       "      <td>7204</td>\n",
       "      <td>NaN</td>\n",
       "    </tr>\n",
       "  </tbody>\n",
       "</table>\n",
       "<p>91 rows × 2 columns</p>\n",
       "</div>"
      ],
      "text/plain": [
       "     id_produit id_web\n",
       "19         4055    NaN\n",
       "49         4090    NaN\n",
       "50         4092    NaN\n",
       "119        4195    NaN\n",
       "131        4209    NaN\n",
       "..          ...    ...\n",
       "817        7196    NaN\n",
       "818        7200    NaN\n",
       "819        7201    NaN\n",
       "820        7203    NaN\n",
       "821        7204    NaN\n",
       "\n",
       "[91 rows x 2 columns]"
      ]
     },
     "execution_count": 29,
     "metadata": {},
     "output_type": "execute_result"
    }
   ],
   "source": [
    "liaison[liaison.isnull().any(axis=1)]"
   ]
  },
  {
   "cell_type": "markdown",
   "id": "fdf17215",
   "metadata": {},
   "source": [
    "### Placement des produits erp sans correspondance dans une variable"
   ]
  },
  {
   "cell_type": "code",
   "execution_count": 30,
   "id": "d64a1fb3",
   "metadata": {},
   "outputs": [
    {
     "data": {
      "text/plain": [
       "0     4055\n",
       "1     4090\n",
       "2     4092\n",
       "3     4195\n",
       "4     4209\n",
       "      ... \n",
       "86    7196\n",
       "87    7200\n",
       "88    7201\n",
       "89    7203\n",
       "90    7204\n",
       "Name: id_produit, Length: 91, dtype: int64"
      ]
     },
     "execution_count": 30,
     "metadata": {},
     "output_type": "execute_result"
    }
   ],
   "source": [
    "produit_erp_sans_correspondance=liaison[liaison.isnull().any(axis=1)]['id_produit'].reset_index(drop=True)\n",
    "produit_erp_sans_correspondance"
   ]
  },
  {
   "cell_type": "markdown",
   "id": "d09e4e68",
   "metadata": {},
   "source": [
    "Nous allons supprimer ces valeurs nulles, car ces références ne trouvent pas de correspondance."
   ]
  },
  {
   "cell_type": "markdown",
   "id": "98fdd481",
   "metadata": {},
   "source": [
    "### Suppression des lignes sans correspondance"
   ]
  },
  {
   "cell_type": "code",
   "execution_count": 31,
   "id": "916ed7bc",
   "metadata": {},
   "outputs": [],
   "source": [
    "liaison.dropna(axis=0, how='any', inplace=True)"
   ]
  },
  {
   "cell_type": "markdown",
   "id": "fd45f96c",
   "metadata": {},
   "source": [
    "### Des erreurs à modifier pour la conversion"
   ]
  },
  {
   "cell_type": "code",
   "execution_count": 32,
   "id": "aefdc3b8",
   "metadata": {},
   "outputs": [],
   "source": [
    "# on la supprime car cette référence n'existe pas dans web\n",
    "liaison.drop(liaison[liaison['id_web']=='14680-1'].index, inplace=True)"
   ]
  },
  {
   "cell_type": "code",
   "execution_count": 33,
   "id": "95e02de6",
   "metadata": {},
   "outputs": [],
   "source": [
    "liaison.loc[liaison['id_web']=='bon-cadeau-25-euros', 'id_web']=19823\n",
    "liaison.loc[liaison['id_web']=='13127-1', 'id_web']=13128"
   ]
  },
  {
   "cell_type": "markdown",
   "id": "f6654521",
   "metadata": {},
   "source": [
    "### Conversion en entier de id_web"
   ]
  },
  {
   "cell_type": "code",
   "execution_count": 34,
   "id": "6d42576c",
   "metadata": {},
   "outputs": [],
   "source": [
    "liaison['id_web']=liaison['id_web'].astype('int64', errors='raise')"
   ]
  },
  {
   "cell_type": "code",
   "execution_count": 35,
   "id": "a018daec",
   "metadata": {},
   "outputs": [
    {
     "name": "stdout",
     "output_type": "stream",
     "text": [
      "<class 'pandas.core.frame.DataFrame'>\n",
      "Int64Index: 733 entries, 0 to 824\n",
      "Data columns (total 2 columns):\n",
      " #   Column      Non-Null Count  Dtype\n",
      "---  ------      --------------  -----\n",
      " 0   id_produit  733 non-null    int64\n",
      " 1   id_web      733 non-null    int64\n",
      "dtypes: int64(2)\n",
      "memory usage: 17.2 KB\n"
     ]
    }
   ],
   "source": [
    "liaison.info()"
   ]
  },
  {
   "cell_type": "code",
   "execution_count": 36,
   "id": "5649a98e",
   "metadata": {},
   "outputs": [
    {
     "data": {
      "text/html": [
       "<div>\n",
       "<style scoped>\n",
       "    .dataframe tbody tr th:only-of-type {\n",
       "        vertical-align: middle;\n",
       "    }\n",
       "\n",
       "    .dataframe tbody tr th {\n",
       "        vertical-align: top;\n",
       "    }\n",
       "\n",
       "    .dataframe thead th {\n",
       "        text-align: right;\n",
       "    }\n",
       "</style>\n",
       "<table border=\"1\" class=\"dataframe\">\n",
       "  <thead>\n",
       "    <tr style=\"text-align: right;\">\n",
       "      <th></th>\n",
       "      <th>id_produit</th>\n",
       "      <th>id_web</th>\n",
       "    </tr>\n",
       "  </thead>\n",
       "  <tbody>\n",
       "    <tr>\n",
       "      <th>count</th>\n",
       "      <td>733.000000</td>\n",
       "      <td>733.00000</td>\n",
       "    </tr>\n",
       "    <tr>\n",
       "      <th>mean</th>\n",
       "      <td>5038.739427</td>\n",
       "      <td>14491.86221</td>\n",
       "    </tr>\n",
       "    <tr>\n",
       "      <th>std</th>\n",
       "      <td>786.311710</td>\n",
       "      <td>2975.99534</td>\n",
       "    </tr>\n",
       "    <tr>\n",
       "      <th>min</th>\n",
       "      <td>3847.000000</td>\n",
       "      <td>38.00000</td>\n",
       "    </tr>\n",
       "    <tr>\n",
       "      <th>25%</th>\n",
       "      <td>4287.000000</td>\n",
       "      <td>14371.00000</td>\n",
       "    </tr>\n",
       "    <tr>\n",
       "      <th>50%</th>\n",
       "      <td>4862.000000</td>\n",
       "      <td>15361.00000</td>\n",
       "    </tr>\n",
       "    <tr>\n",
       "      <th>75%</th>\n",
       "      <td>5712.000000</td>\n",
       "      <td>15870.00000</td>\n",
       "    </tr>\n",
       "    <tr>\n",
       "      <th>max</th>\n",
       "      <td>7338.000000</td>\n",
       "      <td>19823.00000</td>\n",
       "    </tr>\n",
       "  </tbody>\n",
       "</table>\n",
       "</div>"
      ],
      "text/plain": [
       "        id_produit       id_web\n",
       "count   733.000000    733.00000\n",
       "mean   5038.739427  14491.86221\n",
       "std     786.311710   2975.99534\n",
       "min    3847.000000     38.00000\n",
       "25%    4287.000000  14371.00000\n",
       "50%    4862.000000  15361.00000\n",
       "75%    5712.000000  15870.00000\n",
       "max    7338.000000  19823.00000"
      ]
     },
     "execution_count": 36,
     "metadata": {},
     "output_type": "execute_result"
    }
   ],
   "source": [
    "liaison.describe()"
   ]
  },
  {
   "cell_type": "markdown",
   "id": "dad6ce75",
   "metadata": {},
   "source": [
    "<a id='web' ></a>\n",
    "## Fichier web <a href=\"#sommaire\" style=\"font-size : 10px ; padding-left:10px\">Retour Sommaire</a>"
   ]
  },
  {
   "cell_type": "code",
   "execution_count": 37,
   "id": "2eacb7d0",
   "metadata": {},
   "outputs": [
    {
     "data": {
      "text/plain": [
       "Index(['sku', 'virtual', 'downloadable', 'rating_count', 'average_rating',\n",
       "       'total_sales', 'tax_status', 'tax_class', 'post_author', 'post_date',\n",
       "       'post_date_gmt', 'post_content', 'post_title', 'post_excerpt',\n",
       "       'post_status', 'comment_status', 'ping_status', 'post_password',\n",
       "       'post_name', 'post_modified', 'post_modified_gmt',\n",
       "       'post_content_filtered', 'post_parent', 'guid', 'menu_order',\n",
       "       'post_type', 'post_mime_type', 'comment_count'],\n",
       "      dtype='object')"
      ]
     },
     "execution_count": 37,
     "metadata": {},
     "output_type": "execute_result"
    }
   ],
   "source": [
    "web.columns"
   ]
  },
  {
   "cell_type": "markdown",
   "id": "30645f13",
   "metadata": {},
   "source": [
    "### Supression des colonnes inutiles"
   ]
  },
  {
   "cell_type": "code",
   "execution_count": 38,
   "id": "813ecd98",
   "metadata": {},
   "outputs": [],
   "source": [
    "web.drop(columns=['virtual', 'downloadable', 'rating_count', 'average_rating',\n",
    "        'tax_status', 'tax_class', 'post_author',\n",
    "       'post_date_gmt', 'post_content', 'post_excerpt',\n",
    "       'post_status', 'comment_status', 'ping_status', 'post_password',\n",
    "       'post_name', 'post_modified', 'post_modified_gmt',\n",
    "       'post_content_filtered', 'post_parent', 'guid', 'menu_order',\n",
    "       'post_mime_type', 'comment_count'], inplace=True)"
   ]
  },
  {
   "cell_type": "code",
   "execution_count": 39,
   "id": "791349a3",
   "metadata": {},
   "outputs": [
    {
     "data": {
      "text/html": [
       "<div>\n",
       "<style scoped>\n",
       "    .dataframe tbody tr th:only-of-type {\n",
       "        vertical-align: middle;\n",
       "    }\n",
       "\n",
       "    .dataframe tbody tr th {\n",
       "        vertical-align: top;\n",
       "    }\n",
       "\n",
       "    .dataframe thead th {\n",
       "        text-align: right;\n",
       "    }\n",
       "</style>\n",
       "<table border=\"1\" class=\"dataframe\">\n",
       "  <thead>\n",
       "    <tr style=\"text-align: right;\">\n",
       "      <th></th>\n",
       "      <th>sku</th>\n",
       "      <th>total_sales</th>\n",
       "      <th>post_date</th>\n",
       "      <th>post_title</th>\n",
       "      <th>post_type</th>\n",
       "    </tr>\n",
       "  </thead>\n",
       "  <tbody>\n",
       "    <tr>\n",
       "      <th>0</th>\n",
       "      <td>bon-cadeau-25-euros</td>\n",
       "      <td>10.0</td>\n",
       "      <td>2018-06-01 13:53:46</td>\n",
       "      <td>Bon cadeau de 25€</td>\n",
       "      <td>product</td>\n",
       "    </tr>\n",
       "    <tr>\n",
       "      <th>1</th>\n",
       "      <td>15298</td>\n",
       "      <td>6.0</td>\n",
       "      <td>2018-02-08 12:58:52</td>\n",
       "      <td>Pierre Jean Villa Saint-Joseph Préface 2018</td>\n",
       "      <td>product</td>\n",
       "    </tr>\n",
       "    <tr>\n",
       "      <th>2</th>\n",
       "      <td>15296</td>\n",
       "      <td>0.0</td>\n",
       "      <td>2018-02-08 13:49:41</td>\n",
       "      <td>Pierre Jean Villa Saint-Joseph Rouge Tildé 2017</td>\n",
       "      <td>product</td>\n",
       "    </tr>\n",
       "    <tr>\n",
       "      <th>3</th>\n",
       "      <td>15300</td>\n",
       "      <td>0.0</td>\n",
       "      <td>2018-02-08 14:08:36</td>\n",
       "      <td>Pierre Jean Villa Crozes-Hermitage Accroche Co...</td>\n",
       "      <td>product</td>\n",
       "    </tr>\n",
       "    <tr>\n",
       "      <th>4</th>\n",
       "      <td>19814</td>\n",
       "      <td>3.0</td>\n",
       "      <td>2018-02-09 14:01:05</td>\n",
       "      <td>Pierre Jean Villa IGP Collines Rhodaniennes Ga...</td>\n",
       "      <td>product</td>\n",
       "    </tr>\n",
       "  </tbody>\n",
       "</table>\n",
       "</div>"
      ],
      "text/plain": [
       "                   sku  total_sales           post_date  \\\n",
       "0  bon-cadeau-25-euros         10.0 2018-06-01 13:53:46   \n",
       "1                15298          6.0 2018-02-08 12:58:52   \n",
       "2                15296          0.0 2018-02-08 13:49:41   \n",
       "3                15300          0.0 2018-02-08 14:08:36   \n",
       "4                19814          3.0 2018-02-09 14:01:05   \n",
       "\n",
       "                                          post_title post_type  \n",
       "0                                  Bon cadeau de 25€   product  \n",
       "1        Pierre Jean Villa Saint-Joseph Préface 2018   product  \n",
       "2    Pierre Jean Villa Saint-Joseph Rouge Tildé 2017   product  \n",
       "3  Pierre Jean Villa Crozes-Hermitage Accroche Co...   product  \n",
       "4  Pierre Jean Villa IGP Collines Rhodaniennes Ga...   product  "
      ]
     },
     "execution_count": 39,
     "metadata": {},
     "output_type": "execute_result"
    }
   ],
   "source": [
    "web.head()"
   ]
  },
  {
   "cell_type": "markdown",
   "id": "49dd001d",
   "metadata": {},
   "source": [
    "### Renommage des colonnes "
   ]
  },
  {
   "cell_type": "code",
   "execution_count": 40,
   "id": "ccc6d7dc",
   "metadata": {},
   "outputs": [],
   "source": [
    "web.rename(columns={'sku' : 'id_web', 'total_sales' : 'total_vente',\n",
    "                    'post_date' : 'date_creation', 'post_title' : 'description'}, inplace=True)"
   ]
  },
  {
   "cell_type": "markdown",
   "id": "13bffcfd",
   "metadata": {},
   "source": [
    "### Exploration fichier"
   ]
  },
  {
   "cell_type": "code",
   "execution_count": 41,
   "id": "8bffd36e",
   "metadata": {},
   "outputs": [
    {
     "name": "stdout",
     "output_type": "stream",
     "text": [
      "<class 'pandas.core.frame.DataFrame'>\n",
      "RangeIndex: 1513 entries, 0 to 1512\n",
      "Data columns (total 5 columns):\n",
      " #   Column         Non-Null Count  Dtype         \n",
      "---  ------         --------------  -----         \n",
      " 0   id_web         1428 non-null   object        \n",
      " 1   total_vente    1430 non-null   float64       \n",
      " 2   date_creation  1430 non-null   datetime64[ns]\n",
      " 3   description    1430 non-null   object        \n",
      " 4   post_type      1430 non-null   object        \n",
      "dtypes: datetime64[ns](1), float64(1), object(3)\n",
      "memory usage: 59.2+ KB\n"
     ]
    }
   ],
   "source": [
    "web.info()"
   ]
  },
  {
   "cell_type": "markdown",
   "id": "e9d24841",
   "metadata": {},
   "source": [
    "### Valeurs nulles"
   ]
  },
  {
   "cell_type": "code",
   "execution_count": 42,
   "id": "57b11340",
   "metadata": {},
   "outputs": [
    {
     "data": {
      "text/plain": [
       "id_web           85\n",
       "total_vente      83\n",
       "date_creation    83\n",
       "description      83\n",
       "post_type        83\n",
       "dtype: int64"
      ]
     },
     "execution_count": 42,
     "metadata": {},
     "output_type": "execute_result"
    }
   ],
   "source": [
    "web.isnull().sum()"
   ]
  },
  {
   "cell_type": "code",
   "execution_count": 43,
   "id": "050820dd",
   "metadata": {},
   "outputs": [
    {
     "data": {
      "text/html": [
       "<div>\n",
       "<style scoped>\n",
       "    .dataframe tbody tr th:only-of-type {\n",
       "        vertical-align: middle;\n",
       "    }\n",
       "\n",
       "    .dataframe tbody tr th {\n",
       "        vertical-align: top;\n",
       "    }\n",
       "\n",
       "    .dataframe thead th {\n",
       "        text-align: right;\n",
       "    }\n",
       "</style>\n",
       "<table border=\"1\" class=\"dataframe\">\n",
       "  <thead>\n",
       "    <tr style=\"text-align: right;\">\n",
       "      <th></th>\n",
       "      <th>id_web</th>\n",
       "      <th>total_vente</th>\n",
       "      <th>date_creation</th>\n",
       "      <th>description</th>\n",
       "      <th>post_type</th>\n",
       "    </tr>\n",
       "  </thead>\n",
       "  <tbody>\n",
       "    <tr>\n",
       "      <th>178</th>\n",
       "      <td>NaN</td>\n",
       "      <td>NaN</td>\n",
       "      <td>NaT</td>\n",
       "      <td>NaN</td>\n",
       "      <td>NaN</td>\n",
       "    </tr>\n",
       "    <tr>\n",
       "      <th>179</th>\n",
       "      <td>NaN</td>\n",
       "      <td>NaN</td>\n",
       "      <td>NaT</td>\n",
       "      <td>NaN</td>\n",
       "      <td>NaN</td>\n",
       "    </tr>\n",
       "    <tr>\n",
       "      <th>227</th>\n",
       "      <td>NaN</td>\n",
       "      <td>NaN</td>\n",
       "      <td>NaT</td>\n",
       "      <td>NaN</td>\n",
       "      <td>NaN</td>\n",
       "    </tr>\n",
       "    <tr>\n",
       "      <th>230</th>\n",
       "      <td>NaN</td>\n",
       "      <td>NaN</td>\n",
       "      <td>NaT</td>\n",
       "      <td>NaN</td>\n",
       "      <td>NaN</td>\n",
       "    </tr>\n",
       "    <tr>\n",
       "      <th>231</th>\n",
       "      <td>NaN</td>\n",
       "      <td>NaN</td>\n",
       "      <td>NaT</td>\n",
       "      <td>NaN</td>\n",
       "      <td>NaN</td>\n",
       "    </tr>\n",
       "    <tr>\n",
       "      <th>...</th>\n",
       "      <td>...</td>\n",
       "      <td>...</td>\n",
       "      <td>...</td>\n",
       "      <td>...</td>\n",
       "      <td>...</td>\n",
       "    </tr>\n",
       "    <tr>\n",
       "      <th>792</th>\n",
       "      <td>NaN</td>\n",
       "      <td>NaN</td>\n",
       "      <td>NaT</td>\n",
       "      <td>NaN</td>\n",
       "      <td>NaN</td>\n",
       "    </tr>\n",
       "    <tr>\n",
       "      <th>793</th>\n",
       "      <td>NaN</td>\n",
       "      <td>NaN</td>\n",
       "      <td>NaT</td>\n",
       "      <td>NaN</td>\n",
       "      <td>NaN</td>\n",
       "    </tr>\n",
       "    <tr>\n",
       "      <th>794</th>\n",
       "      <td>NaN</td>\n",
       "      <td>NaN</td>\n",
       "      <td>NaT</td>\n",
       "      <td>NaN</td>\n",
       "      <td>NaN</td>\n",
       "    </tr>\n",
       "    <tr>\n",
       "      <th>795</th>\n",
       "      <td>NaN</td>\n",
       "      <td>NaN</td>\n",
       "      <td>NaT</td>\n",
       "      <td>NaN</td>\n",
       "      <td>NaN</td>\n",
       "    </tr>\n",
       "    <tr>\n",
       "      <th>796</th>\n",
       "      <td>NaN</td>\n",
       "      <td>NaN</td>\n",
       "      <td>NaT</td>\n",
       "      <td>NaN</td>\n",
       "      <td>NaN</td>\n",
       "    </tr>\n",
       "  </tbody>\n",
       "</table>\n",
       "<p>85 rows × 5 columns</p>\n",
       "</div>"
      ],
      "text/plain": [
       "    id_web  total_vente date_creation description post_type\n",
       "178    NaN          NaN           NaT         NaN       NaN\n",
       "179    NaN          NaN           NaT         NaN       NaN\n",
       "227    NaN          NaN           NaT         NaN       NaN\n",
       "230    NaN          NaN           NaT         NaN       NaN\n",
       "231    NaN          NaN           NaT         NaN       NaN\n",
       "..     ...          ...           ...         ...       ...\n",
       "792    NaN          NaN           NaT         NaN       NaN\n",
       "793    NaN          NaN           NaT         NaN       NaN\n",
       "794    NaN          NaN           NaT         NaN       NaN\n",
       "795    NaN          NaN           NaT         NaN       NaN\n",
       "796    NaN          NaN           NaT         NaN       NaN\n",
       "\n",
       "[85 rows x 5 columns]"
      ]
     },
     "execution_count": 43,
     "metadata": {},
     "output_type": "execute_result"
    }
   ],
   "source": [
    "web[web.isnull().any(axis=1)]"
   ]
  },
  {
   "cell_type": "markdown",
   "id": "6b734252",
   "metadata": {},
   "source": [
    "### Suppression des valeurs nulles"
   ]
  },
  {
   "cell_type": "code",
   "execution_count": 44,
   "id": "57d6c543",
   "metadata": {},
   "outputs": [],
   "source": [
    "web.dropna(axis=0, how='any', inplace=True)"
   ]
  },
  {
   "cell_type": "code",
   "execution_count": 45,
   "id": "b0805a12",
   "metadata": {},
   "outputs": [
    {
     "data": {
      "text/html": [
       "<div>\n",
       "<style scoped>\n",
       "    .dataframe tbody tr th:only-of-type {\n",
       "        vertical-align: middle;\n",
       "    }\n",
       "\n",
       "    .dataframe tbody tr th {\n",
       "        vertical-align: top;\n",
       "    }\n",
       "\n",
       "    .dataframe thead th {\n",
       "        text-align: right;\n",
       "    }\n",
       "</style>\n",
       "<table border=\"1\" class=\"dataframe\">\n",
       "  <thead>\n",
       "    <tr style=\"text-align: right;\">\n",
       "      <th></th>\n",
       "      <th>id_web</th>\n",
       "      <th>total_vente</th>\n",
       "      <th>date_creation</th>\n",
       "      <th>description</th>\n",
       "      <th>post_type</th>\n",
       "    </tr>\n",
       "  </thead>\n",
       "  <tbody>\n",
       "    <tr>\n",
       "      <th>0</th>\n",
       "      <td>bon-cadeau-25-euros</td>\n",
       "      <td>10.0</td>\n",
       "      <td>2018-06-01 13:53:46</td>\n",
       "      <td>Bon cadeau de 25€</td>\n",
       "      <td>product</td>\n",
       "    </tr>\n",
       "    <tr>\n",
       "      <th>1</th>\n",
       "      <td>15298</td>\n",
       "      <td>6.0</td>\n",
       "      <td>2018-02-08 12:58:52</td>\n",
       "      <td>Pierre Jean Villa Saint-Joseph Préface 2018</td>\n",
       "      <td>product</td>\n",
       "    </tr>\n",
       "    <tr>\n",
       "      <th>2</th>\n",
       "      <td>15296</td>\n",
       "      <td>0.0</td>\n",
       "      <td>2018-02-08 13:49:41</td>\n",
       "      <td>Pierre Jean Villa Saint-Joseph Rouge Tildé 2017</td>\n",
       "      <td>product</td>\n",
       "    </tr>\n",
       "    <tr>\n",
       "      <th>3</th>\n",
       "      <td>15300</td>\n",
       "      <td>0.0</td>\n",
       "      <td>2018-02-08 14:08:36</td>\n",
       "      <td>Pierre Jean Villa Crozes-Hermitage Accroche Co...</td>\n",
       "      <td>product</td>\n",
       "    </tr>\n",
       "    <tr>\n",
       "      <th>4</th>\n",
       "      <td>19814</td>\n",
       "      <td>3.0</td>\n",
       "      <td>2018-02-09 14:01:05</td>\n",
       "      <td>Pierre Jean Villa IGP Collines Rhodaniennes Ga...</td>\n",
       "      <td>product</td>\n",
       "    </tr>\n",
       "  </tbody>\n",
       "</table>\n",
       "</div>"
      ],
      "text/plain": [
       "                id_web  total_vente       date_creation  \\\n",
       "0  bon-cadeau-25-euros         10.0 2018-06-01 13:53:46   \n",
       "1                15298          6.0 2018-02-08 12:58:52   \n",
       "2                15296          0.0 2018-02-08 13:49:41   \n",
       "3                15300          0.0 2018-02-08 14:08:36   \n",
       "4                19814          3.0 2018-02-09 14:01:05   \n",
       "\n",
       "                                         description post_type  \n",
       "0                                  Bon cadeau de 25€   product  \n",
       "1        Pierre Jean Villa Saint-Joseph Préface 2018   product  \n",
       "2    Pierre Jean Villa Saint-Joseph Rouge Tildé 2017   product  \n",
       "3  Pierre Jean Villa Crozes-Hermitage Accroche Co...   product  \n",
       "4  Pierre Jean Villa IGP Collines Rhodaniennes Ga...   product  "
      ]
     },
     "execution_count": 45,
     "metadata": {},
     "output_type": "execute_result"
    }
   ],
   "source": [
    "web.head()"
   ]
  },
  {
   "cell_type": "markdown",
   "id": "8839cea1",
   "metadata": {},
   "source": [
    "### Suppression des type attachment"
   ]
  },
  {
   "cell_type": "code",
   "execution_count": 46,
   "id": "c04fcf6d",
   "metadata": {},
   "outputs": [
    {
     "data": {
      "text/plain": [
       "product       714\n",
       "attachment    714\n",
       "Name: post_type, dtype: int64"
      ]
     },
     "execution_count": 46,
     "metadata": {},
     "output_type": "execute_result"
    }
   ],
   "source": [
    "web['post_type'].value_counts()"
   ]
  },
  {
   "cell_type": "code",
   "execution_count": 47,
   "id": "67ebe652",
   "metadata": {},
   "outputs": [],
   "source": [
    "web.drop(web[web['post_type']=='attachment'].index, inplace=True)"
   ]
  },
  {
   "cell_type": "code",
   "execution_count": 48,
   "id": "edeaac18",
   "metadata": {},
   "outputs": [],
   "source": [
    "web.drop(columns='post_type', inplace=True)"
   ]
  },
  {
   "cell_type": "markdown",
   "id": "7b3644d4",
   "metadata": {},
   "source": [
    "### Modification du type de 'id_web'"
   ]
  },
  {
   "cell_type": "code",
   "execution_count": 49,
   "id": "03545d4a",
   "metadata": {},
   "outputs": [],
   "source": [
    "web.loc[web['id_web']=='bon-cadeau-25-euros', 'id_web']=19823\n",
    "web.loc[web['id_web']=='13127-1', 'id_web']=13128"
   ]
  },
  {
   "cell_type": "code",
   "execution_count": 50,
   "id": "643465ca",
   "metadata": {},
   "outputs": [],
   "source": [
    "web['id_web']=web['id_web'].astype('int64', errors='raise')"
   ]
  },
  {
   "cell_type": "markdown",
   "id": "0ca25993",
   "metadata": {},
   "source": [
    "### Modification du type de 'total_vente'"
   ]
  },
  {
   "cell_type": "code",
   "execution_count": 51,
   "id": "b68af611",
   "metadata": {},
   "outputs": [],
   "source": [
    "web['total_vente']=web['total_vente'].astype('int64', errors='raise')"
   ]
  },
  {
   "cell_type": "code",
   "execution_count": 52,
   "id": "74b7cd65",
   "metadata": {},
   "outputs": [
    {
     "name": "stdout",
     "output_type": "stream",
     "text": [
      "<class 'pandas.core.frame.DataFrame'>\n",
      "Int64Index: 714 entries, 0 to 798\n",
      "Data columns (total 4 columns):\n",
      " #   Column         Non-Null Count  Dtype         \n",
      "---  ------         --------------  -----         \n",
      " 0   id_web         714 non-null    int64         \n",
      " 1   total_vente    714 non-null    int64         \n",
      " 2   date_creation  714 non-null    datetime64[ns]\n",
      " 3   description    714 non-null    object        \n",
      "dtypes: datetime64[ns](1), int64(2), object(1)\n",
      "memory usage: 27.9+ KB\n"
     ]
    }
   ],
   "source": [
    "web.info()"
   ]
  },
  {
   "cell_type": "code",
   "execution_count": 53,
   "id": "0171e923",
   "metadata": {},
   "outputs": [
    {
     "data": {
      "text/html": [
       "<div>\n",
       "<style scoped>\n",
       "    .dataframe tbody tr th:only-of-type {\n",
       "        vertical-align: middle;\n",
       "    }\n",
       "\n",
       "    .dataframe tbody tr th {\n",
       "        vertical-align: top;\n",
       "    }\n",
       "\n",
       "    .dataframe thead th {\n",
       "        text-align: right;\n",
       "    }\n",
       "</style>\n",
       "<table border=\"1\" class=\"dataframe\">\n",
       "  <thead>\n",
       "    <tr style=\"text-align: right;\">\n",
       "      <th></th>\n",
       "      <th>id_web</th>\n",
       "      <th>total_vente</th>\n",
       "    </tr>\n",
       "  </thead>\n",
       "  <tbody>\n",
       "    <tr>\n",
       "      <th>count</th>\n",
       "      <td>714.000000</td>\n",
       "      <td>714.000000</td>\n",
       "    </tr>\n",
       "    <tr>\n",
       "      <th>mean</th>\n",
       "      <td>14485.224090</td>\n",
       "      <td>4.012605</td>\n",
       "    </tr>\n",
       "    <tr>\n",
       "      <th>std</th>\n",
       "      <td>3012.431806</td>\n",
       "      <td>8.518183</td>\n",
       "    </tr>\n",
       "    <tr>\n",
       "      <th>min</th>\n",
       "      <td>38.000000</td>\n",
       "      <td>0.000000</td>\n",
       "    </tr>\n",
       "    <tr>\n",
       "      <th>25%</th>\n",
       "      <td>14367.250000</td>\n",
       "      <td>0.000000</td>\n",
       "    </tr>\n",
       "    <tr>\n",
       "      <th>50%</th>\n",
       "      <td>15380.000000</td>\n",
       "      <td>1.000000</td>\n",
       "    </tr>\n",
       "    <tr>\n",
       "      <th>75%</th>\n",
       "      <td>15880.750000</td>\n",
       "      <td>4.000000</td>\n",
       "    </tr>\n",
       "    <tr>\n",
       "      <th>max</th>\n",
       "      <td>19823.000000</td>\n",
       "      <td>96.000000</td>\n",
       "    </tr>\n",
       "  </tbody>\n",
       "</table>\n",
       "</div>"
      ],
      "text/plain": [
       "             id_web  total_vente\n",
       "count    714.000000   714.000000\n",
       "mean   14485.224090     4.012605\n",
       "std     3012.431806     8.518183\n",
       "min       38.000000     0.000000\n",
       "25%    14367.250000     0.000000\n",
       "50%    15380.000000     1.000000\n",
       "75%    15880.750000     4.000000\n",
       "max    19823.000000    96.000000"
      ]
     },
     "execution_count": 53,
     "metadata": {},
     "output_type": "execute_result"
    }
   ],
   "source": [
    "web.describe()"
   ]
  },
  {
   "cell_type": "markdown",
   "id": "e30cc531",
   "metadata": {},
   "source": [
    "<a id='jointure'></a>\n",
    "## Jointure des 3 fichiers <a href=\"#sommaire\" style=\"font-size : 10px ; padding-left:10px\">Retour Sommaire</a>"
   ]
  },
  {
   "cell_type": "code",
   "execution_count": 54,
   "id": "c806921d",
   "metadata": {},
   "outputs": [
    {
     "data": {
      "text/html": [
       "<div>\n",
       "<style scoped>\n",
       "    .dataframe tbody tr th:only-of-type {\n",
       "        vertical-align: middle;\n",
       "    }\n",
       "\n",
       "    .dataframe tbody tr th {\n",
       "        vertical-align: top;\n",
       "    }\n",
       "\n",
       "    .dataframe thead th {\n",
       "        text-align: right;\n",
       "    }\n",
       "</style>\n",
       "<table border=\"1\" class=\"dataframe\">\n",
       "  <thead>\n",
       "    <tr style=\"text-align: right;\">\n",
       "      <th></th>\n",
       "      <th>id_produit</th>\n",
       "      <th>vente_web</th>\n",
       "      <th>prix</th>\n",
       "      <th>quantite_stock</th>\n",
       "      <th>status_stock</th>\n",
       "    </tr>\n",
       "  </thead>\n",
       "  <tbody>\n",
       "    <tr>\n",
       "      <th>0</th>\n",
       "      <td>3847</td>\n",
       "      <td>1</td>\n",
       "      <td>24.2</td>\n",
       "      <td>0</td>\n",
       "      <td>outofstock</td>\n",
       "    </tr>\n",
       "    <tr>\n",
       "      <th>1</th>\n",
       "      <td>3849</td>\n",
       "      <td>1</td>\n",
       "      <td>34.3</td>\n",
       "      <td>0</td>\n",
       "      <td>outofstock</td>\n",
       "    </tr>\n",
       "    <tr>\n",
       "      <th>2</th>\n",
       "      <td>3850</td>\n",
       "      <td>1</td>\n",
       "      <td>20.8</td>\n",
       "      <td>0</td>\n",
       "      <td>outofstock</td>\n",
       "    </tr>\n",
       "    <tr>\n",
       "      <th>3</th>\n",
       "      <td>4032</td>\n",
       "      <td>1</td>\n",
       "      <td>14.1</td>\n",
       "      <td>0</td>\n",
       "      <td>outofstock</td>\n",
       "    </tr>\n",
       "    <tr>\n",
       "      <th>4</th>\n",
       "      <td>4039</td>\n",
       "      <td>1</td>\n",
       "      <td>46.0</td>\n",
       "      <td>0</td>\n",
       "      <td>outofstock</td>\n",
       "    </tr>\n",
       "  </tbody>\n",
       "</table>\n",
       "</div>"
      ],
      "text/plain": [
       "   id_produit vente_web  prix  quantite_stock status_stock\n",
       "0        3847         1  24.2               0   outofstock\n",
       "1        3849         1  34.3               0   outofstock\n",
       "2        3850         1  20.8               0   outofstock\n",
       "3        4032         1  14.1               0   outofstock\n",
       "4        4039         1  46.0               0   outofstock"
      ]
     },
     "execution_count": 54,
     "metadata": {},
     "output_type": "execute_result"
    }
   ],
   "source": [
    "erp.head()"
   ]
  },
  {
   "cell_type": "code",
   "execution_count": 55,
   "id": "971570b3",
   "metadata": {},
   "outputs": [
    {
     "data": {
      "text/html": [
       "<div>\n",
       "<style scoped>\n",
       "    .dataframe tbody tr th:only-of-type {\n",
       "        vertical-align: middle;\n",
       "    }\n",
       "\n",
       "    .dataframe tbody tr th {\n",
       "        vertical-align: top;\n",
       "    }\n",
       "\n",
       "    .dataframe thead th {\n",
       "        text-align: right;\n",
       "    }\n",
       "</style>\n",
       "<table border=\"1\" class=\"dataframe\">\n",
       "  <thead>\n",
       "    <tr style=\"text-align: right;\">\n",
       "      <th></th>\n",
       "      <th>id_web</th>\n",
       "      <th>total_vente</th>\n",
       "      <th>date_creation</th>\n",
       "      <th>description</th>\n",
       "    </tr>\n",
       "  </thead>\n",
       "  <tbody>\n",
       "    <tr>\n",
       "      <th>0</th>\n",
       "      <td>19823</td>\n",
       "      <td>10</td>\n",
       "      <td>2018-06-01 13:53:46</td>\n",
       "      <td>Bon cadeau de 25€</td>\n",
       "    </tr>\n",
       "    <tr>\n",
       "      <th>1</th>\n",
       "      <td>15298</td>\n",
       "      <td>6</td>\n",
       "      <td>2018-02-08 12:58:52</td>\n",
       "      <td>Pierre Jean Villa Saint-Joseph Préface 2018</td>\n",
       "    </tr>\n",
       "    <tr>\n",
       "      <th>2</th>\n",
       "      <td>15296</td>\n",
       "      <td>0</td>\n",
       "      <td>2018-02-08 13:49:41</td>\n",
       "      <td>Pierre Jean Villa Saint-Joseph Rouge Tildé 2017</td>\n",
       "    </tr>\n",
       "    <tr>\n",
       "      <th>3</th>\n",
       "      <td>15300</td>\n",
       "      <td>0</td>\n",
       "      <td>2018-02-08 14:08:36</td>\n",
       "      <td>Pierre Jean Villa Crozes-Hermitage Accroche Co...</td>\n",
       "    </tr>\n",
       "    <tr>\n",
       "      <th>4</th>\n",
       "      <td>19814</td>\n",
       "      <td>3</td>\n",
       "      <td>2018-02-09 14:01:05</td>\n",
       "      <td>Pierre Jean Villa IGP Collines Rhodaniennes Ga...</td>\n",
       "    </tr>\n",
       "  </tbody>\n",
       "</table>\n",
       "</div>"
      ],
      "text/plain": [
       "   id_web  total_vente       date_creation  \\\n",
       "0   19823           10 2018-06-01 13:53:46   \n",
       "1   15298            6 2018-02-08 12:58:52   \n",
       "2   15296            0 2018-02-08 13:49:41   \n",
       "3   15300            0 2018-02-08 14:08:36   \n",
       "4   19814            3 2018-02-09 14:01:05   \n",
       "\n",
       "                                         description  \n",
       "0                                  Bon cadeau de 25€  \n",
       "1        Pierre Jean Villa Saint-Joseph Préface 2018  \n",
       "2    Pierre Jean Villa Saint-Joseph Rouge Tildé 2017  \n",
       "3  Pierre Jean Villa Crozes-Hermitage Accroche Co...  \n",
       "4  Pierre Jean Villa IGP Collines Rhodaniennes Ga...  "
      ]
     },
     "execution_count": 55,
     "metadata": {},
     "output_type": "execute_result"
    }
   ],
   "source": [
    "web.head()"
   ]
  },
  {
   "cell_type": "code",
   "execution_count": 56,
   "id": "ce45285f",
   "metadata": {},
   "outputs": [],
   "source": [
    "jointure_inter=pd.merge(erp, liaison, how='left', on='id_produit')"
   ]
  },
  {
   "cell_type": "code",
   "execution_count": 57,
   "id": "9980c89b",
   "metadata": {},
   "outputs": [
    {
     "data": {
      "text/html": [
       "<div>\n",
       "<style scoped>\n",
       "    .dataframe tbody tr th:only-of-type {\n",
       "        vertical-align: middle;\n",
       "    }\n",
       "\n",
       "    .dataframe tbody tr th {\n",
       "        vertical-align: top;\n",
       "    }\n",
       "\n",
       "    .dataframe thead th {\n",
       "        text-align: right;\n",
       "    }\n",
       "</style>\n",
       "<table border=\"1\" class=\"dataframe\">\n",
       "  <thead>\n",
       "    <tr style=\"text-align: right;\">\n",
       "      <th></th>\n",
       "      <th>id_produit</th>\n",
       "      <th>vente_web</th>\n",
       "      <th>prix</th>\n",
       "      <th>quantite_stock</th>\n",
       "      <th>status_stock</th>\n",
       "      <th>id_web</th>\n",
       "    </tr>\n",
       "  </thead>\n",
       "  <tbody>\n",
       "    <tr>\n",
       "      <th>0</th>\n",
       "      <td>3847</td>\n",
       "      <td>1</td>\n",
       "      <td>24.2</td>\n",
       "      <td>0</td>\n",
       "      <td>outofstock</td>\n",
       "      <td>15298.0</td>\n",
       "    </tr>\n",
       "    <tr>\n",
       "      <th>1</th>\n",
       "      <td>3849</td>\n",
       "      <td>1</td>\n",
       "      <td>34.3</td>\n",
       "      <td>0</td>\n",
       "      <td>outofstock</td>\n",
       "      <td>15296.0</td>\n",
       "    </tr>\n",
       "    <tr>\n",
       "      <th>2</th>\n",
       "      <td>3850</td>\n",
       "      <td>1</td>\n",
       "      <td>20.8</td>\n",
       "      <td>0</td>\n",
       "      <td>outofstock</td>\n",
       "      <td>15300.0</td>\n",
       "    </tr>\n",
       "    <tr>\n",
       "      <th>3</th>\n",
       "      <td>4032</td>\n",
       "      <td>1</td>\n",
       "      <td>14.1</td>\n",
       "      <td>0</td>\n",
       "      <td>outofstock</td>\n",
       "      <td>19814.0</td>\n",
       "    </tr>\n",
       "    <tr>\n",
       "      <th>4</th>\n",
       "      <td>4039</td>\n",
       "      <td>1</td>\n",
       "      <td>46.0</td>\n",
       "      <td>0</td>\n",
       "      <td>outofstock</td>\n",
       "      <td>19815.0</td>\n",
       "    </tr>\n",
       "  </tbody>\n",
       "</table>\n",
       "</div>"
      ],
      "text/plain": [
       "   id_produit vente_web  prix  quantite_stock status_stock   id_web\n",
       "0        3847         1  24.2               0   outofstock  15298.0\n",
       "1        3849         1  34.3               0   outofstock  15296.0\n",
       "2        3850         1  20.8               0   outofstock  15300.0\n",
       "3        4032         1  14.1               0   outofstock  19814.0\n",
       "4        4039         1  46.0               0   outofstock  19815.0"
      ]
     },
     "execution_count": 57,
     "metadata": {},
     "output_type": "execute_result"
    }
   ],
   "source": [
    "jointure_inter.head()"
   ]
  },
  {
   "cell_type": "code",
   "execution_count": 58,
   "id": "c327bf7e",
   "metadata": {},
   "outputs": [],
   "source": [
    "df_global=pd.merge(jointure_inter, web, how='left', on='id_web')"
   ]
  },
  {
   "cell_type": "code",
   "execution_count": 59,
   "id": "a6b68bc8",
   "metadata": {
    "scrolled": true
   },
   "outputs": [
    {
     "data": {
      "text/html": [
       "<div>\n",
       "<style scoped>\n",
       "    .dataframe tbody tr th:only-of-type {\n",
       "        vertical-align: middle;\n",
       "    }\n",
       "\n",
       "    .dataframe tbody tr th {\n",
       "        vertical-align: top;\n",
       "    }\n",
       "\n",
       "    .dataframe thead th {\n",
       "        text-align: right;\n",
       "    }\n",
       "</style>\n",
       "<table border=\"1\" class=\"dataframe\">\n",
       "  <thead>\n",
       "    <tr style=\"text-align: right;\">\n",
       "      <th></th>\n",
       "      <th>id_produit</th>\n",
       "      <th>vente_web</th>\n",
       "      <th>prix</th>\n",
       "      <th>quantite_stock</th>\n",
       "      <th>status_stock</th>\n",
       "      <th>id_web</th>\n",
       "      <th>total_vente</th>\n",
       "      <th>date_creation</th>\n",
       "      <th>description</th>\n",
       "    </tr>\n",
       "  </thead>\n",
       "  <tbody>\n",
       "    <tr>\n",
       "      <th>0</th>\n",
       "      <td>3847</td>\n",
       "      <td>1</td>\n",
       "      <td>24.2</td>\n",
       "      <td>0</td>\n",
       "      <td>outofstock</td>\n",
       "      <td>15298.0</td>\n",
       "      <td>6.0</td>\n",
       "      <td>2018-02-08 12:58:52</td>\n",
       "      <td>Pierre Jean Villa Saint-Joseph Préface 2018</td>\n",
       "    </tr>\n",
       "    <tr>\n",
       "      <th>1</th>\n",
       "      <td>3849</td>\n",
       "      <td>1</td>\n",
       "      <td>34.3</td>\n",
       "      <td>0</td>\n",
       "      <td>outofstock</td>\n",
       "      <td>15296.0</td>\n",
       "      <td>0.0</td>\n",
       "      <td>2018-02-08 13:49:41</td>\n",
       "      <td>Pierre Jean Villa Saint-Joseph Rouge Tildé 2017</td>\n",
       "    </tr>\n",
       "    <tr>\n",
       "      <th>2</th>\n",
       "      <td>3850</td>\n",
       "      <td>1</td>\n",
       "      <td>20.8</td>\n",
       "      <td>0</td>\n",
       "      <td>outofstock</td>\n",
       "      <td>15300.0</td>\n",
       "      <td>0.0</td>\n",
       "      <td>2018-02-08 14:08:36</td>\n",
       "      <td>Pierre Jean Villa Crozes-Hermitage Accroche Co...</td>\n",
       "    </tr>\n",
       "    <tr>\n",
       "      <th>3</th>\n",
       "      <td>4032</td>\n",
       "      <td>1</td>\n",
       "      <td>14.1</td>\n",
       "      <td>0</td>\n",
       "      <td>outofstock</td>\n",
       "      <td>19814.0</td>\n",
       "      <td>3.0</td>\n",
       "      <td>2018-02-09 14:01:05</td>\n",
       "      <td>Pierre Jean Villa IGP Collines Rhodaniennes Ga...</td>\n",
       "    </tr>\n",
       "    <tr>\n",
       "      <th>4</th>\n",
       "      <td>4039</td>\n",
       "      <td>1</td>\n",
       "      <td>46.0</td>\n",
       "      <td>0</td>\n",
       "      <td>outofstock</td>\n",
       "      <td>19815.0</td>\n",
       "      <td>0.0</td>\n",
       "      <td>2018-02-12 09:04:37</td>\n",
       "      <td>Pierre Jean Villa Côte Rôtie Carmina 2017</td>\n",
       "    </tr>\n",
       "  </tbody>\n",
       "</table>\n",
       "</div>"
      ],
      "text/plain": [
       "   id_produit vente_web  prix  quantite_stock status_stock   id_web  \\\n",
       "0        3847         1  24.2               0   outofstock  15298.0   \n",
       "1        3849         1  34.3               0   outofstock  15296.0   \n",
       "2        3850         1  20.8               0   outofstock  15300.0   \n",
       "3        4032         1  14.1               0   outofstock  19814.0   \n",
       "4        4039         1  46.0               0   outofstock  19815.0   \n",
       "\n",
       "   total_vente       date_creation  \\\n",
       "0          6.0 2018-02-08 12:58:52   \n",
       "1          0.0 2018-02-08 13:49:41   \n",
       "2          0.0 2018-02-08 14:08:36   \n",
       "3          3.0 2018-02-09 14:01:05   \n",
       "4          0.0 2018-02-12 09:04:37   \n",
       "\n",
       "                                         description  \n",
       "0        Pierre Jean Villa Saint-Joseph Préface 2018  \n",
       "1    Pierre Jean Villa Saint-Joseph Rouge Tildé 2017  \n",
       "2  Pierre Jean Villa Crozes-Hermitage Accroche Co...  \n",
       "3  Pierre Jean Villa IGP Collines Rhodaniennes Ga...  \n",
       "4          Pierre Jean Villa Côte Rôtie Carmina 2017  "
      ]
     },
     "execution_count": 59,
     "metadata": {},
     "output_type": "execute_result"
    }
   ],
   "source": [
    "df_global.head()"
   ]
  },
  {
   "cell_type": "code",
   "execution_count": 60,
   "id": "eab5f8b6",
   "metadata": {},
   "outputs": [
    {
     "name": "stdout",
     "output_type": "stream",
     "text": [
      "<class 'pandas.core.frame.DataFrame'>\n",
      "Int64Index: 825 entries, 0 to 824\n",
      "Data columns (total 9 columns):\n",
      " #   Column          Non-Null Count  Dtype         \n",
      "---  ------          --------------  -----         \n",
      " 0   id_produit      825 non-null    int64         \n",
      " 1   vente_web       825 non-null    category      \n",
      " 2   prix            825 non-null    float64       \n",
      " 3   quantite_stock  825 non-null    int64         \n",
      " 4   status_stock    825 non-null    category      \n",
      " 5   id_web          733 non-null    float64       \n",
      " 6   total_vente     714 non-null    float64       \n",
      " 7   date_creation   714 non-null    datetime64[ns]\n",
      " 8   description     714 non-null    object        \n",
      "dtypes: category(2), datetime64[ns](1), float64(3), int64(2), object(1)\n",
      "memory usage: 53.4+ KB\n"
     ]
    }
   ],
   "source": [
    "df_global.info()"
   ]
  },
  {
   "cell_type": "code",
   "execution_count": 61,
   "id": "4d78e576",
   "metadata": {},
   "outputs": [
    {
     "data": {
      "text/html": [
       "<div>\n",
       "<style scoped>\n",
       "    .dataframe tbody tr th:only-of-type {\n",
       "        vertical-align: middle;\n",
       "    }\n",
       "\n",
       "    .dataframe tbody tr th {\n",
       "        vertical-align: top;\n",
       "    }\n",
       "\n",
       "    .dataframe thead th {\n",
       "        text-align: right;\n",
       "    }\n",
       "</style>\n",
       "<table border=\"1\" class=\"dataframe\">\n",
       "  <thead>\n",
       "    <tr style=\"text-align: right;\">\n",
       "      <th></th>\n",
       "      <th>id_produit</th>\n",
       "      <th>prix</th>\n",
       "      <th>quantite_stock</th>\n",
       "      <th>id_web</th>\n",
       "      <th>total_vente</th>\n",
       "    </tr>\n",
       "  </thead>\n",
       "  <tbody>\n",
       "    <tr>\n",
       "      <th>count</th>\n",
       "      <td>825.000000</td>\n",
       "      <td>825.000000</td>\n",
       "      <td>825.000000</td>\n",
       "      <td>733.00000</td>\n",
       "      <td>714.000000</td>\n",
       "    </tr>\n",
       "    <tr>\n",
       "      <th>mean</th>\n",
       "      <td>5162.597576</td>\n",
       "      <td>32.415636</td>\n",
       "      <td>26.496970</td>\n",
       "      <td>14491.86221</td>\n",
       "      <td>4.012605</td>\n",
       "    </tr>\n",
       "    <tr>\n",
       "      <th>std</th>\n",
       "      <td>902.644635</td>\n",
       "      <td>26.795849</td>\n",
       "      <td>45.892422</td>\n",
       "      <td>2975.99534</td>\n",
       "      <td>8.518183</td>\n",
       "    </tr>\n",
       "    <tr>\n",
       "      <th>min</th>\n",
       "      <td>3847.000000</td>\n",
       "      <td>5.200000</td>\n",
       "      <td>0.000000</td>\n",
       "      <td>38.00000</td>\n",
       "      <td>0.000000</td>\n",
       "    </tr>\n",
       "    <tr>\n",
       "      <th>25%</th>\n",
       "      <td>4348.000000</td>\n",
       "      <td>14.600000</td>\n",
       "      <td>1.000000</td>\n",
       "      <td>14371.00000</td>\n",
       "      <td>0.000000</td>\n",
       "    </tr>\n",
       "    <tr>\n",
       "      <th>50%</th>\n",
       "      <td>4907.000000</td>\n",
       "      <td>24.400000</td>\n",
       "      <td>11.000000</td>\n",
       "      <td>15361.00000</td>\n",
       "      <td>1.000000</td>\n",
       "    </tr>\n",
       "    <tr>\n",
       "      <th>75%</th>\n",
       "      <td>5805.000000</td>\n",
       "      <td>42.000000</td>\n",
       "      <td>34.000000</td>\n",
       "      <td>15870.00000</td>\n",
       "      <td>4.000000</td>\n",
       "    </tr>\n",
       "    <tr>\n",
       "      <th>max</th>\n",
       "      <td>7338.000000</td>\n",
       "      <td>225.000000</td>\n",
       "      <td>578.000000</td>\n",
       "      <td>19823.00000</td>\n",
       "      <td>96.000000</td>\n",
       "    </tr>\n",
       "  </tbody>\n",
       "</table>\n",
       "</div>"
      ],
      "text/plain": [
       "        id_produit        prix  quantite_stock       id_web  total_vente\n",
       "count   825.000000  825.000000      825.000000    733.00000   714.000000\n",
       "mean   5162.597576   32.415636       26.496970  14491.86221     4.012605\n",
       "std     902.644635   26.795849       45.892422   2975.99534     8.518183\n",
       "min    3847.000000    5.200000        0.000000     38.00000     0.000000\n",
       "25%    4348.000000   14.600000        1.000000  14371.00000     0.000000\n",
       "50%    4907.000000   24.400000       11.000000  15361.00000     1.000000\n",
       "75%    5805.000000   42.000000       34.000000  15870.00000     4.000000\n",
       "max    7338.000000  225.000000      578.000000  19823.00000    96.000000"
      ]
     },
     "execution_count": 61,
     "metadata": {},
     "output_type": "execute_result"
    }
   ],
   "source": [
    "df_global.describe()"
   ]
  },
  {
   "cell_type": "markdown",
   "id": "c9eafda3",
   "metadata": {},
   "source": [
    "### Création de la colonne CA"
   ]
  },
  {
   "cell_type": "code",
   "execution_count": 62,
   "id": "7526758e",
   "metadata": {},
   "outputs": [],
   "source": [
    "df_global['CA']=df_global['prix']*df_global['total_vente']"
   ]
  },
  {
   "cell_type": "code",
   "execution_count": 63,
   "id": "efac0d49",
   "metadata": {},
   "outputs": [
    {
     "data": {
      "text/html": [
       "<div>\n",
       "<style scoped>\n",
       "    .dataframe tbody tr th:only-of-type {\n",
       "        vertical-align: middle;\n",
       "    }\n",
       "\n",
       "    .dataframe tbody tr th {\n",
       "        vertical-align: top;\n",
       "    }\n",
       "\n",
       "    .dataframe thead th {\n",
       "        text-align: right;\n",
       "    }\n",
       "</style>\n",
       "<table border=\"1\" class=\"dataframe\">\n",
       "  <thead>\n",
       "    <tr style=\"text-align: right;\">\n",
       "      <th></th>\n",
       "      <th>id_produit</th>\n",
       "      <th>vente_web</th>\n",
       "      <th>prix</th>\n",
       "      <th>quantite_stock</th>\n",
       "      <th>status_stock</th>\n",
       "      <th>id_web</th>\n",
       "      <th>total_vente</th>\n",
       "      <th>date_creation</th>\n",
       "      <th>description</th>\n",
       "      <th>CA</th>\n",
       "    </tr>\n",
       "  </thead>\n",
       "  <tbody>\n",
       "    <tr>\n",
       "      <th>0</th>\n",
       "      <td>3847</td>\n",
       "      <td>1</td>\n",
       "      <td>24.2</td>\n",
       "      <td>0</td>\n",
       "      <td>outofstock</td>\n",
       "      <td>15298.0</td>\n",
       "      <td>6.0</td>\n",
       "      <td>2018-02-08 12:58:52</td>\n",
       "      <td>Pierre Jean Villa Saint-Joseph Préface 2018</td>\n",
       "      <td>145.2</td>\n",
       "    </tr>\n",
       "    <tr>\n",
       "      <th>1</th>\n",
       "      <td>3849</td>\n",
       "      <td>1</td>\n",
       "      <td>34.3</td>\n",
       "      <td>0</td>\n",
       "      <td>outofstock</td>\n",
       "      <td>15296.0</td>\n",
       "      <td>0.0</td>\n",
       "      <td>2018-02-08 13:49:41</td>\n",
       "      <td>Pierre Jean Villa Saint-Joseph Rouge Tildé 2017</td>\n",
       "      <td>0.0</td>\n",
       "    </tr>\n",
       "    <tr>\n",
       "      <th>2</th>\n",
       "      <td>3850</td>\n",
       "      <td>1</td>\n",
       "      <td>20.8</td>\n",
       "      <td>0</td>\n",
       "      <td>outofstock</td>\n",
       "      <td>15300.0</td>\n",
       "      <td>0.0</td>\n",
       "      <td>2018-02-08 14:08:36</td>\n",
       "      <td>Pierre Jean Villa Crozes-Hermitage Accroche Co...</td>\n",
       "      <td>0.0</td>\n",
       "    </tr>\n",
       "    <tr>\n",
       "      <th>3</th>\n",
       "      <td>4032</td>\n",
       "      <td>1</td>\n",
       "      <td>14.1</td>\n",
       "      <td>0</td>\n",
       "      <td>outofstock</td>\n",
       "      <td>19814.0</td>\n",
       "      <td>3.0</td>\n",
       "      <td>2018-02-09 14:01:05</td>\n",
       "      <td>Pierre Jean Villa IGP Collines Rhodaniennes Ga...</td>\n",
       "      <td>42.3</td>\n",
       "    </tr>\n",
       "    <tr>\n",
       "      <th>4</th>\n",
       "      <td>4039</td>\n",
       "      <td>1</td>\n",
       "      <td>46.0</td>\n",
       "      <td>0</td>\n",
       "      <td>outofstock</td>\n",
       "      <td>19815.0</td>\n",
       "      <td>0.0</td>\n",
       "      <td>2018-02-12 09:04:37</td>\n",
       "      <td>Pierre Jean Villa Côte Rôtie Carmina 2017</td>\n",
       "      <td>0.0</td>\n",
       "    </tr>\n",
       "    <tr>\n",
       "      <th>...</th>\n",
       "      <td>...</td>\n",
       "      <td>...</td>\n",
       "      <td>...</td>\n",
       "      <td>...</td>\n",
       "      <td>...</td>\n",
       "      <td>...</td>\n",
       "      <td>...</td>\n",
       "      <td>...</td>\n",
       "      <td>...</td>\n",
       "      <td>...</td>\n",
       "    </tr>\n",
       "    <tr>\n",
       "      <th>820</th>\n",
       "      <td>7203</td>\n",
       "      <td>0</td>\n",
       "      <td>45.0</td>\n",
       "      <td>30</td>\n",
       "      <td>instock</td>\n",
       "      <td>NaN</td>\n",
       "      <td>NaN</td>\n",
       "      <td>NaT</td>\n",
       "      <td>NaN</td>\n",
       "      <td>NaN</td>\n",
       "    </tr>\n",
       "    <tr>\n",
       "      <th>821</th>\n",
       "      <td>7204</td>\n",
       "      <td>0</td>\n",
       "      <td>45.0</td>\n",
       "      <td>9</td>\n",
       "      <td>instock</td>\n",
       "      <td>NaN</td>\n",
       "      <td>NaN</td>\n",
       "      <td>NaT</td>\n",
       "      <td>NaN</td>\n",
       "      <td>NaN</td>\n",
       "    </tr>\n",
       "    <tr>\n",
       "      <th>822</th>\n",
       "      <td>7247</td>\n",
       "      <td>1</td>\n",
       "      <td>54.8</td>\n",
       "      <td>23</td>\n",
       "      <td>instock</td>\n",
       "      <td>13128.0</td>\n",
       "      <td>0.0</td>\n",
       "      <td>2020-06-09 15:42:04</td>\n",
       "      <td>Clos du Mont-Olivet Châteauneuf-du-Pape 2007</td>\n",
       "      <td>0.0</td>\n",
       "    </tr>\n",
       "    <tr>\n",
       "      <th>823</th>\n",
       "      <td>7329</td>\n",
       "      <td>0</td>\n",
       "      <td>26.5</td>\n",
       "      <td>14</td>\n",
       "      <td>instock</td>\n",
       "      <td>NaN</td>\n",
       "      <td>NaN</td>\n",
       "      <td>NaT</td>\n",
       "      <td>NaN</td>\n",
       "      <td>NaN</td>\n",
       "    </tr>\n",
       "    <tr>\n",
       "      <th>824</th>\n",
       "      <td>7338</td>\n",
       "      <td>1</td>\n",
       "      <td>16.3</td>\n",
       "      <td>45</td>\n",
       "      <td>instock</td>\n",
       "      <td>16230.0</td>\n",
       "      <td>0.0</td>\n",
       "      <td>2020-07-20 11:00:00</td>\n",
       "      <td>Domaine Saint-Nicolas Vin de France Blanc Les ...</td>\n",
       "      <td>0.0</td>\n",
       "    </tr>\n",
       "  </tbody>\n",
       "</table>\n",
       "<p>825 rows × 10 columns</p>\n",
       "</div>"
      ],
      "text/plain": [
       "     id_produit vente_web  prix  quantite_stock status_stock   id_web  \\\n",
       "0          3847         1  24.2               0   outofstock  15298.0   \n",
       "1          3849         1  34.3               0   outofstock  15296.0   \n",
       "2          3850         1  20.8               0   outofstock  15300.0   \n",
       "3          4032         1  14.1               0   outofstock  19814.0   \n",
       "4          4039         1  46.0               0   outofstock  19815.0   \n",
       "..          ...       ...   ...             ...          ...      ...   \n",
       "820        7203         0  45.0              30      instock      NaN   \n",
       "821        7204         0  45.0               9      instock      NaN   \n",
       "822        7247         1  54.8              23      instock  13128.0   \n",
       "823        7329         0  26.5              14      instock      NaN   \n",
       "824        7338         1  16.3              45      instock  16230.0   \n",
       "\n",
       "     total_vente       date_creation  \\\n",
       "0            6.0 2018-02-08 12:58:52   \n",
       "1            0.0 2018-02-08 13:49:41   \n",
       "2            0.0 2018-02-08 14:08:36   \n",
       "3            3.0 2018-02-09 14:01:05   \n",
       "4            0.0 2018-02-12 09:04:37   \n",
       "..           ...                 ...   \n",
       "820          NaN                 NaT   \n",
       "821          NaN                 NaT   \n",
       "822          0.0 2020-06-09 15:42:04   \n",
       "823          NaN                 NaT   \n",
       "824          0.0 2020-07-20 11:00:00   \n",
       "\n",
       "                                           description     CA  \n",
       "0          Pierre Jean Villa Saint-Joseph Préface 2018  145.2  \n",
       "1      Pierre Jean Villa Saint-Joseph Rouge Tildé 2017    0.0  \n",
       "2    Pierre Jean Villa Crozes-Hermitage Accroche Co...    0.0  \n",
       "3    Pierre Jean Villa IGP Collines Rhodaniennes Ga...   42.3  \n",
       "4            Pierre Jean Villa Côte Rôtie Carmina 2017    0.0  \n",
       "..                                                 ...    ...  \n",
       "820                                                NaN    NaN  \n",
       "821                                                NaN    NaN  \n",
       "822       Clos du Mont-Olivet Châteauneuf-du-Pape 2007    0.0  \n",
       "823                                                NaN    NaN  \n",
       "824  Domaine Saint-Nicolas Vin de France Blanc Les ...    0.0  \n",
       "\n",
       "[825 rows x 10 columns]"
      ]
     },
     "execution_count": 63,
     "metadata": {},
     "output_type": "execute_result"
    }
   ],
   "source": [
    "df_global"
   ]
  },
  {
   "cell_type": "markdown",
   "id": "aeac1e79",
   "metadata": {},
   "source": [
    "<a id='ca'></a>\n",
    "## Chiffre d'affaires global <a href=\"#sommaire\" style=\"font-size : 10px ; padding-left:10px\">Retour Sommaire</a>"
   ]
  },
  {
   "cell_type": "code",
   "execution_count": 64,
   "id": "78b2400d",
   "metadata": {},
   "outputs": [
    {
     "data": {
      "text/plain": [
       "70568.6"
      ]
     },
     "execution_count": 64,
     "metadata": {},
     "output_type": "execute_result"
    }
   ],
   "source": [
    "df_global['CA'].sum()"
   ]
  },
  {
   "cell_type": "markdown",
   "id": "93ed79a4",
   "metadata": {},
   "source": [
    "On a donc un chiffre d'affaires de 70 568,60€ pour l'ensemble de produits vendus."
   ]
  },
  {
   "cell_type": "markdown",
   "id": "4e3e29ea",
   "metadata": {},
   "source": [
    "<a id='analyse_univariee'></a>\n",
    "## Analyse univariée de la variable prix <a href=\"#sommaire\" style=\"font-size : 10px ; padding-left:10px\">Retour Sommaire</a>"
   ]
  },
  {
   "cell_type": "markdown",
   "id": "85689735",
   "metadata": {},
   "source": [
    "### Histogramme"
   ]
  },
  {
   "cell_type": "code",
   "execution_count": 124,
   "id": "7cda84b6",
   "metadata": {},
   "outputs": [
    {
     "data": {
      "text/plain": [
       "Text(0.5, 1.0, 'Distribution du prix des bouteilles de vin')"
      ]
     },
     "execution_count": 124,
     "metadata": {},
     "output_type": "execute_result"
    },
    {
     "data": {
      "image/png": "[encoded data removed]",
      "text/plain": [
       "<Figure size 640x480 with 1 Axes>"
      ]
     },
     "metadata": {},
     "output_type": "display_data"
    }
   ],
   "source": [
    "sns.histplot((erp['prix']))\n",
    "plt.ylabel(None)\n",
    "plt.xlabel('Prix (€)')\n",
    "plt.title('Distribution du prix des bouteilles de vin')"
   ]
  },
  {
   "cell_type": "markdown",
   "id": "b0364501",
   "metadata": {},
   "source": [
    "### Les mesures de tendance centrale"
   ]
  },
  {
   "cell_type": "code",
   "execution_count": 66,
   "id": "24b21789",
   "metadata": {},
   "outputs": [
    {
     "name": "stdout",
     "output_type": "stream",
     "text": [
      "La moyenne de l'échantillon est de 32.41563636363638 \n",
      " La médiane est de 24.4 \n",
      " Le mode est de 0    45.0\n",
      "Name: prix, dtype: float64\n"
     ]
    }
   ],
   "source": [
    "print(\"La moyenne de l'échantillon est de\", erp['prix'].mean(),'\\n',\n",
    "\"La médiane est de\",erp['prix'].median(),'\\n',\n",
    "\"Le mode est de\",erp['prix'].mode())"
   ]
  },
  {
   "cell_type": "markdown",
   "id": "745158c1",
   "metadata": {},
   "source": [
    "On peut voir que ces 3 valeurs sont éloignées, on peut déjà conclure que la distribution des valeurs de l'échantillon ne suit pas une loi normale."
   ]
  },
  {
   "cell_type": "markdown",
   "id": "a8131ff4",
   "metadata": {},
   "source": [
    "### Calcul de la moyenne tronquée\n",
    "Le calcul de la moyenne tronquée se faire en enlevant les outliers de l'échantillon, et plus précisement en retirant 2,5% des valeurs minimales et 2,5% des valeurs maximales."
   ]
  },
  {
   "cell_type": "code",
   "execution_count": 67,
   "id": "68a8ae8a",
   "metadata": {},
   "outputs": [
    {
     "data": {
      "text/plain": [
       "30.27044585987261"
      ]
     },
     "execution_count": 67,
     "metadata": {},
     "output_type": "execute_result"
    }
   ],
   "source": [
    "# Je retire ici 2,5% des valeurs min et max de l'échantillon et je calcule la moyenne\n",
    "erp['prix'].sort_values()[(int(0.025*erp['prix'].shape[0])):-(int(0.025*erp['prix'].shape[0]))].mean()"
   ]
  },
  {
   "cell_type": "markdown",
   "id": "7546a9d0",
   "metadata": {},
   "source": [
    "La moyenne tronquée est donc de 30.27, cela semble plus juste au regard de la médiane notamment."
   ]
  },
  {
   "cell_type": "markdown",
   "id": "1fa92951",
   "metadata": {},
   "source": [
    "### Les mesures de dispersion"
   ]
  },
  {
   "cell_type": "code",
   "execution_count": 68,
   "id": "54de3c37",
   "metadata": {},
   "outputs": [
    {
     "data": {
      "text/plain": [
       "718.0175343336277"
      ]
     },
     "execution_count": 68,
     "metadata": {},
     "output_type": "execute_result"
    }
   ],
   "source": [
    "# La variance\n",
    "erp['prix'].var()"
   ]
  },
  {
   "cell_type": "code",
   "execution_count": 69,
   "id": "59faae80",
   "metadata": {},
   "outputs": [
    {
     "data": {
      "text/plain": [
       "717.147210049587"
      ]
     },
     "execution_count": 69,
     "metadata": {},
     "output_type": "execute_result"
    }
   ],
   "source": [
    "# La variance sans biais\n",
    "erp['prix'].var(ddof=0)"
   ]
  },
  {
   "cell_type": "code",
   "execution_count": 70,
   "id": "058d5a07",
   "metadata": {},
   "outputs": [
    {
     "data": {
      "text/plain": [
       "26.795849199710535"
      ]
     },
     "execution_count": 70,
     "metadata": {},
     "output_type": "execute_result"
    }
   ],
   "source": [
    "# L'écart type\n",
    "erp['prix'].std()"
   ]
  },
  {
   "cell_type": "code",
   "execution_count": 71,
   "id": "e891a589",
   "metadata": {},
   "outputs": [
    {
     "data": {
      "text/plain": [
       "0.8266334462515725"
      ]
     },
     "execution_count": 71,
     "metadata": {},
     "output_type": "execute_result"
    }
   ],
   "source": [
    "# Le coefficient de variation\n",
    "erp['prix'].std()/erp['prix'].mean()"
   ]
  },
  {
   "cell_type": "markdown",
   "id": "a04c01fa",
   "metadata": {},
   "source": [
    "Ce coefficient de variation est énorme, idéalement, on aime avoir un coefficient de variation inférieur à 0.15, et on considère que la distribution de l'échantillon est trop dispersée si son coefficient de variation est supérieur à 0.30."
   ]
  },
  {
   "cell_type": "markdown",
   "id": "3ffaefe3",
   "metadata": {},
   "source": [
    "### La boxplot"
   ]
  },
  {
   "cell_type": "code",
   "execution_count": 72,
   "id": "8a42318f",
   "metadata": {},
   "outputs": [
    {
     "data": {
      "text/plain": [
       "Text(0.5, 1.0, \"Boxplot des prix sans les 2,5% d'outliers min et max\")"
      ]
     },
     "execution_count": 72,
     "metadata": {},
     "output_type": "execute_result"
    },
    {
     "data": {
      "image/png": "[encoded data removed]",
      "text/plain": [
       "<Figure size 1000x1000 with 2 Axes>"
      ]
     },
     "metadata": {},
     "output_type": "display_data"
    }
   ],
   "source": [
    "plt.figure(figsize=(10,10))\n",
    "\n",
    "plt.subplot(2,1,1)\n",
    "sns.boxplot(erp['prix'])\n",
    "plt.xticks(np.arange(0,250,20))\n",
    "plt.xlabel(None)\n",
    "plt.title('Boxplot des prix')\n",
    "\n",
    "plt.subplot(2,1,2)\n",
    "sns.boxplot(erp['prix'].sort_values()[(int(0.025*erp['prix'].shape[0])):-(int(0.025*erp['prix'].shape[0]))])\n",
    "plt.xticks(np.arange(0,250,20))\n",
    "plt.title(\"Boxplot des prix sans les 2,5% d'outliers min et max\")"
   ]
  },
  {
   "cell_type": "markdown",
   "id": "38db38b3",
   "metadata": {},
   "source": [
    "On peut voir sur la première boxplot beaucoup de prix considérés abberants par la diagramme boite à moustaches, tous les prix supérieur à **Q3 + 1.5 * IQR** soit 83.10€."
   ]
  },
  {
   "cell_type": "markdown",
   "id": "3e208300",
   "metadata": {},
   "source": [
    "### L'IQR\n",
    "L'IQR est l'écart interquartile, c'est à dire la différence entre le 3e quartile et le premier quartile.\n",
    "C'est un indicateur robuste sur la distribution d'un échantillon."
   ]
  },
  {
   "cell_type": "code",
   "execution_count": 73,
   "id": "f8545b5a",
   "metadata": {},
   "outputs": [
    {
     "name": "stdout",
     "output_type": "stream",
     "text": [
      "27.4\n"
     ]
    }
   ],
   "source": [
    "Q3 = np.quantile(erp['prix'], 0.75)\n",
    "Q1 = np.quantile(erp['prix'], 0.25)\n",
    "IQR = Q3-Q1\n",
    "print(IQR)"
   ]
  },
  {
   "cell_type": "code",
   "execution_count": 74,
   "id": "a4d911e5",
   "metadata": {},
   "outputs": [
    {
     "data": {
      "text/plain": [
       "83.1"
      ]
     },
     "execution_count": 74,
     "metadata": {},
     "output_type": "execute_result"
    }
   ],
   "source": [
    "# Valeurs au delà de laquelle les prix sont considérés abberants par la diagramme boite à moustache\n",
    "Q3+1.5*IQR"
   ]
  },
  {
   "cell_type": "markdown",
   "id": "84e13537",
   "metadata": {},
   "source": [
    "### Les mesures de forme"
   ]
  },
  {
   "cell_type": "markdown",
   "id": "f43e1c47",
   "metadata": {},
   "source": [
    "Calcul du skewness empirique.\n",
    "C'est une mesure d'asymétrie. L’asymétrie d’une distribution traduit la régularité (ou non) avec laquelle les observations se répartissent autour de la valeur centrale."
   ]
  },
  {
   "cell_type": "code",
   "execution_count": 75,
   "id": "7e574f78",
   "metadata": {},
   "outputs": [
    {
     "data": {
      "text/plain": [
       "2.6227973685638717"
      ]
     },
     "execution_count": 75,
     "metadata": {},
     "output_type": "execute_result"
    }
   ],
   "source": [
    "erp['prix'].skew()"
   ]
  },
  {
   "cell_type": "markdown",
   "id": "116e9954",
   "metadata": {},
   "source": [
    "On a γ1>0, ce qui veut dire que la distribution est étalée à droite. Cela confirme ce qu'on a vu précédemment."
   ]
  },
  {
   "cell_type": "markdown",
   "id": "e3d9ca6f",
   "metadata": {},
   "source": [
    "Calcul du kurtosis empirique qui est une mesure d'aplatissement. On pourra comparer l'aplatissement à la distribution normal."
   ]
  },
  {
   "cell_type": "code",
   "execution_count": 76,
   "id": "d4c5698c",
   "metadata": {},
   "outputs": [
    {
     "data": {
      "text/plain": [
       "10.615358266001198"
      ]
     },
     "execution_count": 76,
     "metadata": {},
     "output_type": "execute_result"
    }
   ],
   "source": [
    "erp['prix'].kurtosis()"
   ]
  },
  {
   "cell_type": "markdown",
   "id": "a400ffbe",
   "metadata": {},
   "source": [
    "On a γ2>0, donc la distribution est moins aplatie que la distribution normale :  les observations sont plus concentrées."
   ]
  },
  {
   "cell_type": "markdown",
   "id": "4ac7460e",
   "metadata": {},
   "source": [
    "## Test de normalités\n",
    "Nous allons faire passer des tests de normalité à notre variable.\n",
    "Nous passerons le test de Test de Kolmogorov-Smirnov puis de Shapiro-Wilk."
   ]
  },
  {
   "cell_type": "markdown",
   "id": "02a99069",
   "metadata": {},
   "source": [
    "Le test de Kolmogorov-Smirnov est un test d'hypothèse utilisé pour déterminer si un échantillon suit bien une loi donnée connue par sa fonction de répartition continue (en l'occurence pour nous la loi normale), ou bien si deux échantillons suivent la même loi."
   ]
  },
  {
   "cell_type": "code",
   "execution_count": 95,
   "id": "2b714e8d",
   "metadata": {},
   "outputs": [],
   "source": [
    "import scipy.stats as st"
   ]
  },
  {
   "cell_type": "code",
   "execution_count": 108,
   "id": "c062e877",
   "metadata": {
    "scrolled": true
   },
   "outputs": [],
   "source": [
    "x=np.linspace(-5,5,1000)\n",
    "y= st.norm.pdf(x)"
   ]
  },
  {
   "cell_type": "code",
   "execution_count": 109,
   "id": "c6e66e6c",
   "metadata": {},
   "outputs": [
    {
     "data": {
      "text/plain": [
       "[<matplotlib.lines.Line2D at 0x294877ce1f0>]"
      ]
     },
     "execution_count": 109,
     "metadata": {},
     "output_type": "execute_result"
    },
    {
     "data": {
      "image/png": "[encoded data removed]",
      "text/plain": [
       "<Figure size 640x480 with 1 Axes>"
      ]
     },
     "metadata": {},
     "output_type": "display_data"
    }
   ],
   "source": [
    "plt.plot(x,y)"
   ]
  },
  {
   "cell_type": "code",
   "execution_count": 135,
   "id": "25754d76",
   "metadata": {
    "scrolled": true
   },
   "outputs": [
    {
     "name": "stdout",
     "output_type": "stream",
     "text": [
      "KstestResult(statistic=0.9999999003557368, pvalue=0.0)\n"
     ]
    }
   ],
   "source": [
    "x=erp['prix']\n",
    "results = st.kstest(x, 'norm')\n",
    "print(results)"
   ]
  },
  {
   "cell_type": "code",
   "execution_count": 84,
   "id": "150c9635",
   "metadata": {},
   "outputs": [
    {
     "name": "stdout",
     "output_type": "stream",
     "text": [
      "KstestResult(statistic=0.011424213837950337, pvalue=0.14585705598783083)\n"
     ]
    }
   ],
   "source": [
    "x=np.random.randn(10000)\n",
    "results = st.kstest(x, 'norm')\n",
    "print(results)"
   ]
  },
  {
   "cell_type": "code",
   "execution_count": 85,
   "id": "7f65f8e9",
   "metadata": {},
   "outputs": [
    {
     "name": "stdout",
     "output_type": "stream",
     "text": [
      "KstestResult(statistic=0.781578009325257, pvalue=0.0)\n"
     ]
    }
   ],
   "source": [
    "x=np.log10(erp['prix'])\n",
    "results = st.kstest(x, 'norm')\n",
    "print(results)"
   ]
  },
  {
   "cell_type": "code",
   "execution_count": 134,
   "id": "d1e0c19a",
   "metadata": {},
   "outputs": [
    {
     "data": {
      "text/plain": [
       "Text(0.5, 0, 'Prix (€)')"
      ]
     },
     "execution_count": 134,
     "metadata": {},
     "output_type": "execute_result"
    },
    {
     "data": {
      "image/png": "[encoded data removed]",
      "text/plain": [
       "<Figure size 640x480 with 1 Axes>"
      ]
     },
     "metadata": {},
     "output_type": "display_data"
    }
   ],
   "source": [
    "x=np.linspace(0, 6,1000)\n",
    "y= st.norm.pdf(x, loc=3)\n",
    "\n",
    "plt.plot(x,y)\n",
    "\n",
    "plt.hist((np.log(erp['prix'])), density=True, bins=30)\n",
    "plt.ylabel(None)\n",
    "plt.xlabel('Prix (€)')\n",
    "# plt.title('Distribution du prix des bouteilles de vin')"
   ]
  },
  {
   "cell_type": "markdown",
   "id": "7d3fa335",
   "metadata": {},
   "source": [
    "## Tests paramétriques vs non paramétriques\n",
    "Lorsque l’on réalise des comparaisons de population ou que l’on compare une population à une valeur théorique, il existe deux grandes familles de tests : les tests paramétriques, et les tests non paramétriques."
   ]
  },
  {
   "cell_type": "markdown",
   "id": "a34296dd",
   "metadata": {},
   "source": [
    "Si on conclue que notre échantillon suit une loi normal, on pourra s'orienter vers des tests paramétriques (basé sur la moyenne), dans le cas contraire, on s'orientera vers des tests non paramétriques (basé sur la médiane)."
   ]
  },
  {
   "cell_type": "markdown",
   "id": "915b0d15",
   "metadata": {},
   "source": [
    "### Tests paramétriques"
   ]
  },
  {
   "cell_type": "markdown",
   "id": "e967b521",
   "metadata": {},
   "source": [
    "Les tests paramétriques fonctionnent en supposant que les données que l’on a à disposition suivent un type de loi de distribution connu (en général la loi normale).\n",
    "\n",
    "Pour calculer le risque alpha du test statistique, il suffit de calculer la moyenne et l’écart-type de l’échantillon afin d’accéder à la loi de distribution de l’échantillon.\n",
    "\n",
    "Test paramétrique\n",
    "La loi de distribution étant ainsi parfaitement connue, on peut calculer le risque alpha en se basant sur les calculs théoriques de la loi gaussienne."
   ]
  },
  {
   "cell_type": "markdown",
   "id": "1643c21a",
   "metadata": {},
   "source": [
    "### Tests non paramétriques"
   ]
  },
  {
   "cell_type": "markdown",
   "id": "cd9511d1",
   "metadata": {},
   "source": [
    "Les tests non paramétriques ne font aucune hypothèse sur le type de loi de distribution des données. Ils se basent uniquement sur les propriétés numériques des échantillons. "
   ]
  }
 ],
 "metadata": {
  "kernelspec": {
   "display_name": "Python 3 (ipykernel)",
   "language": "python",
   "name": "python3"
  },
  "language_info": {
   "codemirror_mode": {
    "name": "ipython",
    "version": 3
   },
   "file_extension": ".py",
   "mimetype": "text/x-python",
   "name": "python",
   "nbconvert_exporter": "python",
   "pygments_lexer": "ipython3",
   "version": "3.9.13"
  }
 },
 "nbformat": 4,
 "nbformat_minor": 5
}
