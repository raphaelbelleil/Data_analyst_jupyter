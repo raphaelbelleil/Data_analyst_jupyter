{
 "cells": [
  {
   "cell_type": "code",
   "execution_count": 1,
   "id": "c9d7577a",
   "metadata": {},
   "outputs": [],
   "source": [
    "import numpy as np\n",
    "import pandas as pd\n",
    "import matplotlib.pyplot as plt\n",
    "import seaborn as sns"
   ]
  },
  {
   "cell_type": "code",
   "execution_count": 2,
   "id": "c3e7d1aa",
   "metadata": {},
   "outputs": [],
   "source": [
    "class Toolbox : \n",
    "    \n",
    "    def __init__(self):\n",
    "        # création de ma liste d'outils\n",
    "        self.tools = []\n",
    "    \n",
    "    def add_tool(self, tool):\n",
    "        self.tools.append(tool)\n",
    "        \n",
    "    def remove_tool(self, tool):\n",
    "        self.tools.remove(tool)"
   ]
  },
  {
   "cell_type": "code",
   "execution_count": 3,
   "id": "1b0c2dee",
   "metadata": {},
   "outputs": [],
   "source": [
    "toolbox2 = Toolbox()"
   ]
  },
  {
   "cell_type": "code",
   "execution_count": 4,
   "id": "a5ccf5ff",
   "metadata": {},
   "outputs": [
    {
     "data": {
      "text/plain": [
       "[]"
      ]
     },
     "execution_count": 4,
     "metadata": {},
     "output_type": "execute_result"
    }
   ],
   "source": [
    "toolbox2.tools"
   ]
  },
  {
   "cell_type": "code",
   "execution_count": 5,
   "id": "56ae6763",
   "metadata": {},
   "outputs": [],
   "source": [
    "toolbox2.add_tool('marteau')"
   ]
  },
  {
   "cell_type": "code",
   "execution_count": 6,
   "id": "4a375763",
   "metadata": {},
   "outputs": [],
   "source": [
    "toolbox2.add_tool('perceuse')"
   ]
  },
  {
   "cell_type": "code",
   "execution_count": 7,
   "id": "d0ad2c36",
   "metadata": {},
   "outputs": [
    {
     "data": {
      "text/plain": [
       "['marteau', 'perceuse']"
      ]
     },
     "execution_count": 7,
     "metadata": {},
     "output_type": "execute_result"
    }
   ],
   "source": [
    "toolbox2.tools"
   ]
  },
  {
   "cell_type": "code",
   "execution_count": 8,
   "id": "62de9c43",
   "metadata": {},
   "outputs": [],
   "source": [
    "toolbox2.remove_tool('perceuse')"
   ]
  },
  {
   "cell_type": "code",
   "execution_count": 9,
   "id": "02e5b0d1",
   "metadata": {},
   "outputs": [
    {
     "data": {
      "text/plain": [
       "['marteau']"
      ]
     },
     "execution_count": 9,
     "metadata": {},
     "output_type": "execute_result"
    }
   ],
   "source": [
    "toolbox2.tools"
   ]
  },
  {
   "cell_type": "code",
   "execution_count": null,
   "id": "27db0646",
   "metadata": {},
   "outputs": [],
   "source": []
  },
  {
   "cell_type": "code",
   "execution_count": 3,
   "id": "e30aee00",
   "metadata": {},
   "outputs": [],
   "source": [
    "Utilisateurs = {'jo':'bigoudi'}\n",
    "ide='jo'\n",
    "mdp='bigoudi'\n",
    "if ide not in Utilisateurs.keys() : print(\"ok cest bon\")"
   ]
  },
  {
   "cell_type": "code",
   "execution_count": 4,
   "id": "633e7ec4",
   "metadata": {},
   "outputs": [
    {
     "data": {
      "text/plain": [
       "dict_items([('jo', 'bigoudi')])"
      ]
     },
     "execution_count": 4,
     "metadata": {},
     "output_type": "execute_result"
    }
   ],
   "source": [
    "Utilisateurs.items()"
   ]
  }
 ],
 "metadata": {
  "kernelspec": {
   "display_name": "Python 3 (ipykernel)",
   "language": "python",
   "name": "python3"
  },
  "language_info": {
   "codemirror_mode": {
    "name": "ipython",
    "version": 3
   },
   "file_extension": ".py",
   "mimetype": "text/x-python",
   "name": "python",
   "nbconvert_exporter": "python",
   "pygments_lexer": "ipython3",
   "version": "3.9.16"
  }
 },
 "nbformat": 4,
 "nbformat_minor": 5
}
