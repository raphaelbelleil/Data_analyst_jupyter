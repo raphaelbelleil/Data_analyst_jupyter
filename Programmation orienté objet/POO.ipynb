{
 "cells": [
  {
   "cell_type": "code",
   "execution_count": 2,
   "id": "c9d7577a",
   "metadata": {},
   "outputs": [],
   "source": [
    "import numpy as np\n",
    "import pandas as pd\n",
    "import matplotlib.pyplot as plt\n",
    "import seaborn as sns"
   ]
  },
  {
   "cell_type": "code",
   "execution_count": 73,
   "id": "c3e7d1aa",
   "metadata": {},
   "outputs": [],
   "source": [
    "class Toolbox : \n",
    "    \n",
    "    def __init__(self):\n",
    "        # création de ma liste d'outils\n",
    "        self.tools = []\n",
    "    \n",
    "    def add_tool(self, tool):\n",
    "        self.tools.append(tool)\n",
    "        \n",
    "    def remove_tool(self, tool):\n",
    "        self.tools.remove(tool)"
   ]
  },
  {
   "cell_type": "code",
   "execution_count": 74,
   "id": "1b0c2dee",
   "metadata": {},
   "outputs": [],
   "source": [
    "toolbox2 = Toolbox()"
   ]
  },
  {
   "cell_type": "code",
   "execution_count": 75,
   "id": "a5ccf5ff",
   "metadata": {},
   "outputs": [
    {
     "data": {
      "text/plain": [
       "[]"
      ]
     },
     "execution_count": 75,
     "metadata": {},
     "output_type": "execute_result"
    }
   ],
   "source": [
    "toolbox2.tools"
   ]
  },
  {
   "cell_type": "code",
   "execution_count": 76,
   "id": "56ae6763",
   "metadata": {},
   "outputs": [],
   "source": [
    "toolbox2.add_tool('marteau')"
   ]
  },
  {
   "cell_type": "code",
   "execution_count": 78,
   "id": "4a375763",
   "metadata": {},
   "outputs": [],
   "source": [
    "toolbox2.add_tool('perceuse')"
   ]
  },
  {
   "cell_type": "code",
   "execution_count": 79,
   "id": "d0ad2c36",
   "metadata": {},
   "outputs": [
    {
     "data": {
      "text/plain": [
       "['marteau', 'perceuse']"
      ]
     },
     "execution_count": 79,
     "metadata": {},
     "output_type": "execute_result"
    }
   ],
   "source": [
    "toolbox2.tools"
   ]
  },
  {
   "cell_type": "code",
   "execution_count": 86,
   "id": "1b945454",
   "metadata": {},
   "outputs": [
    {
     "ename": "AttributeError",
     "evalue": "'Toolbox' object has no attribute '__len__'",
     "output_type": "error",
     "traceback": [
      "\u001b[1;31m---------------------------------------------------------------------------\u001b[0m",
      "\u001b[1;31mAttributeError\u001b[0m                            Traceback (most recent call last)",
      "\u001b[1;32m~\\AppData\\Local\\Temp\\ipykernel_21100\\3919878915.py\u001b[0m in \u001b[0;36m<module>\u001b[1;34m\u001b[0m\n\u001b[1;32m----> 1\u001b[1;33m \u001b[0mtoolbox2\u001b[0m\u001b[1;33m.\u001b[0m\u001b[0m__len__\u001b[0m\u001b[1;33m(\u001b[0m\u001b[1;33m)\u001b[0m\u001b[1;33m\u001b[0m\u001b[1;33m\u001b[0m\u001b[0m\n\u001b[0m",
      "\u001b[1;31mAttributeError\u001b[0m: 'Toolbox' object has no attribute '__len__'"
     ]
    }
   ],
   "source": [
    "toolbox2.__len__()"
   ]
  },
  {
   "cell_type": "code",
   "execution_count": 84,
   "id": "5f748edd",
   "metadata": {},
   "outputs": [],
   "source": [
    "liste = [1,2,3]"
   ]
  },
  {
   "cell_type": "code",
   "execution_count": 85,
   "id": "8444a3be",
   "metadata": {},
   "outputs": [
    {
     "ename": "AttributeError",
     "evalue": "'list' object has no attribute 'len'",
     "output_type": "error",
     "traceback": [
      "\u001b[1;31m---------------------------------------------------------------------------\u001b[0m",
      "\u001b[1;31mAttributeError\u001b[0m                            Traceback (most recent call last)",
      "\u001b[1;32m~\\AppData\\Local\\Temp\\ipykernel_21100\\3369440207.py\u001b[0m in \u001b[0;36m<module>\u001b[1;34m\u001b[0m\n\u001b[1;32m----> 1\u001b[1;33m \u001b[0mliste\u001b[0m\u001b[1;33m.\u001b[0m\u001b[0mlen\u001b[0m\u001b[1;33m(\u001b[0m\u001b[1;33m)\u001b[0m\u001b[1;33m\u001b[0m\u001b[1;33m\u001b[0m\u001b[0m\n\u001b[0m",
      "\u001b[1;31mAttributeError\u001b[0m: 'list' object has no attribute 'len'"
     ]
    }
   ],
   "source": [
    "liste.len()"
   ]
  }
 ],
 "metadata": {
  "kernelspec": {
   "display_name": "Python 3 (ipykernel)",
   "language": "python",
   "name": "python3"
  },
  "language_info": {
   "codemirror_mode": {
    "name": "ipython",
    "version": 3
   },
   "file_extension": ".py",
   "mimetype": "text/x-python",
   "name": "python",
   "nbconvert_exporter": "python",
   "pygments_lexer": "ipython3",
   "version": "3.9.13"
  }
 },
 "nbformat": 4,
 "nbformat_minor": 5
}
