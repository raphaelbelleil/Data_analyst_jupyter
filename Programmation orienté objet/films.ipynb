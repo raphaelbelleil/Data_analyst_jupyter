{
 "cells": [
  {
   "cell_type": "code",
   "execution_count": 85,
   "id": "24c9bd16",
   "metadata": {},
   "outputs": [
    {
     "name": "stdout",
     "output_type": "stream",
     "text": [
      "['Blade Runner', 'Alien : Le 8ème Passager', \"2001 : L'Odyssée de l'espace\", 'Matrix', 'Interstellar', \"L'Empire contre-attaque\", 'Retour vers le futur', 'La Guerre des Étoiles', \"L'Armée des 12 singes\", 'Terminator 2 : Le Jugement dernier']\n",
      "['1982', '1979', '1968', '1999', '2014', '1980', '1985', '1977', '1995', '1991']\n",
      "['VHF', 'VHF', 'VHF', 'DVD', 'DVD', 'VHF', 'VHF', 'VHF', 'DVD', 'DVD']\n",
      "{'Titre': ['Blade Runner', 'Alien : Le 8ème Passager', \"2001 : L'Odyssée de l'espace\", 'Matrix', 'Interstellar', \"L'Empire contre-attaque\", 'Retour vers le futur', 'La Guerre des Étoiles', \"L'Armée des 12 singes\", 'Terminator 2 : Le Jugement dernier'], 'Date de sortie': ['1982', '1979', '1968', '1999', '2014', '1980', '1985', '1977', '1995', '1991'], 'Type': ['VHF', 'VHF', 'VHF', 'DVD', 'DVD', 'VHF', 'VHF', 'VHF', 'DVD', 'DVD']}\n",
      "[['Blade Runner', '1982', 'VHF'], ['Alien : Le 8ème Passager', '1979', 'VHF'], [\"2001 : L'Odyssée de l'espace\", '1968', 'VHF'], ['Matrix', '1999', 'DVD'], ['Interstellar', '2014', 'DVD'], [\"L'Empire contre-attaque\", '1980', 'VHF'], ['Retour vers le futur', '1985', 'VHF'], ['La Guerre des Étoiles', '1977', 'VHF'], [\"L'Armée des 12 singes\", '1995', 'DVD'], ['Terminator 2 : Le Jugement dernier', '1991', 'DVD']]\n"
     ]
    }
   ],
   "source": [
    "import pandas as pd\n",
    "import numpy as np\n",
    "\n",
    "films = [\n",
    "    (\"Blade Runner (1982)\", \"vhf\"),\n",
    "    (\"Alien : Le 8ème Passager (1979)\", \"vhf\"),\n",
    "    (\"2001 : L'Odyssée de l'espace (1968)\", \"VhF\"),\n",
    "    (\"Matrix (1999)\", \"DVD\"),\n",
    "    (\"Interstellar (2014)\", \"dvD\"),\n",
    "    (\"L'Empire contre-attaque (1980)\", \"vhf\"),\n",
    "    (\"Retour vers le futur (1985)\", \"vhf\"),\n",
    "    (\"La Guerre des Étoiles (1977)\", \"vhf\"),\n",
    "    (\"L'Armée des 12 singes (1995)\", \"dVd\"),\n",
    "    (\"Terminator 2 : Le Jugement dernier (1991)\", \"DVD\"),\n",
    "]\n",
    "\n",
    "\n",
    "friends = [\n",
    "    (\"Paul\", \"Blade Runner\"),\n",
    "    (\"Lucie\",\"\"),\n",
    "    (\"Zoé\", \"Terminator 2 : Le Jugement dernier\"),\n",
    "]\n",
    "\n",
    "nom_film = []\n",
    "date_film = []\n",
    "type_film = []\n",
    "\n",
    "for film in films :\n",
    "    nom_film.append(film[0][:-7])\n",
    "    date_film.append(film[0][-5:-1])\n",
    "    type_film.append(film[1].upper())\n",
    "\n",
    "print(nom_film)\n",
    "print(date_film)\n",
    "print(type_film)\n",
    "\n",
    "dict_films = {'Titre':nom_film, 'Date de sortie':date_film, 'Type':type_film}\n",
    "\n",
    "print(dict_films)\n",
    "\n",
    "films = pd.DataFrame(dict_films)\n",
    "films\n",
    "\n",
    "liste_films = []\n",
    "\n",
    "for row in films.itertuples(index=False):\n",
    "    liste_films.append(list((tuple(row))))\n",
    "    \n",
    "print(liste_films)"
   ]
  },
  {
   "cell_type": "code",
   "execution_count": 88,
   "id": "4b752870",
   "metadata": {},
   "outputs": [
    {
     "name": "stdout",
     "output_type": "stream",
     "text": [
      "Blade Runner 1982 VHF\n",
      "Alien : Le 8ème Passager 1979 VHF\n",
      "2001 : L'Odyssée de l'espace 1968 VHF\n",
      "Matrix 1999 DVD\n",
      "Interstellar 2014 DVD\n",
      "L'Empire contre-attaque 1980 VHF\n",
      "Retour vers le futur 1985 VHF\n",
      "La Guerre des Étoiles 1977 VHF\n",
      "L'Armée des 12 singes 1995 DVD\n",
      "Terminator 2 : Le Jugement dernier 1991 DVD\n"
     ]
    }
   ],
   "source": [
    "for a, b, c in liste_films:\n",
    "    print(a,b,c)"
   ]
  },
  {
   "cell_type": "code",
   "execution_count": 61,
   "id": "2cd4f1dd",
   "metadata": {},
   "outputs": [],
   "source": [
    "liste2 = []\n",
    "name = 'O brother'\n",
    "date='2000'\n",
    "format_film = 'DVD'"
   ]
  },
  {
   "cell_type": "code",
   "execution_count": 16,
   "id": "6f736a33",
   "metadata": {},
   "outputs": [],
   "source": [
    "liste2.append((name, date, format_film))"
   ]
  },
  {
   "cell_type": "code",
   "execution_count": 20,
   "id": "057af59c",
   "metadata": {},
   "outputs": [],
   "source": [
    "liste2.append(('Terminator 2 : Le Jugement dernier', '1991', 'DVD'))"
   ]
  },
  {
   "cell_type": "code",
   "execution_count": 21,
   "id": "636ce888",
   "metadata": {},
   "outputs": [
    {
     "data": {
      "text/plain": [
       "[('O brother', '2000', 'DVD'),\n",
       " ('Terminator 2 : Le Jugement dernier', '1991', 'DVD'),\n",
       " ('Terminator 2 : Le Jugement dernier', '1991', 'DVD')]"
      ]
     },
     "execution_count": 21,
     "metadata": {},
     "output_type": "execute_result"
    }
   ],
   "source": [
    "liste2"
   ]
  },
  {
   "cell_type": "code",
   "execution_count": 30,
   "id": "1b28cc1b",
   "metadata": {},
   "outputs": [
    {
     "data": {
      "text/plain": [
       "[('O brother', '2000', 'DVD'),\n",
       " ('Terminator 2 : Le Jugement dernier', '1991', 'DVD'),\n",
       " ('Terminator 2 : Le Jugement dernier', '1991', 'DVD')]"
      ]
     },
     "execution_count": 30,
     "metadata": {},
     "output_type": "execute_result"
    }
   ],
   "source": [
    "sorted(liste2, key=lambda film : film[0])"
   ]
  },
  {
   "cell_type": "code",
   "execution_count": 33,
   "id": "e49a4502",
   "metadata": {},
   "outputs": [
    {
     "name": "stdout",
     "output_type": "stream",
     "text": [
      "ok\n"
     ]
    }
   ],
   "source": [
    "by = 'name'\n",
    "byok = ['name', 'date', 'format']\n",
    "if by in byok : print('ok')"
   ]
  },
  {
   "cell_type": "code",
   "execution_count": 41,
   "id": "3909a846",
   "metadata": {},
   "outputs": [
    {
     "data": {
      "text/plain": [
       "[('Paul', 'Blade Runner'),\n",
       " ('Lucie',),\n",
       " ('Zoé', 'Terminator 2 : Le Jugement dernier')]"
      ]
     },
     "execution_count": 41,
     "metadata": {},
     "output_type": "execute_result"
    }
   ],
   "source": [
    "list(friends)"
   ]
  },
  {
   "cell_type": "code",
   "execution_count": 90,
   "id": "05ea49be",
   "metadata": {},
   "outputs": [
    {
     "data": {
      "text/plain": [
       "{'Paul': 'Blade Runner',\n",
       " 'Lucie': '',\n",
       " 'Zoé': 'Terminator 2 : Le Jugement dernier'}"
      ]
     },
     "execution_count": 90,
     "metadata": {},
     "output_type": "execute_result"
    }
   ],
   "source": [
    "friends = {k: v for k, v in friends}\n",
    "friends"
   ]
  },
  {
   "cell_type": "code",
   "execution_count": 91,
   "id": "ff552685",
   "metadata": {},
   "outputs": [
    {
     "name": "stdout",
     "output_type": "stream",
     "text": [
      "Paul Blade Runner\n",
      "Lucie \n",
      "Zoé Terminator 2 : Le Jugement dernier\n"
     ]
    }
   ],
   "source": [
    "for name, film_name in friends.items():\n",
    "    print(name, film_name)"
   ]
  },
  {
   "cell_type": "code",
   "execution_count": 7,
   "id": "0613bcf8",
   "metadata": {},
   "outputs": [
    {
     "data": {
      "text/plain": [
       "[[('O brother', '2000', 'BLUE-RAY'), 'Dans la bibliothèque'],\n",
       " [('Pulp Fiction', '2000', 'BLUE-RAY'), 'Chez Dylan']]"
      ]
     },
     "execution_count": 7,
     "metadata": {},
     "output_type": "execute_result"
    }
   ],
   "source": [
    "biblio = [[('O brother', '2000', 'BLUE-RAY'), 'Dans la bibliothèque'],\n",
    "          [('Pulp Fiction', '2000', 'BLUE-RAY'), 'Chez Dylan']]\n",
    "biblio"
   ]
  },
  {
   "cell_type": "code",
   "execution_count": 26,
   "id": "6b385e6f",
   "metadata": {},
   "outputs": [
    {
     "name": "stdout",
     "output_type": "stream",
     "text": [
      "Dans la bibliothèque\n",
      "[('O brother', '2000', 'BLUE-RAY'), 'Dans la bibliothèque']\n",
      "Chez Dylan\n",
      "[('Pulp Fiction', '2000', 'BLUE-RAY'), 'Chez Dylan']\n"
     ]
    }
   ],
   "source": [
    "for i, j in zip(biblio, range(len(biblio))):\n",
    "    print(i[1])\n",
    "    print(i)"
   ]
  },
  {
   "cell_type": "code",
   "execution_count": 29,
   "id": "53f9842d",
   "metadata": {},
   "outputs": [
    {
     "data": {
      "text/plain": [
       "[('O brother', '2000', 'BLUE-RAY')]"
      ]
     },
     "execution_count": 29,
     "metadata": {},
     "output_type": "execute_result"
    }
   ],
   "source": [
    "films_enstock = []\n",
    "for element in biblio:\n",
    "    if element[1] == 'Dans la bibliothèque':\n",
    "        films_enstock.append(element[0])\n",
    "films_enstock"
   ]
  },
  {
   "cell_type": "code",
   "execution_count": 47,
   "id": "5cd05838",
   "metadata": {},
   "outputs": [
    {
     "data": {
      "text/plain": [
       "[[('O brother', '2000', 'BLUE-RAY'), 'Dans la bibliothèque'],\n",
       " [('Pulp Fiction', '2000', 'BLUE-RAY'), 'Chez Dylan']]"
      ]
     },
     "execution_count": 47,
     "metadata": {},
     "output_type": "execute_result"
    }
   ],
   "source": [
    "biblio[:]"
   ]
  },
  {
   "cell_type": "code",
   "execution_count": 34,
   "id": "ab2d27af",
   "metadata": {},
   "outputs": [
    {
     "name": "stdout",
     "output_type": "stream",
     "text": [
      "('O brother', '2000', 'BLUE-RAY')\n",
      "('Pulp Fiction', '2000', 'BLUE-RAY')\n"
     ]
    }
   ],
   "source": [
    "for element in biblio:\n",
    "    print(element[0])"
   ]
  },
  {
   "cell_type": "code",
   "execution_count": 48,
   "id": "d5c1fc1d",
   "metadata": {},
   "outputs": [
    {
     "data": {
      "text/plain": [
       "[('O brother', '2000', 'BLUE-RAY'), ('Pulp Fiction', '2000', 'BLUE-RAY')]"
      ]
     },
     "execution_count": 48,
     "metadata": {},
     "output_type": "execute_result"
    }
   ],
   "source": [
    "films_bibliotheque = [item[0] for item in biblio]\n",
    "films_bibliotheque"
   ]
  },
  {
   "cell_type": "code",
   "execution_count": 52,
   "id": "5eed8ff1",
   "metadata": {},
   "outputs": [],
   "source": [
    "film1 = ('O brother', '2000', 'BLUE-RAY')"
   ]
  },
  {
   "cell_type": "code",
   "execution_count": 54,
   "id": "79cf919b",
   "metadata": {},
   "outputs": [
    {
     "name": "stdout",
     "output_type": "stream",
     "text": [
      "ok\n"
     ]
    }
   ],
   "source": [
    "films_bibliotheque = [item[0] for item in biblio]\n",
    "if film1 in films_bibliotheque:\n",
    "    print('ok')"
   ]
  },
  {
   "cell_type": "code",
   "execution_count": 58,
   "id": "c259d718",
   "metadata": {},
   "outputs": [
    {
     "data": {
      "text/plain": [
       "[[('Pulp Fiction', '1994', 'BLUE-RAY'), 'Dans la bibliothèque'],\n",
       " [('O brother', '2000', 'BLUE-RAY'), 'Dans la bibliothèque']]"
      ]
     },
     "execution_count": 58,
     "metadata": {},
     "output_type": "execute_result"
    }
   ],
   "source": [
    "A = [[('Pulp Fiction', '1994', 'BLUE-RAY'), 'Dans la bibliothèque'],\n",
    " [('O brother', '2000', 'BLUE-RAY'), 'Dans la bibliothèque']]\n",
    "A"
   ]
  },
  {
   "cell_type": "code",
   "execution_count": 61,
   "id": "e99cc3d5",
   "metadata": {},
   "outputs": [
    {
     "data": {
      "text/plain": [
       "['Pulp Fiction', 'O brother']"
      ]
     },
     "execution_count": 61,
     "metadata": {},
     "output_type": "execute_result"
    }
   ],
   "source": [
    "film_name = [x[0][0] for x in A]"
   ]
  },
  {
   "cell_type": "code",
   "execution_count": 64,
   "id": "df109611",
   "metadata": {},
   "outputs": [
    {
     "data": {
      "text/plain": [
       "[1, 2, 3, 6, 8]"
      ]
     },
     "execution_count": 64,
     "metadata": {},
     "output_type": "execute_result"
    }
   ],
   "source": [
    "liste = [1,2,3,6,8]\n",
    "liste"
   ]
  },
  {
   "cell_type": "code",
   "execution_count": 76,
   "id": "6645a291",
   "metadata": {},
   "outputs": [
    {
     "data": {
      "text/plain": [
       "3"
      ]
     },
     "execution_count": 76,
     "metadata": {},
     "output_type": "execute_result"
    }
   ],
   "source": [
    "liste[2]"
   ]
  },
  {
   "cell_type": "code",
   "execution_count": 69,
   "id": "616a3e76",
   "metadata": {},
   "outputs": [],
   "source": [
    "import numpy as np"
   ]
  },
  {
   "cell_type": "code",
   "execution_count": 72,
   "id": "1e4f4448",
   "metadata": {},
   "outputs": [
    {
     "data": {
      "text/plain": [
       "array([1, 2, 3, 6, 8])"
      ]
     },
     "execution_count": 72,
     "metadata": {},
     "output_type": "execute_result"
    }
   ],
   "source": [
    "ar = np.array(liste)\n",
    "ar"
   ]
  },
  {
   "cell_type": "code",
   "execution_count": 74,
   "id": "5a35c3fa",
   "metadata": {},
   "outputs": [
    {
     "data": {
      "text/plain": [
       "4"
      ]
     },
     "execution_count": 74,
     "metadata": {},
     "output_type": "execute_result"
    }
   ],
   "source": [
    "np.argmax(ar)"
   ]
  },
  {
   "cell_type": "code",
   "execution_count": 78,
   "id": "5f3c94f2",
   "metadata": {},
   "outputs": [
    {
     "data": {
      "text/plain": [
       "{('O brother', '2000', 'BLUE-RAY'): 'Dans la bibliothèque',\n",
       " ('Pulp Fiction', '1994', 'BLUE-RAY'): 'Dans la bibliothèque'}"
      ]
     },
     "execution_count": 78,
     "metadata": {},
     "output_type": "execute_result"
    }
   ],
   "source": [
    "B = {('O brother', '2000', 'BLUE-RAY'): 'Dans la bibliothèque',\n",
    "     ('Pulp Fiction', '1994', 'BLUE-RAY'): 'Dans la bibliothèque'}\n",
    "B"
   ]
  },
  {
   "cell_type": "code",
   "execution_count": 87,
   "id": "474008e7",
   "metadata": {},
   "outputs": [
    {
     "name": "stdout",
     "output_type": "stream",
     "text": [
      "('O brother', '2000', 'BLUE-RAY') Dans la bibliothèque\n",
      "('Pulp Fiction', '1994', 'BLUE-RAY') Dans la bibliothèque\n"
     ]
    }
   ],
   "source": [
    "for i,j in B.items():\n",
    "    print(i,j)"
   ]
  },
  {
   "cell_type": "code",
   "execution_count": 85,
   "id": "ebdd2b73",
   "metadata": {},
   "outputs": [
    {
     "data": {
      "text/plain": [
       "[('Pulp Fiction', '1994', 'BLUE-RAY'), ('O brother', '2000', 'BLUE-RAY')]"
      ]
     },
     "execution_count": 85,
     "metadata": {},
     "output_type": "execute_result"
    }
   ],
   "source": [
    "sorted(list(B.keys()), key=lambda film : film[1])"
   ]
  },
  {
   "cell_type": "code",
   "execution_count": 88,
   "id": "31a27ed5",
   "metadata": {},
   "outputs": [
    {
     "name": "stdout",
     "output_type": "stream",
     "text": [
      "PersonException caught\n"
     ]
    }
   ],
   "source": [
    "class PersonException(Exception):\n",
    "\n",
    "    pass\n",
    "\n",
    "\n",
    "\n",
    "class InvalidDOBPersonException(PersonException):\n",
    "\n",
    "    pass\n",
    "\n",
    "\n",
    "\n",
    "try:\n",
    "\n",
    "    raise InvalidDOBPersonException(\"Invalid Date of Birth\")\n",
    "\n",
    "except PersonException:\n",
    "\n",
    "    print(\"PersonException caught\")\n",
    "\n",
    "except InvalidDOBPersonException(\"Invalid Date of Birth\"):\n",
    "\n",
    "    print(\"InvalidDOBPersonException caught\")\n",
    "\n",
    "except Exception:\n",
    "\n",
    "    print(\"Exception caught.\")\n",
    "    "
   ]
  },
  {
   "cell_type": "code",
   "execution_count": null,
   "id": "ff7e9b61",
   "metadata": {},
   "outputs": [],
   "source": []
  }
 ],
 "metadata": {
  "kernelspec": {
   "display_name": "Python 3 (ipykernel)",
   "language": "python",
   "name": "python3"
  },
  "language_info": {
   "codemirror_mode": {
    "name": "ipython",
    "version": 3
   },
   "file_extension": ".py",
   "mimetype": "text/x-python",
   "name": "python",
   "nbconvert_exporter": "python",
   "pygments_lexer": "ipython3",
   "version": "3.9.16"
  }
 },
 "nbformat": 4,
 "nbformat_minor": 5
}
