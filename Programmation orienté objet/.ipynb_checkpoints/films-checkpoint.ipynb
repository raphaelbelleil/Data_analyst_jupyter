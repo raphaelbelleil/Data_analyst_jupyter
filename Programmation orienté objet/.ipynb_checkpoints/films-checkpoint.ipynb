{
 "cells": [
  {
   "cell_type": "code",
   "execution_count": 85,
   "id": "24c9bd16",
   "metadata": {},
   "outputs": [
    {
     "name": "stdout",
     "output_type": "stream",
     "text": [
      "['Blade Runner', 'Alien : Le 8ème Passager', \"2001 : L'Odyssée de l'espace\", 'Matrix', 'Interstellar', \"L'Empire contre-attaque\", 'Retour vers le futur', 'La Guerre des Étoiles', \"L'Armée des 12 singes\", 'Terminator 2 : Le Jugement dernier']\n",
      "['1982', '1979', '1968', '1999', '2014', '1980', '1985', '1977', '1995', '1991']\n",
      "['VHF', 'VHF', 'VHF', 'DVD', 'DVD', 'VHF', 'VHF', 'VHF', 'DVD', 'DVD']\n",
      "{'Titre': ['Blade Runner', 'Alien : Le 8ème Passager', \"2001 : L'Odyssée de l'espace\", 'Matrix', 'Interstellar', \"L'Empire contre-attaque\", 'Retour vers le futur', 'La Guerre des Étoiles', \"L'Armée des 12 singes\", 'Terminator 2 : Le Jugement dernier'], 'Date de sortie': ['1982', '1979', '1968', '1999', '2014', '1980', '1985', '1977', '1995', '1991'], 'Type': ['VHF', 'VHF', 'VHF', 'DVD', 'DVD', 'VHF', 'VHF', 'VHF', 'DVD', 'DVD']}\n",
      "[['Blade Runner', '1982', 'VHF'], ['Alien : Le 8ème Passager', '1979', 'VHF'], [\"2001 : L'Odyssée de l'espace\", '1968', 'VHF'], ['Matrix', '1999', 'DVD'], ['Interstellar', '2014', 'DVD'], [\"L'Empire contre-attaque\", '1980', 'VHF'], ['Retour vers le futur', '1985', 'VHF'], ['La Guerre des Étoiles', '1977', 'VHF'], [\"L'Armée des 12 singes\", '1995', 'DVD'], ['Terminator 2 : Le Jugement dernier', '1991', 'DVD']]\n"
     ]
    }
   ],
   "source": [
    "import pandas as pd\n",
    "import numpy as np\n",
    "\n",
    "films = [\n",
    "    (\"Blade Runner (1982)\", \"vhf\"),\n",
    "    (\"Alien : Le 8ème Passager (1979)\", \"vhf\"),\n",
    "    (\"2001 : L'Odyssée de l'espace (1968)\", \"VhF\"),\n",
    "    (\"Matrix (1999)\", \"DVD\"),\n",
    "    (\"Interstellar (2014)\", \"dvD\"),\n",
    "    (\"L'Empire contre-attaque (1980)\", \"vhf\"),\n",
    "    (\"Retour vers le futur (1985)\", \"vhf\"),\n",
    "    (\"La Guerre des Étoiles (1977)\", \"vhf\"),\n",
    "    (\"L'Armée des 12 singes (1995)\", \"dVd\"),\n",
    "    (\"Terminator 2 : Le Jugement dernier (1991)\", \"DVD\"),\n",
    "]\n",
    "\n",
    "\n",
    "friends = [\n",
    "    (\"Paul\", \"Blade Runner\"),\n",
    "    (\"Lucie\",\"\"),\n",
    "    (\"Zoé\", \"Terminator 2 : Le Jugement dernier\"),\n",
    "]\n",
    "\n",
    "nom_film = []\n",
    "date_film = []\n",
    "type_film = []\n",
    "\n",
    "for film in films :\n",
    "    nom_film.append(film[0][:-7])\n",
    "    date_film.append(film[0][-5:-1])\n",
    "    type_film.append(film[1].upper())\n",
    "\n",
    "print(nom_film)\n",
    "print(date_film)\n",
    "print(type_film)\n",
    "\n",
    "dict_films = {'Titre':nom_film, 'Date de sortie':date_film, 'Type':type_film}\n",
    "\n",
    "print(dict_films)\n",
    "\n",
    "films = pd.DataFrame(dict_films)\n",
    "films\n",
    "\n",
    "liste_films = []\n",
    "\n",
    "for row in films.itertuples(index=False):\n",
    "    liste_films.append(list((tuple(row))))\n",
    "    \n",
    "print(liste_films)"
   ]
  },
  {
   "cell_type": "code",
   "execution_count": 88,
   "id": "4b752870",
   "metadata": {},
   "outputs": [
    {
     "name": "stdout",
     "output_type": "stream",
     "text": [
      "Blade Runner 1982 VHF\n",
      "Alien : Le 8ème Passager 1979 VHF\n",
      "2001 : L'Odyssée de l'espace 1968 VHF\n",
      "Matrix 1999 DVD\n",
      "Interstellar 2014 DVD\n",
      "L'Empire contre-attaque 1980 VHF\n",
      "Retour vers le futur 1985 VHF\n",
      "La Guerre des Étoiles 1977 VHF\n",
      "L'Armée des 12 singes 1995 DVD\n",
      "Terminator 2 : Le Jugement dernier 1991 DVD\n"
     ]
    }
   ],
   "source": [
    "for a, b, c in liste_films:\n",
    "    print(a,b,c)"
   ]
  },
  {
   "cell_type": "code",
   "execution_count": 61,
   "id": "0211b866",
   "metadata": {},
   "outputs": [],
   "source": [
    "liste2 = []\n",
    "name = 'O brother'\n",
    "date='2000'\n",
    "format_film = 'DVD'"
   ]
  },
  {
   "cell_type": "code",
   "execution_count": 16,
   "id": "7fda0db5",
   "metadata": {},
   "outputs": [],
   "source": [
    "liste2.append((name, date, format_film))"
   ]
  },
  {
   "cell_type": "code",
   "execution_count": 20,
   "id": "494ff272",
   "metadata": {},
   "outputs": [],
   "source": [
    "liste2.append(('Terminator 2 : Le Jugement dernier', '1991', 'DVD'))"
   ]
  },
  {
   "cell_type": "code",
   "execution_count": 21,
   "id": "c6be980c",
   "metadata": {},
   "outputs": [
    {
     "data": {
      "text/plain": [
       "[('O brother', '2000', 'DVD'),\n",
       " ('Terminator 2 : Le Jugement dernier', '1991', 'DVD'),\n",
       " ('Terminator 2 : Le Jugement dernier', '1991', 'DVD')]"
      ]
     },
     "execution_count": 21,
     "metadata": {},
     "output_type": "execute_result"
    }
   ],
   "source": [
    "liste2"
   ]
  },
  {
   "cell_type": "code",
   "execution_count": 30,
   "id": "6415df1f",
   "metadata": {},
   "outputs": [
    {
     "data": {
      "text/plain": [
       "[('O brother', '2000', 'DVD'),\n",
       " ('Terminator 2 : Le Jugement dernier', '1991', 'DVD'),\n",
       " ('Terminator 2 : Le Jugement dernier', '1991', 'DVD')]"
      ]
     },
     "execution_count": 30,
     "metadata": {},
     "output_type": "execute_result"
    }
   ],
   "source": [
    "sorted(liste2, key=lambda film : film[0])"
   ]
  },
  {
   "cell_type": "code",
   "execution_count": 33,
   "id": "42fdae25",
   "metadata": {},
   "outputs": [
    {
     "name": "stdout",
     "output_type": "stream",
     "text": [
      "ok\n"
     ]
    }
   ],
   "source": [
    "by = 'name'\n",
    "byok = ['name', 'date', 'format']\n",
    "if by in byok : print('ok')"
   ]
  },
  {
   "cell_type": "code",
   "execution_count": 41,
   "id": "26ca5b46",
   "metadata": {},
   "outputs": [
    {
     "data": {
      "text/plain": [
       "[('Paul', 'Blade Runner'),\n",
       " ('Lucie',),\n",
       " ('Zoé', 'Terminator 2 : Le Jugement dernier')]"
      ]
     },
     "execution_count": 41,
     "metadata": {},
     "output_type": "execute_result"
    }
   ],
   "source": [
    "list(friends)"
   ]
  },
  {
   "cell_type": "code",
   "execution_count": 90,
   "id": "372df46b",
   "metadata": {},
   "outputs": [
    {
     "data": {
      "text/plain": [
       "{'Paul': 'Blade Runner',\n",
       " 'Lucie': '',\n",
       " 'Zoé': 'Terminator 2 : Le Jugement dernier'}"
      ]
     },
     "execution_count": 90,
     "metadata": {},
     "output_type": "execute_result"
    }
   ],
   "source": [
    "friends = {k: v for k, v in friends}\n",
    "friends"
   ]
  },
  {
   "cell_type": "code",
   "execution_count": 63,
   "id": "4fbea85c",
   "metadata": {},
   "outputs": [
    {
     "name": "stdout",
     "output_type": "stream",
     "text": [
      "Paul Blade Runner\n",
      "Lucie \n",
      "Zoé Terminator 2 : Le Jugement dernier\n"
     ]
    }
   ],
   "source": [
    "for c,v in friends:\n",
    "    print(c,v)"
   ]
  },
  {
   "cell_type": "code",
   "execution_count": 89,
   "id": "db765997",
   "metadata": {},
   "outputs": [
    {
     "ename": "ValueError",
     "evalue": "too many values to unpack (expected 2)",
     "output_type": "error",
     "traceback": [
      "\u001b[1;31m---------------------------------------------------------------------------\u001b[0m",
      "\u001b[1;31mValueError\u001b[0m                                Traceback (most recent call last)",
      "Cell \u001b[1;32mIn[89], line 1\u001b[0m\n\u001b[1;32m----> 1\u001b[0m \u001b[38;5;28;01mfor\u001b[39;00m name, film_name \u001b[38;5;129;01min\u001b[39;00m {k: v \u001b[38;5;28;01mfor\u001b[39;00m k, v \u001b[38;5;129;01min\u001b[39;00m friends}:\n\u001b[0;32m      2\u001b[0m     \u001b[38;5;28mprint\u001b[39m(name,film_name)\n",
      "\u001b[1;31mValueError\u001b[0m: too many values to unpack (expected 2)"
     ]
    }
   ],
   "source": [
    "for name, film_name in {k: v for k, v in friends}:\n",
    "    print(name,film_name)"
   ]
  }
 ],
 "metadata": {
  "kernelspec": {
   "display_name": "Python 3 (ipykernel)",
   "language": "python",
   "name": "python3"
  },
  "language_info": {
   "codemirror_mode": {
    "name": "ipython",
    "version": 3
   },
   "file_extension": ".py",
   "mimetype": "text/x-python",
   "name": "python",
   "nbconvert_exporter": "python",
   "pygments_lexer": "ipython3",
   "version": "3.9.16"
  }
 },
 "nbformat": 4,
 "nbformat_minor": 5
}
