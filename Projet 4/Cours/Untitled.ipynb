{
 "cells": [
  {
   "cell_type": "code",
   "execution_count": 2,
   "id": "07a0c86b",
   "metadata": {},
   "outputs": [
    {
     "name": "stdout",
     "output_type": "stream",
     "text": [
      "5\n"
     ]
    }
   ],
   "source": [
    "x=5\n",
    "print(x)"
   ]
  },
  {
   "cell_type": "code",
   "execution_count": 3,
   "id": "e1cde8e3",
   "metadata": {},
   "outputs": [
    {
     "name": "stdout",
     "output_type": "stream",
     "text": [
      "5.4\n"
     ]
    }
   ],
   "source": [
    "y=5.4\n",
    "print(y)"
   ]
  },
  {
   "cell_type": "code",
   "execution_count": 5,
   "id": "b4dddf0c",
   "metadata": {},
   "outputs": [
    {
     "name": "stdout",
     "output_type": "stream",
     "text": [
      "Silouane aime les jeux videos\n"
     ]
    }
   ],
   "source": [
    "prenom='Silouane'\n",
    "passion='jeux videos'\n",
    "phrase=f'{prenom} aime les {passion}'\n",
    "print(phrase)"
   ]
  },
  {
   "cell_type": "code",
   "execution_count": 6,
   "id": "cd357a8c",
   "metadata": {},
   "outputs": [],
   "source": [
    "def calcul_aire_carre(cote_carre):\n",
    "    aire_carre=cote_carre**2\n",
    "    return aire_carre"
   ]
  },
  {
   "cell_type": "code",
   "execution_count": 12,
   "id": "bdbcfe75",
   "metadata": {},
   "outputs": [
    {
     "name": "stdout",
     "output_type": "stream",
     "text": [
      "64\n"
     ]
    }
   ],
   "source": [
    "aire_carre_cote_8=calcul_aire_carre(8)\n",
    "print(aire_carre_cote_8)"
   ]
  },
  {
   "cell_type": "code",
   "execution_count": 14,
   "id": "08c42ce1",
   "metadata": {},
   "outputs": [
    {
     "data": {
      "text/plain": [
       "64"
      ]
     },
     "execution_count": 14,
     "metadata": {},
     "output_type": "execute_result"
    }
   ],
   "source": [
    "aire_carre_cote_8"
   ]
  },
  {
   "cell_type": "code",
   "execution_count": 13,
   "id": "c6e9d5ff",
   "metadata": {},
   "outputs": [
    {
     "data": {
      "text/plain": [
       "900"
      ]
     },
     "execution_count": 13,
     "metadata": {},
     "output_type": "execute_result"
    }
   ],
   "source": [
    "calcul_aire_carre(30)"
   ]
  },
  {
   "cell_type": "code",
   "execution_count": 21,
   "id": "07879eeb",
   "metadata": {},
   "outputs": [
    {
     "data": {
      "text/plain": [
       "'Silou'"
      ]
     },
     "execution_count": 21,
     "metadata": {},
     "output_type": "execute_result"
    }
   ],
   "source": [
    "surnom=prenom[:5]\n",
    "surnom"
   ]
  },
  {
   "cell_type": "code",
   "execution_count": 22,
   "id": "64cfa727",
   "metadata": {},
   "outputs": [
    {
     "data": {
      "text/plain": [
       "'Silouane'"
      ]
     },
     "execution_count": 22,
     "metadata": {},
     "output_type": "execute_result"
    }
   ],
   "source": [
    "prenom"
   ]
  },
  {
   "cell_type": "code",
   "execution_count": 23,
   "id": "df7c276e",
   "metadata": {},
   "outputs": [
    {
     "data": {
      "text/plain": [
       "'Silou'"
      ]
     },
     "execution_count": 23,
     "metadata": {},
     "output_type": "execute_result"
    }
   ],
   "source": [
    "surnom"
   ]
  },
  {
   "cell_type": "code",
   "execution_count": 40,
   "id": "d7b49b21",
   "metadata": {},
   "outputs": [
    {
     "data": {
      "text/plain": [
       "['Florian', 'Marie', 'Jean', 'Judith', 'Raphael']"
      ]
     },
     "execution_count": 40,
     "metadata": {},
     "output_type": "execute_result"
    }
   ],
   "source": [
    "prenom=['Florian','Marie','Jean','Judith','Raphael']\n",
    "prenom"
   ]
  },
  {
   "cell_type": "code",
   "execution_count": 39,
   "id": "9412d514",
   "metadata": {},
   "outputs": [
    {
     "data": {
      "text/plain": [
       "[46, 44, 34, 31, 27]"
      ]
     },
     "execution_count": 39,
     "metadata": {},
     "output_type": "execute_result"
    }
   ],
   "source": [
    "age=[46,44,34,31,27]\n",
    "age"
   ]
  },
  {
   "cell_type": "code",
   "execution_count": 41,
   "id": "f03a942b",
   "metadata": {},
   "outputs": [],
   "source": [
    "dictionnaire_tonton_tata={'Florian':46,'Marie':44,'Jean':34}"
   ]
  },
  {
   "cell_type": "code",
   "execution_count": null,
   "id": "30a6063e",
   "metadata": {},
   "outputs": [],
   "source": [
    "{prenom:age}"
   ]
  }
 ],
 "metadata": {
  "kernelspec": {
   "display_name": "Python 3 (ipykernel)",
   "language": "python",
   "name": "python3"
  },
  "language_info": {
   "codemirror_mode": {
    "name": "ipython",
    "version": 3
   },
   "file_extension": ".py",
   "mimetype": "text/x-python",
   "name": "python",
   "nbconvert_exporter": "python",
   "pygments_lexer": "ipython3",
   "version": "3.9.13"
  }
 },
 "nbformat": 4,
 "nbformat_minor": 5
}
