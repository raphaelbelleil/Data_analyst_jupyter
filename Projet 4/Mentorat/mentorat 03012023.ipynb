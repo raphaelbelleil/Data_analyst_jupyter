{
 "cells": [
  {
   "cell_type": "code",
   "execution_count": 2,
   "id": "1eb0d023",
   "metadata": {},
   "outputs": [
    {
     "data": {
      "text/plain": [
       "[2, 5, 6, 8, 9, 2, 4]"
      ]
     },
     "execution_count": 2,
     "metadata": {},
     "output_type": "execute_result"
    }
   ],
   "source": [
    "liste=[2,5,6,8,9,2,4]\n",
    "liste"
   ]
  },
  {
   "cell_type": "code",
   "execution_count": 6,
   "id": "4a1554c7",
   "metadata": {},
   "outputs": [
    {
     "name": "stdout",
     "output_type": "stream",
     "text": [
      "2\n",
      "6\n",
      "8\n",
      "2\n",
      "4\n"
     ]
    }
   ],
   "source": [
    "for element in liste:\n",
    "    if element%2==0:\n",
    "        print(element)\n",
    "    \n",
    " "
   ]
  },
  {
   "cell_type": "code",
   "execution_count": 7,
   "id": "04782aea",
   "metadata": {},
   "outputs": [
    {
     "data": {
      "text/plain": [
       "'voici une phrase'"
      ]
     },
     "execution_count": 7,
     "metadata": {},
     "output_type": "execute_result"
    }
   ],
   "source": [
    "phrase='voici une phrase'\n",
    "phrase"
   ]
  },
  {
   "cell_type": "code",
   "execution_count": 10,
   "id": "1d6cc7d8",
   "metadata": {},
   "outputs": [
    {
     "data": {
      "text/plain": [
       "'voici'"
      ]
     },
     "execution_count": 10,
     "metadata": {},
     "output_type": "execute_result"
    }
   ],
   "source": [
    "phrase[:5]"
   ]
  },
  {
   "cell_type": "code",
   "execution_count": 12,
   "id": "ced8330f",
   "metadata": {},
   "outputs": [
    {
     "data": {
      "text/plain": [
       "'phrase'"
      ]
     },
     "execution_count": 12,
     "metadata": {},
     "output_type": "execute_result"
    }
   ],
   "source": [
    "phrase[-6:]"
   ]
  },
  {
   "cell_type": "code",
   "execution_count": 14,
   "id": "32d59a3d",
   "metadata": {},
   "outputs": [
    {
     "data": {
      "text/plain": [
       "'viiueprs'"
      ]
     },
     "execution_count": 14,
     "metadata": {},
     "output_type": "execute_result"
    }
   ],
   "source": [
    "phrase[::2]"
   ]
  },
  {
   "cell_type": "code",
   "execution_count": 15,
   "id": "ede2c603",
   "metadata": {},
   "outputs": [
    {
     "data": {
      "text/plain": [
       "'esarhp enu iciov'"
      ]
     },
     "execution_count": 15,
     "metadata": {},
     "output_type": "execute_result"
    }
   ],
   "source": [
    "phrase[::-1]"
   ]
  },
  {
   "cell_type": "code",
   "execution_count": 17,
   "id": "9ddd1fe7",
   "metadata": {},
   "outputs": [
    {
     "data": {
      "text/plain": [
       "25"
      ]
     },
     "execution_count": 17,
     "metadata": {},
     "output_type": "execute_result"
    }
   ],
   "source": [
    "def fonction(x):\n",
    "    y=4*x+5\n",
    "    return y\n",
    "fonction(5)"
   ]
  },
  {
   "cell_type": "code",
   "execution_count": 19,
   "id": "063ccbb3",
   "metadata": {},
   "outputs": [
    {
     "data": {
      "text/plain": [
       "[13, 25, 29, 37, 41, 13, 21]"
      ]
     },
     "execution_count": 19,
     "metadata": {},
     "output_type": "execute_result"
    }
   ],
   "source": [
    "list(map(fonction,liste))"
   ]
  },
  {
   "cell_type": "code",
   "execution_count": 20,
   "id": "a747099a",
   "metadata": {},
   "outputs": [
    {
     "data": {
      "text/plain": [
       "[13, 25, 29, 37, 41, 13, 21]"
      ]
     },
     "execution_count": 20,
     "metadata": {},
     "output_type": "execute_result"
    }
   ],
   "source": [
    "list(map(lambda x:4*x+5,liste))"
   ]
  },
  {
   "cell_type": "code",
   "execution_count": 21,
   "id": "c87a1fa2",
   "metadata": {},
   "outputs": [
    {
     "name": "stdout",
     "output_type": "stream",
     "text": [
      "8.804867029190063 seconds\n",
      "0.28363823890686035 seconds\n"
     ]
    }
   ],
   "source": [
    "import numpy as np\n",
    "a= np.random.random(int(1e8))\n",
    "\n",
    "import time\n",
    "start=time.time()\n",
    "sum(a) / len(a)\n",
    "print(time.time() - start, 'seconds')\n",
    "\n",
    "start = time.time()\n",
    "np.mean(a)\n",
    "print(time.time() - start, 'seconds')"
   ]
  },
  {
   "cell_type": "code",
   "execution_count": 29,
   "id": "a44986fd",
   "metadata": {},
   "outputs": [
    {
     "data": {
      "text/html": [
       "<div>\n",
       "<style scoped>\n",
       "    .dataframe tbody tr th:only-of-type {\n",
       "        vertical-align: middle;\n",
       "    }\n",
       "\n",
       "    .dataframe tbody tr th {\n",
       "        vertical-align: top;\n",
       "    }\n",
       "\n",
       "    .dataframe thead th {\n",
       "        text-align: right;\n",
       "    }\n",
       "</style>\n",
       "<table border=\"1\" class=\"dataframe\">\n",
       "  <thead>\n",
       "    <tr style=\"text-align: right;\">\n",
       "      <th></th>\n",
       "      <th>Zone</th>\n",
       "      <th>Produit</th>\n",
       "      <th>Origine</th>\n",
       "      <th>Aliments pour animaux</th>\n",
       "      <th>Autres Utilisations</th>\n",
       "      <th>Disponibilité alimentaire (Kcal/personne/jour)</th>\n",
       "      <th>Disponibilité alimentaire en quantité (kg/personne/an)</th>\n",
       "      <th>Disponibilité de matière grasse en quantité (g/personne/jour)</th>\n",
       "      <th>Disponibilité de protéines en quantité (g/personne/jour)</th>\n",
       "      <th>Disponibilité intérieure</th>\n",
       "      <th>Exportations - Quantité</th>\n",
       "      <th>Importations - Quantité</th>\n",
       "      <th>Nourriture</th>\n",
       "      <th>Pertes</th>\n",
       "      <th>Production</th>\n",
       "      <th>Semences</th>\n",
       "      <th>Traitement</th>\n",
       "      <th>Variation de stock</th>\n",
       "      <th>Unnamed: 18</th>\n",
       "    </tr>\n",
       "  </thead>\n",
       "  <tbody>\n",
       "    <tr>\n",
       "      <th>0</th>\n",
       "      <td>Afghanistan</td>\n",
       "      <td>Abats Comestible</td>\n",
       "      <td>animale</td>\n",
       "      <td>NaN</td>\n",
       "      <td>NaN</td>\n",
       "      <td>5.0</td>\n",
       "      <td>1,72</td>\n",
       "      <td>0,2</td>\n",
       "      <td>0,77</td>\n",
       "      <td>53</td>\n",
       "      <td>NaN</td>\n",
       "      <td>NaN</td>\n",
       "      <td>53.0</td>\n",
       "      <td>NaN</td>\n",
       "      <td>53.0</td>\n",
       "      <td>NaN</td>\n",
       "      <td>NaN</td>\n",
       "      <td>NaN</td>\n",
       "      <td>NaN</td>\n",
       "    </tr>\n",
       "    <tr>\n",
       "      <th>1</th>\n",
       "      <td>Afghanistan</td>\n",
       "      <td>Agrumes, Autres</td>\n",
       "      <td>vegetale</td>\n",
       "      <td>NaN</td>\n",
       "      <td>NaN</td>\n",
       "      <td>1.0</td>\n",
       "      <td>1,29</td>\n",
       "      <td>0,01</td>\n",
       "      <td>0,02</td>\n",
       "      <td>41</td>\n",
       "      <td>2.0</td>\n",
       "      <td>40.0</td>\n",
       "      <td>39.0</td>\n",
       "      <td>2.0</td>\n",
       "      <td>3.0</td>\n",
       "      <td>NaN</td>\n",
       "      <td>NaN</td>\n",
       "      <td>NaN</td>\n",
       "      <td>NaN</td>\n",
       "    </tr>\n",
       "    <tr>\n",
       "      <th>2</th>\n",
       "      <td>Afghanistan</td>\n",
       "      <td>Aliments pour enfants</td>\n",
       "      <td>vegetale</td>\n",
       "      <td>NaN</td>\n",
       "      <td>NaN</td>\n",
       "      <td>1.0</td>\n",
       "      <td>0,06</td>\n",
       "      <td>0,01</td>\n",
       "      <td>0,03</td>\n",
       "      <td>2</td>\n",
       "      <td>NaN</td>\n",
       "      <td>2.0</td>\n",
       "      <td>2.0</td>\n",
       "      <td>NaN</td>\n",
       "      <td>NaN</td>\n",
       "      <td>NaN</td>\n",
       "      <td>NaN</td>\n",
       "      <td>NaN</td>\n",
       "      <td>NaN</td>\n",
       "    </tr>\n",
       "    <tr>\n",
       "      <th>3</th>\n",
       "      <td>Afghanistan</td>\n",
       "      <td>Ananas</td>\n",
       "      <td>vegetale</td>\n",
       "      <td>NaN</td>\n",
       "      <td>NaN</td>\n",
       "      <td>0.0</td>\n",
       "      <td>0</td>\n",
       "      <td>NaN</td>\n",
       "      <td>NaN</td>\n",
       "      <td>0</td>\n",
       "      <td>NaN</td>\n",
       "      <td>0.0</td>\n",
       "      <td>0.0</td>\n",
       "      <td>NaN</td>\n",
       "      <td>NaN</td>\n",
       "      <td>NaN</td>\n",
       "      <td>NaN</td>\n",
       "      <td>NaN</td>\n",
       "      <td>NaN</td>\n",
       "    </tr>\n",
       "    <tr>\n",
       "      <th>4</th>\n",
       "      <td>Afghanistan</td>\n",
       "      <td>Bananes</td>\n",
       "      <td>vegetale</td>\n",
       "      <td>NaN</td>\n",
       "      <td>NaN</td>\n",
       "      <td>4.0</td>\n",
       "      <td>2,7</td>\n",
       "      <td>0,02</td>\n",
       "      <td>0,05</td>\n",
       "      <td>82</td>\n",
       "      <td>NaN</td>\n",
       "      <td>82.0</td>\n",
       "      <td>82.0</td>\n",
       "      <td>NaN</td>\n",
       "      <td>NaN</td>\n",
       "      <td>NaN</td>\n",
       "      <td>NaN</td>\n",
       "      <td>NaN</td>\n",
       "      <td>NaN</td>\n",
       "    </tr>\n",
       "  </tbody>\n",
       "</table>\n",
       "</div>"
      ],
      "text/plain": [
       "          Zone                Produit   Origine Aliments pour animaux  \\\n",
       "0  Afghanistan       Abats Comestible   animale                   NaN   \n",
       "1  Afghanistan        Agrumes, Autres  vegetale                   NaN   \n",
       "2  Afghanistan  Aliments pour enfants  vegetale                   NaN   \n",
       "3  Afghanistan                 Ananas  vegetale                   NaN   \n",
       "4  Afghanistan                Bananes  vegetale                   NaN   \n",
       "\n",
       "   Autres Utilisations  Disponibilité alimentaire (Kcal/personne/jour)  \\\n",
       "0                  NaN                                             5.0   \n",
       "1                  NaN                                             1.0   \n",
       "2                  NaN                                             1.0   \n",
       "3                  NaN                                             0.0   \n",
       "4                  NaN                                             4.0   \n",
       "\n",
       "  Disponibilité alimentaire en quantité (kg/personne/an)  \\\n",
       "0                                               1,72       \n",
       "1                                               1,29       \n",
       "2                                               0,06       \n",
       "3                                                  0       \n",
       "4                                                2,7       \n",
       "\n",
       "  Disponibilité de matière grasse en quantité (g/personne/jour)  \\\n",
       "0                                                0,2              \n",
       "1                                               0,01              \n",
       "2                                               0,01              \n",
       "3                                                NaN              \n",
       "4                                               0,02              \n",
       "\n",
       "  Disponibilité de protéines en quantité (g/personne/jour)  \\\n",
       "0                                               0,77         \n",
       "1                                               0,02         \n",
       "2                                               0,03         \n",
       "3                                                NaN         \n",
       "4                                               0,05         \n",
       "\n",
       "  Disponibilité intérieure  Exportations - Quantité  Importations - Quantité  \\\n",
       "0                       53                      NaN                      NaN   \n",
       "1                       41                      2.0                     40.0   \n",
       "2                        2                      NaN                      2.0   \n",
       "3                        0                      NaN                      0.0   \n",
       "4                       82                      NaN                     82.0   \n",
       "\n",
       "   Nourriture  Pertes  Production  Semences  Traitement  Variation de stock  \\\n",
       "0        53.0     NaN        53.0       NaN         NaN                 NaN   \n",
       "1        39.0     2.0         3.0       NaN         NaN                 NaN   \n",
       "2         2.0     NaN         NaN       NaN         NaN                 NaN   \n",
       "3         0.0     NaN         NaN       NaN         NaN                 NaN   \n",
       "4        82.0     NaN         NaN       NaN         NaN                 NaN   \n",
       "\n",
       "   Unnamed: 18  \n",
       "0          NaN  \n",
       "1          NaN  \n",
       "2          NaN  \n",
       "3          NaN  \n",
       "4          NaN  "
      ]
     },
     "execution_count": 29,
     "metadata": {},
     "output_type": "execute_result"
    }
   ],
   "source": [
    "import pandas as pd\n",
    "folder='D:/Formation Data Analyst/Projet 4/Données/DAN-P4-FAO/'\n",
    "df_dispo_alimentaire=pd.read_csv('D:/Formation Data Analyst/Projet 4/Données/DAN-P4-FAO/dispo_alimentaire.csv',sep=';')\n",
    "df_dispo_alimentaire.head()"
   ]
  },
  {
   "cell_type": "code",
   "execution_count": 30,
   "id": "89b0f8e3",
   "metadata": {},
   "outputs": [
    {
     "name": "stdout",
     "output_type": "stream",
     "text": [
      "<class 'pandas.core.frame.DataFrame'>\n",
      "RangeIndex: 15605 entries, 0 to 15604\n",
      "Data columns (total 19 columns):\n",
      " #   Column                                                         Non-Null Count  Dtype  \n",
      "---  ------                                                         --------------  -----  \n",
      " 0   Zone                                                           15605 non-null  object \n",
      " 1   Produit                                                        15605 non-null  object \n",
      " 2   Origine                                                        15605 non-null  object \n",
      " 3   Aliments pour animaux                                          2858 non-null   object \n",
      " 4   Autres Utilisations                                            5469 non-null   float64\n",
      " 5   Disponibilité alimentaire (Kcal/personne/jour)                 14143 non-null  float64\n",
      " 6   Disponibilité alimentaire en quantité (kg/personne/an)         14017 non-null  object \n",
      " 7   Disponibilité de matière grasse en quantité (g/personne/jour)  11812 non-null  object \n",
      " 8   Disponibilité de protéines en quantité (g/personne/jour)       11566 non-null  object \n",
      " 9   Disponibilité intérieure                                       15346 non-null  object \n",
      " 10  Exportations - Quantité                                        12229 non-null  float64\n",
      " 11  Importations - Quantité                                        14853 non-null  float64\n",
      " 12  Nourriture                                                     14024 non-null  float64\n",
      " 13  Pertes                                                         4379 non-null   float64\n",
      " 14  Production                                                     9095 non-null   float64\n",
      " 15  Semences                                                       2215 non-null   float64\n",
      " 16  Traitement                                                     2279 non-null   float64\n",
      " 17  Variation de stock                                             6727 non-null   float64\n",
      " 18  Unnamed: 18                                                    97 non-null     float64\n",
      "dtypes: float64(11), object(8)\n",
      "memory usage: 2.3+ MB\n"
     ]
    }
   ],
   "source": [
    "df_dispo_alimentaire.info()"
   ]
  },
  {
   "cell_type": "code",
   "execution_count": null,
   "id": "9bec8f88",
   "metadata": {},
   "outputs": [],
   "source": [
    "for i in df_sous_nutrition['Pays'].unique():\n",
    "    if i not in df_population['Pays'].unique():\n",
    "        print(i)"
   ]
  }
 ],
 "metadata": {
  "kernelspec": {
   "display_name": "Python 3 (ipykernel)",
   "language": "python",
   "name": "python3"
  },
  "language_info": {
   "codemirror_mode": {
    "name": "ipython",
    "version": 3
   },
   "file_extension": ".py",
   "mimetype": "text/x-python",
   "name": "python",
   "nbconvert_exporter": "python",
   "pygments_lexer": "ipython3",
   "version": "3.9.13"
  }
 },
 "nbformat": 4,
 "nbformat_minor": 5
}
