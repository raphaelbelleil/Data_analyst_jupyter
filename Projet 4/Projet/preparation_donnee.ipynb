{
 "cells": [
  {
   "cell_type": "markdown",
   "id": "587a84a9",
   "metadata": {},
   "source": [
    "# Préparation Données\n",
    "\n",
    "## Sommaire <a id='sommaire'></a>\n",
    "<ol>\n",
    "    <li><a href=\"#sous_nutrition\">Préparation données fichier sous_nutrition</a></li>    \n",
    "        <ol>\n",
    "            <li><a href=\"#sous_nutrition_import\">Import du fichier csv sous_nutrition</a></li>\n",
    "            <li><a href=\"#sous_nutrition_description\">Description</a></li>\n",
    "            <li><a href=\"#sous_nutrition_modification\">Modification</a></li>\n",
    "            <li><a href=\"#sous_nutrition_conversion\">Conversion des types</a></li>\n",
    "            <li><a href=\"#sous_nutrition_date\">Traitement des dates</a></li>\n",
    "            <li><a href=\"#sous_nutrition_traitement_doublons\">Traitement des doublons</a></li>\n",
    "            <li><a href=\"#sous_nutrition_export\">Export du fichier nettoyé en csv</a></li>   \n",
    "        </ol>\n",
    "    <li><a href=\"#population\">Préparation données fichier population</a></li>\n",
    "        <ol>\n",
    "            <li><a href=\"#import_population\">Importation du fichier</a></li>\n",
    "            <li><a href=\"#renommage_population\">Renommage des colonnes</a></li>\n",
    "            <li><a href=\"#exploration_population\">Exploration du fichier</a></li>\n",
    "            <li><a href=\"#modification_colonne_population\">Modification de la colonne Population</a></li>\n",
    "            <li><a href=\"#modification_type_population\">Modification du type de la colonne Population</a></li>\n",
    "            <li><a href=\"#traitement_doublons_population\">Traitement des doublons</a></li>\n",
    "            <li><a href=\"#export_population\">Export du fichier nettoyé en csv</a></li>    \n",
    "        </ol>\n",
    "    <li><a href=\"#aide_alimentaire\">Préparation données fichier aide_alimentaire</a></li>\n",
    "        <ol>\n",
    "            <li><a href=\"#aide_alimentaire_import\">Importation du fichier</a></li>\n",
    "            <li><a href=\"#aide_alimentaire_renommage\">Renommage des colonnes</a></li>\n",
    "            <li><a href=\"#aide_alimentaire_exploration\">Exploration des données</a></li>\n",
    "            <li><a href=\"#aide_alimentaire_traitement_doublons\">Traitement des doublons</a></li>\n",
    "            <li><a href=\"#aide_alimentaire_standardisation\">Standardisation des noms de pays</a></li>\n",
    "            <li><a href=\"#aide_alimentaire_export\">Export fichier nettoyé en csv</a></li>\n",
    "        </ol>\n",
    "    <li><a href=\"#dispo_alimentaire\">Préparation données fichier dispo_alimentaire</a></li>\n",
    "        <ol>\n",
    "            <li><a href=\"#dispo_alimentaire_renommage\">Renommage des colonnes</a></li>\n",
    "            <li><a href=\"#dispo_alimentaire_exploration\">Exploration du fichier</a></li>\n",
    "            <li><a href=\"#dispo_alimentaire_traitement_valnul\">Traitement des valeurs nulles</a></li>\n",
    "            <li><a href=\"#dispo_alimentaire_modif_unites\">Modification des unités</a></li>\n",
    "            <li><a href=\"#dispo_alimentaire_traitement_doublons\">Traitement des doublons</a></li>\n",
    "            <li><a href=\"#dispo_alimentaire_standardisation\">Standardisation des noms de pays avec pour base le nom de pays du fichier population</a></li>\n",
    "            <li><a href=\"#dispo_alimentaire_export\">Export fichier nettoyé en csv</a></li>\n",
    "        </ol>\n",
    "</ol>"
   ]
  },
  {
   "cell_type": "markdown",
   "id": "3520f787",
   "metadata": {},
   "source": [
    "<a id='sous_nutrition'></a>\n",
    "# Préparation données fichier sous_nutrition"
   ]
  },
  {
   "cell_type": "markdown",
   "id": "77865979",
   "metadata": {},
   "source": [
    "<a id='sous_nutrition_import'></a>\n",
    "## Import du fichier csv sous_nutrition<a href=\"#sommaire\" style=\"font-size : 10px ; padding-left:10px\">Retour Sommaire</a>"
   ]
  },
  {
   "cell_type": "code",
   "execution_count": 4,
   "id": "64df60f0",
   "metadata": {},
   "outputs": [],
   "source": [
    "import pandas as pd\n",
    "import numpy as np\n",
    "import matplotlib.pyplot as plt\n",
    "import seaborn as sns\n",
    "folder='D:/Formation Data Analyst/Projet 4/Données/Données analyse python/'"
   ]
  },
  {
   "cell_type": "code",
   "execution_count": 5,
   "id": "b10be16a",
   "metadata": {},
   "outputs": [
    {
     "data": {
      "text/html": [
       "<div>\n",
       "<style scoped>\n",
       "    .dataframe tbody tr th:only-of-type {\n",
       "        vertical-align: middle;\n",
       "    }\n",
       "\n",
       "    .dataframe tbody tr th {\n",
       "        vertical-align: top;\n",
       "    }\n",
       "\n",
       "    .dataframe thead th {\n",
       "        text-align: right;\n",
       "    }\n",
       "</style>\n",
       "<table border=\"1\" class=\"dataframe\">\n",
       "  <thead>\n",
       "    <tr style=\"text-align: right;\">\n",
       "      <th></th>\n",
       "      <th>Zone</th>\n",
       "      <th>Année</th>\n",
       "      <th>Valeur</th>\n",
       "    </tr>\n",
       "  </thead>\n",
       "  <tbody>\n",
       "    <tr>\n",
       "      <th>0</th>\n",
       "      <td>Afghanistan</td>\n",
       "      <td>2012-2014</td>\n",
       "      <td>8.6</td>\n",
       "    </tr>\n",
       "    <tr>\n",
       "      <th>1</th>\n",
       "      <td>Afghanistan</td>\n",
       "      <td>2013-2015</td>\n",
       "      <td>8.8</td>\n",
       "    </tr>\n",
       "    <tr>\n",
       "      <th>2</th>\n",
       "      <td>Afghanistan</td>\n",
       "      <td>2014-2016</td>\n",
       "      <td>8.9</td>\n",
       "    </tr>\n",
       "    <tr>\n",
       "      <th>3</th>\n",
       "      <td>Afghanistan</td>\n",
       "      <td>2015-2017</td>\n",
       "      <td>9.7</td>\n",
       "    </tr>\n",
       "    <tr>\n",
       "      <th>4</th>\n",
       "      <td>Afghanistan</td>\n",
       "      <td>2016-2018</td>\n",
       "      <td>10.5</td>\n",
       "    </tr>\n",
       "  </tbody>\n",
       "</table>\n",
       "</div>"
      ],
      "text/plain": [
       "          Zone      Année Valeur\n",
       "0  Afghanistan  2012-2014    8.6\n",
       "1  Afghanistan  2013-2015    8.8\n",
       "2  Afghanistan  2014-2016    8.9\n",
       "3  Afghanistan  2015-2017    9.7\n",
       "4  Afghanistan  2016-2018   10.5"
      ]
     },
     "execution_count": 5,
     "metadata": {},
     "output_type": "execute_result"
    }
   ],
   "source": [
    "df_sous_nutrition=pd.read_csv(folder+'sous_nutrition.csv')\n",
    "df_sous_nutrition.head()"
   ]
  },
  {
   "cell_type": "markdown",
   "id": "12505411",
   "metadata": {},
   "source": [
    "<a id='sous_nutrition_renom'></a>\n",
    "## Renommage des colonnes"
   ]
  },
  {
   "cell_type": "code",
   "execution_count": 6,
   "id": "362b84aa",
   "metadata": {},
   "outputs": [
    {
     "data": {
      "text/html": [
       "<div>\n",
       "<style scoped>\n",
       "    .dataframe tbody tr th:only-of-type {\n",
       "        vertical-align: middle;\n",
       "    }\n",
       "\n",
       "    .dataframe tbody tr th {\n",
       "        vertical-align: top;\n",
       "    }\n",
       "\n",
       "    .dataframe thead th {\n",
       "        text-align: right;\n",
       "    }\n",
       "</style>\n",
       "<table border=\"1\" class=\"dataframe\">\n",
       "  <thead>\n",
       "    <tr style=\"text-align: right;\">\n",
       "      <th></th>\n",
       "      <th>Pays</th>\n",
       "      <th>Année</th>\n",
       "      <th>Population_en_sous_nutrition</th>\n",
       "    </tr>\n",
       "  </thead>\n",
       "  <tbody>\n",
       "    <tr>\n",
       "      <th>0</th>\n",
       "      <td>Afghanistan</td>\n",
       "      <td>2012-2014</td>\n",
       "      <td>8.6</td>\n",
       "    </tr>\n",
       "    <tr>\n",
       "      <th>1</th>\n",
       "      <td>Afghanistan</td>\n",
       "      <td>2013-2015</td>\n",
       "      <td>8.8</td>\n",
       "    </tr>\n",
       "    <tr>\n",
       "      <th>2</th>\n",
       "      <td>Afghanistan</td>\n",
       "      <td>2014-2016</td>\n",
       "      <td>8.9</td>\n",
       "    </tr>\n",
       "    <tr>\n",
       "      <th>3</th>\n",
       "      <td>Afghanistan</td>\n",
       "      <td>2015-2017</td>\n",
       "      <td>9.7</td>\n",
       "    </tr>\n",
       "    <tr>\n",
       "      <th>4</th>\n",
       "      <td>Afghanistan</td>\n",
       "      <td>2016-2018</td>\n",
       "      <td>10.5</td>\n",
       "    </tr>\n",
       "  </tbody>\n",
       "</table>\n",
       "</div>"
      ],
      "text/plain": [
       "          Pays      Année Population_en_sous_nutrition\n",
       "0  Afghanistan  2012-2014                          8.6\n",
       "1  Afghanistan  2013-2015                          8.8\n",
       "2  Afghanistan  2014-2016                          8.9\n",
       "3  Afghanistan  2015-2017                          9.7\n",
       "4  Afghanistan  2016-2018                         10.5"
      ]
     },
     "execution_count": 6,
     "metadata": {},
     "output_type": "execute_result"
    }
   ],
   "source": [
    "df_sous_nutrition.rename(columns={'Zone':'Pays', 'Valeur':'Population_en_sous_nutrition'}, inplace=True)\n",
    "df_sous_nutrition.head()"
   ]
  },
  {
   "cell_type": "markdown",
   "id": "6760a876",
   "metadata": {},
   "source": [
    "<a id='sous_nutrition_description'></a>\n",
    "## Description du fichier<a href=\"#sommaire\" style=\"font-size : 10px ; padding-left:10px\">Retour Sommaire</a>"
   ]
  },
  {
   "cell_type": "code",
   "execution_count": 7,
   "id": "d5b9eb42",
   "metadata": {},
   "outputs": [
    {
     "data": {
      "text/plain": [
       "(1218, 3)"
      ]
     },
     "execution_count": 7,
     "metadata": {},
     "output_type": "execute_result"
    }
   ],
   "source": [
    "df_sous_nutrition.shape"
   ]
  },
  {
   "cell_type": "code",
   "execution_count": 8,
   "id": "d66f3c6e",
   "metadata": {},
   "outputs": [
    {
     "name": "stdout",
     "output_type": "stream",
     "text": [
      "<class 'pandas.core.frame.DataFrame'>\n",
      "RangeIndex: 1218 entries, 0 to 1217\n",
      "Data columns (total 3 columns):\n",
      " #   Column                        Non-Null Count  Dtype \n",
      "---  ------                        --------------  ----- \n",
      " 0   Pays                          1218 non-null   object\n",
      " 1   Année                         1218 non-null   object\n",
      " 2   Population_en_sous_nutrition  624 non-null    object\n",
      "dtypes: object(3)\n",
      "memory usage: 28.7+ KB\n"
     ]
    }
   ],
   "source": [
    "df_sous_nutrition.info()"
   ]
  },
  {
   "cell_type": "code",
   "execution_count": 9,
   "id": "84757b91",
   "metadata": {},
   "outputs": [
    {
     "data": {
      "text/plain": [
       "Pays                            object\n",
       "Année                           object\n",
       "Population_en_sous_nutrition    object\n",
       "dtype: object"
      ]
     },
     "execution_count": 9,
     "metadata": {},
     "output_type": "execute_result"
    }
   ],
   "source": [
    "df_sous_nutrition.dtypes"
   ]
  },
  {
   "cell_type": "code",
   "execution_count": 10,
   "id": "c0172d35",
   "metadata": {},
   "outputs": [
    {
     "data": {
      "text/html": [
       "<div>\n",
       "<style scoped>\n",
       "    .dataframe tbody tr th:only-of-type {\n",
       "        vertical-align: middle;\n",
       "    }\n",
       "\n",
       "    .dataframe tbody tr th {\n",
       "        vertical-align: top;\n",
       "    }\n",
       "\n",
       "    .dataframe thead th {\n",
       "        text-align: right;\n",
       "    }\n",
       "</style>\n",
       "<table border=\"1\" class=\"dataframe\">\n",
       "  <thead>\n",
       "    <tr style=\"text-align: right;\">\n",
       "      <th></th>\n",
       "      <th>Pays</th>\n",
       "      <th>Année</th>\n",
       "      <th>Population_en_sous_nutrition</th>\n",
       "    </tr>\n",
       "  </thead>\n",
       "  <tbody>\n",
       "    <tr>\n",
       "      <th>count</th>\n",
       "      <td>1218</td>\n",
       "      <td>1218</td>\n",
       "      <td>624</td>\n",
       "    </tr>\n",
       "    <tr>\n",
       "      <th>unique</th>\n",
       "      <td>203</td>\n",
       "      <td>6</td>\n",
       "      <td>139</td>\n",
       "    </tr>\n",
       "    <tr>\n",
       "      <th>top</th>\n",
       "      <td>Afghanistan</td>\n",
       "      <td>2012-2014</td>\n",
       "      <td>&lt;0.1</td>\n",
       "    </tr>\n",
       "    <tr>\n",
       "      <th>freq</th>\n",
       "      <td>6</td>\n",
       "      <td>203</td>\n",
       "      <td>120</td>\n",
       "    </tr>\n",
       "  </tbody>\n",
       "</table>\n",
       "</div>"
      ],
      "text/plain": [
       "               Pays      Année Population_en_sous_nutrition\n",
       "count          1218       1218                          624\n",
       "unique          203          6                          139\n",
       "top     Afghanistan  2012-2014                         <0.1\n",
       "freq              6        203                          120"
      ]
     },
     "execution_count": 10,
     "metadata": {},
     "output_type": "execute_result"
    }
   ],
   "source": [
    "df_sous_nutrition.describe()"
   ]
  },
  {
   "cell_type": "markdown",
   "id": "392e725c",
   "metadata": {},
   "source": [
    "<a id='sous_nutrition_modification'></a>\n",
    "## Modification de certaines valeurs<a href=\"#sommaire\" style=\"font-size : 10px ; padding-left:10px\">Retour Sommaire</a>"
   ]
  },
  {
   "cell_type": "markdown",
   "id": "f46a21f1",
   "metadata": {},
   "source": [
    "### Remplacement des NaN par 0"
   ]
  },
  {
   "cell_type": "code",
   "execution_count": 11,
   "id": "0452687d",
   "metadata": {},
   "outputs": [
    {
     "name": "stdout",
     "output_type": "stream",
     "text": [
      "<class 'pandas.core.frame.DataFrame'>\n",
      "RangeIndex: 1218 entries, 0 to 1217\n",
      "Data columns (total 3 columns):\n",
      " #   Column                        Non-Null Count  Dtype \n",
      "---  ------                        --------------  ----- \n",
      " 0   Pays                          1218 non-null   object\n",
      " 1   Année                         1218 non-null   object\n",
      " 2   Population_en_sous_nutrition  1218 non-null   object\n",
      "dtypes: object(3)\n",
      "memory usage: 28.7+ KB\n"
     ]
    }
   ],
   "source": [
    "df_sous_nutrition.fillna(0, inplace=True)\n",
    "df_sous_nutrition.info()"
   ]
  },
  {
   "cell_type": "markdown",
   "id": "387dde5f",
   "metadata": {},
   "source": [
    "### Dans ['Population_en_sous_nutrition_millions'], remplacement des '<0.1' par 0"
   ]
  },
  {
   "cell_type": "code",
   "execution_count": 12,
   "id": "214f73dd",
   "metadata": {},
   "outputs": [
    {
     "data": {
      "text/html": [
       "<div>\n",
       "<style scoped>\n",
       "    .dataframe tbody tr th:only-of-type {\n",
       "        vertical-align: middle;\n",
       "    }\n",
       "\n",
       "    .dataframe tbody tr th {\n",
       "        vertical-align: top;\n",
       "    }\n",
       "\n",
       "    .dataframe thead th {\n",
       "        text-align: right;\n",
       "    }\n",
       "</style>\n",
       "<table border=\"1\" class=\"dataframe\">\n",
       "  <thead>\n",
       "    <tr style=\"text-align: right;\">\n",
       "      <th></th>\n",
       "      <th>Pays</th>\n",
       "      <th>Année</th>\n",
       "      <th>Population_en_sous_nutrition</th>\n",
       "    </tr>\n",
       "  </thead>\n",
       "  <tbody>\n",
       "    <tr>\n",
       "      <th>0</th>\n",
       "      <td>Afghanistan</td>\n",
       "      <td>2012-2014</td>\n",
       "      <td>8.6</td>\n",
       "    </tr>\n",
       "    <tr>\n",
       "      <th>1</th>\n",
       "      <td>Afghanistan</td>\n",
       "      <td>2013-2015</td>\n",
       "      <td>8.8</td>\n",
       "    </tr>\n",
       "    <tr>\n",
       "      <th>2</th>\n",
       "      <td>Afghanistan</td>\n",
       "      <td>2014-2016</td>\n",
       "      <td>8.9</td>\n",
       "    </tr>\n",
       "    <tr>\n",
       "      <th>3</th>\n",
       "      <td>Afghanistan</td>\n",
       "      <td>2015-2017</td>\n",
       "      <td>9.7</td>\n",
       "    </tr>\n",
       "    <tr>\n",
       "      <th>4</th>\n",
       "      <td>Afghanistan</td>\n",
       "      <td>2016-2018</td>\n",
       "      <td>10.5</td>\n",
       "    </tr>\n",
       "  </tbody>\n",
       "</table>\n",
       "</div>"
      ],
      "text/plain": [
       "          Pays      Année Population_en_sous_nutrition\n",
       "0  Afghanistan  2012-2014                          8.6\n",
       "1  Afghanistan  2013-2015                          8.8\n",
       "2  Afghanistan  2014-2016                          8.9\n",
       "3  Afghanistan  2015-2017                          9.7\n",
       "4  Afghanistan  2016-2018                         10.5"
      ]
     },
     "execution_count": 12,
     "metadata": {},
     "output_type": "execute_result"
    }
   ],
   "source": [
    "df_sous_nutrition.loc[df_sous_nutrition['Population_en_sous_nutrition']=='<0.1','Population_en_sous_nutrition']=0\n",
    "df_sous_nutrition.head()"
   ]
  },
  {
   "cell_type": "code",
   "execution_count": 13,
   "id": "b550ddc3",
   "metadata": {},
   "outputs": [
    {
     "name": "stdout",
     "output_type": "stream",
     "text": [
      "<class 'pandas.core.frame.DataFrame'>\n",
      "RangeIndex: 1218 entries, 0 to 1217\n",
      "Data columns (total 3 columns):\n",
      " #   Column                        Non-Null Count  Dtype \n",
      "---  ------                        --------------  ----- \n",
      " 0   Pays                          1218 non-null   object\n",
      " 1   Année                         1218 non-null   object\n",
      " 2   Population_en_sous_nutrition  1218 non-null   object\n",
      "dtypes: object(3)\n",
      "memory usage: 28.7+ KB\n"
     ]
    }
   ],
   "source": [
    "df_sous_nutrition.info()"
   ]
  },
  {
   "cell_type": "markdown",
   "id": "829f3d08",
   "metadata": {},
   "source": [
    "### Modification colonne Population_en_sous_nutrition"
   ]
  },
  {
   "cell_type": "code",
   "execution_count": 14,
   "id": "9a97bf7f",
   "metadata": {},
   "outputs": [
    {
     "data": {
      "text/html": [
       "<div>\n",
       "<style scoped>\n",
       "    .dataframe tbody tr th:only-of-type {\n",
       "        vertical-align: middle;\n",
       "    }\n",
       "\n",
       "    .dataframe tbody tr th {\n",
       "        vertical-align: top;\n",
       "    }\n",
       "\n",
       "    .dataframe thead th {\n",
       "        text-align: right;\n",
       "    }\n",
       "</style>\n",
       "<table border=\"1\" class=\"dataframe\">\n",
       "  <thead>\n",
       "    <tr style=\"text-align: right;\">\n",
       "      <th></th>\n",
       "      <th>Pays</th>\n",
       "      <th>Année</th>\n",
       "      <th>Population_en_sous_nutrition</th>\n",
       "    </tr>\n",
       "  </thead>\n",
       "  <tbody>\n",
       "    <tr>\n",
       "      <th>0</th>\n",
       "      <td>Afghanistan</td>\n",
       "      <td>2012-2014</td>\n",
       "      <td>8.68.68.68.68.68.68.68.68.68.68.68.68.68.68.68...</td>\n",
       "    </tr>\n",
       "    <tr>\n",
       "      <th>1</th>\n",
       "      <td>Afghanistan</td>\n",
       "      <td>2013-2015</td>\n",
       "      <td>8.88.88.88.88.88.88.88.88.88.88.88.88.88.88.88...</td>\n",
       "    </tr>\n",
       "    <tr>\n",
       "      <th>2</th>\n",
       "      <td>Afghanistan</td>\n",
       "      <td>2014-2016</td>\n",
       "      <td>8.98.98.98.98.98.98.98.98.98.98.98.98.98.98.98...</td>\n",
       "    </tr>\n",
       "    <tr>\n",
       "      <th>3</th>\n",
       "      <td>Afghanistan</td>\n",
       "      <td>2015-2017</td>\n",
       "      <td>9.79.79.79.79.79.79.79.79.79.79.79.79.79.79.79...</td>\n",
       "    </tr>\n",
       "    <tr>\n",
       "      <th>4</th>\n",
       "      <td>Afghanistan</td>\n",
       "      <td>2016-2018</td>\n",
       "      <td>10.510.510.510.510.510.510.510.510.510.510.510...</td>\n",
       "    </tr>\n",
       "  </tbody>\n",
       "</table>\n",
       "</div>"
      ],
      "text/plain": [
       "          Pays      Année                       Population_en_sous_nutrition\n",
       "0  Afghanistan  2012-2014  8.68.68.68.68.68.68.68.68.68.68.68.68.68.68.68...\n",
       "1  Afghanistan  2013-2015  8.88.88.88.88.88.88.88.88.88.88.88.88.88.88.88...\n",
       "2  Afghanistan  2014-2016  8.98.98.98.98.98.98.98.98.98.98.98.98.98.98.98...\n",
       "3  Afghanistan  2015-2017  9.79.79.79.79.79.79.79.79.79.79.79.79.79.79.79...\n",
       "4  Afghanistan  2016-2018  10.510.510.510.510.510.510.510.510.510.510.510..."
      ]
     },
     "execution_count": 14,
     "metadata": {},
     "output_type": "execute_result"
    }
   ],
   "source": [
    "df_sous_nutrition['Population_en_sous_nutrition']=df_sous_nutrition['Population_en_sous_nutrition']*1000000\n",
    "df_sous_nutrition.head()"
   ]
  },
  {
   "cell_type": "markdown",
   "id": "ea485719",
   "metadata": {},
   "source": [
    "<a id='sous_nutrition_conversion'></a>\n",
    "## Conversion des types<a href=\"#sommaire\" style=\"font-size : 10px ; padding-left:10px\">Retour Sommaire</a>"
   ]
  },
  {
   "cell_type": "code",
   "execution_count": 15,
   "id": "366f75b8",
   "metadata": {
    "scrolled": true
   },
   "outputs": [
    {
     "ename": "ValueError",
     "evalue": "invalid literal for int() with base 10: '8.68.68.68.68.68.68.68.68.68.68.68.68.68.68.68.68.68.68.68.68.68.68.68.68.68.68.68.68.68.68.68.68.68.68.68.68.68.68.68.68.68.68.68.68.68.68.68.68.68.68.68.68.68.68.68.68.68.68.68.68.68.68.68.68.68.68",
     "output_type": "error",
     "traceback": [
      "\u001b[1;31m---------------------------------------------------------------------------\u001b[0m",
      "\u001b[1;31mValueError\u001b[0m                                Traceback (most recent call last)",
      "\u001b[1;32m~\\AppData\\Local\\Temp\\ipykernel_16764\\1057552656.py\u001b[0m in \u001b[0;36m<module>\u001b[1;34m\u001b[0m\n\u001b[1;32m----> 1\u001b[1;33m \u001b[0mdf_sous_nutrition\u001b[0m\u001b[1;33m[\u001b[0m\u001b[1;34m'Population_en_sous_nutrition'\u001b[0m\u001b[1;33m]\u001b[0m\u001b[1;33m=\u001b[0m\u001b[0mdf_sous_nutrition\u001b[0m\u001b[1;33m[\u001b[0m\u001b[1;34m'Population_en_sous_nutrition'\u001b[0m\u001b[1;33m]\u001b[0m\u001b[1;33m.\u001b[0m\u001b[0mastype\u001b[0m\u001b[1;33m(\u001b[0m\u001b[1;34m'int64'\u001b[0m\u001b[1;33m)\u001b[0m\u001b[1;33m\u001b[0m\u001b[1;33m\u001b[0m\u001b[0m\n\u001b[0m\u001b[0;32m      2\u001b[0m \u001b[0mdf_sous_nutrition\u001b[0m\u001b[1;33m.\u001b[0m\u001b[0mdtypes\u001b[0m\u001b[1;33m\u001b[0m\u001b[1;33m\u001b[0m\u001b[0m\n",
      "\u001b[1;32mC:\\ProgramData\\Anaconda3\\lib\\site-packages\\pandas\\core\\generic.py\u001b[0m in \u001b[0;36mastype\u001b[1;34m(self, dtype, copy, errors)\u001b[0m\n\u001b[0;32m   5910\u001b[0m         \u001b[1;32melse\u001b[0m\u001b[1;33m:\u001b[0m\u001b[1;33m\u001b[0m\u001b[1;33m\u001b[0m\u001b[0m\n\u001b[0;32m   5911\u001b[0m             \u001b[1;31m# else, only a single dtype is given\u001b[0m\u001b[1;33m\u001b[0m\u001b[1;33m\u001b[0m\u001b[0m\n\u001b[1;32m-> 5912\u001b[1;33m             \u001b[0mnew_data\u001b[0m \u001b[1;33m=\u001b[0m \u001b[0mself\u001b[0m\u001b[1;33m.\u001b[0m\u001b[0m_mgr\u001b[0m\u001b[1;33m.\u001b[0m\u001b[0mastype\u001b[0m\u001b[1;33m(\u001b[0m\u001b[0mdtype\u001b[0m\u001b[1;33m=\u001b[0m\u001b[0mdtype\u001b[0m\u001b[1;33m,\u001b[0m \u001b[0mcopy\u001b[0m\u001b[1;33m=\u001b[0m\u001b[0mcopy\u001b[0m\u001b[1;33m,\u001b[0m \u001b[0merrors\u001b[0m\u001b[1;33m=\u001b[0m\u001b[0merrors\u001b[0m\u001b[1;33m)\u001b[0m\u001b[1;33m\u001b[0m\u001b[1;33m\u001b[0m\u001b[0m\n\u001b[0m\u001b[0;32m   5913\u001b[0m             \u001b[1;32mreturn\u001b[0m \u001b[0mself\u001b[0m\u001b[1;33m.\u001b[0m\u001b[0m_constructor\u001b[0m\u001b[1;33m(\u001b[0m\u001b[0mnew_data\u001b[0m\u001b[1;33m)\u001b[0m\u001b[1;33m.\u001b[0m\u001b[0m__finalize__\u001b[0m\u001b[1;33m(\u001b[0m\u001b[0mself\u001b[0m\u001b[1;33m,\u001b[0m \u001b[0mmethod\u001b[0m\u001b[1;33m=\u001b[0m\u001b[1;34m\"astype\"\u001b[0m\u001b[1;33m)\u001b[0m\u001b[1;33m\u001b[0m\u001b[1;33m\u001b[0m\u001b[0m\n\u001b[0;32m   5914\u001b[0m \u001b[1;33m\u001b[0m\u001b[0m\n",
      "\u001b[1;32mC:\\ProgramData\\Anaconda3\\lib\\site-packages\\pandas\\core\\internals\\managers.py\u001b[0m in \u001b[0;36mastype\u001b[1;34m(self, dtype, copy, errors)\u001b[0m\n\u001b[0;32m    417\u001b[0m \u001b[1;33m\u001b[0m\u001b[0m\n\u001b[0;32m    418\u001b[0m     \u001b[1;32mdef\u001b[0m \u001b[0mastype\u001b[0m\u001b[1;33m(\u001b[0m\u001b[0mself\u001b[0m\u001b[1;33m:\u001b[0m \u001b[0mT\u001b[0m\u001b[1;33m,\u001b[0m \u001b[0mdtype\u001b[0m\u001b[1;33m,\u001b[0m \u001b[0mcopy\u001b[0m\u001b[1;33m:\u001b[0m \u001b[0mbool\u001b[0m \u001b[1;33m=\u001b[0m \u001b[1;32mFalse\u001b[0m\u001b[1;33m,\u001b[0m \u001b[0merrors\u001b[0m\u001b[1;33m:\u001b[0m \u001b[0mstr\u001b[0m \u001b[1;33m=\u001b[0m \u001b[1;34m\"raise\"\u001b[0m\u001b[1;33m)\u001b[0m \u001b[1;33m->\u001b[0m \u001b[0mT\u001b[0m\u001b[1;33m:\u001b[0m\u001b[1;33m\u001b[0m\u001b[1;33m\u001b[0m\u001b[0m\n\u001b[1;32m--> 419\u001b[1;33m         \u001b[1;32mreturn\u001b[0m \u001b[0mself\u001b[0m\u001b[1;33m.\u001b[0m\u001b[0mapply\u001b[0m\u001b[1;33m(\u001b[0m\u001b[1;34m\"astype\"\u001b[0m\u001b[1;33m,\u001b[0m \u001b[0mdtype\u001b[0m\u001b[1;33m=\u001b[0m\u001b[0mdtype\u001b[0m\u001b[1;33m,\u001b[0m \u001b[0mcopy\u001b[0m\u001b[1;33m=\u001b[0m\u001b[0mcopy\u001b[0m\u001b[1;33m,\u001b[0m \u001b[0merrors\u001b[0m\u001b[1;33m=\u001b[0m\u001b[0merrors\u001b[0m\u001b[1;33m)\u001b[0m\u001b[1;33m\u001b[0m\u001b[1;33m\u001b[0m\u001b[0m\n\u001b[0m\u001b[0;32m    420\u001b[0m \u001b[1;33m\u001b[0m\u001b[0m\n\u001b[0;32m    421\u001b[0m     def convert(\n",
      "\u001b[1;32mC:\\ProgramData\\Anaconda3\\lib\\site-packages\\pandas\\core\\internals\\managers.py\u001b[0m in \u001b[0;36mapply\u001b[1;34m(self, f, align_keys, ignore_failures, **kwargs)\u001b[0m\n\u001b[0;32m    302\u001b[0m                     \u001b[0mapplied\u001b[0m \u001b[1;33m=\u001b[0m \u001b[0mb\u001b[0m\u001b[1;33m.\u001b[0m\u001b[0mapply\u001b[0m\u001b[1;33m(\u001b[0m\u001b[0mf\u001b[0m\u001b[1;33m,\u001b[0m \u001b[1;33m**\u001b[0m\u001b[0mkwargs\u001b[0m\u001b[1;33m)\u001b[0m\u001b[1;33m\u001b[0m\u001b[1;33m\u001b[0m\u001b[0m\n\u001b[0;32m    303\u001b[0m                 \u001b[1;32melse\u001b[0m\u001b[1;33m:\u001b[0m\u001b[1;33m\u001b[0m\u001b[1;33m\u001b[0m\u001b[0m\n\u001b[1;32m--> 304\u001b[1;33m                     \u001b[0mapplied\u001b[0m \u001b[1;33m=\u001b[0m \u001b[0mgetattr\u001b[0m\u001b[1;33m(\u001b[0m\u001b[0mb\u001b[0m\u001b[1;33m,\u001b[0m \u001b[0mf\u001b[0m\u001b[1;33m)\u001b[0m\u001b[1;33m(\u001b[0m\u001b[1;33m**\u001b[0m\u001b[0mkwargs\u001b[0m\u001b[1;33m)\u001b[0m\u001b[1;33m\u001b[0m\u001b[1;33m\u001b[0m\u001b[0m\n\u001b[0m\u001b[0;32m    305\u001b[0m             \u001b[1;32mexcept\u001b[0m \u001b[1;33m(\u001b[0m\u001b[0mTypeError\u001b[0m\u001b[1;33m,\u001b[0m \u001b[0mNotImplementedError\u001b[0m\u001b[1;33m)\u001b[0m\u001b[1;33m:\u001b[0m\u001b[1;33m\u001b[0m\u001b[1;33m\u001b[0m\u001b[0m\n\u001b[0;32m    306\u001b[0m                 \u001b[1;32mif\u001b[0m \u001b[1;32mnot\u001b[0m \u001b[0mignore_failures\u001b[0m\u001b[1;33m:\u001b[0m\u001b[1;33m\u001b[0m\u001b[1;33m\u001b[0m\u001b[0m\n",
      "\u001b[1;32mC:\\ProgramData\\Anaconda3\\lib\\site-packages\\pandas\\core\\internals\\blocks.py\u001b[0m in \u001b[0;36mastype\u001b[1;34m(self, dtype, copy, errors)\u001b[0m\n\u001b[0;32m    578\u001b[0m         \u001b[0mvalues\u001b[0m \u001b[1;33m=\u001b[0m \u001b[0mself\u001b[0m\u001b[1;33m.\u001b[0m\u001b[0mvalues\u001b[0m\u001b[1;33m\u001b[0m\u001b[1;33m\u001b[0m\u001b[0m\n\u001b[0;32m    579\u001b[0m \u001b[1;33m\u001b[0m\u001b[0m\n\u001b[1;32m--> 580\u001b[1;33m         \u001b[0mnew_values\u001b[0m \u001b[1;33m=\u001b[0m \u001b[0mastype_array_safe\u001b[0m\u001b[1;33m(\u001b[0m\u001b[0mvalues\u001b[0m\u001b[1;33m,\u001b[0m \u001b[0mdtype\u001b[0m\u001b[1;33m,\u001b[0m \u001b[0mcopy\u001b[0m\u001b[1;33m=\u001b[0m\u001b[0mcopy\u001b[0m\u001b[1;33m,\u001b[0m \u001b[0merrors\u001b[0m\u001b[1;33m=\u001b[0m\u001b[0merrors\u001b[0m\u001b[1;33m)\u001b[0m\u001b[1;33m\u001b[0m\u001b[1;33m\u001b[0m\u001b[0m\n\u001b[0m\u001b[0;32m    581\u001b[0m \u001b[1;33m\u001b[0m\u001b[0m\n\u001b[0;32m    582\u001b[0m         \u001b[0mnew_values\u001b[0m \u001b[1;33m=\u001b[0m \u001b[0mmaybe_coerce_values\u001b[0m\u001b[1;33m(\u001b[0m\u001b[0mnew_values\u001b[0m\u001b[1;33m)\u001b[0m\u001b[1;33m\u001b[0m\u001b[1;33m\u001b[0m\u001b[0m\n",
      "\u001b[1;32mC:\\ProgramData\\Anaconda3\\lib\\site-packages\\pandas\\core\\dtypes\\cast.py\u001b[0m in \u001b[0;36mastype_array_safe\u001b[1;34m(values, dtype, copy, errors)\u001b[0m\n\u001b[0;32m   1290\u001b[0m \u001b[1;33m\u001b[0m\u001b[0m\n\u001b[0;32m   1291\u001b[0m     \u001b[1;32mtry\u001b[0m\u001b[1;33m:\u001b[0m\u001b[1;33m\u001b[0m\u001b[1;33m\u001b[0m\u001b[0m\n\u001b[1;32m-> 1292\u001b[1;33m         \u001b[0mnew_values\u001b[0m \u001b[1;33m=\u001b[0m \u001b[0mastype_array\u001b[0m\u001b[1;33m(\u001b[0m\u001b[0mvalues\u001b[0m\u001b[1;33m,\u001b[0m \u001b[0mdtype\u001b[0m\u001b[1;33m,\u001b[0m \u001b[0mcopy\u001b[0m\u001b[1;33m=\u001b[0m\u001b[0mcopy\u001b[0m\u001b[1;33m)\u001b[0m\u001b[1;33m\u001b[0m\u001b[1;33m\u001b[0m\u001b[0m\n\u001b[0m\u001b[0;32m   1293\u001b[0m     \u001b[1;32mexcept\u001b[0m \u001b[1;33m(\u001b[0m\u001b[0mValueError\u001b[0m\u001b[1;33m,\u001b[0m \u001b[0mTypeError\u001b[0m\u001b[1;33m)\u001b[0m\u001b[1;33m:\u001b[0m\u001b[1;33m\u001b[0m\u001b[1;33m\u001b[0m\u001b[0m\n\u001b[0;32m   1294\u001b[0m         \u001b[1;31m# e.g. astype_nansafe can fail on object-dtype of strings\u001b[0m\u001b[1;33m\u001b[0m\u001b[1;33m\u001b[0m\u001b[0m\n",
      "\u001b[1;32mC:\\ProgramData\\Anaconda3\\lib\\site-packages\\pandas\\core\\dtypes\\cast.py\u001b[0m in \u001b[0;36mastype_array\u001b[1;34m(values, dtype, copy)\u001b[0m\n\u001b[0;32m   1235\u001b[0m \u001b[1;33m\u001b[0m\u001b[0m\n\u001b[0;32m   1236\u001b[0m     \u001b[1;32melse\u001b[0m\u001b[1;33m:\u001b[0m\u001b[1;33m\u001b[0m\u001b[1;33m\u001b[0m\u001b[0m\n\u001b[1;32m-> 1237\u001b[1;33m         \u001b[0mvalues\u001b[0m \u001b[1;33m=\u001b[0m \u001b[0mastype_nansafe\u001b[0m\u001b[1;33m(\u001b[0m\u001b[0mvalues\u001b[0m\u001b[1;33m,\u001b[0m \u001b[0mdtype\u001b[0m\u001b[1;33m,\u001b[0m \u001b[0mcopy\u001b[0m\u001b[1;33m=\u001b[0m\u001b[0mcopy\u001b[0m\u001b[1;33m)\u001b[0m\u001b[1;33m\u001b[0m\u001b[1;33m\u001b[0m\u001b[0m\n\u001b[0m\u001b[0;32m   1238\u001b[0m \u001b[1;33m\u001b[0m\u001b[0m\n\u001b[0;32m   1239\u001b[0m     \u001b[1;31m# in pandas we don't store numpy str dtypes, so convert to object\u001b[0m\u001b[1;33m\u001b[0m\u001b[1;33m\u001b[0m\u001b[0m\n",
      "\u001b[1;32mC:\\ProgramData\\Anaconda3\\lib\\site-packages\\pandas\\core\\dtypes\\cast.py\u001b[0m in \u001b[0;36mastype_nansafe\u001b[1;34m(arr, dtype, copy, skipna)\u001b[0m\n\u001b[0;32m   1152\u001b[0m         \u001b[1;31m# work around NumPy brokenness, #1987\u001b[0m\u001b[1;33m\u001b[0m\u001b[1;33m\u001b[0m\u001b[0m\n\u001b[0;32m   1153\u001b[0m         \u001b[1;32mif\u001b[0m \u001b[0mnp\u001b[0m\u001b[1;33m.\u001b[0m\u001b[0missubdtype\u001b[0m\u001b[1;33m(\u001b[0m\u001b[0mdtype\u001b[0m\u001b[1;33m.\u001b[0m\u001b[0mtype\u001b[0m\u001b[1;33m,\u001b[0m \u001b[0mnp\u001b[0m\u001b[1;33m.\u001b[0m\u001b[0minteger\u001b[0m\u001b[1;33m)\u001b[0m\u001b[1;33m:\u001b[0m\u001b[1;33m\u001b[0m\u001b[1;33m\u001b[0m\u001b[0m\n\u001b[1;32m-> 1154\u001b[1;33m             \u001b[1;32mreturn\u001b[0m \u001b[0mlib\u001b[0m\u001b[1;33m.\u001b[0m\u001b[0mastype_intsafe\u001b[0m\u001b[1;33m(\u001b[0m\u001b[0marr\u001b[0m\u001b[1;33m,\u001b[0m \u001b[0mdtype\u001b[0m\u001b[1;33m)\u001b[0m\u001b[1;33m\u001b[0m\u001b[1;33m\u001b[0m\u001b[0m\n\u001b[0m\u001b[0;32m   1155\u001b[0m \u001b[1;33m\u001b[0m\u001b[0m\n\u001b[0;32m   1156\u001b[0m         \u001b[1;31m# if we have a datetime/timedelta array of objects\u001b[0m\u001b[1;33m\u001b[0m\u001b[1;33m\u001b[0m\u001b[0m\n",
      "\u001b[1;32mC:\\ProgramData\\Anaconda3\\lib\\site-packages\\pandas\\_libs\\lib.pyx\u001b[0m in \u001b[0;36mpandas._libs.lib.astype_intsafe\u001b[1;34m()\u001b[0m\n",
      "\u001b[1;31mValueError\u001b[0m: invalid literal for int() with base 10: '8.68.68.68.68.68.68.68.68.68.68.68.68.68.68.68.68.68.68.68.68.68.68.68.68.68.68.68.68.68.68.68.68.68.68.68.68.68.68.68.68.68.68.68.68.68.68.68.68.68.68.68.68.68.68.68.68.68.68.68.68.68.68.68.68.68.68"
     ]
    }
   ],
   "source": [
    "df_sous_nutrition['Population_en_sous_nutrition']=df_sous_nutrition['Population_en_sous_nutrition'].astype('int64')\n",
    "df_sous_nutrition.dtypes"
   ]
  },
  {
   "cell_type": "markdown",
   "id": "5e72ded9",
   "metadata": {},
   "source": [
    "<a id='sous_nutrition_date'></a>\n",
    "## Remplacement interval année par valeur<a href=\"#sommaire\" style=\"font-size : 10px ; padding-left:10px\">Retour Sommaire</a>"
   ]
  },
  {
   "cell_type": "code",
   "execution_count": null,
   "id": "bbb8e454",
   "metadata": {},
   "outputs": [],
   "source": [
    "index=0\n",
    "for annee in df_sous_nutrition['Année']:\n",
    "    if annee == '2012-2014': df_sous_nutrition.iloc[index,1] = '2013'\n",
    "    elif annee == '2013-2015': df_sous_nutrition.iloc[index,1] = '2014'\n",
    "    elif annee == '2014-2016': df_sous_nutrition.iloc[index,1] = '2015'\n",
    "    elif annee == '2015-2017': df_sous_nutrition.iloc[index,1] = '2016'\n",
    "    elif annee == '2016-2018': df_sous_nutrition.iloc[index,1] = '2017'\n",
    "    elif annee == '2017-2019': df_sous_nutrition.iloc[index,1] = '2018'\n",
    "    index=index+1    "
   ]
  },
  {
   "cell_type": "code",
   "execution_count": null,
   "id": "a0ab11f5",
   "metadata": {},
   "outputs": [],
   "source": [
    "valeur_annee = df_sous_nutrition['Année'].unique()\n",
    "valeur_annee"
   ]
  },
  {
   "cell_type": "code",
   "execution_count": null,
   "id": "f9d98ac5",
   "metadata": {},
   "outputs": [],
   "source": [
    "df_sous_nutrition.head()"
   ]
  },
  {
   "cell_type": "markdown",
   "id": "8c3b1187",
   "metadata": {},
   "source": [
    "## Formatage année<a href=\"#sommaire\" style=\"font-size : 10px ; padding-left:10px\">Retour Sommaire</a>"
   ]
  },
  {
   "cell_type": "code",
   "execution_count": null,
   "id": "a649b85a",
   "metadata": {},
   "outputs": [],
   "source": [
    "df_sous_nutrition['Année']=pd.to_datetime(df_sous_nutrition['Année'])\n",
    "df_sous_nutrition['Année']=df_sous_nutrition['Année'].dt.year\n",
    "df_sous_nutrition.head()"
   ]
  },
  {
   "cell_type": "code",
   "execution_count": null,
   "id": "ffe36cea",
   "metadata": {},
   "outputs": [],
   "source": [
    "df_sous_nutrition.dtypes"
   ]
  },
  {
   "cell_type": "code",
   "execution_count": null,
   "id": "b43930d5",
   "metadata": {},
   "outputs": [],
   "source": [
    "df_sous_nutrition.describe(include='all')"
   ]
  },
  {
   "cell_type": "markdown",
   "id": "22644c50",
   "metadata": {},
   "source": [
    "<a id='sous_nutrition_traitement_doublons'></a>\n",
    "## Traitement des doublons<a href=\"#sommaire\" style=\"font-size : 10px ; padding-left:10px\">Retour Sommaire</a>"
   ]
  },
  {
   "cell_type": "code",
   "execution_count": null,
   "id": "cd9468b1",
   "metadata": {},
   "outputs": [],
   "source": [
    "df_sous_nutrition[df_sous_nutrition.duplicated(subset=['Pays','Année'])]"
   ]
  },
  {
   "cell_type": "code",
   "execution_count": null,
   "id": "3c6b2556",
   "metadata": {},
   "outputs": [],
   "source": [
    "df_sous_nutrition.drop_duplicates(subset=['Pays','Année'])"
   ]
  },
  {
   "cell_type": "code",
   "execution_count": null,
   "id": "d670110d",
   "metadata": {},
   "outputs": [],
   "source": [
    "df_sous_nutrition.head(30)"
   ]
  },
  {
   "cell_type": "markdown",
   "id": "ed1e3037",
   "metadata": {},
   "source": [
    "<a id='sous_nutrition_export'></a>\n",
    "## Export fichier nettoyé en csv<a href=\"#sommaire\" style=\"font-size : 10px ; padding-left:10px\">Retour Sommaire</a>"
   ]
  },
  {
   "cell_type": "code",
   "execution_count": null,
   "id": "42038775",
   "metadata": {},
   "outputs": [],
   "source": [
    "df_sous_nutrition.to_csv(folder+'sous_nutrition_2.csv', index=False)"
   ]
  },
  {
   "cell_type": "markdown",
   "id": "b3597865",
   "metadata": {},
   "source": [
    "<a id='population'></a>\n",
    "# Préparation données fichier population<a href=\"#sommaire\" style=\"font-size : 10px ; padding-left:10px\">Retour Sommaire</a>"
   ]
  },
  {
   "cell_type": "markdown",
   "id": "88dad64c",
   "metadata": {},
   "source": [
    "<a id='import_population'></a>\n",
    "## Importation du fichier <a href=\"#sommaire\" style=\"font-size : 10px ; padding-left:10px\">Retour Sommaire</a>"
   ]
  },
  {
   "cell_type": "code",
   "execution_count": null,
   "id": "d425d808",
   "metadata": {},
   "outputs": [],
   "source": [
    "df_population=pd.read_csv(folder+'population.csv')\n",
    "df_population.head()"
   ]
  },
  {
   "cell_type": "markdown",
   "id": "9d67912a",
   "metadata": {},
   "source": [
    "<a id='renommage_population'></a>\n",
    "## Renommage des colonnes<a href=\"#sommaire\" style=\"font-size : 10px ; padding-left:10px\">Retour Sommaire</a>"
   ]
  },
  {
   "cell_type": "code",
   "execution_count": null,
   "id": "ba31006f",
   "metadata": {},
   "outputs": [],
   "source": [
    "df_population.rename(columns={'Zone':'Pays', 'Valeur':'Population'}, inplace=True)\n",
    "df_population.head()"
   ]
  },
  {
   "cell_type": "markdown",
   "id": "b663b6ac",
   "metadata": {},
   "source": [
    "<a id='exploration_population'></a>\n",
    "## Exploration du fichier<a href=\"#sommaire\" style=\"font-size : 10px ; padding-left:10px\">Retour Sommaire</a>"
   ]
  },
  {
   "cell_type": "code",
   "execution_count": null,
   "id": "cff63467",
   "metadata": {},
   "outputs": [],
   "source": [
    "df_population.shape"
   ]
  },
  {
   "cell_type": "code",
   "execution_count": null,
   "id": "e82f3c74",
   "metadata": {},
   "outputs": [],
   "source": [
    "df_population.info()"
   ]
  },
  {
   "cell_type": "code",
   "execution_count": null,
   "id": "22183f43",
   "metadata": {},
   "outputs": [],
   "source": [
    "df_population.describe(include='all')"
   ]
  },
  {
   "cell_type": "code",
   "execution_count": null,
   "id": "b5ea2733",
   "metadata": {},
   "outputs": [],
   "source": [
    "df_population.dtypes"
   ]
  },
  {
   "cell_type": "markdown",
   "id": "9cb7cb59",
   "metadata": {},
   "source": [
    "<a id='modification_colonne_population'></a>\n",
    "## Modification de la colonne Population<a href=\"#sommaire\" style=\"font-size : 10px ; padding-left:10px\">Retour Sommaire</a>"
   ]
  },
  {
   "cell_type": "code",
   "execution_count": null,
   "id": "22347016",
   "metadata": {},
   "outputs": [],
   "source": [
    "df_population['Population']=df_population['Population']*1000\n",
    "df_population.head()"
   ]
  },
  {
   "cell_type": "markdown",
   "id": "e2b043ca",
   "metadata": {},
   "source": [
    "<a id='modification_type_population'></a>\n",
    "## Modification du type de la colonne Population<a href=\"#sommaire\" style=\"font-size : 10px ; padding-left:10px\">Retour Sommaire</a>"
   ]
  },
  {
   "cell_type": "code",
   "execution_count": null,
   "id": "374aebb9",
   "metadata": {},
   "outputs": [],
   "source": [
    "df_population['Population']=df_population['Population'].astype('int64')"
   ]
  },
  {
   "cell_type": "code",
   "execution_count": null,
   "id": "05b783c4",
   "metadata": {},
   "outputs": [],
   "source": [
    "df_population.head(30)"
   ]
  },
  {
   "cell_type": "markdown",
   "id": "c584de82",
   "metadata": {},
   "source": [
    "<a id='traitement_doublons_population'></a>\n",
    "## Traitement des doublons <a href=\"#sommaire\" style=\"font-size : 10px ; padding-left:10px\">Retour Sommaire</a>"
   ]
  },
  {
   "cell_type": "code",
   "execution_count": null,
   "id": "0f075708",
   "metadata": {},
   "outputs": [],
   "source": [
    "df_population[df_population.duplicated(subset=['Pays','Année'])]"
   ]
  },
  {
   "cell_type": "code",
   "execution_count": null,
   "id": "de7cd141",
   "metadata": {},
   "outputs": [],
   "source": [
    "df_population.drop_duplicates(subset=['Pays','Année'])"
   ]
  },
  {
   "cell_type": "markdown",
   "id": "b61c22c7",
   "metadata": {},
   "source": [
    "<a id='export_population'></a>\n",
    "## Export fichier nettoyé en csv <a href=\"#sommaire\" style=\"font-size : 10px ; padding-left:10px\">Retour Sommaire</a>"
   ]
  },
  {
   "cell_type": "code",
   "execution_count": null,
   "id": "62d9eae8",
   "metadata": {},
   "outputs": [],
   "source": [
    "df_population.to_csv(folder+'population_2.csv', index=False)"
   ]
  },
  {
   "cell_type": "markdown",
   "id": "ac4010cb",
   "metadata": {},
   "source": [
    "<a id='aide_alimentaire'></a>\n",
    "# Préparation données fichier aide_alimentaire<a href=\"#sommaire\" style=\"font-size : 10px ; padding-left:10px\">Retour Sommaire</a>"
   ]
  },
  {
   "cell_type": "markdown",
   "id": "b3106102",
   "metadata": {},
   "source": [
    "<a id='aide_alimentaire_import'></a>\n",
    "## Importation du fichier<a href=\"#sommaire\" style=\"font-size : 10px ; padding-left:10px\">Retour Sommaire</a>"
   ]
  },
  {
   "cell_type": "code",
   "execution_count": null,
   "id": "24edc9e4",
   "metadata": {
    "scrolled": true
   },
   "outputs": [],
   "source": [
    "df_aide_alimentaire=pd.read_csv(folder+'aide_alimentaire.csv')\n",
    "df_aide_alimentaire.head()"
   ]
  },
  {
   "cell_type": "markdown",
   "id": "16484cda",
   "metadata": {},
   "source": [
    "<a id='aide_alimentaire_renommage'></a>\n",
    "## Renommage des colonnes<a href=\"#sommaire\" style=\"font-size : 10px ; padding-left:10px\">Retour Sommaire</a>"
   ]
  },
  {
   "cell_type": "code",
   "execution_count": null,
   "id": "65747a79",
   "metadata": {},
   "outputs": [],
   "source": [
    "df_aide_alimentaire.rename(columns={'Pays bénéficiaire':'Pays','Produit':'Produit_aide','Valeur':'Tonnage aide alimentaire'}, inplace=True)\n",
    "df_aide_alimentaire.head()"
   ]
  },
  {
   "cell_type": "markdown",
   "id": "fa263114",
   "metadata": {},
   "source": [
    "<a id='aide_alimentaire_exploration'></a>\n",
    "## Exploration des données<a href=\"#sommaire\" style=\"font-size : 10px ; padding-left:10px\">Retour Sommaire</a>"
   ]
  },
  {
   "cell_type": "code",
   "execution_count": null,
   "id": "559df829",
   "metadata": {},
   "outputs": [],
   "source": [
    "df_aide_alimentaire.shape"
   ]
  },
  {
   "cell_type": "code",
   "execution_count": null,
   "id": "bf83b3ca",
   "metadata": {},
   "outputs": [],
   "source": [
    "df_aide_alimentaire.info()"
   ]
  },
  {
   "cell_type": "code",
   "execution_count": null,
   "id": "8bd3225c",
   "metadata": {},
   "outputs": [],
   "source": [
    "df_aide_alimentaire.describe(include='all')"
   ]
  },
  {
   "cell_type": "code",
   "execution_count": null,
   "id": "da086965",
   "metadata": {},
   "outputs": [],
   "source": [
    "df_aide_alimentaire.head()"
   ]
  },
  {
   "cell_type": "markdown",
   "id": "5467959b",
   "metadata": {},
   "source": [
    "<a id='aide_alimentaire_traitement_doublons'></a>\n",
    "## Traitement des doublons<a href=\"#sommaire\" style=\"font-size : 10px ; padding-left:10px\">Retour Sommaire</a>"
   ]
  },
  {
   "cell_type": "code",
   "execution_count": null,
   "id": "39e7093b",
   "metadata": {},
   "outputs": [],
   "source": [
    "df_aide_alimentaire[df_aide_alimentaire.duplicated(subset=['Pays','Année','Produit_aide'])]"
   ]
  },
  {
   "cell_type": "code",
   "execution_count": null,
   "id": "5c47f990",
   "metadata": {},
   "outputs": [],
   "source": [
    "df_aide_alimentaire.drop_duplicates(subset=['Pays','Année','Produit_aide'])"
   ]
  },
  {
   "cell_type": "markdown",
   "id": "c1124e44",
   "metadata": {},
   "source": [
    "<a id='aide_alimentaire_standardisation'></a>\n",
    "## Standardisation des noms de pays<a href=\"#sommaire\" style=\"font-size : 10px ; padding-left:10px\">Retour Sommaire</a>"
   ]
  },
  {
   "cell_type": "raw",
   "id": "36c9a87d",
   "metadata": {},
   "source": [
    "Nous allons nous baser sur le nom des pays du fichier population pour chacun des fichiers\n",
    "Dans le fichier aide_alimentaire, il y aura a changer le nom de pays 'Swaziland' en 'Eswatini', pour le fichier sous_nutrition, il n'y avait aucun nom de pays à changer"
   ]
  },
  {
   "cell_type": "code",
   "execution_count": null,
   "id": "b6bd8b42",
   "metadata": {},
   "outputs": [],
   "source": [
    "df_aide_alimentaire.loc[df_aide_alimentaire['Pays']=='Swaziland','Pays']='Eswatini'"
   ]
  },
  {
   "cell_type": "code",
   "execution_count": null,
   "id": "d2e6f1d0",
   "metadata": {},
   "outputs": [],
   "source": [
    "df_aide_alimentaire.loc[df_aide_alimentaire['Pays']=='Eswatini',:]"
   ]
  },
  {
   "cell_type": "markdown",
   "id": "8dfa8de7",
   "metadata": {},
   "source": [
    "<a id='aide_alimentaire_export'></a>\n",
    "## Export fichier nettoyé en csv<a href=\"#sommaire\" style=\"font-size : 10px ; padding-left:10px\">Retour Sommaire</a>"
   ]
  },
  {
   "cell_type": "code",
   "execution_count": null,
   "id": "7cdc06d2",
   "metadata": {},
   "outputs": [],
   "source": [
    "df_aide_alimentaire.to_csv(folder+'aide_alimentaire_2.csv', index=False)"
   ]
  },
  {
   "cell_type": "markdown",
   "id": "14155f2b",
   "metadata": {},
   "source": [
    "<a id='dispo_alimentaire'></a>\n",
    "# Préparation données fichier dispo_alimentaire<a href=\"#sommaire\" style=\"font-size : 10px ; padding-left:10px\">Retour Sommaire</a>"
   ]
  },
  {
   "cell_type": "code",
   "execution_count": null,
   "id": "c8296961",
   "metadata": {},
   "outputs": [],
   "source": [
    "df_dispo_alimentaire=pd.read_csv(folder+'dispo_alimentaire.csv')\n",
    "df_dispo_alimentaire.head()"
   ]
  },
  {
   "cell_type": "markdown",
   "id": "f79fe9f7",
   "metadata": {},
   "source": [
    "<a id='dispo_alimentaire_renommage'></a>\n",
    "## Renommage des colonnes<a href=\"#sommaire\" style=\"font-size : 10px ; padding-left:10px\">Retour Sommaire</a>"
   ]
  },
  {
   "cell_type": "code",
   "execution_count": null,
   "id": "12cc7b04",
   "metadata": {},
   "outputs": [],
   "source": [
    "df_dispo_alimentaire.rename(columns=\n",
    "                            {'Zone':'Pays', \n",
    "                             'Produit':'Produit_disponibilite',\n",
    "                             \"Disponibilité alimentaire en quantité (kg/personne/an)\":\"Disponibilité alimentaire en quantité (g/personne/jour)\"}\n",
    "                            , inplace=True)\n",
    "df_dispo_alimentaire.head()"
   ]
  },
  {
   "cell_type": "markdown",
   "id": "568ac356",
   "metadata": {},
   "source": [
    "<a id='dispo_alimentaire_exploration'></a>\n",
    "## Exploration du fichier<a href=\"#sommaire\" style=\"font-size : 10px ; padding-left:10px\">Retour Sommaire</a>"
   ]
  },
  {
   "cell_type": "code",
   "execution_count": null,
   "id": "c1c0c38e",
   "metadata": {},
   "outputs": [],
   "source": [
    "df_dispo_alimentaire.shape"
   ]
  },
  {
   "cell_type": "code",
   "execution_count": null,
   "id": "c02611f0",
   "metadata": {},
   "outputs": [],
   "source": [
    "df_dispo_alimentaire.info()"
   ]
  },
  {
   "cell_type": "code",
   "execution_count": null,
   "id": "d2327f67",
   "metadata": {},
   "outputs": [],
   "source": [
    "df_dispo_alimentaire.describe()\n",
    "# valeurs négatives est ce normal ?\n",
    "# doit on les passer à 0 ?"
   ]
  },
  {
   "cell_type": "markdown",
   "id": "6f992797",
   "metadata": {},
   "source": [
    "<a id='dispo_alimentaire_traitement_valnul'></a>\n",
    "## Traitement des valeurs nulles<a href=\"#sommaire\" style=\"font-size : 10px ; padding-left:10px\">Retour Sommaire</a>"
   ]
  },
  {
   "cell_type": "code",
   "execution_count": null,
   "id": "499d18b3",
   "metadata": {},
   "outputs": [],
   "source": [
    "df_dispo_alimentaire.fillna(0, inplace=True)\n",
    "df_dispo_alimentaire.info()"
   ]
  },
  {
   "cell_type": "markdown",
   "id": "44aa8842",
   "metadata": {},
   "source": [
    "<a id='dispo_alimentaire_modif_unites'></a>\n",
    "## Modification des unités<a href=\"#sommaire\" style=\"font-size : 10px ; padding-left:10px\">Retour Sommaire</a>"
   ]
  },
  {
   "cell_type": "code",
   "execution_count": null,
   "id": "9ac791b7",
   "metadata": {},
   "outputs": [],
   "source": [
    "df_dispo_alimentaire.head()"
   ]
  },
  {
   "cell_type": "markdown",
   "id": "f1d41e61",
   "metadata": {},
   "source": [
    "### Modification \"Disponibilité alimentaire en quantité (kg/personne/an)\" en \"Disponibilité alimentaire en quantité (g/personne/jour)\""
   ]
  },
  {
   "cell_type": "code",
   "execution_count": null,
   "id": "e922728b",
   "metadata": {},
   "outputs": [],
   "source": [
    "df_dispo_alimentaire[\"Disponibilité alimentaire en quantité (g/personne/jour)\"]=df_dispo_alimentaire[\"Disponibilité alimentaire en quantité (g/personne/jour)\"]*1000/365"
   ]
  },
  {
   "cell_type": "markdown",
   "id": "9ebac595",
   "metadata": {},
   "source": [
    "### On arrondie à 2 décimales la colonne \"Disponibilité alimentaire en quantité (g/personne/jour)\""
   ]
  },
  {
   "cell_type": "code",
   "execution_count": null,
   "id": "21e66b38",
   "metadata": {},
   "outputs": [],
   "source": [
    "df_dispo_alimentaire[\"Disponibilité alimentaire en quantité (g/personne/jour)\"]=round(df_dispo_alimentaire[\"Disponibilité alimentaire en quantité (g/personne/jour)\"],2)"
   ]
  },
  {
   "cell_type": "code",
   "execution_count": null,
   "id": "bd0ab9f6",
   "metadata": {
    "scrolled": true
   },
   "outputs": [],
   "source": [
    "df_dispo_alimentaire.head()"
   ]
  },
  {
   "cell_type": "markdown",
   "id": "38687a01",
   "metadata": {},
   "source": [
    "### Convertissage en tonnes (avant en milliers de tonnes) des 11 variables des utilisations/moyens d’acquisition de la disponibilité alimentaire"
   ]
  },
  {
   "cell_type": "code",
   "execution_count": null,
   "id": "277a4240",
   "metadata": {},
   "outputs": [],
   "source": [
    "df_dispo_alimentaire.iloc[:,3:5]=df_dispo_alimentaire.iloc[:,3:5]*1000\n",
    "df_dispo_alimentaire.iloc[:,9:18]=df_dispo_alimentaire.iloc[:,9:18]*1000"
   ]
  },
  {
   "cell_type": "code",
   "execution_count": null,
   "id": "da1e481e",
   "metadata": {},
   "outputs": [],
   "source": [
    "df_dispo_alimentaire.head()"
   ]
  },
  {
   "cell_type": "markdown",
   "id": "181e4b6d",
   "metadata": {},
   "source": [
    "<a id='dispo_alimentaire_traitement_doublons'></a>\n",
    "## Traitement des doublons<a href=\"#sommaire\" style=\"font-size : 10px ; padding-left:10px\">Retour Sommaire</a>"
   ]
  },
  {
   "cell_type": "code",
   "execution_count": null,
   "id": "20977ed7",
   "metadata": {},
   "outputs": [],
   "source": [
    "df_dispo_alimentaire[df_dispo_alimentaire.duplicated(subset=['Pays','Produit_disponibilite'])]"
   ]
  },
  {
   "cell_type": "code",
   "execution_count": null,
   "id": "be300794",
   "metadata": {},
   "outputs": [],
   "source": [
    "df_dispo_alimentaire.drop_duplicates(subset=['Pays','Produit_disponibilite'])"
   ]
  },
  {
   "cell_type": "markdown",
   "id": "4ae4d89d",
   "metadata": {},
   "source": [
    "<a id='dispo_alimentaire_standardisation'></a>\n",
    "## Standardisation des noms de pays avec pour base le nom de pays du fichier population<a href=\"#sommaire\" style=\"font-size : 10px ; padding-left:10px\">Retour Sommaire</a>"
   ]
  },
  {
   "cell_type": "code",
   "execution_count": null,
   "id": "0924ecf0",
   "metadata": {},
   "outputs": [],
   "source": [
    "df_dispo_alimentaire.loc[df_dispo_alimentaire['Pays']=='Royaume-Uni','Pays']=\"Royaume-Uni de Grande-Bretagne et d'Irlande du Nord\""
   ]
  },
  {
   "cell_type": "code",
   "execution_count": null,
   "id": "bc6b30f8",
   "metadata": {},
   "outputs": [],
   "source": [
    "df_dispo_alimentaire.loc[df_dispo_alimentaire['Pays']==\"Tchéquie (la)\",'Pays']=\"Tchéquie\""
   ]
  },
  {
   "cell_type": "code",
   "execution_count": null,
   "id": "49e06e4f",
   "metadata": {},
   "outputs": [],
   "source": [
    "df_dispo_alimentaire.loc[df_dispo_alimentaire['Pays']==\"Tchéquie\",:]"
   ]
  },
  {
   "cell_type": "markdown",
   "id": "2455c810",
   "metadata": {},
   "source": [
    "<a id='dispo_alimentaire_export'></a>\n",
    "## Export fichier nettoyé en csv<a href=\"#sommaire\" style=\"font-size : 10px ; padding-left:10px\">Retour Sommaire</a>"
   ]
  },
  {
   "cell_type": "code",
   "execution_count": null,
   "id": "143201fe",
   "metadata": {},
   "outputs": [],
   "source": [
    "df_dispo_alimentaire.to_csv(folder+'dispo_alimentaire_2.csv', index=False)"
   ]
  }
 ],
 "metadata": {
  "kernelspec": {
   "display_name": "Python 3 (ipykernel)",
   "language": "python",
   "name": "python3"
  },
  "language_info": {
   "codemirror_mode": {
    "name": "ipython",
    "version": 3
   },
   "file_extension": ".py",
   "mimetype": "text/x-python",
   "name": "python",
   "nbconvert_exporter": "python",
   "pygments_lexer": "ipython3",
   "version": "3.9.13"
  }
 },
 "nbformat": 4,
 "nbformat_minor": 5
}
