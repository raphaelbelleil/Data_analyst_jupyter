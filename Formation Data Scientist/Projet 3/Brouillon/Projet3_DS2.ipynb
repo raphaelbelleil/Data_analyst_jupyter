{
 "cells": [
  {
   "cell_type": "code",
   "execution_count": 11,
   "id": "98d23f28",
   "metadata": {},
   "outputs": [],
   "source": [
    "import numpy as np\n",
    "import pandas as pd\n",
    "import matplotlib.pyplot as plt\n",
    "import seaborn as sns\n",
    "import re\n",
    "\n",
    "import statsmodels.api as sm\n",
    "from statsmodels.stats.outliers_influence import variance_inflation_factor\n",
    "\n",
    "from scipy.stats import iqr, shapiro\n",
    "import scipy.stats as st\n",
    "\n",
    "from sklearn.preprocessing import StandardScaler, OrdinalEncoder, OneHotEncoder\n",
    "from sklearn.model_selection import train_test_split, cross_val_score\n",
    "from sklearn.model_selection import learning_curve\n",
    "from sklearn.metrics import mean_absolute_error, mean_squared_error, median_absolute_error, r2_score\n",
    "\n",
    "from sklearn.linear_model import LinearRegression\n",
    "\n",
    "import warnings\n",
    "\n",
    "folder = \"D:/Openclassrooms_DataScientist/Projet_3/donnees/\"\n",
    "\n",
    "pd.set_option('display.max_columns', 50)\n",
    "pd.set_option('display.max_rows', 400)"
   ]
  },
  {
   "cell_type": "code",
   "execution_count": 12,
   "id": "3ca83d28",
   "metadata": {},
   "outputs": [
    {
     "data": {
      "text/html": [
       "<div>\n",
       "<style scoped>\n",
       "    .dataframe tbody tr th:only-of-type {\n",
       "        vertical-align: middle;\n",
       "    }\n",
       "\n",
       "    .dataframe tbody tr th {\n",
       "        vertical-align: top;\n",
       "    }\n",
       "\n",
       "    .dataframe thead th {\n",
       "        text-align: right;\n",
       "    }\n",
       "</style>\n",
       "<table border=\"1\" class=\"dataframe\">\n",
       "  <thead>\n",
       "    <tr style=\"text-align: right;\">\n",
       "      <th></th>\n",
       "      <th>Quartier</th>\n",
       "      <th>AgeBatiment</th>\n",
       "      <th>NombreUtilisations</th>\n",
       "      <th>PremierTypePropriete</th>\n",
       "      <th>NombreBatiments</th>\n",
       "      <th>NombreEtages</th>\n",
       "      <th>SurfacePlancherTotal</th>\n",
       "      <th>SurfaceTotaleParking</th>\n",
       "      <th>SurfaceTotaleHorsParking</th>\n",
       "      <th>ListeUtilisationsBatiment</th>\n",
       "      <th>UtilisationPrincipale</th>\n",
       "      <th>SurfaceUtilisationPrincipale</th>\n",
       "      <th>UtilisationSecondaire</th>\n",
       "      <th>SurfaceUtilisationSecondaire</th>\n",
       "      <th>UtilisationTertiaire</th>\n",
       "      <th>SurfaceUtilisationTertiaire</th>\n",
       "      <th>Conformité</th>\n",
       "      <th>ConsoSite/S(kBtu/sf)</th>\n",
       "      <th>ConsoSiteNorm/S(kBtu/sf)</th>\n",
       "      <th>ConsoSource/S(kBtu/sf)</th>\n",
       "      <th>ConsoSourceNorm/S(kBtu/sf)</th>\n",
       "      <th>ConsoSiteTot(kBtu)</th>\n",
       "      <th>ConsoSiteTotNorm(kBtu)</th>\n",
       "      <th>Vapeur(kBtu)</th>\n",
       "      <th>Électricité(kBtu)</th>\n",
       "      <th>GazNaturel(kBtu)</th>\n",
       "      <th>EmissionGES</th>\n",
       "      <th>IntensiteGES/S</th>\n",
       "      <th>TrancheAge</th>\n",
       "      <th>Pertes/S(kBtu/sf)</th>\n",
       "      <th>ProportionVapeur</th>\n",
       "      <th>ProportionElectricité</th>\n",
       "      <th>ProportionGazNaturel</th>\n",
       "    </tr>\n",
       "  </thead>\n",
       "  <tbody>\n",
       "    <tr>\n",
       "      <th>0</th>\n",
       "      <td>DOWNTOWN</td>\n",
       "      <td>89</td>\n",
       "      <td>1</td>\n",
       "      <td>Hotel</td>\n",
       "      <td>1.0</td>\n",
       "      <td>12</td>\n",
       "      <td>88434</td>\n",
       "      <td>0</td>\n",
       "      <td>88434</td>\n",
       "      <td>Hotel</td>\n",
       "      <td>Hotel</td>\n",
       "      <td>88434.0</td>\n",
       "      <td>Aucune</td>\n",
       "      <td>0.0</td>\n",
       "      <td>Aucune</td>\n",
       "      <td>0.0</td>\n",
       "      <td>Compliant</td>\n",
       "      <td>81.699997</td>\n",
       "      <td>84.300003</td>\n",
       "      <td>182.500000</td>\n",
       "      <td>189.000000</td>\n",
       "      <td>7226362.5</td>\n",
       "      <td>7456910.0</td>\n",
       "      <td>2003882.00</td>\n",
       "      <td>3946027.0</td>\n",
       "      <td>1276453.0</td>\n",
       "      <td>249.98</td>\n",
       "      <td>2.83</td>\n",
       "      <td>[87,116[</td>\n",
       "      <td>100.800003</td>\n",
       "      <td>0.277302</td>\n",
       "      <td>0.546060</td>\n",
       "      <td>0.176638</td>\n",
       "    </tr>\n",
       "    <tr>\n",
       "      <th>1</th>\n",
       "      <td>DOWNTOWN</td>\n",
       "      <td>20</td>\n",
       "      <td>3</td>\n",
       "      <td>Hotel</td>\n",
       "      <td>1.0</td>\n",
       "      <td>11</td>\n",
       "      <td>103566</td>\n",
       "      <td>15064</td>\n",
       "      <td>88502</td>\n",
       "      <td>Hotel, Parking, Restaurant</td>\n",
       "      <td>Hotel</td>\n",
       "      <td>83880.0</td>\n",
       "      <td>Parking</td>\n",
       "      <td>15064.0</td>\n",
       "      <td>Restaurant</td>\n",
       "      <td>4622.0</td>\n",
       "      <td>Compliant</td>\n",
       "      <td>94.800003</td>\n",
       "      <td>97.900002</td>\n",
       "      <td>176.100006</td>\n",
       "      <td>179.399994</td>\n",
       "      <td>8387933.0</td>\n",
       "      <td>8664479.0</td>\n",
       "      <td>0.00</td>\n",
       "      <td>3242851.0</td>\n",
       "      <td>5145082.0</td>\n",
       "      <td>295.86</td>\n",
       "      <td>2.86</td>\n",
       "      <td>[0,29[</td>\n",
       "      <td>81.300003</td>\n",
       "      <td>0.000000</td>\n",
       "      <td>0.386609</td>\n",
       "      <td>0.613391</td>\n",
       "    </tr>\n",
       "    <tr>\n",
       "      <th>2</th>\n",
       "      <td>DOWNTOWN</td>\n",
       "      <td>47</td>\n",
       "      <td>1</td>\n",
       "      <td>Hotel</td>\n",
       "      <td>1.0</td>\n",
       "      <td>41</td>\n",
       "      <td>956110</td>\n",
       "      <td>196718</td>\n",
       "      <td>759392</td>\n",
       "      <td>Hotel</td>\n",
       "      <td>Hotel</td>\n",
       "      <td>756493.0</td>\n",
       "      <td>Aucune</td>\n",
       "      <td>0.0</td>\n",
       "      <td>Aucune</td>\n",
       "      <td>0.0</td>\n",
       "      <td>Compliant</td>\n",
       "      <td>96.000000</td>\n",
       "      <td>97.699997</td>\n",
       "      <td>241.899994</td>\n",
       "      <td>244.100006</td>\n",
       "      <td>72587024.0</td>\n",
       "      <td>73937112.0</td>\n",
       "      <td>21566554.00</td>\n",
       "      <td>49526664.0</td>\n",
       "      <td>1493800.0</td>\n",
       "      <td>2089.28</td>\n",
       "      <td>2.19</td>\n",
       "      <td>[29,58[</td>\n",
       "      <td>145.899994</td>\n",
       "      <td>0.297113</td>\n",
       "      <td>0.682307</td>\n",
       "      <td>0.020579</td>\n",
       "    </tr>\n",
       "    <tr>\n",
       "      <th>3</th>\n",
       "      <td>DOWNTOWN</td>\n",
       "      <td>90</td>\n",
       "      <td>1</td>\n",
       "      <td>Hotel</td>\n",
       "      <td>1.0</td>\n",
       "      <td>10</td>\n",
       "      <td>61320</td>\n",
       "      <td>0</td>\n",
       "      <td>61320</td>\n",
       "      <td>Hotel</td>\n",
       "      <td>Hotel</td>\n",
       "      <td>61320.0</td>\n",
       "      <td>Aucune</td>\n",
       "      <td>0.0</td>\n",
       "      <td>Aucune</td>\n",
       "      <td>0.0</td>\n",
       "      <td>Compliant</td>\n",
       "      <td>110.800003</td>\n",
       "      <td>113.300003</td>\n",
       "      <td>216.199997</td>\n",
       "      <td>224.000000</td>\n",
       "      <td>6794584.0</td>\n",
       "      <td>6946800.5</td>\n",
       "      <td>2214446.25</td>\n",
       "      <td>2768924.0</td>\n",
       "      <td>1811213.0</td>\n",
       "      <td>286.43</td>\n",
       "      <td>4.67</td>\n",
       "      <td>[87,116[</td>\n",
       "      <td>105.399994</td>\n",
       "      <td>0.325913</td>\n",
       "      <td>0.407519</td>\n",
       "      <td>0.266567</td>\n",
       "    </tr>\n",
       "    <tr>\n",
       "      <th>4</th>\n",
       "      <td>DOWNTOWN</td>\n",
       "      <td>36</td>\n",
       "      <td>3</td>\n",
       "      <td>Hotel</td>\n",
       "      <td>1.0</td>\n",
       "      <td>18</td>\n",
       "      <td>175580</td>\n",
       "      <td>62000</td>\n",
       "      <td>113580</td>\n",
       "      <td>Hotel, Parking, Swimming Pool</td>\n",
       "      <td>Hotel</td>\n",
       "      <td>123445.0</td>\n",
       "      <td>Parking</td>\n",
       "      <td>68009.0</td>\n",
       "      <td>Swimming Pool</td>\n",
       "      <td>0.0</td>\n",
       "      <td>Compliant</td>\n",
       "      <td>114.800003</td>\n",
       "      <td>118.699997</td>\n",
       "      <td>211.399994</td>\n",
       "      <td>215.600006</td>\n",
       "      <td>14172606.0</td>\n",
       "      <td>14656503.0</td>\n",
       "      <td>0.00</td>\n",
       "      <td>5368607.0</td>\n",
       "      <td>8803998.0</td>\n",
       "      <td>505.01</td>\n",
       "      <td>2.88</td>\n",
       "      <td>[29,58[</td>\n",
       "      <td>96.599991</td>\n",
       "      <td>0.000000</td>\n",
       "      <td>0.378802</td>\n",
       "      <td>0.621198</td>\n",
       "    </tr>\n",
       "  </tbody>\n",
       "</table>\n",
       "</div>"
      ],
      "text/plain": [
       "   Quartier  AgeBatiment  NombreUtilisations PremierTypePropriete  \\\n",
       "0  DOWNTOWN           89                   1                Hotel   \n",
       "1  DOWNTOWN           20                   3                Hotel   \n",
       "2  DOWNTOWN           47                   1                Hotel   \n",
       "3  DOWNTOWN           90                   1                Hotel   \n",
       "4  DOWNTOWN           36                   3                Hotel   \n",
       "\n",
       "   NombreBatiments  NombreEtages  SurfacePlancherTotal  SurfaceTotaleParking  \\\n",
       "0              1.0            12                 88434                     0   \n",
       "1              1.0            11                103566                 15064   \n",
       "2              1.0            41                956110                196718   \n",
       "3              1.0            10                 61320                     0   \n",
       "4              1.0            18                175580                 62000   \n",
       "\n",
       "   SurfaceTotaleHorsParking      ListeUtilisationsBatiment  \\\n",
       "0                     88434                          Hotel   \n",
       "1                     88502     Hotel, Parking, Restaurant   \n",
       "2                    759392                          Hotel   \n",
       "3                     61320                          Hotel   \n",
       "4                    113580  Hotel, Parking, Swimming Pool   \n",
       "\n",
       "  UtilisationPrincipale  SurfaceUtilisationPrincipale UtilisationSecondaire  \\\n",
       "0                 Hotel                       88434.0                Aucune   \n",
       "1                 Hotel                       83880.0               Parking   \n",
       "2                 Hotel                      756493.0                Aucune   \n",
       "3                 Hotel                       61320.0                Aucune   \n",
       "4                 Hotel                      123445.0               Parking   \n",
       "\n",
       "   SurfaceUtilisationSecondaire UtilisationTertiaire  \\\n",
       "0                           0.0               Aucune   \n",
       "1                       15064.0           Restaurant   \n",
       "2                           0.0               Aucune   \n",
       "3                           0.0               Aucune   \n",
       "4                       68009.0        Swimming Pool   \n",
       "\n",
       "   SurfaceUtilisationTertiaire Conformité  ConsoSite/S(kBtu/sf)  \\\n",
       "0                          0.0  Compliant             81.699997   \n",
       "1                       4622.0  Compliant             94.800003   \n",
       "2                          0.0  Compliant             96.000000   \n",
       "3                          0.0  Compliant            110.800003   \n",
       "4                          0.0  Compliant            114.800003   \n",
       "\n",
       "   ConsoSiteNorm/S(kBtu/sf)  ConsoSource/S(kBtu/sf)  \\\n",
       "0                 84.300003              182.500000   \n",
       "1                 97.900002              176.100006   \n",
       "2                 97.699997              241.899994   \n",
       "3                113.300003              216.199997   \n",
       "4                118.699997              211.399994   \n",
       "\n",
       "   ConsoSourceNorm/S(kBtu/sf)  ConsoSiteTot(kBtu)  ConsoSiteTotNorm(kBtu)  \\\n",
       "0                  189.000000           7226362.5               7456910.0   \n",
       "1                  179.399994           8387933.0               8664479.0   \n",
       "2                  244.100006          72587024.0              73937112.0   \n",
       "3                  224.000000           6794584.0               6946800.5   \n",
       "4                  215.600006          14172606.0              14656503.0   \n",
       "\n",
       "   Vapeur(kBtu)  Électricité(kBtu)  GazNaturel(kBtu)  EmissionGES  \\\n",
       "0    2003882.00          3946027.0         1276453.0       249.98   \n",
       "1          0.00          3242851.0         5145082.0       295.86   \n",
       "2   21566554.00         49526664.0         1493800.0      2089.28   \n",
       "3    2214446.25          2768924.0         1811213.0       286.43   \n",
       "4          0.00          5368607.0         8803998.0       505.01   \n",
       "\n",
       "   IntensiteGES/S TrancheAge  Pertes/S(kBtu/sf)  ProportionVapeur  \\\n",
       "0            2.83   [87,116[         100.800003          0.277302   \n",
       "1            2.86     [0,29[          81.300003          0.000000   \n",
       "2            2.19    [29,58[         145.899994          0.297113   \n",
       "3            4.67   [87,116[         105.399994          0.325913   \n",
       "4            2.88    [29,58[          96.599991          0.000000   \n",
       "\n",
       "   ProportionElectricité  ProportionGazNaturel  \n",
       "0               0.546060              0.176638  \n",
       "1               0.386609              0.613391  \n",
       "2               0.682307              0.020579  \n",
       "3               0.407519              0.266567  \n",
       "4               0.378802              0.621198  "
      ]
     },
     "execution_count": 12,
     "metadata": {},
     "output_type": "execute_result"
    }
   ],
   "source": [
    "data = pd.read_csv(folder+'data_2.csv', index_col=0)\n",
    "data.head()"
   ]
  },
  {
   "cell_type": "code",
   "execution_count": 13,
   "id": "4f2d9958",
   "metadata": {},
   "outputs": [],
   "source": [
    "# lmplot pour afficher une courbe de regression dans un nuage de point "
   ]
  },
  {
   "cell_type": "code",
   "execution_count": 14,
   "id": "edb09850",
   "metadata": {},
   "outputs": [
    {
     "data": {
      "text/plain": [
       "Quartier                        0\n",
       "AgeBatiment                     0\n",
       "NombreUtilisations              0\n",
       "PremierTypePropriete            0\n",
       "NombreBatiments                 0\n",
       "NombreEtages                    0\n",
       "SurfacePlancherTotal            0\n",
       "SurfaceTotaleParking            0\n",
       "SurfaceTotaleHorsParking        0\n",
       "ListeUtilisationsBatiment       0\n",
       "UtilisationPrincipale           0\n",
       "SurfaceUtilisationPrincipale    0\n",
       "UtilisationSecondaire           0\n",
       "SurfaceUtilisationSecondaire    0\n",
       "UtilisationTertiaire            0\n",
       "SurfaceUtilisationTertiaire     0\n",
       "Conformité                      0\n",
       "ConsoSite/S(kBtu/sf)            0\n",
       "ConsoSiteNorm/S(kBtu/sf)        0\n",
       "ConsoSource/S(kBtu/sf)          0\n",
       "ConsoSourceNorm/S(kBtu/sf)      0\n",
       "ConsoSiteTot(kBtu)              0\n",
       "ConsoSiteTotNorm(kBtu)          0\n",
       "Vapeur(kBtu)                    0\n",
       "Électricité(kBtu)               0\n",
       "GazNaturel(kBtu)                0\n",
       "EmissionGES                     0\n",
       "IntensiteGES/S                  0\n",
       "TrancheAge                      0\n",
       "Pertes/S(kBtu/sf)               0\n",
       "ProportionVapeur                0\n",
       "ProportionElectricité           0\n",
       "ProportionGazNaturel            0\n",
       "dtype: int64"
      ]
     },
     "execution_count": 14,
     "metadata": {},
     "output_type": "execute_result"
    }
   ],
   "source": [
    "data.isna().sum()"
   ]
  },
  {
   "cell_type": "markdown",
   "id": "cc933058",
   "metadata": {},
   "source": [
    "# Création du modèle 1"
   ]
  },
  {
   "cell_type": "code",
   "execution_count": 40,
   "id": "cee3c4a1",
   "metadata": {},
   "outputs": [],
   "source": [
    "data2 = data[['Quartier', 'PremierTypePropriete', 'SurfacePlancherTotal', 'AgeBatiment', 'ConsoSiteTot(kBtu)']]\n",
    "target = 'ConsoSiteTot(kBtu)'"
   ]
  },
  {
   "cell_type": "markdown",
   "id": "6fc6ba1f",
   "metadata": {},
   "source": [
    "### Création des jeux de données"
   ]
  },
  {
   "cell_type": "code",
   "execution_count": 41,
   "id": "42bbe779",
   "metadata": {},
   "outputs": [],
   "source": [
    "def creation_train_test_set(data, target):\n",
    "    \n",
    "    # colonnes categ\n",
    "    var_categ = list(data.select_dtypes(include='object').columns)\n",
    "\n",
    "    # data categ 2\n",
    "    data_categ = data.select_dtypes(include='object')\n",
    "    \n",
    "    # colonnes num\n",
    "    var_num = list(data.drop(columns=target).select_dtypes(exclude='object').columns)\n",
    "\n",
    "    # data num 2\n",
    "    data_num = data.drop(columns=target).select_dtypes(exclude='object')\n",
    "    \n",
    "    # création du train et test set\n",
    "    data_train, data_test = train_test_split(data, test_size=0.2)\n",
    "    \n",
    "    return data_train, data_test, var_categ, data_categ, var_num, data_num"
   ]
  },
  {
   "cell_type": "code",
   "execution_count": 42,
   "id": "8eb836df",
   "metadata": {},
   "outputs": [],
   "source": [
    "data_train, data_test, var_categ, data_categ, var_num, data_num = creation_train_test_set(data2, target)"
   ]
  },
  {
   "cell_type": "code",
   "execution_count": 43,
   "id": "02f1dea4",
   "metadata": {},
   "outputs": [
    {
     "name": "stdout",
     "output_type": "stream",
     "text": [
      "Les dimensions du train_set sont (1219, 5)\n",
      "Les dimensions du test_set sont (305, 5)\n"
     ]
    }
   ],
   "source": [
    "print(f\"Les dimensions du train_set sont {data_train.shape}\")\n",
    "print(f\"Les dimensions du test_set sont {data_test.shape}\")"
   ]
  },
  {
   "cell_type": "markdown",
   "id": "2998ed61",
   "metadata": {},
   "source": [
    "### Preprocessing"
   ]
  },
  {
   "cell_type": "code",
   "execution_count": 44,
   "id": "8f954e0f",
   "metadata": {},
   "outputs": [],
   "source": [
    "def preprocessing(data, target, var_categ, var_num):    \n",
    "\n",
    "    # Encodage\n",
    "    encoder = OrdinalEncoder()\n",
    "    #encoder = OneHotEncoder()\n",
    "\n",
    "    data_encoder = encoder.fit_transform(data[var_categ])\n",
    "    \n",
    "    # Transformation\n",
    "    #var_normal2 = ['Vapeur(kBtu)', 'Électricité(kBtu)', 'GazNaturel(kBtu)']\n",
    "    #data[var_normal2] = np.log(data[var_normal2]).replace(-np.inf, 0)\n",
    "    \n",
    "    # Standardisation\n",
    "    scaler = StandardScaler()\n",
    "\n",
    "    data_scaler = scaler.fit_transform(data[var_num])\n",
    "\n",
    "    # concaténation des 2 preprocessing\n",
    "    #df_scaled = pd.DataFrame(np.concatenate((data_encoder, data_scaler), axis=1), columns=var_categ+var_num)\n",
    "    df_scaled = pd.DataFrame(np.concatenate((data_encoder, data[var_num]), axis=1), columns=var_categ+var_num)\n",
    "\n",
    "    y = data[target].values\n",
    "    X = df_scaled.values\n",
    "    columns = list(df_scaled.columns)\n",
    "    \n",
    "    return X, y, columns"
   ]
  },
  {
   "cell_type": "markdown",
   "id": "42806976",
   "metadata": {},
   "source": [
    "### Modélisation"
   ]
  },
  {
   "cell_type": "code",
   "execution_count": 45,
   "id": "f71ffc50",
   "metadata": {},
   "outputs": [],
   "source": [
    "def modelisation(data_train, data_test, target):\n",
    "    \n",
    "    # creation X_train et y_train\n",
    "    X_train, y_train, columns = preprocessing(data_train, target, var_categ, var_num)\n",
    "    # creation X_test et y_test\n",
    "    X_test, y_test, columns = preprocessing(data_test, target, var_categ, var_num)\n",
    "    \n",
    "    # creation de l'estimateur\n",
    "    reg = LinearRegression()\n",
    "    reg.fit(X_train, y_train)\n",
    "    \n",
    "    return reg.score(X_test, y_test), reg, X_train, X_test, y_train, y_test, columns"
   ]
  },
  {
   "cell_type": "code",
   "execution_count": 46,
   "id": "17b402a1",
   "metadata": {},
   "outputs": [],
   "source": [
    "score, reg, X_train, X_test, y_train, y_test, columns = modelisation(data_train, data_test, target)"
   ]
  },
  {
   "cell_type": "markdown",
   "id": "f229af7b",
   "metadata": {},
   "source": [
    "### Régression avec stats model"
   ]
  },
  {
   "cell_type": "code",
   "execution_count": 47,
   "id": "95754133",
   "metadata": {},
   "outputs": [
    {
     "data": {
      "text/html": [
       "<table class=\"simpletable\">\n",
       "<caption>OLS Regression Results</caption>\n",
       "<tr>\n",
       "  <th>Dep. Variable:</th>            <td>y</td>        <th>  R-squared:         </th> <td>   0.425</td> \n",
       "</tr>\n",
       "<tr>\n",
       "  <th>Model:</th>                   <td>OLS</td>       <th>  Adj. R-squared:    </th> <td>   0.423</td> \n",
       "</tr>\n",
       "<tr>\n",
       "  <th>Method:</th>             <td>Least Squares</td>  <th>  F-statistic:       </th> <td>   224.3</td> \n",
       "</tr>\n",
       "<tr>\n",
       "  <th>Date:</th>             <td>Thu, 10 Aug 2023</td> <th>  Prob (F-statistic):</th> <td>3.57e-144</td>\n",
       "</tr>\n",
       "<tr>\n",
       "  <th>Time:</th>                 <td>14:14:14</td>     <th>  Log-Likelihood:    </th> <td> -21798.</td> \n",
       "</tr>\n",
       "<tr>\n",
       "  <th>No. Observations:</th>      <td>  1219</td>      <th>  AIC:               </th> <td>4.361e+04</td>\n",
       "</tr>\n",
       "<tr>\n",
       "  <th>Df Residuals:</th>          <td>  1214</td>      <th>  BIC:               </th> <td>4.363e+04</td>\n",
       "</tr>\n",
       "<tr>\n",
       "  <th>Df Model:</th>              <td>     4</td>      <th>                     </th>     <td> </td>    \n",
       "</tr>\n",
       "<tr>\n",
       "  <th>Covariance Type:</th>      <td>nonrobust</td>    <th>                     </th>     <td> </td>    \n",
       "</tr>\n",
       "</table>\n",
       "<table class=\"simpletable\">\n",
       "<tr>\n",
       "            <td></td>              <th>coef</th>     <th>std err</th>      <th>t</th>      <th>P>|t|</th>  <th>[0.025</th>    <th>0.975]</th>  \n",
       "</tr>\n",
       "<tr>\n",
       "  <th>const</th>                <td> 3.508e+06</td> <td> 1.58e+06</td> <td>    2.226</td> <td> 0.026</td> <td> 4.17e+05</td> <td>  6.6e+06</td>\n",
       "</tr>\n",
       "<tr>\n",
       "  <th>Quartier</th>             <td> 9.194e+04</td> <td> 1.41e+05</td> <td>    0.652</td> <td> 0.515</td> <td>-1.85e+05</td> <td> 3.69e+05</td>\n",
       "</tr>\n",
       "<tr>\n",
       "  <th>PremierTypePropriete</th> <td> -2.44e+05</td> <td> 7.22e+04</td> <td>   -3.378</td> <td> 0.001</td> <td>-3.86e+05</td> <td>-1.02e+05</td>\n",
       "</tr>\n",
       "<tr>\n",
       "  <th>SurfacePlancherTotal</th> <td>   59.6339</td> <td>    2.257</td> <td>   26.423</td> <td> 0.000</td> <td>   55.206</td> <td>   64.062</td>\n",
       "</tr>\n",
       "<tr>\n",
       "  <th>AgeBatiment</th>          <td>-3086.7938</td> <td>  1.3e+04</td> <td>   -0.237</td> <td> 0.812</td> <td>-2.86e+04</td> <td> 2.24e+04</td>\n",
       "</tr>\n",
       "</table>\n",
       "<table class=\"simpletable\">\n",
       "<tr>\n",
       "  <th>Omnibus:</th>       <td>1944.318</td> <th>  Durbin-Watson:     </th>  <td>   2.057</td>  \n",
       "</tr>\n",
       "<tr>\n",
       "  <th>Prob(Omnibus):</th>  <td> 0.000</td>  <th>  Jarque-Bera (JB):  </th> <td>1031399.117</td>\n",
       "</tr>\n",
       "<tr>\n",
       "  <th>Skew:</th>           <td> 9.820</td>  <th>  Prob(JB):          </th>  <td>    0.00</td>  \n",
       "</tr>\n",
       "<tr>\n",
       "  <th>Kurtosis:</th>       <td>144.141</td> <th>  Cond. No.          </th>  <td>8.77e+05</td>  \n",
       "</tr>\n",
       "</table><br/><br/>Notes:<br/>[1] Standard Errors assume that the covariance matrix of the errors is correctly specified.<br/>[2] The condition number is large, 8.77e+05. This might indicate that there are<br/>strong multicollinearity or other numerical problems."
      ],
      "text/plain": [
       "<class 'statsmodels.iolib.summary.Summary'>\n",
       "\"\"\"\n",
       "                            OLS Regression Results                            \n",
       "==============================================================================\n",
       "Dep. Variable:                      y   R-squared:                       0.425\n",
       "Model:                            OLS   Adj. R-squared:                  0.423\n",
       "Method:                 Least Squares   F-statistic:                     224.3\n",
       "Date:                Thu, 10 Aug 2023   Prob (F-statistic):          3.57e-144\n",
       "Time:                        14:14:14   Log-Likelihood:                -21798.\n",
       "No. Observations:                1219   AIC:                         4.361e+04\n",
       "Df Residuals:                    1214   BIC:                         4.363e+04\n",
       "Df Model:                           4                                         \n",
       "Covariance Type:            nonrobust                                         \n",
       "========================================================================================\n",
       "                           coef    std err          t      P>|t|      [0.025      0.975]\n",
       "----------------------------------------------------------------------------------------\n",
       "const                 3.508e+06   1.58e+06      2.226      0.026    4.17e+05     6.6e+06\n",
       "Quartier              9.194e+04   1.41e+05      0.652      0.515   -1.85e+05    3.69e+05\n",
       "PremierTypePropriete  -2.44e+05   7.22e+04     -3.378      0.001   -3.86e+05   -1.02e+05\n",
       "SurfacePlancherTotal    59.6339      2.257     26.423      0.000      55.206      64.062\n",
       "AgeBatiment          -3086.7938    1.3e+04     -0.237      0.812   -2.86e+04    2.24e+04\n",
       "==============================================================================\n",
       "Omnibus:                     1944.318   Durbin-Watson:                   2.057\n",
       "Prob(Omnibus):                  0.000   Jarque-Bera (JB):          1031399.117\n",
       "Skew:                           9.820   Prob(JB):                         0.00\n",
       "Kurtosis:                     144.141   Cond. No.                     8.77e+05\n",
       "==============================================================================\n",
       "\n",
       "Notes:\n",
       "[1] Standard Errors assume that the covariance matrix of the errors is correctly specified.\n",
       "[2] The condition number is large, 8.77e+05. This might indicate that there are\n",
       "strong multicollinearity or other numerical problems.\n",
       "\"\"\""
      ]
     },
     "execution_count": 47,
     "metadata": {},
     "output_type": "execute_result"
    }
   ],
   "source": [
    "data_train, data_test, var_categ, data_categ, var_num, data_num = creation_train_test_set(data2, target)\n",
    "score, reg, X_train, X_test, y_train, y_test, columns = modelisation(data_train, data_test, target)\n",
    "\n",
    "# ajout de la colonne de biais\n",
    "df_X_train = pd.DataFrame(X_train, columns=columns)\n",
    "df_X_test = pd.DataFrame(X_test, columns=columns)\n",
    "X_train_sm = sm.add_constant(df_X_train)\n",
    "X_test_sm = sm.add_constant(df_X_test)\n",
    "\n",
    "results = sm.OLS(y_train, X_train_sm).fit()\n",
    "\n",
    "results.summary()"
   ]
  },
  {
   "cell_type": "markdown",
   "id": "21d2f3b8",
   "metadata": {},
   "source": [
    "#### Calcul des VIF"
   ]
  },
  {
   "cell_type": "code",
   "execution_count": 48,
   "id": "5c9b5571",
   "metadata": {},
   "outputs": [
    {
     "data": {
      "text/html": [
       "<div>\n",
       "<style scoped>\n",
       "    .dataframe tbody tr th:only-of-type {\n",
       "        vertical-align: middle;\n",
       "    }\n",
       "\n",
       "    .dataframe tbody tr th {\n",
       "        vertical-align: top;\n",
       "    }\n",
       "\n",
       "    .dataframe thead th {\n",
       "        text-align: right;\n",
       "    }\n",
       "</style>\n",
       "<table border=\"1\" class=\"dataframe\">\n",
       "  <thead>\n",
       "    <tr style=\"text-align: right;\">\n",
       "      <th></th>\n",
       "      <th>VIF</th>\n",
       "    </tr>\n",
       "  </thead>\n",
       "  <tbody>\n",
       "    <tr>\n",
       "      <th>const</th>\n",
       "      <td>15.120397</td>\n",
       "    </tr>\n",
       "    <tr>\n",
       "      <th>Quartier</th>\n",
       "      <td>1.055756</td>\n",
       "    </tr>\n",
       "    <tr>\n",
       "      <th>PremierTypePropriete</th>\n",
       "      <td>1.123307</td>\n",
       "    </tr>\n",
       "    <tr>\n",
       "      <th>SurfacePlancherTotal</th>\n",
       "      <td>1.174003</td>\n",
       "    </tr>\n",
       "    <tr>\n",
       "      <th>AgeBatiment</th>\n",
       "      <td>1.099839</td>\n",
       "    </tr>\n",
       "  </tbody>\n",
       "</table>\n",
       "</div>"
      ],
      "text/plain": [
       "                            VIF\n",
       "const                 15.120397\n",
       "Quartier               1.055756\n",
       "PremierTypePropriete   1.123307\n",
       "SurfacePlancherTotal   1.174003\n",
       "AgeBatiment            1.099839"
      ]
     },
     "execution_count": 48,
     "metadata": {},
     "output_type": "execute_result"
    }
   ],
   "source": [
    "vif = [variance_inflation_factor(X_train_sm, i) for i in range(X_train_sm.shape[1])]\n",
    "df_vif = pd.DataFrame(vif, index=X_train_sm.columns, columns=['VIF'])\n",
    "df_vif"
   ]
  },
  {
   "cell_type": "markdown",
   "id": "448a9aeb",
   "metadata": {},
   "source": [
    "#### Score sur jeu de test"
   ]
  },
  {
   "cell_type": "code",
   "execution_count": 49,
   "id": "36b7e56b",
   "metadata": {},
   "outputs": [
    {
     "data": {
      "text/plain": [
       "0.42706108510145735"
      ]
     },
     "execution_count": 49,
     "metadata": {},
     "output_type": "execute_result"
    }
   ],
   "source": [
    "X_test_sm = sm.add_constant(X_test)\n",
    "\n",
    "y_pred = results.predict(X_test_sm)\n",
    "\n",
    "r_squared = r2_score(y_test, y_pred)\n",
    "\n",
    "r_squared"
   ]
  },
  {
   "cell_type": "markdown",
   "id": "7f29f8d8",
   "metadata": {},
   "source": [
    "#### Importances des variables"
   ]
  },
  {
   "cell_type": "code",
   "execution_count": 50,
   "id": "6e428661",
   "metadata": {},
   "outputs": [
    {
     "data": {
      "text/plain": [
       "const                    2.226473\n",
       "Quartier                 0.651848\n",
       "PremierTypePropriete    -3.378033\n",
       "SurfacePlancherTotal    26.423024\n",
       "AgeBatiment             -0.237335\n",
       "dtype: float64"
      ]
     },
     "execution_count": 50,
     "metadata": {},
     "output_type": "execute_result"
    }
   ],
   "source": [
    "results.tvalues"
   ]
  },
  {
   "cell_type": "markdown",
   "id": "adca2de4",
   "metadata": {},
   "source": [
    "#### Stabilité du modèle"
   ]
  },
  {
   "cell_type": "code",
   "execution_count": 51,
   "id": "de277cd1",
   "metadata": {},
   "outputs": [
    {
     "name": "stdout",
     "output_type": "stream",
     "text": [
      "0.39277963934360993\n",
      "0.39557848196583223\n"
     ]
    },
    {
     "data": {
      "image/png": "[encoded data removed]",
      "text/plain": [
       "<Figure size 640x480 with 1 Axes>"
      ]
     },
     "metadata": {},
     "output_type": "display_data"
    }
   ],
   "source": [
    "score_iteration = []\n",
    "\n",
    "for i in range(50):\n",
    "    \n",
    "    data_train, data_test, var_categ, data_categ, var_num, data_num = creation_train_test_set(data2, target)\n",
    "    score, reg, X_train, X_test, y_train, y_test, columns = modelisation(data_train, data_test, target)\n",
    "\n",
    "    # ajout de la colonne de biais\n",
    "    df_X_train = pd.DataFrame(X_train, columns=columns)\n",
    "    df_X_test = pd.DataFrame(X_test, columns=columns)\n",
    "    X_train_sm = sm.add_constant(df_X_train)\n",
    "    X_test_sm = sm.add_constant(df_X_test)\n",
    "\n",
    "    results = sm.OLS(y_train, X_train_sm).fit()\n",
    "\n",
    "    X_test_sm = sm.add_constant(X_test)\n",
    "\n",
    "    y_pred = results.predict(X_test_sm)\n",
    "\n",
    "    r_squared = r2_score(y_test, y_pred)\n",
    "    \n",
    "    score_iteration.append(r_squared)\n",
    "    \n",
    "plt.plot(range(len(score_iteration)), score_iteration)\n",
    "\n",
    "print(np.median(np.array(score_iteration)))\n",
    "print(np.array(score_iteration).mean())"
   ]
  },
  {
   "cell_type": "markdown",
   "id": "0df92d82",
   "metadata": {},
   "source": [
    "#### Analyse des résidus"
   ]
  },
  {
   "cell_type": "code",
   "execution_count": 27,
   "id": "49b6d143",
   "metadata": {},
   "outputs": [
    {
     "name": "stdout",
     "output_type": "stream",
     "text": [
      "223539156.60020834\n"
     ]
    },
    {
     "data": {
      "text/plain": [
       "ShapiroResult(statistic=0.4049460291862488, pvalue=0.0)"
      ]
     },
     "execution_count": 27,
     "metadata": {},
     "output_type": "execute_result"
    },
    {
     "data": {
      "image/png": "[encoded data removed]",
      "text/plain": [
       "<Figure size 640x480 with 1 Axes>"
      ]
     },
     "metadata": {},
     "output_type": "display_data"
    }
   ],
   "source": [
    "print(results.resid.max())\n",
    "\n",
    "sns.histplot(results.resid)\n",
    "\n",
    "shapiro(results.resid)"
   ]
  },
  {
   "cell_type": "markdown",
   "id": "7cc9a195",
   "metadata": {},
   "source": [
    "Le test statistique n'est pas passé mais l'allule de la distribution est normale."
   ]
  }
 ],
 "metadata": {
  "kernelspec": {
   "display_name": "Python 3 (ipykernel)",
   "language": "python",
   "name": "python3"
  },
  "language_info": {
   "codemirror_mode": {
    "name": "ipython",
    "version": 3
   },
   "file_extension": ".py",
   "mimetype": "text/x-python",
   "name": "python",
   "nbconvert_exporter": "python",
   "pygments_lexer": "ipython3",
   "version": "3.9.16"
  }
 },
 "nbformat": 4,
 "nbformat_minor": 5
}
