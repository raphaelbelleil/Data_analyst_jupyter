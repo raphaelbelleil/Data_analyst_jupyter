{
 "cells": [
  {
   "cell_type": "code",
   "execution_count": 1,
   "id": "bb4b0fe3",
   "metadata": {},
   "outputs": [],
   "source": [
    "# Import des librairies\n",
    "import numpy as np\n",
    "import pandas as pd\n",
    "import matplotlib.pyplot as plt\n",
    "import seaborn as sns"
   ]
  },
  {
   "cell_type": "markdown",
   "id": "53f53fa0",
   "metadata": {},
   "source": [
    "le corpus : un ensemble de documents (des textes dans notre cas), regroupés dans une optique ou dans une thématique précise. \n",
    "\n",
    "un document : la notion de document fait référence à un texte appartenant au corpus, mais indépendant des autres textes. Il peut être constitué d'une ou plusieurs phrases, un ou plusieurs paragraphes.\n",
    "\n",
    "un token : le terme token désigne généralement un mot et/ou un élément de ponctuation. La phrase \"Hello World!\" comprend donc 3 tokens. \n",
    "\n",
    "le vocabulaire : il s'agit de l'ensemble des tokens distincts présents dans l'ensemble du corpus."
   ]
  },
  {
   "cell_type": "code",
   "execution_count": 2,
   "id": "10dea56c",
   "metadata": {},
   "outputs": [],
   "source": [
    "import requests\n",
    "from bs4 import BeautifulSoup\n",
    "import re"
   ]
  },
  {
   "cell_type": "code",
   "execution_count": 20,
   "id": "a6aac5cd",
   "metadata": {},
   "outputs": [],
   "source": [
    "from unidecode import unidecode\n",
    "import string"
   ]
  },
  {
   "cell_type": "code",
   "execution_count": null,
   "id": "6f59b6f5",
   "metadata": {},
   "outputs": [],
   "source": [
    "import nltk"
   ]
  },
  {
   "cell_type": "code",
   "execution_count": 13,
   "id": "17562a7a",
   "metadata": {},
   "outputs": [
    {
     "name": "stderr",
     "output_type": "stream",
     "text": [
      "[nltk_data] Downloading package punkt to\n",
      "[nltk_data]     C:\\Users\\Raphaël\\AppData\\Roaming\\nltk_data...\n",
      "[nltk_data]   Unzipping tokenizers\\punkt.zip.\n"
     ]
    },
    {
     "data": {
      "text/plain": [
       "True"
      ]
     },
     "execution_count": 13,
     "metadata": {},
     "output_type": "execute_result"
    }
   ],
   "source": [
    "nltk.download('punkt')"
   ]
  },
  {
   "cell_type": "code",
   "execution_count": 18,
   "id": "5c3a072d",
   "metadata": {},
   "outputs": [
    {
     "data": {
      "text/plain": [
       "['Bonjour',\n",
       " ',',\n",
       " 'je',\n",
       " 'suis',\n",
       " 'un',\n",
       " 'texte',\n",
       " \"d'exemple\",\n",
       " 'pour',\n",
       " 'le',\n",
       " 'cours',\n",
       " \"d'Openclassrooms\",\n",
       " '.',\n",
       " 'Soyez',\n",
       " 'attentifs',\n",
       " 'à',\n",
       " 'ce',\n",
       " 'cours',\n",
       " '!']"
      ]
     },
     "execution_count": 18,
     "metadata": {},
     "output_type": "execute_result"
    }
   ],
   "source": [
    "test = \"Bonjour, je suis un texte d'exemple pour le cours d'Openclassrooms. Soyez attentifs à ce cours !\"\n",
    "\n",
    "# creation de token à partir d'une phrase\n",
    "tokens = nltk.word_tokenize(test)\n",
    "tokens"
   ]
  },
  {
   "cell_type": "code",
   "execution_count": 22,
   "id": "1204f733",
   "metadata": {},
   "outputs": [
    {
     "data": {
      "text/plain": [
       "['Bonjour',\n",
       " ',',\n",
       " 'je',\n",
       " 'suis',\n",
       " 'un',\n",
       " 'texte',\n",
       " \"d'exemple\",\n",
       " 'pour',\n",
       " 'le',\n",
       " 'cours',\n",
       " \"d'Openclassrooms\",\n",
       " '.',\n",
       " 'Soyez',\n",
       " 'attentifs',\n",
       " 'a',\n",
       " 'ce',\n",
       " 'cours',\n",
       " '!']"
      ]
     },
     "execution_count": 22,
     "metadata": {},
     "output_type": "execute_result"
    }
   ],
   "source": [
    "[unidecode(element) for element in tokens]"
   ]
  },
  {
   "cell_type": "code",
   "execution_count": null,
   "id": "c57f37a9",
   "metadata": {},
   "outputs": [],
   "source": []
  }
 ],
 "metadata": {
  "kernelspec": {
   "display_name": "Python 3 (ipykernel)",
   "language": "python",
   "name": "python3"
  },
  "language_info": {
   "codemirror_mode": {
    "name": "ipython",
    "version": 3
   },
   "file_extension": ".py",
   "mimetype": "text/x-python",
   "name": "python",
   "nbconvert_exporter": "python",
   "pygments_lexer": "ipython3",
   "version": "3.9.16"
  }
 },
 "nbformat": 4,
 "nbformat_minor": 5
}
