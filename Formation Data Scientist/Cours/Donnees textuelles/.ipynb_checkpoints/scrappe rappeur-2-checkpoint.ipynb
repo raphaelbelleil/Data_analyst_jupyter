{
 "cells": [
  {
   "cell_type": "code",
   "execution_count": 1,
   "id": "0f0aab24",
   "metadata": {},
   "outputs": [],
   "source": [
    "# Import des librairies\n",
    "import numpy as np\n",
    "import pandas as pd\n",
    "import matplotlib.pyplot as plt\n",
    "import seaborn as sns"
   ]
  },
  {
   "cell_type": "code",
   "execution_count": 126,
   "id": "1d67d3d3",
   "metadata": {},
   "outputs": [],
   "source": [
    "import requests\n",
    "from bs4 import BeautifulSoup\n",
    "import re\n",
    "from unidecode import unidecode\n",
    "import string\n",
    "import lyricsgenius\n",
    "from tqdm import tqdm"
   ]
  },
  {
   "cell_type": "code",
   "execution_count": 138,
   "id": "c6de6cfe",
   "metadata": {},
   "outputs": [],
   "source": [
    "url = 'https://fr.wikipedia.org/wiki/Liste_d%27artistes_de_hip-hop_francophones'"
   ]
  },
  {
   "cell_type": "code",
   "execution_count": 139,
   "id": "86104e13",
   "metadata": {},
   "outputs": [],
   "source": [
    "def recuperation_artistes(url):\n",
    "    \n",
    "    req = requests.get(url)\n",
    "    soup = BeautifulSoup(req.text, \"html.parser\")\n",
    "\n",
    "    artist_names = []\n",
    "    for ul in soup.find_all('ul'):\n",
    "        for link in ul.find_all('a', title=True):\n",
    "            artist_names.append(link['title'])\n",
    "\n",
    "    artistes = artist_names[artist_names.index('2 Bal'):artist_names.index('Portail du hip-hop')]\n",
    "    \n",
    "    return artistes"
   ]
  },
  {
   "cell_type": "code",
   "execution_count": 140,
   "id": "49b2ed00",
   "metadata": {},
   "outputs": [],
   "source": [
    "artistes_wiki = recuperation_artistes(url)"
   ]
  },
  {
   "cell_type": "code",
   "execution_count": 141,
   "id": "04e16b18",
   "metadata": {},
   "outputs": [
    {
     "data": {
      "text/plain": [
       "['2 Bal',\n",
       " '2zer Washington',\n",
       " '3e Œil (groupe)',\n",
       " '4Keus',\n",
       " '5 majeur (collectif)',\n",
       " '13 Block',\n",
       " '20syl',\n",
       " '92i',\n",
       " '113 (groupe)',\n",
       " '400 Hyènes',\n",
       " '667 (collectif)',\n",
       " '1995 (groupe)',\n",
       " 'Abd al Malik (artiste)',\n",
       " 'Abou Debeing',\n",
       " 'Abou Tall',\n",
       " 'Admiral T',\n",
       " 'Aketo',\n",
       " 'Akhenaton',\n",
       " 'Ali (rappeur français)',\n",
       " 'Yosoji',\n",
       " 'Alibi Montana',\n",
       " 'Alkpote',\n",
       " 'Alliance Ethnik',\n",
       " 'Alonzo (rappeur)',\n",
       " 'Alpha 5.20',\n",
       " 'Alpha Wann',\n",
       " '113 (groupe)',\n",
       " 'Ärsenik',\n",
       " 'Assassin (groupe)',\n",
       " 'Ateyaba',\n",
       " 'ATK (groupe)',\n",
       " 'Axiom (rappeur)',\n",
       " 'Bakar (rappeur)',\n",
       " 'Bambi Cruz',\n",
       " 'Ben-J',\n",
       " 'Benjamin Epps',\n",
       " 'Benab',\n",
       " 'Benash',\n",
       " 'Berywam',\n",
       " 'Big Brother Hakim',\n",
       " 'Big Red',\n",
       " 'Bigflo et Oli',\n",
       " 'Bisso Na Bisso',\n",
       " 'Black Kent',\n",
       " 'Black M',\n",
       " 'Blacko',\n",
       " 'Booba',\n",
       " 'Bosh',\n",
       " 'Bouga (rappeur)',\n",
       " \"Bram's\",\n",
       " 'Brasco',\n",
       " 'Brav',\n",
       " 'Busta Flex',\n",
       " 'Caballero (rappeur)',\n",
       " 'Canardo (rappeur)',\n",
       " 'Casey (rappeuse)',\n",
       " 'Casseurs Flowters',\n",
       " 'Les X',\n",
       " 'Chiens de paille (groupe)',\n",
       " 'Chilla',\n",
       " 'Chris Macari',\n",
       " 'Columbine (groupe)',\n",
       " 'Cuizinier',\n",
       " 'Cut Killer',\n",
       " 'Cyanure (rappeur)',\n",
       " 'Daddy Lord C',\n",
       " 'Daddy Mory',\n",
       " 'Dadju',\n",
       " 'Dadoo',\n",
       " 'Damso',\n",
       " 'Dany Dan',\n",
       " 'Dany Synthé',\n",
       " 'Darryl Zeuja',\n",
       " 'Da Uzi',\n",
       " 'Davinhor',\n",
       " 'Dee Nasty',\n",
       " 'Deen Burbigo',\n",
       " 'Demi Portion',\n",
       " 'Démocrates D',\n",
       " 'Demon One',\n",
       " 'Majster',\n",
       " \"Diam's\",\n",
       " 'Dicidens',\n",
       " 'Di-Meh',\n",
       " 'Dinos (rappeur)',\n",
       " 'Disiz',\n",
       " 'DJ Abdel',\n",
       " 'DJ Clyde',\n",
       " 'DJ Mehdi',\n",
       " 'DJ Pone',\n",
       " 'DJ Snake',\n",
       " 'DJ Spank',\n",
       " 'Djadja et Dinaz',\n",
       " 'Doc Gynéco',\n",
       " 'Doctor L',\n",
       " 'Don Choa',\n",
       " 'Doomams',\n",
       " 'Dosseh',\n",
       " 'Doudou Masta',\n",
       " 'Doums',\n",
       " 'Dr. Bériz',\n",
       " 'Driver (rappeur)',\n",
       " 'Dry (rappeur)',\n",
       " 'DTF (groupe)',\n",
       " 'East (rappeur)',\n",
       " 'Edge (rappeur)',\n",
       " 'Eklips',\n",
       " 'Ekoué',\n",
       " 'Elams',\n",
       " 'El Matador (rappeur)',\n",
       " 'Expression Direkt',\n",
       " 'Nysay',\n",
       " 'F430 (groupe)',\n",
       " 'Fababy',\n",
       " 'Fabe',\n",
       " 'Faf Larage',\n",
       " 'Fanny Polly',\n",
       " 'Féfé',\n",
       " 'Flynt (rappeur)',\n",
       " 'Fonky Family',\n",
       " 'Franglish',\n",
       " 'Fredy K',\n",
       " 'Fredz',\n",
       " 'Freeman (rappeur)',\n",
       " 'Freeze Corleone',\n",
       " 'Fresh la Peufra',\n",
       " 'Furax (rappeur)',\n",
       " 'Fuzati',\n",
       " 'Gambi',\n",
       " 'Gazo',\n",
       " 'Georgio',\n",
       " 'Gérard Baste',\n",
       " 'Ghetto Fabulous Gang',\n",
       " 'Gims',\n",
       " 'Gradur',\n",
       " 'Green Montana',\n",
       " 'Grems',\n",
       " 'Gringe',\n",
       " 'Guizmo (rappeur)',\n",
       " 'Guy2Bezbar',\n",
       " 'Hamé (rappeur)',\n",
       " 'Hamed Daye',\n",
       " 'Hamza (rappeur)',\n",
       " 'Scred Connexion',\n",
       " 'Hatik',\n",
       " 'Hayce Lemsi',\n",
       " \"Heuss l'Enfoiré\",\n",
       " 'High Five Crew',\n",
       " 'Hippocampe Fou',\n",
       " 'H Magnum',\n",
       " 'Hocus Pocus (groupe)',\n",
       " 'Hornet La Frappe',\n",
       " 'Hugo TSR',\n",
       " 'Hyacinthe (rappeur)',\n",
       " 'IAM',\n",
       " 'Ideal J',\n",
       " 'Les X',\n",
       " 'Imhotep (producteur)',\n",
       " 'Intouchable (groupe)',\n",
       " 'Iron Sy',\n",
       " 'IV My People',\n",
       " 'J9ueve',\n",
       " 'Jacky Brown',\n",
       " 'Jarod (rappeur)',\n",
       " 'Jazzy Bazz',\n",
       " 'JeanJass',\n",
       " 'Jimmy Jay',\n",
       " 'JoeyStarr',\n",
       " \"Jok'Air\",\n",
       " 'Jorrdee',\n",
       " 'Josman',\n",
       " 'JP Manova',\n",
       " 'JR O Crom',\n",
       " 'Jul (rappeur)',\n",
       " 'Kaaris',\n",
       " 'Kabal (groupe)',\n",
       " 'Kacem Wapalek',\n",
       " 'Kalash (chanteur)',\n",
       " 'Kalash Criminel',\n",
       " \"Kalash l'Afro\",\n",
       " 'Karlito',\n",
       " 'Unité 2 Feu',\n",
       " 'Kayna Samet',\n",
       " 'KDD',\n",
       " 'Kekra',\n",
       " 'Keny Arkana',\n",
       " 'Kephren (membre du groupe IAM)',\n",
       " 'Kerchak',\n",
       " 'Keros-N',\n",
       " 'Kery James',\n",
       " 'Khali (rappeur)',\n",
       " 'Kheops (DJ)',\n",
       " 'Kikesa',\n",
       " 'Klub des Loosers',\n",
       " 'Koba LaD',\n",
       " 'Kobo (rappeur)',\n",
       " 'Kofs',\n",
       " 'Koma (rappeur)',\n",
       " 'Kool Shen',\n",
       " 'Kore (producteur)',\n",
       " 'K-Reen',\n",
       " 'KronoMuzik',\n",
       " 'KT Gorique',\n",
       " 'Kyo Itachi',\n",
       " 'La Brigade (groupe)',\n",
       " 'Lord Kossity',\n",
       " 'Lacrim',\n",
       " 'La Clinique',\n",
       " 'La Cliqua',\n",
       " 'Lady Laistee',\n",
       " 'Laetitia Kerfa',\n",
       " 'La Fève',\n",
       " 'La Fouine',\n",
       " 'La Rumeur (groupe)',\n",
       " 'Lala &ce',\n",
       " \"L'Algérino\",\n",
       " 'Landy (rappeur)',\n",
       " 'Larry (rappeur)',\n",
       " 'Lartiste',\n",
       " 'Laylow',\n",
       " 'Leck (rappeur)',\n",
       " 'Leeroy',\n",
       " 'Lefa',\n",
       " 'Le Juiice',\n",
       " 'Le Klub des 7',\n",
       " \"L'Entourage\",\n",
       " 'Le Rat Luciano',\n",
       " 'Leto (rappeur)',\n",
       " 'LIM (rappeur)',\n",
       " 'Lino (rappeur)',\n",
       " 'Liza Monet',\n",
       " 'Lomepal',\n",
       " 'Lorenzo (rappeur)',\n",
       " 'Lous and the Yakuza',\n",
       " 'Luidji',\n",
       " 'Lujipeka',\n",
       " 'Lunatic',\n",
       " 'Luv Resval',\n",
       " 'Mac Kregor',\n",
       " 'Mac Tyer',\n",
       " 'Maes (rappeur)',\n",
       " \"Mafia K'1 Fry\",\n",
       " 'Mairo',\n",
       " 'Makala (rappeur)',\n",
       " 'Manau',\n",
       " 'Manu Key',\n",
       " 'Marwa Loud',\n",
       " 'Maska',\n",
       " 'MC Janik',\n",
       " \"MC Jean Gab'1\",\n",
       " 'MC Solaar',\n",
       " 'Médine (rappeur)',\n",
       " 'Melaaz',\n",
       " 'Ménélik (rappeur)',\n",
       " 'Menzo',\n",
       " 'Meryl (chanteuse)',\n",
       " 'MHD (rappeur)',\n",
       " 'Michel (artiste)',\n",
       " 'Ministère A.M.E.R.',\n",
       " 'Mister V',\n",
       " 'Mister You',\n",
       " 'MMZ (groupe de rap)',\n",
       " 'Moha K',\n",
       " 'Moha La Squale',\n",
       " 'Mokobé',\n",
       " 'Moona',\n",
       " \"Mo'vez Lang\",\n",
       " 'MRC (rappeur)',\n",
       " 'Mystik',\n",
       " 'Myth Syzer',\n",
       " 'MZ (groupe)',\n",
       " 'Nakk',\n",
       " 'Naps',\n",
       " 'Naza (rappeur)',\n",
       " 'Neg Lyrical',\n",
       " \"Nèg' Marrons\",\n",
       " 'Nekfeu',\n",
       " 'Nelick',\n",
       " 'Némir (rappeur)',\n",
       " 'Népal (rappeur)',\n",
       " 'Nessbeal',\n",
       " 'Norsacce Berlusconi',\n",
       " 'Nicy',\n",
       " 'Nikkfurie',\n",
       " 'Ninho',\n",
       " 'Niro (rappeur)',\n",
       " 'Niska',\n",
       " 'Suprême NTM',\n",
       " 'Nubi (rappeur)',\n",
       " 'Nysay',\n",
       " 'Oboy',\n",
       " 'OGB',\n",
       " 'Ol Kainry',\n",
       " 'Orelsan',\n",
       " 'Orgasmic',\n",
       " 'Osirus Jack',\n",
       " 'Oxmo Puccino',\n",
       " 'Panama Bende',\n",
       " 'Passi',\n",
       " 'Pit Baccardi',\n",
       " 'PLK (rappeur)',\n",
       " 'PNL (groupe)',\n",
       " 'Pone',\n",
       " 'Prince Waly',\n",
       " 'Princess Aniès',\n",
       " 'PSO Thug',\n",
       " 'Psy 4 de la rime',\n",
       " 'Rémy (rappeur)',\n",
       " 'Retro x',\n",
       " \"Rim'K\",\n",
       " 'Riski',\n",
       " 'RK (rappeur)',\n",
       " 'Rocca (rappeur)',\n",
       " 'Rocé (rappeur)',\n",
       " \"Rockin' Squat\",\n",
       " 'Rohff',\n",
       " 'Roi Heenok',\n",
       " 'Roméo Elvis',\n",
       " 'Rounhaa',\n",
       " 'Sadek (rappeur)',\n",
       " 'Sages Poètes de la rue',\n",
       " 'Saïan Supa Crew',\n",
       " 'Sako (Chiens de Paille)',\n",
       " 'Salif',\n",
       " 'Saliha (rap)',\n",
       " 'Sally (chanteuse)',\n",
       " \"Sat l'Artificier\",\n",
       " 'Sauveur Eloheem',\n",
       " 'SCH (rappeur)',\n",
       " 'Scred Connexion',\n",
       " 'S-Crew',\n",
       " 'Scylla (rappeur)',\n",
       " 'SDM (rappeur)',\n",
       " 'SEB (vidéaste)',\n",
       " 'Secteur Ä',\n",
       " 'Sefyu',\n",
       " 'Seth Gueko',\n",
       " \"Sexion d'assaut\",\n",
       " 'Shay',\n",
       " 'Sheek',\n",
       " \"Shone d'Holocost\",\n",
       " \"Shurik'n\",\n",
       " 'Siboy',\n",
       " 'Sinik',\n",
       " 'Sir Samuel',\n",
       " 'Six (rappeur)',\n",
       " 'Skalpovich',\n",
       " 'Skread',\n",
       " 'Slimka',\n",
       " 'Sneazzy',\n",
       " 'Sniper (groupe)',\n",
       " 'Sofiane Zermani',\n",
       " 'So La Lune',\n",
       " 'Solo (rappeur)',\n",
       " 'Soolking',\n",
       " 'Soon E MC',\n",
       " 'Sopico',\n",
       " 'Soprano (rappeur)',\n",
       " 'Soso Maness',\n",
       " 'S.Pri Noir',\n",
       " '13 Block',\n",
       " 'Still Fresh',\n",
       " 'Stomy Bugsy',\n",
       " 'Sultan (rappeur)',\n",
       " 'Swagg Man',\n",
       " 'Sya Styles',\n",
       " 'Ideal J',\n",
       " 'Teki Latex',\n",
       " 'Team BS',\n",
       " 'Tepa (rappeur)',\n",
       " 'The Shin Sekaï',\n",
       " 'Tiakola',\n",
       " 'Tiitof',\n",
       " 'Timal (rappeur)',\n",
       " 'Time Bomb (collectif)',\n",
       " 'TLF (rappeur)',\n",
       " 'Tsew The Kid',\n",
       " 'TSR Crew',\n",
       " 'TTC (groupe)',\n",
       " 'Tunisiano',\n",
       " 'Under Kontrol',\n",
       " 'Unité 2 Feu',\n",
       " 'Usky',\n",
       " 'Uzi (rappeur)',\n",
       " 'Vald',\n",
       " 'Vegedream',\n",
       " 'Vicelow',\n",
       " 'Vicky R',\n",
       " 'Vincha',\n",
       " 'Vîrus',\n",
       " 'Vladimir Cauchemar',\n",
       " 'Wacko (rappeur)',\n",
       " 'Wallen',\n",
       " 'Werenoi',\n",
       " 'Les X',\n",
       " 'Yannick (rappeur)',\n",
       " 'Youssoupha',\n",
       " 'Younès Boucif',\n",
       " 'Youv Dee',\n",
       " 'Zamdane',\n",
       " '13 Block',\n",
       " 'Zed Yun Pavarotti',\n",
       " 'Zesau',\n",
       " 'Ziak',\n",
       " 'Zkr',\n",
       " 'Zola (rappeur)',\n",
       " 'Zoxea',\n",
       " 'Zuukou Mayzie']"
      ]
     },
     "execution_count": 141,
     "metadata": {},
     "output_type": "execute_result"
    }
   ],
   "source": [
    "artistes_wiki"
   ]
  },
  {
   "cell_type": "code",
   "execution_count": 52,
   "id": "d1789789",
   "metadata": {},
   "outputs": [
    {
     "data": {
      "text/plain": [
       "['Alibi Montana', 'Alkpote']"
      ]
     },
     "execution_count": 52,
     "metadata": {},
     "output_type": "execute_result"
    }
   ],
   "source": [
    "artistes_echantillon = artistes[20:22]\n",
    "artistes_echantillon"
   ]
  },
  {
   "cell_type": "code",
   "execution_count": 56,
   "id": "8fdcef90",
   "metadata": {},
   "outputs": [],
   "source": [
    "def recuperation_chansons(artiste):\n",
    "    \n",
    "    artiste_format = artiste.replace(' ', '-')\n",
    "    url = f'https://genius.com/artists/{artiste_format}'\n",
    "    \n",
    "    req = requests.get(url)\n",
    "    soup = BeautifulSoup(req.text, \"html.parser\")\n",
    "    chansons = [div.text for div in soup.find_all('div', attrs={'class':'mini_card-title'})]\n",
    "    \n",
    "    return chansons, artiste"
   ]
  },
  {
   "cell_type": "code",
   "execution_count": 58,
   "id": "ea572429",
   "metadata": {},
   "outputs": [
    {
     "data": {
      "text/plain": [
       "['Code 187',\n",
       " 'Crie mon nom (Remix)',\n",
       " 'Bienvenue dans le four',\n",
       " 'Loin des yeux Loin du cœur',\n",
       " 'Boyz in the Hood',\n",
       " 'Traffic',\n",
       " 'Clash Gentil',\n",
       " 'Morts pour rien',\n",
       " 'Champion',\n",
       " '1260 jours']"
      ]
     },
     "execution_count": 58,
     "metadata": {},
     "output_type": "execute_result"
    }
   ],
   "source": [
    "chansons, artiste = recuperation_chansons(artiste='Alibi Montana')\n",
    "chansons"
   ]
  },
  {
   "cell_type": "code",
   "execution_count": 108,
   "id": "00f0f0d0",
   "metadata": {},
   "outputs": [
    {
     "data": {
      "text/plain": [
       "['Demain, c’est loin',\n",
       " 'Petit frère',\n",
       " \"L'empire du côté obscur\",\n",
       " 'Nés sous la même étoile',\n",
       " \"L'école du micro d'argent\",\n",
       " 'La saga',\n",
       " 'Les raisons de la colère',\n",
       " 'Elle donne son corps avant son nom',\n",
       " \"L'enfer\",\n",
       " 'Un bon son brut pour les truands']"
      ]
     },
     "execution_count": 108,
     "metadata": {},
     "output_type": "execute_result"
    }
   ],
   "source": [
    "chansons, artiste = recuperation_chansons(artiste='Iam')\n",
    "chansons"
   ]
  },
  {
   "cell_type": "code",
   "execution_count": 59,
   "id": "1e75d748",
   "metadata": {},
   "outputs": [],
   "source": [
    "def creation_lien(chansons, artiste):\n",
    "    \n",
    "    liens = []\n",
    "    \n",
    "    for chanson in chansons:\n",
    "        chanson = artiste + ' ' + chanson\n",
    "        chanson = str.lower(chanson)\n",
    "        chanson = chanson + str(' lyrics')\n",
    "        chanson = unidecode(chanson)\n",
    "        chanson = chanson.translate(trad)\n",
    "        chanson = chanson.replace('  ', ' ')\n",
    "        chanson = chanson.replace(' ', '-')\n",
    "        chanson = chanson.capitalize()\n",
    "        liens.append(chanson)\n",
    "        \n",
    "    return liens"
   ]
  },
  {
   "cell_type": "code",
   "execution_count": 61,
   "id": "e55bb123",
   "metadata": {},
   "outputs": [
    {
     "data": {
      "text/plain": [
       "['Alibi-montana-code-187-lyrics',\n",
       " 'Alibi-montana-crie-mon-nom-remix-lyrics',\n",
       " 'Alibi-montana-bienvenue-dans-le-four-lyrics',\n",
       " 'Alibi-montana-loin-des-yeux-loin-du-coeur-lyrics',\n",
       " 'Alibi-montana-boyz-in-the-hood-lyrics',\n",
       " 'Alibi-montana-traffic-lyrics',\n",
       " 'Alibi-montana-clash-gentil-lyrics',\n",
       " 'Alibi-montana-morts-pour-rien-lyrics',\n",
       " 'Alibi-montana-champion-lyrics',\n",
       " 'Alibi-montana-1260-jours-lyrics']"
      ]
     },
     "execution_count": 61,
     "metadata": {},
     "output_type": "execute_result"
    }
   ],
   "source": [
    "liens = creation_lien(chansons, artiste)\n",
    "liens"
   ]
  },
  {
   "cell_type": "code",
   "execution_count": 106,
   "id": "ac22b15d",
   "metadata": {},
   "outputs": [],
   "source": [
    "url = f'https://genius.com/{liens[9]}'\n",
    "req = requests.get(url)\n",
    "soup = BeautifulSoup(req.text, \"html.parser\")\n",
    "pattern = re.compile(r'^ReferentFragmentdesktop')\n",
    "paroles = [div.text for div in soup.find_all('span', class_=pattern)]"
   ]
  },
  {
   "cell_type": "code",
   "execution_count": 107,
   "id": "6d519d88",
   "metadata": {},
   "outputs": [
    {
     "data": {
      "text/plain": [
       "['Le programme 13000 instauré en prison']"
      ]
     },
     "execution_count": 107,
     "metadata": {},
     "output_type": "execute_result"
    }
   ],
   "source": [
    "paroles"
   ]
  },
  {
   "cell_type": "code",
   "execution_count": 68,
   "id": "8edbafb8",
   "metadata": {},
   "outputs": [],
   "source": [
    "def recuperation_parole(lien):\n",
    "    \n",
    "    url = f'https://genius.com/{lien}'\n",
    "    req = requests.get(url)\n",
    "    soup = BeautifulSoup(req.content, \"html.parser\")\n",
    "        \n",
    "    pattern = re.compile(r'^ReferentFragmentdesktop')\n",
    "        \n",
    "    parole = [div.text for div in soup.find_all('span', class_=pattern)]\n",
    "    \n",
    "    parole = ', '.join(parole)\n",
    "    \n",
    "    return parole"
   ]
  },
  {
   "cell_type": "markdown",
   "id": "388a128e",
   "metadata": {},
   "source": [
    "# API Genius"
   ]
  },
  {
   "cell_type": "code",
   "execution_count": 111,
   "id": "43855475",
   "metadata": {},
   "outputs": [],
   "source": [
    "client_access_token = \"-F5RRGuIq20bjet8B2coEJrDGFrYR_lP-Lcf6GpU4f6FzyjL1mQVOKXtNozDJW33\"\n",
    "\n",
    "genius = lyricsgenius.Genius(client_access_token)"
   ]
  },
  {
   "cell_type": "code",
   "execution_count": 119,
   "id": "03aa2a8f",
   "metadata": {},
   "outputs": [
    {
     "name": "stdout",
     "output_type": "stream",
     "text": [
      "Searching for songs by Alkpote...\n",
      "\n",
      "Song 1: \"Plus haut\"\n",
      "Song 2: \"Purification\"\n",
      "\n",
      "Reached user-specified song limit (2).\n",
      "Done. Found 2 songs.\n",
      "Plus haut by Alkpote (Ft. Vald)\n",
      "Plus haut\n",
      "Purification by Alkpote (Ft. Freeze Corleone)\n",
      "Purification\n"
     ]
    }
   ],
   "source": [
    "artist = genius.search_artist(artiste, max_songs=2)\n",
    "\n",
    "for song in artist.songs:\n",
    "    print(song.full_title)\n",
    "    print(song.title)"
   ]
  },
  {
   "cell_type": "code",
   "execution_count": 145,
   "id": "76fd5b19",
   "metadata": {},
   "outputs": [
    {
     "data": {
      "text/plain": [
       "['2 Bal',\n",
       " '2zer Washington',\n",
       " '3e Œil',\n",
       " '4Keus',\n",
       " '5 majeur',\n",
       " '13 Block',\n",
       " '20syl',\n",
       " '92i',\n",
       " '113',\n",
       " '400 Hyènes',\n",
       " '667',\n",
       " '1995',\n",
       " 'Abd al Malik',\n",
       " 'Abou Debeing',\n",
       " 'Abou Tall',\n",
       " 'Admiral T',\n",
       " 'Aketo',\n",
       " 'Akhenaton',\n",
       " 'Ali',\n",
       " 'Yosoji',\n",
       " 'Alibi Montana',\n",
       " 'Alkpote',\n",
       " 'Alliance Ethnik',\n",
       " 'Alonzo',\n",
       " 'Alpha 5.20',\n",
       " 'Alpha Wann',\n",
       " '113',\n",
       " 'Ärsenik',\n",
       " 'Assassin',\n",
       " 'Ateyaba',\n",
       " 'ATK',\n",
       " 'Axiom',\n",
       " 'Bakar',\n",
       " 'Bambi Cruz',\n",
       " 'Ben-J',\n",
       " 'Benjamin Epps',\n",
       " 'Benab',\n",
       " 'Benash',\n",
       " 'Berywam',\n",
       " 'Big Brother Hakim',\n",
       " 'Big Red',\n",
       " 'Bigflo et Oli',\n",
       " 'Bisso Na Bisso',\n",
       " 'Black Kent',\n",
       " 'Black M',\n",
       " 'Blacko',\n",
       " 'Booba',\n",
       " 'Bosh',\n",
       " 'Bouga',\n",
       " \"Bram's\",\n",
       " 'Brasco',\n",
       " 'Brav',\n",
       " 'Busta Flex',\n",
       " 'Caballero',\n",
       " 'Canardo',\n",
       " 'Casey',\n",
       " 'Casseurs Flowters',\n",
       " 'Les X',\n",
       " 'Chiens de paille',\n",
       " 'Chilla',\n",
       " 'Chris Macari',\n",
       " 'Columbine',\n",
       " 'Cuizinier',\n",
       " 'Cut Killer',\n",
       " 'Cyanure',\n",
       " 'Daddy Lord C',\n",
       " 'Daddy Mory',\n",
       " 'Dadju',\n",
       " 'Dadoo',\n",
       " 'Damso',\n",
       " 'Dany Dan',\n",
       " 'Dany Synthé',\n",
       " 'Darryl Zeuja',\n",
       " 'Da Uzi',\n",
       " 'Davinhor',\n",
       " 'Dee Nasty',\n",
       " 'Deen Burbigo',\n",
       " 'Demi Portion',\n",
       " 'Démocrates D',\n",
       " 'Demon One',\n",
       " 'Majster',\n",
       " \"Diam's\",\n",
       " 'Dicidens',\n",
       " 'Di-Meh',\n",
       " 'Dinos',\n",
       " 'Disiz',\n",
       " 'DJ Abdel',\n",
       " 'DJ Clyde',\n",
       " 'DJ Mehdi',\n",
       " 'DJ Pone',\n",
       " 'DJ Snake',\n",
       " 'DJ Spank',\n",
       " 'Djadja et Dinaz',\n",
       " 'Doc Gynéco',\n",
       " 'Doctor L',\n",
       " 'Don Choa',\n",
       " 'Doomams',\n",
       " 'Dosseh',\n",
       " 'Doudou Masta',\n",
       " 'Doums',\n",
       " 'Dr. Bériz',\n",
       " 'Driver',\n",
       " 'Dry',\n",
       " 'DTF',\n",
       " 'East',\n",
       " 'Edge',\n",
       " 'Eklips',\n",
       " 'Ekoué',\n",
       " 'Elams',\n",
       " 'El Matador',\n",
       " 'Expression Direkt',\n",
       " 'Nysay',\n",
       " 'F430',\n",
       " 'Fababy',\n",
       " 'Fabe',\n",
       " 'Faf Larage',\n",
       " 'Fanny Polly',\n",
       " 'Féfé',\n",
       " 'Flynt',\n",
       " 'Fonky Family',\n",
       " 'Franglish',\n",
       " 'Fredy K',\n",
       " 'Fredz',\n",
       " 'Freeman',\n",
       " 'Freeze Corleone',\n",
       " 'Fresh la Peufra',\n",
       " 'Furax',\n",
       " 'Fuzati',\n",
       " 'Gambi',\n",
       " 'Gazo',\n",
       " 'Georgio',\n",
       " 'Gérard Baste',\n",
       " 'Ghetto Fabulous Gang',\n",
       " 'Gims',\n",
       " 'Gradur',\n",
       " 'Green Montana',\n",
       " 'Grems',\n",
       " 'Gringe',\n",
       " 'Guizmo',\n",
       " 'Guy2Bezbar',\n",
       " 'Hamé',\n",
       " 'Hamed Daye',\n",
       " 'Hamza',\n",
       " 'Scred Connexion',\n",
       " 'Hatik',\n",
       " 'Hayce Lemsi',\n",
       " \"Heuss l'Enfoiré\",\n",
       " 'High Five Crew',\n",
       " 'Hippocampe Fou',\n",
       " 'H Magnum',\n",
       " 'Hocus Pocus',\n",
       " 'Hornet La Frappe',\n",
       " 'Hugo TSR',\n",
       " 'Hyacinthe',\n",
       " 'IAM',\n",
       " 'Ideal J',\n",
       " 'Les X',\n",
       " 'Imhotep',\n",
       " 'Intouchable',\n",
       " 'Iron Sy',\n",
       " 'IV My People',\n",
       " 'J9ueve',\n",
       " 'Jacky Brown',\n",
       " 'Jarod',\n",
       " 'Jazzy Bazz',\n",
       " 'JeanJass',\n",
       " 'Jimmy Jay',\n",
       " 'JoeyStarr',\n",
       " \"Jok'Air\",\n",
       " 'Jorrdee',\n",
       " 'Josman',\n",
       " 'JP Manova',\n",
       " 'JR O Crom',\n",
       " 'Jul',\n",
       " 'Kaaris',\n",
       " 'Kabal',\n",
       " 'Kacem Wapalek',\n",
       " 'Kalash',\n",
       " 'Kalash Criminel',\n",
       " \"Kalash l'Afro\",\n",
       " 'Karlito',\n",
       " 'Unité 2 Feu',\n",
       " 'Kayna Samet',\n",
       " 'KDD',\n",
       " 'Kekra',\n",
       " 'Keny Arkana',\n",
       " 'Kephren',\n",
       " 'Kerchak',\n",
       " 'Keros-N',\n",
       " 'Kery James',\n",
       " 'Khali',\n",
       " 'Kheops',\n",
       " 'Kikesa',\n",
       " 'Klub des Loosers',\n",
       " 'Koba LaD',\n",
       " 'Kobo',\n",
       " 'Kofs',\n",
       " 'Koma',\n",
       " 'Kool Shen',\n",
       " 'Kore',\n",
       " 'K-Reen',\n",
       " 'KronoMuzik',\n",
       " 'KT Gorique',\n",
       " 'Kyo Itachi',\n",
       " 'La Brigade',\n",
       " 'Lord Kossity',\n",
       " 'Lacrim',\n",
       " 'La Clinique',\n",
       " 'La Cliqua',\n",
       " 'Lady Laistee',\n",
       " 'Laetitia Kerfa',\n",
       " 'La Fève',\n",
       " 'La Fouine',\n",
       " 'La Rumeur',\n",
       " 'Lala &ce',\n",
       " \"L'Algérino\",\n",
       " 'Landy',\n",
       " 'Larry',\n",
       " 'Lartiste',\n",
       " 'Laylow',\n",
       " 'Leck',\n",
       " 'Leeroy',\n",
       " 'Lefa',\n",
       " 'Le Juiice',\n",
       " 'Le Klub des 7',\n",
       " \"L'Entourage\",\n",
       " 'Le Rat Luciano',\n",
       " 'Leto',\n",
       " 'LIM',\n",
       " 'Lino',\n",
       " 'Liza Monet',\n",
       " 'Lomepal',\n",
       " 'Lorenzo',\n",
       " 'Lous and the Yakuza',\n",
       " 'Luidji',\n",
       " 'Lujipeka',\n",
       " 'Lunatic',\n",
       " 'Luv Resval',\n",
       " 'Mac Kregor',\n",
       " 'Mac Tyer',\n",
       " 'Maes',\n",
       " \"Mafia K'1 Fry\",\n",
       " 'Mairo',\n",
       " 'Makala',\n",
       " 'Manau',\n",
       " 'Manu Key',\n",
       " 'Marwa Loud',\n",
       " 'Maska',\n",
       " 'MC Janik',\n",
       " \"MC Jean Gab'1\",\n",
       " 'MC Solaar',\n",
       " 'Médine',\n",
       " 'Melaaz',\n",
       " 'Ménélik',\n",
       " 'Menzo',\n",
       " 'Meryl',\n",
       " 'MHD',\n",
       " 'Michel',\n",
       " 'Ministère A.M.E.R.',\n",
       " 'Mister V',\n",
       " 'Mister You',\n",
       " 'MMZ',\n",
       " 'Moha K',\n",
       " 'Moha La Squale',\n",
       " 'Mokobé',\n",
       " 'Moona',\n",
       " \"Mo'vez Lang\",\n",
       " 'MRC',\n",
       " 'Mystik',\n",
       " 'Myth Syzer',\n",
       " 'MZ',\n",
       " 'Nakk',\n",
       " 'Naps',\n",
       " 'Naza',\n",
       " 'Neg Lyrical',\n",
       " \"Nèg' Marrons\",\n",
       " 'Nekfeu',\n",
       " 'Nelick',\n",
       " 'Némir',\n",
       " 'Népal',\n",
       " 'Nessbeal',\n",
       " 'Norsacce Berlusconi',\n",
       " 'Nicy',\n",
       " 'Nikkfurie',\n",
       " 'Ninho',\n",
       " 'Niro',\n",
       " 'Niska',\n",
       " 'Suprême NTM',\n",
       " 'Nubi',\n",
       " 'Nysay',\n",
       " 'Oboy',\n",
       " 'OGB',\n",
       " 'Ol Kainry',\n",
       " 'Orelsan',\n",
       " 'Orgasmic',\n",
       " 'Osirus Jack',\n",
       " 'Oxmo Puccino',\n",
       " 'Panama Bende',\n",
       " 'Passi',\n",
       " 'Pit Baccardi',\n",
       " 'PLK',\n",
       " 'PNL',\n",
       " 'Pone',\n",
       " 'Prince Waly',\n",
       " 'Princess Aniès',\n",
       " 'PSO Thug',\n",
       " 'Psy 4 de la rime',\n",
       " 'Rémy',\n",
       " 'Retro x',\n",
       " \"Rim'K\",\n",
       " 'Riski',\n",
       " 'RK',\n",
       " 'Rocca',\n",
       " 'Rocé',\n",
       " \"Rockin' Squat\",\n",
       " 'Rohff',\n",
       " 'Roi Heenok',\n",
       " 'Roméo Elvis',\n",
       " 'Rounhaa',\n",
       " 'Sadek',\n",
       " 'Sages Poètes de la rue',\n",
       " 'Saïan Supa Crew',\n",
       " 'Sako',\n",
       " 'Salif',\n",
       " 'Saliha',\n",
       " 'Sally',\n",
       " \"Sat l'Artificier\",\n",
       " 'Sauveur Eloheem',\n",
       " 'SCH',\n",
       " 'Scred Connexion',\n",
       " 'S-Crew',\n",
       " 'Scylla',\n",
       " 'SDM',\n",
       " 'SEB',\n",
       " 'Secteur Ä',\n",
       " 'Sefyu',\n",
       " 'Seth Gueko',\n",
       " \"Sexion d'assaut\",\n",
       " 'Shay',\n",
       " 'Sheek',\n",
       " \"Shone d'Holocost\",\n",
       " \"Shurik'n\",\n",
       " 'Siboy',\n",
       " 'Sinik',\n",
       " 'Sir Samuel',\n",
       " 'Six',\n",
       " 'Skalpovich',\n",
       " 'Skread',\n",
       " 'Slimka',\n",
       " 'Sneazzy',\n",
       " 'Sniper',\n",
       " 'Sofiane Zermani',\n",
       " 'So La Lune',\n",
       " 'Solo',\n",
       " 'Soolking',\n",
       " 'Soon E MC',\n",
       " 'Sopico',\n",
       " 'Soprano',\n",
       " 'Soso Maness',\n",
       " 'S.Pri Noir',\n",
       " '13 Block',\n",
       " 'Still Fresh',\n",
       " 'Stomy Bugsy',\n",
       " 'Sultan',\n",
       " 'Swagg Man',\n",
       " 'Sya Styles',\n",
       " 'Ideal J',\n",
       " 'Teki Latex',\n",
       " 'Team BS',\n",
       " 'Tepa',\n",
       " 'The Shin Sekaï',\n",
       " 'Tiakola',\n",
       " 'Tiitof',\n",
       " 'Timal',\n",
       " 'Time Bomb',\n",
       " 'TLF',\n",
       " 'Tsew The Kid',\n",
       " 'TSR Crew',\n",
       " 'TTC',\n",
       " 'Tunisiano',\n",
       " 'Under Kontrol',\n",
       " 'Unité 2 Feu',\n",
       " 'Usky',\n",
       " 'Uzi',\n",
       " 'Vald',\n",
       " 'Vegedream',\n",
       " 'Vicelow',\n",
       " 'Vicky R',\n",
       " 'Vincha',\n",
       " 'Vîrus',\n",
       " 'Vladimir Cauchemar',\n",
       " 'Wacko',\n",
       " 'Wallen',\n",
       " 'Werenoi',\n",
       " 'Les X',\n",
       " 'Yannick',\n",
       " 'Youssoupha',\n",
       " 'Younès Boucif',\n",
       " 'Youv Dee',\n",
       " 'Zamdane',\n",
       " '13 Block',\n",
       " 'Zed Yun Pavarotti',\n",
       " 'Zesau',\n",
       " 'Ziak',\n",
       " 'Zkr',\n",
       " 'Zola',\n",
       " 'Zoxea',\n",
       " 'Zuukou Mayzie']"
      ]
     },
     "execution_count": 145,
     "metadata": {},
     "output_type": "execute_result"
    }
   ],
   "source": [
    "# Fonction pour supprimer les parenthèses et leur contenu\n",
    "def supprimer_parentheses(element):\n",
    "    return re.sub(r'\\([^)]*\\)', '', element).strip()\n",
    "\n",
    "# Appliquer la fonction à chaque élément de la liste\n",
    "artistes_wiki_2 = [supprimer_parentheses(element) for element in artistes_wiki]"
   ]
  },
  {
   "cell_type": "code",
   "execution_count": null,
   "id": "dff6e881",
   "metadata": {},
   "outputs": [
    {
     "name": "stderr",
     "output_type": "stream",
     "text": [
      "\r",
      "  0%|                                                                                          | 0/408 [00:00<?, ?it/s]"
     ]
    },
    {
     "name": "stdout",
     "output_type": "stream",
     "text": [
      "Searching for songs by 2 Bal...\n",
      "\n"
     ]
    },
    {
     "name": "stderr",
     "output_type": "stream",
     "text": [
      "\r",
      "  0%|▏                                                                               | 1/408 [00:10<1:09:58, 10.32s/it]"
     ]
    },
    {
     "name": "stdout",
     "output_type": "stream",
     "text": [
      "Song 1: \"La sédition\"\n",
      "\n",
      "Reached user-specified song limit (1).\n",
      "Done. Found 1 songs.\n",
      "Searching for songs by 2zer Washington...\n",
      "\n",
      "Changing artist name to '2zer'\n"
     ]
    },
    {
     "name": "stderr",
     "output_type": "stream",
     "text": [
      "\r",
      "  0%|▍                                                                               | 2/408 [00:24<1:24:02, 12.42s/it]"
     ]
    },
    {
     "name": "stdout",
     "output_type": "stream",
     "text": [
      "Erreur lors de la recherche de l'artiste 2zer Washington: HTTPSConnectionPool(host='genius.com', port=443): Read timed out.\n",
      "Searching for songs by 3e Œil...\n",
      "\n"
     ]
    },
    {
     "name": "stderr",
     "output_type": "stream",
     "text": [
      "\r",
      "  1%|▌                                                                                 | 3/408 [00:24<47:44,  7.07s/it]"
     ]
    },
    {
     "name": "stdout",
     "output_type": "stream",
     "text": [
      "No results found for '3e Œil'.\n",
      "Erreur lors de la recherche de l'artiste 3e Œil: 'NoneType' object has no attribute 'songs'\n",
      "Searching for songs by 4Keus...\n",
      "\n"
     ]
    },
    {
     "name": "stderr",
     "output_type": "stream",
     "text": [
      "\r",
      "  1%|▊                                                                                 | 4/408 [00:31<45:08,  6.70s/it]"
     ]
    },
    {
     "name": "stdout",
     "output_type": "stream",
     "text": [
      "Song 1: \"Mignon garçon\"\n",
      "\n",
      "Reached user-specified song limit (1).\n",
      "Done. Found 1 songs.\n",
      "Searching for songs by 5 majeur...\n",
      "\n",
      "Changing artist name to '5 Majeur'\n"
     ]
    },
    {
     "name": "stderr",
     "output_type": "stream",
     "text": [
      "\r",
      "  1%|█                                                                                 | 5/408 [00:37<43:27,  6.47s/it]"
     ]
    },
    {
     "name": "stdout",
     "output_type": "stream",
     "text": [
      "Song 1: \"Gère tes affaires\"\n",
      "\n",
      "Reached user-specified song limit (1).\n",
      "Done. Found 1 songs.\n",
      "Searching for songs by 13 Block...\n",
      "\n"
     ]
    },
    {
     "name": "stderr",
     "output_type": "stream",
     "text": [
      "\r",
      "  1%|█▏                                                                                | 6/408 [00:42<41:28,  6.19s/it]"
     ]
    },
    {
     "name": "stdout",
     "output_type": "stream",
     "text": [
      "Song 1: \"Fuck le 17\"\n",
      "\n",
      "Reached user-specified song limit (1).\n",
      "Done. Found 1 songs.\n",
      "Searching for songs by 20syl...\n",
      "\n",
      "Changing artist name to '20Syl'\n"
     ]
    },
    {
     "name": "stderr",
     "output_type": "stream",
     "text": [
      "\r",
      "  2%|█▍                                                                                | 7/408 [00:54<54:05,  8.09s/it]"
     ]
    },
    {
     "name": "stdout",
     "output_type": "stream",
     "text": [
      "Song 1: \"Ongoing Thing\"\n",
      "\n",
      "Reached user-specified song limit (1).\n",
      "Done. Found 1 songs.\n",
      "Searching for songs by 92i...\n",
      "\n"
     ]
    },
    {
     "name": "stderr",
     "output_type": "stream",
     "text": [
      "\r",
      "  2%|█▌                                                                                | 8/408 [01:02<53:55,  8.09s/it]"
     ]
    },
    {
     "name": "stdout",
     "output_type": "stream",
     "text": [
      "Song 1: \"Du biff\"\n",
      "\n",
      "Reached user-specified song limit (1).\n",
      "Done. Found 1 songs.\n",
      "Searching for songs by 113...\n",
      "\n"
     ]
    },
    {
     "name": "stderr",
     "output_type": "stream",
     "text": [
      "\r",
      "  2%|█▊                                                                                | 9/408 [01:10<53:28,  8.04s/it]"
     ]
    },
    {
     "name": "stdout",
     "output_type": "stream",
     "text": [
      "Song 1: \"Tonton du bled\"\n",
      "\n",
      "Reached user-specified song limit (1).\n",
      "Done. Found 1 songs.\n",
      "Searching for songs by 400 Hyènes...\n",
      "\n"
     ]
    },
    {
     "name": "stderr",
     "output_type": "stream",
     "text": [
      "\r",
      "  2%|█▉                                                                               | 10/408 [01:20<57:26,  8.66s/it]"
     ]
    },
    {
     "name": "stdout",
     "output_type": "stream",
     "text": [
      "Song 1: \"Quoi de neuf frère\"\n",
      "\n",
      "Reached user-specified song limit (1).\n",
      "Done. Found 1 songs.\n",
      "Searching for songs by 667...\n",
      "\n"
     ]
    },
    {
     "name": "stderr",
     "output_type": "stream",
     "text": [
      "\r",
      "  3%|██▏                                                                              | 11/408 [01:26<51:47,  7.83s/it]"
     ]
    },
    {
     "name": "stdout",
     "output_type": "stream",
     "text": [
      "Song 1: \"669 Part. 2\"\n",
      "\n",
      "Reached user-specified song limit (1).\n",
      "Done. Found 1 songs.\n",
      "Searching for songs by 1995...\n",
      "\n"
     ]
    },
    {
     "name": "stderr",
     "output_type": "stream",
     "text": [
      "\r",
      "  3%|██▍                                                                              | 12/408 [01:33<49:10,  7.45s/it]"
     ]
    },
    {
     "name": "stdout",
     "output_type": "stream",
     "text": [
      "Song 1: \"La source\"\n",
      "\n",
      "Reached user-specified song limit (1).\n",
      "Done. Found 1 songs.\n",
      "Searching for songs by Abd al Malik...\n",
      "\n",
      "Changing artist name to 'Abd Al Malik'\n"
     ]
    },
    {
     "name": "stderr",
     "output_type": "stream",
     "text": [
      "\r",
      "  3%|██▌                                                                              | 13/408 [01:39<46:13,  7.02s/it]"
     ]
    },
    {
     "name": "stdout",
     "output_type": "stream",
     "text": [
      "Song 1: \"Gibraltar\"\n",
      "\n",
      "Reached user-specified song limit (1).\n",
      "Done. Found 1 songs.\n",
      "Searching for songs by Abou Debeing...\n",
      "\n"
     ]
    },
    {
     "name": "stderr",
     "output_type": "stream",
     "text": [
      "\r",
      "  3%|██▊                                                                              | 14/408 [01:47<48:18,  7.36s/it]"
     ]
    },
    {
     "name": "stdout",
     "output_type": "stream",
     "text": [
      "Song 1: \"C’est pas bon\"\n",
      "\n",
      "Reached user-specified song limit (1).\n",
      "Done. Found 1 songs.\n",
      "Searching for songs by Abou Tall...\n",
      "\n"
     ]
    },
    {
     "name": "stderr",
     "output_type": "stream",
     "text": [
      "\r",
      "  4%|██▉                                                                            | 15/408 [04:23<5:41:25, 52.13s/it]"
     ]
    },
    {
     "name": "stdout",
     "output_type": "stream",
     "text": [
      "Song 1: \"Eiffel\"\n",
      "\n",
      "Reached user-specified song limit (1).\n",
      "Done. Found 1 songs.\n",
      "Searching for songs by Admiral T...\n",
      "\n"
     ]
    },
    {
     "name": "stderr",
     "output_type": "stream",
     "text": [
      "\r",
      "  4%|███                                                                            | 16/408 [04:33<4:18:01, 39.49s/it]"
     ]
    },
    {
     "name": "stdout",
     "output_type": "stream",
     "text": [
      "Song 1: \"Game Over\"\n",
      "\n",
      "Reached user-specified song limit (1).\n",
      "Done. Found 1 songs.\n",
      "Searching for songs by Aketo...\n",
      "\n"
     ]
    },
    {
     "name": "stderr",
     "output_type": "stream",
     "text": [
      "\r",
      "  4%|███▎                                                                           | 17/408 [05:37<5:05:59, 46.96s/it]"
     ]
    },
    {
     "name": "stdout",
     "output_type": "stream",
     "text": [
      "Song 1: \"Déception\"\n",
      "\n",
      "Reached user-specified song limit (1).\n",
      "Done. Found 1 songs.\n",
      "Searching for songs by Akhenaton...\n",
      "\n"
     ]
    },
    {
     "name": "stderr",
     "output_type": "stream",
     "text": [
      "\r",
      "  4%|███▍                                                                           | 18/408 [05:53<4:03:29, 37.46s/it]"
     ]
    },
    {
     "name": "stdout",
     "output_type": "stream",
     "text": [
      "Erreur lors de la recherche de l'artiste Akhenaton: HTTPSConnectionPool(host='genius.com', port=443): Read timed out.\n",
      "Searching for songs by Ali...\n",
      "\n",
      "Changing artist name to 'Taylor Swift'\n"
     ]
    },
    {
     "name": "stderr",
     "output_type": "stream",
     "text": [
      "\r",
      "  5%|███▋                                                                           | 19/408 [06:13<3:30:04, 32.40s/it]"
     ]
    },
    {
     "name": "stdout",
     "output_type": "stream",
     "text": [
      "Song 1: \"All Too Well (10 Minute Version) (Taylor’s Version) [From The Vault]\"\n",
      "\n",
      "Reached user-specified song limit (1).\n",
      "Done. Found 1 songs.\n",
      "Searching for songs by Yosoji...\n",
      "\n",
      "Changing artist name to 'Yooji Choi'\n"
     ]
    },
    {
     "name": "stderr",
     "output_type": "stream",
     "text": [
      "\r",
      "  5%|███▊                                                                           | 20/408 [06:18<2:34:53, 23.95s/it]"
     ]
    },
    {
     "name": "stdout",
     "output_type": "stream",
     "text": [
      "Done. Found 0 songs.\n",
      "Searching for songs by Alibi Montana...\n",
      "\n"
     ]
    },
    {
     "name": "stderr",
     "output_type": "stream",
     "text": [
      "\r",
      "  5%|████                                                                           | 21/408 [06:31<2:14:41, 20.88s/it]"
     ]
    },
    {
     "name": "stdout",
     "output_type": "stream",
     "text": [
      "Song 1: \"Loin des yeux Loin du cœur\"\n",
      "\n",
      "Reached user-specified song limit (1).\n",
      "Done. Found 1 songs.\n",
      "Searching for songs by Alkpote...\n",
      "\n"
     ]
    },
    {
     "name": "stderr",
     "output_type": "stream",
     "text": [
      "\r",
      "  5%|████▎                                                                          | 22/408 [06:36<1:43:52, 16.15s/it]"
     ]
    },
    {
     "name": "stdout",
     "output_type": "stream",
     "text": [
      "Song 1: \"Plus haut\"\n",
      "\n",
      "Reached user-specified song limit (1).\n",
      "Done. Found 1 songs.\n",
      "Searching for songs by Alliance Ethnik...\n",
      "\n"
     ]
    },
    {
     "name": "stderr",
     "output_type": "stream",
     "text": [
      "\r",
      "  6%|████▍                                                                          | 23/408 [06:42<1:23:14, 12.97s/it]"
     ]
    },
    {
     "name": "stdout",
     "output_type": "stream",
     "text": [
      "Song 1: \"Respect\"\n",
      "\n",
      "Reached user-specified song limit (1).\n",
      "Done. Found 1 songs.\n",
      "Searching for songs by Alonzo...\n",
      "\n"
     ]
    },
    {
     "name": "stderr",
     "output_type": "stream",
     "text": [
      "\r",
      "  6%|████▋                                                                          | 24/408 [06:56<1:24:51, 13.26s/it]"
     ]
    },
    {
     "name": "stdout",
     "output_type": "stream",
     "text": [
      "Song 1: \"Finis-les\"\n",
      "\n",
      "Reached user-specified song limit (1).\n",
      "Done. Found 1 songs.\n",
      "Searching for songs by Alpha 5.20...\n",
      "\n"
     ]
    },
    {
     "name": "stderr",
     "output_type": "stream",
     "text": [
      "\r",
      "  6%|████▊                                                                          | 25/408 [07:23<1:51:51, 17.52s/it]"
     ]
    },
    {
     "name": "stdout",
     "output_type": "stream",
     "text": [
      "Song 1: \"Le mal qu’on a fait\"\n",
      "\n",
      "Reached user-specified song limit (1).\n",
      "Done. Found 1 songs.\n",
      "Searching for songs by Alpha Wann...\n",
      "\n"
     ]
    },
    {
     "name": "stderr",
     "output_type": "stream",
     "text": [
      "\r",
      "  6%|█████                                                                          | 26/408 [07:56<2:19:27, 21.91s/it]"
     ]
    },
    {
     "name": "stdout",
     "output_type": "stream",
     "text": [
      "Song 1: \"LE PIÈGE\"\n",
      "\n",
      "Reached user-specified song limit (1).\n",
      "Done. Found 1 songs.\n",
      "Searching for songs by 113...\n",
      "\n"
     ]
    },
    {
     "name": "stderr",
     "output_type": "stream",
     "text": [
      "\r",
      "  7%|█████▏                                                                         | 27/408 [08:01<1:47:28, 16.92s/it]"
     ]
    },
    {
     "name": "stdout",
     "output_type": "stream",
     "text": [
      "Song 1: \"Tonton du bled\"\n",
      "\n",
      "Reached user-specified song limit (1).\n",
      "Done. Found 1 songs.\n",
      "Searching for songs by Ärsenik...\n",
      "\n",
      "Changing artist name to 'Ärsenik (Group)'\n"
     ]
    },
    {
     "name": "stderr",
     "output_type": "stream",
     "text": [
      "\r",
      "  7%|█████▍                                                                         | 28/408 [08:13<1:37:52, 15.45s/it]"
     ]
    },
    {
     "name": "stdout",
     "output_type": "stream",
     "text": [
      "Song 1: \"Sexe, pouvoir & biftons\"\n",
      "\n",
      "Reached user-specified song limit (1).\n",
      "Done. Found 1 songs.\n",
      "Searching for songs by Assassin...\n",
      "\n",
      "Changing artist name to 'Assassin’s Creed Sea Shanties'\n"
     ]
    },
    {
     "name": "stderr",
     "output_type": "stream",
     "text": [
      "\r",
      "  7%|█████▌                                                                         | 29/408 [08:20<1:21:27, 12.89s/it]"
     ]
    },
    {
     "name": "stdout",
     "output_type": "stream",
     "text": [
      "Song 1: \"Bully in the Alley\"\n",
      "\n",
      "Reached user-specified song limit (1).\n",
      "Done. Found 1 songs.\n",
      "Searching for songs by Ateyaba...\n",
      "\n"
     ]
    },
    {
     "name": "stderr",
     "output_type": "stream",
     "text": [
      "\r",
      "  7%|█████▊                                                                         | 30/408 [08:27<1:10:37, 11.21s/it]"
     ]
    },
    {
     "name": "stdout",
     "output_type": "stream",
     "text": [
      "Song 1: \"On est sur les nerfs\"\n",
      "\n",
      "Reached user-specified song limit (1).\n",
      "Done. Found 1 songs.\n",
      "Searching for songs by ATK...\n",
      "\n",
      "Changing artist name to 'Ja Rule'\n"
     ]
    },
    {
     "name": "stderr",
     "output_type": "stream",
     "text": [
      "\r",
      "  8%|██████                                                                         | 31/408 [08:43<1:18:28, 12.49s/it]"
     ]
    },
    {
     "name": "stdout",
     "output_type": "stream",
     "text": [
      "Song 1: \"Put It On Me\"\n",
      "\n",
      "Reached user-specified song limit (1).\n",
      "Done. Found 1 songs.\n",
      "Searching for songs by Axiom...\n",
      "\n"
     ]
    },
    {
     "name": "stderr",
     "output_type": "stream",
     "text": [
      "\r",
      "  8%|██████▏                                                                        | 32/408 [08:59<1:26:40, 13.83s/it]"
     ]
    },
    {
     "name": "stdout",
     "output_type": "stream",
     "text": [
      "Song 1: \"La Tour des Miracles\"\n",
      "\n",
      "Reached user-specified song limit (1).\n",
      "Done. Found 1 songs.\n",
      "Searching for songs by Bakar...\n",
      "\n"
     ]
    },
    {
     "name": "stderr",
     "output_type": "stream",
     "text": [
      "\r",
      "  8%|██████▍                                                                        | 33/408 [09:06<1:12:23, 11.58s/it]"
     ]
    },
    {
     "name": "stdout",
     "output_type": "stream",
     "text": [
      "Song 1: \"Hell N Back\"\n",
      "\n",
      "Reached user-specified song limit (1).\n",
      "Done. Found 1 songs.\n",
      "Searching for songs by Bambi Cruz...\n",
      "\n"
     ]
    },
    {
     "name": "stderr",
     "output_type": "stream",
     "text": [
      "\r",
      "  8%|██████▌                                                                        | 34/408 [09:14<1:06:35, 10.68s/it]"
     ]
    },
    {
     "name": "stdout",
     "output_type": "stream",
     "text": [
      "Song 1: \"Ouvre les yeux\"\n",
      "\n",
      "Reached user-specified song limit (1).\n",
      "Done. Found 1 songs.\n",
      "Searching for songs by Ben-J...\n",
      "\n",
      "Changing artist name to 'Macklemore'\n"
     ]
    },
    {
     "name": "stderr",
     "output_type": "stream",
     "text": [
      "\r",
      "  9%|██████▊                                                                        | 35/408 [09:37<1:28:41, 14.27s/it]"
     ]
    },
    {
     "name": "stdout",
     "output_type": "stream",
     "text": [
      "Erreur lors de la recherche de l'artiste Ben-J: Request timed out:\n",
      "HTTPSConnectionPool(host='genius.com', port=443): Read timed out. (read timeout=5)\n",
      "Searching for songs by Benjamin Epps...\n",
      "\n"
     ]
    },
    {
     "name": "stderr",
     "output_type": "stream",
     "text": [
      "\r",
      "  9%|██████▉                                                                        | 36/408 [09:51<1:28:26, 14.26s/it]"
     ]
    },
    {
     "name": "stdout",
     "output_type": "stream",
     "text": [
      "Song 1: \"DRILLMATIC\"\n",
      "\n",
      "Reached user-specified song limit (1).\n",
      "Done. Found 1 songs.\n",
      "Searching for songs by Benab...\n",
      "\n"
     ]
    },
    {
     "name": "stderr",
     "output_type": "stream",
     "text": [
      "\r",
      "  9%|███████▏                                                                       | 37/408 [09:58<1:14:25, 12.04s/it]"
     ]
    },
    {
     "name": "stdout",
     "output_type": "stream",
     "text": [
      "Song 1: \"Mon poto\"\n",
      "\n",
      "Reached user-specified song limit (1).\n",
      "Done. Found 1 songs.\n",
      "Searching for songs by Benash...\n",
      "\n"
     ]
    },
    {
     "name": "stderr",
     "output_type": "stream",
     "text": [
      "\r",
      "  9%|███████▎                                                                       | 38/408 [10:32<1:55:27, 18.72s/it]"
     ]
    },
    {
     "name": "stdout",
     "output_type": "stream",
     "text": [
      "Song 1: \"Ghetto\"\n",
      "\n",
      "Reached user-specified song limit (1).\n",
      "Done. Found 1 songs.\n",
      "Searching for songs by Berywam...\n",
      "\n"
     ]
    },
    {
     "name": "stderr",
     "output_type": "stream",
     "text": [
      "\r",
      " 10%|███████▌                                                                       | 39/408 [10:37<1:29:49, 14.60s/it]"
     ]
    },
    {
     "name": "stdout",
     "output_type": "stream",
     "text": [
      "Song 1: \"Shape of You\"\n",
      "\n",
      "Reached user-specified song limit (1).\n",
      "Done. Found 1 songs.\n",
      "Searching for songs by Big Brother Hakim...\n",
      "\n"
     ]
    },
    {
     "name": "stderr",
     "output_type": "stream",
     "text": [
      "\r",
      " 10%|███████▋                                                                       | 40/408 [10:50<1:25:06, 13.88s/it]"
     ]
    },
    {
     "name": "stdout",
     "output_type": "stream",
     "text": [
      "Done. Found 0 songs.\n",
      "Searching for songs by Big Red...\n",
      "\n"
     ]
    },
    {
     "name": "stderr",
     "output_type": "stream",
     "text": [
      "\r",
      " 10%|███████▉                                                                       | 41/408 [11:06<1:29:56, 14.70s/it]"
     ]
    },
    {
     "name": "stdout",
     "output_type": "stream",
     "text": [
      "Song 1: \"Kill Kill Kill\"\n",
      "\n",
      "Reached user-specified song limit (1).\n",
      "Done. Found 1 songs.\n",
      "Searching for songs by Bigflo et Oli...\n",
      "\n",
      "Changing artist name to 'Bigflo & Oli'\n"
     ]
    },
    {
     "name": "stderr",
     "output_type": "stream",
     "text": [
      "\r",
      " 10%|████████▏                                                                      | 42/408 [11:12<1:13:14, 12.01s/it]"
     ]
    },
    {
     "name": "stdout",
     "output_type": "stream",
     "text": [
      "Song 1: \"Nous aussi\"\n",
      "\n",
      "Reached user-specified song limit (1).\n",
      "Done. Found 1 songs.\n",
      "Searching for songs by Bisso Na Bisso...\n",
      "\n"
     ]
    },
    {
     "name": "stderr",
     "output_type": "stream",
     "text": [
      "\r",
      " 11%|████████▎                                                                      | 43/408 [11:17<1:00:52, 10.01s/it]"
     ]
    },
    {
     "name": "stdout",
     "output_type": "stream",
     "text": [
      "Song 1: \"Bisso Na Bisso\"\n",
      "\n",
      "Reached user-specified song limit (1).\n",
      "Done. Found 1 songs.\n",
      "Searching for songs by Black Kent...\n",
      "\n"
     ]
    },
    {
     "name": "stderr",
     "output_type": "stream",
     "text": [
      "\r",
      " 11%|████████▋                                                                        | 44/408 [11:24<54:13,  8.94s/it]"
     ]
    },
    {
     "name": "stdout",
     "output_type": "stream",
     "text": [
      "Song 1: \"Puzzle\"\n",
      "\n",
      "Reached user-specified song limit (1).\n",
      "Done. Found 1 songs.\n",
      "Searching for songs by Black M...\n",
      "\n"
     ]
    },
    {
     "name": "stderr",
     "output_type": "stream",
     "text": [
      "\r",
      " 11%|████████▋                                                                      | 45/408 [11:42<1:10:14, 11.61s/it]"
     ]
    },
    {
     "name": "stdout",
     "output_type": "stream",
     "text": [
      "Song 1: \"Sur ma route\"\n",
      "\n",
      "Reached user-specified song limit (1).\n",
      "Done. Found 1 songs.\n",
      "Searching for songs by Blacko...\n",
      "\n",
      "Changing artist name to 'Blacko (FRA)'\n"
     ]
    },
    {
     "name": "stderr",
     "output_type": "stream",
     "text": [
      "\r",
      " 11%|████████▉                                                                      | 46/408 [12:21<2:01:07, 20.07s/it]"
     ]
    },
    {
     "name": "stdout",
     "output_type": "stream",
     "text": [
      "Erreur lors de la recherche de l'artiste Blacko: HTTPSConnectionPool(host='genius.com', port=443): Read timed out.\n",
      "Searching for songs by Booba...\n",
      "\n"
     ]
    },
    {
     "name": "stderr",
     "output_type": "stream",
     "text": [
      "\r",
      " 12%|█████████                                                                      | 47/408 [12:42<2:02:06, 20.29s/it]"
     ]
    },
    {
     "name": "stdout",
     "output_type": "stream",
     "text": [
      "Song 1: \"92i Veyron\"\n",
      "\n",
      "Reached user-specified song limit (1).\n",
      "Done. Found 1 songs.\n",
      "Searching for songs by Bosh...\n",
      "\n"
     ]
    },
    {
     "name": "stderr",
     "output_type": "stream",
     "text": [
      "\r",
      " 12%|█████████▎                                                                     | 48/408 [12:49<1:38:01, 16.34s/it]"
     ]
    },
    {
     "name": "stdout",
     "output_type": "stream",
     "text": [
      "Song 1: \"Djomb (Bien ou quoi)\"\n",
      "\n",
      "Reached user-specified song limit (1).\n",
      "Done. Found 1 songs.\n",
      "Searching for songs by Bouga...\n",
      "\n"
     ]
    },
    {
     "name": "stderr",
     "output_type": "stream",
     "text": [
      "\r",
      " 12%|█████████▍                                                                     | 49/408 [12:55<1:18:48, 13.17s/it]"
     ]
    },
    {
     "name": "stdout",
     "output_type": "stream",
     "text": [
      "Song 1: \"Belsunce Breakdown\"\n",
      "\n",
      "Reached user-specified song limit (1).\n",
      "Done. Found 1 songs.\n",
      "Searching for songs by Bram's...\n",
      "\n",
      "Changing artist name to 'Gazo'\n"
     ]
    },
    {
     "name": "stderr",
     "output_type": "stream",
     "text": [
      "\r",
      " 12%|█████████▋                                                                     | 50/408 [13:05<1:12:45, 12.19s/it]"
     ]
    },
    {
     "name": "stdout",
     "output_type": "stream",
     "text": [
      "Song 1: \"Drill FR 4\"\n",
      "\n",
      "Reached user-specified song limit (1).\n",
      "Done. Found 1 songs.\n",
      "Searching for songs by Brasco...\n",
      "\n",
      "Changing artist name to 'BraSco (FRA)'\n"
     ]
    },
    {
     "name": "stderr",
     "output_type": "stream",
     "text": [
      "\r",
      " 12%|█████████▉                                                                     | 51/408 [13:15<1:08:28, 11.51s/it]"
     ]
    },
    {
     "name": "stdout",
     "output_type": "stream",
     "text": [
      "Song 1: \"Vagabond\"\n",
      "\n",
      "Reached user-specified song limit (1).\n",
      "Done. Found 1 songs.\n",
      "Searching for songs by Brav...\n",
      "\n",
      "Changing artist name to 'Carl Brave'\n"
     ]
    },
    {
     "name": "stderr",
     "output_type": "stream",
     "text": [
      "\r",
      " 13%|██████████                                                                     | 52/408 [13:25<1:05:02, 10.96s/it]"
     ]
    },
    {
     "name": "stdout",
     "output_type": "stream",
     "text": [
      "Song 1: \"Spigoli\"\n",
      "\n",
      "Reached user-specified song limit (1).\n",
      "Done. Found 1 songs.\n",
      "Searching for songs by Busta Flex...\n",
      "\n"
     ]
    },
    {
     "name": "stderr",
     "output_type": "stream",
     "text": [
      "\r",
      " 13%|██████████▎                                                                    | 53/408 [13:49<1:28:04, 14.89s/it]"
     ]
    },
    {
     "name": "stdout",
     "output_type": "stream",
     "text": [
      "Song 1: \"Pourquoi ?\"\n",
      "\n",
      "Reached user-specified song limit (1).\n",
      "Done. Found 1 songs.\n",
      "Searching for songs by Caballero...\n",
      "\n"
     ]
    },
    {
     "name": "stderr",
     "output_type": "stream",
     "text": [
      "\r",
      " 13%|██████████▍                                                                    | 54/408 [14:52<2:52:45, 29.28s/it]"
     ]
    },
    {
     "name": "stdout",
     "output_type": "stream",
     "text": [
      "Song 1: \"Le freestyle de la cigarette fumante\"\n",
      "\n",
      "Reached user-specified song limit (1).\n",
      "Done. Found 1 songs.\n",
      "Searching for songs by Canardo...\n",
      "\n"
     ]
    },
    {
     "name": "stderr",
     "output_type": "stream",
     "text": [
      "\r",
      " 13%|██████████▋                                                                    | 55/408 [15:22<2:54:55, 29.73s/it]"
     ]
    },
    {
     "name": "stdout",
     "output_type": "stream",
     "text": [
      "Song 1: \"M’en aller\"\n",
      "\n",
      "Reached user-specified song limit (1).\n",
      "Done. Found 1 songs.\n",
      "Searching for songs by Casey...\n",
      "\n",
      "Changing artist name to 'Casey Veggies'\n"
     ]
    },
    {
     "name": "stderr",
     "output_type": "stream",
     "text": [
      "\r",
      " 14%|██████████▊                                                                    | 56/408 [15:32<2:18:26, 23.60s/it]"
     ]
    },
    {
     "name": "stdout",
     "output_type": "stream",
     "text": [
      "Song 1: \"Tied Up\"\n",
      "\n",
      "Reached user-specified song limit (1).\n",
      "Done. Found 1 songs.\n",
      "Searching for songs by Casseurs Flowters...\n",
      "\n"
     ]
    },
    {
     "name": "stderr",
     "output_type": "stream",
     "text": [
      "\r",
      " 14%|███████████                                                                    | 57/408 [15:37<1:46:56, 18.28s/it]"
     ]
    },
    {
     "name": "stdout",
     "output_type": "stream",
     "text": [
      "Song 1: \"06h16 - Des histoires à raconter\"\n",
      "\n",
      "Reached user-specified song limit (1).\n",
      "Done. Found 1 songs.\n",
      "Searching for songs by Les X...\n",
      "\n",
      "Changing artist name to 'X-Men'\n"
     ]
    },
    {
     "name": "stderr",
     "output_type": "stream",
     "text": [
      "\r",
      " 14%|███████████▏                                                                   | 58/408 [15:45<1:27:24, 14.98s/it]"
     ]
    },
    {
     "name": "stdout",
     "output_type": "stream",
     "text": [
      "Song 1: \"Retour aux pyramides\"\n",
      "\n",
      "Reached user-specified song limit (1).\n",
      "Done. Found 1 songs.\n",
      "Searching for songs by Chiens de paille...\n",
      "\n",
      "Changing artist name to 'Chiens de Paille'\n"
     ]
    },
    {
     "name": "stderr",
     "output_type": "stream",
     "text": [
      "\r",
      " 14%|███████████▍                                                                   | 59/408 [15:54<1:16:12, 13.10s/it]"
     ]
    },
    {
     "name": "stdout",
     "output_type": "stream",
     "text": [
      "Song 1: \"Maudits soient les yeux fermés\"\n",
      "\n",
      "Reached user-specified song limit (1).\n",
      "Done. Found 1 songs.\n",
      "Searching for songs by Chilla...\n",
      "\n"
     ]
    },
    {
     "name": "stderr",
     "output_type": "stream",
     "text": [
      "\r",
      " 15%|███████████▌                                                                   | 60/408 [16:03<1:09:31, 11.99s/it]"
     ]
    },
    {
     "name": "stdout",
     "output_type": "stream",
     "text": [
      "Song 1: \"Si j’étais un homme\"\n",
      "\n",
      "Reached user-specified song limit (1).\n",
      "Done. Found 1 songs.\n",
      "Searching for songs by Chris Macari...\n",
      "\n"
     ]
    },
    {
     "name": "stderr",
     "output_type": "stream",
     "text": [
      "\r",
      " 15%|███████████▌                                                                 | 61/408 [22:22<11:47:08, 122.27s/it]"
     ]
    },
    {
     "name": "stdout",
     "output_type": "stream",
     "text": [
      "Erreur lors de la recherche de l'artiste Chris Macari: HTTPSConnectionPool(host='genius.com', port=443): Read timed out.\n",
      "Searching for songs by Columbine...\n",
      "\n"
     ]
    },
    {
     "name": "stderr",
     "output_type": "stream",
     "text": [
      "\r",
      " 15%|████████████                                                                   | 62/408 [22:30<8:27:12, 87.95s/it]"
     ]
    },
    {
     "name": "stdout",
     "output_type": "stream",
     "text": [
      "Song 1: \"Les prélis\"\n",
      "\n",
      "Reached user-specified song limit (1).\n",
      "Done. Found 1 songs.\n",
      "Searching for songs by Cuizinier...\n",
      "\n"
     ]
    },
    {
     "name": "stderr",
     "output_type": "stream",
     "text": [
      "\r",
      " 15%|███████████▉                                                                 | 63/408 [25:21<10:48:57, 112.86s/it]"
     ]
    },
    {
     "name": "stdout",
     "output_type": "stream",
     "text": [
      "Song 1: \"The Good Guys\"\n",
      "\n",
      "Reached user-specified song limit (1).\n",
      "Done. Found 1 songs.\n",
      "Searching for songs by Cut Killer...\n",
      "\n"
     ]
    },
    {
     "name": "stderr",
     "output_type": "stream",
     "text": [
      "\r",
      " 16%|████████████▍                                                                  | 64/408 [25:29<7:46:48, 81.42s/it]"
     ]
    },
    {
     "name": "stdout",
     "output_type": "stream",
     "text": [
      "Song 1: \"Nique la police / Assassin de la police\"\n",
      "\n",
      "Reached user-specified song limit (1).\n",
      "Done. Found 1 songs.\n",
      "Searching for songs by Cyanure...\n",
      "\n"
     ]
    }
   ],
   "source": [
    "artistes = []\n",
    "chansons = []\n",
    "paroles = []\n",
    "\n",
    "dictionnaire = {'Artiste': artistes,\n",
    "               'Chanson': chansons,\n",
    "               'Parole': paroles}\n",
    "\n",
    "for artiste in tqdm(artistes_wiki_2):\n",
    "    \n",
    "    try :\n",
    "    \n",
    "        artist = genius.search_artist(artiste, max_songs=1)\n",
    "\n",
    "        for song in artist.songs:\n",
    "\n",
    "            parole = song.lyrics\n",
    "            chanson = song.title\n",
    "\n",
    "            artistes.append(artiste)\n",
    "            chansons.append(chanson)\n",
    "            paroles.append(parole)\n",
    "            \n",
    "            \n",
    "    except Exception as e :\n",
    "        \n",
    "        print(f\"Erreur lors de la recherche de l'artiste {artiste}: {e}\")"
   ]
  },
  {
   "cell_type": "code",
   "execution_count": 128,
   "id": "723e96cf",
   "metadata": {},
   "outputs": [
    {
     "data": {
      "text/html": [
       "<div>\n",
       "<style scoped>\n",
       "    .dataframe tbody tr th:only-of-type {\n",
       "        vertical-align: middle;\n",
       "    }\n",
       "\n",
       "    .dataframe tbody tr th {\n",
       "        vertical-align: top;\n",
       "    }\n",
       "\n",
       "    .dataframe thead th {\n",
       "        text-align: right;\n",
       "    }\n",
       "</style>\n",
       "<table border=\"1\" class=\"dataframe\">\n",
       "  <thead>\n",
       "    <tr style=\"text-align: right;\">\n",
       "      <th></th>\n",
       "      <th>Artiste</th>\n",
       "      <th>Chanson</th>\n",
       "      <th>Parole</th>\n",
       "    </tr>\n",
       "  </thead>\n",
       "  <tbody>\n",
       "    <tr>\n",
       "      <th>0</th>\n",
       "      <td>Alibi Montana</td>\n",
       "      <td>Loin des yeux Loin du cœur</td>\n",
       "      <td>5 ContributorsLoin des yeux Loin du cœur Lyric...</td>\n",
       "    </tr>\n",
       "    <tr>\n",
       "      <th>1</th>\n",
       "      <td>Alibi Montana</td>\n",
       "      <td>1260 jours</td>\n",
       "      <td>6 Contributors1260 jours Lyrics[Couplet 1 : Ro...</td>\n",
       "    </tr>\n",
       "    <tr>\n",
       "      <th>2</th>\n",
       "      <td>Alkpote</td>\n",
       "      <td>Plus haut</td>\n",
       "      <td>96 ContributorsPlus haut Lyrics[Paroles de \"Pl...</td>\n",
       "    </tr>\n",
       "    <tr>\n",
       "      <th>3</th>\n",
       "      <td>Alkpote</td>\n",
       "      <td>Purification</td>\n",
       "      <td>86 ContributorsPurification Lyrics[Paroles de ...</td>\n",
       "    </tr>\n",
       "  </tbody>\n",
       "</table>\n",
       "</div>"
      ],
      "text/plain": [
       "         Artiste                     Chanson  \\\n",
       "0  Alibi Montana  Loin des yeux Loin du cœur   \n",
       "1  Alibi Montana                  1260 jours   \n",
       "2        Alkpote                   Plus haut   \n",
       "3        Alkpote                Purification   \n",
       "\n",
       "                                              Parole  \n",
       "0  5 ContributorsLoin des yeux Loin du cœur Lyric...  \n",
       "1  6 Contributors1260 jours Lyrics[Couplet 1 : Ro...  \n",
       "2  96 ContributorsPlus haut Lyrics[Paroles de \"Pl...  \n",
       "3  86 ContributorsPurification Lyrics[Paroles de ...  "
      ]
     },
     "execution_count": 128,
     "metadata": {},
     "output_type": "execute_result"
    }
   ],
   "source": [
    "df = pd.DataFrame(dictionnaire)\n",
    "df"
   ]
  }
 ],
 "metadata": {
  "kernelspec": {
   "display_name": "Python 3 (ipykernel)",
   "language": "python",
   "name": "python3"
  },
  "language_info": {
   "codemirror_mode": {
    "name": "ipython",
    "version": 3
   },
   "file_extension": ".py",
   "mimetype": "text/x-python",
   "name": "python",
   "nbconvert_exporter": "python",
   "pygments_lexer": "ipython3",
   "version": "3.9.16"
  }
 },
 "nbformat": 4,
 "nbformat_minor": 5
}
