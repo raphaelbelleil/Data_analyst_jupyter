{
 "cells": [
  {
   "cell_type": "code",
   "execution_count": 1,
   "id": "48957bbf",
   "metadata": {},
   "outputs": [],
   "source": [
    "import numpy as np\n",
    "import pandas as pd\n",
    "import matplotlib.pyplot as plt\n",
    "import seaborn as sns"
   ]
  },
  {
   "cell_type": "code",
   "execution_count": 2,
   "id": "7bb70034",
   "metadata": {},
   "outputs": [],
   "source": [
    "from sklearn.model_selection import train_test_split, cross_val_score, GridSearchCV, learning_curve"
   ]
  },
  {
   "cell_type": "code",
   "execution_count": 3,
   "id": "d08179f5",
   "metadata": {},
   "outputs": [],
   "source": [
    "from sklearn import preprocessing"
   ]
  },
  {
   "cell_type": "code",
   "execution_count": 44,
   "id": "0c06cbe6",
   "metadata": {},
   "outputs": [],
   "source": [
    "from sklearn.linear_model import LinearRegression, Ridge, Lasso, ElasticNet"
   ]
  },
  {
   "cell_type": "code",
   "execution_count": 45,
   "id": "55ca71c1",
   "metadata": {},
   "outputs": [
    {
     "data": {
      "text/html": [
       "<div>\n",
       "<style scoped>\n",
       "    .dataframe tbody tr th:only-of-type {\n",
       "        vertical-align: middle;\n",
       "    }\n",
       "\n",
       "    .dataframe tbody tr th {\n",
       "        vertical-align: top;\n",
       "    }\n",
       "\n",
       "    .dataframe thead th {\n",
       "        text-align: right;\n",
       "    }\n",
       "</style>\n",
       "<table border=\"1\" class=\"dataframe\">\n",
       "  <thead>\n",
       "    <tr style=\"text-align: right;\">\n",
       "      <th></th>\n",
       "      <th>col</th>\n",
       "      <th>lcavol</th>\n",
       "      <th>lweight</th>\n",
       "      <th>age</th>\n",
       "      <th>lbph</th>\n",
       "      <th>svi</th>\n",
       "      <th>lcp</th>\n",
       "      <th>gleason</th>\n",
       "      <th>pgg45</th>\n",
       "      <th>lpsa</th>\n",
       "      <th>train</th>\n",
       "    </tr>\n",
       "  </thead>\n",
       "  <tbody>\n",
       "    <tr>\n",
       "      <th>0</th>\n",
       "      <td>1</td>\n",
       "      <td>-0.579818</td>\n",
       "      <td>2.769459</td>\n",
       "      <td>50</td>\n",
       "      <td>-1.386294</td>\n",
       "      <td>0</td>\n",
       "      <td>-1.386294</td>\n",
       "      <td>6</td>\n",
       "      <td>0</td>\n",
       "      <td>-0.430783</td>\n",
       "      <td>T</td>\n",
       "    </tr>\n",
       "    <tr>\n",
       "      <th>1</th>\n",
       "      <td>2</td>\n",
       "      <td>-0.994252</td>\n",
       "      <td>3.319626</td>\n",
       "      <td>58</td>\n",
       "      <td>-1.386294</td>\n",
       "      <td>0</td>\n",
       "      <td>-1.386294</td>\n",
       "      <td>6</td>\n",
       "      <td>0</td>\n",
       "      <td>-0.162519</td>\n",
       "      <td>T</td>\n",
       "    </tr>\n",
       "    <tr>\n",
       "      <th>2</th>\n",
       "      <td>3</td>\n",
       "      <td>-0.510826</td>\n",
       "      <td>2.691243</td>\n",
       "      <td>74</td>\n",
       "      <td>-1.386294</td>\n",
       "      <td>0</td>\n",
       "      <td>-1.386294</td>\n",
       "      <td>7</td>\n",
       "      <td>20</td>\n",
       "      <td>-0.162519</td>\n",
       "      <td>T</td>\n",
       "    </tr>\n",
       "    <tr>\n",
       "      <th>3</th>\n",
       "      <td>4</td>\n",
       "      <td>-1.203973</td>\n",
       "      <td>3.282789</td>\n",
       "      <td>58</td>\n",
       "      <td>-1.386294</td>\n",
       "      <td>0</td>\n",
       "      <td>-1.386294</td>\n",
       "      <td>6</td>\n",
       "      <td>0</td>\n",
       "      <td>-0.162519</td>\n",
       "      <td>T</td>\n",
       "    </tr>\n",
       "    <tr>\n",
       "      <th>4</th>\n",
       "      <td>5</td>\n",
       "      <td>0.751416</td>\n",
       "      <td>3.432373</td>\n",
       "      <td>62</td>\n",
       "      <td>-1.386294</td>\n",
       "      <td>0</td>\n",
       "      <td>-1.386294</td>\n",
       "      <td>6</td>\n",
       "      <td>0</td>\n",
       "      <td>0.371564</td>\n",
       "      <td>T</td>\n",
       "    </tr>\n",
       "  </tbody>\n",
       "</table>\n",
       "</div>"
      ],
      "text/plain": [
       "   col    lcavol   lweight  age      lbph  svi       lcp  gleason  pgg45  \\\n",
       "0    1 -0.579818  2.769459   50 -1.386294    0 -1.386294        6      0   \n",
       "1    2 -0.994252  3.319626   58 -1.386294    0 -1.386294        6      0   \n",
       "2    3 -0.510826  2.691243   74 -1.386294    0 -1.386294        7     20   \n",
       "3    4 -1.203973  3.282789   58 -1.386294    0 -1.386294        6      0   \n",
       "4    5  0.751416  3.432373   62 -1.386294    0 -1.386294        6      0   \n",
       "\n",
       "       lpsa train  \n",
       "0 -0.430783     T  \n",
       "1 -0.162519     T  \n",
       "2 -0.162519     T  \n",
       "3 -0.162519     T  \n",
       "4  0.371564     T  "
      ]
     },
     "execution_count": 45,
     "metadata": {},
     "output_type": "execute_result"
    }
   ],
   "source": [
    "data = pd.read_csv('TP_1_prostate_dataset.txt', sep='\\t')\n",
    "data.head()"
   ]
  },
  {
   "cell_type": "code",
   "execution_count": 46,
   "id": "1b7dd794",
   "metadata": {},
   "outputs": [],
   "source": [
    "X = data.drop(columns=['col', 'lpsa', 'train', 'pgg45'])\n",
    "y = data['lpsa']"
   ]
  },
  {
   "cell_type": "code",
   "execution_count": 47,
   "id": "457cc6ae",
   "metadata": {},
   "outputs": [],
   "source": [
    "X = preprocessing.StandardScaler().fit_transform(X)"
   ]
  },
  {
   "cell_type": "code",
   "execution_count": 48,
   "id": "2c37a427",
   "metadata": {},
   "outputs": [],
   "source": [
    "X_train, X_test, y_train, y_test = train_test_split(X, y, test_size=0.25, random_state=12)"
   ]
  },
  {
   "cell_type": "code",
   "execution_count": 49,
   "id": "15810642",
   "metadata": {},
   "outputs": [
    {
     "name": "stdout",
     "output_type": "stream",
     "text": [
      "(72, 7)\n",
      "(25, 7)\n",
      "(72,)\n",
      "(25,)\n"
     ]
    }
   ],
   "source": [
    "print(X_train.shape)\n",
    "print(X_test.shape)\n",
    "print(y_train.shape)\n",
    "print(y_test.shape)"
   ]
  },
  {
   "cell_type": "markdown",
   "id": "c623095b",
   "metadata": {},
   "source": [
    "## Regression Lineaire"
   ]
  },
  {
   "cell_type": "code",
   "execution_count": 50,
   "id": "41acefa3",
   "metadata": {},
   "outputs": [
    {
     "data": {
      "text/html": [
       "<style>#sk-container-id-4 {color: black;background-color: white;}#sk-container-id-4 pre{padding: 0;}#sk-container-id-4 div.sk-toggleable {background-color: white;}#sk-container-id-4 label.sk-toggleable__label {cursor: pointer;display: block;width: 100%;margin-bottom: 0;padding: 0.3em;box-sizing: border-box;text-align: center;}#sk-container-id-4 label.sk-toggleable__label-arrow:before {content: \"▸\";float: left;margin-right: 0.25em;color: #696969;}#sk-container-id-4 label.sk-toggleable__label-arrow:hover:before {color: black;}#sk-container-id-4 div.sk-estimator:hover label.sk-toggleable__label-arrow:before {color: black;}#sk-container-id-4 div.sk-toggleable__content {max-height: 0;max-width: 0;overflow: hidden;text-align: left;background-color: #f0f8ff;}#sk-container-id-4 div.sk-toggleable__content pre {margin: 0.2em;color: black;border-radius: 0.25em;background-color: #f0f8ff;}#sk-container-id-4 input.sk-toggleable__control:checked~div.sk-toggleable__content {max-height: 200px;max-width: 100%;overflow: auto;}#sk-container-id-4 input.sk-toggleable__control:checked~label.sk-toggleable__label-arrow:before {content: \"▾\";}#sk-container-id-4 div.sk-estimator input.sk-toggleable__control:checked~label.sk-toggleable__label {background-color: #d4ebff;}#sk-container-id-4 div.sk-label input.sk-toggleable__control:checked~label.sk-toggleable__label {background-color: #d4ebff;}#sk-container-id-4 input.sk-hidden--visually {border: 0;clip: rect(1px 1px 1px 1px);clip: rect(1px, 1px, 1px, 1px);height: 1px;margin: -1px;overflow: hidden;padding: 0;position: absolute;width: 1px;}#sk-container-id-4 div.sk-estimator {font-family: monospace;background-color: #f0f8ff;border: 1px dotted black;border-radius: 0.25em;box-sizing: border-box;margin-bottom: 0.5em;}#sk-container-id-4 div.sk-estimator:hover {background-color: #d4ebff;}#sk-container-id-4 div.sk-parallel-item::after {content: \"\";width: 100%;border-bottom: 1px solid gray;flex-grow: 1;}#sk-container-id-4 div.sk-label:hover label.sk-toggleable__label {background-color: #d4ebff;}#sk-container-id-4 div.sk-serial::before {content: \"\";position: absolute;border-left: 1px solid gray;box-sizing: border-box;top: 0;bottom: 0;left: 50%;z-index: 0;}#sk-container-id-4 div.sk-serial {display: flex;flex-direction: column;align-items: center;background-color: white;padding-right: 0.2em;padding-left: 0.2em;position: relative;}#sk-container-id-4 div.sk-item {position: relative;z-index: 1;}#sk-container-id-4 div.sk-parallel {display: flex;align-items: stretch;justify-content: center;background-color: white;position: relative;}#sk-container-id-4 div.sk-item::before, #sk-container-id-4 div.sk-parallel-item::before {content: \"\";position: absolute;border-left: 1px solid gray;box-sizing: border-box;top: 0;bottom: 0;left: 50%;z-index: -1;}#sk-container-id-4 div.sk-parallel-item {display: flex;flex-direction: column;z-index: 1;position: relative;background-color: white;}#sk-container-id-4 div.sk-parallel-item:first-child::after {align-self: flex-end;width: 50%;}#sk-container-id-4 div.sk-parallel-item:last-child::after {align-self: flex-start;width: 50%;}#sk-container-id-4 div.sk-parallel-item:only-child::after {width: 0;}#sk-container-id-4 div.sk-dashed-wrapped {border: 1px dashed gray;margin: 0 0.4em 0.5em 0.4em;box-sizing: border-box;padding-bottom: 0.4em;background-color: white;}#sk-container-id-4 div.sk-label label {font-family: monospace;font-weight: bold;display: inline-block;line-height: 1.2em;}#sk-container-id-4 div.sk-label-container {text-align: center;}#sk-container-id-4 div.sk-container {/* jupyter's `normalize.less` sets `[hidden] { display: none; }` but bootstrap.min.css set `[hidden] { display: none !important; }` so we also need the `!important` here to be able to override the default hidden behavior on the sphinx rendered scikit-learn.org. See: https://github.com/scikit-learn/scikit-learn/issues/21755 */display: inline-block !important;position: relative;}#sk-container-id-4 div.sk-text-repr-fallback {display: none;}</style><div id=\"sk-container-id-4\" class=\"sk-top-container\"><div class=\"sk-text-repr-fallback\"><pre>LinearRegression()</pre><b>In a Jupyter environment, please rerun this cell to show the HTML representation or trust the notebook. <br />On GitHub, the HTML representation is unable to render, please try loading this page with nbviewer.org.</b></div><div class=\"sk-container\" hidden><div class=\"sk-item\"><div class=\"sk-estimator sk-toggleable\"><input class=\"sk-toggleable__control sk-hidden--visually\" id=\"sk-estimator-id-4\" type=\"checkbox\" checked><label for=\"sk-estimator-id-4\" class=\"sk-toggleable__label sk-toggleable__label-arrow\">LinearRegression</label><div class=\"sk-toggleable__content\"><pre>LinearRegression()</pre></div></div></div></div></div>"
      ],
      "text/plain": [
       "LinearRegression()"
      ]
     },
     "execution_count": 50,
     "metadata": {},
     "output_type": "execute_result"
    }
   ],
   "source": [
    "# définition du modèle\n",
    "model = LinearRegression()\n",
    "\n",
    "model.fit(X_train, y_train)"
   ]
  },
  {
   "cell_type": "code",
   "execution_count": 51,
   "id": "77a5627f",
   "metadata": {},
   "outputs": [
    {
     "data": {
      "image/png": "[encoded data removed]",
      "text/plain": [
       "<Figure size 640x480 with 1 Axes>"
      ]
     },
     "metadata": {},
     "output_type": "display_data"
    }
   ],
   "source": [
    "# courbe d'apprentissage\n",
    "\n",
    "# courbe d'apprentissage\n",
    "#warnings.simplefilter('ignore')\n",
    "\n",
    "N, train_score, val_score = learning_curve(model, X_train, y_train, train_sizes=np.linspace(0.1, 1, 10), cv=5)\n",
    "\n",
    "plt.title(\"Courbe d'apprentissage\")\n",
    "plt.plot(N, train_score.mean(axis=1), label='train_set')\n",
    "plt.plot(N, val_score.mean(axis=1), label='val_set')\n",
    "plt.xlabel(\"Quantité de données\")\n",
    "plt.ylabel(\"R²\")\n",
    "plt.ylim((0,1.2))\n",
    "plt.legend()\n",
    "plt.show()"
   ]
  },
  {
   "cell_type": "code",
   "execution_count": 52,
   "id": "9b048f05",
   "metadata": {},
   "outputs": [
    {
     "data": {
      "text/plain": [
       "0.5481095495517868"
      ]
     },
     "execution_count": 52,
     "metadata": {},
     "output_type": "execute_result"
    }
   ],
   "source": [
    "# moyenne des erreurs au carré\n",
    "baseline_error = np.mean((model.predict(X_test) - y_test)**2)\n",
    "baseline_error"
   ]
  },
  {
   "cell_type": "code",
   "execution_count": 53,
   "id": "eb7f82bc",
   "metadata": {},
   "outputs": [
    {
     "data": {
      "text/plain": [
       "0.3709008209911563"
      ]
     },
     "execution_count": 53,
     "metadata": {},
     "output_type": "execute_result"
    }
   ],
   "source": [
    "model.score(X_test, y_test)"
   ]
  },
  {
   "cell_type": "markdown",
   "id": "89fa5b50",
   "metadata": {},
   "source": [
    "## Ridge"
   ]
  },
  {
   "cell_type": "code",
   "execution_count": 54,
   "id": "559759ed",
   "metadata": {},
   "outputs": [],
   "source": [
    "n_alphas = 50\n",
    "alphas = np.logspace(-5, 5, 50)"
   ]
  },
  {
   "cell_type": "code",
   "execution_count": 64,
   "id": "3fd5dddf",
   "metadata": {},
   "outputs": [
    {
     "data": {
      "text/plain": [
       "array([1.00000000e-05, 1.59985872e-05, 2.55954792e-05, 4.09491506e-05,\n",
       "       6.55128557e-05, 1.04811313e-04, 1.67683294e-04, 2.68269580e-04,\n",
       "       4.29193426e-04, 6.86648845e-04, 1.09854114e-03, 1.75751062e-03,\n",
       "       2.81176870e-03, 4.49843267e-03, 7.19685673e-03, 1.15139540e-02,\n",
       "       1.84206997e-02, 2.94705170e-02, 4.71486636e-02, 7.54312006e-02,\n",
       "       1.20679264e-01, 1.93069773e-01, 3.08884360e-01, 4.94171336e-01,\n",
       "       7.90604321e-01, 1.26485522e+00, 2.02358965e+00, 3.23745754e+00,\n",
       "       5.17947468e+00, 8.28642773e+00, 1.32571137e+01, 2.12095089e+01,\n",
       "       3.39322177e+01, 5.42867544e+01, 8.68511374e+01, 1.38949549e+02,\n",
       "       2.22299648e+02, 3.55648031e+02, 5.68986603e+02, 9.10298178e+02,\n",
       "       1.45634848e+03, 2.32995181e+03, 3.72759372e+03, 5.96362332e+03,\n",
       "       9.54095476e+03, 1.52641797e+04, 2.44205309e+04, 3.90693994e+04,\n",
       "       6.25055193e+04, 1.00000000e+05])"
      ]
     },
     "execution_count": 64,
     "metadata": {},
     "output_type": "execute_result"
    }
   ],
   "source": [
    "alphas"
   ]
  },
  {
   "cell_type": "code",
   "execution_count": 55,
   "id": "cb92ffc1",
   "metadata": {},
   "outputs": [],
   "source": [
    "ridge = Ridge()\n",
    "coefs = []\n",
    "errors = []\n",
    "\n",
    "for a in alphas :\n",
    "    ridge.set_params(alpha=a)\n",
    "    ridge.fit(X_train, y_train)\n",
    "    coefs.append(ridge.coef_)\n",
    "    errors.append(np.mean((ridge.predict(X_test) - y_test)**2))"
   ]
  },
  {
   "cell_type": "code",
   "execution_count": 66,
   "id": "019c2705",
   "metadata": {},
   "outputs": [
    {
     "data": {
      "image/png": "[encoded data removed]",
      "text/plain": [
       "<Figure size 640x480 with 1 Axes>"
      ]
     },
     "metadata": {},
     "output_type": "display_data"
    }
   ],
   "source": [
    "# erreur en fonction de alpha, comparé avec l'erreur de la regression classique\n",
    "plt.plot(alphas, errors, [10**-5, 10**5], [baseline_error, baseline_error])\n",
    "plt.xscale('log')"
   ]
  },
  {
   "cell_type": "code",
   "execution_count": 68,
   "id": "0bd7a7e6",
   "metadata": {},
   "outputs": [
    {
     "data": {
      "text/plain": [
       "0.5098319469480063"
      ]
     },
     "execution_count": 68,
     "metadata": {},
     "output_type": "execute_result"
    }
   ],
   "source": [
    "errors[np.argmin(errors)]"
   ]
  },
  {
   "cell_type": "code",
   "execution_count": 69,
   "id": "49350667",
   "metadata": {},
   "outputs": [
    {
     "data": {
      "text/plain": [
       "54.286754393238596"
      ]
     },
     "execution_count": 69,
     "metadata": {},
     "output_type": "execute_result"
    }
   ],
   "source": [
    "alphas[np.argmin(errors)]"
   ]
  },
  {
   "cell_type": "code",
   "execution_count": 57,
   "id": "2caeaf04",
   "metadata": {},
   "outputs": [
    {
     "data": {
      "text/html": [
       "<style>#sk-container-id-5 {color: black;background-color: white;}#sk-container-id-5 pre{padding: 0;}#sk-container-id-5 div.sk-toggleable {background-color: white;}#sk-container-id-5 label.sk-toggleable__label {cursor: pointer;display: block;width: 100%;margin-bottom: 0;padding: 0.3em;box-sizing: border-box;text-align: center;}#sk-container-id-5 label.sk-toggleable__label-arrow:before {content: \"▸\";float: left;margin-right: 0.25em;color: #696969;}#sk-container-id-5 label.sk-toggleable__label-arrow:hover:before {color: black;}#sk-container-id-5 div.sk-estimator:hover label.sk-toggleable__label-arrow:before {color: black;}#sk-container-id-5 div.sk-toggleable__content {max-height: 0;max-width: 0;overflow: hidden;text-align: left;background-color: #f0f8ff;}#sk-container-id-5 div.sk-toggleable__content pre {margin: 0.2em;color: black;border-radius: 0.25em;background-color: #f0f8ff;}#sk-container-id-5 input.sk-toggleable__control:checked~div.sk-toggleable__content {max-height: 200px;max-width: 100%;overflow: auto;}#sk-container-id-5 input.sk-toggleable__control:checked~label.sk-toggleable__label-arrow:before {content: \"▾\";}#sk-container-id-5 div.sk-estimator input.sk-toggleable__control:checked~label.sk-toggleable__label {background-color: #d4ebff;}#sk-container-id-5 div.sk-label input.sk-toggleable__control:checked~label.sk-toggleable__label {background-color: #d4ebff;}#sk-container-id-5 input.sk-hidden--visually {border: 0;clip: rect(1px 1px 1px 1px);clip: rect(1px, 1px, 1px, 1px);height: 1px;margin: -1px;overflow: hidden;padding: 0;position: absolute;width: 1px;}#sk-container-id-5 div.sk-estimator {font-family: monospace;background-color: #f0f8ff;border: 1px dotted black;border-radius: 0.25em;box-sizing: border-box;margin-bottom: 0.5em;}#sk-container-id-5 div.sk-estimator:hover {background-color: #d4ebff;}#sk-container-id-5 div.sk-parallel-item::after {content: \"\";width: 100%;border-bottom: 1px solid gray;flex-grow: 1;}#sk-container-id-5 div.sk-label:hover label.sk-toggleable__label {background-color: #d4ebff;}#sk-container-id-5 div.sk-serial::before {content: \"\";position: absolute;border-left: 1px solid gray;box-sizing: border-box;top: 0;bottom: 0;left: 50%;z-index: 0;}#sk-container-id-5 div.sk-serial {display: flex;flex-direction: column;align-items: center;background-color: white;padding-right: 0.2em;padding-left: 0.2em;position: relative;}#sk-container-id-5 div.sk-item {position: relative;z-index: 1;}#sk-container-id-5 div.sk-parallel {display: flex;align-items: stretch;justify-content: center;background-color: white;position: relative;}#sk-container-id-5 div.sk-item::before, #sk-container-id-5 div.sk-parallel-item::before {content: \"\";position: absolute;border-left: 1px solid gray;box-sizing: border-box;top: 0;bottom: 0;left: 50%;z-index: -1;}#sk-container-id-5 div.sk-parallel-item {display: flex;flex-direction: column;z-index: 1;position: relative;background-color: white;}#sk-container-id-5 div.sk-parallel-item:first-child::after {align-self: flex-end;width: 50%;}#sk-container-id-5 div.sk-parallel-item:last-child::after {align-self: flex-start;width: 50%;}#sk-container-id-5 div.sk-parallel-item:only-child::after {width: 0;}#sk-container-id-5 div.sk-dashed-wrapped {border: 1px dashed gray;margin: 0 0.4em 0.5em 0.4em;box-sizing: border-box;padding-bottom: 0.4em;background-color: white;}#sk-container-id-5 div.sk-label label {font-family: monospace;font-weight: bold;display: inline-block;line-height: 1.2em;}#sk-container-id-5 div.sk-label-container {text-align: center;}#sk-container-id-5 div.sk-container {/* jupyter's `normalize.less` sets `[hidden] { display: none; }` but bootstrap.min.css set `[hidden] { display: none !important; }` so we also need the `!important` here to be able to override the default hidden behavior on the sphinx rendered scikit-learn.org. See: https://github.com/scikit-learn/scikit-learn/issues/21755 */display: inline-block !important;position: relative;}#sk-container-id-5 div.sk-text-repr-fallback {display: none;}</style><div id=\"sk-container-id-5\" class=\"sk-top-container\"><div class=\"sk-text-repr-fallback\"><pre>GridSearchCV(cv=5, estimator=Ridge(alpha=100000.0),\n",
       "             param_grid={&#x27;alpha&#x27;: array([1.00000000e-05, 1.59985872e-05, 2.55954792e-05, 4.09491506e-05,\n",
       "       6.55128557e-05, 1.04811313e-04, 1.67683294e-04, 2.68269580e-04,\n",
       "       4.29193426e-04, 6.86648845e-04, 1.09854114e-03, 1.75751062e-03,\n",
       "       2.81176870e-03, 4.49843267e-03, 7.19685673e-03, 1.15139540e-02,\n",
       "       1.84206997e-02, 2.94705170e-02, 4.7...\n",
       "       7.90604321e-01, 1.26485522e+00, 2.02358965e+00, 3.23745754e+00,\n",
       "       5.17947468e+00, 8.28642773e+00, 1.32571137e+01, 2.12095089e+01,\n",
       "       3.39322177e+01, 5.42867544e+01, 8.68511374e+01, 1.38949549e+02,\n",
       "       2.22299648e+02, 3.55648031e+02, 5.68986603e+02, 9.10298178e+02,\n",
       "       1.45634848e+03, 2.32995181e+03, 3.72759372e+03, 5.96362332e+03,\n",
       "       9.54095476e+03, 1.52641797e+04, 2.44205309e+04, 3.90693994e+04,\n",
       "       6.25055193e+04, 1.00000000e+05])})</pre><b>In a Jupyter environment, please rerun this cell to show the HTML representation or trust the notebook. <br />On GitHub, the HTML representation is unable to render, please try loading this page with nbviewer.org.</b></div><div class=\"sk-container\" hidden><div class=\"sk-item sk-dashed-wrapped\"><div class=\"sk-label-container\"><div class=\"sk-label sk-toggleable\"><input class=\"sk-toggleable__control sk-hidden--visually\" id=\"sk-estimator-id-5\" type=\"checkbox\" ><label for=\"sk-estimator-id-5\" class=\"sk-toggleable__label sk-toggleable__label-arrow\">GridSearchCV</label><div class=\"sk-toggleable__content\"><pre>GridSearchCV(cv=5, estimator=Ridge(alpha=100000.0),\n",
       "             param_grid={&#x27;alpha&#x27;: array([1.00000000e-05, 1.59985872e-05, 2.55954792e-05, 4.09491506e-05,\n",
       "       6.55128557e-05, 1.04811313e-04, 1.67683294e-04, 2.68269580e-04,\n",
       "       4.29193426e-04, 6.86648845e-04, 1.09854114e-03, 1.75751062e-03,\n",
       "       2.81176870e-03, 4.49843267e-03, 7.19685673e-03, 1.15139540e-02,\n",
       "       1.84206997e-02, 2.94705170e-02, 4.7...\n",
       "       7.90604321e-01, 1.26485522e+00, 2.02358965e+00, 3.23745754e+00,\n",
       "       5.17947468e+00, 8.28642773e+00, 1.32571137e+01, 2.12095089e+01,\n",
       "       3.39322177e+01, 5.42867544e+01, 8.68511374e+01, 1.38949549e+02,\n",
       "       2.22299648e+02, 3.55648031e+02, 5.68986603e+02, 9.10298178e+02,\n",
       "       1.45634848e+03, 2.32995181e+03, 3.72759372e+03, 5.96362332e+03,\n",
       "       9.54095476e+03, 1.52641797e+04, 2.44205309e+04, 3.90693994e+04,\n",
       "       6.25055193e+04, 1.00000000e+05])})</pre></div></div></div><div class=\"sk-parallel\"><div class=\"sk-parallel-item\"><div class=\"sk-item\"><div class=\"sk-label-container\"><div class=\"sk-label sk-toggleable\"><input class=\"sk-toggleable__control sk-hidden--visually\" id=\"sk-estimator-id-6\" type=\"checkbox\" ><label for=\"sk-estimator-id-6\" class=\"sk-toggleable__label sk-toggleable__label-arrow\">estimator: Ridge</label><div class=\"sk-toggleable__content\"><pre>Ridge(alpha=100000.0)</pre></div></div></div><div class=\"sk-serial\"><div class=\"sk-item\"><div class=\"sk-estimator sk-toggleable\"><input class=\"sk-toggleable__control sk-hidden--visually\" id=\"sk-estimator-id-7\" type=\"checkbox\" ><label for=\"sk-estimator-id-7\" class=\"sk-toggleable__label sk-toggleable__label-arrow\">Ridge</label><div class=\"sk-toggleable__content\"><pre>Ridge(alpha=100000.0)</pre></div></div></div></div></div></div></div></div></div></div>"
      ],
      "text/plain": [
       "GridSearchCV(cv=5, estimator=Ridge(alpha=100000.0),\n",
       "             param_grid={'alpha': array([1.00000000e-05, 1.59985872e-05, 2.55954792e-05, 4.09491506e-05,\n",
       "       6.55128557e-05, 1.04811313e-04, 1.67683294e-04, 2.68269580e-04,\n",
       "       4.29193426e-04, 6.86648845e-04, 1.09854114e-03, 1.75751062e-03,\n",
       "       2.81176870e-03, 4.49843267e-03, 7.19685673e-03, 1.15139540e-02,\n",
       "       1.84206997e-02, 2.94705170e-02, 4.7...\n",
       "       7.90604321e-01, 1.26485522e+00, 2.02358965e+00, 3.23745754e+00,\n",
       "       5.17947468e+00, 8.28642773e+00, 1.32571137e+01, 2.12095089e+01,\n",
       "       3.39322177e+01, 5.42867544e+01, 8.68511374e+01, 1.38949549e+02,\n",
       "       2.22299648e+02, 3.55648031e+02, 5.68986603e+02, 9.10298178e+02,\n",
       "       1.45634848e+03, 2.32995181e+03, 3.72759372e+03, 5.96362332e+03,\n",
       "       9.54095476e+03, 1.52641797e+04, 2.44205309e+04, 3.90693994e+04,\n",
       "       6.25055193e+04, 1.00000000e+05])})"
      ]
     },
     "execution_count": 57,
     "metadata": {},
     "output_type": "execute_result"
    }
   ],
   "source": [
    "param_grid = {'alpha' : alphas}\n",
    "\n",
    "grid = GridSearchCV(estimator=ridge, param_grid=param_grid, cv=5)\n",
    "\n",
    "grid.fit(X_train, y_train)"
   ]
  },
  {
   "cell_type": "code",
   "execution_count": 71,
   "id": "6fa2b0e8",
   "metadata": {},
   "outputs": [
    {
     "data": {
      "text/plain": [
       "{'mean_fit_time': array([0.0012033 , 0.00099854, 0.00200329, 0.00099864, 0.00079956,\n",
       "        0.00059972, 0.00079961, 0.00100236, 0.00099907, 0.00059953,\n",
       "        0.00120192, 0.0009995 , 0.00079675, 0.0007998 , 0.00059948,\n",
       "        0.00099945, 0.00059953, 0.00099678, 0.00079942, 0.00099931,\n",
       "        0.00099936, 0.00100188, 0.00099916, 0.00079956, 0.00079947,\n",
       "        0.0007998 , 0.00059972, 0.00079951, 0.00079947, 0.00099945,\n",
       "        0.00079947, 0.00079961, 0.00059972, 0.00079927, 0.00080209,\n",
       "        0.0009994 , 0.00059967, 0.0010025 , 0.00079956, 0.00079942,\n",
       "        0.00099916, 0.00059962, 0.00079951, 0.00099945, 0.00099955,\n",
       "        0.00099964, 0.00099931, 0.00099969, 0.00079956, 0.00059972]),\n",
       " 'std_fit_time': array([3.97839904e-04, 2.78041453e-07, 6.36885076e-04, 6.33397025e-04,\n",
       "        3.99780359e-04, 4.89667804e-04, 3.99804325e-04, 6.07925301e-06,\n",
       "        3.23406696e-07, 4.89512108e-04, 3.98404434e-04, 1.78416128e-07,\n",
       "        3.98409314e-04, 3.99899607e-04, 4.89473206e-04, 1.46971083e-06,\n",
       "        4.89512527e-04, 5.74267167e-06, 3.99708844e-04, 2.43140197e-07,\n",
       "        1.16800773e-07, 5.46680857e-06, 3.81469727e-07, 3.99780472e-04,\n",
       "        3.99732661e-04, 3.99899664e-04, 4.89667804e-04, 3.99756528e-04,\n",
       "        3.99732746e-04, 2.61174468e-07, 3.99732718e-04, 3.99804183e-04,\n",
       "        4.89667781e-04, 3.99637379e-04, 4.01083474e-04, 3.16297988e-07,\n",
       "        4.89628909e-04, 6.24347202e-06, 3.99780330e-04, 3.99709043e-04,\n",
       "        3.50402318e-07, 4.89590007e-04, 3.99756442e-04, 1.50789149e-07,\n",
       "        3.87384339e-07, 2.33601546e-07, 1.90734863e-07, 2.13248060e-07,\n",
       "        3.99780387e-04, 4.89667781e-04]),\n",
       " 'mean_score_time': array([0.        , 0.00020018, 0.00099673, 0.00039921, 0.00039968,\n",
       "        0.00059962, 0.00059671, 0.00019975, 0.00079975, 0.00059538,\n",
       "        0.00059705, 0.00039978, 0.00040236, 0.00039968, 0.00059972,\n",
       "        0.00039959, 0.00040002, 0.00059967, 0.00039978, 0.00059967,\n",
       "        0.00019989, 0.00039678, 0.00039997, 0.00040007, 0.00039978,\n",
       "        0.00039959, 0.00059953, 0.00039983, 0.00019989, 0.00039978,\n",
       "        0.00039983, 0.00060244, 0.00059958, 0.00039997, 0.00039978,\n",
       "        0.00059972, 0.00039973, 0.00019684, 0.00059953, 0.00059981,\n",
       "        0.00039997, 0.00060253, 0.00059967, 0.00039973, 0.00079942,\n",
       "        0.00059953, 0.00039983, 0.00039959, 0.00080214, 0.00039992]),\n",
       " 'std_score_time': array([0.00000000e+00, 4.00352478e-04, 6.46743081e-06, 4.88928872e-04,\n",
       "        4.89512062e-04, 4.89589937e-04, 4.87244855e-04, 3.99494171e-04,\n",
       "        3.99875669e-04, 4.86146144e-04, 4.87509748e-04, 4.89628863e-04,\n",
       "        4.92806084e-04, 4.89512132e-04, 4.89667804e-04, 4.89395261e-04,\n",
       "        4.89920894e-04, 4.89628909e-04, 4.89628840e-04, 4.89628840e-04,\n",
       "        3.99780273e-04, 4.85972828e-04, 4.89862534e-04, 4.89979265e-04,\n",
       "        4.89628863e-04, 4.89395261e-04, 4.89512108e-04, 4.89687246e-04,\n",
       "        3.99780273e-04, 4.89628840e-04, 4.89687246e-04, 4.91915677e-04,\n",
       "        4.89551212e-04, 4.89862464e-04, 4.89628863e-04, 4.89667804e-04,\n",
       "        4.89570445e-04, 3.93676758e-04, 4.89512108e-04, 4.89745664e-04,\n",
       "        4.89862464e-04, 4.91991221e-04, 4.89628840e-04, 4.89570445e-04,\n",
       "        3.99708872e-04, 4.89512132e-04, 4.89687246e-04, 4.89395261e-04,\n",
       "        4.01098729e-04, 4.89804047e-04]),\n",
       " 'param_alpha': masked_array(data=[1e-05, 1.5998587196060572e-05, 2.559547922699533e-05,\n",
       "                    4.094915062380427e-05, 6.55128556859551e-05,\n",
       "                    0.00010481131341546853, 0.00016768329368110083,\n",
       "                    0.0002682695795279727, 0.00042919342601287783,\n",
       "                    0.0006866488450042998, 0.0010985411419875584,\n",
       "                    0.001757510624854793, 0.002811768697974231,\n",
       "                    0.004498432668969444, 0.0071968567300115215,\n",
       "                    0.011513953993264481, 0.018420699693267165,\n",
       "                    0.029470517025518096, 0.04714866363457394,\n",
       "                    0.07543120063354623, 0.1206792640639329,\n",
       "                    0.19306977288832497, 0.30888435964774846,\n",
       "                    0.49417133613238384, 0.7906043210907702,\n",
       "                    1.2648552168552958, 2.0235896477251556,\n",
       "                    3.2374575428176464, 5.1794746792312125,\n",
       "                    8.286427728546842, 13.257113655901108,\n",
       "                    21.209508879201927, 33.9322177189533,\n",
       "                    54.286754393238596, 86.85113737513521,\n",
       "                    138.9495494373139, 222.29964825261956,\n",
       "                    355.64803062231283, 568.9866029018305,\n",
       "                    910.2981779915227, 1456.3484775012444,\n",
       "                    2329.951810515372, 3727.593720314938,\n",
       "                    5963.623316594637, 9540.954763499964,\n",
       "                    15264.179671752365, 24420.53094548655,\n",
       "                    39069.39937054621, 62505.51925273976, 100000.0],\n",
       "              mask=[False, False, False, False, False, False, False, False,\n",
       "                    False, False, False, False, False, False, False, False,\n",
       "                    False, False, False, False, False, False, False, False,\n",
       "                    False, False, False, False, False, False, False, False,\n",
       "                    False, False, False, False, False, False, False, False,\n",
       "                    False, False, False, False, False, False, False, False,\n",
       "                    False, False],\n",
       "        fill_value='?',\n",
       "             dtype=object),\n",
       " 'params': [{'alpha': 1e-05},\n",
       "  {'alpha': 1.5998587196060572e-05},\n",
       "  {'alpha': 2.559547922699533e-05},\n",
       "  {'alpha': 4.094915062380427e-05},\n",
       "  {'alpha': 6.55128556859551e-05},\n",
       "  {'alpha': 0.00010481131341546853},\n",
       "  {'alpha': 0.00016768329368110083},\n",
       "  {'alpha': 0.0002682695795279727},\n",
       "  {'alpha': 0.00042919342601287783},\n",
       "  {'alpha': 0.0006866488450042998},\n",
       "  {'alpha': 0.0010985411419875584},\n",
       "  {'alpha': 0.001757510624854793},\n",
       "  {'alpha': 0.002811768697974231},\n",
       "  {'alpha': 0.004498432668969444},\n",
       "  {'alpha': 0.0071968567300115215},\n",
       "  {'alpha': 0.011513953993264481},\n",
       "  {'alpha': 0.018420699693267165},\n",
       "  {'alpha': 0.029470517025518096},\n",
       "  {'alpha': 0.04714866363457394},\n",
       "  {'alpha': 0.07543120063354623},\n",
       "  {'alpha': 0.1206792640639329},\n",
       "  {'alpha': 0.19306977288832497},\n",
       "  {'alpha': 0.30888435964774846},\n",
       "  {'alpha': 0.49417133613238384},\n",
       "  {'alpha': 0.7906043210907702},\n",
       "  {'alpha': 1.2648552168552958},\n",
       "  {'alpha': 2.0235896477251556},\n",
       "  {'alpha': 3.2374575428176464},\n",
       "  {'alpha': 5.1794746792312125},\n",
       "  {'alpha': 8.286427728546842},\n",
       "  {'alpha': 13.257113655901108},\n",
       "  {'alpha': 21.209508879201927},\n",
       "  {'alpha': 33.9322177189533},\n",
       "  {'alpha': 54.286754393238596},\n",
       "  {'alpha': 86.85113737513521},\n",
       "  {'alpha': 138.9495494373139},\n",
       "  {'alpha': 222.29964825261956},\n",
       "  {'alpha': 355.64803062231283},\n",
       "  {'alpha': 568.9866029018305},\n",
       "  {'alpha': 910.2981779915227},\n",
       "  {'alpha': 1456.3484775012444},\n",
       "  {'alpha': 2329.951810515372},\n",
       "  {'alpha': 3727.593720314938},\n",
       "  {'alpha': 5963.623316594637},\n",
       "  {'alpha': 9540.954763499964},\n",
       "  {'alpha': 15264.179671752365},\n",
       "  {'alpha': 24420.53094548655},\n",
       "  {'alpha': 39069.39937054621},\n",
       "  {'alpha': 62505.51925273976},\n",
       "  {'alpha': 100000.0}],\n",
       " 'split0_test_score': array([0.38109396, 0.38109397, 0.38109398, 0.38109399, 0.38109401,\n",
       "        0.38109404, 0.38109409, 0.38109417, 0.3810943 , 0.38109451,\n",
       "        0.38109484, 0.38109537, 0.38109622, 0.38109758, 0.38109976,\n",
       "        0.38110324, 0.38110882, 0.38111776, 0.38113207, 0.38115504,\n",
       "        0.38119194, 0.38125138, 0.38134752, 0.38150399, 0.38176106,\n",
       "        0.38218917, 0.38291461, 0.38416613, 0.38634671, 0.39010595,\n",
       "        0.39632341, 0.40582555, 0.41851693, 0.43154659, 0.4373057 ,\n",
       "        0.42472492, 0.38624684, 0.32493485, 0.25326769, 0.18494966,\n",
       "        0.1284141 , 0.08595939, 0.05609035, 0.03595675, 0.02275577,\n",
       "        0.0142519 , 0.00883486, 0.00540843, 0.00325072, 0.00189574]),\n",
       " 'split1_test_score': array([ 4.06418209e-01,  4.06418281e-01,  4.06418396e-01,  4.06418580e-01,\n",
       "         4.06418875e-01,  4.06419347e-01,  4.06420101e-01,  4.06421308e-01,\n",
       "         4.06423240e-01,  4.06426330e-01,  4.06431273e-01,  4.06439181e-01,\n",
       "         4.06451832e-01,  4.06472069e-01,  4.06504438e-01,  4.06556208e-01,\n",
       "         4.06638989e-01,  4.06771316e-01,  4.06982737e-01,  4.07320257e-01,\n",
       "         4.07858400e-01,  4.08714677e-01,  4.10072785e-01,  4.12215932e-01,\n",
       "         4.15571158e-01,  4.20759696e-01,  4.28633233e-01,  4.40243761e-01,\n",
       "         4.56640033e-01,  4.78325162e-01,  5.04254757e-01,  5.30634565e-01,\n",
       "         5.50474923e-01,  5.54941495e-01,  5.36231949e-01,  4.90659150e-01,\n",
       "         4.21040247e-01,  3.37055391e-01,  2.51869643e-01,  1.76585401e-01,\n",
       "         1.16791712e-01,  7.28969697e-02,  4.24077112e-02,  2.20077301e-02,\n",
       "         8.69055164e-03,  1.34412226e-04, -5.30718569e-03, -8.74574432e-03,\n",
       "        -1.09097685e-02, -1.22682041e-02]),\n",
       " 'split2_test_score': array([ 0.62333719,  0.62333721,  0.62333724,  0.62333729,  0.62333736,\n",
       "         0.62333748,  0.62333767,  0.62333798,  0.62333846,  0.62333924,\n",
       "         0.62334048,  0.62334248,  0.62334566,  0.62335075,  0.62335888,\n",
       "         0.62337187,  0.6233926 ,  0.62342562,  0.62347807,  0.62356103,\n",
       "         0.62369139,  0.62389397,  0.62420325,  0.62466199,  0.62531059,\n",
       "         0.62615496,  0.62709509,  0.62780252,  0.6275677 ,  0.62518353,\n",
       "         0.61891433,  0.60651157,  0.58525735,  0.552194  ,  0.50480152,\n",
       "         0.44234509,  0.36763226,  0.28765846,  0.21148455,  0.14643733,\n",
       "         0.09576033,  0.05896788,  0.03357747,  0.01665497,  0.00563391,\n",
       "        -0.00143679, -0.00592966, -0.00876715, -0.01055229, -0.01167264]),\n",
       " 'split3_test_score': array([ 0.68300285,  0.68300284,  0.68300283,  0.68300281,  0.68300278,\n",
       "         0.68300272,  0.68300264,  0.68300251,  0.68300229,  0.68300195,\n",
       "         0.6830014 ,  0.68300051,  0.6829991 ,  0.68299684,  0.68299323,\n",
       "         0.68298744,  0.68297816,  0.68296329,  0.68293942,  0.68290101,\n",
       "         0.68283903,  0.68273852,  0.68257431,  0.68230318,  0.68184884,\n",
       "         0.68107324,  0.67972176,  0.67732454,  0.67303758,  0.66543571,\n",
       "         0.65233754,  0.63081192,  0.59747724,  0.54906194,  0.48328581,\n",
       "         0.40046241,  0.30549139,  0.20793259,  0.1185283 ,  0.04468671,\n",
       "        -0.01134318, -0.05123902, -0.07840042, -0.09633927, -0.10795286,\n",
       "        -0.11537519, -0.12008   , -0.12304676, -0.1249114 , -0.12608094]),\n",
       " 'split4_test_score': array([ 0.73637525,  0.73637525,  0.73637526,  0.73637527,  0.73637529,\n",
       "         0.73637532,  0.73637536,  0.73637544,  0.73637555,  0.73637574,\n",
       "         0.73637604,  0.73637653,  0.7363773 ,  0.73637853,  0.73638049,\n",
       "         0.73638361,  0.73638855,  0.73639633,  0.73640848,  0.73642714,\n",
       "         0.736455  ,  0.73649455,  0.73654525,  0.73659519,  0.73659925,\n",
       "         0.73642673,  0.73574667,  0.73380694,  0.72908131,  0.71886094,\n",
       "         0.69905528,  0.66456097,  0.61027285,  0.53228995,  0.42893547,\n",
       "         0.3021291 ,  0.15937225,  0.01394734, -0.11922237, -0.22955696,\n",
       "        -0.31363014, -0.37372331, -0.41475644, -0.441914  , -0.45952082,\n",
       "        -0.47078398, -0.47792768, -0.48243407, -0.48526709, -0.48704428]),\n",
       " 'mean_test_score': array([ 0.56604549,  0.56604551,  0.56604554,  0.56604559,  0.56604566,\n",
       "         0.56604578,  0.56604597,  0.56604628,  0.56604677,  0.56604755,\n",
       "         0.56604881,  0.56605081,  0.56605402,  0.56605915,  0.56606736,\n",
       "         0.56608047,  0.56610142,  0.56613486,  0.56618815,  0.56627289,\n",
       "         0.56640715,  0.56661862,  0.56694862,  0.56745606,  0.56821818,\n",
       "         0.56932076,  0.57082227,  0.57266878,  0.57453467,  0.57558226,\n",
       "         0.57417706,  0.56766892,  0.55239986,  0.5240068 ,  0.47811209,\n",
       "         0.41206413,  0.3279566 ,  0.23430573,  0.14318556,  0.06462043,\n",
       "         0.00319856, -0.04142762, -0.07221626, -0.09272676, -0.10607869,\n",
       "        -0.11464193, -0.12008193, -0.12351706, -0.12567796, -0.12703407]),\n",
       " 'std_test_score': array([0.14536955, 0.14536953, 0.14536951, 0.14536946, 0.1453694 ,\n",
       "        0.1453693 , 0.14536913, 0.14536886, 0.14536844, 0.14536776,\n",
       "        0.14536667, 0.14536492, 0.14536213, 0.14535767, 0.14535053,\n",
       "        0.1453391 , 0.14532081, 0.14529153, 0.14524467, 0.14516961,\n",
       "        0.14504931, 0.14485634, 0.14454633, 0.14404728, 0.14324177,\n",
       "        0.14193785, 0.13982332, 0.13640213, 0.1309304 , 0.12241169,\n",
       "        0.10975072, 0.09213976, 0.06984155, 0.04689719, 0.04049818,\n",
       "        0.06240949, 0.0922625 , 0.11905545, 0.14004354, 0.15533639,\n",
       "        0.16597705, 0.17314359, 0.17785701, 0.18090472, 0.18285232,\n",
       "        0.18408711, 0.18486595, 0.18535556, 0.1856627 , 0.18585512]),\n",
       " 'rank_test_score': array([32, 31, 30, 29, 28, 27, 26, 25, 24, 23, 22, 21, 20, 19, 18, 17, 16,\n",
       "        15, 14, 13, 12, 11, 10,  9,  7,  6,  5,  4,  2,  1,  3,  8, 33, 34,\n",
       "        35, 36, 37, 38, 39, 40, 41, 42, 43, 44, 45, 46, 47, 48, 49, 50])}"
      ]
     },
     "execution_count": 71,
     "metadata": {},
     "output_type": "execute_result"
    }
   ],
   "source": [
    "grid.cv_results_"
   ]
  },
  {
   "cell_type": "code",
   "execution_count": 59,
   "id": "5c1a14b6",
   "metadata": {},
   "outputs": [
    {
     "data": {
      "text/plain": [
       "{'alpha': 8.286427728546842}"
      ]
     },
     "execution_count": 59,
     "metadata": {},
     "output_type": "execute_result"
    }
   ],
   "source": [
    "grid.best_params_"
   ]
  },
  {
   "cell_type": "code",
   "execution_count": 61,
   "id": "68064177",
   "metadata": {},
   "outputs": [],
   "source": [
    "grid_model = grid.best_estimator_"
   ]
  },
  {
   "cell_type": "code",
   "execution_count": 62,
   "id": "03672cb6",
   "metadata": {},
   "outputs": [
    {
     "data": {
      "text/plain": [
       "0.3784505792083681"
      ]
     },
     "execution_count": 62,
     "metadata": {},
     "output_type": "execute_result"
    }
   ],
   "source": [
    "grid_model.score(X_test, y_test)"
   ]
  },
  {
   "cell_type": "code",
   "execution_count": 63,
   "id": "f51b0a50",
   "metadata": {},
   "outputs": [
    {
     "data": {
      "text/plain": [
       "0.5415317400207356"
      ]
     },
     "execution_count": 63,
     "metadata": {},
     "output_type": "execute_result"
    }
   ],
   "source": [
    "np.mean((grid_model.predict(X_test) - y_test)**2)"
   ]
  },
  {
   "cell_type": "markdown",
   "id": "8ced33df",
   "metadata": {},
   "source": [
    "## Lasso"
   ]
  },
  {
   "cell_type": "code",
   "execution_count": 72,
   "id": "16a688ca",
   "metadata": {},
   "outputs": [],
   "source": [
    "lasso = Lasso()\n",
    "coefs = []\n",
    "errors = []\n",
    "\n",
    "for a in alphas :\n",
    "    lasso.set_params(alpha=a)\n",
    "    lasso.fit(X_train, y_train)\n",
    "    coefs.append(lasso.coef_)\n",
    "    errors.append(np.mean((lasso.predict(X_test) - y_test)**2))"
   ]
  },
  {
   "cell_type": "code",
   "execution_count": 73,
   "id": "68e2d3d4",
   "metadata": {},
   "outputs": [
    {
     "data": {
      "image/png": "[encoded data removed]",
      "text/plain": [
       "<Figure size 640x480 with 1 Axes>"
      ]
     },
     "metadata": {},
     "output_type": "display_data"
    }
   ],
   "source": [
    "# erreur en fonction de alpha, comparé avec l'erreur de la regression classique\n",
    "plt.plot(alphas, errors, [10**-5, 10**5], [baseline_error, baseline_error])\n",
    "plt.xscale('log')"
   ]
  },
  {
   "cell_type": "code",
   "execution_count": 74,
   "id": "b4a6e835",
   "metadata": {},
   "outputs": [
    {
     "data": {
      "text/plain": [
       "0.47807955110732886"
      ]
     },
     "execution_count": 74,
     "metadata": {},
     "output_type": "execute_result"
    }
   ],
   "source": [
    "errors[np.argmin(errors)]"
   ]
  },
  {
   "cell_type": "code",
   "execution_count": 75,
   "id": "65f6bcae",
   "metadata": {},
   "outputs": [
    {
     "data": {
      "text/plain": [
       "0.19306977288832497"
      ]
     },
     "execution_count": 75,
     "metadata": {},
     "output_type": "execute_result"
    }
   ],
   "source": [
    "alphas[np.argmin(errors)]"
   ]
  },
  {
   "cell_type": "code",
   "execution_count": 76,
   "id": "bae5c9e6",
   "metadata": {},
   "outputs": [
    {
     "data": {
      "text/html": [
       "<style>#sk-container-id-7 {color: black;background-color: white;}#sk-container-id-7 pre{padding: 0;}#sk-container-id-7 div.sk-toggleable {background-color: white;}#sk-container-id-7 label.sk-toggleable__label {cursor: pointer;display: block;width: 100%;margin-bottom: 0;padding: 0.3em;box-sizing: border-box;text-align: center;}#sk-container-id-7 label.sk-toggleable__label-arrow:before {content: \"▸\";float: left;margin-right: 0.25em;color: #696969;}#sk-container-id-7 label.sk-toggleable__label-arrow:hover:before {color: black;}#sk-container-id-7 div.sk-estimator:hover label.sk-toggleable__label-arrow:before {color: black;}#sk-container-id-7 div.sk-toggleable__content {max-height: 0;max-width: 0;overflow: hidden;text-align: left;background-color: #f0f8ff;}#sk-container-id-7 div.sk-toggleable__content pre {margin: 0.2em;color: black;border-radius: 0.25em;background-color: #f0f8ff;}#sk-container-id-7 input.sk-toggleable__control:checked~div.sk-toggleable__content {max-height: 200px;max-width: 100%;overflow: auto;}#sk-container-id-7 input.sk-toggleable__control:checked~label.sk-toggleable__label-arrow:before {content: \"▾\";}#sk-container-id-7 div.sk-estimator input.sk-toggleable__control:checked~label.sk-toggleable__label {background-color: #d4ebff;}#sk-container-id-7 div.sk-label input.sk-toggleable__control:checked~label.sk-toggleable__label {background-color: #d4ebff;}#sk-container-id-7 input.sk-hidden--visually {border: 0;clip: rect(1px 1px 1px 1px);clip: rect(1px, 1px, 1px, 1px);height: 1px;margin: -1px;overflow: hidden;padding: 0;position: absolute;width: 1px;}#sk-container-id-7 div.sk-estimator {font-family: monospace;background-color: #f0f8ff;border: 1px dotted black;border-radius: 0.25em;box-sizing: border-box;margin-bottom: 0.5em;}#sk-container-id-7 div.sk-estimator:hover {background-color: #d4ebff;}#sk-container-id-7 div.sk-parallel-item::after {content: \"\";width: 100%;border-bottom: 1px solid gray;flex-grow: 1;}#sk-container-id-7 div.sk-label:hover label.sk-toggleable__label {background-color: #d4ebff;}#sk-container-id-7 div.sk-serial::before {content: \"\";position: absolute;border-left: 1px solid gray;box-sizing: border-box;top: 0;bottom: 0;left: 50%;z-index: 0;}#sk-container-id-7 div.sk-serial {display: flex;flex-direction: column;align-items: center;background-color: white;padding-right: 0.2em;padding-left: 0.2em;position: relative;}#sk-container-id-7 div.sk-item {position: relative;z-index: 1;}#sk-container-id-7 div.sk-parallel {display: flex;align-items: stretch;justify-content: center;background-color: white;position: relative;}#sk-container-id-7 div.sk-item::before, #sk-container-id-7 div.sk-parallel-item::before {content: \"\";position: absolute;border-left: 1px solid gray;box-sizing: border-box;top: 0;bottom: 0;left: 50%;z-index: -1;}#sk-container-id-7 div.sk-parallel-item {display: flex;flex-direction: column;z-index: 1;position: relative;background-color: white;}#sk-container-id-7 div.sk-parallel-item:first-child::after {align-self: flex-end;width: 50%;}#sk-container-id-7 div.sk-parallel-item:last-child::after {align-self: flex-start;width: 50%;}#sk-container-id-7 div.sk-parallel-item:only-child::after {width: 0;}#sk-container-id-7 div.sk-dashed-wrapped {border: 1px dashed gray;margin: 0 0.4em 0.5em 0.4em;box-sizing: border-box;padding-bottom: 0.4em;background-color: white;}#sk-container-id-7 div.sk-label label {font-family: monospace;font-weight: bold;display: inline-block;line-height: 1.2em;}#sk-container-id-7 div.sk-label-container {text-align: center;}#sk-container-id-7 div.sk-container {/* jupyter's `normalize.less` sets `[hidden] { display: none; }` but bootstrap.min.css set `[hidden] { display: none !important; }` so we also need the `!important` here to be able to override the default hidden behavior on the sphinx rendered scikit-learn.org. See: https://github.com/scikit-learn/scikit-learn/issues/21755 */display: inline-block !important;position: relative;}#sk-container-id-7 div.sk-text-repr-fallback {display: none;}</style><div id=\"sk-container-id-7\" class=\"sk-top-container\"><div class=\"sk-text-repr-fallback\"><pre>GridSearchCV(cv=5, estimator=Lasso(alpha=100000.0),\n",
       "             param_grid={&#x27;alpha&#x27;: array([1.00000000e-05, 1.59985872e-05, 2.55954792e-05, 4.09491506e-05,\n",
       "       6.55128557e-05, 1.04811313e-04, 1.67683294e-04, 2.68269580e-04,\n",
       "       4.29193426e-04, 6.86648845e-04, 1.09854114e-03, 1.75751062e-03,\n",
       "       2.81176870e-03, 4.49843267e-03, 7.19685673e-03, 1.15139540e-02,\n",
       "       1.84206997e-02, 2.94705170e-02, 4.7...\n",
       "       7.90604321e-01, 1.26485522e+00, 2.02358965e+00, 3.23745754e+00,\n",
       "       5.17947468e+00, 8.28642773e+00, 1.32571137e+01, 2.12095089e+01,\n",
       "       3.39322177e+01, 5.42867544e+01, 8.68511374e+01, 1.38949549e+02,\n",
       "       2.22299648e+02, 3.55648031e+02, 5.68986603e+02, 9.10298178e+02,\n",
       "       1.45634848e+03, 2.32995181e+03, 3.72759372e+03, 5.96362332e+03,\n",
       "       9.54095476e+03, 1.52641797e+04, 2.44205309e+04, 3.90693994e+04,\n",
       "       6.25055193e+04, 1.00000000e+05])})</pre><b>In a Jupyter environment, please rerun this cell to show the HTML representation or trust the notebook. <br />On GitHub, the HTML representation is unable to render, please try loading this page with nbviewer.org.</b></div><div class=\"sk-container\" hidden><div class=\"sk-item sk-dashed-wrapped\"><div class=\"sk-label-container\"><div class=\"sk-label sk-toggleable\"><input class=\"sk-toggleable__control sk-hidden--visually\" id=\"sk-estimator-id-9\" type=\"checkbox\" ><label for=\"sk-estimator-id-9\" class=\"sk-toggleable__label sk-toggleable__label-arrow\">GridSearchCV</label><div class=\"sk-toggleable__content\"><pre>GridSearchCV(cv=5, estimator=Lasso(alpha=100000.0),\n",
       "             param_grid={&#x27;alpha&#x27;: array([1.00000000e-05, 1.59985872e-05, 2.55954792e-05, 4.09491506e-05,\n",
       "       6.55128557e-05, 1.04811313e-04, 1.67683294e-04, 2.68269580e-04,\n",
       "       4.29193426e-04, 6.86648845e-04, 1.09854114e-03, 1.75751062e-03,\n",
       "       2.81176870e-03, 4.49843267e-03, 7.19685673e-03, 1.15139540e-02,\n",
       "       1.84206997e-02, 2.94705170e-02, 4.7...\n",
       "       7.90604321e-01, 1.26485522e+00, 2.02358965e+00, 3.23745754e+00,\n",
       "       5.17947468e+00, 8.28642773e+00, 1.32571137e+01, 2.12095089e+01,\n",
       "       3.39322177e+01, 5.42867544e+01, 8.68511374e+01, 1.38949549e+02,\n",
       "       2.22299648e+02, 3.55648031e+02, 5.68986603e+02, 9.10298178e+02,\n",
       "       1.45634848e+03, 2.32995181e+03, 3.72759372e+03, 5.96362332e+03,\n",
       "       9.54095476e+03, 1.52641797e+04, 2.44205309e+04, 3.90693994e+04,\n",
       "       6.25055193e+04, 1.00000000e+05])})</pre></div></div></div><div class=\"sk-parallel\"><div class=\"sk-parallel-item\"><div class=\"sk-item\"><div class=\"sk-label-container\"><div class=\"sk-label sk-toggleable\"><input class=\"sk-toggleable__control sk-hidden--visually\" id=\"sk-estimator-id-10\" type=\"checkbox\" ><label for=\"sk-estimator-id-10\" class=\"sk-toggleable__label sk-toggleable__label-arrow\">estimator: Lasso</label><div class=\"sk-toggleable__content\"><pre>Lasso(alpha=100000.0)</pre></div></div></div><div class=\"sk-serial\"><div class=\"sk-item\"><div class=\"sk-estimator sk-toggleable\"><input class=\"sk-toggleable__control sk-hidden--visually\" id=\"sk-estimator-id-11\" type=\"checkbox\" ><label for=\"sk-estimator-id-11\" class=\"sk-toggleable__label sk-toggleable__label-arrow\">Lasso</label><div class=\"sk-toggleable__content\"><pre>Lasso(alpha=100000.0)</pre></div></div></div></div></div></div></div></div></div></div>"
      ],
      "text/plain": [
       "GridSearchCV(cv=5, estimator=Lasso(alpha=100000.0),\n",
       "             param_grid={'alpha': array([1.00000000e-05, 1.59985872e-05, 2.55954792e-05, 4.09491506e-05,\n",
       "       6.55128557e-05, 1.04811313e-04, 1.67683294e-04, 2.68269580e-04,\n",
       "       4.29193426e-04, 6.86648845e-04, 1.09854114e-03, 1.75751062e-03,\n",
       "       2.81176870e-03, 4.49843267e-03, 7.19685673e-03, 1.15139540e-02,\n",
       "       1.84206997e-02, 2.94705170e-02, 4.7...\n",
       "       7.90604321e-01, 1.26485522e+00, 2.02358965e+00, 3.23745754e+00,\n",
       "       5.17947468e+00, 8.28642773e+00, 1.32571137e+01, 2.12095089e+01,\n",
       "       3.39322177e+01, 5.42867544e+01, 8.68511374e+01, 1.38949549e+02,\n",
       "       2.22299648e+02, 3.55648031e+02, 5.68986603e+02, 9.10298178e+02,\n",
       "       1.45634848e+03, 2.32995181e+03, 3.72759372e+03, 5.96362332e+03,\n",
       "       9.54095476e+03, 1.52641797e+04, 2.44205309e+04, 3.90693994e+04,\n",
       "       6.25055193e+04, 1.00000000e+05])})"
      ]
     },
     "execution_count": 76,
     "metadata": {},
     "output_type": "execute_result"
    }
   ],
   "source": [
    "param_grid = {'alpha' : alphas}\n",
    "\n",
    "grid = GridSearchCV(estimator=lasso, param_grid=param_grid, cv=5)\n",
    "\n",
    "grid.fit(X_train, y_train)"
   ]
  },
  {
   "cell_type": "code",
   "execution_count": 77,
   "id": "84acb984",
   "metadata": {},
   "outputs": [
    {
     "data": {
      "text/plain": [
       "0.5682251007965963"
      ]
     },
     "execution_count": 77,
     "metadata": {},
     "output_type": "execute_result"
    }
   ],
   "source": [
    "grid.best_score_"
   ]
  },
  {
   "cell_type": "code",
   "execution_count": 78,
   "id": "6497ddd7",
   "metadata": {},
   "outputs": [],
   "source": [
    "model_grid = grid.best_estimator_"
   ]
  },
  {
   "cell_type": "code",
   "execution_count": 79,
   "id": "4043bee1",
   "metadata": {},
   "outputs": [
    {
     "data": {
      "text/plain": [
       "0.374930478858682"
      ]
     },
     "execution_count": 79,
     "metadata": {},
     "output_type": "execute_result"
    }
   ],
   "source": [
    "model_grid.score(X_test, y_test)"
   ]
  },
  {
   "cell_type": "code",
   "execution_count": null,
   "id": "5ffd1c1d",
   "metadata": {},
   "outputs": [],
   "source": []
  }
 ],
 "metadata": {
  "kernelspec": {
   "display_name": "Python 3 (ipykernel)",
   "language": "python",
   "name": "python3"
  },
  "language_info": {
   "codemirror_mode": {
    "name": "ipython",
    "version": 3
   },
   "file_extension": ".py",
   "mimetype": "text/x-python",
   "name": "python",
   "nbconvert_exporter": "python",
   "pygments_lexer": "ipython3",
   "version": "3.9.16"
  }
 },
 "nbformat": 4,
 "nbformat_minor": 5
}
