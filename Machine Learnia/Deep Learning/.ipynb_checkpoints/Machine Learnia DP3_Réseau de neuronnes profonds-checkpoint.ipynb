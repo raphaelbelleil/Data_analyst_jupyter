{
 "cells": [
  {
   "cell_type": "code",
   "execution_count": 179,
   "id": "5b55112c",
   "metadata": {},
   "outputs": [],
   "source": [
    "import pandas as pd\n",
    "import numpy as np\n",
    "import matplotlib.pyplot as plt\n",
    "import seaborn as sns\n",
    "from sklearn.datasets import make_regression, make_classification, make_blobs, make_circles\n",
    "from sklearn.metrics import accuracy_score, confusion_matrix, ConfusionMatrixDisplay, classification_report, log_loss\n",
    "from sklearn.model_selection import train_test_split"
   ]
  },
  {
   "cell_type": "code",
   "execution_count": 180,
   "id": "e64c0d70",
   "metadata": {},
   "outputs": [],
   "source": [
    "from tqdm import tqdm"
   ]
  },
  {
   "cell_type": "markdown",
   "id": "4d9517c9",
   "metadata": {},
   "source": [
    "# RÉSEAU DE NEURONES PROFOND"
   ]
  },
  {
   "cell_type": "code",
   "execution_count": 181,
   "id": "b60acf5c",
   "metadata": {},
   "outputs": [
    {
     "name": "stdout",
     "output_type": "stream",
     "text": [
      "dimensions de X: (2, 100)\n",
      "dimensions de y: (1, 100)\n"
     ]
    },
    {
     "data": {
      "image/png": "[encoded data removed]",
      "text/plain": [
       "<Figure size 640x480 with 1 Axes>"
      ]
     },
     "metadata": {},
     "output_type": "display_data"
    }
   ],
   "source": [
    "X, y = make_circles(n_samples=100, noise=0.1, factor=0.3, random_state=0)\n",
    "X = X.T\n",
    "y = y.reshape((1, y.shape[0]))\n",
    "\n",
    "print('dimensions de X:', X.shape)\n",
    "print('dimensions de y:', y.shape)\n",
    "\n",
    "plt.scatter(X[0, :], X[1, :], c=y, cmap='summer')\n",
    "plt.show()"
   ]
  },
  {
   "cell_type": "code",
   "execution_count": 132,
   "id": "b1ab6c4a",
   "metadata": {},
   "outputs": [],
   "source": [
    "def initialisation(dimensions):\n",
    "    \n",
    "    parametres = {}\n",
    "    C = len(dimensions)\n",
    "    \n",
    "    np.random.seed(1)\n",
    "    \n",
    "    # creation des couches intermédiaires\n",
    "    for couche in range(1, C):\n",
    "        parametres[f'W{couche}'] = np.random.randn(dimensions[couche], dimensions[couche-1])\n",
    "        parametres[f'b{couche}'] = np.random.randn(dimensions[couche], 1)    \n",
    "    \n",
    "    return parametres"
   ]
  },
  {
   "cell_type": "code",
   "execution_count": 133,
   "id": "466f0e65",
   "metadata": {},
   "outputs": [
    {
     "name": "stdout",
     "output_type": "stream",
     "text": [
      "W1 (3, 2)\n",
      "b1 (3, 1)\n",
      "W2 (3, 3)\n",
      "b2 (3, 1)\n",
      "W3 (1, 3)\n",
      "b3 (1, 1)\n"
     ]
    }
   ],
   "source": [
    "parametres = initialisation(dimensions=[2,3,3,1])\n",
    "\n",
    "for cle, valeur in parametres.items():\n",
    "    print(cle, valeur.shape)"
   ]
  },
  {
   "cell_type": "code",
   "execution_count": 134,
   "id": "d3b91e8d",
   "metadata": {},
   "outputs": [
    {
     "data": {
      "text/plain": [
       "{'W1': array([[ 1.62434536, -0.61175641],\n",
       "        [-0.52817175, -1.07296862],\n",
       "        [ 0.86540763, -2.3015387 ]]),\n",
       " 'b1': array([[ 1.74481176],\n",
       "        [-0.7612069 ],\n",
       "        [ 0.3190391 ]]),\n",
       " 'W2': array([[-0.24937038,  1.46210794, -2.06014071],\n",
       "        [-0.3224172 , -0.38405435,  1.13376944],\n",
       "        [-1.09989127, -0.17242821, -0.87785842]]),\n",
       " 'b2': array([[ 0.04221375],\n",
       "        [ 0.58281521],\n",
       "        [-1.10061918]]),\n",
       " 'W3': array([[1.14472371, 0.90159072, 0.50249434]]),\n",
       " 'b3': array([[0.90085595]])}"
      ]
     },
     "execution_count": 134,
     "metadata": {},
     "output_type": "execute_result"
    }
   ],
   "source": [
    "parametres"
   ]
  },
  {
   "cell_type": "code",
   "execution_count": 135,
   "id": "b3ba6098",
   "metadata": {},
   "outputs": [],
   "source": [
    "def forward_propagation(X, parametres):\n",
    "    \n",
    "    # declaration dictionnaire activations\n",
    "    activations = {'A0' : X}\n",
    "    \n",
    "    C = len(parametres)//2\n",
    "    \n",
    "    for couche in range(1, C+1):\n",
    "        \n",
    "        Z = parametres[f\"W{couche}\"].dot(activations[f\"A{couche-1}\"]) + parametres[f\"b{couche}\"]\n",
    "        A = 1 / (1 + np.exp(-Z))\n",
    "        \n",
    "        activations[f'A{couche}'] = A\n",
    "    \n",
    "    return activations"
   ]
  },
  {
   "cell_type": "code",
   "execution_count": 136,
   "id": "48bab5c5",
   "metadata": {},
   "outputs": [],
   "source": [
    "activations = forward_propagation(X, parametres)"
   ]
  },
  {
   "cell_type": "code",
   "execution_count": 137,
   "id": "18a1f765",
   "metadata": {},
   "outputs": [
    {
     "name": "stdout",
     "output_type": "stream",
     "text": [
      "A0 (2, 100)\n",
      "A1 (3, 100)\n",
      "A2 (3, 100)\n",
      "A3 (1, 100)\n"
     ]
    }
   ],
   "source": [
    "for cle, valeur in activations.items():\n",
    "    print(cle, valeur.shape)"
   ]
  },
  {
   "cell_type": "code",
   "execution_count": 138,
   "id": "a2137377",
   "metadata": {},
   "outputs": [
    {
     "data": {
      "text/plain": [
       "{'A0': array([[-0.94957536,  0.09138459,  0.93214973,  0.20734231, -0.36750218,\n",
       "          0.2532073 , -0.40867925, -0.27450909,  0.24224991,  0.158872  ,\n",
       "          0.17984262,  0.19490678, -0.18640787,  0.12157863,  0.49287043,\n",
       "         -0.81607272, -0.88256159, -0.90136274, -0.44207091,  0.63318667,\n",
       "          0.74738819,  0.07947606,  0.83076047, -0.28699936,  0.91209859,\n",
       "          1.05235514,  0.62194713,  0.35809164, -0.03880452, -0.16849662,\n",
       "          0.18452538, -0.33911143,  0.10167817, -0.24980872,  0.3198604 ,\n",
       "         -0.97315797, -0.73097704,  0.25473331, -0.21290872, -0.27834832,\n",
       "          1.16614005,  0.19060984,  0.54409779,  0.35966887,  0.89607094,\n",
       "         -0.1892848 , -0.46440441,  0.46542725, -0.02494581,  0.75084969,\n",
       "         -0.02786858, -0.05339409,  0.90718408, -0.40622936, -0.74854102,\n",
       "          0.36512093,  0.10964665, -0.17507169, -0.92614192,  0.25215638,\n",
       "          0.2540514 , -0.71813367, -0.21920932,  0.20066063, -0.45295043,\n",
       "         -0.26890899, -0.53262577, -0.12304334, -0.14706275,  0.18244661,\n",
       "         -0.76217167, -1.09814276,  1.03134551,  0.28932654,  0.33985089,\n",
       "         -0.31844734, -0.78830944,  0.14875111, -0.34621142, -0.24788535,\n",
       "         -1.03522483, -0.01059175, -0.25693921,  0.91169518,  0.14499169,\n",
       "         -0.22702077,  0.18360624,  0.06782759, -0.00733005, -0.31198216,\n",
       "         -0.03575288, -0.23718862, -0.84991065, -0.20797388,  0.53654176,\n",
       "          0.16885665, -0.26702753,  0.1359203 ,  0.82087304,  0.61304799],\n",
       "        [-0.12813035, -0.23000817,  0.18081215,  0.10226083, -0.01327843,\n",
       "         -0.05203713,  0.73225992, -0.01129157,  0.19336875, -0.1382192 ,\n",
       "          0.21222537, -0.378387  , -0.20091598,  1.15057745,  0.8082293 ,\n",
       "         -0.52736928,  0.45011628,  0.06675095, -0.86978873,  0.8650562 ,\n",
       "         -0.67652354,  0.2995841 ,  0.55536396,  0.14986059, -0.71548415,\n",
       "         -0.39770103,  0.66363424, -0.21190579, -0.04479644,  0.09246966,\n",
       "          0.26943691, -0.37541346, -0.27383157,  0.26103118,  0.08111827,\n",
       "         -0.24370005,  0.79925201,  0.24617894,  0.44389159, -0.00448651,\n",
       "          0.08892456,  0.21286408, -0.97343377, -1.02284615,  0.52314367,\n",
       "          1.1393919 ,  1.07276126, -0.88994615, -1.16013548,  0.53400186,\n",
       "         -0.2768946 ,  0.20833059,  0.14907219, -0.95198749, -0.5975383 ,\n",
       "         -0.11304964,  1.0938811 , -1.12779988,  0.35762079,  0.13782711,\n",
       "          1.00316909, -0.65838026,  0.35727189,  0.08256359, -0.25828402,\n",
       "         -0.31417928, -0.74551749, -0.37467242,  0.91388133, -0.49524183,\n",
       "          0.65493707, -0.50010396, -0.10116975, -0.19339448, -0.06559569,\n",
       "          0.12536031,  0.64013156, -0.11399355,  0.12376982, -0.07589191,\n",
       "          0.08194666, -0.87830074, -0.13619794, -0.37699514, -1.33376406,\n",
       "          0.42786757,  0.227532  ,  0.86000564, -0.31734599,  0.29011826,\n",
       "         -0.37579939, -1.01857636,  0.41878948, -0.40463448,  0.92245093,\n",
       "         -0.05156667,  0.16465775,  0.24870812, -0.26971282, -0.72820082]]),\n",
       " 'A1': array([[0.56973205, 0.88431689, 0.95884294, 0.88278259, 0.7606023 ,\n",
       "         0.89916145, 0.65317184, 0.78681316, 0.88288253, 0.88967555,\n",
       "         0.8706939 , 0.90828634, 0.82706002, 0.77528962, 0.886045  ,\n",
       "         0.67740013, 0.50896539, 0.55967719, 0.82618609, 0.9041423 ,\n",
       "         0.96684023, 0.84430776, 0.94016734, 0.76619468, 0.97501256,\n",
       "         0.97581395, 0.91286157, 0.92100719, 0.84673046, 0.804482  ,\n",
       "         0.86757838, 0.80590831, 0.88869604, 0.76483067, 0.90156635,\n",
       "         0.57765449, 0.51711957, 0.88163292, 0.75536263, 0.78506361,\n",
       "         0.97300206, 0.87260684, 0.96173189, 0.95048849, 0.94686416,\n",
       "         0.6770653 , 0.58277852, 0.9545773 , 0.91788953, 0.93325331,\n",
       "         0.86633507, 0.82209902, 0.95800072, 0.84122078, 0.70981187,\n",
       "         0.91736356, 0.77794436, 0.89570369, 0.50541494, 0.88796134,\n",
       "         0.82401411, 0.72732306, 0.76317696, 0.88290635, 0.76261513,\n",
       "         0.81760608, 0.791785  , 0.85497364, 0.72048292, 0.91246695,\n",
       "         0.52650508, 0.56635392, 0.97017022, 0.91158057, 0.91189339,\n",
       "         0.75966675, 0.51817209, 0.8865697 , 0.75151858, 0.80036668,\n",
       "         0.50327938, 0.90592918, 0.80388795, 0.96941991, 0.94247377,\n",
       "         0.75293006, 0.8703275 , 0.79065419, 0.87292184, 0.74279818,\n",
       "         0.87176266, 0.87896402, 0.52699029, 0.8395021 , 0.88615214,\n",
       "         0.88601222, 0.77035847, 0.85977766, 0.96242769, 0.96030764],\n",
       "        [0.46949091, 0.3629271 , 0.19037925, 0.27280411, 0.36520221,\n",
       "         0.30172234, 0.2089864 , 0.35340545, 0.25037091, 0.33251904,\n",
       "         0.25276758, 0.38742389, 0.39003265, 0.11305036, 0.13138913,\n",
       "         0.5586464 , 0.31474603, 0.4117455 , 0.60001761, 0.11672495,\n",
       "         0.39411017, 0.2451538 , 0.14235343, 0.31638877, 0.38337213,\n",
       "         0.29104577, 0.14163689, 0.32673875, 0.33344465, 0.31617011,\n",
       "         0.24089749, 0.45529695, 0.37259558, 0.28713425, 0.265576  ,\n",
       "         0.50356748, 0.2257096 , 0.23868689, 0.2450783 , 0.35220126,\n",
       "         0.18655649, 0.25156591, 0.49896998, 0.53651189, 0.14236273,\n",
       "         0.13195716, 0.15882981, 0.48696592, 0.62169709, 0.15049145,\n",
       "         0.38950622, 0.27757191, 0.19776761, 0.61652033, 0.56839142,\n",
       "         0.30306291, 0.11995892, 0.63212755, 0.34169253, 0.26071167,\n",
       "         0.12220012, 0.58042356, 0.26332297, 0.27772424, 0.4390938 ,\n",
       "         0.42994581, 0.57933104, 0.4269742 , 0.15921259, 0.41916767,\n",
       "         0.25704653, 0.58792571, 0.23194118, 0.3303694 , 0.2951868 ,\n",
       "         0.32573925, 0.26275752, 0.32795222, 0.32934502, 0.36613097,\n",
       "         0.4249815 , 0.54655885, 0.38240261, 0.30190673, 0.64412186,\n",
       "         0.24966694, 0.24930597, 0.15189814, 0.39727481, 0.28746774,\n",
       "         0.41602756, 0.61229511, 0.31828682, 0.44591225, 0.11564289,\n",
       "         0.31108262, 0.31070121, 0.24976759, 0.28794709, 0.42466181],\n",
       "        [0.4482278 , 0.71656715, 0.67030889, 0.56540248, 0.50788952,\n",
       "         0.65879571, 0.15187637, 0.52684038, 0.52089741, 0.68452484,\n",
       "         0.4965579 , 0.79552966, 0.65024953, 0.0976296 , 0.24701466,\n",
       "         0.69562799, 0.18532224, 0.35100217, 0.87416746, 0.2452781 ,\n",
       "         0.92573028, 0.42514535, 0.44023556, 0.43186592, 0.94020021,\n",
       "         0.89520809, 0.33847378, 0.75336563, 0.59593555, 0.49010088,\n",
       "         0.46471109, 0.70880722, 0.73832216, 0.37802945, 0.6008845 ,\n",
       "         0.50943534, 0.1040453 , 0.49322464, 0.29176084, 0.52210563,\n",
       "         0.75464889, 0.49851985, 0.9539244 , 0.95186526, 0.47264492,\n",
       "         0.07819529, 0.07230152, 0.94103681, 0.95108631, 0.43531558,\n",
       "         0.71752243, 0.4485207 , 0.68157682, 0.89646237, 0.74010291,\n",
       "         0.70996327, 0.10873951, 0.94065484, 0.21323592, 0.55478979,\n",
       "         0.14555037, 0.77080255, 0.33337906, 0.57509486, 0.62749915,\n",
       "         0.69198568, 0.82834428, 0.74552376, 0.12880532, 0.83434616,\n",
       "         0.13611811, 0.62707916, 0.8091381 , 0.73390562, 0.68224749,\n",
       "         0.43903749, 0.1374708 , 0.67042989, 0.43402791, 0.5693465 ,\n",
       "         0.31746293, 0.91143763, 0.60112307, 0.8782216 , 0.97108983,\n",
       "         0.29688405, 0.4885669 , 0.1677583 , 0.7394438 , 0.35008376,\n",
       "         0.76006121, 0.92114939, 0.20095436, 0.74466135, 0.20756103,\n",
       "         0.64195318, 0.42775546, 0.46611556, 0.83891583, 0.92591421]]),\n",
       " 'A2': array([[0.41658056, 0.24528873, 0.21425441, 0.28012015, 0.34078077,\n",
       "         0.25010137, 0.46804512, 0.32681134, 0.29214197, 0.24905031,\n",
       "         0.30400101, 0.22153672, 0.28224228, 0.45339582, 0.37859418,\n",
       "         0.32234848, 0.49842391, 0.44560348, 0.25210253, 0.37334447,\n",
       "         0.17802432, 0.33497928, 0.29089376, 0.35986214, 0.17117271,\n",
       "         0.16522699, 0.33723464, 0.22066934, 0.28718102, 0.33052707,\n",
       "         0.31447364, 0.2782206 , 0.23945436, 0.37578329, 0.2626547 ,\n",
       "         0.39769594, 0.50723031, 0.30053206, 0.40398484, 0.32866866,\n",
       "         0.18507404, 0.30267477, 0.19258748, 0.20240214, 0.27698402,\n",
       "         0.47632173, 0.49504043, 0.1942698 , 0.22494744, 0.2958188 ,\n",
       "         0.25302913, 0.33604506, 0.21220756, 0.24731553, 0.30397104,\n",
       "         0.23039838, 0.45006493, 0.23240319, 0.49411867, 0.28070365,\n",
       "         0.42936181, 0.29349309, 0.38938427, 0.27754532, 0.31030498,\n",
       "         0.27715184, 0.26606199, 0.25301566, 0.45759599, 0.21562768,\n",
       "         0.50158157, 0.37021872, 0.17835489, 0.22899043, 0.23882789,\n",
       "         0.35998305, 0.50349185, 0.25340217, 0.36405357, 0.31109932,\n",
       "         0.47104775, 0.22058511, 0.30205392, 0.17259154, 0.2224203 ,\n",
       "         0.40320523, 0.30643815, 0.43082984, 0.24638863, 0.39080468,\n",
       "         0.24365693, 0.23515476, 0.49054448, 0.25936559, 0.39238716,\n",
       "         0.25991527, 0.35965806, 0.31707087, 0.18167174, 0.18484349],\n",
       "        [0.67414676, 0.72526586, 0.72322741, 0.69729617, 0.68420322,\n",
       "         0.71584723, 0.61399869, 0.68798628, 0.68838509, 0.7199788 ,\n",
       "         0.68308684, 0.73945223, 0.71168795, 0.5987166 , 0.62872155,\n",
       "         0.71880484, 0.62432558, 0.65524801, 0.74594547, 0.62821443,\n",
       "         0.76301743, 0.66784631, 0.67351874, 0.66905338, 0.76623793,\n",
       "         0.76339404, 0.64972893, 0.7339046 , 0.7021187 , 0.68084793,\n",
       "         0.67643811, 0.72146531, 0.72914213, 0.65803365, 0.70503767,\n",
       "         0.68584268, 0.6100127 , 0.68267575, 0.64013254, 0.68705356,\n",
       "         0.74136066, 0.6835346 , 0.76181119, 0.75942093, 0.68107691,\n",
       "         0.59928682, 0.60249967, 0.76041216, 0.75517743, 0.67209349,\n",
       "         0.72460242, 0.67253494, 0.72526632, 0.74860677, 0.72606974,\n",
       "         0.726231  , 0.6008978 , 0.75356914, 0.62957468, 0.69538087,\n",
       "         0.60712136, 0.73092327, 0.64876123, 0.69920495, 0.70676802,\n",
       "         0.71882377, 0.73965707, 0.72877726, 0.6071644 , 0.74527964,\n",
       "         0.61506835, 0.707936  , 0.74994401, 0.72989815, 0.7209037 ,\n",
       "         0.67052297, 0.61554816, 0.71730475, 0.6695419 , 0.69628233,\n",
       "         0.64959582, 0.75290755, 0.70230525, 0.7595127 , 0.75631096,\n",
       "         0.64124456, 0.68143663, 0.61295648, 0.72852539, 0.65245212,\n",
       "         0.7317856 , 0.7518752 , 0.62679717, 0.72813187, 0.61963935,\n",
       "         0.71207924, 0.66820735, 0.67659148, 0.75269948, 0.7613101 ],\n",
       "        [0.09959825, 0.05925093, 0.05860707, 0.06818139, 0.0797297 ,\n",
       "         0.06180614, 0.12042642, 0.07660064, 0.07095316, 0.06080123,\n",
       "         0.07325177, 0.05392128, 0.06608924, 0.11319115, 0.08991515,\n",
       "         0.07224699, 0.13268969, 0.10955155, 0.05314161, 0.08862637,\n",
       "         0.04544883, 0.07982297, 0.07271514, 0.08494179, 0.04459584,\n",
       "         0.04697799, 0.08119488, 0.05565528, 0.06833362, 0.07797258,\n",
       "         0.07555385, 0.06369894, 0.05784098, 0.08921838, 0.06503835,\n",
       "         0.09363671, 0.14189365, 0.07279973, 0.0971045 , 0.07704662,\n",
       "         0.05388775, 0.07300646, 0.04386146, 0.04418555, 0.07033665,\n",
       "         0.1260092 , 0.13794436, 0.04476144, 0.04511763, 0.0734277 ,\n",
       "         0.06005624, 0.07969945, 0.0580447 , 0.05121532, 0.06729222,\n",
       "         0.05813341, 0.11180693, 0.04650589, 0.12981121, 0.06854477,\n",
       "         0.10379155, 0.06432425, 0.09295346, 0.06758074, 0.07136021,\n",
       "         0.06407403, 0.05740212, 0.05901787, 0.11572027, 0.05171301,\n",
       "         0.1366341 , 0.08506724, 0.05127076, 0.05708208, 0.05989391,\n",
       "         0.08488523, 0.13746115, 0.06175477, 0.08587997, 0.07283922,\n",
       "         0.11855997, 0.04781599, 0.07053852, 0.04788484, 0.04307501,\n",
       "         0.09687564, 0.07379773, 0.10492024, 0.05850446, 0.09325632,\n",
       "         0.05740938, 0.04826409, 0.12880768, 0.05982877, 0.09300873,\n",
       "         0.06342808, 0.08494252, 0.07596119, 0.04995985, 0.04552506]]),\n",
       " 'A3': array([[0.88448219, 0.86591467, 0.8614783 , 0.86812173, 0.87521647,\n",
       "         0.86571733, 0.8860211 , 0.87366259, 0.86893477, 0.86595162,\n",
       "         0.87006419, 0.86391947, 0.86975634, 0.88252319, 0.87503969,\n",
       "         0.87590686, 0.89099796, 0.88662924, 0.86860547, 0.8742597 ,\n",
       "         0.86001467, 0.87286699, 0.86733822, 0.87639152, 0.85936714,\n",
       "         0.85837646, 0.87141027, 0.86331604, 0.86954705, 0.87349771,\n",
       "         0.87087045, 0.87009697, 0.86546209, 0.87751793, 0.86644206,\n",
       "         0.88303698, 0.8911728 , 0.86954681, 0.8796626 , 0.87382909,\n",
       "         0.8591438 , 0.8699242 , 0.86178525, 0.8628825 , 0.86614817,\n",
       "         0.88592166, 0.88895043, 0.8619182 , 0.8655172 , 0.86787933,\n",
       "         0.86691779, 0.87346338, 0.86138431, 0.86814275, 0.87404977,\n",
       "         0.8639595 , 0.8822594 , 0.86642047, 0.89083837, 0.86802138,\n",
       "         0.87994255, 0.87304348, 0.87849118, 0.86794666, 0.87315453,\n",
       "         0.86971032, 0.87002   , 0.86728963, 0.88393565, 0.86361117,\n",
       "         0.89073064, 0.88139094, 0.85899029, 0.86409652, 0.86463169,\n",
       "         0.87654688, 0.89102568, 0.86630525, 0.87700874, 0.87228798,\n",
       "         0.88946822, 0.86485419, 0.87160908, 0.85903004, 0.8651796 ,\n",
       "         0.87966209, 0.8702423 , 0.88073352, 0.8663579 , 0.87903515,\n",
       "         0.86627243, 0.86671024, 0.89014602, 0.86810408, 0.87603734,\n",
       "         0.86671996, 0.87628358, 0.8712429 , 0.85966994, 0.86077201]])}"
      ]
     },
     "execution_count": 138,
     "metadata": {},
     "output_type": "execute_result"
    }
   ],
   "source": [
    "activations"
   ]
  },
  {
   "cell_type": "code",
   "execution_count": 139,
   "id": "9ef905a9",
   "metadata": {},
   "outputs": [],
   "source": [
    "def back_propagation(parametres, activations, y):\n",
    "    \n",
    "    m = y.shape[1]\n",
    "    \n",
    "    C = len(parametres) // 2\n",
    "    \n",
    "    gradients = {}\n",
    "    \n",
    "    # dZ = A - y ou A est la derniere activation dans ce cas \n",
    "    dZ = activations[f'A{C}'] - y\n",
    "    \n",
    "    for couche in range(C, 0, -1):\n",
    "        \n",
    "        # activation couche inférieur\n",
    "        A = activations[f'A{couche-1}']\n",
    "        # paramètre couche en cours\n",
    "        W = parametres[f\"W{couche}\"]\n",
    "        \n",
    "        # gradient couche en cours\n",
    "        dW = (1/m) * np.dot(dZ, A.T)\n",
    "        db = (1/m) * np.sum(dZ, axis=1, keepdims=True)\n",
    "        \n",
    "        gradients[f'dW{couche}'] = dW\n",
    "        gradients[f'db{couche}'] = db\n",
    "        \n",
    "        # dZ couche inférieur\n",
    "        dZ = np.dot(W.T, dZ) * A * (1-A)\n",
    "    \n",
    "    return gradients"
   ]
  },
  {
   "cell_type": "code",
   "execution_count": 140,
   "id": "5964ecef",
   "metadata": {},
   "outputs": [],
   "source": [
    "gradients = back_propagation(parametres, activations, y)"
   ]
  },
  {
   "cell_type": "code",
   "execution_count": 141,
   "id": "ca84b4d1",
   "metadata": {},
   "outputs": [
    {
     "name": "stdout",
     "output_type": "stream",
     "text": [
      "dW3 (1, 3)\n",
      "db3 (1, 1)\n",
      "dW2 (3, 3)\n",
      "db2 (3, 1)\n",
      "dW1 (3, 2)\n",
      "db1 (3, 1)\n"
     ]
    }
   ],
   "source": [
    "for cle, valeur in gradients.items():\n",
    "    print(cle, valeur.shape)"
   ]
  },
  {
   "cell_type": "code",
   "execution_count": 142,
   "id": "c99e321e",
   "metadata": {},
   "outputs": [],
   "source": [
    "def update(gradients, parametres, learning_rate):\n",
    "    \n",
    "    C = len(parametres) // 2\n",
    "    \n",
    "    for couche in range(1, C+1):\n",
    "        \n",
    "        parametres[f\"W{couche}\"] = parametres[f\"W{couche}\"] - learning_rate * gradients[f'dW{couche}']\n",
    "        parametres[f\"b{couche}\"] = parametres[f\"b{couche}\"] - learning_rate * gradients[f'db{couche}']\n",
    "    \n",
    "    return parametres"
   ]
  },
  {
   "cell_type": "code",
   "execution_count": 150,
   "id": "cea4d439",
   "metadata": {},
   "outputs": [],
   "source": [
    "def predict(X, parametres):\n",
    "    \n",
    "    C = len(parametres) // 2\n",
    "    \n",
    "    activations = forward_propagation(X, parametres)\n",
    "    Af = activations[f'A{C}']\n",
    "    \n",
    "    return Af >= 0.5"
   ]
  },
  {
   "cell_type": "code",
   "execution_count": 151,
   "id": "047df20c",
   "metadata": {},
   "outputs": [],
   "source": [
    "def deep_neural_network(X, y, hidden_layers = (16, 16, 16), learning_rate = 0.001, n_iter = 3000):\n",
    "\n",
    "    \n",
    "    # initialisation parametres\n",
    "    dimensions = list(hidden_layers)\n",
    "    dimensions.insert(0, X.shape[0])\n",
    "    dimensions.append(y.shape[0])\n",
    "    np.random.seed(1)\n",
    "    parametres = initialisation(dimensions)\n",
    "    \n",
    "    C = len(parametres) // 2\n",
    "    \n",
    "    train_loss = []\n",
    "    train_acc = []\n",
    "\n",
    "    for i in tqdm(range(n_iter)):\n",
    "        \n",
    "        activations = forward_propagation(X, parametres)\n",
    "        gradients = back_propagation(parametres, activations, y)\n",
    "        parametres = update(gradients, parametres, learning_rate)\n",
    "    \n",
    "        Af = activations[f\"A{C}\"]\n",
    "        \n",
    "        if i %10 == 0:\n",
    "            # Train\n",
    "            train_loss.append(log_loss(y.flatten(), Af.flatten()))\n",
    "            y_pred = predict(X, parametres)\n",
    "            train_acc.append(accuracy_score(y.flatten(), y_pred.flatten()))\n",
    "\n",
    "\n",
    "\n",
    "    plt.figure(figsize=(12, 4))\n",
    "    plt.subplot(1, 2, 1)\n",
    "    plt.plot(train_loss, label='train loss')\n",
    "    plt.legend()\n",
    "    plt.subplot(1, 2, 2)\n",
    "    plt.plot(train_acc, label='train acc')\n",
    "    plt.legend()\n",
    "    plt.show()\n",
    "    \n",
    "\n",
    "    return parametres"
   ]
  },
  {
   "cell_type": "code",
   "execution_count": 155,
   "id": "e9e71cc0",
   "metadata": {},
   "outputs": [],
   "source": [
    "def evaluation(X, y, parametres):\n",
    "    # y_pred du jeu de test avec les paramètres finaux\n",
    "    y_pred = predict(X, parametres)\n",
    "    \n",
    "    # accuracy score et matrice de confusion\n",
    "    accuracy_test = accuracy_score(y.T, y_pred.T)\n",
    "    \n",
    "    # crosstab\n",
    "    crosstab = pd.crosstab(y, y_pred.astype('int'))\n",
    "    crosstab.index = ['test 0', 'test 1']\n",
    "    crosstab.columns = ['pred 0', 'pred 1']\n",
    "    crosstab = crosstab.T\n",
    "    \n",
    "    print(f\"L'accuracy sur le jeu de test est de {accuracy_test}\")\n",
    "    return crosstab"
   ]
  },
  {
   "cell_type": "markdown",
   "id": "3b087f94",
   "metadata": {},
   "source": [
    "## Test avec un cercle"
   ]
  },
  {
   "cell_type": "code",
   "execution_count": 158,
   "id": "3b3f74d4",
   "metadata": {},
   "outputs": [
    {
     "name": "stdout",
     "output_type": "stream",
     "text": [
      "dimensions de X: (2, 100)\n",
      "dimensions de y: (1, 100)\n"
     ]
    },
    {
     "data": {
      "image/png": "[encoded data removed]",
      "text/plain": [
       "<Figure size 640x480 with 1 Axes>"
      ]
     },
     "metadata": {},
     "output_type": "display_data"
    }
   ],
   "source": [
    "X, y = make_circles(n_samples=100, noise=0.1, factor=0.3, random_state=0)\n",
    "X = X.T\n",
    "y = y.reshape((1, y.shape[0]))\n",
    "\n",
    "print('dimensions de X:', X.shape)\n",
    "print('dimensions de y:', y.shape)\n",
    "\n",
    "plt.scatter(X[0, :], X[1, :], c=y, cmap='summer')\n",
    "plt.show()"
   ]
  },
  {
   "cell_type": "code",
   "execution_count": 159,
   "id": "1ed615e6",
   "metadata": {},
   "outputs": [],
   "source": [
    "X, y = make_circles(n_samples=100, noise=0.1, factor=0.3, random_state=0)\n",
    "\n",
    "X_train, X_test, y_train, y_test = train_test_split(X, y, test_size=0.2, random_state=1)\n",
    "\n",
    "X_train = X_train.T\n",
    "X_test = X_test.T\n",
    "y_train = y_train.reshape((1, y_train.shape[0]))\n",
    "y_test = y_test.reshape((1, y_test.shape[0]))"
   ]
  },
  {
   "cell_type": "code",
   "execution_count": 160,
   "id": "d6165d30",
   "metadata": {},
   "outputs": [
    {
     "name": "stderr",
     "output_type": "stream",
     "text": [
      "100%|████████████████████████████████████████████████████████████████████████████| 3000/3000 [00:01<00:00, 2184.53it/s]\n"
     ]
    },
    {
     "data": {
      "image/png": "[encoded data removed]",
      "text/plain": [
       "<Figure size 1200x400 with 2 Axes>"
      ]
     },
     "metadata": {},
     "output_type": "display_data"
    }
   ],
   "source": [
    "parametres = deep_neural_network(X=X_train, y=y_train, hidden_layers = (16, 16, 16), learning_rate = 0.1, n_iter = 3000)"
   ]
  },
  {
   "cell_type": "code",
   "execution_count": 161,
   "id": "6383572a",
   "metadata": {},
   "outputs": [
    {
     "data": {
      "text/plain": [
       "array([[False, False,  True, False,  True, False, False,  True,  True,\n",
       "         True, False,  True, False, False,  True,  True,  True, False,\n",
       "         True,  True]])"
      ]
     },
     "execution_count": 161,
     "metadata": {},
     "output_type": "execute_result"
    }
   ],
   "source": [
    "y_pred = predict(X_test, parametres)\n",
    "y_pred"
   ]
  },
  {
   "cell_type": "code",
   "execution_count": 162,
   "id": "1b51ee7f",
   "metadata": {},
   "outputs": [
    {
     "name": "stdout",
     "output_type": "stream",
     "text": [
      "L'accuracy sur le jeu de test est de 1.0\n"
     ]
    },
    {
     "data": {
      "text/html": [
       "<div>\n",
       "<style scoped>\n",
       "    .dataframe tbody tr th:only-of-type {\n",
       "        vertical-align: middle;\n",
       "    }\n",
       "\n",
       "    .dataframe tbody tr th {\n",
       "        vertical-align: top;\n",
       "    }\n",
       "\n",
       "    .dataframe thead th {\n",
       "        text-align: right;\n",
       "    }\n",
       "</style>\n",
       "<table border=\"1\" class=\"dataframe\">\n",
       "  <thead>\n",
       "    <tr style=\"text-align: right;\">\n",
       "      <th></th>\n",
       "      <th>test 0</th>\n",
       "      <th>test 1</th>\n",
       "    </tr>\n",
       "  </thead>\n",
       "  <tbody>\n",
       "    <tr>\n",
       "      <th>pred 0</th>\n",
       "      <td>9</td>\n",
       "      <td>0</td>\n",
       "    </tr>\n",
       "    <tr>\n",
       "      <th>pred 1</th>\n",
       "      <td>0</td>\n",
       "      <td>11</td>\n",
       "    </tr>\n",
       "  </tbody>\n",
       "</table>\n",
       "</div>"
      ],
      "text/plain": [
       "        test 0  test 1\n",
       "pred 0       9       0\n",
       "pred 1       0      11"
      ]
     },
     "execution_count": 162,
     "metadata": {},
     "output_type": "execute_result"
    }
   ],
   "source": [
    "evaluation(X_test, y_test, parametres)"
   ]
  },
  {
   "cell_type": "markdown",
   "id": "b2486b40",
   "metadata": {},
   "source": [
    "## Test sur les photos de chiens et chats"
   ]
  },
  {
   "cell_type": "code",
   "execution_count": 163,
   "id": "4265678f",
   "metadata": {},
   "outputs": [],
   "source": [
    "import h5py\n",
    "import utilities"
   ]
  },
  {
   "cell_type": "code",
   "execution_count": 164,
   "id": "a12a7362",
   "metadata": {},
   "outputs": [],
   "source": [
    "X_train, y_train, X_test, y_test = utilities.load_data()"
   ]
  },
  {
   "cell_type": "code",
   "execution_count": 165,
   "id": "90724177",
   "metadata": {},
   "outputs": [
    {
     "name": "stdout",
     "output_type": "stream",
     "text": [
      "(1000, 64, 64)\n",
      "(1000, 1)\n",
      "(200, 64, 64)\n",
      "(200, 1)\n"
     ]
    }
   ],
   "source": [
    "print(X_train.shape)\n",
    "print(y_train.shape)\n",
    "print(X_test.shape)\n",
    "print(y_test.shape)"
   ]
  },
  {
   "cell_type": "code",
   "execution_count": 166,
   "id": "a45ba707",
   "metadata": {},
   "outputs": [],
   "source": [
    "# standardisation entre 0 et 1\n",
    "X_train_scaler = X_train/255\n",
    "X_test_scaler = X_test/255\n",
    "\n",
    "# vectorisation des images\n",
    "X_train_scaler = X_train_scaler.reshape(X_train_scaler.shape[0], X_train_scaler.shape[1]*X_train_scaler.shape[2])\n",
    "X_test_scaler = X_test_scaler.reshape(X_test_scaler.shape[0], X_test_scaler.shape[1]*X_test_scaler.shape[2])\n",
    "\n",
    "# transposition des matrices\n",
    "X_train_scaler = X_train_scaler.T\n",
    "X_test_scaler = X_test_scaler.T\n",
    "y_train = y_train.reshape((1, y_train.shape[0]))\n",
    "y_test = y_test.reshape((1, y_test.shape[0]))"
   ]
  },
  {
   "cell_type": "code",
   "execution_count": 167,
   "id": "ccd194d6",
   "metadata": {},
   "outputs": [
    {
     "name": "stdout",
     "output_type": "stream",
     "text": [
      "(4096, 1000)\n",
      "(1, 1000)\n",
      "(4096, 200)\n",
      "(1, 200)\n"
     ]
    }
   ],
   "source": [
    "print(X_train_scaler.shape)\n",
    "print(y_train.shape)\n",
    "print(X_test_scaler.shape)\n",
    "print(y_test.shape)"
   ]
  },
  {
   "cell_type": "code",
   "execution_count": 176,
   "id": "1f0cbdd2",
   "metadata": {},
   "outputs": [
    {
     "name": "stderr",
     "output_type": "stream",
     "text": [
      "100%|██████████████████████████████████████████████████████████████████████████████| 3000/3000 [09:30<00:00,  5.26it/s]\n"
     ]
    },
    {
     "data": {
      "image/png": "[encoded data removed]",
      "text/plain": [
       "<Figure size 1200x400 with 2 Axes>"
      ]
     },
     "metadata": {},
     "output_type": "display_data"
    }
   ],
   "source": [
    "parametres = deep_neural_network(X=X_train_scaler, y=y_train, hidden_layers = (16, 16, 16), learning_rate = 0.1, n_iter = 3000)"
   ]
  },
  {
   "cell_type": "code",
   "execution_count": 170,
   "id": "256702a8",
   "metadata": {},
   "outputs": [
    {
     "name": "stdout",
     "output_type": "stream",
     "text": [
      "L'accuracy sur le jeu de test est de 0.505\n"
     ]
    },
    {
     "data": {
      "text/html": [
       "<div>\n",
       "<style scoped>\n",
       "    .dataframe tbody tr th:only-of-type {\n",
       "        vertical-align: middle;\n",
       "    }\n",
       "\n",
       "    .dataframe tbody tr th {\n",
       "        vertical-align: top;\n",
       "    }\n",
       "\n",
       "    .dataframe thead th {\n",
       "        text-align: right;\n",
       "    }\n",
       "</style>\n",
       "<table border=\"1\" class=\"dataframe\">\n",
       "  <thead>\n",
       "    <tr style=\"text-align: right;\">\n",
       "      <th></th>\n",
       "      <th>test 0</th>\n",
       "      <th>test 1</th>\n",
       "    </tr>\n",
       "  </thead>\n",
       "  <tbody>\n",
       "    <tr>\n",
       "      <th>pred 0</th>\n",
       "      <td>57</td>\n",
       "      <td>56</td>\n",
       "    </tr>\n",
       "    <tr>\n",
       "      <th>pred 1</th>\n",
       "      <td>43</td>\n",
       "      <td>44</td>\n",
       "    </tr>\n",
       "  </tbody>\n",
       "</table>\n",
       "</div>"
      ],
      "text/plain": [
       "        test 0  test 1\n",
       "pred 0      57      56\n",
       "pred 1      43      44"
      ]
     },
     "execution_count": 170,
     "metadata": {},
     "output_type": "execute_result"
    }
   ],
   "source": [
    "evaluation(X_test_scaler, y_test, parametres)"
   ]
  },
  {
   "cell_type": "code",
   "execution_count": null,
   "id": "639f296b",
   "metadata": {},
   "outputs": [],
   "source": []
  }
 ],
 "metadata": {
  "kernelspec": {
   "display_name": "Python 3 (ipykernel)",
   "language": "python",
   "name": "python3"
  },
  "language_info": {
   "codemirror_mode": {
    "name": "ipython",
    "version": 3
   },
   "file_extension": ".py",
   "mimetype": "text/x-python",
   "name": "python",
   "nbconvert_exporter": "python",
   "pygments_lexer": "ipython3",
   "version": "3.9.16"
  }
 },
 "nbformat": 4,
 "nbformat_minor": 5
}
