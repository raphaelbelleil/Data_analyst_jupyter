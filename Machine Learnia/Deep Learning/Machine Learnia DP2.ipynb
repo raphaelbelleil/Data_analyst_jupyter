{
 "cells": [
  {
   "cell_type": "code",
   "execution_count": 134,
   "id": "5b55112c",
   "metadata": {},
   "outputs": [],
   "source": [
    "import pandas as pd\n",
    "import numpy as np\n",
    "import matplotlib.pyplot as plt\n",
    "import seaborn as sns\n",
    "from sklearn.datasets import make_regression, make_classification, make_blobs, make_circles\n",
    "from sklearn.metrics import accuracy_score, confusion_matrix, ConfusionMatrixDisplay, classification_report, log_loss\n",
    "from sklearn.model_selection import train_test_split"
   ]
  },
  {
   "cell_type": "code",
   "execution_count": 2,
   "id": "e64c0d70",
   "metadata": {},
   "outputs": [],
   "source": [
    "from tqdm import tqdm"
   ]
  },
  {
   "cell_type": "markdown",
   "id": "4d9517c9",
   "metadata": {},
   "source": [
    "# RÉSEAU DE NEURONES (2 COUCHES)"
   ]
  },
  {
   "cell_type": "code",
   "execution_count": 3,
   "id": "b1ab6c4a",
   "metadata": {},
   "outputs": [],
   "source": [
    "def initialisation(X, n1, n2):\n",
    "    \n",
    "    n0 = X.shape[0]\n",
    "    \n",
    "    W1 = np.random.randn(n1, n0)\n",
    "    b1 = np.random.randn(n1, 1)\n",
    "    W2 = np.random.randn(n2, n1)\n",
    "    b2 = np.random.randn(n2, 1)\n",
    "    \n",
    "    parametres = {\n",
    "        'W1' : W1,\n",
    "        'b1' : b1,\n",
    "        'W2' : W2, \n",
    "        'b2' : b2\n",
    "    }\n",
    "    \n",
    "    return parametres"
   ]
  },
  {
   "cell_type": "code",
   "execution_count": 4,
   "id": "b3ba6098",
   "metadata": {},
   "outputs": [],
   "source": [
    "def forward_propagation(X, parametres):\n",
    "    \n",
    "    W1 = parametres['W1']\n",
    "    b1 = parametres['b1']\n",
    "    W2 = parametres['W2']\n",
    "    b2 = parametres['b2']\n",
    "    \n",
    "    Z1 = W1.dot(X) + b1\n",
    "    A1 = 1 / (1 + np.exp(-Z1))\n",
    "    \n",
    "    Z2 = W2.dot(A1) + b2\n",
    "    A2 = 1 / (1 + np.exp(-Z2))\n",
    "    \n",
    "    activations = {\n",
    "        'A1' : A1,\n",
    "        'A2' : A2\n",
    "    }\n",
    "    \n",
    "    return activations"
   ]
  },
  {
   "cell_type": "code",
   "execution_count": 5,
   "id": "a1f74c7a",
   "metadata": {},
   "outputs": [],
   "source": [
    "#def log_loss(A2, y):\n",
    "    #return 1 / len(y) * np.sum(-y * np.log(A2) - (1 - y) * np.log(1 - A2))"
   ]
  },
  {
   "cell_type": "code",
   "execution_count": 23,
   "id": "9ef905a9",
   "metadata": {},
   "outputs": [],
   "source": [
    "def back_propagation(parametres, activations, X, y):\n",
    "    \n",
    "    m = y.shape[1]\n",
    "    \n",
    "    W2 = parametres['W2'] \n",
    "    A1 = activations['A1']\n",
    "    A2 = activations['A2']\n",
    "    \n",
    "    dZ2 = A2-y\n",
    "    dZ1 = W2.T.dot(dZ2) * A1 * (1-A1)\n",
    "    \n",
    "    dW2 = (1/m) * dZ2.dot(A1.T)\n",
    "    db2 = (1/m) * np.sum(dZ2, axis=1, keepdims=True)\n",
    "    dW1 = (1/m) * dZ1.dot(X.T)\n",
    "    db1 = (1/m) * np.sum(dZ1, axis=1, keepdims=True)    \n",
    "    \n",
    "    gradients = {\n",
    "        'dW1' : dW1, \n",
    "        'db1' : db1,\n",
    "        'dW2' : dW2,\n",
    "        'db2' : db2\n",
    "    }\n",
    "    \n",
    "    return gradients"
   ]
  },
  {
   "cell_type": "code",
   "execution_count": 7,
   "id": "c99e321e",
   "metadata": {},
   "outputs": [],
   "source": [
    "def update(gradients, parametres, learning_rate):\n",
    "    \n",
    "    dW1 = gradients['dW1']\n",
    "    db1 = gradients['db1']\n",
    "    dW2 = gradients['dW2']\n",
    "    db2 = gradients['db2']\n",
    "\n",
    "    W1 = parametres['W1']\n",
    "    b1 = parametres['b1']\n",
    "    W2 = parametres['W2']\n",
    "    b2 = parametres['b2']\n",
    "    \n",
    "    W1 = W1 - learning_rate * dW1\n",
    "    b1 = b1 - learning_rate * db1\n",
    "    W2 = W2 - learning_rate * dW2\n",
    "    b2 = b2 - learning_rate * db2\n",
    "\n",
    "    parametres = {\n",
    "        'W1' : W1,\n",
    "        'b1' : b1,\n",
    "        'W2' : W2, \n",
    "        'b2' : b2\n",
    "    }\n",
    "    \n",
    "    return parametres"
   ]
  },
  {
   "cell_type": "code",
   "execution_count": 56,
   "id": "cea4d439",
   "metadata": {},
   "outputs": [],
   "source": [
    "def predict(X, parametres):\n",
    "    \n",
    "    activations = forward_propagation(X, parametres)\n",
    "    A2 = activations['A2']\n",
    "    \n",
    "    return A2 >= 0.5"
   ]
  },
  {
   "cell_type": "code",
   "execution_count": 151,
   "id": "047df20c",
   "metadata": {},
   "outputs": [],
   "source": [
    "def neural_network(X_train, y_train, n1, learning_rate = 0.1, n_iter = 1000):\n",
    "\n",
    "    n2 = y_train.shape[0]\n",
    "    parametres = initialisation(X_train, n1, n2)\n",
    "\n",
    "    train_loss = []\n",
    "    train_acc = []\n",
    "\n",
    "    for i in tqdm(range(n_iter)):\n",
    "        \n",
    "        activations = forward_propagation(X_train, parametres)\n",
    "        A2 = activations['A2']\n",
    "        gradients = back_propagation(parametres, activations, X_train, y_train)\n",
    "        parametres = update(gradients, parametres, learning_rate)\n",
    "\n",
    "        if i %10 == 0:\n",
    "            # Train\n",
    "            train_loss.append(log_loss(y_train, A2))\n",
    "            y_pred = predict(X_train, parametres)\n",
    "            train_acc.append(accuracy_score(y_train.flatten(), y_pred.flatten()))\n",
    "\n",
    "\n",
    "\n",
    "    plt.figure(figsize=(12, 4))\n",
    "    plt.subplot(1, 2, 1)\n",
    "    plt.plot(train_loss, label='train loss')\n",
    "    plt.legend()\n",
    "    plt.subplot(1, 2, 2)\n",
    "    plt.plot(train_acc, label='train acc')\n",
    "    plt.legend()\n",
    "    plt.show()\n",
    "    \n",
    "\n",
    "    return parametres"
   ]
  },
  {
   "cell_type": "code",
   "execution_count": 152,
   "id": "e9e71cc0",
   "metadata": {},
   "outputs": [],
   "source": [
    "def evaluation(X_test, y_test, parametres):\n",
    "    # y_pred du jeu de test avec les paramètres finaux\n",
    "    y_pred = predict(X_test, parametres)\n",
    "    \n",
    "    # accuracy score et matrice de confusion\n",
    "    accuracy_test = accuracy_score(y_test.T, y_pred.T)\n",
    "    \n",
    "    # crosstab\n",
    "    crosstab = pd.crosstab(y_test, y_pred.astype('int'))\n",
    "    crosstab.index = ['test 0', 'test 1']\n",
    "    crosstab.columns = ['pred 0', 'pred 1']\n",
    "    crosstab = crosstab.T\n",
    "    \n",
    "    print(f\"L'accuracy sur le jeu de test est de {accuracy_test}\")\n",
    "    return crosstab"
   ]
  },
  {
   "cell_type": "markdown",
   "id": "3b087f94",
   "metadata": {},
   "source": [
    "## Test avec un cercle"
   ]
  },
  {
   "cell_type": "code",
   "execution_count": 153,
   "id": "3b3f74d4",
   "metadata": {},
   "outputs": [],
   "source": [
    "X, y = make_circles(n_samples=1000, noise=0.1, factor=0.3, random_state=0)"
   ]
  },
  {
   "cell_type": "code",
   "execution_count": 154,
   "id": "aee58744",
   "metadata": {},
   "outputs": [],
   "source": [
    "X_train, X_test, y_train, y_test = train_test_split(X, y, test_size=0.2, random_state=1)"
   ]
  },
  {
   "cell_type": "code",
   "execution_count": 155,
   "id": "30d2691a",
   "metadata": {},
   "outputs": [],
   "source": [
    "X_train = X_train.T\n",
    "X_test = X_test.T\n",
    "y_train = y_train.reshape((1, y_train.shape[0]))\n",
    "y_test = y_test.reshape((1, y_test.shape[0]))"
   ]
  },
  {
   "cell_type": "code",
   "execution_count": 157,
   "id": "d6165d30",
   "metadata": {},
   "outputs": [
    {
     "name": "stderr",
     "output_type": "stream",
     "text": [
      "100%|█████████████████████████████████████████████████████████████████████████████| 1000/1000 [00:01<00:00, 706.12it/s]\n"
     ]
    },
    {
     "data": {
      "image/png": "[encoded data removed]",
      "text/plain": [
       "<Figure size 1200x400 with 2 Axes>"
      ]
     },
     "metadata": {},
     "output_type": "display_data"
    }
   ],
   "source": [
    "parametres = neural_network(X_train, y_train, n1=50, learning_rate = 0.1, n_iter = 1000)"
   ]
  },
  {
   "cell_type": "code",
   "execution_count": 158,
   "id": "f4b3d64d",
   "metadata": {},
   "outputs": [
    {
     "name": "stdout",
     "output_type": "stream",
     "text": [
      "L'accuracy sur le jeu de test est de 1.0\n"
     ]
    },
    {
     "data": {
      "text/html": [
       "<div>\n",
       "<style scoped>\n",
       "    .dataframe tbody tr th:only-of-type {\n",
       "        vertical-align: middle;\n",
       "    }\n",
       "\n",
       "    .dataframe tbody tr th {\n",
       "        vertical-align: top;\n",
       "    }\n",
       "\n",
       "    .dataframe thead th {\n",
       "        text-align: right;\n",
       "    }\n",
       "</style>\n",
       "<table border=\"1\" class=\"dataframe\">\n",
       "  <thead>\n",
       "    <tr style=\"text-align: right;\">\n",
       "      <th></th>\n",
       "      <th>test 0</th>\n",
       "      <th>test 1</th>\n",
       "    </tr>\n",
       "  </thead>\n",
       "  <tbody>\n",
       "    <tr>\n",
       "      <th>pred 0</th>\n",
       "      <td>100</td>\n",
       "      <td>0</td>\n",
       "    </tr>\n",
       "    <tr>\n",
       "      <th>pred 1</th>\n",
       "      <td>0</td>\n",
       "      <td>100</td>\n",
       "    </tr>\n",
       "  </tbody>\n",
       "</table>\n",
       "</div>"
      ],
      "text/plain": [
       "        test 0  test 1\n",
       "pred 0     100       0\n",
       "pred 1       0     100"
      ]
     },
     "execution_count": 158,
     "metadata": {},
     "output_type": "execute_result"
    }
   ],
   "source": [
    "evaluation(X_test, y_test, parametres)"
   ]
  },
  {
   "cell_type": "markdown",
   "id": "b2486b40",
   "metadata": {},
   "source": [
    "## Test sur les photos de chiens et chats"
   ]
  },
  {
   "cell_type": "code",
   "execution_count": 159,
   "id": "4265678f",
   "metadata": {},
   "outputs": [],
   "source": [
    "import h5py\n",
    "import utilities"
   ]
  },
  {
   "cell_type": "code",
   "execution_count": 160,
   "id": "a12a7362",
   "metadata": {},
   "outputs": [],
   "source": [
    "X_train, y_train, X_test, y_test = utilities.load_data()"
   ]
  },
  {
   "cell_type": "code",
   "execution_count": 161,
   "id": "90724177",
   "metadata": {},
   "outputs": [
    {
     "name": "stdout",
     "output_type": "stream",
     "text": [
      "(1000, 64, 64)\n",
      "(1000, 1)\n",
      "(200, 64, 64)\n",
      "(200, 1)\n"
     ]
    }
   ],
   "source": [
    "print(X_train.shape)\n",
    "print(y_train.shape)\n",
    "print(X_test.shape)\n",
    "print(y_test.shape)"
   ]
  },
  {
   "cell_type": "code",
   "execution_count": 162,
   "id": "a45ba707",
   "metadata": {},
   "outputs": [],
   "source": [
    "# standardisation entre 0 et 1\n",
    "X_train_scaler = X_train/255\n",
    "X_test_scaler = X_test/255\n",
    "\n",
    "# vectorisation des images\n",
    "X_train_scaler = X_train_scaler.reshape(X_train_scaler.shape[0], X_train_scaler.shape[1]*X_train_scaler.shape[2])\n",
    "X_test_scaler = X_test_scaler.reshape(X_test_scaler.shape[0], X_test_scaler.shape[1]*X_test_scaler.shape[2])\n",
    "\n",
    "# transposition des matrices\n",
    "X_train_scaler = X_train_scaler.T\n",
    "X_test_scaler = X_test_scaler.T\n",
    "y_train = y_train.reshape((1, y_train.shape[0]))\n",
    "y_test = y_test.reshape((1, y_test.shape[0]))"
   ]
  },
  {
   "cell_type": "code",
   "execution_count": 163,
   "id": "ccd194d6",
   "metadata": {},
   "outputs": [
    {
     "name": "stdout",
     "output_type": "stream",
     "text": [
      "(4096, 1000)\n",
      "(1, 1000)\n",
      "(4096, 200)\n",
      "(1, 200)\n"
     ]
    }
   ],
   "source": [
    "print(X_train_scaler.shape)\n",
    "print(y_train.shape)\n",
    "print(X_test_scaler.shape)\n",
    "print(y_test.shape)"
   ]
  },
  {
   "cell_type": "code",
   "execution_count": 166,
   "id": "1f0cbdd2",
   "metadata": {},
   "outputs": [
    {
     "name": "stderr",
     "output_type": "stream",
     "text": [
      "100%|████████████████████████████████████████████████████████████████████████████| 20000/20000 [08:04<00:00, 41.27it/s]\n"
     ]
    },
    {
     "data": {
      "image/png": "[encoded data removed]",
      "text/plain": [
       "<Figure size 1200x400 with 2 Axes>"
      ]
     },
     "metadata": {},
     "output_type": "display_data"
    }
   ],
   "source": [
    "parametres = neural_network(\n",
    "    X_train=X_train_scaler, y_train=y_train, n1=32,\n",
    "    learning_rate = 0.01, n_iter = 20000)"
   ]
  },
  {
   "cell_type": "code",
   "execution_count": 167,
   "id": "256702a8",
   "metadata": {},
   "outputs": [
    {
     "name": "stdout",
     "output_type": "stream",
     "text": [
      "L'accuracy sur le jeu de test est de 0.515\n"
     ]
    },
    {
     "data": {
      "text/html": [
       "<div>\n",
       "<style scoped>\n",
       "    .dataframe tbody tr th:only-of-type {\n",
       "        vertical-align: middle;\n",
       "    }\n",
       "\n",
       "    .dataframe tbody tr th {\n",
       "        vertical-align: top;\n",
       "    }\n",
       "\n",
       "    .dataframe thead th {\n",
       "        text-align: right;\n",
       "    }\n",
       "</style>\n",
       "<table border=\"1\" class=\"dataframe\">\n",
       "  <thead>\n",
       "    <tr style=\"text-align: right;\">\n",
       "      <th></th>\n",
       "      <th>test 0</th>\n",
       "      <th>test 1</th>\n",
       "    </tr>\n",
       "  </thead>\n",
       "  <tbody>\n",
       "    <tr>\n",
       "      <th>pred 0</th>\n",
       "      <td>47</td>\n",
       "      <td>44</td>\n",
       "    </tr>\n",
       "    <tr>\n",
       "      <th>pred 1</th>\n",
       "      <td>53</td>\n",
       "      <td>56</td>\n",
       "    </tr>\n",
       "  </tbody>\n",
       "</table>\n",
       "</div>"
      ],
      "text/plain": [
       "        test 0  test 1\n",
       "pred 0      47      44\n",
       "pred 1      53      56"
      ]
     },
     "execution_count": 167,
     "metadata": {},
     "output_type": "execute_result"
    }
   ],
   "source": [
    "evaluation(X_test_scaler, y_test, parametres)"
   ]
  },
  {
   "cell_type": "code",
   "execution_count": null,
   "id": "639f296b",
   "metadata": {},
   "outputs": [],
   "source": []
  }
 ],
 "metadata": {
  "kernelspec": {
   "display_name": "Python 3 (ipykernel)",
   "language": "python",
   "name": "python3"
  },
  "language_info": {
   "codemirror_mode": {
    "name": "ipython",
    "version": 3
   },
   "file_extension": ".py",
   "mimetype": "text/x-python",
   "name": "python",
   "nbconvert_exporter": "python",
   "pygments_lexer": "ipython3",
   "version": "3.9.16"
  }
 },
 "nbformat": 4,
 "nbformat_minor": 5
}
