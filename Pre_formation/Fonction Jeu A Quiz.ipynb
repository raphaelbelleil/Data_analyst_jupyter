{
 "cells": [
  {
   "cell_type": "code",
   "execution_count": 59,
   "id": "a43b8e3f",
   "metadata": {},
   "outputs": [
    {
     "name": "stdout",
     "output_type": "stream",
     "text": [
      "Avec un capital de départ de 1000 € et pour 10000 lancés, le capital à la fin sera de 882 €, le jeu A est donc perdant\n"
     ]
    }
   ],
   "source": [
    "import random\n",
    "import numpy\n",
    "\n",
    "# JEU A\n",
    "\n",
    "capital = 1000\n",
    "nombreDeLancé = 10000\n",
    "\n",
    "def resultatJeuA (capital, nombreDeLancé) : \n",
    "    pieceA = ['pile','pile','pile','pile','pile','pile','pile','pile','pile','pile','pile','pile','pile','pile','pile','pile','pile','pile','pile','pile','pile','pile','pile','pile','pile','pile','pile','pile','pile','pile','pile','pile','pile','pile','pile','pile','pile','pile','pile','pile','pile','pile','pile','pile','pile','pile','pile','pile','pile','face','face','face','face','face','face','face','face','face','face','face','face','face','face','face','face','face','face','face','face','face','face','face','face','face','face','face','face','face','face','face','face','face','face','face','face','face','face','face','face','face','face','face','face','face','face','face','face','face','face','face']\n",
    "    \n",
    "    for i in range (nombreDeLancé):\n",
    "        if random.choice(pieceA) == 'pile':\n",
    "            capital += 1\n",
    "        else : \n",
    "            capital -= 1\n",
    "    return capital\n",
    "\n",
    "\n",
    "resultatJeuA1 = resultatJeuA (1000, 10000)\n",
    "\n",
    "\n",
    "print ('Avec un capital de départ de', capital, '€ et pour', nombreDeLancé, 'lancés, le capital à la fin sera de', resultatJeuA1, '€, le jeu A est donc perdant')\n"
   ]
  },
  {
   "cell_type": "code",
   "execution_count": 60,
   "id": "69313ade",
   "metadata": {},
   "outputs": [
    {
     "name": "stdout",
     "output_type": "stream",
     "text": [
      "Avec un capital de départ de 1000 € et pour 10000 lancés, le capital à la fin sera de 838 €, le jeu A est donc perdant\n"
     ]
    }
   ],
   "source": [
    "# JEU B\n",
    "\n",
    "capital = 1000\n",
    "\n",
    "def resultatJeuB (capital, nombreDeLancé) :\n",
    "    pieceB1 = ['pile','pile','pile','pile','pile','pile','pile','pile','pile','face','face','face','face','face','face','face','face','face','face','face','face','face','face','face','face','face','face','face','face','face','face','face','face','face','face','face','face','face','face','face','face','face','face','face','face','face','face','face','face','face','face','face','face','face','face','face','face','face','face','face','face','face','face','face','face','face','face','face','face','face','face','face','face','face','face','face','face','face','face','face','face','face','face','face','face','face','face','face','face','face','face','face','face','face','face','face','face','face','face','face']\n",
    "    pieceB2 = ['pile','pile','pile','pile','pile','pile','pile','pile','pile','pile','pile','pile','pile','pile','pile','pile','pile','pile','pile','pile','pile','pile','pile','pile','pile','pile','pile','pile','pile','pile','pile','pile','pile','pile','pile','pile','pile','pile','pile','pile','pile','pile','pile','pile','pile','pile','pile','pile','pile','pile','pile','pile','pile','pile','pile','pile','pile','pile','pile','pile','pile','pile','pile','pile','pile','pile','pile','pile','pile','pile','pile','pile','pile','pile','face','face','face','face','face','face','face','face','face','face','face','face','face','face','face','face','face','face','face','face','face','face','face','face','face','face']\n",
    "\n",
    "    for i in range (nombreDeLancé):\n",
    "        if capital % 3==0 :\n",
    "            if random.choice(pieceB1) == 'pile':\n",
    "                capital += 1\n",
    "            else : \n",
    "                capital -= 1\n",
    "        else :\n",
    "            if random.choice(pieceB2) == 'pile':\n",
    "                capital += 1\n",
    "            else : \n",
    "                capital -= 1\n",
    "    return capital\n",
    "\n",
    "resultatJeuA2 = resultatJeuB (1000, 10000)\n",
    "print ('Avec un capital de départ de', capital, '€ et pour', nombreDeLancé, 'lancés, le capital à la fin sera de', resultatJeuA2, '€, le jeu A est donc perdant')\n"
   ]
  },
  {
   "cell_type": "code",
   "execution_count": 76,
   "id": "0d06664c",
   "metadata": {},
   "outputs": [
    {
     "name": "stdout",
     "output_type": "stream",
     "text": [
      "Avec un capital de départ de 1000 € et pour 1000000 lancés, le capital à la fin sera de 7026 €, le jeu A est donc Gagnant\n"
     ]
    }
   ],
   "source": [
    "# MIX JEU A ET B\n",
    "\n",
    "capital = 1000\n",
    "nombreDeLancé = 1000000\n",
    "\n",
    "def resultatJeuAB (capital, nombreDeLancé) : \n",
    "    \n",
    "    piecedeBase = ['pile','face']\n",
    "    pieceA = ['pile','pile','pile','pile','pile','pile','pile','pile','pile','pile','pile','pile','pile','pile','pile','pile','pile','pile','pile','pile','pile','pile','pile','pile','pile','pile','pile','pile','pile','pile','pile','pile','pile','pile','pile','pile','pile','pile','pile','pile','pile','pile','pile','pile','pile','pile','pile','pile','pile','face','face','face','face','face','face','face','face','face','face','face','face','face','face','face','face','face','face','face','face','face','face','face','face','face','face','face','face','face','face','face','face','face','face','face','face','face','face','face','face','face','face','face','face','face','face','face','face','face','face','face']\n",
    "    pieceB1 = ['pile','pile','pile','pile','pile','pile','pile','pile','pile','face','face','face','face','face','face','face','face','face','face','face','face','face','face','face','face','face','face','face','face','face','face','face','face','face','face','face','face','face','face','face','face','face','face','face','face','face','face','face','face','face','face','face','face','face','face','face','face','face','face','face','face','face','face','face','face','face','face','face','face','face','face','face','face','face','face','face','face','face','face','face','face','face','face','face','face','face','face','face','face','face','face','face','face','face','face','face','face','face','face','face']\n",
    "    pieceB2 = ['pile','pile','pile','pile','pile','pile','pile','pile','pile','pile','pile','pile','pile','pile','pile','pile','pile','pile','pile','pile','pile','pile','pile','pile','pile','pile','pile','pile','pile','pile','pile','pile','pile','pile','pile','pile','pile','pile','pile','pile','pile','pile','pile','pile','pile','pile','pile','pile','pile','pile','pile','pile','pile','pile','pile','pile','pile','pile','pile','pile','pile','pile','pile','pile','pile','pile','pile','pile','pile','pile','pile','pile','pile','pile','face','face','face','face','face','face','face','face','face','face','face','face','face','face','face','face','face','face','face','face','face','face','face','face','face','face']\n",
    "    \n",
    "    for i in range (nombreDeLancé) :\n",
    "        \n",
    "        if random.choice(piecedeBase) == 'pile':\n",
    "\n",
    "            if random.choice(pieceA) == 'pile':\n",
    "                capital += 1\n",
    "            else : \n",
    "                capital -= 1\n",
    "\n",
    "\n",
    "        else :\n",
    "\n",
    "            if capital % 3==0 :\n",
    "                if random.choice(pieceB1) == 'pile':\n",
    "                    capital += 1\n",
    "                else : \n",
    "                    capital -= 1\n",
    "            else :\n",
    "                if random.choice(pieceB2) == 'pile':\n",
    "                    capital += 1\n",
    "                else : \n",
    "                    capital -= 1\n",
    "                \n",
    "    return capital\n",
    "\n",
    "\n",
    "resultatJeu = resultatJeuAB (1000, 1000000)\n",
    "\n",
    "if resultatJeu > 1000 : \n",
    "    etatJeu = 'Gagnant'\n",
    "elif resultatJeu == 1000: \n",
    "    etatJeu = 'Neutre'\n",
    "else :\n",
    "    etatJeu = 'Perdant'\n",
    "\n",
    "print ('Avec un capital de départ de', capital, '€ et pour', nombreDeLancé, 'lancés, le capital à la fin sera de', resultatJeu, '€, le jeu A est donc', etatJeu)\n"
   ]
  },
  {
   "cell_type": "code",
   "execution_count": 112,
   "id": "ce562eee",
   "metadata": {},
   "outputs": [
    {
     "name": "stdout",
     "output_type": "stream",
     "text": [
      "moyenne des 6= 0.1685\n",
      "moyenne des 4= 0.169\n",
      "moyenne des 6= 0.3402\n",
      "moyenne des 4= 0.164\n",
      "moyenne des 6= 0.5058\n",
      "moyenne des 4= 0.177\n",
      "moyenne des 6= 0.6735\n",
      "moyenne des 4= 0.173\n",
      "moyenne des 6= 0.8371\n",
      "moyenne des 4= 0.184\n"
     ]
    }
   ],
   "source": [
    "import random\n",
    "import numpy\n",
    "    \n",
    "lancéAléatoire1 = []\n",
    "\n",
    "\n",
    "for i in range(5):\n",
    "\n",
    "    for n in range(10000):\n",
    "        lancéAléatoire1.append(random.randint(1,6))\n",
    "\n",
    "    sousEchantillon = random.sample(lancéAléatoire1, 1000)\n",
    "    m = lancéAléatoire1.count(6)\n",
    "    n = sousEchantillon.count(4) \n",
    "    print('moyenne des 6=',m/10000)\n",
    "    print('moyenne des 4=',n/1000)\n",
    "           \n",
    "     \n",
    "\n",
    "\n",
    "\n",
    "#for i in range (1000):\n",
    "#    lancéAléatoire2.append(random.choice(lancéAléatoire1))\n",
    "#print (lancéAléatoire2)\n",
    " "
   ]
  },
  {
   "cell_type": "code",
   "execution_count": null,
   "id": "d092da5a",
   "metadata": {},
   "outputs": [],
   "source": []
  },
  {
   "cell_type": "code",
   "execution_count": null,
   "id": "568ca7f1",
   "metadata": {},
   "outputs": [],
   "source": []
  }
 ],
 "metadata": {
  "kernelspec": {
   "display_name": "Python 3 (ipykernel)",
   "language": "python",
   "name": "python3"
  },
  "language_info": {
   "codemirror_mode": {
    "name": "ipython",
    "version": 3
   },
   "file_extension": ".py",
   "mimetype": "text/x-python",
   "name": "python",
   "nbconvert_exporter": "python",
   "pygments_lexer": "ipython3",
   "version": "3.9.12"
  }
 },
 "nbformat": 4,
 "nbformat_minor": 5
}
